{
 "cells": [
  {
   "cell_type": "markdown",
   "metadata": {},
   "source": [
    "# 爬取拉勾热门职位分析"
   ]
  },
  {
   "cell_type": "markdown",
   "metadata": {},
   "source": [
    "## 任务说明"
   ]
  },
  {
   "cell_type": "markdown",
   "metadata": {},
   "source": [
    "这一周，你的任务是从拉勾网上，选择自己最感兴趣的职位，获取相关数据并进行分析： \n",
    "- 这个岗位的薪酬情况是怎样的？ \n",
    "- 企业对该岗位的工作经验、学历要求是怎样的？ \n",
    "- 目前招募该岗位的都是哪些类型的企业？（融资阶段、公司规模、行业领域）"
   ]
  },
  {
   "cell_type": "markdown",
   "metadata": {},
   "source": [
    "# 数据准备"
   ]
  },
  {
   "cell_type": "code",
   "execution_count": 498,
   "metadata": {},
   "outputs": [],
   "source": [
    "import pandas as pd\n",
    "import matplotlib.pyplot as plt\n",
    "import seaborn as sns\n",
    "import numpy as np\n",
    "%matplotlib inline\n",
    "plt.rcParams['font.sans-serif'] = ['simhei']"
   ]
  },
  {
   "cell_type": "code",
   "execution_count": 499,
   "metadata": {},
   "outputs": [],
   "source": [
    "# 我爬取的数据是拉勾网上广州地区的数据挖掘岗位\n",
    "lagou = pd.read_csv('lagou_gz.csv')"
   ]
  },
  {
   "cell_type": "code",
   "execution_count": 500,
   "metadata": {},
   "outputs": [
    {
     "name": "stdout",
     "output_type": "stream",
     "text": [
      "<class 'pandas.core.frame.DataFrame'>\n",
      "RangeIndex: 282 entries, 0 to 281\n",
      "Data columns (total 9 columns):\n",
      "title           282 non-null object\n",
      "district        282 non-null object\n",
      "company         282 non-null object\n",
      "salary_min      282 non-null int64\n",
      "salary_max      282 non-null int64\n",
      "demand          282 non-null object\n",
      "company_info    282 non-null object\n",
      "tag             282 non-null object\n",
      "comment         282 non-null object\n",
      "dtypes: int64(2), object(7)\n",
      "memory usage: 19.9+ KB\n"
     ]
    }
   ],
   "source": [
    "lagou.info()"
   ]
  },
  {
   "cell_type": "markdown",
   "metadata": {},
   "source": [
    "- 数值型变量只有salary_min和salary_max两个\n",
    "- 其他都是字符变量"
   ]
  },
  {
   "cell_type": "code",
   "execution_count": 501,
   "metadata": {},
   "outputs": [
    {
     "data": {
      "text/html": [
       "<div>\n",
       "<style scoped>\n",
       "    .dataframe tbody tr th:only-of-type {\n",
       "        vertical-align: middle;\n",
       "    }\n",
       "\n",
       "    .dataframe tbody tr th {\n",
       "        vertical-align: top;\n",
       "    }\n",
       "\n",
       "    .dataframe thead th {\n",
       "        text-align: right;\n",
       "    }\n",
       "</style>\n",
       "<table border=\"1\" class=\"dataframe\">\n",
       "  <thead>\n",
       "    <tr style=\"text-align: right;\">\n",
       "      <th></th>\n",
       "      <th>title</th>\n",
       "      <th>district</th>\n",
       "      <th>company</th>\n",
       "      <th>salary_min</th>\n",
       "      <th>salary_max</th>\n",
       "      <th>demand</th>\n",
       "      <th>company_info</th>\n",
       "      <th>tag</th>\n",
       "      <th>comment</th>\n",
       "    </tr>\n",
       "  </thead>\n",
       "  <tbody>\n",
       "    <tr>\n",
       "      <th>0</th>\n",
       "      <td>算法工程师(J10259)</td>\n",
       "      <td>珠江新城</td>\n",
       "      <td>趣丸</td>\n",
       "      <td>25</td>\n",
       "      <td>50</td>\n",
       "      <td>\\n经验不限/硕士</td>\n",
       "      <td>游戏 / 不需要融资 / 500-2000人</td>\n",
       "      <td>社交\\n                                          ...</td>\n",
       "      <td>“大牛多,平台大,福利好,高薪”</td>\n",
       "    </tr>\n",
       "    <tr>\n",
       "      <th>1</th>\n",
       "      <td>2021校园招聘-算法工程师-GZ</td>\n",
       "      <td>冼村</td>\n",
       "      <td>深演智能</td>\n",
       "      <td>15</td>\n",
       "      <td>25</td>\n",
       "      <td>\\n经验在校/应届/硕士</td>\n",
       "      <td>人工智能服务 / D轮及以上 / 150-500人</td>\n",
       "      <td>广告营销\\n                                        ...</td>\n",
       "      <td>“技术氛围好；平台好；公司发展快”</td>\n",
       "    </tr>\n",
       "    <tr>\n",
       "      <th>2</th>\n",
       "      <td>深度学习算法工程师</td>\n",
       "      <td>天河区</td>\n",
       "      <td>深声科技</td>\n",
       "      <td>15</td>\n",
       "      <td>30</td>\n",
       "      <td>\\n经验不限/本科</td>\n",
       "      <td>人工智能服务 / 天使轮 / 50-150人</td>\n",
       "      <td>深度学习</td>\n",
       "      <td>“弹性工作,上班不打卡,五险一金,有餐补”</td>\n",
       "    </tr>\n",
       "    <tr>\n",
       "      <th>3</th>\n",
       "      <td>算法工程师（图像配准）</td>\n",
       "      <td>广州大道南</td>\n",
       "      <td>柏视医疗</td>\n",
       "      <td>15</td>\n",
       "      <td>30</td>\n",
       "      <td>\\n经验不限/硕士</td>\n",
       "      <td>医疗丨健康,数据服务 / A轮 / 50-150人</td>\n",
       "      <td>医疗健康\\n                                        ...</td>\n",
       "      <td>“团队实力强”</td>\n",
       "    </tr>\n",
       "    <tr>\n",
       "      <th>4</th>\n",
       "      <td>高级推荐算法工程师 (MJ003526)</td>\n",
       "      <td>番禺区</td>\n",
       "      <td>欢聚集团（JOYY Inc.）</td>\n",
       "      <td>30</td>\n",
       "      <td>60</td>\n",
       "      <td>\\n经验不限/本科</td>\n",
       "      <td>社交媒体,MCN｜直播平台 / 上市公司 / 2000人以上</td>\n",
       "      <td>C++\\n                                         ...</td>\n",
       "      <td>“健身房；餐补；免费咖啡”</td>\n",
       "    </tr>\n",
       "  </tbody>\n",
       "</table>\n",
       "</div>"
      ],
      "text/plain": [
       "                  title district          company  salary_min  salary_max  \\\n",
       "0         算法工程师(J10259)     珠江新城               趣丸          25          50   \n",
       "1     2021校园招聘-算法工程师-GZ       冼村             深演智能          15          25   \n",
       "2             深度学习算法工程师      天河区             深声科技          15          30   \n",
       "3           算法工程师（图像配准）    广州大道南             柏视医疗          15          30   \n",
       "4  高级推荐算法工程师 (MJ003526)      番禺区  欢聚集团（JOYY Inc.）          30          60   \n",
       "\n",
       "         demand                    company_info  \\\n",
       "0     \\n经验不限/硕士          游戏 / 不需要融资 / 500-2000人   \n",
       "1  \\n经验在校/应届/硕士       人工智能服务 / D轮及以上 / 150-500人   \n",
       "2     \\n经验不限/本科          人工智能服务 / 天使轮 / 50-150人   \n",
       "3     \\n经验不限/硕士       医疗丨健康,数据服务 / A轮 / 50-150人   \n",
       "4     \\n经验不限/本科  社交媒体,MCN｜直播平台 / 上市公司 / 2000人以上   \n",
       "\n",
       "                                                 tag                comment  \n",
       "0  社交\\n                                          ...       “大牛多,平台大,福利好,高薪”  \n",
       "1  广告营销\\n                                        ...      “技术氛围好；平台好；公司发展快”  \n",
       "2                                               深度学习  “弹性工作,上班不打卡,五险一金,有餐补”  \n",
       "3  医疗健康\\n                                        ...                “团队实力强”  \n",
       "4  C++\\n                                         ...          “健身房；餐补；免费咖啡”  "
      ]
     },
     "execution_count": 501,
     "metadata": {},
     "output_type": "execute_result"
    }
   ],
   "source": [
    "lagou.head()"
   ]
  },
  {
   "cell_type": "markdown",
   "metadata": {},
   "source": [
    "- 用web scraper爬取数据后，用excel做了一些简单的数据处理\n",
    "- 但还存在一些问题，后面还要进行数据清洗\n",
    "- demand列存在\\n，要去掉\n",
    "- demand可以切分为experience,qualification分别表示经验要求，学历要求\n",
    "- tag的\\n用、替换\n",
    "- comment的双引号也要去掉\n",
    "- company_info可以切分为domain,finance,scale分别表示公司所在领域，融资情况，公司规模"
   ]
  },
  {
   "cell_type": "code",
   "execution_count": 502,
   "metadata": {},
   "outputs": [
    {
     "data": {
      "text/html": [
       "<div>\n",
       "<style scoped>\n",
       "    .dataframe tbody tr th:only-of-type {\n",
       "        vertical-align: middle;\n",
       "    }\n",
       "\n",
       "    .dataframe tbody tr th {\n",
       "        vertical-align: top;\n",
       "    }\n",
       "\n",
       "    .dataframe thead th {\n",
       "        text-align: right;\n",
       "    }\n",
       "</style>\n",
       "<table border=\"1\" class=\"dataframe\">\n",
       "  <thead>\n",
       "    <tr style=\"text-align: right;\">\n",
       "      <th></th>\n",
       "      <th>salary_min</th>\n",
       "      <th>salary_max</th>\n",
       "    </tr>\n",
       "  </thead>\n",
       "  <tbody>\n",
       "    <tr>\n",
       "      <th>count</th>\n",
       "      <td>282.000000</td>\n",
       "      <td>282.000000</td>\n",
       "    </tr>\n",
       "    <tr>\n",
       "      <th>mean</th>\n",
       "      <td>18.872340</td>\n",
       "      <td>33.308511</td>\n",
       "    </tr>\n",
       "    <tr>\n",
       "      <th>std</th>\n",
       "      <td>7.900945</td>\n",
       "      <td>13.077127</td>\n",
       "    </tr>\n",
       "    <tr>\n",
       "      <th>min</th>\n",
       "      <td>3.000000</td>\n",
       "      <td>6.000000</td>\n",
       "    </tr>\n",
       "    <tr>\n",
       "      <th>25%</th>\n",
       "      <td>15.000000</td>\n",
       "      <td>25.000000</td>\n",
       "    </tr>\n",
       "    <tr>\n",
       "      <th>50%</th>\n",
       "      <td>19.500000</td>\n",
       "      <td>30.000000</td>\n",
       "    </tr>\n",
       "    <tr>\n",
       "      <th>75%</th>\n",
       "      <td>25.000000</td>\n",
       "      <td>40.000000</td>\n",
       "    </tr>\n",
       "    <tr>\n",
       "      <th>max</th>\n",
       "      <td>60.000000</td>\n",
       "      <td>70.000000</td>\n",
       "    </tr>\n",
       "  </tbody>\n",
       "</table>\n",
       "</div>"
      ],
      "text/plain": [
       "       salary_min  salary_max\n",
       "count  282.000000  282.000000\n",
       "mean    18.872340   33.308511\n",
       "std      7.900945   13.077127\n",
       "min      3.000000    6.000000\n",
       "25%     15.000000   25.000000\n",
       "50%     19.500000   30.000000\n",
       "75%     25.000000   40.000000\n",
       "max     60.000000   70.000000"
      ]
     },
     "execution_count": 502,
     "metadata": {},
     "output_type": "execute_result"
    }
   ],
   "source": [
    "lagou.describe()"
   ]
  },
  {
   "cell_type": "markdown",
   "metadata": {},
   "source": [
    "## 数据清洗"
   ]
  },
  {
   "cell_type": "markdown",
   "metadata": {},
   "source": [
    "### demand的清洗（去掉\\n，切分）"
   ]
  },
  {
   "cell_type": "code",
   "execution_count": 503,
   "metadata": {},
   "outputs": [
    {
     "data": {
      "text/html": [
       "<div>\n",
       "<style scoped>\n",
       "    .dataframe tbody tr th:only-of-type {\n",
       "        vertical-align: middle;\n",
       "    }\n",
       "\n",
       "    .dataframe tbody tr th {\n",
       "        vertical-align: top;\n",
       "    }\n",
       "\n",
       "    .dataframe thead th {\n",
       "        text-align: right;\n",
       "    }\n",
       "</style>\n",
       "<table border=\"1\" class=\"dataframe\">\n",
       "  <thead>\n",
       "    <tr style=\"text-align: right;\">\n",
       "      <th></th>\n",
       "      <th>demand</th>\n",
       "      <th>tag</th>\n",
       "    </tr>\n",
       "  </thead>\n",
       "  <tbody>\n",
       "    <tr>\n",
       "      <th>0</th>\n",
       "      <td>\\n经验不限/硕士</td>\n",
       "      <td>社交\\n                                          ...</td>\n",
       "    </tr>\n",
       "    <tr>\n",
       "      <th>1</th>\n",
       "      <td>\\n经验在校/应届/硕士</td>\n",
       "      <td>广告营销\\n                                        ...</td>\n",
       "    </tr>\n",
       "    <tr>\n",
       "      <th>2</th>\n",
       "      <td>\\n经验不限/本科</td>\n",
       "      <td>深度学习</td>\n",
       "    </tr>\n",
       "    <tr>\n",
       "      <th>3</th>\n",
       "      <td>\\n经验不限/硕士</td>\n",
       "      <td>医疗健康\\n                                        ...</td>\n",
       "    </tr>\n",
       "    <tr>\n",
       "      <th>4</th>\n",
       "      <td>\\n经验不限/本科</td>\n",
       "      <td>C++\\n                                         ...</td>\n",
       "    </tr>\n",
       "  </tbody>\n",
       "</table>\n",
       "</div>"
      ],
      "text/plain": [
       "         demand                                                tag\n",
       "0     \\n经验不限/硕士  社交\\n                                          ...\n",
       "1  \\n经验在校/应届/硕士  广告营销\\n                                        ...\n",
       "2     \\n经验不限/本科                                               深度学习\n",
       "3     \\n经验不限/硕士  医疗健康\\n                                        ...\n",
       "4     \\n经验不限/本科  C++\\n                                         ..."
      ]
     },
     "execution_count": 503,
     "metadata": {},
     "output_type": "execute_result"
    }
   ],
   "source": [
    "lagou[['demand', 'tag']].head()"
   ]
  },
  {
   "cell_type": "markdown",
   "metadata": {},
   "source": [
    "- 去掉demand的\\n\n",
    "- 用、替换tag的\\n"
   ]
  },
  {
   "cell_type": "code",
   "execution_count": 504,
   "metadata": {},
   "outputs": [
    {
     "data": {
      "text/plain": [
       "0       经验不限/硕士\n",
       "1    经验在校/应届/硕士\n",
       "2       经验不限/本科\n",
       "3       经验不限/硕士\n",
       "4       经验不限/本科\n",
       "Name: demand, dtype: object"
      ]
     },
     "execution_count": 504,
     "metadata": {},
     "output_type": "execute_result"
    }
   ],
   "source": [
    "lagou['demand'] = lagou['demand'].str.replace('\\n','')\n",
    "lagou['demand'].head()"
   ]
  },
  {
   "cell_type": "markdown",
   "metadata": {},
   "source": [
    "- 接下来做一个切分\n",
    "    - experience\n",
    "    - recent\n",
    "    - qualification"
   ]
  },
  {
   "cell_type": "code",
   "execution_count": 505,
   "metadata": {},
   "outputs": [
    {
     "data": {
      "text/plain": [
       "0          [经验不限, 硕士]\n",
       "1      [经验在校, 应届, 硕士]\n",
       "2          [经验不限, 本科]\n",
       "3          [经验不限, 硕士]\n",
       "4          [经验不限, 本科]\n",
       "5          [经验不限, 本科]\n",
       "6          [经验不限, 本科]\n",
       "7          [经验不限, 本科]\n",
       "8      [经验在校, 应届, 硕士]\n",
       "9          [经验不限, 硕士]\n",
       "10         [经验不限, 本科]\n",
       "11         [经验不限, 硕士]\n",
       "12         [经验不限, 硕士]\n",
       "13         [经验不限, 硕士]\n",
       "14         [经验不限, 本科]\n",
       "15       [经验1-3年, 本科]\n",
       "16       [经验1-3年, 硕士]\n",
       "17       [经验3-5年, 本科]\n",
       "18       [经验3-5年, 本科]\n",
       "19       [经验1-3年, 本科]\n",
       "20       [经验3-5年, 本科]\n",
       "21       [经验1-3年, 硕士]\n",
       "22      [经验5-10年, 本科]\n",
       "23      [经验5-10年, 本科]\n",
       "24       [经验1-3年, 本科]\n",
       "25       [经验3-5年, 本科]\n",
       "26     [经验在校, 应届, 本科]\n",
       "27       [经验3-5年, 本科]\n",
       "28       [经验3-5年, 本科]\n",
       "29       [经验3-5年, 本科]\n",
       "            ...      \n",
       "252      [经验1-3年, 硕士]\n",
       "253      [经验3-5年, 本科]\n",
       "254      [经验1-3年, 硕士]\n",
       "255      [经验3-5年, 本科]\n",
       "256      [经验3-5年, 本科]\n",
       "257      [经验1-3年, 本科]\n",
       "258      [经验3-5年, 本科]\n",
       "259      [经验3-5年, 本科]\n",
       "260    [经验在校, 应届, 硕士]\n",
       "261      [经验3-5年, 本科]\n",
       "262      [经验3-5年, 本科]\n",
       "263    [经验在校, 应届, 硕士]\n",
       "264    [经验在校, 应届, 本科]\n",
       "265      [经验3-5年, 本科]\n",
       "266      [经验3-5年, 不限]\n",
       "267     [经验5-10年, 本科]\n",
       "268    [经验在校, 应届, 本科]\n",
       "269      [经验3-5年, 硕士]\n",
       "270      [经验3-5年, 硕士]\n",
       "271    [经验在校, 应届, 硕士]\n",
       "272    [经验在校, 应届, 硕士]\n",
       "273    [经验在校, 应届, 本科]\n",
       "274    [经验在校, 应届, 硕士]\n",
       "275    [经验在校, 应届, 硕士]\n",
       "276        [经验不限, 不限]\n",
       "277      [经验1-3年, 本科]\n",
       "278     [经验5-10年, 本科]\n",
       "279      [经验3-5年, 本科]\n",
       "280    [经验在校, 应届, 不限]\n",
       "281    [经验在校, 应届, 硕士]\n",
       "Name: demand, Length: 282, dtype: object"
      ]
     },
     "execution_count": 505,
     "metadata": {},
     "output_type": "execute_result"
    }
   ],
   "source": [
    "split_list = lagou['demand'].str.split('/')\n",
    "split_list"
   ]
  },
  {
   "cell_type": "markdown",
   "metadata": {},
   "source": [
    "- 可以看到有些分为了2个元素，有些分为了3个元素\n",
    "- 所有3个元素的都是有应届，经验在校即表示应届身份，因此可以去掉应届，只保留经验在校"
   ]
  },
  {
   "cell_type": "code",
   "execution_count": 506,
   "metadata": {},
   "outputs": [],
   "source": [
    "demand = []\n",
    "qualification = []\n",
    "for i in range(len(split_list)):\n",
    "    demand.append(split_list[i][0])\n",
    "    qualification.append(split_list[i][-1])"
   ]
  },
  {
   "cell_type": "code",
   "execution_count": 507,
   "metadata": {},
   "outputs": [],
   "source": [
    "lagou['experience'] = demand\n",
    "lagou['qualification'] = qualification\n",
    "lagou = lagou.drop(['demand'], axis=1)"
   ]
  },
  {
   "cell_type": "code",
   "execution_count": 508,
   "metadata": {},
   "outputs": [
    {
     "data": {
      "text/html": [
       "<div>\n",
       "<style scoped>\n",
       "    .dataframe tbody tr th:only-of-type {\n",
       "        vertical-align: middle;\n",
       "    }\n",
       "\n",
       "    .dataframe tbody tr th {\n",
       "        vertical-align: top;\n",
       "    }\n",
       "\n",
       "    .dataframe thead th {\n",
       "        text-align: right;\n",
       "    }\n",
       "</style>\n",
       "<table border=\"1\" class=\"dataframe\">\n",
       "  <thead>\n",
       "    <tr style=\"text-align: right;\">\n",
       "      <th></th>\n",
       "      <th>title</th>\n",
       "      <th>district</th>\n",
       "      <th>company</th>\n",
       "      <th>salary_min</th>\n",
       "      <th>salary_max</th>\n",
       "      <th>company_info</th>\n",
       "      <th>tag</th>\n",
       "      <th>comment</th>\n",
       "      <th>experience</th>\n",
       "      <th>qualification</th>\n",
       "    </tr>\n",
       "  </thead>\n",
       "  <tbody>\n",
       "    <tr>\n",
       "      <th>0</th>\n",
       "      <td>算法工程师(J10259)</td>\n",
       "      <td>珠江新城</td>\n",
       "      <td>趣丸</td>\n",
       "      <td>25</td>\n",
       "      <td>50</td>\n",
       "      <td>游戏 / 不需要融资 / 500-2000人</td>\n",
       "      <td>社交\\n                                          ...</td>\n",
       "      <td>“大牛多,平台大,福利好,高薪”</td>\n",
       "      <td>经验不限</td>\n",
       "      <td>硕士</td>\n",
       "    </tr>\n",
       "    <tr>\n",
       "      <th>1</th>\n",
       "      <td>2021校园招聘-算法工程师-GZ</td>\n",
       "      <td>冼村</td>\n",
       "      <td>深演智能</td>\n",
       "      <td>15</td>\n",
       "      <td>25</td>\n",
       "      <td>人工智能服务 / D轮及以上 / 150-500人</td>\n",
       "      <td>广告营销\\n                                        ...</td>\n",
       "      <td>“技术氛围好；平台好；公司发展快”</td>\n",
       "      <td>经验在校</td>\n",
       "      <td>硕士</td>\n",
       "    </tr>\n",
       "    <tr>\n",
       "      <th>2</th>\n",
       "      <td>深度学习算法工程师</td>\n",
       "      <td>天河区</td>\n",
       "      <td>深声科技</td>\n",
       "      <td>15</td>\n",
       "      <td>30</td>\n",
       "      <td>人工智能服务 / 天使轮 / 50-150人</td>\n",
       "      <td>深度学习</td>\n",
       "      <td>“弹性工作,上班不打卡,五险一金,有餐补”</td>\n",
       "      <td>经验不限</td>\n",
       "      <td>本科</td>\n",
       "    </tr>\n",
       "    <tr>\n",
       "      <th>3</th>\n",
       "      <td>算法工程师（图像配准）</td>\n",
       "      <td>广州大道南</td>\n",
       "      <td>柏视医疗</td>\n",
       "      <td>15</td>\n",
       "      <td>30</td>\n",
       "      <td>医疗丨健康,数据服务 / A轮 / 50-150人</td>\n",
       "      <td>医疗健康\\n                                        ...</td>\n",
       "      <td>“团队实力强”</td>\n",
       "      <td>经验不限</td>\n",
       "      <td>硕士</td>\n",
       "    </tr>\n",
       "    <tr>\n",
       "      <th>4</th>\n",
       "      <td>高级推荐算法工程师 (MJ003526)</td>\n",
       "      <td>番禺区</td>\n",
       "      <td>欢聚集团（JOYY Inc.）</td>\n",
       "      <td>30</td>\n",
       "      <td>60</td>\n",
       "      <td>社交媒体,MCN｜直播平台 / 上市公司 / 2000人以上</td>\n",
       "      <td>C++\\n                                         ...</td>\n",
       "      <td>“健身房；餐补；免费咖啡”</td>\n",
       "      <td>经验不限</td>\n",
       "      <td>本科</td>\n",
       "    </tr>\n",
       "  </tbody>\n",
       "</table>\n",
       "</div>"
      ],
      "text/plain": [
       "                  title district          company  salary_min  salary_max  \\\n",
       "0         算法工程师(J10259)     珠江新城               趣丸          25          50   \n",
       "1     2021校园招聘-算法工程师-GZ       冼村             深演智能          15          25   \n",
       "2             深度学习算法工程师      天河区             深声科技          15          30   \n",
       "3           算法工程师（图像配准）    广州大道南             柏视医疗          15          30   \n",
       "4  高级推荐算法工程师 (MJ003526)      番禺区  欢聚集团（JOYY Inc.）          30          60   \n",
       "\n",
       "                     company_info  \\\n",
       "0          游戏 / 不需要融资 / 500-2000人   \n",
       "1       人工智能服务 / D轮及以上 / 150-500人   \n",
       "2          人工智能服务 / 天使轮 / 50-150人   \n",
       "3       医疗丨健康,数据服务 / A轮 / 50-150人   \n",
       "4  社交媒体,MCN｜直播平台 / 上市公司 / 2000人以上   \n",
       "\n",
       "                                                 tag                comment  \\\n",
       "0  社交\\n                                          ...       “大牛多,平台大,福利好,高薪”   \n",
       "1  广告营销\\n                                        ...      “技术氛围好；平台好；公司发展快”   \n",
       "2                                               深度学习  “弹性工作,上班不打卡,五险一金,有餐补”   \n",
       "3  医疗健康\\n                                        ...                “团队实力强”   \n",
       "4  C++\\n                                         ...          “健身房；餐补；免费咖啡”   \n",
       "\n",
       "  experience qualification  \n",
       "0       经验不限            硕士  \n",
       "1       经验在校            硕士  \n",
       "2       经验不限            本科  \n",
       "3       经验不限            硕士  \n",
       "4       经验不限            本科  "
      ]
     },
     "execution_count": 508,
     "metadata": {},
     "output_type": "execute_result"
    }
   ],
   "source": [
    "lagou.head()"
   ]
  },
  {
   "cell_type": "markdown",
   "metadata": {},
   "source": [
    "### 替换tag的\\n"
   ]
  },
  {
   "cell_type": "code",
   "execution_count": 509,
   "metadata": {},
   "outputs": [
    {
     "data": {
      "text/plain": [
       "0                         社交、推荐算法\n",
       "1                   广告营销、大数据、数仓建模\n",
       "2                            深度学习\n",
       "3    医疗健康、医学图像配准、CUDA编程、GPU加速、多模态\n",
       "4            C++、Python、Java、推荐算法\n",
       "Name: tag, dtype: object"
      ]
     },
     "execution_count": 509,
     "metadata": {},
     "output_type": "execute_result"
    }
   ],
   "source": [
    "lagou['tag'] = lagou['tag'].str.replace('\\n', '、')\n",
    "lagou['tag'] = lagou['tag'].str.replace(' ', '')\n",
    "lagou['tag'].head()"
   ]
  },
  {
   "cell_type": "markdown",
   "metadata": {},
   "source": [
    "### 去掉comment的双引号"
   ]
  },
  {
   "cell_type": "code",
   "execution_count": 510,
   "metadata": {},
   "outputs": [
    {
     "data": {
      "text/plain": [
       "0         大牛多,平台大,福利好,高薪\n",
       "1        技术氛围好；平台好；公司发展快\n",
       "2    弹性工作,上班不打卡,五险一金,有餐补\n",
       "3                  团队实力强\n",
       "4            健身房；餐补；免费咖啡\n",
       "Name: comment, dtype: object"
      ]
     },
     "execution_count": 510,
     "metadata": {},
     "output_type": "execute_result"
    }
   ],
   "source": [
    "lagou['comment'] = lagou['comment'].str.replace('“','')\n",
    "lagou['comment'] = lagou['comment'].str.replace('”','')\n",
    "lagou['comment'].head()"
   ]
  },
  {
   "cell_type": "markdown",
   "metadata": {},
   "source": [
    "### 切分company_info"
   ]
  },
  {
   "cell_type": "code",
   "execution_count": 511,
   "metadata": {},
   "outputs": [
    {
     "data": {
      "text/plain": [
       "0                        [游戏, 不需要融资, 500-2000人]\n",
       "1                     [人工智能服务, D轮及以上, 150-500人]\n",
       "2                        [人工智能服务, 天使轮, 50-150人]\n",
       "3                     [医疗丨健康,数据服务, A轮, 50-150人]\n",
       "4                [社交媒体,MCN｜直播平台, 上市公司, 2000人以上]\n",
       "5                    [内容资讯,短视频, D轮及以上, 2000人以上]\n",
       "6                [社交媒体,MCN｜直播平台, 上市公司, 2000人以上]\n",
       "7                       [工具类产品, 不需要融资, 50-150人]\n",
       "8         [软件服务｜咨询,IT技术服务｜咨询, 不需要融资, 500-2000人]\n",
       "9                   [物联网,数据服务｜咨询, C轮, 150-500人]\n",
       "10                [IT技术服务｜咨询, 不需要融资, 500-2000人]\n",
       "11                       [人工智能服务, 天使轮, 50-150人]\n",
       "12          [软件服务｜咨询,IT技术服务｜咨询, 不需要融资, 50-150人]\n",
       "13                    [医疗丨健康,数据服务, A轮, 50-150人]\n",
       "14                  [人工智能服务,在线教育, A轮, 150-500人]\n",
       "15                      [人工智能服务, 不需要融资, 15-50人]\n",
       "16                       [工具类产品, 不需要融资, 15-50人]\n",
       "17                          [在线教育, B轮, 2000人以上]\n",
       "18               [数据服务｜咨询,营销服务｜咨询, B轮, 50-150人]\n",
       "19                       [工具类产品, 不需要融资, 15-50人]\n",
       "20                     [电商平台, D轮及以上, 500-2000人]\n",
       "21               [人工智能服务,软件服务｜咨询, B轮, 150-500人]\n",
       "22                        [电商平台, C轮, 500-2000人]\n",
       "23                     [数据服务｜咨询, A轮, 500-2000人]\n",
       "24                         [内容资讯, 未融资, 50-150人]\n",
       "25                      [智能硬件,物联网, A轮, 50-150人]\n",
       "26                           [游戏, B轮, 150-500人]\n",
       "27               [数据服务｜咨询,营销服务｜咨询, B轮, 50-150人]\n",
       "28                     [在线教育, 不需要融资, 500-2000人]\n",
       "29                            [游戏, A轮, 50-150人]\n",
       "                         ...                   \n",
       "252              [社交媒体,MCN｜直播平台, 上市公司, 2000人以上]\n",
       "253              [音频｜视频媒体,短视频, 上市公司, 500-2000人]\n",
       "254                      [工具类产品, 不需要融资, 15-50人]\n",
       "255              [音频｜视频媒体,短视频, 上市公司, 500-2000人]\n",
       "256              [社交媒体,MCN｜直播平台, 上市公司, 2000人以上]\n",
       "257              [音频｜视频媒体,短视频, 上市公司, 500-2000人]\n",
       "258              [音频｜视频媒体,短视频, 上市公司, 500-2000人]\n",
       "259              [社交媒体,MCN｜直播平台, 上市公司, 2000人以上]\n",
       "260    [软件服务｜咨询,IT技术服务｜咨询,网络通信, 不需要融资, 2000人以上]\n",
       "261              [社交媒体,MCN｜直播平台, 上市公司, 2000人以上]\n",
       "262                      [人工智能服务, 天使轮, 50-150人]\n",
       "263              [人工智能服务,软件服务｜咨询, B轮, 150-500人]\n",
       "264                      [游戏, 不需要融资, 500-2000人]\n",
       "265              [音频｜视频媒体,短视频, 上市公司, 500-2000人]\n",
       "266                     [人工智能服务, 不需要融资, 15-50人]\n",
       "267              [社交媒体,MCN｜直播平台, 上市公司, 2000人以上]\n",
       "268                     [人工智能服务, 不需要融资, 15-50人]\n",
       "269              [社交媒体,MCN｜直播平台, 上市公司, 2000人以上]\n",
       "270                   [制造业,智能硬件, 上市公司, 2000人以上]\n",
       "271                   [制造业,智能硬件, 上市公司, 2000人以上]\n",
       "272                   [制造业,智能硬件, 上市公司, 2000人以上]\n",
       "273                   [制造业,智能硬件, 上市公司, 2000人以上]\n",
       "274                   [制造业,智能硬件, 上市公司, 2000人以上]\n",
       "275                   [人工智能服务, 上市公司, 500-2000人]\n",
       "276                   [制造业,智能硬件, 上市公司, 2000人以上]\n",
       "277                   [制造业,智能硬件, 上市公司, 2000人以上]\n",
       "278                   [制造业,智能硬件, 上市公司, 2000人以上]\n",
       "279                   [制造业,智能硬件, 上市公司, 2000人以上]\n",
       "280                   [制造业,智能硬件, 上市公司, 2000人以上]\n",
       "281                   [人工智能服务, 上市公司, 500-2000人]\n",
       "Name: company_info, Length: 282, dtype: object"
      ]
     },
     "execution_count": 511,
     "metadata": {},
     "output_type": "execute_result"
    }
   ],
   "source": [
    "lagou['company_info'] = lagou['company_info'].str.replace(' ', '')\n",
    "split_list = lagou['company_info'].str.split('/')\n",
    "split_list"
   ]
  },
  {
   "cell_type": "code",
   "execution_count": 512,
   "metadata": {},
   "outputs": [],
   "source": [
    "domain = []\n",
    "finance = []\n",
    "scale = []\n",
    "for i in range(len(split_list)):\n",
    "    domain.append(split_list[i][0])\n",
    "    finance.append(split_list[i][1])\n",
    "    scale.append(split_list[i][2])"
   ]
  },
  {
   "cell_type": "code",
   "execution_count": 513,
   "metadata": {},
   "outputs": [],
   "source": [
    "lagou['domain'] = domain\n",
    "lagou['finance'] = finance\n",
    "lagou['scale'] = scale\n",
    "lagou = lagou.drop(['company_info'], axis=1)"
   ]
  },
  {
   "cell_type": "code",
   "execution_count": 514,
   "metadata": {},
   "outputs": [
    {
     "data": {
      "text/html": [
       "<div>\n",
       "<style scoped>\n",
       "    .dataframe tbody tr th:only-of-type {\n",
       "        vertical-align: middle;\n",
       "    }\n",
       "\n",
       "    .dataframe tbody tr th {\n",
       "        vertical-align: top;\n",
       "    }\n",
       "\n",
       "    .dataframe thead th {\n",
       "        text-align: right;\n",
       "    }\n",
       "</style>\n",
       "<table border=\"1\" class=\"dataframe\">\n",
       "  <thead>\n",
       "    <tr style=\"text-align: right;\">\n",
       "      <th></th>\n",
       "      <th>title</th>\n",
       "      <th>district</th>\n",
       "      <th>company</th>\n",
       "      <th>salary_min</th>\n",
       "      <th>salary_max</th>\n",
       "      <th>tag</th>\n",
       "      <th>comment</th>\n",
       "      <th>experience</th>\n",
       "      <th>qualification</th>\n",
       "      <th>domain</th>\n",
       "      <th>finance</th>\n",
       "      <th>scale</th>\n",
       "    </tr>\n",
       "  </thead>\n",
       "  <tbody>\n",
       "    <tr>\n",
       "      <th>0</th>\n",
       "      <td>算法工程师(J10259)</td>\n",
       "      <td>珠江新城</td>\n",
       "      <td>趣丸</td>\n",
       "      <td>25</td>\n",
       "      <td>50</td>\n",
       "      <td>社交、推荐算法</td>\n",
       "      <td>大牛多,平台大,福利好,高薪</td>\n",
       "      <td>经验不限</td>\n",
       "      <td>硕士</td>\n",
       "      <td>游戏</td>\n",
       "      <td>不需要融资</td>\n",
       "      <td>500-2000人</td>\n",
       "    </tr>\n",
       "    <tr>\n",
       "      <th>1</th>\n",
       "      <td>2021校园招聘-算法工程师-GZ</td>\n",
       "      <td>冼村</td>\n",
       "      <td>深演智能</td>\n",
       "      <td>15</td>\n",
       "      <td>25</td>\n",
       "      <td>广告营销、大数据、数仓建模</td>\n",
       "      <td>技术氛围好；平台好；公司发展快</td>\n",
       "      <td>经验在校</td>\n",
       "      <td>硕士</td>\n",
       "      <td>人工智能服务</td>\n",
       "      <td>D轮及以上</td>\n",
       "      <td>150-500人</td>\n",
       "    </tr>\n",
       "    <tr>\n",
       "      <th>2</th>\n",
       "      <td>深度学习算法工程师</td>\n",
       "      <td>天河区</td>\n",
       "      <td>深声科技</td>\n",
       "      <td>15</td>\n",
       "      <td>30</td>\n",
       "      <td>深度学习</td>\n",
       "      <td>弹性工作,上班不打卡,五险一金,有餐补</td>\n",
       "      <td>经验不限</td>\n",
       "      <td>本科</td>\n",
       "      <td>人工智能服务</td>\n",
       "      <td>天使轮</td>\n",
       "      <td>50-150人</td>\n",
       "    </tr>\n",
       "    <tr>\n",
       "      <th>3</th>\n",
       "      <td>算法工程师（图像配准）</td>\n",
       "      <td>广州大道南</td>\n",
       "      <td>柏视医疗</td>\n",
       "      <td>15</td>\n",
       "      <td>30</td>\n",
       "      <td>医疗健康、医学图像配准、CUDA编程、GPU加速、多模态</td>\n",
       "      <td>团队实力强</td>\n",
       "      <td>经验不限</td>\n",
       "      <td>硕士</td>\n",
       "      <td>医疗丨健康,数据服务</td>\n",
       "      <td>A轮</td>\n",
       "      <td>50-150人</td>\n",
       "    </tr>\n",
       "    <tr>\n",
       "      <th>4</th>\n",
       "      <td>高级推荐算法工程师 (MJ003526)</td>\n",
       "      <td>番禺区</td>\n",
       "      <td>欢聚集团（JOYY Inc.）</td>\n",
       "      <td>30</td>\n",
       "      <td>60</td>\n",
       "      <td>C++、Python、Java、推荐算法</td>\n",
       "      <td>健身房；餐补；免费咖啡</td>\n",
       "      <td>经验不限</td>\n",
       "      <td>本科</td>\n",
       "      <td>社交媒体,MCN｜直播平台</td>\n",
       "      <td>上市公司</td>\n",
       "      <td>2000人以上</td>\n",
       "    </tr>\n",
       "  </tbody>\n",
       "</table>\n",
       "</div>"
      ],
      "text/plain": [
       "                  title district          company  salary_min  salary_max  \\\n",
       "0         算法工程师(J10259)     珠江新城               趣丸          25          50   \n",
       "1     2021校园招聘-算法工程师-GZ       冼村             深演智能          15          25   \n",
       "2             深度学习算法工程师      天河区             深声科技          15          30   \n",
       "3           算法工程师（图像配准）    广州大道南             柏视医疗          15          30   \n",
       "4  高级推荐算法工程师 (MJ003526)      番禺区  欢聚集团（JOYY Inc.）          30          60   \n",
       "\n",
       "                            tag              comment experience qualification  \\\n",
       "0                       社交、推荐算法       大牛多,平台大,福利好,高薪       经验不限            硕士   \n",
       "1                 广告营销、大数据、数仓建模      技术氛围好；平台好；公司发展快       经验在校            硕士   \n",
       "2                          深度学习  弹性工作,上班不打卡,五险一金,有餐补       经验不限            本科   \n",
       "3  医疗健康、医学图像配准、CUDA编程、GPU加速、多模态                团队实力强       经验不限            硕士   \n",
       "4          C++、Python、Java、推荐算法          健身房；餐补；免费咖啡       经验不限            本科   \n",
       "\n",
       "          domain finance      scale  \n",
       "0             游戏   不需要融资  500-2000人  \n",
       "1         人工智能服务   D轮及以上   150-500人  \n",
       "2         人工智能服务     天使轮    50-150人  \n",
       "3     医疗丨健康,数据服务      A轮    50-150人  \n",
       "4  社交媒体,MCN｜直播平台    上市公司    2000人以上  "
      ]
     },
     "execution_count": 514,
     "metadata": {},
     "output_type": "execute_result"
    }
   ],
   "source": [
    "lagou.head()"
   ]
  },
  {
   "cell_type": "code",
   "execution_count": 515,
   "metadata": {},
   "outputs": [],
   "source": [
    "# domain列有很多包含着多个领域，用|和，分隔开，所以我们还要切分这些领域，将其分散到domain1,domain2,...\n",
    "lagou['domain'] = lagou['domain'].str.replace('｜', ',').str.replace('丨', ',').str.replace('、', ',')  # 把其他分隔符先替换为,\n",
    "split_list = lagou['domain'].str.split(',')  # 再按照,进行分割\n"
   ]
  },
  {
   "cell_type": "code",
   "execution_count": 516,
   "metadata": {},
   "outputs": [
    {
     "data": {
      "text/plain": [
       "array(['游戏', '人工智能服务', '医疗', '社交媒体', '内容资讯', '工具类产品', '软件服务', '物联网',\n",
       "       'IT技术服务', '在线教育', '数据服务', '电商平台', '智能硬件', '移动互联网', '新零售', '科技金融',\n",
       "       '音频', '文化传媒', '房地产', '金融业', '制造业', '企业服务', '营销服务', '其他', '旅游',\n",
       "       '硬件', '网络通信', 'MCN', '教育', '信息安全', '休闲', '社交平台', '人工智能', '电商',\n",
       "       '文娱', '汽车'], dtype=object)"
      ]
     },
     "execution_count": 516,
     "metadata": {},
     "output_type": "execute_result"
    }
   ],
   "source": [
    "# 分割后，由于每家公司包含了多个domain，因此在其中取出现的第一个domain作为该公司唯一的domain\n",
    "domain_list = []\n",
    "for i in range(len(split_list)):\n",
    "    domain_list.append(split_list[i][0])\n",
    "lagou['uni_domain'] = domain_list\n",
    "lagou['uni_domain'].unique()"
   ]
  },
  {
   "cell_type": "code",
   "execution_count": 517,
   "metadata": {},
   "outputs": [],
   "source": [
    "# 如果仔细看的话，人工智能服务和人工智能其实是同一个东西，需要把人工智能服务修改为人工智能\n",
    "lagou['uni_domain'] = lagou['uni_domain'].str.replace('人工智能服务', '人工智能')"
   ]
  },
  {
   "cell_type": "code",
   "execution_count": 518,
   "metadata": {},
   "outputs": [
    {
     "data": {
      "text/html": [
       "<div>\n",
       "<style scoped>\n",
       "    .dataframe tbody tr th:only-of-type {\n",
       "        vertical-align: middle;\n",
       "    }\n",
       "\n",
       "    .dataframe tbody tr th {\n",
       "        vertical-align: top;\n",
       "    }\n",
       "\n",
       "    .dataframe thead th {\n",
       "        text-align: right;\n",
       "    }\n",
       "</style>\n",
       "<table border=\"1\" class=\"dataframe\">\n",
       "  <thead>\n",
       "    <tr style=\"text-align: right;\">\n",
       "      <th></th>\n",
       "      <th>title</th>\n",
       "      <th>district</th>\n",
       "      <th>company</th>\n",
       "      <th>salary_min</th>\n",
       "      <th>salary_max</th>\n",
       "      <th>experience</th>\n",
       "      <th>qualification</th>\n",
       "      <th>finance</th>\n",
       "      <th>scale</th>\n",
       "      <th>uni_domain</th>\n",
       "    </tr>\n",
       "  </thead>\n",
       "  <tbody>\n",
       "    <tr>\n",
       "      <th>0</th>\n",
       "      <td>算法工程师(J10259)</td>\n",
       "      <td>珠江新城</td>\n",
       "      <td>趣丸</td>\n",
       "      <td>25</td>\n",
       "      <td>50</td>\n",
       "      <td>经验不限</td>\n",
       "      <td>硕士</td>\n",
       "      <td>不需要融资</td>\n",
       "      <td>500-2000人</td>\n",
       "      <td>游戏</td>\n",
       "    </tr>\n",
       "    <tr>\n",
       "      <th>1</th>\n",
       "      <td>2021校园招聘-算法工程师-GZ</td>\n",
       "      <td>冼村</td>\n",
       "      <td>深演智能</td>\n",
       "      <td>15</td>\n",
       "      <td>25</td>\n",
       "      <td>经验在校</td>\n",
       "      <td>硕士</td>\n",
       "      <td>D轮及以上</td>\n",
       "      <td>150-500人</td>\n",
       "      <td>人工智能</td>\n",
       "    </tr>\n",
       "    <tr>\n",
       "      <th>2</th>\n",
       "      <td>深度学习算法工程师</td>\n",
       "      <td>天河区</td>\n",
       "      <td>深声科技</td>\n",
       "      <td>15</td>\n",
       "      <td>30</td>\n",
       "      <td>经验不限</td>\n",
       "      <td>本科</td>\n",
       "      <td>天使轮</td>\n",
       "      <td>50-150人</td>\n",
       "      <td>人工智能</td>\n",
       "    </tr>\n",
       "    <tr>\n",
       "      <th>3</th>\n",
       "      <td>算法工程师（图像配准）</td>\n",
       "      <td>广州大道南</td>\n",
       "      <td>柏视医疗</td>\n",
       "      <td>15</td>\n",
       "      <td>30</td>\n",
       "      <td>经验不限</td>\n",
       "      <td>硕士</td>\n",
       "      <td>A轮</td>\n",
       "      <td>50-150人</td>\n",
       "      <td>医疗</td>\n",
       "    </tr>\n",
       "    <tr>\n",
       "      <th>4</th>\n",
       "      <td>高级推荐算法工程师 (MJ003526)</td>\n",
       "      <td>番禺区</td>\n",
       "      <td>欢聚集团（JOYY Inc.）</td>\n",
       "      <td>30</td>\n",
       "      <td>60</td>\n",
       "      <td>经验不限</td>\n",
       "      <td>本科</td>\n",
       "      <td>上市公司</td>\n",
       "      <td>2000人以上</td>\n",
       "      <td>社交媒体</td>\n",
       "    </tr>\n",
       "  </tbody>\n",
       "</table>\n",
       "</div>"
      ],
      "text/plain": [
       "                  title district          company  salary_min  salary_max  \\\n",
       "0         算法工程师(J10259)     珠江新城               趣丸          25          50   \n",
       "1     2021校园招聘-算法工程师-GZ       冼村             深演智能          15          25   \n",
       "2             深度学习算法工程师      天河区             深声科技          15          30   \n",
       "3           算法工程师（图像配准）    广州大道南             柏视医疗          15          30   \n",
       "4  高级推荐算法工程师 (MJ003526)      番禺区  欢聚集团（JOYY Inc.）          30          60   \n",
       "\n",
       "  experience qualification finance      scale uni_domain  \n",
       "0       经验不限            硕士   不需要融资  500-2000人         游戏  \n",
       "1       经验在校            硕士   D轮及以上   150-500人       人工智能  \n",
       "2       经验不限            本科     天使轮    50-150人       人工智能  \n",
       "3       经验不限            硕士      A轮    50-150人         医疗  \n",
       "4       经验不限            本科    上市公司    2000人以上       社交媒体  "
      ]
     },
     "execution_count": 518,
     "metadata": {},
     "output_type": "execute_result"
    }
   ],
   "source": [
    "# 去除不用的列\n",
    "lagou = lagou.drop(['tag', 'comment', 'domain'], axis=1)\n",
    "lagou.head()"
   ]
  },
  {
   "cell_type": "markdown",
   "metadata": {},
   "source": [
    "- 到这数据清洗基本完成了"
   ]
  },
  {
   "cell_type": "markdown",
   "metadata": {},
   "source": [
    "# EDA"
   ]
  },
  {
   "cell_type": "markdown",
   "metadata": {},
   "source": [
    "## 单变量"
   ]
  },
  {
   "cell_type": "markdown",
   "metadata": {},
   "source": [
    "### 查看总体的薪酬情况"
   ]
  },
  {
   "cell_type": "code",
   "execution_count": 519,
   "metadata": {},
   "outputs": [
    {
     "data": {
      "text/plain": [
       "count    282.000000\n",
       "mean      18.872340\n",
       "std        7.900945\n",
       "min        3.000000\n",
       "25%       15.000000\n",
       "50%       19.500000\n",
       "75%       25.000000\n",
       "max       60.000000\n",
       "Name: salary_min, dtype: float64"
      ]
     },
     "execution_count": 519,
     "metadata": {},
     "output_type": "execute_result"
    }
   ],
   "source": [
    "# 查看最低薪酬的情况\n",
    "lagou['salary_min'].describe()"
   ]
  },
  {
   "cell_type": "code",
   "execution_count": 520,
   "metadata": {},
   "outputs": [
    {
     "data": {
      "text/plain": [
       "<matplotlib.axes._subplots.AxesSubplot at 0x1bc91bfdfd0>"
      ]
     },
     "execution_count": 520,
     "metadata": {},
     "output_type": "execute_result"
    },
    {
     "data": {
      "image/png": "[encoded data removed]",
      "text/plain": [
       "<Figure size 432x288 with 1 Axes>"
      ]
     },
     "metadata": {
      "needs_background": "light"
     },
     "output_type": "display_data"
    }
   ],
   "source": [
    "sns.boxplot(y='salary_min', data=lagou)"
   ]
  },
  {
   "cell_type": "code",
   "execution_count": 521,
   "metadata": {},
   "outputs": [
    {
     "data": {
      "text/plain": [
       "<matplotlib.axes._subplots.AxesSubplot at 0x1bc91c120b8>"
      ]
     },
     "execution_count": 521,
     "metadata": {},
     "output_type": "execute_result"
    },
    {
     "data": {
      "image/png": "[encoded data removed]",
      "text/plain": [
       "<Figure size 432x288 with 1 Axes>"
      ]
     },
     "metadata": {
      "needs_background": "light"
     },
     "output_type": "display_data"
    }
   ],
   "source": [
    "sns.distplot(lagou['salary_min'])"
   ]
  },
  {
   "cell_type": "markdown",
   "metadata": {},
   "source": [
    "- 该岗位的最低薪酬在3k-60k范围内\n",
    "- 40多k和60k是个别情况\n",
    "- 75%的公司的最低薪酬在25k以下\n",
    "- 大部分公司能提供的最低薪酬为20k"
   ]
  },
  {
   "cell_type": "code",
   "execution_count": 522,
   "metadata": {},
   "outputs": [
    {
     "data": {
      "text/plain": [
       "count    282.000000\n",
       "mean      33.308511\n",
       "std       13.077127\n",
       "min        6.000000\n",
       "25%       25.000000\n",
       "50%       30.000000\n",
       "75%       40.000000\n",
       "max       70.000000\n",
       "Name: salary_max, dtype: float64"
      ]
     },
     "execution_count": 522,
     "metadata": {},
     "output_type": "execute_result"
    }
   ],
   "source": [
    "# 查看最高薪酬的情况\n",
    "lagou['salary_max'].describe()"
   ]
  },
  {
   "cell_type": "code",
   "execution_count": 523,
   "metadata": {},
   "outputs": [
    {
     "data": {
      "text/plain": [
       "<matplotlib.axes._subplots.AxesSubplot at 0x1bc821d0668>"
      ]
     },
     "execution_count": 523,
     "metadata": {},
     "output_type": "execute_result"
    },
    {
     "data": {
      "image/png": "[encoded data removed]",
      "text/plain": [
       "<Figure size 432x288 with 1 Axes>"
      ]
     },
     "metadata": {
      "needs_background": "light"
     },
     "output_type": "display_data"
    }
   ],
   "source": [
    "sns.boxplot(y='salary_max', data=lagou)"
   ]
  },
  {
   "cell_type": "code",
   "execution_count": 524,
   "metadata": {},
   "outputs": [
    {
     "data": {
      "text/plain": [
       "<matplotlib.axes._subplots.AxesSubplot at 0x1bc91e4fbe0>"
      ]
     },
     "execution_count": 524,
     "metadata": {},
     "output_type": "execute_result"
    },
    {
     "data": {
      "image/png": "[encoded data removed]",
      "text/plain": [
       "<Figure size 432x288 with 1 Axes>"
      ]
     },
     "metadata": {
      "needs_background": "light"
     },
     "output_type": "display_data"
    }
   ],
   "source": [
    "sns.distplot(lagou['salary_max'])"
   ]
  },
  {
   "cell_type": "markdown",
   "metadata": {},
   "source": [
    "- 该岗位的最高薪酬在6k-70k之间\n",
    "- 65k和70k是个别情况，应该是对应上面的最低薪酬40多k和60k\n",
    "- 75%的公司可提供的最高薪酬在40k以下\n",
    "- 大部分公司能提供的最高薪酬为30k"
   ]
  },
  {
   "cell_type": "code",
   "execution_count": 525,
   "metadata": {},
   "outputs": [],
   "source": [
    "# 查看平均薪酬情况\n",
    "# 创建平均薪酬字段\n",
    "lagou['salary_avg'] = (lagou['salary_max'] - lagou['salary_min'])/2 + lagou['salary_min']"
   ]
  },
  {
   "cell_type": "code",
   "execution_count": 526,
   "metadata": {},
   "outputs": [
    {
     "data": {
      "text/plain": [
       "count    282.000000\n",
       "mean      26.090426\n",
       "std       10.280314\n",
       "min        4.500000\n",
       "25%       20.000000\n",
       "50%       24.000000\n",
       "75%       32.125000\n",
       "max       65.000000\n",
       "Name: salary_avg, dtype: float64"
      ]
     },
     "execution_count": 526,
     "metadata": {},
     "output_type": "execute_result"
    }
   ],
   "source": [
    "lagou['salary_avg'].describe()"
   ]
  },
  {
   "cell_type": "code",
   "execution_count": 527,
   "metadata": {},
   "outputs": [
    {
     "data": {
      "text/plain": [
       "<matplotlib.axes._subplots.AxesSubplot at 0x1bc91eeed68>"
      ]
     },
     "execution_count": 527,
     "metadata": {},
     "output_type": "execute_result"
    },
    {
     "data": {
      "image/png": "[encoded data removed]",
      "text/plain": [
       "<Figure size 432x288 with 1 Axes>"
      ]
     },
     "metadata": {
      "needs_background": "light"
     },
     "output_type": "display_data"
    }
   ],
   "source": [
    "sns.boxplot(y='salary_avg', data=lagou)"
   ]
  },
  {
   "cell_type": "code",
   "execution_count": 528,
   "metadata": {},
   "outputs": [
    {
     "data": {
      "text/plain": [
       "<matplotlib.axes._subplots.AxesSubplot at 0x1bc91eeeef0>"
      ]
     },
     "execution_count": 528,
     "metadata": {},
     "output_type": "execute_result"
    },
    {
     "data": {
      "image/png": "[encoded data removed]",
      "text/plain": [
       "<Figure size 432x288 with 1 Axes>"
      ]
     },
     "metadata": {
      "needs_background": "light"
     },
     "output_type": "display_data"
    }
   ],
   "source": [
    "sns.distplot(lagou['salary_avg'])"
   ]
  },
  {
   "cell_type": "markdown",
   "metadata": {},
   "source": [
    "- 该岗位的平均薪酬在4.5k-65k之间\n",
    "- 75%的公司可提供的平均薪酬为32k以下\n",
    "- 大部分公司能提供的平均薪酬为25k"
   ]
  },
  {
   "cell_type": "markdown",
   "metadata": {},
   "source": [
    "### 查看不同公司的岗位需求量"
   ]
  },
  {
   "cell_type": "code",
   "execution_count": 529,
   "metadata": {},
   "outputs": [
    {
     "data": {
      "text/plain": [
       "网易                        15\n",
       "小鹏汽车                      14\n",
       "欢聚集团（JOYY Inc.）           10\n",
       "酷狗音乐                       9\n",
       "DMAI智能科技                   7\n",
       "紫为云（北京）智能科技有限公司            7\n",
       "深声科技                       5\n",
       "诚迈信息                       5\n",
       "唯品会                        4\n",
       "虎牙科技                       4\n",
       "三七互娱                       4\n",
       "参数                         4\n",
       "广州市奥威亚电子科技有限公司             4\n",
       "CVTE                       4\n",
       "腾讯                         3\n",
       "百布                         3\n",
       "荔枝                         3\n",
       "柏视医疗                       3\n",
       "太平洋网络有限公司                  3\n",
       "广东亿迅                       3\n",
       "派客朴食                       3\n",
       "美业颜究院                      3\n",
       "趣丸                         3\n",
       "ImageDT图匠数据                3\n",
       "广州棒谷科技股份有限公司               3\n",
       "玄武科技                       3\n",
       "广发银行信用卡中心                  3\n",
       "时谛智能                       3\n",
       "微革网络                       2\n",
       "联通（广东）产业互联网...             2\n",
       "                          ..\n",
       "聚焦网络集团                     1\n",
       "博纳德                        1\n",
       "广州奕才企业管理顾问有限公司             1\n",
       "博冠                         1\n",
       "华里网络                       1\n",
       "一手                         1\n",
       "北明数科                       1\n",
       "佰聆数据                       1\n",
       "影子科技                       1\n",
       "腾米克(TENMIC)                1\n",
       "丹霄技术                       1\n",
       "创新奇智                       1\n",
       "云徙科技                       1\n",
       "触宝                         1\n",
       "忘平科技                       1\n",
       "赛特智能                       1\n",
       "蓝深科技                       1\n",
       "高新兴科技集团                    1\n",
       "数立方                        1\n",
       "小橙科技                       1\n",
       "建信金科                       1\n",
       "亿航智能无人机Ehang               1\n",
       "Mobvista                   1\n",
       "字节跳动                       1\n",
       "翼课网                        1\n",
       "深演智能                       1\n",
       "偶家科技                       1\n",
       "智慧云创                       1\n",
       "广东顺德中山大学卡内基梅隆大学国际联合研究院     1\n",
       "慧择信息集团                     1\n",
       "Name: company, Length: 149, dtype: int64"
      ]
     },
     "execution_count": 529,
     "metadata": {},
     "output_type": "execute_result"
    }
   ],
   "source": [
    "lagou['company'].value_counts()"
   ]
  },
  {
   "cell_type": "code",
   "execution_count": 530,
   "metadata": {},
   "outputs": [
    {
     "data": {
      "text/plain": [
       "<Figure size 2160x1440 with 0 Axes>"
      ]
     },
     "execution_count": 530,
     "metadata": {},
     "output_type": "execute_result"
    },
    {
     "data": {
      "image/png": "[encoded data removed]",
      "text/plain": [
       "<Figure size 432x288 with 1 Axes>"
      ]
     },
     "metadata": {
      "needs_background": "light"
     },
     "output_type": "display_data"
    },
    {
     "data": {
      "text/plain": [
       "<Figure size 2160x1440 with 0 Axes>"
      ]
     },
     "metadata": {},
     "output_type": "display_data"
    }
   ],
   "source": [
    "sns.countplot(y='company', data=lagou, order=lagou['company'].value_counts().sort_values(ascending=False).head(15).index) # 只画前15个\n",
    "plt.figure(figsize=(30,20))"
   ]
  },
  {
   "cell_type": "markdown",
   "metadata": {},
   "source": [
    "- 有149家公司对该岗位有需求\n",
    "- 对该岗位需求量最大的是网易，达到了15个，其次是小鹏汽车（14个）、欢聚集团（10个）、酷狗音乐（9个）、DMAI智能科技和紫为云（北京）智能科技有限公司（7个）"
   ]
  },
  {
   "cell_type": "markdown",
   "metadata": {},
   "source": [
    "### 查看不同经验要求的岗位需求量"
   ]
  },
  {
   "cell_type": "code",
   "execution_count": 531,
   "metadata": {},
   "outputs": [
    {
     "data": {
      "text/plain": [
       "experience\n",
       "经验1-3年      63\n",
       "经验3-5年     116\n",
       "经验5-10年     26\n",
       "经验不限        45\n",
       "经验在校        32\n",
       "Name: title, dtype: int64"
      ]
     },
     "execution_count": 531,
     "metadata": {},
     "output_type": "execute_result"
    }
   ],
   "source": [
    "lagou.groupby(['experience'])['title'].count()"
   ]
  },
  {
   "cell_type": "code",
   "execution_count": 532,
   "metadata": {},
   "outputs": [
    {
     "data": {
      "text/plain": [
       "<matplotlib.axes._subplots.AxesSubplot at 0x1bc92044c88>"
      ]
     },
     "execution_count": 532,
     "metadata": {},
     "output_type": "execute_result"
    },
    {
     "data": {
      "image/png": "[encoded data removed]",
      "text/plain": [
       "<Figure size 432x288 with 1 Axes>"
      ]
     },
     "metadata": {
      "needs_background": "light"
     },
     "output_type": "display_data"
    }
   ],
   "source": [
    "sns.countplot(x='experience', data=lagou, order=lagou.groupby(['experience']).count().sort_values(by='title',ascending=False).index)"
   ]
  },
  {
   "cell_type": "markdown",
   "metadata": {},
   "source": [
    "- 要求经验3-5年的岗位需求量最多\n",
    "- 要求经验5-10年的岗位需求量最少"
   ]
  },
  {
   "cell_type": "markdown",
   "metadata": {},
   "source": [
    "### 查看不同学历要求的岗位需求量"
   ]
  },
  {
   "cell_type": "code",
   "execution_count": 533,
   "metadata": {},
   "outputs": [
    {
     "data": {
      "text/plain": [
       "本科    198\n",
       "硕士     70\n",
       "不限     11\n",
       "博士      2\n",
       "大专      1\n",
       "Name: qualification, dtype: int64"
      ]
     },
     "execution_count": 533,
     "metadata": {},
     "output_type": "execute_result"
    }
   ],
   "source": [
    "lagou['qualification'].value_counts()"
   ]
  },
  {
   "cell_type": "code",
   "execution_count": 534,
   "metadata": {},
   "outputs": [
    {
     "data": {
      "text/plain": [
       "<matplotlib.axes._subplots.AxesSubplot at 0x1bc92040240>"
      ]
     },
     "execution_count": 534,
     "metadata": {},
     "output_type": "execute_result"
    },
    {
     "data": {
      "image/png": "[encoded data removed]",
      "text/plain": [
       "<Figure size 432x288 with 1 Axes>"
      ]
     },
     "metadata": {
      "needs_background": "light"
     },
     "output_type": "display_data"
    }
   ],
   "source": [
    "sns.countplot(x='qualification', data=lagou, order=lagou['qualification'].value_counts().sort_values(ascending=False).index)"
   ]
  },
  {
   "cell_type": "markdown",
   "metadata": {},
   "source": [
    "- 本科学历要求的岗位需求量最多，其次是硕士学历\n",
    "- 大专学历要求的需求量最少"
   ]
  },
  {
   "cell_type": "markdown",
   "metadata": {},
   "source": [
    "### 查看不同融资情况公司的岗位需求量"
   ]
  },
  {
   "cell_type": "code",
   "execution_count": 535,
   "metadata": {},
   "outputs": [
    {
     "data": {
      "text/plain": [
       "上市公司     107\n",
       "不需要融资     67\n",
       "未融资       31\n",
       "A轮        26\n",
       "B轮        25\n",
       "天使轮       11\n",
       "C轮         8\n",
       "D轮及以上      7\n",
       "Name: finance, dtype: int64"
      ]
     },
     "execution_count": 535,
     "metadata": {},
     "output_type": "execute_result"
    }
   ],
   "source": [
    "lagou['finance'].value_counts()"
   ]
  },
  {
   "cell_type": "code",
   "execution_count": 536,
   "metadata": {},
   "outputs": [
    {
     "data": {
      "text/plain": [
       "<matplotlib.axes._subplots.AxesSubplot at 0x1bc92c802b0>"
      ]
     },
     "execution_count": 536,
     "metadata": {},
     "output_type": "execute_result"
    },
    {
     "data": {
      "image/png": "[encoded data removed]",
      "text/plain": [
       "<Figure size 432x288 with 1 Axes>"
      ]
     },
     "metadata": {
      "needs_background": "light"
     },
     "output_type": "display_data"
    }
   ],
   "source": [
    "sns.countplot(x='finance', data=lagou, order=lagou['finance'].value_counts().sort_values(ascending=False).index)"
   ]
  },
  {
   "cell_type": "markdown",
   "metadata": {},
   "source": [
    "- 上市公司对该岗位的需求量最大，其次是不需要融资和未融资的公司\n",
    "- D轮及以上的企业对该岗位的需求量最少"
   ]
  },
  {
   "cell_type": "markdown",
   "metadata": {},
   "source": [
    "### 查看不同规模公司的岗位需求量"
   ]
  },
  {
   "cell_type": "code",
   "execution_count": 537,
   "metadata": {},
   "outputs": [
    {
     "data": {
      "text/plain": [
       "2000人以上      97\n",
       "500-2000人    63\n",
       "50-150人      47\n",
       "150-500人     45\n",
       "15-50人       25\n",
       "少于15人         5\n",
       "Name: scale, dtype: int64"
      ]
     },
     "execution_count": 537,
     "metadata": {},
     "output_type": "execute_result"
    }
   ],
   "source": [
    "lagou['scale'].value_counts()"
   ]
  },
  {
   "cell_type": "code",
   "execution_count": 538,
   "metadata": {},
   "outputs": [
    {
     "data": {
      "text/plain": [
       "<matplotlib.axes._subplots.AxesSubplot at 0x1bc92d041d0>"
      ]
     },
     "execution_count": 538,
     "metadata": {},
     "output_type": "execute_result"
    },
    {
     "data": {
      "image/png": "[encoded data removed]",
      "text/plain": [
       "<Figure size 432x288 with 1 Axes>"
      ]
     },
     "metadata": {
      "needs_background": "light"
     },
     "output_type": "display_data"
    }
   ],
   "source": [
    "sns.countplot(x='scale', data=lagou, order=lagou['scale'].value_counts().sort_values(ascending=False).index)"
   ]
  },
  {
   "cell_type": "markdown",
   "metadata": {},
   "source": [
    "- 2000人以上规模的公司对该岗位的需求量最大，其次是500-2000人和50-150人的\n",
    "- 少于15人的规模的公司的需求量最少"
   ]
  },
  {
   "cell_type": "markdown",
   "metadata": {},
   "source": [
    "### 查看不同行业领域的公司的岗位需求量"
   ]
  },
  {
   "cell_type": "code",
   "execution_count": 539,
   "metadata": {},
   "outputs": [
    {
     "data": {
      "text/plain": [
       "人工智能      41\n",
       "数据服务      27\n",
       "电商平台      22\n",
       "内容资讯      20\n",
       "游戏        19\n",
       "移动互联网     19\n",
       "制造业       16\n",
       "软件服务      14\n",
       "音频        12\n",
       "社交媒体      12\n",
       "智能硬件       8\n",
       "医疗         7\n",
       "工具类产品      7\n",
       "IT技术服务     6\n",
       "硬件         6\n",
       "科技金融       4\n",
       "其他         4\n",
       "物联网        4\n",
       "金融业        4\n",
       "企业服务       4\n",
       "网络通信       3\n",
       "电商         3\n",
       "教育         2\n",
       "房地产        2\n",
       "在线教育       2\n",
       "文化传媒       2\n",
       "营销服务       2\n",
       "旅游         2\n",
       "新零售        2\n",
       "汽车         1\n",
       "社交平台       1\n",
       "信息安全       1\n",
       "休闲         1\n",
       "MCN        1\n",
       "文娱         1\n",
       "Name: uni_domain, dtype: int64"
      ]
     },
     "execution_count": 539,
     "metadata": {},
     "output_type": "execute_result"
    }
   ],
   "source": [
    "lagou['uni_domain'].value_counts()"
   ]
  },
  {
   "cell_type": "code",
   "execution_count": 540,
   "metadata": {},
   "outputs": [
    {
     "data": {
      "text/plain": [
       "<matplotlib.axes._subplots.AxesSubplot at 0x1bc92d4b160>"
      ]
     },
     "execution_count": 540,
     "metadata": {},
     "output_type": "execute_result"
    },
    {
     "data": {
      "image/png": "[encoded data removed]",
      "text/plain": [
       "<Figure size 720x576 with 1 Axes>"
      ]
     },
     "metadata": {
      "needs_background": "light"
     },
     "output_type": "display_data"
    }
   ],
   "source": [
    "plt.figure(figsize=(10, 8))\n",
    "sns.countplot(y='uni_domain', data=lagou, order=lagou['uni_domain'].value_counts().sort_values(ascending=False).index)"
   ]
  },
  {
   "cell_type": "markdown",
   "metadata": {},
   "source": [
    "- 人工智能服务行业领域的公司对该岗位的需求量比较大，有38家公司\n",
    "- 其次是数据服务、电商平台、内容咨询、游戏、移动互联网"
   ]
  },
  {
   "cell_type": "markdown",
   "metadata": {},
   "source": [
    "## 多变量"
   ]
  },
  {
   "cell_type": "markdown",
   "metadata": {},
   "source": [
    "### 其他变量和薪酬的关系"
   ]
  },
  {
   "cell_type": "markdown",
   "metadata": {},
   "source": [
    "#### 查看不同公司的薪酬情况"
   ]
  },
  {
   "cell_type": "code",
   "execution_count": 541,
   "metadata": {},
   "outputs": [
    {
     "data": {
      "text/html": [
       "<div>\n",
       "<style scoped>\n",
       "    .dataframe tbody tr th:only-of-type {\n",
       "        vertical-align: middle;\n",
       "    }\n",
       "\n",
       "    .dataframe tbody tr th {\n",
       "        vertical-align: top;\n",
       "    }\n",
       "\n",
       "    .dataframe thead th {\n",
       "        text-align: right;\n",
       "    }\n",
       "</style>\n",
       "<table border=\"1\" class=\"dataframe\">\n",
       "  <thead>\n",
       "    <tr style=\"text-align: right;\">\n",
       "      <th></th>\n",
       "      <th>company</th>\n",
       "      <th>salary_avg</th>\n",
       "    </tr>\n",
       "  </thead>\n",
       "  <tbody>\n",
       "    <tr>\n",
       "      <th>0</th>\n",
       "      <td>金地</td>\n",
       "      <td>65.000000</td>\n",
       "    </tr>\n",
       "    <tr>\n",
       "      <th>1</th>\n",
       "      <td>Mobvista</td>\n",
       "      <td>55.000000</td>\n",
       "    </tr>\n",
       "    <tr>\n",
       "      <th>2</th>\n",
       "      <td>川山教育</td>\n",
       "      <td>45.000000</td>\n",
       "    </tr>\n",
       "    <tr>\n",
       "      <th>3</th>\n",
       "      <td>Fordeal</td>\n",
       "      <td>42.500000</td>\n",
       "    </tr>\n",
       "    <tr>\n",
       "      <th>4</th>\n",
       "      <td>玄武科技</td>\n",
       "      <td>42.500000</td>\n",
       "    </tr>\n",
       "    <tr>\n",
       "      <th>5</th>\n",
       "      <td>忘平科技</td>\n",
       "      <td>42.500000</td>\n",
       "    </tr>\n",
       "    <tr>\n",
       "      <th>6</th>\n",
       "      <td>搜款网 VVIC</td>\n",
       "      <td>41.250000</td>\n",
       "    </tr>\n",
       "    <tr>\n",
       "      <th>7</th>\n",
       "      <td>Bigo</td>\n",
       "      <td>40.500000</td>\n",
       "    </tr>\n",
       "    <tr>\n",
       "      <th>8</th>\n",
       "      <td>锟元方青医疗科技</td>\n",
       "      <td>40.000000</td>\n",
       "    </tr>\n",
       "    <tr>\n",
       "      <th>9</th>\n",
       "      <td>虎牙科技</td>\n",
       "      <td>39.375000</td>\n",
       "    </tr>\n",
       "    <tr>\n",
       "      <th>10</th>\n",
       "      <td>联友科技</td>\n",
       "      <td>39.000000</td>\n",
       "    </tr>\n",
       "    <tr>\n",
       "      <th>11</th>\n",
       "      <td>欢聚集团（JOYY Inc.）</td>\n",
       "      <td>38.750000</td>\n",
       "    </tr>\n",
       "    <tr>\n",
       "      <th>12</th>\n",
       "      <td>华里网络</td>\n",
       "      <td>37.500000</td>\n",
       "    </tr>\n",
       "    <tr>\n",
       "      <th>13</th>\n",
       "      <td>中国电信云计算公司</td>\n",
       "      <td>37.500000</td>\n",
       "    </tr>\n",
       "    <tr>\n",
       "      <th>14</th>\n",
       "      <td>拿火音乐</td>\n",
       "      <td>37.500000</td>\n",
       "    </tr>\n",
       "    <tr>\n",
       "      <th>15</th>\n",
       "      <td>一心石意</td>\n",
       "      <td>37.500000</td>\n",
       "    </tr>\n",
       "    <tr>\n",
       "      <th>16</th>\n",
       "      <td>腾米克(TENMIC)</td>\n",
       "      <td>37.500000</td>\n",
       "    </tr>\n",
       "    <tr>\n",
       "      <th>17</th>\n",
       "      <td>影子科技</td>\n",
       "      <td>37.500000</td>\n",
       "    </tr>\n",
       "    <tr>\n",
       "      <th>18</th>\n",
       "      <td>触宝</td>\n",
       "      <td>37.500000</td>\n",
       "    </tr>\n",
       "    <tr>\n",
       "      <th>19</th>\n",
       "      <td>蜗牛保险</td>\n",
       "      <td>35.000000</td>\n",
       "    </tr>\n",
       "    <tr>\n",
       "      <th>20</th>\n",
       "      <td>广发证券</td>\n",
       "      <td>35.000000</td>\n",
       "    </tr>\n",
       "    <tr>\n",
       "      <th>21</th>\n",
       "      <td>建信金科</td>\n",
       "      <td>35.000000</td>\n",
       "    </tr>\n",
       "    <tr>\n",
       "      <th>22</th>\n",
       "      <td>富力地产</td>\n",
       "      <td>35.000000</td>\n",
       "    </tr>\n",
       "    <tr>\n",
       "      <th>23</th>\n",
       "      <td>如祺出行</td>\n",
       "      <td>35.000000</td>\n",
       "    </tr>\n",
       "    <tr>\n",
       "      <th>24</th>\n",
       "      <td>CVTE</td>\n",
       "      <td>34.750000</td>\n",
       "    </tr>\n",
       "    <tr>\n",
       "      <th>25</th>\n",
       "      <td>网易</td>\n",
       "      <td>34.166667</td>\n",
       "    </tr>\n",
       "    <tr>\n",
       "      <th>26</th>\n",
       "      <td>树根互联技术有限公司</td>\n",
       "      <td>32.500000</td>\n",
       "    </tr>\n",
       "    <tr>\n",
       "      <th>27</th>\n",
       "      <td>滴普科技</td>\n",
       "      <td>32.500000</td>\n",
       "    </tr>\n",
       "    <tr>\n",
       "      <th>28</th>\n",
       "      <td>东软医疗系统</td>\n",
       "      <td>32.500000</td>\n",
       "    </tr>\n",
       "    <tr>\n",
       "      <th>29</th>\n",
       "      <td>智慧云创</td>\n",
       "      <td>32.500000</td>\n",
       "    </tr>\n",
       "    <tr>\n",
       "      <th>30</th>\n",
       "      <td>网龙网络有限公司</td>\n",
       "      <td>32.500000</td>\n",
       "    </tr>\n",
       "    <tr>\n",
       "      <th>31</th>\n",
       "      <td>酷狗音乐</td>\n",
       "      <td>32.222222</td>\n",
       "    </tr>\n",
       "    <tr>\n",
       "      <th>32</th>\n",
       "      <td>广发银行信用卡中心</td>\n",
       "      <td>30.833333</td>\n",
       "    </tr>\n",
       "  </tbody>\n",
       "</table>\n",
       "</div>"
      ],
      "text/plain": [
       "            company  salary_avg\n",
       "0                金地   65.000000\n",
       "1          Mobvista   55.000000\n",
       "2              川山教育   45.000000\n",
       "3           Fordeal   42.500000\n",
       "4              玄武科技   42.500000\n",
       "5              忘平科技   42.500000\n",
       "6          搜款网 VVIC   41.250000\n",
       "7              Bigo   40.500000\n",
       "8          锟元方青医疗科技   40.000000\n",
       "9              虎牙科技   39.375000\n",
       "10             联友科技   39.000000\n",
       "11  欢聚集团（JOYY Inc.）   38.750000\n",
       "12             华里网络   37.500000\n",
       "13        中国电信云计算公司   37.500000\n",
       "14             拿火音乐   37.500000\n",
       "15             一心石意   37.500000\n",
       "16      腾米克(TENMIC)   37.500000\n",
       "17             影子科技   37.500000\n",
       "18               触宝   37.500000\n",
       "19             蜗牛保险   35.000000\n",
       "20             广发证券   35.000000\n",
       "21             建信金科   35.000000\n",
       "22             富力地产   35.000000\n",
       "23             如祺出行   35.000000\n",
       "24             CVTE   34.750000\n",
       "25               网易   34.166667\n",
       "26       树根互联技术有限公司   32.500000\n",
       "27             滴普科技   32.500000\n",
       "28           东软医疗系统   32.500000\n",
       "29             智慧云创   32.500000\n",
       "30         网龙网络有限公司   32.500000\n",
       "31             酷狗音乐   32.222222\n",
       "32        广发银行信用卡中心   30.833333"
      ]
     },
     "execution_count": 541,
     "metadata": {},
     "output_type": "execute_result"
    }
   ],
   "source": [
    "tmp = lagou.groupby(['company'])['salary_avg'].mean().sort_values(ascending=False)\n",
    "tmpdf = pd.DataFrame(tmp).reset_index()\n",
    "tmpdf_30 =  tmpdf[tmpdf['salary_avg']>30]  # 查看提供该岗位的平均薪资大于25k的公司\n",
    "tmpdf_30"
   ]
  },
  {
   "cell_type": "code",
   "execution_count": 542,
   "metadata": {},
   "outputs": [
    {
     "data": {
      "text/plain": [
       "<matplotlib.axes._subplots.AxesSubplot at 0x1bc92e60ba8>"
      ]
     },
     "execution_count": 542,
     "metadata": {},
     "output_type": "execute_result"
    },
    {
     "data": {
      "image/png": "[encoded data removed]",
      "text/plain": [
       "<Figure size 720x576 with 1 Axes>"
      ]
     },
     "metadata": {
      "needs_background": "light"
     },
     "output_type": "display_data"
    }
   ],
   "source": [
    "plt.figure(figsize=(10, 8))\n",
    "sns.barplot(y='company', x='salary_avg', data=tmpdf_30)"
   ]
  },
  {
   "cell_type": "markdown",
   "metadata": {},
   "source": [
    "- 可以看到，能够提供平均薪酬在30k以上的公司有32家\n",
    "- 其中，金地提供的平均薪酬最高，为65k，属于个别情况\n",
    "- 然后是Mobvista，川山教育，Fordeal，玄武科技，忘平科技"
   ]
  },
  {
   "cell_type": "markdown",
   "metadata": {},
   "source": [
    "#### 查看不同经验要求的薪酬情况"
   ]
  },
  {
   "cell_type": "code",
   "execution_count": 543,
   "metadata": {},
   "outputs": [
    {
     "data": {
      "text/html": [
       "<div>\n",
       "<style scoped>\n",
       "    .dataframe tbody tr th:only-of-type {\n",
       "        vertical-align: middle;\n",
       "    }\n",
       "\n",
       "    .dataframe tbody tr th {\n",
       "        vertical-align: top;\n",
       "    }\n",
       "\n",
       "    .dataframe thead th {\n",
       "        text-align: right;\n",
       "    }\n",
       "</style>\n",
       "<table border=\"1\" class=\"dataframe\">\n",
       "  <thead>\n",
       "    <tr style=\"text-align: right;\">\n",
       "      <th></th>\n",
       "      <th>count</th>\n",
       "      <th>mean</th>\n",
       "      <th>std</th>\n",
       "      <th>min</th>\n",
       "      <th>25%</th>\n",
       "      <th>50%</th>\n",
       "      <th>75%</th>\n",
       "      <th>max</th>\n",
       "    </tr>\n",
       "    <tr>\n",
       "      <th>experience</th>\n",
       "      <th></th>\n",
       "      <th></th>\n",
       "      <th></th>\n",
       "      <th></th>\n",
       "      <th></th>\n",
       "      <th></th>\n",
       "      <th></th>\n",
       "      <th></th>\n",
       "    </tr>\n",
       "  </thead>\n",
       "  <tbody>\n",
       "    <tr>\n",
       "      <th>经验1-3年</th>\n",
       "      <td>63.0</td>\n",
       "      <td>23.730159</td>\n",
       "      <td>7.979725</td>\n",
       "      <td>11.5</td>\n",
       "      <td>17.75</td>\n",
       "      <td>22.5</td>\n",
       "      <td>27.500</td>\n",
       "      <td>45.0</td>\n",
       "    </tr>\n",
       "    <tr>\n",
       "      <th>经验3-5年</th>\n",
       "      <td>116.0</td>\n",
       "      <td>28.331897</td>\n",
       "      <td>8.959557</td>\n",
       "      <td>5.5</td>\n",
       "      <td>22.50</td>\n",
       "      <td>30.0</td>\n",
       "      <td>35.000</td>\n",
       "      <td>55.0</td>\n",
       "    </tr>\n",
       "    <tr>\n",
       "      <th>经验5-10年</th>\n",
       "      <td>26.0</td>\n",
       "      <td>33.750000</td>\n",
       "      <td>9.290048</td>\n",
       "      <td>16.5</td>\n",
       "      <td>27.50</td>\n",
       "      <td>32.5</td>\n",
       "      <td>39.375</td>\n",
       "      <td>55.0</td>\n",
       "    </tr>\n",
       "    <tr>\n",
       "      <th>经验不限</th>\n",
       "      <td>45.0</td>\n",
       "      <td>24.777778</td>\n",
       "      <td>8.921728</td>\n",
       "      <td>5.0</td>\n",
       "      <td>20.00</td>\n",
       "      <td>22.5</td>\n",
       "      <td>30.000</td>\n",
       "      <td>45.0</td>\n",
       "    </tr>\n",
       "    <tr>\n",
       "      <th>经验在校</th>\n",
       "      <td>32.0</td>\n",
       "      <td>18.234375</td>\n",
       "      <td>14.308234</td>\n",
       "      <td>4.5</td>\n",
       "      <td>10.00</td>\n",
       "      <td>15.0</td>\n",
       "      <td>20.000</td>\n",
       "      <td>65.0</td>\n",
       "    </tr>\n",
       "  </tbody>\n",
       "</table>\n",
       "</div>"
      ],
      "text/plain": [
       "            count       mean        std   min    25%   50%     75%   max\n",
       "experience                                                              \n",
       "经验1-3年       63.0  23.730159   7.979725  11.5  17.75  22.5  27.500  45.0\n",
       "经验3-5年      116.0  28.331897   8.959557   5.5  22.50  30.0  35.000  55.0\n",
       "经验5-10年      26.0  33.750000   9.290048  16.5  27.50  32.5  39.375  55.0\n",
       "经验不限         45.0  24.777778   8.921728   5.0  20.00  22.5  30.000  45.0\n",
       "经验在校         32.0  18.234375  14.308234   4.5  10.00  15.0  20.000  65.0"
      ]
     },
     "execution_count": 543,
     "metadata": {},
     "output_type": "execute_result"
    }
   ],
   "source": [
    "lagou.groupby(['experience'])['salary_avg'].describe()"
   ]
  },
  {
   "cell_type": "code",
   "execution_count": 544,
   "metadata": {},
   "outputs": [
    {
     "data": {
      "text/plain": [
       "<matplotlib.axes._subplots.AxesSubplot at 0x1bc92f8ccc0>"
      ]
     },
     "execution_count": 544,
     "metadata": {},
     "output_type": "execute_result"
    },
    {
     "data": {
      "image/png": "[encoded data removed]",
      "text/plain": [
       "<Figure size 432x288 with 1 Axes>"
      ]
     },
     "metadata": {
      "needs_background": "light"
     },
     "output_type": "display_data"
    }
   ],
   "source": [
    "sns.boxplot(x='salary_avg', y='experience', data=lagou)"
   ]
  },
  {
   "cell_type": "code",
   "execution_count": 545,
   "metadata": {},
   "outputs": [
    {
     "data": {
      "text/plain": [
       "<matplotlib.axes._subplots.AxesSubplot at 0x1bc93204828>"
      ]
     },
     "execution_count": 545,
     "metadata": {},
     "output_type": "execute_result"
    },
    {
     "data": {
      "image/png": "[encoded data removed]",
      "text/plain": [
       "<Figure size 432x288 with 1 Axes>"
      ]
     },
     "metadata": {
      "needs_background": "light"
     },
     "output_type": "display_data"
    }
   ],
   "source": [
    "sns.barplot(x='experience', y='salary_avg',data=lagou, order=lagou.groupby(['experience'])['salary_avg'].mean().sort_values().index)"
   ]
  },
  {
   "cell_type": "markdown",
   "metadata": {},
   "source": [
    "- 整体而言，经验越多，薪资越高\n",
    "- 经验5-10的薪资最高，其次是3-5年的,应届生薪资最低\n",
    "- 经验5-10年和经验3-5年的薪资离散度是较大的，说明这时候跳槽可能会拿到较高的薪资"
   ]
  },
  {
   "cell_type": "markdown",
   "metadata": {},
   "source": [
    "#### 查看不同学历要求的薪酬情况"
   ]
  },
  {
   "cell_type": "code",
   "execution_count": 546,
   "metadata": {},
   "outputs": [
    {
     "data": {
      "text/html": [
       "<div>\n",
       "<style scoped>\n",
       "    .dataframe tbody tr th:only-of-type {\n",
       "        vertical-align: middle;\n",
       "    }\n",
       "\n",
       "    .dataframe tbody tr th {\n",
       "        vertical-align: top;\n",
       "    }\n",
       "\n",
       "    .dataframe thead th {\n",
       "        text-align: right;\n",
       "    }\n",
       "</style>\n",
       "<table border=\"1\" class=\"dataframe\">\n",
       "  <thead>\n",
       "    <tr style=\"text-align: right;\">\n",
       "      <th></th>\n",
       "      <th>count</th>\n",
       "      <th>mean</th>\n",
       "      <th>std</th>\n",
       "      <th>min</th>\n",
       "      <th>25%</th>\n",
       "      <th>50%</th>\n",
       "      <th>75%</th>\n",
       "      <th>max</th>\n",
       "    </tr>\n",
       "    <tr>\n",
       "      <th>qualification</th>\n",
       "      <th></th>\n",
       "      <th></th>\n",
       "      <th></th>\n",
       "      <th></th>\n",
       "      <th></th>\n",
       "      <th></th>\n",
       "      <th></th>\n",
       "      <th></th>\n",
       "    </tr>\n",
       "  </thead>\n",
       "  <tbody>\n",
       "    <tr>\n",
       "      <th>不限</th>\n",
       "      <td>11.0</td>\n",
       "      <td>30.000000</td>\n",
       "      <td>19.547378</td>\n",
       "      <td>8.0</td>\n",
       "      <td>15.50</td>\n",
       "      <td>22.50</td>\n",
       "      <td>36.25</td>\n",
       "      <td>65.0</td>\n",
       "    </tr>\n",
       "    <tr>\n",
       "      <th>博士</th>\n",
       "      <td>2.0</td>\n",
       "      <td>34.500000</td>\n",
       "      <td>14.849242</td>\n",
       "      <td>24.0</td>\n",
       "      <td>29.25</td>\n",
       "      <td>34.50</td>\n",
       "      <td>39.75</td>\n",
       "      <td>45.0</td>\n",
       "    </tr>\n",
       "    <tr>\n",
       "      <th>大专</th>\n",
       "      <td>1.0</td>\n",
       "      <td>5.500000</td>\n",
       "      <td>NaN</td>\n",
       "      <td>5.5</td>\n",
       "      <td>5.50</td>\n",
       "      <td>5.50</td>\n",
       "      <td>5.50</td>\n",
       "      <td>5.5</td>\n",
       "    </tr>\n",
       "    <tr>\n",
       "      <th>本科</th>\n",
       "      <td>198.0</td>\n",
       "      <td>25.648990</td>\n",
       "      <td>9.610130</td>\n",
       "      <td>4.5</td>\n",
       "      <td>20.00</td>\n",
       "      <td>22.75</td>\n",
       "      <td>30.00</td>\n",
       "      <td>50.0</td>\n",
       "    </tr>\n",
       "    <tr>\n",
       "      <th>硕士</th>\n",
       "      <td>70.0</td>\n",
       "      <td>26.778571</td>\n",
       "      <td>9.822200</td>\n",
       "      <td>5.0</td>\n",
       "      <td>20.00</td>\n",
       "      <td>26.50</td>\n",
       "      <td>32.50</td>\n",
       "      <td>55.0</td>\n",
       "    </tr>\n",
       "  </tbody>\n",
       "</table>\n",
       "</div>"
      ],
      "text/plain": [
       "               count       mean        std   min    25%    50%    75%   max\n",
       "qualification                                                              \n",
       "不限              11.0  30.000000  19.547378   8.0  15.50  22.50  36.25  65.0\n",
       "博士               2.0  34.500000  14.849242  24.0  29.25  34.50  39.75  45.0\n",
       "大专               1.0   5.500000        NaN   5.5   5.50   5.50   5.50   5.5\n",
       "本科             198.0  25.648990   9.610130   4.5  20.00  22.75  30.00  50.0\n",
       "硕士              70.0  26.778571   9.822200   5.0  20.00  26.50  32.50  55.0"
      ]
     },
     "execution_count": 546,
     "metadata": {},
     "output_type": "execute_result"
    }
   ],
   "source": [
    "lagou.groupby(['qualification'])['salary_avg'].describe()"
   ]
  },
  {
   "cell_type": "markdown",
   "metadata": {},
   "source": [
    "- 大专的std为NaN是因为只有一个数据"
   ]
  },
  {
   "cell_type": "code",
   "execution_count": 547,
   "metadata": {},
   "outputs": [
    {
     "data": {
      "text/plain": [
       "<matplotlib.axes._subplots.AxesSubplot at 0x1bc932634e0>"
      ]
     },
     "execution_count": 547,
     "metadata": {},
     "output_type": "execute_result"
    },
    {
     "data": {
      "image/png": "[encoded data removed]",
      "text/plain": [
       "<Figure size 432x288 with 1 Axes>"
      ]
     },
     "metadata": {
      "needs_background": "light"
     },
     "output_type": "display_data"
    }
   ],
   "source": [
    "sns.barplot(x='qualification', y='salary_avg', data=lagou, order=lagou.groupby(['qualification'])['salary_avg'].mean().sort_values().index)"
   ]
  },
  {
   "cell_type": "markdown",
   "metadata": {},
   "source": [
    "- 随着学历增高，薪资也增高\n",
    "- 出乎意料的是，硕士和本科的平均薪资水平差不多,为25k左右\n",
    "- 不限和博士学历的平均薪资离散度较大"
   ]
  },
  {
   "cell_type": "markdown",
   "metadata": {},
   "source": [
    "#### 查看不同融资情况公司的薪酬情况"
   ]
  },
  {
   "cell_type": "code",
   "execution_count": 548,
   "metadata": {},
   "outputs": [
    {
     "data": {
      "text/html": [
       "<div>\n",
       "<style scoped>\n",
       "    .dataframe tbody tr th:only-of-type {\n",
       "        vertical-align: middle;\n",
       "    }\n",
       "\n",
       "    .dataframe tbody tr th {\n",
       "        vertical-align: top;\n",
       "    }\n",
       "\n",
       "    .dataframe thead th {\n",
       "        text-align: right;\n",
       "    }\n",
       "</style>\n",
       "<table border=\"1\" class=\"dataframe\">\n",
       "  <thead>\n",
       "    <tr style=\"text-align: right;\">\n",
       "      <th></th>\n",
       "      <th>count</th>\n",
       "      <th>mean</th>\n",
       "      <th>std</th>\n",
       "      <th>min</th>\n",
       "      <th>25%</th>\n",
       "      <th>50%</th>\n",
       "      <th>75%</th>\n",
       "      <th>max</th>\n",
       "    </tr>\n",
       "    <tr>\n",
       "      <th>finance</th>\n",
       "      <th></th>\n",
       "      <th></th>\n",
       "      <th></th>\n",
       "      <th></th>\n",
       "      <th></th>\n",
       "      <th></th>\n",
       "      <th></th>\n",
       "      <th></th>\n",
       "    </tr>\n",
       "  </thead>\n",
       "  <tbody>\n",
       "    <tr>\n",
       "      <th>A轮</th>\n",
       "      <td>26.0</td>\n",
       "      <td>25.423077</td>\n",
       "      <td>6.823038</td>\n",
       "      <td>5.0</td>\n",
       "      <td>22.5</td>\n",
       "      <td>27.5</td>\n",
       "      <td>30.000</td>\n",
       "      <td>37.5</td>\n",
       "    </tr>\n",
       "    <tr>\n",
       "      <th>B轮</th>\n",
       "      <td>25.0</td>\n",
       "      <td>20.760000</td>\n",
       "      <td>8.878955</td>\n",
       "      <td>5.0</td>\n",
       "      <td>16.0</td>\n",
       "      <td>22.5</td>\n",
       "      <td>24.000</td>\n",
       "      <td>45.0</td>\n",
       "    </tr>\n",
       "    <tr>\n",
       "      <th>C轮</th>\n",
       "      <td>8.0</td>\n",
       "      <td>30.250000</td>\n",
       "      <td>8.992060</td>\n",
       "      <td>19.5</td>\n",
       "      <td>22.5</td>\n",
       "      <td>30.0</td>\n",
       "      <td>34.375</td>\n",
       "      <td>45.0</td>\n",
       "    </tr>\n",
       "    <tr>\n",
       "      <th>D轮及以上</th>\n",
       "      <td>7.0</td>\n",
       "      <td>24.714286</td>\n",
       "      <td>3.795361</td>\n",
       "      <td>20.0</td>\n",
       "      <td>21.5</td>\n",
       "      <td>25.0</td>\n",
       "      <td>27.500</td>\n",
       "      <td>30.0</td>\n",
       "    </tr>\n",
       "    <tr>\n",
       "      <th>上市公司</th>\n",
       "      <td>107.0</td>\n",
       "      <td>31.060748</td>\n",
       "      <td>10.381113</td>\n",
       "      <td>12.5</td>\n",
       "      <td>22.5</td>\n",
       "      <td>30.0</td>\n",
       "      <td>37.500</td>\n",
       "      <td>65.0</td>\n",
       "    </tr>\n",
       "    <tr>\n",
       "      <th>不需要融资</th>\n",
       "      <td>67.0</td>\n",
       "      <td>22.537313</td>\n",
       "      <td>9.630017</td>\n",
       "      <td>5.5</td>\n",
       "      <td>15.0</td>\n",
       "      <td>22.0</td>\n",
       "      <td>27.500</td>\n",
       "      <td>47.5</td>\n",
       "    </tr>\n",
       "    <tr>\n",
       "      <th>天使轮</th>\n",
       "      <td>11.0</td>\n",
       "      <td>24.818182</td>\n",
       "      <td>8.623435</td>\n",
       "      <td>13.0</td>\n",
       "      <td>20.0</td>\n",
       "      <td>22.5</td>\n",
       "      <td>30.000</td>\n",
       "      <td>40.0</td>\n",
       "    </tr>\n",
       "    <tr>\n",
       "      <th>未融资</th>\n",
       "      <td>31.0</td>\n",
       "      <td>21.161290</td>\n",
       "      <td>9.251475</td>\n",
       "      <td>4.5</td>\n",
       "      <td>15.0</td>\n",
       "      <td>18.5</td>\n",
       "      <td>25.500</td>\n",
       "      <td>45.0</td>\n",
       "    </tr>\n",
       "  </tbody>\n",
       "</table>\n",
       "</div>"
      ],
      "text/plain": [
       "         count       mean        std   min   25%   50%     75%   max\n",
       "finance                                                             \n",
       "A轮        26.0  25.423077   6.823038   5.0  22.5  27.5  30.000  37.5\n",
       "B轮        25.0  20.760000   8.878955   5.0  16.0  22.5  24.000  45.0\n",
       "C轮         8.0  30.250000   8.992060  19.5  22.5  30.0  34.375  45.0\n",
       "D轮及以上      7.0  24.714286   3.795361  20.0  21.5  25.0  27.500  30.0\n",
       "上市公司     107.0  31.060748  10.381113  12.5  22.5  30.0  37.500  65.0\n",
       "不需要融资     67.0  22.537313   9.630017   5.5  15.0  22.0  27.500  47.5\n",
       "天使轮       11.0  24.818182   8.623435  13.0  20.0  22.5  30.000  40.0\n",
       "未融资       31.0  21.161290   9.251475   4.5  15.0  18.5  25.500  45.0"
      ]
     },
     "execution_count": 548,
     "metadata": {},
     "output_type": "execute_result"
    }
   ],
   "source": [
    "lagou.groupby(['finance'])['salary_avg'].describe()"
   ]
  },
  {
   "cell_type": "code",
   "execution_count": 549,
   "metadata": {},
   "outputs": [
    {
     "data": {
      "text/plain": [
       "<matplotlib.axes._subplots.AxesSubplot at 0x1bc932e9128>"
      ]
     },
     "execution_count": 549,
     "metadata": {},
     "output_type": "execute_result"
    },
    {
     "data": {
      "image/png": "[encoded data removed]",
      "text/plain": [
       "<Figure size 432x288 with 1 Axes>"
      ]
     },
     "metadata": {
      "needs_background": "light"
     },
     "output_type": "display_data"
    }
   ],
   "source": [
    "sns.barplot(x='finance', y='salary_avg', data=lagou, order=lagou.groupby(['finance'])['salary_avg'].mean().sort_values(ascending=False).index)"
   ]
  },
  {
   "cell_type": "markdown",
   "metadata": {},
   "source": [
    "- 上市公司能提供的平均薪水最高，其次是C轮、A轮、天使轮、D轮及以上"
   ]
  },
  {
   "cell_type": "markdown",
   "metadata": {},
   "source": [
    "#### 查看不同规模公司的薪酬情况"
   ]
  },
  {
   "cell_type": "code",
   "execution_count": 550,
   "metadata": {},
   "outputs": [
    {
     "data": {
      "text/html": [
       "<div>\n",
       "<style scoped>\n",
       "    .dataframe tbody tr th:only-of-type {\n",
       "        vertical-align: middle;\n",
       "    }\n",
       "\n",
       "    .dataframe tbody tr th {\n",
       "        vertical-align: top;\n",
       "    }\n",
       "\n",
       "    .dataframe thead th {\n",
       "        text-align: right;\n",
       "    }\n",
       "</style>\n",
       "<table border=\"1\" class=\"dataframe\">\n",
       "  <thead>\n",
       "    <tr style=\"text-align: right;\">\n",
       "      <th></th>\n",
       "      <th>count</th>\n",
       "      <th>mean</th>\n",
       "      <th>std</th>\n",
       "      <th>min</th>\n",
       "      <th>25%</th>\n",
       "      <th>50%</th>\n",
       "      <th>75%</th>\n",
       "      <th>max</th>\n",
       "    </tr>\n",
       "    <tr>\n",
       "      <th>scale</th>\n",
       "      <th></th>\n",
       "      <th></th>\n",
       "      <th></th>\n",
       "      <th></th>\n",
       "      <th></th>\n",
       "      <th></th>\n",
       "      <th></th>\n",
       "      <th></th>\n",
       "    </tr>\n",
       "  </thead>\n",
       "  <tbody>\n",
       "    <tr>\n",
       "      <th>15-50人</th>\n",
       "      <td>25.0</td>\n",
       "      <td>20.680000</td>\n",
       "      <td>7.305648</td>\n",
       "      <td>4.5</td>\n",
       "      <td>15.00</td>\n",
       "      <td>20.0</td>\n",
       "      <td>25.00</td>\n",
       "      <td>37.5</td>\n",
       "    </tr>\n",
       "    <tr>\n",
       "      <th>150-500人</th>\n",
       "      <td>45.0</td>\n",
       "      <td>23.877778</td>\n",
       "      <td>8.152771</td>\n",
       "      <td>5.0</td>\n",
       "      <td>20.00</td>\n",
       "      <td>23.0</td>\n",
       "      <td>30.00</td>\n",
       "      <td>45.0</td>\n",
       "    </tr>\n",
       "    <tr>\n",
       "      <th>2000人以上</th>\n",
       "      <td>97.0</td>\n",
       "      <td>30.484536</td>\n",
       "      <td>10.695466</td>\n",
       "      <td>8.0</td>\n",
       "      <td>22.50</td>\n",
       "      <td>30.0</td>\n",
       "      <td>37.50</td>\n",
       "      <td>65.0</td>\n",
       "    </tr>\n",
       "    <tr>\n",
       "      <th>50-150人</th>\n",
       "      <td>47.0</td>\n",
       "      <td>22.106383</td>\n",
       "      <td>9.035519</td>\n",
       "      <td>5.5</td>\n",
       "      <td>15.00</td>\n",
       "      <td>22.0</td>\n",
       "      <td>26.25</td>\n",
       "      <td>45.0</td>\n",
       "    </tr>\n",
       "    <tr>\n",
       "      <th>500-2000人</th>\n",
       "      <td>63.0</td>\n",
       "      <td>26.071429</td>\n",
       "      <td>10.512610</td>\n",
       "      <td>5.0</td>\n",
       "      <td>18.25</td>\n",
       "      <td>24.0</td>\n",
       "      <td>32.75</td>\n",
       "      <td>55.0</td>\n",
       "    </tr>\n",
       "    <tr>\n",
       "      <th>少于15人</th>\n",
       "      <td>5.0</td>\n",
       "      <td>25.500000</td>\n",
       "      <td>9.082951</td>\n",
       "      <td>15.0</td>\n",
       "      <td>22.50</td>\n",
       "      <td>25.0</td>\n",
       "      <td>25.00</td>\n",
       "      <td>40.0</td>\n",
       "    </tr>\n",
       "  </tbody>\n",
       "</table>\n",
       "</div>"
      ],
      "text/plain": [
       "           count       mean        std   min    25%   50%    75%   max\n",
       "scale                                                                 \n",
       "15-50人      25.0  20.680000   7.305648   4.5  15.00  20.0  25.00  37.5\n",
       "150-500人    45.0  23.877778   8.152771   5.0  20.00  23.0  30.00  45.0\n",
       "2000人以上     97.0  30.484536  10.695466   8.0  22.50  30.0  37.50  65.0\n",
       "50-150人     47.0  22.106383   9.035519   5.5  15.00  22.0  26.25  45.0\n",
       "500-2000人   63.0  26.071429  10.512610   5.0  18.25  24.0  32.75  55.0\n",
       "少于15人        5.0  25.500000   9.082951  15.0  22.50  25.0  25.00  40.0"
      ]
     },
     "execution_count": 550,
     "metadata": {},
     "output_type": "execute_result"
    }
   ],
   "source": [
    "lagou.groupby(['scale'])['salary_avg'].describe()"
   ]
  },
  {
   "cell_type": "code",
   "execution_count": 551,
   "metadata": {},
   "outputs": [
    {
     "data": {
      "text/plain": [
       "<matplotlib.axes._subplots.AxesSubplot at 0x1bc944ad518>"
      ]
     },
     "execution_count": 551,
     "metadata": {},
     "output_type": "execute_result"
    },
    {
     "data": {
      "image/png": "[encoded data removed]",
      "text/plain": [
       "<Figure size 432x288 with 1 Axes>"
      ]
     },
     "metadata": {
      "needs_background": "light"
     },
     "output_type": "display_data"
    }
   ],
   "source": [
    "sns.barplot(x='scale', y='salary_avg', data=lagou, order=lagou.groupby(['scale'])['salary_avg'].mean().sort_values(ascending=False).index)"
   ]
  },
  {
   "cell_type": "markdown",
   "metadata": {},
   "source": [
    "- 2000人以上规模的公司提供的平均薪水最高，其次是500-2000人的\n",
    "- 15-50人的公司提供的平均薪水最低"
   ]
  },
  {
   "cell_type": "markdown",
   "metadata": {},
   "source": [
    "#### 查看不同领域公司的薪酬情况"
   ]
  },
  {
   "cell_type": "code",
   "execution_count": 552,
   "metadata": {},
   "outputs": [
    {
     "data": {
      "text/plain": [
       "uni_domain\n",
       "营销服务      41.250000\n",
       "社交媒体      39.041667\n",
       "休闲        37.500000\n",
       "旅游        35.000000\n",
       "教育        33.750000\n",
       "金融业       31.875000\n",
       "音频        31.250000\n",
       "内容资讯      30.900000\n",
       "社交平台      30.000000\n",
       "房地产       27.500000\n",
       "新零售       27.500000\n",
       "游戏        27.289474\n",
       "科技金融      27.000000\n",
       "工具类产品     25.357143\n",
       "制造业       25.218750\n",
       "电商平台      25.090909\n",
       "医疗        24.857143\n",
       "人工智能      24.756098\n",
       "移动互联网     24.578947\n",
       "电商        24.166667\n",
       "数据服务      24.018519\n",
       "硬件        23.833333\n",
       "软件服务      23.357143\n",
       "在线教育      23.250000\n",
       "IT技术服务    22.750000\n",
       "MCN       22.500000\n",
       "网络通信      22.333333\n",
       "文化传媒      21.250000\n",
       "企业服务      20.625000\n",
       "物联网       20.125000\n",
       "其他        20.125000\n",
       "智能硬件      19.500000\n",
       "文娱        18.500000\n",
       "信息安全      16.500000\n",
       "汽车        15.000000\n",
       "Name: salary_avg, dtype: float64"
      ]
     },
     "execution_count": 552,
     "metadata": {},
     "output_type": "execute_result"
    }
   ],
   "source": [
    "lagou.groupby(['uni_domain'])['salary_avg'].mean().sort_values(ascending=False)"
   ]
  },
  {
   "cell_type": "code",
   "execution_count": 553,
   "metadata": {},
   "outputs": [
    {
     "data": {
      "text/html": [
       "<div>\n",
       "<style scoped>\n",
       "    .dataframe tbody tr th:only-of-type {\n",
       "        vertical-align: middle;\n",
       "    }\n",
       "\n",
       "    .dataframe tbody tr th {\n",
       "        vertical-align: top;\n",
       "    }\n",
       "\n",
       "    .dataframe thead th {\n",
       "        text-align: right;\n",
       "    }\n",
       "</style>\n",
       "<table border=\"1\" class=\"dataframe\">\n",
       "  <thead>\n",
       "    <tr style=\"text-align: right;\">\n",
       "      <th></th>\n",
       "      <th>count</th>\n",
       "      <th>mean</th>\n",
       "      <th>std</th>\n",
       "      <th>min</th>\n",
       "      <th>25%</th>\n",
       "      <th>50%</th>\n",
       "      <th>75%</th>\n",
       "      <th>max</th>\n",
       "    </tr>\n",
       "    <tr>\n",
       "      <th>uni_domain</th>\n",
       "      <th></th>\n",
       "      <th></th>\n",
       "      <th></th>\n",
       "      <th></th>\n",
       "      <th></th>\n",
       "      <th></th>\n",
       "      <th></th>\n",
       "      <th></th>\n",
       "    </tr>\n",
       "  </thead>\n",
       "  <tbody>\n",
       "    <tr>\n",
       "      <th>IT技术服务</th>\n",
       "      <td>6.0</td>\n",
       "      <td>22.750000</td>\n",
       "      <td>3.856812</td>\n",
       "      <td>19.0</td>\n",
       "      <td>20.625</td>\n",
       "      <td>22.50</td>\n",
       "      <td>22.500</td>\n",
       "      <td>30.0</td>\n",
       "    </tr>\n",
       "    <tr>\n",
       "      <th>MCN</th>\n",
       "      <td>1.0</td>\n",
       "      <td>22.500000</td>\n",
       "      <td>NaN</td>\n",
       "      <td>22.5</td>\n",
       "      <td>22.500</td>\n",
       "      <td>22.50</td>\n",
       "      <td>22.500</td>\n",
       "      <td>22.5</td>\n",
       "    </tr>\n",
       "    <tr>\n",
       "      <th>人工智能</th>\n",
       "      <td>41.0</td>\n",
       "      <td>24.756098</td>\n",
       "      <td>10.723294</td>\n",
       "      <td>4.5</td>\n",
       "      <td>20.000</td>\n",
       "      <td>24.00</td>\n",
       "      <td>30.000</td>\n",
       "      <td>55.0</td>\n",
       "    </tr>\n",
       "    <tr>\n",
       "      <th>企业服务</th>\n",
       "      <td>4.0</td>\n",
       "      <td>20.625000</td>\n",
       "      <td>5.153882</td>\n",
       "      <td>15.0</td>\n",
       "      <td>16.875</td>\n",
       "      <td>21.25</td>\n",
       "      <td>25.000</td>\n",
       "      <td>25.0</td>\n",
       "    </tr>\n",
       "    <tr>\n",
       "      <th>休闲</th>\n",
       "      <td>1.0</td>\n",
       "      <td>37.500000</td>\n",
       "      <td>NaN</td>\n",
       "      <td>37.5</td>\n",
       "      <td>37.500</td>\n",
       "      <td>37.50</td>\n",
       "      <td>37.500</td>\n",
       "      <td>37.5</td>\n",
       "    </tr>\n",
       "    <tr>\n",
       "      <th>信息安全</th>\n",
       "      <td>1.0</td>\n",
       "      <td>16.500000</td>\n",
       "      <td>NaN</td>\n",
       "      <td>16.5</td>\n",
       "      <td>16.500</td>\n",
       "      <td>16.50</td>\n",
       "      <td>16.500</td>\n",
       "      <td>16.5</td>\n",
       "    </tr>\n",
       "    <tr>\n",
       "      <th>其他</th>\n",
       "      <td>4.0</td>\n",
       "      <td>20.125000</td>\n",
       "      <td>9.132132</td>\n",
       "      <td>8.0</td>\n",
       "      <td>17.000</td>\n",
       "      <td>21.25</td>\n",
       "      <td>24.375</td>\n",
       "      <td>30.0</td>\n",
       "    </tr>\n",
       "    <tr>\n",
       "      <th>内容资讯</th>\n",
       "      <td>20.0</td>\n",
       "      <td>30.900000</td>\n",
       "      <td>8.320235</td>\n",
       "      <td>15.0</td>\n",
       "      <td>22.500</td>\n",
       "      <td>31.25</td>\n",
       "      <td>37.500</td>\n",
       "      <td>45.0</td>\n",
       "    </tr>\n",
       "    <tr>\n",
       "      <th>制造业</th>\n",
       "      <td>16.0</td>\n",
       "      <td>25.218750</td>\n",
       "      <td>5.618329</td>\n",
       "      <td>19.0</td>\n",
       "      <td>19.750</td>\n",
       "      <td>25.00</td>\n",
       "      <td>30.000</td>\n",
       "      <td>35.5</td>\n",
       "    </tr>\n",
       "    <tr>\n",
       "      <th>医疗</th>\n",
       "      <td>7.0</td>\n",
       "      <td>24.857143</td>\n",
       "      <td>8.325234</td>\n",
       "      <td>16.5</td>\n",
       "      <td>20.000</td>\n",
       "      <td>22.50</td>\n",
       "      <td>27.500</td>\n",
       "      <td>40.0</td>\n",
       "    </tr>\n",
       "    <tr>\n",
       "      <th>在线教育</th>\n",
       "      <td>2.0</td>\n",
       "      <td>23.250000</td>\n",
       "      <td>1.060660</td>\n",
       "      <td>22.5</td>\n",
       "      <td>22.875</td>\n",
       "      <td>23.25</td>\n",
       "      <td>23.625</td>\n",
       "      <td>24.0</td>\n",
       "    </tr>\n",
       "    <tr>\n",
       "      <th>工具类产品</th>\n",
       "      <td>7.0</td>\n",
       "      <td>25.357143</td>\n",
       "      <td>1.725164</td>\n",
       "      <td>22.5</td>\n",
       "      <td>25.000</td>\n",
       "      <td>25.00</td>\n",
       "      <td>26.250</td>\n",
       "      <td>27.5</td>\n",
       "    </tr>\n",
       "    <tr>\n",
       "      <th>房地产</th>\n",
       "      <td>2.0</td>\n",
       "      <td>27.500000</td>\n",
       "      <td>10.606602</td>\n",
       "      <td>20.0</td>\n",
       "      <td>23.750</td>\n",
       "      <td>27.50</td>\n",
       "      <td>31.250</td>\n",
       "      <td>35.0</td>\n",
       "    </tr>\n",
       "    <tr>\n",
       "      <th>教育</th>\n",
       "      <td>2.0</td>\n",
       "      <td>33.750000</td>\n",
       "      <td>15.909903</td>\n",
       "      <td>22.5</td>\n",
       "      <td>28.125</td>\n",
       "      <td>33.75</td>\n",
       "      <td>39.375</td>\n",
       "      <td>45.0</td>\n",
       "    </tr>\n",
       "    <tr>\n",
       "      <th>数据服务</th>\n",
       "      <td>27.0</td>\n",
       "      <td>24.018519</td>\n",
       "      <td>7.818225</td>\n",
       "      <td>5.0</td>\n",
       "      <td>20.000</td>\n",
       "      <td>23.00</td>\n",
       "      <td>30.000</td>\n",
       "      <td>42.5</td>\n",
       "    </tr>\n",
       "    <tr>\n",
       "      <th>文化传媒</th>\n",
       "      <td>2.0</td>\n",
       "      <td>21.250000</td>\n",
       "      <td>8.838835</td>\n",
       "      <td>15.0</td>\n",
       "      <td>18.125</td>\n",
       "      <td>21.25</td>\n",
       "      <td>24.375</td>\n",
       "      <td>27.5</td>\n",
       "    </tr>\n",
       "    <tr>\n",
       "      <th>文娱</th>\n",
       "      <td>1.0</td>\n",
       "      <td>18.500000</td>\n",
       "      <td>NaN</td>\n",
       "      <td>18.5</td>\n",
       "      <td>18.500</td>\n",
       "      <td>18.50</td>\n",
       "      <td>18.500</td>\n",
       "      <td>18.5</td>\n",
       "    </tr>\n",
       "    <tr>\n",
       "      <th>新零售</th>\n",
       "      <td>2.0</td>\n",
       "      <td>27.500000</td>\n",
       "      <td>0.000000</td>\n",
       "      <td>27.5</td>\n",
       "      <td>27.500</td>\n",
       "      <td>27.50</td>\n",
       "      <td>27.500</td>\n",
       "      <td>27.5</td>\n",
       "    </tr>\n",
       "    <tr>\n",
       "      <th>旅游</th>\n",
       "      <td>2.0</td>\n",
       "      <td>35.000000</td>\n",
       "      <td>7.071068</td>\n",
       "      <td>30.0</td>\n",
       "      <td>32.500</td>\n",
       "      <td>35.00</td>\n",
       "      <td>37.500</td>\n",
       "      <td>40.0</td>\n",
       "    </tr>\n",
       "    <tr>\n",
       "      <th>智能硬件</th>\n",
       "      <td>8.0</td>\n",
       "      <td>19.500000</td>\n",
       "      <td>9.606545</td>\n",
       "      <td>8.0</td>\n",
       "      <td>14.375</td>\n",
       "      <td>17.50</td>\n",
       "      <td>21.000</td>\n",
       "      <td>37.5</td>\n",
       "    </tr>\n",
       "    <tr>\n",
       "      <th>汽车</th>\n",
       "      <td>1.0</td>\n",
       "      <td>15.000000</td>\n",
       "      <td>NaN</td>\n",
       "      <td>15.0</td>\n",
       "      <td>15.000</td>\n",
       "      <td>15.00</td>\n",
       "      <td>15.000</td>\n",
       "      <td>15.0</td>\n",
       "    </tr>\n",
       "    <tr>\n",
       "      <th>游戏</th>\n",
       "      <td>19.0</td>\n",
       "      <td>27.289474</td>\n",
       "      <td>12.125863</td>\n",
       "      <td>8.0</td>\n",
       "      <td>17.500</td>\n",
       "      <td>23.00</td>\n",
       "      <td>37.500</td>\n",
       "      <td>50.0</td>\n",
       "    </tr>\n",
       "    <tr>\n",
       "      <th>物联网</th>\n",
       "      <td>4.0</td>\n",
       "      <td>20.125000</td>\n",
       "      <td>8.280248</td>\n",
       "      <td>15.0</td>\n",
       "      <td>16.125</td>\n",
       "      <td>16.50</td>\n",
       "      <td>20.500</td>\n",
       "      <td>32.5</td>\n",
       "    </tr>\n",
       "    <tr>\n",
       "      <th>电商</th>\n",
       "      <td>3.0</td>\n",
       "      <td>24.166667</td>\n",
       "      <td>12.583057</td>\n",
       "      <td>12.5</td>\n",
       "      <td>17.500</td>\n",
       "      <td>22.50</td>\n",
       "      <td>30.000</td>\n",
       "      <td>37.5</td>\n",
       "    </tr>\n",
       "    <tr>\n",
       "      <th>电商平台</th>\n",
       "      <td>22.0</td>\n",
       "      <td>25.090909</td>\n",
       "      <td>10.305611</td>\n",
       "      <td>10.0</td>\n",
       "      <td>17.375</td>\n",
       "      <td>22.75</td>\n",
       "      <td>30.000</td>\n",
       "      <td>47.5</td>\n",
       "    </tr>\n",
       "    <tr>\n",
       "      <th>硬件</th>\n",
       "      <td>6.0</td>\n",
       "      <td>23.833333</td>\n",
       "      <td>11.369550</td>\n",
       "      <td>14.0</td>\n",
       "      <td>16.250</td>\n",
       "      <td>21.25</td>\n",
       "      <td>25.500</td>\n",
       "      <td>45.0</td>\n",
       "    </tr>\n",
       "    <tr>\n",
       "      <th>社交媒体</th>\n",
       "      <td>12.0</td>\n",
       "      <td>39.041667</td>\n",
       "      <td>7.315793</td>\n",
       "      <td>30.0</td>\n",
       "      <td>30.750</td>\n",
       "      <td>40.00</td>\n",
       "      <td>45.000</td>\n",
       "      <td>50.0</td>\n",
       "    </tr>\n",
       "    <tr>\n",
       "      <th>社交平台</th>\n",
       "      <td>1.0</td>\n",
       "      <td>30.000000</td>\n",
       "      <td>NaN</td>\n",
       "      <td>30.0</td>\n",
       "      <td>30.000</td>\n",
       "      <td>30.00</td>\n",
       "      <td>30.000</td>\n",
       "      <td>30.0</td>\n",
       "    </tr>\n",
       "    <tr>\n",
       "      <th>科技金融</th>\n",
       "      <td>4.0</td>\n",
       "      <td>27.000000</td>\n",
       "      <td>9.669540</td>\n",
       "      <td>15.5</td>\n",
       "      <td>20.750</td>\n",
       "      <td>28.75</td>\n",
       "      <td>35.000</td>\n",
       "      <td>35.0</td>\n",
       "    </tr>\n",
       "    <tr>\n",
       "      <th>移动互联网</th>\n",
       "      <td>19.0</td>\n",
       "      <td>24.578947</td>\n",
       "      <td>16.829425</td>\n",
       "      <td>5.5</td>\n",
       "      <td>14.500</td>\n",
       "      <td>22.50</td>\n",
       "      <td>22.500</td>\n",
       "      <td>65.0</td>\n",
       "    </tr>\n",
       "    <tr>\n",
       "      <th>网络通信</th>\n",
       "      <td>3.0</td>\n",
       "      <td>22.333333</td>\n",
       "      <td>3.752777</td>\n",
       "      <td>18.5</td>\n",
       "      <td>20.500</td>\n",
       "      <td>22.50</td>\n",
       "      <td>24.250</td>\n",
       "      <td>26.0</td>\n",
       "    </tr>\n",
       "    <tr>\n",
       "      <th>营销服务</th>\n",
       "      <td>2.0</td>\n",
       "      <td>41.250000</td>\n",
       "      <td>19.445436</td>\n",
       "      <td>27.5</td>\n",
       "      <td>34.375</td>\n",
       "      <td>41.25</td>\n",
       "      <td>48.125</td>\n",
       "      <td>55.0</td>\n",
       "    </tr>\n",
       "    <tr>\n",
       "      <th>软件服务</th>\n",
       "      <td>14.0</td>\n",
       "      <td>23.357143</td>\n",
       "      <td>10.518168</td>\n",
       "      <td>10.0</td>\n",
       "      <td>15.000</td>\n",
       "      <td>21.25</td>\n",
       "      <td>32.500</td>\n",
       "      <td>37.5</td>\n",
       "    </tr>\n",
       "    <tr>\n",
       "      <th>金融业</th>\n",
       "      <td>4.0</td>\n",
       "      <td>31.875000</td>\n",
       "      <td>7.465197</td>\n",
       "      <td>22.5</td>\n",
       "      <td>28.125</td>\n",
       "      <td>32.50</td>\n",
       "      <td>36.250</td>\n",
       "      <td>40.0</td>\n",
       "    </tr>\n",
       "    <tr>\n",
       "      <th>音频</th>\n",
       "      <td>12.0</td>\n",
       "      <td>31.250000</td>\n",
       "      <td>4.585055</td>\n",
       "      <td>22.5</td>\n",
       "      <td>29.375</td>\n",
       "      <td>30.00</td>\n",
       "      <td>35.000</td>\n",
       "      <td>40.0</td>\n",
       "    </tr>\n",
       "  </tbody>\n",
       "</table>\n",
       "</div>"
      ],
      "text/plain": [
       "            count       mean        std   min     25%    50%     75%   max\n",
       "uni_domain                                                                \n",
       "IT技术服务        6.0  22.750000   3.856812  19.0  20.625  22.50  22.500  30.0\n",
       "MCN           1.0  22.500000        NaN  22.5  22.500  22.50  22.500  22.5\n",
       "人工智能         41.0  24.756098  10.723294   4.5  20.000  24.00  30.000  55.0\n",
       "企业服务          4.0  20.625000   5.153882  15.0  16.875  21.25  25.000  25.0\n",
       "休闲            1.0  37.500000        NaN  37.5  37.500  37.50  37.500  37.5\n",
       "信息安全          1.0  16.500000        NaN  16.5  16.500  16.50  16.500  16.5\n",
       "其他            4.0  20.125000   9.132132   8.0  17.000  21.25  24.375  30.0\n",
       "内容资讯         20.0  30.900000   8.320235  15.0  22.500  31.25  37.500  45.0\n",
       "制造业          16.0  25.218750   5.618329  19.0  19.750  25.00  30.000  35.5\n",
       "医疗            7.0  24.857143   8.325234  16.5  20.000  22.50  27.500  40.0\n",
       "在线教育          2.0  23.250000   1.060660  22.5  22.875  23.25  23.625  24.0\n",
       "工具类产品         7.0  25.357143   1.725164  22.5  25.000  25.00  26.250  27.5\n",
       "房地产           2.0  27.500000  10.606602  20.0  23.750  27.50  31.250  35.0\n",
       "教育            2.0  33.750000  15.909903  22.5  28.125  33.75  39.375  45.0\n",
       "数据服务         27.0  24.018519   7.818225   5.0  20.000  23.00  30.000  42.5\n",
       "文化传媒          2.0  21.250000   8.838835  15.0  18.125  21.25  24.375  27.5\n",
       "文娱            1.0  18.500000        NaN  18.5  18.500  18.50  18.500  18.5\n",
       "新零售           2.0  27.500000   0.000000  27.5  27.500  27.50  27.500  27.5\n",
       "旅游            2.0  35.000000   7.071068  30.0  32.500  35.00  37.500  40.0\n",
       "智能硬件          8.0  19.500000   9.606545   8.0  14.375  17.50  21.000  37.5\n",
       "汽车            1.0  15.000000        NaN  15.0  15.000  15.00  15.000  15.0\n",
       "游戏           19.0  27.289474  12.125863   8.0  17.500  23.00  37.500  50.0\n",
       "物联网           4.0  20.125000   8.280248  15.0  16.125  16.50  20.500  32.5\n",
       "电商            3.0  24.166667  12.583057  12.5  17.500  22.50  30.000  37.5\n",
       "电商平台         22.0  25.090909  10.305611  10.0  17.375  22.75  30.000  47.5\n",
       "硬件            6.0  23.833333  11.369550  14.0  16.250  21.25  25.500  45.0\n",
       "社交媒体         12.0  39.041667   7.315793  30.0  30.750  40.00  45.000  50.0\n",
       "社交平台          1.0  30.000000        NaN  30.0  30.000  30.00  30.000  30.0\n",
       "科技金融          4.0  27.000000   9.669540  15.5  20.750  28.75  35.000  35.0\n",
       "移动互联网        19.0  24.578947  16.829425   5.5  14.500  22.50  22.500  65.0\n",
       "网络通信          3.0  22.333333   3.752777  18.5  20.500  22.50  24.250  26.0\n",
       "营销服务          2.0  41.250000  19.445436  27.5  34.375  41.25  48.125  55.0\n",
       "软件服务         14.0  23.357143  10.518168  10.0  15.000  21.25  32.500  37.5\n",
       "金融业           4.0  31.875000   7.465197  22.5  28.125  32.50  36.250  40.0\n",
       "音频           12.0  31.250000   4.585055  22.5  29.375  30.00  35.000  40.0"
      ]
     },
     "execution_count": 553,
     "metadata": {},
     "output_type": "execute_result"
    }
   ],
   "source": [
    "lagou.groupby(['uni_domain'])['salary_avg'].describe()"
   ]
  },
  {
   "cell_type": "code",
   "execution_count": 554,
   "metadata": {},
   "outputs": [
    {
     "data": {
      "text/plain": [
       "<matplotlib.axes._subplots.AxesSubplot at 0x1bc932e2a58>"
      ]
     },
     "execution_count": 554,
     "metadata": {},
     "output_type": "execute_result"
    },
    {
     "data": {
      "image/png": "[encoded data removed]",
      "text/plain": [
       "<Figure size 576x720 with 1 Axes>"
      ]
     },
     "metadata": {
      "needs_background": "light"
     },
     "output_type": "display_data"
    }
   ],
   "source": [
    "plt.figure(figsize=(8, 10))\n",
    "sns.barplot(y='uni_domain', x='salary_avg', data=lagou, order=lagou.groupby(['uni_domain'])['salary_avg'].mean().sort_values(ascending=False).index)"
   ]
  },
  {
   "cell_type": "markdown",
   "metadata": {},
   "source": [
    "- 营销服务领域的公司提供的平均薪水最高（41k），其次是社交媒体（39k）、休闲（37k）、旅游（35k）、教育（33k）\n",
    "- 汽车行业的公司提供的平均薪水最少"
   ]
  },
  {
   "cell_type": "markdown",
   "metadata": {},
   "source": [
    "### 其他变量和学历要求的关系"
   ]
  },
  {
   "cell_type": "markdown",
   "metadata": {},
   "source": [
    "#### 查看不同公司对学历的要求"
   ]
  },
  {
   "cell_type": "code",
   "execution_count": 555,
   "metadata": {},
   "outputs": [
    {
     "data": {
      "text/html": [
       "<div>\n",
       "<style scoped>\n",
       "    .dataframe tbody tr th:only-of-type {\n",
       "        vertical-align: middle;\n",
       "    }\n",
       "\n",
       "    .dataframe tbody tr th {\n",
       "        vertical-align: top;\n",
       "    }\n",
       "\n",
       "    .dataframe thead th {\n",
       "        text-align: right;\n",
       "    }\n",
       "</style>\n",
       "<table border=\"1\" class=\"dataframe\">\n",
       "  <thead>\n",
       "    <tr style=\"text-align: right;\">\n",
       "      <th></th>\n",
       "      <th>company</th>\n",
       "      <th>count</th>\n",
       "    </tr>\n",
       "  </thead>\n",
       "  <tbody>\n",
       "    <tr>\n",
       "      <th>0</th>\n",
       "      <td>网易</td>\n",
       "      <td>13</td>\n",
       "    </tr>\n",
       "    <tr>\n",
       "      <th>1</th>\n",
       "      <td>小鹏汽车</td>\n",
       "      <td>8</td>\n",
       "    </tr>\n",
       "    <tr>\n",
       "      <th>2</th>\n",
       "      <td>欢聚集团（JOYY Inc.）</td>\n",
       "      <td>8</td>\n",
       "    </tr>\n",
       "    <tr>\n",
       "      <th>3</th>\n",
       "      <td>酷狗音乐</td>\n",
       "      <td>8</td>\n",
       "    </tr>\n",
       "    <tr>\n",
       "      <th>4</th>\n",
       "      <td>紫为云（北京）智能科技有限公司</td>\n",
       "      <td>6</td>\n",
       "    </tr>\n",
       "    <tr>\n",
       "      <th>5</th>\n",
       "      <td>诚迈信息</td>\n",
       "      <td>5</td>\n",
       "    </tr>\n",
       "    <tr>\n",
       "      <th>6</th>\n",
       "      <td>唯品会</td>\n",
       "      <td>4</td>\n",
       "    </tr>\n",
       "    <tr>\n",
       "      <th>7</th>\n",
       "      <td>DMAI智能科技</td>\n",
       "      <td>4</td>\n",
       "    </tr>\n",
       "    <tr>\n",
       "      <th>8</th>\n",
       "      <td>深声科技</td>\n",
       "      <td>4</td>\n",
       "    </tr>\n",
       "    <tr>\n",
       "      <th>9</th>\n",
       "      <td>虎牙科技</td>\n",
       "      <td>4</td>\n",
       "    </tr>\n",
       "    <tr>\n",
       "      <th>10</th>\n",
       "      <td>荔枝</td>\n",
       "      <td>3</td>\n",
       "    </tr>\n",
       "    <tr>\n",
       "      <th>11</th>\n",
       "      <td>广州棒谷科技股份有限公司</td>\n",
       "      <td>3</td>\n",
       "    </tr>\n",
       "    <tr>\n",
       "      <th>12</th>\n",
       "      <td>百布</td>\n",
       "      <td>3</td>\n",
       "    </tr>\n",
       "    <tr>\n",
       "      <th>13</th>\n",
       "      <td>美业颜究院</td>\n",
       "      <td>3</td>\n",
       "    </tr>\n",
       "    <tr>\n",
       "      <th>14</th>\n",
       "      <td>三七互娱</td>\n",
       "      <td>3</td>\n",
       "    </tr>\n",
       "    <tr>\n",
       "      <th>15</th>\n",
       "      <td>CVTE</td>\n",
       "      <td>3</td>\n",
       "    </tr>\n",
       "    <tr>\n",
       "      <th>16</th>\n",
       "      <td>太平洋网络有限公司</td>\n",
       "      <td>3</td>\n",
       "    </tr>\n",
       "    <tr>\n",
       "      <th>17</th>\n",
       "      <td>为工智能</td>\n",
       "      <td>2</td>\n",
       "    </tr>\n",
       "    <tr>\n",
       "      <th>18</th>\n",
       "      <td>Fordeal</td>\n",
       "      <td>2</td>\n",
       "    </tr>\n",
       "    <tr>\n",
       "      <th>19</th>\n",
       "      <td>派客朴食</td>\n",
       "      <td>2</td>\n",
       "    </tr>\n",
       "    <tr>\n",
       "      <th>20</th>\n",
       "      <td>金山办公软件</td>\n",
       "      <td>2</td>\n",
       "    </tr>\n",
       "    <tr>\n",
       "      <th>21</th>\n",
       "      <td>如祺出行</td>\n",
       "      <td>2</td>\n",
       "    </tr>\n",
       "    <tr>\n",
       "      <th>22</th>\n",
       "      <td>妈妈网</td>\n",
       "      <td>2</td>\n",
       "    </tr>\n",
       "    <tr>\n",
       "      <th>23</th>\n",
       "      <td>联通（广东）产业互联网...</td>\n",
       "      <td>2</td>\n",
       "    </tr>\n",
       "    <tr>\n",
       "      <th>24</th>\n",
       "      <td>富港万嘉</td>\n",
       "      <td>2</td>\n",
       "    </tr>\n",
       "    <tr>\n",
       "      <th>25</th>\n",
       "      <td>参数</td>\n",
       "      <td>2</td>\n",
       "    </tr>\n",
       "    <tr>\n",
       "      <th>26</th>\n",
       "      <td>中移互联网</td>\n",
       "      <td>2</td>\n",
       "    </tr>\n",
       "    <tr>\n",
       "      <th>27</th>\n",
       "      <td>Bigo</td>\n",
       "      <td>2</td>\n",
       "    </tr>\n",
       "    <tr>\n",
       "      <th>28</th>\n",
       "      <td>广芯微电子</td>\n",
       "      <td>2</td>\n",
       "    </tr>\n",
       "    <tr>\n",
       "      <th>29</th>\n",
       "      <td>微革网络</td>\n",
       "      <td>2</td>\n",
       "    </tr>\n",
       "    <tr>\n",
       "      <th>...</th>\n",
       "      <td>...</td>\n",
       "      <td>...</td>\n",
       "    </tr>\n",
       "    <tr>\n",
       "      <th>82</th>\n",
       "      <td>南方报业</td>\n",
       "      <td>1</td>\n",
       "    </tr>\n",
       "    <tr>\n",
       "      <th>83</th>\n",
       "      <td>腾讯</td>\n",
       "      <td>1</td>\n",
       "    </tr>\n",
       "    <tr>\n",
       "      <th>84</th>\n",
       "      <td>织点智能</td>\n",
       "      <td>1</td>\n",
       "    </tr>\n",
       "    <tr>\n",
       "      <th>85</th>\n",
       "      <td>叶浪智能</td>\n",
       "      <td>1</td>\n",
       "    </tr>\n",
       "    <tr>\n",
       "      <th>86</th>\n",
       "      <td>星蓝块链</td>\n",
       "      <td>1</td>\n",
       "    </tr>\n",
       "    <tr>\n",
       "      <th>87</th>\n",
       "      <td>衣神科技</td>\n",
       "      <td>1</td>\n",
       "    </tr>\n",
       "    <tr>\n",
       "      <th>88</th>\n",
       "      <td>川山教育</td>\n",
       "      <td>1</td>\n",
       "    </tr>\n",
       "    <tr>\n",
       "      <th>89</th>\n",
       "      <td>滴普科技</td>\n",
       "      <td>1</td>\n",
       "    </tr>\n",
       "    <tr>\n",
       "      <th>90</th>\n",
       "      <td>博纳德</td>\n",
       "      <td>1</td>\n",
       "    </tr>\n",
       "    <tr>\n",
       "      <th>91</th>\n",
       "      <td>网龙网络有限公司</td>\n",
       "      <td>1</td>\n",
       "    </tr>\n",
       "    <tr>\n",
       "      <th>92</th>\n",
       "      <td>广州奕才企业管理顾问有限公司</td>\n",
       "      <td>1</td>\n",
       "    </tr>\n",
       "    <tr>\n",
       "      <th>93</th>\n",
       "      <td>高新兴科技集团</td>\n",
       "      <td>1</td>\n",
       "    </tr>\n",
       "    <tr>\n",
       "      <th>94</th>\n",
       "      <td>佰聆数据</td>\n",
       "      <td>1</td>\n",
       "    </tr>\n",
       "    <tr>\n",
       "      <th>95</th>\n",
       "      <td>影子科技</td>\n",
       "      <td>1</td>\n",
       "    </tr>\n",
       "    <tr>\n",
       "      <th>96</th>\n",
       "      <td>腾米克(TENMIC)</td>\n",
       "      <td>1</td>\n",
       "    </tr>\n",
       "    <tr>\n",
       "      <th>97</th>\n",
       "      <td>丹霄技术</td>\n",
       "      <td>1</td>\n",
       "    </tr>\n",
       "    <tr>\n",
       "      <th>98</th>\n",
       "      <td>聚焦网络集团</td>\n",
       "      <td>1</td>\n",
       "    </tr>\n",
       "    <tr>\n",
       "      <th>99</th>\n",
       "      <td>一手</td>\n",
       "      <td>1</td>\n",
       "    </tr>\n",
       "    <tr>\n",
       "      <th>100</th>\n",
       "      <td>富力地产</td>\n",
       "      <td>1</td>\n",
       "    </tr>\n",
       "    <tr>\n",
       "      <th>101</th>\n",
       "      <td>小橙科技</td>\n",
       "      <td>1</td>\n",
       "    </tr>\n",
       "    <tr>\n",
       "      <th>102</th>\n",
       "      <td>翼课网</td>\n",
       "      <td>1</td>\n",
       "    </tr>\n",
       "    <tr>\n",
       "      <th>103</th>\n",
       "      <td>赛特智能</td>\n",
       "      <td>1</td>\n",
       "    </tr>\n",
       "    <tr>\n",
       "      <th>104</th>\n",
       "      <td>比地数据</td>\n",
       "      <td>1</td>\n",
       "    </tr>\n",
       "    <tr>\n",
       "      <th>105</th>\n",
       "      <td>蓝深科技</td>\n",
       "      <td>1</td>\n",
       "    </tr>\n",
       "    <tr>\n",
       "      <th>106</th>\n",
       "      <td>数立方</td>\n",
       "      <td>1</td>\n",
       "    </tr>\n",
       "    <tr>\n",
       "      <th>107</th>\n",
       "      <td>字节跳动</td>\n",
       "      <td>1</td>\n",
       "    </tr>\n",
       "    <tr>\n",
       "      <th>108</th>\n",
       "      <td>广州思迈特</td>\n",
       "      <td>1</td>\n",
       "    </tr>\n",
       "    <tr>\n",
       "      <th>109</th>\n",
       "      <td>智慧云创</td>\n",
       "      <td>1</td>\n",
       "    </tr>\n",
       "    <tr>\n",
       "      <th>110</th>\n",
       "      <td>广东顺德中山大学卡内基梅隆大学国际联合研究院</td>\n",
       "      <td>1</td>\n",
       "    </tr>\n",
       "    <tr>\n",
       "      <th>111</th>\n",
       "      <td>慧择信息集团</td>\n",
       "      <td>1</td>\n",
       "    </tr>\n",
       "  </tbody>\n",
       "</table>\n",
       "<p>112 rows × 2 columns</p>\n",
       "</div>"
      ],
      "text/plain": [
       "                    company  count\n",
       "0                        网易     13\n",
       "1                      小鹏汽车      8\n",
       "2           欢聚集团（JOYY Inc.）      8\n",
       "3                      酷狗音乐      8\n",
       "4           紫为云（北京）智能科技有限公司      6\n",
       "5                      诚迈信息      5\n",
       "6                       唯品会      4\n",
       "7                  DMAI智能科技      4\n",
       "8                      深声科技      4\n",
       "9                      虎牙科技      4\n",
       "10                       荔枝      3\n",
       "11             广州棒谷科技股份有限公司      3\n",
       "12                       百布      3\n",
       "13                    美业颜究院      3\n",
       "14                     三七互娱      3\n",
       "15                     CVTE      3\n",
       "16                太平洋网络有限公司      3\n",
       "17                     为工智能      2\n",
       "18                  Fordeal      2\n",
       "19                     派客朴食      2\n",
       "20                   金山办公软件      2\n",
       "21                     如祺出行      2\n",
       "22                      妈妈网      2\n",
       "23           联通（广东）产业互联网...      2\n",
       "24                     富港万嘉      2\n",
       "25                       参数      2\n",
       "26                    中移互联网      2\n",
       "27                     Bigo      2\n",
       "28                    广芯微电子      2\n",
       "29                     微革网络      2\n",
       "..                      ...    ...\n",
       "82                     南方报业      1\n",
       "83                       腾讯      1\n",
       "84                     织点智能      1\n",
       "85                     叶浪智能      1\n",
       "86                     星蓝块链      1\n",
       "87                     衣神科技      1\n",
       "88                     川山教育      1\n",
       "89                     滴普科技      1\n",
       "90                      博纳德      1\n",
       "91                 网龙网络有限公司      1\n",
       "92           广州奕才企业管理顾问有限公司      1\n",
       "93                  高新兴科技集团      1\n",
       "94                     佰聆数据      1\n",
       "95                     影子科技      1\n",
       "96              腾米克(TENMIC)      1\n",
       "97                     丹霄技术      1\n",
       "98                   聚焦网络集团      1\n",
       "99                       一手      1\n",
       "100                    富力地产      1\n",
       "101                    小橙科技      1\n",
       "102                     翼课网      1\n",
       "103                    赛特智能      1\n",
       "104                    比地数据      1\n",
       "105                    蓝深科技      1\n",
       "106                     数立方      1\n",
       "107                    字节跳动      1\n",
       "108                   广州思迈特      1\n",
       "109                    智慧云创      1\n",
       "110  广东顺德中山大学卡内基梅隆大学国际联合研究院      1\n",
       "111                  慧择信息集团      1\n",
       "\n",
       "[112 rows x 2 columns]"
      ]
     },
     "execution_count": 555,
     "metadata": {},
     "output_type": "execute_result"
    }
   ],
   "source": [
    "# 有本科学历要求的公司\n",
    "qc = lagou[lagou['qualification'] == '本科']['company'].value_counts()\n",
    "qcdf = pd.DataFrame(qc).reset_index()\n",
    "qcdf = qcdf.rename({'index':'company', 'company': 'count'}, axis=1)\n",
    "qcdf"
   ]
  },
  {
   "cell_type": "code",
   "execution_count": 556,
   "metadata": {},
   "outputs": [
    {
     "data": {
      "text/plain": [
       "<matplotlib.axes._subplots.AxesSubplot at 0x1bc94694f98>"
      ]
     },
     "execution_count": 556,
     "metadata": {},
     "output_type": "execute_result"
    },
    {
     "data": {
      "image/png": "[encoded data removed]",
      "text/plain": [
       "<Figure size 720x576 with 1 Axes>"
      ]
     },
     "metadata": {
      "needs_background": "light"
     },
     "output_type": "display_data"
    }
   ],
   "source": [
    "plt.figure(figsize=(10, 8))\n",
    "sns.barplot(y='company', x='count', data=qcdf[qcdf['count']>1])\n"
   ]
  },
  {
   "cell_type": "markdown",
   "metadata": {},
   "source": [
    "- 对该岗位有本科学历要求的公司有112家\n",
    "- 对该岗位有本科学历要求的最多的是网易公司，有13个\n",
    "- 其次是小鹏汽车、欢聚集团、酷狗音乐（8个）"
   ]
  },
  {
   "cell_type": "code",
   "execution_count": 557,
   "metadata": {},
   "outputs": [
    {
     "data": {
      "text/html": [
       "<div>\n",
       "<style scoped>\n",
       "    .dataframe tbody tr th:only-of-type {\n",
       "        vertical-align: middle;\n",
       "    }\n",
       "\n",
       "    .dataframe tbody tr th {\n",
       "        vertical-align: top;\n",
       "    }\n",
       "\n",
       "    .dataframe thead th {\n",
       "        text-align: right;\n",
       "    }\n",
       "</style>\n",
       "<table border=\"1\" class=\"dataframe\">\n",
       "  <thead>\n",
       "    <tr style=\"text-align: right;\">\n",
       "      <th></th>\n",
       "      <th>company</th>\n",
       "      <th>count</th>\n",
       "    </tr>\n",
       "  </thead>\n",
       "  <tbody>\n",
       "    <tr>\n",
       "      <th>0</th>\n",
       "      <td>小鹏汽车</td>\n",
       "      <td>4</td>\n",
       "    </tr>\n",
       "    <tr>\n",
       "      <th>1</th>\n",
       "      <td>广州市奥威亚电子科技有限公司</td>\n",
       "      <td>4</td>\n",
       "    </tr>\n",
       "    <tr>\n",
       "      <th>2</th>\n",
       "      <td>ImageDT图匠数据</td>\n",
       "      <td>3</td>\n",
       "    </tr>\n",
       "    <tr>\n",
       "      <th>3</th>\n",
       "      <td>时谛智能</td>\n",
       "      <td>3</td>\n",
       "    </tr>\n",
       "    <tr>\n",
       "      <th>4</th>\n",
       "      <td>DMAI智能科技</td>\n",
       "      <td>3</td>\n",
       "    </tr>\n",
       "    <tr>\n",
       "      <th>5</th>\n",
       "      <td>柏视医疗</td>\n",
       "      <td>3</td>\n",
       "    </tr>\n",
       "    <tr>\n",
       "      <th>6</th>\n",
       "      <td>联友科技</td>\n",
       "      <td>2</td>\n",
       "    </tr>\n",
       "    <tr>\n",
       "      <th>7</th>\n",
       "      <td>XAG极飞科技</td>\n",
       "      <td>2</td>\n",
       "    </tr>\n",
       "    <tr>\n",
       "      <th>8</th>\n",
       "      <td>玄武科技</td>\n",
       "      <td>2</td>\n",
       "    </tr>\n",
       "    <tr>\n",
       "      <th>9</th>\n",
       "      <td>参数</td>\n",
       "      <td>2</td>\n",
       "    </tr>\n",
       "    <tr>\n",
       "      <th>10</th>\n",
       "      <td>广东亿迅</td>\n",
       "      <td>2</td>\n",
       "    </tr>\n",
       "    <tr>\n",
       "      <th>11</th>\n",
       "      <td>腾讯</td>\n",
       "      <td>2</td>\n",
       "    </tr>\n",
       "    <tr>\n",
       "      <th>12</th>\n",
       "      <td>欢聚集团（JOYY Inc.）</td>\n",
       "      <td>2</td>\n",
       "    </tr>\n",
       "    <tr>\n",
       "      <th>13</th>\n",
       "      <td>钱大妈</td>\n",
       "      <td>2</td>\n",
       "    </tr>\n",
       "    <tr>\n",
       "      <th>14</th>\n",
       "      <td>网易</td>\n",
       "      <td>2</td>\n",
       "    </tr>\n",
       "    <tr>\n",
       "      <th>15</th>\n",
       "      <td>特道信息</td>\n",
       "      <td>1</td>\n",
       "    </tr>\n",
       "    <tr>\n",
       "      <th>16</th>\n",
       "      <td>英码科技</td>\n",
       "      <td>1</td>\n",
       "    </tr>\n",
       "    <tr>\n",
       "      <th>17</th>\n",
       "      <td>树根互联技术有限公司</td>\n",
       "      <td>1</td>\n",
       "    </tr>\n",
       "    <tr>\n",
       "      <th>18</th>\n",
       "      <td>建信金科</td>\n",
       "      <td>1</td>\n",
       "    </tr>\n",
       "    <tr>\n",
       "      <th>19</th>\n",
       "      <td>Mobvista</td>\n",
       "      <td>1</td>\n",
       "    </tr>\n",
       "    <tr>\n",
       "      <th>20</th>\n",
       "      <td>康云科技</td>\n",
       "      <td>1</td>\n",
       "    </tr>\n",
       "    <tr>\n",
       "      <th>21</th>\n",
       "      <td>魅视电子</td>\n",
       "      <td>1</td>\n",
       "    </tr>\n",
       "    <tr>\n",
       "      <th>22</th>\n",
       "      <td>东软医疗系统</td>\n",
       "      <td>1</td>\n",
       "    </tr>\n",
       "    <tr>\n",
       "      <th>23</th>\n",
       "      <td>酷狗音乐</td>\n",
       "      <td>1</td>\n",
       "    </tr>\n",
       "    <tr>\n",
       "      <th>24</th>\n",
       "      <td>佳都科技</td>\n",
       "      <td>1</td>\n",
       "    </tr>\n",
       "    <tr>\n",
       "      <th>25</th>\n",
       "      <td>华里网络</td>\n",
       "      <td>1</td>\n",
       "    </tr>\n",
       "    <tr>\n",
       "      <th>26</th>\n",
       "      <td>趣丸</td>\n",
       "      <td>1</td>\n",
       "    </tr>\n",
       "    <tr>\n",
       "      <th>27</th>\n",
       "      <td>深演智能</td>\n",
       "      <td>1</td>\n",
       "    </tr>\n",
       "    <tr>\n",
       "      <th>28</th>\n",
       "      <td>触宝</td>\n",
       "      <td>1</td>\n",
       "    </tr>\n",
       "    <tr>\n",
       "      <th>29</th>\n",
       "      <td>创新奇智</td>\n",
       "      <td>1</td>\n",
       "    </tr>\n",
       "    <tr>\n",
       "      <th>30</th>\n",
       "      <td>广东省新一代</td>\n",
       "      <td>1</td>\n",
       "    </tr>\n",
       "    <tr>\n",
       "      <th>31</th>\n",
       "      <td>广州市妇儿中心</td>\n",
       "      <td>1</td>\n",
       "    </tr>\n",
       "    <tr>\n",
       "      <th>32</th>\n",
       "      <td>宏鸿钥科技</td>\n",
       "      <td>1</td>\n",
       "    </tr>\n",
       "    <tr>\n",
       "      <th>33</th>\n",
       "      <td>蓝鸽集团</td>\n",
       "      <td>1</td>\n",
       "    </tr>\n",
       "    <tr>\n",
       "      <th>34</th>\n",
       "      <td>广东智源</td>\n",
       "      <td>1</td>\n",
       "    </tr>\n",
       "    <tr>\n",
       "      <th>35</th>\n",
       "      <td>极点三维</td>\n",
       "      <td>1</td>\n",
       "    </tr>\n",
       "    <tr>\n",
       "      <th>36</th>\n",
       "      <td>星舆科技</td>\n",
       "      <td>1</td>\n",
       "    </tr>\n",
       "    <tr>\n",
       "      <th>37</th>\n",
       "      <td>凯迪网络</td>\n",
       "      <td>1</td>\n",
       "    </tr>\n",
       "    <tr>\n",
       "      <th>38</th>\n",
       "      <td>忘平科技</td>\n",
       "      <td>1</td>\n",
       "    </tr>\n",
       "    <tr>\n",
       "      <th>39</th>\n",
       "      <td>广州思迈特</td>\n",
       "      <td>1</td>\n",
       "    </tr>\n",
       "    <tr>\n",
       "      <th>40</th>\n",
       "      <td>深声科技</td>\n",
       "      <td>1</td>\n",
       "    </tr>\n",
       "    <tr>\n",
       "      <th>41</th>\n",
       "      <td>广发银行信用卡中心</td>\n",
       "      <td>1</td>\n",
       "    </tr>\n",
       "    <tr>\n",
       "      <th>42</th>\n",
       "      <td>赛维森</td>\n",
       "      <td>1</td>\n",
       "    </tr>\n",
       "    <tr>\n",
       "      <th>43</th>\n",
       "      <td>亿航智能无人机Ehang</td>\n",
       "      <td>1</td>\n",
       "    </tr>\n",
       "    <tr>\n",
       "      <th>44</th>\n",
       "      <td>易风健康</td>\n",
       "      <td>1</td>\n",
       "    </tr>\n",
       "    <tr>\n",
       "      <th>45</th>\n",
       "      <td>衡昊数据</td>\n",
       "      <td>1</td>\n",
       "    </tr>\n",
       "    <tr>\n",
       "      <th>46</th>\n",
       "      <td>一心石意</td>\n",
       "      <td>1</td>\n",
       "    </tr>\n",
       "  </tbody>\n",
       "</table>\n",
       "</div>"
      ],
      "text/plain": [
       "            company  count\n",
       "0              小鹏汽车      4\n",
       "1    广州市奥威亚电子科技有限公司      4\n",
       "2       ImageDT图匠数据      3\n",
       "3              时谛智能      3\n",
       "4          DMAI智能科技      3\n",
       "5              柏视医疗      3\n",
       "6              联友科技      2\n",
       "7           XAG极飞科技      2\n",
       "8              玄武科技      2\n",
       "9                参数      2\n",
       "10             广东亿迅      2\n",
       "11               腾讯      2\n",
       "12  欢聚集团（JOYY Inc.）      2\n",
       "13              钱大妈      2\n",
       "14               网易      2\n",
       "15             特道信息      1\n",
       "16             英码科技      1\n",
       "17       树根互联技术有限公司      1\n",
       "18             建信金科      1\n",
       "19         Mobvista      1\n",
       "20             康云科技      1\n",
       "21             魅视电子      1\n",
       "22           东软医疗系统      1\n",
       "23             酷狗音乐      1\n",
       "24             佳都科技      1\n",
       "25             华里网络      1\n",
       "26               趣丸      1\n",
       "27             深演智能      1\n",
       "28               触宝      1\n",
       "29             创新奇智      1\n",
       "30           广东省新一代      1\n",
       "31          广州市妇儿中心      1\n",
       "32            宏鸿钥科技      1\n",
       "33             蓝鸽集团      1\n",
       "34             广东智源      1\n",
       "35             极点三维      1\n",
       "36             星舆科技      1\n",
       "37             凯迪网络      1\n",
       "38             忘平科技      1\n",
       "39            广州思迈特      1\n",
       "40             深声科技      1\n",
       "41        广发银行信用卡中心      1\n",
       "42              赛维森      1\n",
       "43     亿航智能无人机Ehang      1\n",
       "44             易风健康      1\n",
       "45             衡昊数据      1\n",
       "46             一心石意      1"
      ]
     },
     "execution_count": 557,
     "metadata": {},
     "output_type": "execute_result"
    }
   ],
   "source": [
    "# 有硕士学历要求的公司\n",
    "qc = lagou[lagou['qualification'] == '硕士']['company'].value_counts()\n",
    "qcdf = pd.DataFrame(qc).reset_index()\n",
    "qcdf = qcdf.rename({'index':'company', 'company': 'count'}, axis=1)\n",
    "qcdf"
   ]
  },
  {
   "cell_type": "code",
   "execution_count": 558,
   "metadata": {},
   "outputs": [
    {
     "data": {
      "text/plain": [
       "<matplotlib.axes._subplots.AxesSubplot at 0x1bc947d86a0>"
      ]
     },
     "execution_count": 558,
     "metadata": {},
     "output_type": "execute_result"
    },
    {
     "data": {
      "image/png": "[encoded data removed]",
      "text/plain": [
       "<Figure size 432x288 with 1 Axes>"
      ]
     },
     "metadata": {
      "needs_background": "light"
     },
     "output_type": "display_data"
    }
   ],
   "source": [
    "sns.barplot(y='company', x='count', data=qcdf[qcdf['count']>1])"
   ]
  },
  {
   "cell_type": "markdown",
   "metadata": {},
   "source": [
    "- 对该岗位有硕士学历要求的公司有47家\n",
    "- 对该岗位有硕士学历要求的最多的是小鹏汽车、广州市奥威亚电子科技有限公司，有4个\n",
    "- 其次是ImageDT图匠数据、时谛智能、DMAI智能科技、柏视医疗（3个）"
   ]
  },
  {
   "cell_type": "code",
   "execution_count": 559,
   "metadata": {},
   "outputs": [
    {
     "data": {
      "text/html": [
       "<div>\n",
       "<style scoped>\n",
       "    .dataframe tbody tr th:only-of-type {\n",
       "        vertical-align: middle;\n",
       "    }\n",
       "\n",
       "    .dataframe tbody tr th {\n",
       "        vertical-align: top;\n",
       "    }\n",
       "\n",
       "    .dataframe thead th {\n",
       "        text-align: right;\n",
       "    }\n",
       "</style>\n",
       "<table border=\"1\" class=\"dataframe\">\n",
       "  <thead>\n",
       "    <tr style=\"text-align: right;\">\n",
       "      <th></th>\n",
       "      <th>company</th>\n",
       "      <th>count</th>\n",
       "    </tr>\n",
       "  </thead>\n",
       "  <tbody>\n",
       "    <tr>\n",
       "      <th>0</th>\n",
       "      <td>CVTE</td>\n",
       "      <td>1</td>\n",
       "    </tr>\n",
       "    <tr>\n",
       "      <th>1</th>\n",
       "      <td>广东瀚阳轨道信息科技...</td>\n",
       "      <td>1</td>\n",
       "    </tr>\n",
       "  </tbody>\n",
       "</table>\n",
       "</div>"
      ],
      "text/plain": [
       "         company  count\n",
       "0           CVTE      1\n",
       "1  广东瀚阳轨道信息科技...      1"
      ]
     },
     "execution_count": 559,
     "metadata": {},
     "output_type": "execute_result"
    }
   ],
   "source": [
    "# 有博士学历要求的公司\n",
    "qc = lagou[lagou['qualification'] == '博士']['company'].value_counts()\n",
    "qcdf = pd.DataFrame(qc).reset_index()\n",
    "qcdf = qcdf.rename({'index':'company', 'company': 'count'}, axis=1)\n",
    "qcdf"
   ]
  },
  {
   "cell_type": "markdown",
   "metadata": {},
   "source": [
    "- 对该岗位有博士学历要求的只有CVTE和广东瀚阳轨道信息科技公司,只有1个"
   ]
  },
  {
   "cell_type": "code",
   "execution_count": 560,
   "metadata": {},
   "outputs": [
    {
     "data": {
      "text/html": [
       "<div>\n",
       "<style scoped>\n",
       "    .dataframe tbody tr th:only-of-type {\n",
       "        vertical-align: middle;\n",
       "    }\n",
       "\n",
       "    .dataframe tbody tr th {\n",
       "        vertical-align: top;\n",
       "    }\n",
       "\n",
       "    .dataframe thead th {\n",
       "        text-align: right;\n",
       "    }\n",
       "</style>\n",
       "<table border=\"1\" class=\"dataframe\">\n",
       "  <thead>\n",
       "    <tr style=\"text-align: right;\">\n",
       "      <th></th>\n",
       "      <th>company</th>\n",
       "      <th>count</th>\n",
       "    </tr>\n",
       "  </thead>\n",
       "  <tbody>\n",
       "    <tr>\n",
       "      <th>0</th>\n",
       "      <td>小鹏汽车</td>\n",
       "      <td>2</td>\n",
       "    </tr>\n",
       "    <tr>\n",
       "      <th>1</th>\n",
       "      <td>金地</td>\n",
       "      <td>2</td>\n",
       "    </tr>\n",
       "    <tr>\n",
       "      <th>2</th>\n",
       "      <td>偶家科技</td>\n",
       "      <td>1</td>\n",
       "    </tr>\n",
       "    <tr>\n",
       "      <th>3</th>\n",
       "      <td>紫为云（北京）智能科技有限公司</td>\n",
       "      <td>1</td>\n",
       "    </tr>\n",
       "    <tr>\n",
       "      <th>4</th>\n",
       "      <td>三七互娱</td>\n",
       "      <td>1</td>\n",
       "    </tr>\n",
       "    <tr>\n",
       "      <th>5</th>\n",
       "      <td>广数</td>\n",
       "      <td>1</td>\n",
       "    </tr>\n",
       "    <tr>\n",
       "      <th>6</th>\n",
       "      <td>蜗牛保险</td>\n",
       "      <td>1</td>\n",
       "    </tr>\n",
       "    <tr>\n",
       "      <th>7</th>\n",
       "      <td>易站通</td>\n",
       "      <td>1</td>\n",
       "    </tr>\n",
       "    <tr>\n",
       "      <th>8</th>\n",
       "      <td>多益网络</td>\n",
       "      <td>1</td>\n",
       "    </tr>\n",
       "  </tbody>\n",
       "</table>\n",
       "</div>"
      ],
      "text/plain": [
       "           company  count\n",
       "0             小鹏汽车      2\n",
       "1               金地      2\n",
       "2             偶家科技      1\n",
       "3  紫为云（北京）智能科技有限公司      1\n",
       "4             三七互娱      1\n",
       "5               广数      1\n",
       "6             蜗牛保险      1\n",
       "7              易站通      1\n",
       "8             多益网络      1"
      ]
     },
     "execution_count": 560,
     "metadata": {},
     "output_type": "execute_result"
    }
   ],
   "source": [
    "# 不限学历要求的公司\n",
    "qc = lagou[lagou['qualification'] == '不限']['company'].value_counts()\n",
    "qcdf = pd.DataFrame(qc).reset_index()\n",
    "qcdf = qcdf.rename({'index':'company', 'company': 'count'}, axis=1)\n",
    "qcdf"
   ]
  },
  {
   "cell_type": "code",
   "execution_count": 561,
   "metadata": {},
   "outputs": [
    {
     "data": {
      "text/plain": [
       "<matplotlib.axes._subplots.AxesSubplot at 0x1bc94a2d2e8>"
      ]
     },
     "execution_count": 561,
     "metadata": {},
     "output_type": "execute_result"
    },
    {
     "data": {
      "image/png": "[encoded data removed]",
      "text/plain": [
       "<Figure size 432x288 with 1 Axes>"
      ]
     },
     "metadata": {
      "needs_background": "light"
     },
     "output_type": "display_data"
    }
   ],
   "source": [
    "sns.barplot(y='company', x='count', data=qcdf)"
   ]
  },
  {
   "cell_type": "markdown",
   "metadata": {},
   "source": [
    "- 只有9家公司不限学历，小鹏汽车和金地公司各有2个，其余只有1个"
   ]
  },
  {
   "cell_type": "markdown",
   "metadata": {},
   "source": [
    "- 上述分析说明大多数公司对学历的要求还是本科学历和硕士学历"
   ]
  },
  {
   "cell_type": "markdown",
   "metadata": {},
   "source": [
    "#### 查看不同融资情况公司对学历的要求"
   ]
  },
  {
   "cell_type": "code",
   "execution_count": 562,
   "metadata": {},
   "outputs": [
    {
     "data": {
      "text/plain": [
       "finance  qualification\n",
       "A轮       本科               13\n",
       "         硕士               11\n",
       "         不限                2\n",
       "B轮       本科               19\n",
       "         硕士                5\n",
       "         不限                1\n",
       "C轮       本科                5\n",
       "         硕士                3\n",
       "D轮及以上    本科                4\n",
       "         硕士                3\n",
       "上市公司     本科               79\n",
       "         硕士               22\n",
       "         不限                5\n",
       "         博士                1\n",
       "不需要融资    本科               47\n",
       "         硕士               16\n",
       "         不限                2\n",
       "         博士                1\n",
       "         大专                1\n",
       "天使轮      本科                9\n",
       "         硕士                2\n",
       "未融资      本科               22\n",
       "         硕士                8\n",
       "         不限                1\n",
       "Name: qualification, dtype: int64"
      ]
     },
     "execution_count": 562,
     "metadata": {},
     "output_type": "execute_result"
    }
   ],
   "source": [
    "lagou.groupby(['finance'])['qualification'].value_counts()"
   ]
  },
  {
   "cell_type": "code",
   "execution_count": 563,
   "metadata": {},
   "outputs": [
    {
     "data": {
      "text/plain": [
       "<matplotlib.axes._subplots.AxesSubplot at 0x1bc946946a0>"
      ]
     },
     "execution_count": 563,
     "metadata": {},
     "output_type": "execute_result"
    },
    {
     "data": {
      "image/png": "[encoded data removed]",
      "text/plain": [
       "<Figure size 720x360 with 1 Axes>"
      ]
     },
     "metadata": {
      "needs_background": "light"
     },
     "output_type": "display_data"
    }
   ],
   "source": [
    "plt.figure(figsize=(10, 5))\n",
    "sns.countplot(x='finance', hue='qualification', data=lagou)"
   ]
  },
  {
   "cell_type": "markdown",
   "metadata": {},
   "source": [
    "- 不管是什么融资情况的公司，对学历要求为本科都是最多的，其次是硕士学历\n",
    "- D轮及以上、天使轮、C轮公司只有本科和硕士的要求\n",
    "- A轮、B轮、未融资公司只有本科、硕士和不限的要求"
   ]
  },
  {
   "cell_type": "markdown",
   "metadata": {},
   "source": [
    "#### 查看不同规模公司对学历的要求"
   ]
  },
  {
   "cell_type": "code",
   "execution_count": 564,
   "metadata": {},
   "outputs": [
    {
     "data": {
      "text/plain": [
       "scale      qualification\n",
       "15-50人     本科               21\n",
       "           硕士                3\n",
       "           不限                1\n",
       "150-500人   本科               24\n",
       "           硕士               20\n",
       "           不限                1\n",
       "2000人以上    本科               71\n",
       "           硕士               19\n",
       "           不限                6\n",
       "           博士                1\n",
       "50-150人    本科               33\n",
       "           硕士               11\n",
       "           不限                1\n",
       "           博士                1\n",
       "           大专                1\n",
       "500-2000人  本科               45\n",
       "           硕士               16\n",
       "           不限                2\n",
       "少于15人      本科                4\n",
       "           硕士                1\n",
       "Name: qualification, dtype: int64"
      ]
     },
     "execution_count": 564,
     "metadata": {},
     "output_type": "execute_result"
    }
   ],
   "source": [
    "lagou.groupby(['scale'])['qualification'].value_counts()"
   ]
  },
  {
   "cell_type": "code",
   "execution_count": 565,
   "metadata": {},
   "outputs": [
    {
     "data": {
      "text/plain": [
       "<matplotlib.axes._subplots.AxesSubplot at 0x1bc91eccf60>"
      ]
     },
     "execution_count": 565,
     "metadata": {},
     "output_type": "execute_result"
    },
    {
     "data": {
      "image/png": "[encoded data removed]",
      "text/plain": [
       "<Figure size 576x360 with 1 Axes>"
      ]
     },
     "metadata": {
      "needs_background": "light"
     },
     "output_type": "display_data"
    }
   ],
   "source": [
    "plt.figure(figsize=(8, 5))\n",
    "sns.countplot(x='scale', hue='qualification', data=lagou)"
   ]
  },
  {
   "cell_type": "markdown",
   "metadata": {},
   "source": [
    "- 不管是什么规模的公司，对学历要求为本科都是最多的，其次是硕士学历\n",
    "- 只有50-150人的公司提供的该岗位覆盖了所有可能的学历要求"
   ]
  },
  {
   "cell_type": "markdown",
   "metadata": {},
   "source": [
    "#### 查看不同领域公司对学历的要求"
   ]
  },
  {
   "cell_type": "code",
   "execution_count": 594,
   "metadata": {},
   "outputs": [
    {
     "data": {
      "text/html": [
       "<div>\n",
       "<style scoped>\n",
       "    .dataframe tbody tr th:only-of-type {\n",
       "        vertical-align: middle;\n",
       "    }\n",
       "\n",
       "    .dataframe tbody tr th {\n",
       "        vertical-align: top;\n",
       "    }\n",
       "\n",
       "    .dataframe thead th {\n",
       "        text-align: right;\n",
       "    }\n",
       "</style>\n",
       "<table border=\"1\" class=\"dataframe\">\n",
       "  <thead>\n",
       "    <tr style=\"text-align: right;\">\n",
       "      <th></th>\n",
       "      <th>uni_domain</th>\n",
       "      <th>count</th>\n",
       "    </tr>\n",
       "  </thead>\n",
       "  <tbody>\n",
       "    <tr>\n",
       "      <th>0</th>\n",
       "      <td>电商平台</td>\n",
       "      <td>22</td>\n",
       "    </tr>\n",
       "    <tr>\n",
       "      <th>1</th>\n",
       "      <td>人工智能</td>\n",
       "      <td>22</td>\n",
       "    </tr>\n",
       "    <tr>\n",
       "      <th>2</th>\n",
       "      <td>内容资讯</td>\n",
       "      <td>18</td>\n",
       "    </tr>\n",
       "    <tr>\n",
       "      <th>3</th>\n",
       "      <td>数据服务</td>\n",
       "      <td>18</td>\n",
       "    </tr>\n",
       "    <tr>\n",
       "      <th>4</th>\n",
       "      <td>游戏</td>\n",
       "      <td>14</td>\n",
       "    </tr>\n",
       "    <tr>\n",
       "      <th>5</th>\n",
       "      <td>音频</td>\n",
       "      <td>11</td>\n",
       "    </tr>\n",
       "    <tr>\n",
       "      <th>6</th>\n",
       "      <td>移动互联网</td>\n",
       "      <td>10</td>\n",
       "    </tr>\n",
       "    <tr>\n",
       "      <th>7</th>\n",
       "      <td>制造业</td>\n",
       "      <td>10</td>\n",
       "    </tr>\n",
       "    <tr>\n",
       "      <th>8</th>\n",
       "      <td>社交媒体</td>\n",
       "      <td>10</td>\n",
       "    </tr>\n",
       "    <tr>\n",
       "      <th>9</th>\n",
       "      <td>软件服务</td>\n",
       "      <td>8</td>\n",
       "    </tr>\n",
       "    <tr>\n",
       "      <th>10</th>\n",
       "      <td>智能硬件</td>\n",
       "      <td>7</td>\n",
       "    </tr>\n",
       "    <tr>\n",
       "      <th>11</th>\n",
       "      <td>IT技术服务</td>\n",
       "      <td>6</td>\n",
       "    </tr>\n",
       "    <tr>\n",
       "      <th>12</th>\n",
       "      <td>工具类产品</td>\n",
       "      <td>5</td>\n",
       "    </tr>\n",
       "    <tr>\n",
       "      <th>13</th>\n",
       "      <td>其他</td>\n",
       "      <td>4</td>\n",
       "    </tr>\n",
       "    <tr>\n",
       "      <th>14</th>\n",
       "      <td>硬件</td>\n",
       "      <td>3</td>\n",
       "    </tr>\n",
       "    <tr>\n",
       "      <th>15</th>\n",
       "      <td>企业服务</td>\n",
       "      <td>3</td>\n",
       "    </tr>\n",
       "    <tr>\n",
       "      <th>16</th>\n",
       "      <td>金融业</td>\n",
       "      <td>3</td>\n",
       "    </tr>\n",
       "    <tr>\n",
       "      <th>17</th>\n",
       "      <td>物联网</td>\n",
       "      <td>3</td>\n",
       "    </tr>\n",
       "    <tr>\n",
       "      <th>18</th>\n",
       "      <td>教育</td>\n",
       "      <td>2</td>\n",
       "    </tr>\n",
       "    <tr>\n",
       "      <th>19</th>\n",
       "      <td>网络通信</td>\n",
       "      <td>2</td>\n",
       "    </tr>\n",
       "    <tr>\n",
       "      <th>20</th>\n",
       "      <td>科技金融</td>\n",
       "      <td>2</td>\n",
       "    </tr>\n",
       "    <tr>\n",
       "      <th>21</th>\n",
       "      <td>在线教育</td>\n",
       "      <td>2</td>\n",
       "    </tr>\n",
       "    <tr>\n",
       "      <th>22</th>\n",
       "      <td>旅游</td>\n",
       "      <td>2</td>\n",
       "    </tr>\n",
       "    <tr>\n",
       "      <th>23</th>\n",
       "      <td>房地产</td>\n",
       "      <td>2</td>\n",
       "    </tr>\n",
       "    <tr>\n",
       "      <th>24</th>\n",
       "      <td>文化传媒</td>\n",
       "      <td>2</td>\n",
       "    </tr>\n",
       "    <tr>\n",
       "      <th>25</th>\n",
       "      <td>信息安全</td>\n",
       "      <td>1</td>\n",
       "    </tr>\n",
       "    <tr>\n",
       "      <th>26</th>\n",
       "      <td>汽车</td>\n",
       "      <td>1</td>\n",
       "    </tr>\n",
       "    <tr>\n",
       "      <th>27</th>\n",
       "      <td>营销服务</td>\n",
       "      <td>1</td>\n",
       "    </tr>\n",
       "    <tr>\n",
       "      <th>28</th>\n",
       "      <td>MCN</td>\n",
       "      <td>1</td>\n",
       "    </tr>\n",
       "    <tr>\n",
       "      <th>29</th>\n",
       "      <td>社交平台</td>\n",
       "      <td>1</td>\n",
       "    </tr>\n",
       "    <tr>\n",
       "      <th>30</th>\n",
       "      <td>电商</td>\n",
       "      <td>1</td>\n",
       "    </tr>\n",
       "    <tr>\n",
       "      <th>31</th>\n",
       "      <td>医疗</td>\n",
       "      <td>1</td>\n",
       "    </tr>\n",
       "  </tbody>\n",
       "</table>\n",
       "</div>"
      ],
      "text/plain": [
       "   uni_domain  count\n",
       "0        电商平台     22\n",
       "1        人工智能     22\n",
       "2        内容资讯     18\n",
       "3        数据服务     18\n",
       "4          游戏     14\n",
       "5          音频     11\n",
       "6       移动互联网     10\n",
       "7         制造业     10\n",
       "8        社交媒体     10\n",
       "9        软件服务      8\n",
       "10       智能硬件      7\n",
       "11     IT技术服务      6\n",
       "12      工具类产品      5\n",
       "13         其他      4\n",
       "14         硬件      3\n",
       "15       企业服务      3\n",
       "16        金融业      3\n",
       "17        物联网      3\n",
       "18         教育      2\n",
       "19       网络通信      2\n",
       "20       科技金融      2\n",
       "21       在线教育      2\n",
       "22         旅游      2\n",
       "23        房地产      2\n",
       "24       文化传媒      2\n",
       "25       信息安全      1\n",
       "26         汽车      1\n",
       "27       营销服务      1\n",
       "28        MCN      1\n",
       "29       社交平台      1\n",
       "30         电商      1\n",
       "31         医疗      1"
      ]
     },
     "execution_count": 594,
     "metadata": {},
     "output_type": "execute_result"
    }
   ],
   "source": [
    "# 有本科学历要求的领域\n",
    "qd = lagou[lagou['qualification'] == '本科']['uni_domain'].value_counts()\n",
    "qddf = pd.DataFrame(qd).reset_index()\n",
    "qddf = qddf.rename({'index':'uni_domain', 'uni_domain': 'count'}, axis=1)\n",
    "qddf"
   ]
  },
  {
   "cell_type": "code",
   "execution_count": 597,
   "metadata": {},
   "outputs": [
    {
     "data": {
      "text/plain": [
       "<matplotlib.axes._subplots.AxesSubplot at 0x1bc9799fa58>"
      ]
     },
     "execution_count": 597,
     "metadata": {},
     "output_type": "execute_result"
    },
    {
     "data": {
      "image/png": "[encoded data removed]",
      "text/plain": [
       "<Figure size 504x432 with 1 Axes>"
      ]
     },
     "metadata": {
      "needs_background": "light"
     },
     "output_type": "display_data"
    }
   ],
   "source": [
    "plt.figure(figsize=(7, 6))\n",
    "sns.barplot(y='uni_domain', x='count', data=qddf[qddf['count']>1])\n"
   ]
  },
  {
   "cell_type": "markdown",
   "metadata": {},
   "source": [
    "- 对该岗位有本科学历要求的主要在电商平台和人工智能领域\n",
    "- 其次是内容咨询、数据服务、游戏、音频"
   ]
  },
  {
   "cell_type": "code",
   "execution_count": 598,
   "metadata": {},
   "outputs": [
    {
     "data": {
      "text/html": [
       "<div>\n",
       "<style scoped>\n",
       "    .dataframe tbody tr th:only-of-type {\n",
       "        vertical-align: middle;\n",
       "    }\n",
       "\n",
       "    .dataframe tbody tr th {\n",
       "        vertical-align: top;\n",
       "    }\n",
       "\n",
       "    .dataframe thead th {\n",
       "        text-align: right;\n",
       "    }\n",
       "</style>\n",
       "<table border=\"1\" class=\"dataframe\">\n",
       "  <thead>\n",
       "    <tr style=\"text-align: right;\">\n",
       "      <th></th>\n",
       "      <th>uni_domain</th>\n",
       "      <th>count</th>\n",
       "    </tr>\n",
       "  </thead>\n",
       "  <tbody>\n",
       "    <tr>\n",
       "      <th>0</th>\n",
       "      <td>人工智能</td>\n",
       "      <td>18</td>\n",
       "    </tr>\n",
       "    <tr>\n",
       "      <th>1</th>\n",
       "      <td>数据服务</td>\n",
       "      <td>8</td>\n",
       "    </tr>\n",
       "    <tr>\n",
       "      <th>2</th>\n",
       "      <td>医疗</td>\n",
       "      <td>6</td>\n",
       "    </tr>\n",
       "    <tr>\n",
       "      <th>3</th>\n",
       "      <td>软件服务</td>\n",
       "      <td>6</td>\n",
       "    </tr>\n",
       "    <tr>\n",
       "      <th>4</th>\n",
       "      <td>移动互联网</td>\n",
       "      <td>4</td>\n",
       "    </tr>\n",
       "    <tr>\n",
       "      <th>5</th>\n",
       "      <td>制造业</td>\n",
       "      <td>4</td>\n",
       "    </tr>\n",
       "    <tr>\n",
       "      <th>6</th>\n",
       "      <td>游戏</td>\n",
       "      <td>3</td>\n",
       "    </tr>\n",
       "    <tr>\n",
       "      <th>7</th>\n",
       "      <td>社交媒体</td>\n",
       "      <td>2</td>\n",
       "    </tr>\n",
       "    <tr>\n",
       "      <th>8</th>\n",
       "      <td>电商</td>\n",
       "      <td>2</td>\n",
       "    </tr>\n",
       "    <tr>\n",
       "      <th>9</th>\n",
       "      <td>工具类产品</td>\n",
       "      <td>2</td>\n",
       "    </tr>\n",
       "    <tr>\n",
       "      <th>10</th>\n",
       "      <td>新零售</td>\n",
       "      <td>2</td>\n",
       "    </tr>\n",
       "    <tr>\n",
       "      <th>11</th>\n",
       "      <td>硬件</td>\n",
       "      <td>2</td>\n",
       "    </tr>\n",
       "    <tr>\n",
       "      <th>12</th>\n",
       "      <td>内容资讯</td>\n",
       "      <td>2</td>\n",
       "    </tr>\n",
       "    <tr>\n",
       "      <th>13</th>\n",
       "      <td>网络通信</td>\n",
       "      <td>1</td>\n",
       "    </tr>\n",
       "    <tr>\n",
       "      <th>14</th>\n",
       "      <td>金融业</td>\n",
       "      <td>1</td>\n",
       "    </tr>\n",
       "    <tr>\n",
       "      <th>15</th>\n",
       "      <td>休闲</td>\n",
       "      <td>1</td>\n",
       "    </tr>\n",
       "    <tr>\n",
       "      <th>16</th>\n",
       "      <td>物联网</td>\n",
       "      <td>1</td>\n",
       "    </tr>\n",
       "    <tr>\n",
       "      <th>17</th>\n",
       "      <td>文娱</td>\n",
       "      <td>1</td>\n",
       "    </tr>\n",
       "    <tr>\n",
       "      <th>18</th>\n",
       "      <td>企业服务</td>\n",
       "      <td>1</td>\n",
       "    </tr>\n",
       "    <tr>\n",
       "      <th>19</th>\n",
       "      <td>科技金融</td>\n",
       "      <td>1</td>\n",
       "    </tr>\n",
       "    <tr>\n",
       "      <th>20</th>\n",
       "      <td>音频</td>\n",
       "      <td>1</td>\n",
       "    </tr>\n",
       "    <tr>\n",
       "      <th>21</th>\n",
       "      <td>营销服务</td>\n",
       "      <td>1</td>\n",
       "    </tr>\n",
       "  </tbody>\n",
       "</table>\n",
       "</div>"
      ],
      "text/plain": [
       "   uni_domain  count\n",
       "0        人工智能     18\n",
       "1        数据服务      8\n",
       "2          医疗      6\n",
       "3        软件服务      6\n",
       "4       移动互联网      4\n",
       "5         制造业      4\n",
       "6          游戏      3\n",
       "7        社交媒体      2\n",
       "8          电商      2\n",
       "9       工具类产品      2\n",
       "10        新零售      2\n",
       "11         硬件      2\n",
       "12       内容资讯      2\n",
       "13       网络通信      1\n",
       "14        金融业      1\n",
       "15         休闲      1\n",
       "16        物联网      1\n",
       "17         文娱      1\n",
       "18       企业服务      1\n",
       "19       科技金融      1\n",
       "20         音频      1\n",
       "21       营销服务      1"
      ]
     },
     "execution_count": 598,
     "metadata": {},
     "output_type": "execute_result"
    }
   ],
   "source": [
    "# 有硕士学历要求的领域\n",
    "qd = lagou[lagou['qualification'] == '硕士']['uni_domain'].value_counts()\n",
    "qddf = pd.DataFrame(qd).reset_index()\n",
    "qddf = qddf.rename({'index':'uni_domain', 'uni_domain': 'count'}, axis=1)\n",
    "qddf"
   ]
  },
  {
   "cell_type": "code",
   "execution_count": 600,
   "metadata": {},
   "outputs": [
    {
     "data": {
      "text/plain": [
       "<matplotlib.axes._subplots.AxesSubplot at 0x1bc98d98ba8>"
      ]
     },
     "execution_count": 600,
     "metadata": {},
     "output_type": "execute_result"
    },
    {
     "data": {
      "image/png": "[encoded data removed]",
      "text/plain": [
       "<Figure size 360x216 with 1 Axes>"
      ]
     },
     "metadata": {
      "needs_background": "light"
     },
     "output_type": "display_data"
    }
   ],
   "source": [
    "plt.figure(figsize=(5, 3))\n",
    "sns.barplot(y='uni_domain', x='count', data=qddf[qddf['count']>1])\n"
   ]
  },
  {
   "cell_type": "markdown",
   "metadata": {},
   "source": [
    "- 对该岗位有硕士学历要求的主要在人工智能领域\n",
    "- 其次是数据服务、医疗、软件服务、移动互联网、制造业"
   ]
  },
  {
   "cell_type": "code",
   "execution_count": 601,
   "metadata": {},
   "outputs": [
    {
     "data": {
      "text/html": [
       "<div>\n",
       "<style scoped>\n",
       "    .dataframe tbody tr th:only-of-type {\n",
       "        vertical-align: middle;\n",
       "    }\n",
       "\n",
       "    .dataframe tbody tr th {\n",
       "        vertical-align: top;\n",
       "    }\n",
       "\n",
       "    .dataframe thead th {\n",
       "        text-align: right;\n",
       "    }\n",
       "</style>\n",
       "<table border=\"1\" class=\"dataframe\">\n",
       "  <thead>\n",
       "    <tr style=\"text-align: right;\">\n",
       "      <th></th>\n",
       "      <th>uni_domain</th>\n",
       "      <th>count</th>\n",
       "    </tr>\n",
       "  </thead>\n",
       "  <tbody>\n",
       "    <tr>\n",
       "      <th>0</th>\n",
       "      <td>硬件</td>\n",
       "      <td>1</td>\n",
       "    </tr>\n",
       "    <tr>\n",
       "      <th>1</th>\n",
       "      <td>数据服务</td>\n",
       "      <td>1</td>\n",
       "    </tr>\n",
       "  </tbody>\n",
       "</table>\n",
       "</div>"
      ],
      "text/plain": [
       "  uni_domain  count\n",
       "0         硬件      1\n",
       "1       数据服务      1"
      ]
     },
     "execution_count": 601,
     "metadata": {},
     "output_type": "execute_result"
    }
   ],
   "source": [
    "# 有博士学历要求的领域\n",
    "qd = lagou[lagou['qualification'] == '博士']['uni_domain'].value_counts()\n",
    "qddf = pd.DataFrame(qd).reset_index()\n",
    "qddf = qddf.rename({'index':'uni_domain', 'uni_domain': 'count'}, axis=1)\n",
    "qddf"
   ]
  },
  {
   "cell_type": "markdown",
   "metadata": {},
   "source": [
    "- 对该岗位有博士学历要求的主要在硬件和数据服务领域"
   ]
  },
  {
   "cell_type": "code",
   "execution_count": 604,
   "metadata": {},
   "outputs": [
    {
     "data": {
      "text/html": [
       "<div>\n",
       "<style scoped>\n",
       "    .dataframe tbody tr th:only-of-type {\n",
       "        vertical-align: middle;\n",
       "    }\n",
       "\n",
       "    .dataframe tbody tr th {\n",
       "        vertical-align: top;\n",
       "    }\n",
       "\n",
       "    .dataframe thead th {\n",
       "        text-align: right;\n",
       "    }\n",
       "</style>\n",
       "<table border=\"1\" class=\"dataframe\">\n",
       "  <thead>\n",
       "    <tr style=\"text-align: right;\">\n",
       "      <th></th>\n",
       "      <th>uni_domain</th>\n",
       "      <th>count</th>\n",
       "    </tr>\n",
       "  </thead>\n",
       "  <tbody>\n",
       "    <tr>\n",
       "      <th>0</th>\n",
       "      <td>移动互联网</td>\n",
       "      <td>4</td>\n",
       "    </tr>\n",
       "    <tr>\n",
       "      <th>1</th>\n",
       "      <td>游戏</td>\n",
       "      <td>2</td>\n",
       "    </tr>\n",
       "    <tr>\n",
       "      <th>2</th>\n",
       "      <td>制造业</td>\n",
       "      <td>2</td>\n",
       "    </tr>\n",
       "    <tr>\n",
       "      <th>3</th>\n",
       "      <td>科技金融</td>\n",
       "      <td>1</td>\n",
       "    </tr>\n",
       "    <tr>\n",
       "      <th>4</th>\n",
       "      <td>智能硬件</td>\n",
       "      <td>1</td>\n",
       "    </tr>\n",
       "    <tr>\n",
       "      <th>5</th>\n",
       "      <td>人工智能</td>\n",
       "      <td>1</td>\n",
       "    </tr>\n",
       "  </tbody>\n",
       "</table>\n",
       "</div>"
      ],
      "text/plain": [
       "  uni_domain  count\n",
       "0      移动互联网      4\n",
       "1         游戏      2\n",
       "2        制造业      2\n",
       "3       科技金融      1\n",
       "4       智能硬件      1\n",
       "5       人工智能      1"
      ]
     },
     "execution_count": 604,
     "metadata": {},
     "output_type": "execute_result"
    }
   ],
   "source": [
    "# 不限学历要求的领域\n",
    "qd = lagou[lagou['qualification'] == '不限']['uni_domain'].value_counts()\n",
    "qddf = pd.DataFrame(qd).reset_index()\n",
    "qddf = qddf.rename({'index':'uni_domain', 'uni_domain': 'count'}, axis=1)\n",
    "qddf"
   ]
  },
  {
   "cell_type": "code",
   "execution_count": 606,
   "metadata": {},
   "outputs": [
    {
     "data": {
      "text/plain": [
       "<matplotlib.axes._subplots.AxesSubplot at 0x1bc98eacb38>"
      ]
     },
     "execution_count": 606,
     "metadata": {},
     "output_type": "execute_result"
    },
    {
     "data": {
      "image/png": "[encoded data removed]",
      "text/plain": [
       "<Figure size 432x288 with 1 Axes>"
      ]
     },
     "metadata": {
      "needs_background": "light"
     },
     "output_type": "display_data"
    }
   ],
   "source": [
    "sns.barplot(y='uni_domain', x='count', data=qddf)"
   ]
  },
  {
   "cell_type": "markdown",
   "metadata": {},
   "source": [
    "- 对该岗位不限学历要求的主要在移动互联网领域\n",
    "- 其次是游戏、制造业"
   ]
  },
  {
   "cell_type": "markdown",
   "metadata": {},
   "source": [
    "### 其他变量和经验要求的关系"
   ]
  },
  {
   "cell_type": "markdown",
   "metadata": {},
   "source": [
    "#### 查看不同公司对经验要求的情况"
   ]
  },
  {
   "cell_type": "code",
   "execution_count": 567,
   "metadata": {},
   "outputs": [
    {
     "data": {
      "text/html": [
       "<div>\n",
       "<style scoped>\n",
       "    .dataframe tbody tr th:only-of-type {\n",
       "        vertical-align: middle;\n",
       "    }\n",
       "\n",
       "    .dataframe tbody tr th {\n",
       "        vertical-align: top;\n",
       "    }\n",
       "\n",
       "    .dataframe thead th {\n",
       "        text-align: right;\n",
       "    }\n",
       "</style>\n",
       "<table border=\"1\" class=\"dataframe\">\n",
       "  <thead>\n",
       "    <tr style=\"text-align: right;\">\n",
       "      <th></th>\n",
       "      <th>company</th>\n",
       "      <th>count</th>\n",
       "    </tr>\n",
       "  </thead>\n",
       "  <tbody>\n",
       "    <tr>\n",
       "      <th>0</th>\n",
       "      <td>小鹏汽车</td>\n",
       "      <td>5</td>\n",
       "    </tr>\n",
       "    <tr>\n",
       "      <th>1</th>\n",
       "      <td>三七互娱</td>\n",
       "      <td>3</td>\n",
       "    </tr>\n",
       "    <tr>\n",
       "      <th>2</th>\n",
       "      <td>广州市奥威亚电子科技有限公司</td>\n",
       "      <td>2</td>\n",
       "    </tr>\n",
       "    <tr>\n",
       "      <th>3</th>\n",
       "      <td>趣丸</td>\n",
       "      <td>2</td>\n",
       "    </tr>\n",
       "    <tr>\n",
       "      <th>4</th>\n",
       "      <td>金地</td>\n",
       "      <td>2</td>\n",
       "    </tr>\n",
       "    <tr>\n",
       "      <th>5</th>\n",
       "      <td>极点三维</td>\n",
       "      <td>1</td>\n",
       "    </tr>\n",
       "    <tr>\n",
       "      <th>6</th>\n",
       "      <td>为工智能</td>\n",
       "      <td>1</td>\n",
       "    </tr>\n",
       "    <tr>\n",
       "      <th>7</th>\n",
       "      <td>广数</td>\n",
       "      <td>1</td>\n",
       "    </tr>\n",
       "    <tr>\n",
       "      <th>8</th>\n",
       "      <td>派客朴食</td>\n",
       "      <td>1</td>\n",
       "    </tr>\n",
       "    <tr>\n",
       "      <th>9</th>\n",
       "      <td>高新兴科技集团</td>\n",
       "      <td>1</td>\n",
       "    </tr>\n",
       "    <tr>\n",
       "      <th>10</th>\n",
       "      <td>魅视电子</td>\n",
       "      <td>1</td>\n",
       "    </tr>\n",
       "    <tr>\n",
       "      <th>11</th>\n",
       "      <td>蓝鸽集团</td>\n",
       "      <td>1</td>\n",
       "    </tr>\n",
       "    <tr>\n",
       "      <th>12</th>\n",
       "      <td>深演智能</td>\n",
       "      <td>1</td>\n",
       "    </tr>\n",
       "    <tr>\n",
       "      <th>13</th>\n",
       "      <td>易站通</td>\n",
       "      <td>1</td>\n",
       "    </tr>\n",
       "    <tr>\n",
       "      <th>14</th>\n",
       "      <td>英码科技</td>\n",
       "      <td>1</td>\n",
       "    </tr>\n",
       "    <tr>\n",
       "      <th>15</th>\n",
       "      <td>奥格智能</td>\n",
       "      <td>1</td>\n",
       "    </tr>\n",
       "    <tr>\n",
       "      <th>16</th>\n",
       "      <td>ImageDT图匠数据</td>\n",
       "      <td>1</td>\n",
       "    </tr>\n",
       "    <tr>\n",
       "      <th>17</th>\n",
       "      <td>云徙科技</td>\n",
       "      <td>1</td>\n",
       "    </tr>\n",
       "    <tr>\n",
       "      <th>18</th>\n",
       "      <td>CVTE</td>\n",
       "      <td>1</td>\n",
       "    </tr>\n",
       "    <tr>\n",
       "      <th>19</th>\n",
       "      <td>广州棒谷科技股份有限公司</td>\n",
       "      <td>1</td>\n",
       "    </tr>\n",
       "    <tr>\n",
       "      <th>20</th>\n",
       "      <td>火烈鸟网络</td>\n",
       "      <td>1</td>\n",
       "    </tr>\n",
       "    <tr>\n",
       "      <th>21</th>\n",
       "      <td>广东亿迅</td>\n",
       "      <td>1</td>\n",
       "    </tr>\n",
       "    <tr>\n",
       "      <th>22</th>\n",
       "      <td>紫为云（北京）智能科技有限公司</td>\n",
       "      <td>1</td>\n",
       "    </tr>\n",
       "  </tbody>\n",
       "</table>\n",
       "</div>"
      ],
      "text/plain": [
       "            company  count\n",
       "0              小鹏汽车      5\n",
       "1              三七互娱      3\n",
       "2    广州市奥威亚电子科技有限公司      2\n",
       "3                趣丸      2\n",
       "4                金地      2\n",
       "5              极点三维      1\n",
       "6              为工智能      1\n",
       "7                广数      1\n",
       "8              派客朴食      1\n",
       "9           高新兴科技集团      1\n",
       "10             魅视电子      1\n",
       "11             蓝鸽集团      1\n",
       "12             深演智能      1\n",
       "13              易站通      1\n",
       "14             英码科技      1\n",
       "15             奥格智能      1\n",
       "16      ImageDT图匠数据      1\n",
       "17             云徙科技      1\n",
       "18             CVTE      1\n",
       "19     广州棒谷科技股份有限公司      1\n",
       "20            火烈鸟网络      1\n",
       "21             广东亿迅      1\n",
       "22  紫为云（北京）智能科技有限公司      1"
      ]
     },
     "execution_count": 567,
     "metadata": {},
     "output_type": "execute_result"
    }
   ],
   "source": [
    "# 有经验在校（应届）要求的公司\n",
    "qe = lagou[lagou['experience'] == '经验在校']['company'].value_counts()\n",
    "qedf = pd.DataFrame(qe).reset_index()\n",
    "qedf = qedf.rename({'index':'company', 'company': 'count'}, axis=1)\n",
    "qedf"
   ]
  },
  {
   "cell_type": "code",
   "execution_count": 568,
   "metadata": {},
   "outputs": [
    {
     "data": {
      "text/plain": [
       "<matplotlib.axes._subplots.AxesSubplot at 0x1bc94dfe898>"
      ]
     },
     "execution_count": 568,
     "metadata": {},
     "output_type": "execute_result"
    },
    {
     "data": {
      "image/png": "[encoded data removed]",
      "text/plain": [
       "<Figure size 504x360 with 1 Axes>"
      ]
     },
     "metadata": {
      "needs_background": "light"
     },
     "output_type": "display_data"
    }
   ],
   "source": [
    "plt.figure(figsize=(7, 5))\n",
    "sns.barplot(y='company', x='count', data=qedf)\n"
   ]
  },
  {
   "cell_type": "markdown",
   "metadata": {},
   "source": [
    "- 对该岗位有应届要求的公司有23家\n",
    "- 对该岗位有应届要求的最多的公司是小鹏汽车（5个）\n",
    "- 其次是三七互娱（3个）、广州市奥威亚电子科技有限公司、趣丸、金地（2个）"
   ]
  },
  {
   "cell_type": "code",
   "execution_count": 569,
   "metadata": {},
   "outputs": [
    {
     "data": {
      "text/html": [
       "<div>\n",
       "<style scoped>\n",
       "    .dataframe tbody tr th:only-of-type {\n",
       "        vertical-align: middle;\n",
       "    }\n",
       "\n",
       "    .dataframe tbody tr th {\n",
       "        vertical-align: top;\n",
       "    }\n",
       "\n",
       "    .dataframe thead th {\n",
       "        text-align: right;\n",
       "    }\n",
       "</style>\n",
       "<table border=\"1\" class=\"dataframe\">\n",
       "  <thead>\n",
       "    <tr style=\"text-align: right;\">\n",
       "      <th></th>\n",
       "      <th>company</th>\n",
       "      <th>count</th>\n",
       "    </tr>\n",
       "  </thead>\n",
       "  <tbody>\n",
       "    <tr>\n",
       "      <th>0</th>\n",
       "      <td>网易</td>\n",
       "      <td>6</td>\n",
       "    </tr>\n",
       "    <tr>\n",
       "      <th>1</th>\n",
       "      <td>参数</td>\n",
       "      <td>4</td>\n",
       "    </tr>\n",
       "    <tr>\n",
       "      <th>2</th>\n",
       "      <td>诚迈信息</td>\n",
       "      <td>4</td>\n",
       "    </tr>\n",
       "    <tr>\n",
       "      <th>3</th>\n",
       "      <td>衡昊数据</td>\n",
       "      <td>2</td>\n",
       "    </tr>\n",
       "    <tr>\n",
       "      <th>4</th>\n",
       "      <td>广州棒谷科技股份有限公司</td>\n",
       "      <td>2</td>\n",
       "    </tr>\n",
       "    <tr>\n",
       "      <th>5</th>\n",
       "      <td>金山办公软件</td>\n",
       "      <td>2</td>\n",
       "    </tr>\n",
       "    <tr>\n",
       "      <th>6</th>\n",
       "      <td>腾讯</td>\n",
       "      <td>2</td>\n",
       "    </tr>\n",
       "    <tr>\n",
       "      <th>7</th>\n",
       "      <td>太平洋网络有限公司</td>\n",
       "      <td>1</td>\n",
       "    </tr>\n",
       "    <tr>\n",
       "      <th>8</th>\n",
       "      <td>欢聚集团（JOYY Inc.）</td>\n",
       "      <td>1</td>\n",
       "    </tr>\n",
       "    <tr>\n",
       "      <th>9</th>\n",
       "      <td>叶浪智能</td>\n",
       "      <td>1</td>\n",
       "    </tr>\n",
       "    <tr>\n",
       "      <th>10</th>\n",
       "      <td>广州思迈特</td>\n",
       "      <td>1</td>\n",
       "    </tr>\n",
       "    <tr>\n",
       "      <th>11</th>\n",
       "      <td>建顺信息</td>\n",
       "      <td>1</td>\n",
       "    </tr>\n",
       "    <tr>\n",
       "      <th>12</th>\n",
       "      <td>东软医疗系统</td>\n",
       "      <td>1</td>\n",
       "    </tr>\n",
       "    <tr>\n",
       "      <th>13</th>\n",
       "      <td>广东亿迅</td>\n",
       "      <td>1</td>\n",
       "    </tr>\n",
       "    <tr>\n",
       "      <th>14</th>\n",
       "      <td>衣神科技</td>\n",
       "      <td>1</td>\n",
       "    </tr>\n",
       "    <tr>\n",
       "      <th>15</th>\n",
       "      <td>佳都科技</td>\n",
       "      <td>1</td>\n",
       "    </tr>\n",
       "    <tr>\n",
       "      <th>16</th>\n",
       "      <td>羚云科技</td>\n",
       "      <td>1</td>\n",
       "    </tr>\n",
       "    <tr>\n",
       "      <th>17</th>\n",
       "      <td>特道信息</td>\n",
       "      <td>1</td>\n",
       "    </tr>\n",
       "    <tr>\n",
       "      <th>18</th>\n",
       "      <td>高考直通车</td>\n",
       "      <td>1</td>\n",
       "    </tr>\n",
       "    <tr>\n",
       "      <th>19</th>\n",
       "      <td>蓝深科技</td>\n",
       "      <td>1</td>\n",
       "    </tr>\n",
       "    <tr>\n",
       "      <th>20</th>\n",
       "      <td>经传多赢</td>\n",
       "      <td>1</td>\n",
       "    </tr>\n",
       "    <tr>\n",
       "      <th>21</th>\n",
       "      <td>为工智能</td>\n",
       "      <td>1</td>\n",
       "    </tr>\n",
       "    <tr>\n",
       "      <th>22</th>\n",
       "      <td>钱大妈</td>\n",
       "      <td>1</td>\n",
       "    </tr>\n",
       "    <tr>\n",
       "      <th>23</th>\n",
       "      <td>凯迪网络</td>\n",
       "      <td>1</td>\n",
       "    </tr>\n",
       "    <tr>\n",
       "      <th>24</th>\n",
       "      <td>偶家科技</td>\n",
       "      <td>1</td>\n",
       "    </tr>\n",
       "    <tr>\n",
       "      <th>25</th>\n",
       "      <td>广州丰申网络科技有限公司</td>\n",
       "      <td>1</td>\n",
       "    </tr>\n",
       "    <tr>\n",
       "      <th>26</th>\n",
       "      <td>紫为云（北京）智能科技有限公司</td>\n",
       "      <td>1</td>\n",
       "    </tr>\n",
       "    <tr>\n",
       "      <th>27</th>\n",
       "      <td>触宝</td>\n",
       "      <td>1</td>\n",
       "    </tr>\n",
       "    <tr>\n",
       "      <th>28</th>\n",
       "      <td>数鼎</td>\n",
       "      <td>1</td>\n",
       "    </tr>\n",
       "    <tr>\n",
       "      <th>29</th>\n",
       "      <td>拿火音乐</td>\n",
       "      <td>1</td>\n",
       "    </tr>\n",
       "    <tr>\n",
       "      <th>30</th>\n",
       "      <td>妈妈网</td>\n",
       "      <td>1</td>\n",
       "    </tr>\n",
       "    <tr>\n",
       "      <th>31</th>\n",
       "      <td>ImageDT图匠数据</td>\n",
       "      <td>1</td>\n",
       "    </tr>\n",
       "    <tr>\n",
       "      <th>32</th>\n",
       "      <td>酷狗音乐</td>\n",
       "      <td>1</td>\n",
       "    </tr>\n",
       "    <tr>\n",
       "      <th>33</th>\n",
       "      <td>北明数科</td>\n",
       "      <td>1</td>\n",
       "    </tr>\n",
       "    <tr>\n",
       "      <th>34</th>\n",
       "      <td>广州爱米</td>\n",
       "      <td>1</td>\n",
       "    </tr>\n",
       "    <tr>\n",
       "      <th>35</th>\n",
       "      <td>比地数据</td>\n",
       "      <td>1</td>\n",
       "    </tr>\n",
       "    <tr>\n",
       "      <th>36</th>\n",
       "      <td>DMAI智能科技</td>\n",
       "      <td>1</td>\n",
       "    </tr>\n",
       "    <tr>\n",
       "      <th>37</th>\n",
       "      <td>锟元方青医疗科技</td>\n",
       "      <td>1</td>\n",
       "    </tr>\n",
       "    <tr>\n",
       "      <th>38</th>\n",
       "      <td>创新奇智</td>\n",
       "      <td>1</td>\n",
       "    </tr>\n",
       "    <tr>\n",
       "      <th>39</th>\n",
       "      <td>南方财经</td>\n",
       "      <td>1</td>\n",
       "    </tr>\n",
       "    <tr>\n",
       "      <th>40</th>\n",
       "      <td>丹霄技术</td>\n",
       "      <td>1</td>\n",
       "    </tr>\n",
       "    <tr>\n",
       "      <th>41</th>\n",
       "      <td>派客朴食</td>\n",
       "      <td>1</td>\n",
       "    </tr>\n",
       "    <tr>\n",
       "      <th>42</th>\n",
       "      <td>小鹏汽车</td>\n",
       "      <td>1</td>\n",
       "    </tr>\n",
       "    <tr>\n",
       "      <th>43</th>\n",
       "      <td>搜石网</td>\n",
       "      <td>1</td>\n",
       "    </tr>\n",
       "    <tr>\n",
       "      <th>44</th>\n",
       "      <td>赛维森</td>\n",
       "      <td>1</td>\n",
       "    </tr>\n",
       "    <tr>\n",
       "      <th>45</th>\n",
       "      <td>CVTE</td>\n",
       "      <td>1</td>\n",
       "    </tr>\n",
       "    <tr>\n",
       "      <th>46</th>\n",
       "      <td>广州市奥威亚电子科技有限公司</td>\n",
       "      <td>1</td>\n",
       "    </tr>\n",
       "    <tr>\n",
       "      <th>47</th>\n",
       "      <td>富港万嘉</td>\n",
       "      <td>1</td>\n",
       "    </tr>\n",
       "  </tbody>\n",
       "</table>\n",
       "</div>"
      ],
      "text/plain": [
       "            company  count\n",
       "0                网易      6\n",
       "1                参数      4\n",
       "2              诚迈信息      4\n",
       "3              衡昊数据      2\n",
       "4      广州棒谷科技股份有限公司      2\n",
       "5            金山办公软件      2\n",
       "6                腾讯      2\n",
       "7         太平洋网络有限公司      1\n",
       "8   欢聚集团（JOYY Inc.）      1\n",
       "9              叶浪智能      1\n",
       "10            广州思迈特      1\n",
       "11             建顺信息      1\n",
       "12           东软医疗系统      1\n",
       "13             广东亿迅      1\n",
       "14             衣神科技      1\n",
       "15             佳都科技      1\n",
       "16             羚云科技      1\n",
       "17             特道信息      1\n",
       "18            高考直通车      1\n",
       "19             蓝深科技      1\n",
       "20             经传多赢      1\n",
       "21             为工智能      1\n",
       "22              钱大妈      1\n",
       "23             凯迪网络      1\n",
       "24             偶家科技      1\n",
       "25     广州丰申网络科技有限公司      1\n",
       "26  紫为云（北京）智能科技有限公司      1\n",
       "27               触宝      1\n",
       "28               数鼎      1\n",
       "29             拿火音乐      1\n",
       "30              妈妈网      1\n",
       "31      ImageDT图匠数据      1\n",
       "32             酷狗音乐      1\n",
       "33             北明数科      1\n",
       "34             广州爱米      1\n",
       "35             比地数据      1\n",
       "36         DMAI智能科技      1\n",
       "37         锟元方青医疗科技      1\n",
       "38             创新奇智      1\n",
       "39             南方财经      1\n",
       "40             丹霄技术      1\n",
       "41             派客朴食      1\n",
       "42             小鹏汽车      1\n",
       "43              搜石网      1\n",
       "44              赛维森      1\n",
       "45             CVTE      1\n",
       "46   广州市奥威亚电子科技有限公司      1\n",
       "47             富港万嘉      1"
      ]
     },
     "execution_count": 569,
     "metadata": {},
     "output_type": "execute_result"
    }
   ],
   "source": [
    "# 有经验1-3年要求的公司\n",
    "qe = lagou[lagou['experience'] == '经验1-3年']['company'].value_counts()\n",
    "qedf = pd.DataFrame(qe).reset_index()\n",
    "qedf = qedf.rename({'index':'company', 'company': 'count'}, axis=1)\n",
    "qedf"
   ]
  },
  {
   "cell_type": "code",
   "execution_count": 570,
   "metadata": {},
   "outputs": [
    {
     "data": {
      "text/plain": [
       "<matplotlib.axes._subplots.AxesSubplot at 0x1bc94edea90>"
      ]
     },
     "execution_count": 570,
     "metadata": {},
     "output_type": "execute_result"
    },
    {
     "data": {
      "image/png": "[encoded data removed]",
      "text/plain": [
       "<Figure size 360x216 with 1 Axes>"
      ]
     },
     "metadata": {
      "needs_background": "light"
     },
     "output_type": "display_data"
    }
   ],
   "source": [
    "plt.figure(figsize=(5, 3))\n",
    "sns.barplot(y='company', x='count', data=qedf.head(10))\n"
   ]
  },
  {
   "cell_type": "markdown",
   "metadata": {},
   "source": [
    "- 对该岗位有经验1-3年要求的公司有48家\n",
    "- 对该岗位有经验1-3年要求的最多的公司是网易（6个）\n",
    "- 其次是参数、诚迈信息（4个）"
   ]
  },
  {
   "cell_type": "code",
   "execution_count": 571,
   "metadata": {},
   "outputs": [
    {
     "data": {
      "text/html": [
       "<div>\n",
       "<style scoped>\n",
       "    .dataframe tbody tr th:only-of-type {\n",
       "        vertical-align: middle;\n",
       "    }\n",
       "\n",
       "    .dataframe tbody tr th {\n",
       "        vertical-align: top;\n",
       "    }\n",
       "\n",
       "    .dataframe thead th {\n",
       "        text-align: right;\n",
       "    }\n",
       "</style>\n",
       "<table border=\"1\" class=\"dataframe\">\n",
       "  <thead>\n",
       "    <tr style=\"text-align: right;\">\n",
       "      <th></th>\n",
       "      <th>company</th>\n",
       "      <th>count</th>\n",
       "    </tr>\n",
       "  </thead>\n",
       "  <tbody>\n",
       "    <tr>\n",
       "      <th>0</th>\n",
       "      <td>酷狗音乐</td>\n",
       "      <td>8</td>\n",
       "    </tr>\n",
       "    <tr>\n",
       "      <th>1</th>\n",
       "      <td>网易</td>\n",
       "      <td>7</td>\n",
       "    </tr>\n",
       "    <tr>\n",
       "      <th>2</th>\n",
       "      <td>欢聚集团（JOYY Inc.）</td>\n",
       "      <td>6</td>\n",
       "    </tr>\n",
       "    <tr>\n",
       "      <th>3</th>\n",
       "      <td>小鹏汽车</td>\n",
       "      <td>5</td>\n",
       "    </tr>\n",
       "    <tr>\n",
       "      <th>4</th>\n",
       "      <td>虎牙科技</td>\n",
       "      <td>4</td>\n",
       "    </tr>\n",
       "    <tr>\n",
       "      <th>5</th>\n",
       "      <td>DMAI智能科技</td>\n",
       "      <td>4</td>\n",
       "    </tr>\n",
       "    <tr>\n",
       "      <th>6</th>\n",
       "      <td>美业颜究院</td>\n",
       "      <td>3</td>\n",
       "    </tr>\n",
       "    <tr>\n",
       "      <th>7</th>\n",
       "      <td>唯品会</td>\n",
       "      <td>3</td>\n",
       "    </tr>\n",
       "    <tr>\n",
       "      <th>8</th>\n",
       "      <td>深声科技</td>\n",
       "      <td>3</td>\n",
       "    </tr>\n",
       "    <tr>\n",
       "      <th>9</th>\n",
       "      <td>荔枝</td>\n",
       "      <td>3</td>\n",
       "    </tr>\n",
       "    <tr>\n",
       "      <th>10</th>\n",
       "      <td>广东三维家信息科技有限公司</td>\n",
       "      <td>2</td>\n",
       "    </tr>\n",
       "    <tr>\n",
       "      <th>11</th>\n",
       "      <td>时谛智能</td>\n",
       "      <td>2</td>\n",
       "    </tr>\n",
       "    <tr>\n",
       "      <th>12</th>\n",
       "      <td>Bigo</td>\n",
       "      <td>2</td>\n",
       "    </tr>\n",
       "    <tr>\n",
       "      <th>13</th>\n",
       "      <td>紫为云（北京）智能科技有限公司</td>\n",
       "      <td>2</td>\n",
       "    </tr>\n",
       "    <tr>\n",
       "      <th>14</th>\n",
       "      <td>中移互联网</td>\n",
       "      <td>2</td>\n",
       "    </tr>\n",
       "    <tr>\n",
       "      <th>15</th>\n",
       "      <td>如祺出行</td>\n",
       "      <td>2</td>\n",
       "    </tr>\n",
       "    <tr>\n",
       "      <th>16</th>\n",
       "      <td>蓝月亮</td>\n",
       "      <td>2</td>\n",
       "    </tr>\n",
       "    <tr>\n",
       "      <th>17</th>\n",
       "      <td>微革网络</td>\n",
       "      <td>2</td>\n",
       "    </tr>\n",
       "    <tr>\n",
       "      <th>18</th>\n",
       "      <td>玄武科技</td>\n",
       "      <td>2</td>\n",
       "    </tr>\n",
       "    <tr>\n",
       "      <th>19</th>\n",
       "      <td>广发证券</td>\n",
       "      <td>1</td>\n",
       "    </tr>\n",
       "    <tr>\n",
       "      <th>20</th>\n",
       "      <td>星蓝块链</td>\n",
       "      <td>1</td>\n",
       "    </tr>\n",
       "    <tr>\n",
       "      <th>21</th>\n",
       "      <td>广东顺德中山大学卡内基梅隆大学国际联合研究院</td>\n",
       "      <td>1</td>\n",
       "    </tr>\n",
       "    <tr>\n",
       "      <th>22</th>\n",
       "      <td>蜗牛保险</td>\n",
       "      <td>1</td>\n",
       "    </tr>\n",
       "    <tr>\n",
       "      <th>23</th>\n",
       "      <td>忘平科技</td>\n",
       "      <td>1</td>\n",
       "    </tr>\n",
       "    <tr>\n",
       "      <th>24</th>\n",
       "      <td>派客朴食</td>\n",
       "      <td>1</td>\n",
       "    </tr>\n",
       "    <tr>\n",
       "      <th>25</th>\n",
       "      <td>太平洋网络有限公司</td>\n",
       "      <td>1</td>\n",
       "    </tr>\n",
       "    <tr>\n",
       "      <th>26</th>\n",
       "      <td>中润康达</td>\n",
       "      <td>1</td>\n",
       "    </tr>\n",
       "    <tr>\n",
       "      <th>27</th>\n",
       "      <td>翼课网</td>\n",
       "      <td>1</td>\n",
       "    </tr>\n",
       "    <tr>\n",
       "      <th>28</th>\n",
       "      <td>非常满意</td>\n",
       "      <td>1</td>\n",
       "    </tr>\n",
       "    <tr>\n",
       "      <th>29</th>\n",
       "      <td>安豆科技</td>\n",
       "      <td>1</td>\n",
       "    </tr>\n",
       "    <tr>\n",
       "      <th>...</th>\n",
       "      <td>...</td>\n",
       "      <td>...</td>\n",
       "    </tr>\n",
       "    <tr>\n",
       "      <th>41</th>\n",
       "      <td>证通电子</td>\n",
       "      <td>1</td>\n",
       "    </tr>\n",
       "    <tr>\n",
       "      <th>42</th>\n",
       "      <td>博纳德</td>\n",
       "      <td>1</td>\n",
       "    </tr>\n",
       "    <tr>\n",
       "      <th>43</th>\n",
       "      <td>腾讯</td>\n",
       "      <td>1</td>\n",
       "    </tr>\n",
       "    <tr>\n",
       "      <th>44</th>\n",
       "      <td>亿航智能无人机Ehang</td>\n",
       "      <td>1</td>\n",
       "    </tr>\n",
       "    <tr>\n",
       "      <th>45</th>\n",
       "      <td>佰聆数据</td>\n",
       "      <td>1</td>\n",
       "    </tr>\n",
       "    <tr>\n",
       "      <th>46</th>\n",
       "      <td>富力地产</td>\n",
       "      <td>1</td>\n",
       "    </tr>\n",
       "    <tr>\n",
       "      <th>47</th>\n",
       "      <td>织点智能</td>\n",
       "      <td>1</td>\n",
       "    </tr>\n",
       "    <tr>\n",
       "      <th>48</th>\n",
       "      <td>星舆科技</td>\n",
       "      <td>1</td>\n",
       "    </tr>\n",
       "    <tr>\n",
       "      <th>49</th>\n",
       "      <td>广发银行信用卡中心</td>\n",
       "      <td>1</td>\n",
       "    </tr>\n",
       "    <tr>\n",
       "      <th>50</th>\n",
       "      <td>影子科技</td>\n",
       "      <td>1</td>\n",
       "    </tr>\n",
       "    <tr>\n",
       "      <th>51</th>\n",
       "      <td>悦谦科技</td>\n",
       "      <td>1</td>\n",
       "    </tr>\n",
       "    <tr>\n",
       "      <th>52</th>\n",
       "      <td>广芯微电子</td>\n",
       "      <td>1</td>\n",
       "    </tr>\n",
       "    <tr>\n",
       "      <th>53</th>\n",
       "      <td>Fordeal</td>\n",
       "      <td>1</td>\n",
       "    </tr>\n",
       "    <tr>\n",
       "      <th>54</th>\n",
       "      <td>博冠</td>\n",
       "      <td>1</td>\n",
       "    </tr>\n",
       "    <tr>\n",
       "      <th>55</th>\n",
       "      <td>康云科技</td>\n",
       "      <td>1</td>\n",
       "    </tr>\n",
       "    <tr>\n",
       "      <th>56</th>\n",
       "      <td>佳都科技</td>\n",
       "      <td>1</td>\n",
       "    </tr>\n",
       "    <tr>\n",
       "      <th>57</th>\n",
       "      <td>百布</td>\n",
       "      <td>1</td>\n",
       "    </tr>\n",
       "    <tr>\n",
       "      <th>58</th>\n",
       "      <td>北京资采</td>\n",
       "      <td>1</td>\n",
       "    </tr>\n",
       "    <tr>\n",
       "      <th>59</th>\n",
       "      <td>英特美迪</td>\n",
       "      <td>1</td>\n",
       "    </tr>\n",
       "    <tr>\n",
       "      <th>60</th>\n",
       "      <td>艾美网络科技</td>\n",
       "      <td>1</td>\n",
       "    </tr>\n",
       "    <tr>\n",
       "      <th>61</th>\n",
       "      <td>艾美星咨询</td>\n",
       "      <td>1</td>\n",
       "    </tr>\n",
       "    <tr>\n",
       "      <th>62</th>\n",
       "      <td>京信通信</td>\n",
       "      <td>1</td>\n",
       "    </tr>\n",
       "    <tr>\n",
       "      <th>63</th>\n",
       "      <td>广州思迈特</td>\n",
       "      <td>1</td>\n",
       "    </tr>\n",
       "    <tr>\n",
       "      <th>64</th>\n",
       "      <td>诚迈信息</td>\n",
       "      <td>1</td>\n",
       "    </tr>\n",
       "    <tr>\n",
       "      <th>65</th>\n",
       "      <td>广数</td>\n",
       "      <td>1</td>\n",
       "    </tr>\n",
       "    <tr>\n",
       "      <th>66</th>\n",
       "      <td>三七互娱</td>\n",
       "      <td>1</td>\n",
       "    </tr>\n",
       "    <tr>\n",
       "      <th>67</th>\n",
       "      <td>ImageDT图匠数据</td>\n",
       "      <td>1</td>\n",
       "    </tr>\n",
       "    <tr>\n",
       "      <th>68</th>\n",
       "      <td>妈妈网</td>\n",
       "      <td>1</td>\n",
       "    </tr>\n",
       "    <tr>\n",
       "      <th>69</th>\n",
       "      <td>钱大妈</td>\n",
       "      <td>1</td>\n",
       "    </tr>\n",
       "    <tr>\n",
       "      <th>70</th>\n",
       "      <td>小橙科技</td>\n",
       "      <td>1</td>\n",
       "    </tr>\n",
       "  </tbody>\n",
       "</table>\n",
       "<p>71 rows × 2 columns</p>\n",
       "</div>"
      ],
      "text/plain": [
       "                   company  count\n",
       "0                     酷狗音乐      8\n",
       "1                       网易      7\n",
       "2          欢聚集团（JOYY Inc.）      6\n",
       "3                     小鹏汽车      5\n",
       "4                     虎牙科技      4\n",
       "5                 DMAI智能科技      4\n",
       "6                    美业颜究院      3\n",
       "7                      唯品会      3\n",
       "8                     深声科技      3\n",
       "9                       荔枝      3\n",
       "10           广东三维家信息科技有限公司      2\n",
       "11                    时谛智能      2\n",
       "12                    Bigo      2\n",
       "13         紫为云（北京）智能科技有限公司      2\n",
       "14                   中移互联网      2\n",
       "15                    如祺出行      2\n",
       "16                     蓝月亮      2\n",
       "17                    微革网络      2\n",
       "18                    玄武科技      2\n",
       "19                    广发证券      1\n",
       "20                    星蓝块链      1\n",
       "21  广东顺德中山大学卡内基梅隆大学国际联合研究院      1\n",
       "22                    蜗牛保险      1\n",
       "23                    忘平科技      1\n",
       "24                    派客朴食      1\n",
       "25               太平洋网络有限公司      1\n",
       "26                    中润康达      1\n",
       "27                     翼课网      1\n",
       "28                    非常满意      1\n",
       "29                    安豆科技      1\n",
       "..                     ...    ...\n",
       "41                    证通电子      1\n",
       "42                     博纳德      1\n",
       "43                      腾讯      1\n",
       "44            亿航智能无人机Ehang      1\n",
       "45                    佰聆数据      1\n",
       "46                    富力地产      1\n",
       "47                    织点智能      1\n",
       "48                    星舆科技      1\n",
       "49               广发银行信用卡中心      1\n",
       "50                    影子科技      1\n",
       "51                    悦谦科技      1\n",
       "52                   广芯微电子      1\n",
       "53                 Fordeal      1\n",
       "54                      博冠      1\n",
       "55                    康云科技      1\n",
       "56                    佳都科技      1\n",
       "57                      百布      1\n",
       "58                    北京资采      1\n",
       "59                    英特美迪      1\n",
       "60                  艾美网络科技      1\n",
       "61                   艾美星咨询      1\n",
       "62                    京信通信      1\n",
       "63                   广州思迈特      1\n",
       "64                    诚迈信息      1\n",
       "65                      广数      1\n",
       "66                    三七互娱      1\n",
       "67             ImageDT图匠数据      1\n",
       "68                     妈妈网      1\n",
       "69                     钱大妈      1\n",
       "70                    小橙科技      1\n",
       "\n",
       "[71 rows x 2 columns]"
      ]
     },
     "execution_count": 571,
     "metadata": {},
     "output_type": "execute_result"
    }
   ],
   "source": [
    "# 有经验3-5年要求的公司\n",
    "qe = lagou[lagou['experience'] == '经验3-5年']['company'].value_counts()\n",
    "qedf = pd.DataFrame(qe).reset_index()\n",
    "qedf = qedf.rename({'index':'company', 'company': 'count'}, axis=1)\n",
    "qedf"
   ]
  },
  {
   "cell_type": "code",
   "execution_count": 572,
   "metadata": {},
   "outputs": [
    {
     "data": {
      "text/plain": [
       "<matplotlib.axes._subplots.AxesSubplot at 0x1bc947c4860>"
      ]
     },
     "execution_count": 572,
     "metadata": {},
     "output_type": "execute_result"
    },
    {
     "data": {
      "image/png": "[encoded data removed]",
      "text/plain": [
       "<Figure size 576x360 with 1 Axes>"
      ]
     },
     "metadata": {
      "needs_background": "light"
     },
     "output_type": "display_data"
    }
   ],
   "source": [
    "plt.figure(figsize=(8, 5))\n",
    "sns.barplot(y='company', x='count', data=qedf.head(20))\n"
   ]
  },
  {
   "cell_type": "markdown",
   "metadata": {},
   "source": [
    "- 对该岗位有经验3-5年要求的公司有71家\n",
    "- 对该岗位有经验3-5年要求的最多的公司是酷狗音乐（8个）\n",
    "- 其次是网易（7个）、欢聚集团（6个）、小鹏汽车（5个）、虎牙科技、DMAI智能科技（4个）、美业颜究院、唯品会、深声科技、荔枝（3个）"
   ]
  },
  {
   "cell_type": "code",
   "execution_count": 573,
   "metadata": {},
   "outputs": [
    {
     "data": {
      "text/html": [
       "<div>\n",
       "<style scoped>\n",
       "    .dataframe tbody tr th:only-of-type {\n",
       "        vertical-align: middle;\n",
       "    }\n",
       "\n",
       "    .dataframe tbody tr th {\n",
       "        vertical-align: top;\n",
       "    }\n",
       "\n",
       "    .dataframe thead th {\n",
       "        text-align: right;\n",
       "    }\n",
       "</style>\n",
       "<table border=\"1\" class=\"dataframe\">\n",
       "  <thead>\n",
       "    <tr style=\"text-align: right;\">\n",
       "      <th></th>\n",
       "      <th>company</th>\n",
       "      <th>count</th>\n",
       "    </tr>\n",
       "  </thead>\n",
       "  <tbody>\n",
       "    <tr>\n",
       "      <th>0</th>\n",
       "      <td>联友科技</td>\n",
       "      <td>2</td>\n",
       "    </tr>\n",
       "    <tr>\n",
       "      <th>1</th>\n",
       "      <td>广发银行信用卡中心</td>\n",
       "      <td>2</td>\n",
       "    </tr>\n",
       "    <tr>\n",
       "      <th>2</th>\n",
       "      <td>百布</td>\n",
       "      <td>2</td>\n",
       "    </tr>\n",
       "    <tr>\n",
       "      <th>3</th>\n",
       "      <td>搜款网 VVIC</td>\n",
       "      <td>2</td>\n",
       "    </tr>\n",
       "    <tr>\n",
       "      <th>4</th>\n",
       "      <td>一手</td>\n",
       "      <td>1</td>\n",
       "    </tr>\n",
       "    <tr>\n",
       "      <th>5</th>\n",
       "      <td>南方报业</td>\n",
       "      <td>1</td>\n",
       "    </tr>\n",
       "    <tr>\n",
       "      <th>6</th>\n",
       "      <td>联通（广东）产业互联网...</td>\n",
       "      <td>1</td>\n",
       "    </tr>\n",
       "    <tr>\n",
       "      <th>7</th>\n",
       "      <td>智慧云创</td>\n",
       "      <td>1</td>\n",
       "    </tr>\n",
       "    <tr>\n",
       "      <th>8</th>\n",
       "      <td>川山教育</td>\n",
       "      <td>1</td>\n",
       "    </tr>\n",
       "    <tr>\n",
       "      <th>9</th>\n",
       "      <td>腾米克(TENMIC)</td>\n",
       "      <td>1</td>\n",
       "    </tr>\n",
       "    <tr>\n",
       "      <th>10</th>\n",
       "      <td>智通睿新</td>\n",
       "      <td>1</td>\n",
       "    </tr>\n",
       "    <tr>\n",
       "      <th>11</th>\n",
       "      <td>欢聚集团（JOYY Inc.）</td>\n",
       "      <td>1</td>\n",
       "    </tr>\n",
       "    <tr>\n",
       "      <th>12</th>\n",
       "      <td>聚焦网络集团</td>\n",
       "      <td>1</td>\n",
       "    </tr>\n",
       "    <tr>\n",
       "      <th>13</th>\n",
       "      <td>建信金科</td>\n",
       "      <td>1</td>\n",
       "    </tr>\n",
       "    <tr>\n",
       "      <th>14</th>\n",
       "      <td>广东亿迅</td>\n",
       "      <td>1</td>\n",
       "    </tr>\n",
       "    <tr>\n",
       "      <th>15</th>\n",
       "      <td>广芯微电子</td>\n",
       "      <td>1</td>\n",
       "    </tr>\n",
       "    <tr>\n",
       "      <th>16</th>\n",
       "      <td>唯品会</td>\n",
       "      <td>1</td>\n",
       "    </tr>\n",
       "    <tr>\n",
       "      <th>17</th>\n",
       "      <td>小鹏汽车</td>\n",
       "      <td>1</td>\n",
       "    </tr>\n",
       "    <tr>\n",
       "      <th>18</th>\n",
       "      <td>滴普科技</td>\n",
       "      <td>1</td>\n",
       "    </tr>\n",
       "    <tr>\n",
       "      <th>19</th>\n",
       "      <td>Fordeal</td>\n",
       "      <td>1</td>\n",
       "    </tr>\n",
       "    <tr>\n",
       "      <th>20</th>\n",
       "      <td>玄武科技</td>\n",
       "      <td>1</td>\n",
       "    </tr>\n",
       "    <tr>\n",
       "      <th>21</th>\n",
       "      <td>中国电信云计算公司</td>\n",
       "      <td>1</td>\n",
       "    </tr>\n",
       "  </tbody>\n",
       "</table>\n",
       "</div>"
      ],
      "text/plain": [
       "            company  count\n",
       "0              联友科技      2\n",
       "1         广发银行信用卡中心      2\n",
       "2                百布      2\n",
       "3          搜款网 VVIC      2\n",
       "4                一手      1\n",
       "5              南方报业      1\n",
       "6    联通（广东）产业互联网...      1\n",
       "7              智慧云创      1\n",
       "8              川山教育      1\n",
       "9       腾米克(TENMIC)      1\n",
       "10             智通睿新      1\n",
       "11  欢聚集团（JOYY Inc.）      1\n",
       "12           聚焦网络集团      1\n",
       "13             建信金科      1\n",
       "14             广东亿迅      1\n",
       "15            广芯微电子      1\n",
       "16              唯品会      1\n",
       "17             小鹏汽车      1\n",
       "18             滴普科技      1\n",
       "19          Fordeal      1\n",
       "20             玄武科技      1\n",
       "21        中国电信云计算公司      1"
      ]
     },
     "execution_count": 573,
     "metadata": {},
     "output_type": "execute_result"
    }
   ],
   "source": [
    "# 有经验5-10年要求的公司\n",
    "qe = lagou[lagou['experience'] == '经验5-10年']['company'].value_counts()\n",
    "qedf = pd.DataFrame(qe).reset_index()\n",
    "qedf = qedf.rename({'index':'company', 'company': 'count'}, axis=1)\n",
    "qedf"
   ]
  },
  {
   "cell_type": "code",
   "execution_count": 574,
   "metadata": {},
   "outputs": [
    {
     "data": {
      "text/plain": [
       "<matplotlib.axes._subplots.AxesSubplot at 0x1bc9508ae48>"
      ]
     },
     "execution_count": 574,
     "metadata": {},
     "output_type": "execute_result"
    },
    {
     "data": {
      "image/png": "[encoded data removed]",
      "text/plain": [
       "<Figure size 576x360 with 1 Axes>"
      ]
     },
     "metadata": {
      "needs_background": "light"
     },
     "output_type": "display_data"
    }
   ],
   "source": [
    "plt.figure(figsize=(8, 5))\n",
    "sns.barplot(y='company', x='count', data=qedf)\n"
   ]
  },
  {
   "cell_type": "markdown",
   "metadata": {},
   "source": [
    "- 对该岗位有经验5-10年要求的公司有22家\n",
    "- 对该岗位有经验5-10年要求的最多的公司有联友科技、广发银行信用卡中心、百布、搜款网、VVIC（2个）"
   ]
  },
  {
   "cell_type": "code",
   "execution_count": 575,
   "metadata": {},
   "outputs": [
    {
     "data": {
      "text/html": [
       "<div>\n",
       "<style scoped>\n",
       "    .dataframe tbody tr th:only-of-type {\n",
       "        vertical-align: middle;\n",
       "    }\n",
       "\n",
       "    .dataframe tbody tr th {\n",
       "        vertical-align: top;\n",
       "    }\n",
       "\n",
       "    .dataframe thead th {\n",
       "        text-align: right;\n",
       "    }\n",
       "</style>\n",
       "<table border=\"1\" class=\"dataframe\">\n",
       "  <thead>\n",
       "    <tr style=\"text-align: right;\">\n",
       "      <th></th>\n",
       "      <th>company</th>\n",
       "      <th>count</th>\n",
       "    </tr>\n",
       "  </thead>\n",
       "  <tbody>\n",
       "    <tr>\n",
       "      <th>0</th>\n",
       "      <td>紫为云（北京）智能科技有限公司</td>\n",
       "      <td>3</td>\n",
       "    </tr>\n",
       "    <tr>\n",
       "      <th>1</th>\n",
       "      <td>柏视医疗</td>\n",
       "      <td>3</td>\n",
       "    </tr>\n",
       "    <tr>\n",
       "      <th>2</th>\n",
       "      <td>欢聚集团（JOYY Inc.）</td>\n",
       "      <td>2</td>\n",
       "    </tr>\n",
       "    <tr>\n",
       "      <th>3</th>\n",
       "      <td>网易</td>\n",
       "      <td>2</td>\n",
       "    </tr>\n",
       "    <tr>\n",
       "      <th>4</th>\n",
       "      <td>CVTE</td>\n",
       "      <td>2</td>\n",
       "    </tr>\n",
       "    <tr>\n",
       "      <th>5</th>\n",
       "      <td>深声科技</td>\n",
       "      <td>2</td>\n",
       "    </tr>\n",
       "    <tr>\n",
       "      <th>6</th>\n",
       "      <td>小鹏汽车</td>\n",
       "      <td>2</td>\n",
       "    </tr>\n",
       "    <tr>\n",
       "      <th>7</th>\n",
       "      <td>DMAI智能科技</td>\n",
       "      <td>2</td>\n",
       "    </tr>\n",
       "    <tr>\n",
       "      <th>8</th>\n",
       "      <td>XAG极飞科技</td>\n",
       "      <td>2</td>\n",
       "    </tr>\n",
       "    <tr>\n",
       "      <th>9</th>\n",
       "      <td>广州市奥威亚电子科技有限公司</td>\n",
       "      <td>1</td>\n",
       "    </tr>\n",
       "    <tr>\n",
       "      <th>10</th>\n",
       "      <td>卓牛科技</td>\n",
       "      <td>1</td>\n",
       "    </tr>\n",
       "    <tr>\n",
       "      <th>11</th>\n",
       "      <td>富港万嘉</td>\n",
       "      <td>1</td>\n",
       "    </tr>\n",
       "    <tr>\n",
       "      <th>12</th>\n",
       "      <td>广州市妇儿中心</td>\n",
       "      <td>1</td>\n",
       "    </tr>\n",
       "    <tr>\n",
       "      <th>13</th>\n",
       "      <td>上海敬游软件</td>\n",
       "      <td>1</td>\n",
       "    </tr>\n",
       "    <tr>\n",
       "      <th>14</th>\n",
       "      <td>一心石意</td>\n",
       "      <td>1</td>\n",
       "    </tr>\n",
       "    <tr>\n",
       "      <th>15</th>\n",
       "      <td>字节跳动</td>\n",
       "      <td>1</td>\n",
       "    </tr>\n",
       "    <tr>\n",
       "      <th>16</th>\n",
       "      <td>广州黑格智造信息科技有限公司</td>\n",
       "      <td>1</td>\n",
       "    </tr>\n",
       "    <tr>\n",
       "      <th>17</th>\n",
       "      <td>树根互联技术有限公司</td>\n",
       "      <td>1</td>\n",
       "    </tr>\n",
       "    <tr>\n",
       "      <th>18</th>\n",
       "      <td>赛特智能</td>\n",
       "      <td>1</td>\n",
       "    </tr>\n",
       "    <tr>\n",
       "      <th>19</th>\n",
       "      <td>广东瀚阳轨道信息科技...</td>\n",
       "      <td>1</td>\n",
       "    </tr>\n",
       "    <tr>\n",
       "      <th>20</th>\n",
       "      <td>太平洋网络有限公司</td>\n",
       "      <td>1</td>\n",
       "    </tr>\n",
       "    <tr>\n",
       "      <th>21</th>\n",
       "      <td>广州无线电集团有限公司</td>\n",
       "      <td>1</td>\n",
       "    </tr>\n",
       "    <tr>\n",
       "      <th>22</th>\n",
       "      <td>多益网络</td>\n",
       "      <td>1</td>\n",
       "    </tr>\n",
       "    <tr>\n",
       "      <th>23</th>\n",
       "      <td>易风健康</td>\n",
       "      <td>1</td>\n",
       "    </tr>\n",
       "    <tr>\n",
       "      <th>24</th>\n",
       "      <td>特道信息</td>\n",
       "      <td>1</td>\n",
       "    </tr>\n",
       "    <tr>\n",
       "      <th>25</th>\n",
       "      <td>斗鱼直播</td>\n",
       "      <td>1</td>\n",
       "    </tr>\n",
       "    <tr>\n",
       "      <th>26</th>\n",
       "      <td>网龙网络有限公司</td>\n",
       "      <td>1</td>\n",
       "    </tr>\n",
       "    <tr>\n",
       "      <th>27</th>\n",
       "      <td>趣丸</td>\n",
       "      <td>1</td>\n",
       "    </tr>\n",
       "    <tr>\n",
       "      <th>28</th>\n",
       "      <td>广东智源</td>\n",
       "      <td>1</td>\n",
       "    </tr>\n",
       "    <tr>\n",
       "      <th>29</th>\n",
       "      <td>广州方舟医药有限公司</td>\n",
       "      <td>1</td>\n",
       "    </tr>\n",
       "    <tr>\n",
       "      <th>30</th>\n",
       "      <td>宏鸿钥科技</td>\n",
       "      <td>1</td>\n",
       "    </tr>\n",
       "    <tr>\n",
       "      <th>31</th>\n",
       "      <td>时谛智能</td>\n",
       "      <td>1</td>\n",
       "    </tr>\n",
       "    <tr>\n",
       "      <th>32</th>\n",
       "      <td>广东省新一代</td>\n",
       "      <td>1</td>\n",
       "    </tr>\n",
       "    <tr>\n",
       "      <th>33</th>\n",
       "      <td>慧择信息集团</td>\n",
       "      <td>1</td>\n",
       "    </tr>\n",
       "  </tbody>\n",
       "</table>\n",
       "</div>"
      ],
      "text/plain": [
       "            company  count\n",
       "0   紫为云（北京）智能科技有限公司      3\n",
       "1              柏视医疗      3\n",
       "2   欢聚集团（JOYY Inc.）      2\n",
       "3                网易      2\n",
       "4              CVTE      2\n",
       "5              深声科技      2\n",
       "6              小鹏汽车      2\n",
       "7          DMAI智能科技      2\n",
       "8           XAG极飞科技      2\n",
       "9    广州市奥威亚电子科技有限公司      1\n",
       "10             卓牛科技      1\n",
       "11             富港万嘉      1\n",
       "12          广州市妇儿中心      1\n",
       "13           上海敬游软件      1\n",
       "14             一心石意      1\n",
       "15             字节跳动      1\n",
       "16   广州黑格智造信息科技有限公司      1\n",
       "17       树根互联技术有限公司      1\n",
       "18             赛特智能      1\n",
       "19    广东瀚阳轨道信息科技...      1\n",
       "20        太平洋网络有限公司      1\n",
       "21      广州无线电集团有限公司      1\n",
       "22             多益网络      1\n",
       "23             易风健康      1\n",
       "24             特道信息      1\n",
       "25             斗鱼直播      1\n",
       "26         网龙网络有限公司      1\n",
       "27               趣丸      1\n",
       "28             广东智源      1\n",
       "29       广州方舟医药有限公司      1\n",
       "30            宏鸿钥科技      1\n",
       "31             时谛智能      1\n",
       "32           广东省新一代      1\n",
       "33           慧择信息集团      1"
      ]
     },
     "execution_count": 575,
     "metadata": {},
     "output_type": "execute_result"
    }
   ],
   "source": [
    "# 对经验不限要求的公司\n",
    "qe = lagou[lagou['experience'] == '经验不限']['company'].value_counts()\n",
    "qedf = pd.DataFrame(qe).reset_index()\n",
    "qedf = qedf.rename({'index':'company', 'company': 'count'}, axis=1)\n",
    "qedf"
   ]
  },
  {
   "cell_type": "code",
   "execution_count": 576,
   "metadata": {},
   "outputs": [
    {
     "data": {
      "text/plain": [
       "<matplotlib.axes._subplots.AxesSubplot at 0x1bc951880f0>"
      ]
     },
     "execution_count": 576,
     "metadata": {},
     "output_type": "execute_result"
    },
    {
     "data": {
      "image/png": "[encoded data removed]",
      "text/plain": [
       "<Figure size 576x360 with 1 Axes>"
      ]
     },
     "metadata": {
      "needs_background": "light"
     },
     "output_type": "display_data"
    }
   ],
   "source": [
    "plt.figure(figsize=(8, 5))\n",
    "sns.barplot(y='company', x='count', data=qedf.head(20))\n"
   ]
  },
  {
   "cell_type": "markdown",
   "metadata": {},
   "source": [
    "- 对该岗位经验不限要求的公司有34家\n",
    "- 对该岗位经验不限要求的最多的公司有紫为云（北京）智能科技有限公司、柏视医疗（3个）"
   ]
  },
  {
   "cell_type": "markdown",
   "metadata": {},
   "source": [
    "#### 查看不同融资情况公司对经验要求的情况"
   ]
  },
  {
   "cell_type": "code",
   "execution_count": 577,
   "metadata": {},
   "outputs": [
    {
     "data": {
      "text/plain": [
       "finance  experience\n",
       "A轮       经验3-5年        12\n",
       "         经验不限           6\n",
       "         经验1-3年         5\n",
       "         经验5-10年        2\n",
       "         经验在校           1\n",
       "B轮       经验3-5年        14\n",
       "         经验1-3年         6\n",
       "         经验在校           3\n",
       "         经验不限           2\n",
       "C轮       经验3-5年         3\n",
       "         经验不限           3\n",
       "         经验5-10年        2\n",
       "D轮及以上    经验3-5年         2\n",
       "         经验5-10年        2\n",
       "         经验1-3年         1\n",
       "         经验不限           1\n",
       "         经验在校           1\n",
       "上市公司     经验3-5年        53\n",
       "         经验1-3年        22\n",
       "         经验在校          15\n",
       "         经验不限          12\n",
       "         经验5-10年        5\n",
       "不需要融资    经验3-5年        22\n",
       "         经验1-3年        13\n",
       "         经验不限          13\n",
       "         经验5-10年       10\n",
       "         经验在校           9\n",
       "天使轮      经验1-3年         4\n",
       "         经验3-5年         4\n",
       "         经验不限           3\n",
       "未融资      经验1-3年        12\n",
       "         经验3-5年         6\n",
       "         经验5-10年        5\n",
       "         经验不限           5\n",
       "         经验在校           3\n",
       "Name: experience, dtype: int64"
      ]
     },
     "execution_count": 577,
     "metadata": {},
     "output_type": "execute_result"
    }
   ],
   "source": [
    "lagou.groupby(['finance'])['experience'].value_counts()"
   ]
  },
  {
   "cell_type": "code",
   "execution_count": 578,
   "metadata": {},
   "outputs": [
    {
     "data": {
      "text/plain": [
       "<matplotlib.axes._subplots.AxesSubplot at 0x1bc9524dc18>"
      ]
     },
     "execution_count": 578,
     "metadata": {},
     "output_type": "execute_result"
    },
    {
     "data": {
      "image/png": "[encoded data removed]",
      "text/plain": [
       "<Figure size 720x360 with 1 Axes>"
      ]
     },
     "metadata": {
      "needs_background": "light"
     },
     "output_type": "display_data"
    }
   ],
   "source": [
    "plt.figure(figsize=(10, 5))\n",
    "sns.countplot(x='finance', hue='experience', data=lagou)"
   ]
  },
  {
   "cell_type": "markdown",
   "metadata": {},
   "source": [
    "- 上市公司、不需要融资、A轮、B轮公司对该岗位要求为经验3-5年的需求量最多\n",
    "- 未融资公司对该岗位要求为经验1-3年的需求量最多\n",
    "- D轮及以上、天使轮、C轮对该岗位的经验要求区别不大"
   ]
  },
  {
   "cell_type": "markdown",
   "metadata": {},
   "source": [
    "#### 查看不同规模公司对经验要求的情况"
   ]
  },
  {
   "cell_type": "code",
   "execution_count": 579,
   "metadata": {},
   "outputs": [
    {
     "data": {
      "text/plain": [
       "scale      experience\n",
       "15-50人     经验1-3年        13\n",
       "           经验3-5年         6\n",
       "           经验不限           3\n",
       "           经验在校           2\n",
       "           经验5-10年        1\n",
       "150-500人   经验3-5年        19\n",
       "           经验1-3年        10\n",
       "           经验不限          10\n",
       "           经验在校           5\n",
       "           经验5-10年        1\n",
       "2000人以上    经验3-5年        40\n",
       "           经验1-3年        20\n",
       "           经验在校          15\n",
       "           经验不限          13\n",
       "           经验5-10年        9\n",
       "50-150人    经验3-5年        20\n",
       "           经验不限          11\n",
       "           经验1-3年        10\n",
       "           经验5-10年        4\n",
       "           经验在校           2\n",
       "500-2000人  经验3-5年        29\n",
       "           经验5-10年       11\n",
       "           经验不限           8\n",
       "           经验在校           8\n",
       "           经验1-3年         7\n",
       "少于15人      经验1-3年         3\n",
       "           经验3-5年         2\n",
       "Name: experience, dtype: int64"
      ]
     },
     "execution_count": 579,
     "metadata": {},
     "output_type": "execute_result"
    }
   ],
   "source": [
    "lagou.groupby(['scale'])['experience'].value_counts()"
   ]
  },
  {
   "cell_type": "code",
   "execution_count": 580,
   "metadata": {},
   "outputs": [
    {
     "data": {
      "text/plain": [
       "<matplotlib.axes._subplots.AxesSubplot at 0x1bc9533a0f0>"
      ]
     },
     "execution_count": 580,
     "metadata": {},
     "output_type": "execute_result"
    },
    {
     "data": {
      "image/png": "[encoded data removed]",
      "text/plain": [
       "<Figure size 576x360 with 1 Axes>"
      ]
     },
     "metadata": {
      "needs_background": "light"
     },
     "output_type": "display_data"
    }
   ],
   "source": [
    "plt.figure(figsize=(8, 5))\n",
    "sns.countplot(x='scale', hue='experience', data=lagou)"
   ]
  },
  {
   "cell_type": "markdown",
   "metadata": {},
   "source": [
    "- 2000人以上、500-2000人、150-500人、50-150人规模的公司对该岗位要求为经验3-5年的需求量最多\n",
    "- 15-50人和少于15人规模的公司对该岗位要求为经验1-3年的需求量最多"
   ]
  },
  {
   "cell_type": "markdown",
   "metadata": {},
   "source": [
    "#### 查看不同领域公司对经验要求的情况"
   ]
  },
  {
   "cell_type": "code",
   "execution_count": 607,
   "metadata": {},
   "outputs": [
    {
     "data": {
      "text/html": [
       "<div>\n",
       "<style scoped>\n",
       "    .dataframe tbody tr th:only-of-type {\n",
       "        vertical-align: middle;\n",
       "    }\n",
       "\n",
       "    .dataframe tbody tr th {\n",
       "        vertical-align: top;\n",
       "    }\n",
       "\n",
       "    .dataframe thead th {\n",
       "        text-align: right;\n",
       "    }\n",
       "</style>\n",
       "<table border=\"1\" class=\"dataframe\">\n",
       "  <thead>\n",
       "    <tr style=\"text-align: right;\">\n",
       "      <th></th>\n",
       "      <th>uni_domain</th>\n",
       "      <th>count</th>\n",
       "    </tr>\n",
       "  </thead>\n",
       "  <tbody>\n",
       "    <tr>\n",
       "      <th>0</th>\n",
       "      <td>游戏</td>\n",
       "      <td>6</td>\n",
       "    </tr>\n",
       "    <tr>\n",
       "      <th>1</th>\n",
       "      <td>人工智能</td>\n",
       "      <td>6</td>\n",
       "    </tr>\n",
       "    <tr>\n",
       "      <th>2</th>\n",
       "      <td>制造业</td>\n",
       "      <td>5</td>\n",
       "    </tr>\n",
       "    <tr>\n",
       "      <th>3</th>\n",
       "      <td>移动互联网</td>\n",
       "      <td>4</td>\n",
       "    </tr>\n",
       "    <tr>\n",
       "      <th>4</th>\n",
       "      <td>软件服务</td>\n",
       "      <td>3</td>\n",
       "    </tr>\n",
       "    <tr>\n",
       "      <th>5</th>\n",
       "      <td>数据服务</td>\n",
       "      <td>2</td>\n",
       "    </tr>\n",
       "    <tr>\n",
       "      <th>6</th>\n",
       "      <td>智能硬件</td>\n",
       "      <td>1</td>\n",
       "    </tr>\n",
       "    <tr>\n",
       "      <th>7</th>\n",
       "      <td>物联网</td>\n",
       "      <td>1</td>\n",
       "    </tr>\n",
       "    <tr>\n",
       "      <th>8</th>\n",
       "      <td>其他</td>\n",
       "      <td>1</td>\n",
       "    </tr>\n",
       "    <tr>\n",
       "      <th>9</th>\n",
       "      <td>硬件</td>\n",
       "      <td>1</td>\n",
       "    </tr>\n",
       "    <tr>\n",
       "      <th>10</th>\n",
       "      <td>电商平台</td>\n",
       "      <td>1</td>\n",
       "    </tr>\n",
       "    <tr>\n",
       "      <th>11</th>\n",
       "      <td>电商</td>\n",
       "      <td>1</td>\n",
       "    </tr>\n",
       "  </tbody>\n",
       "</table>\n",
       "</div>"
      ],
      "text/plain": [
       "   uni_domain  count\n",
       "0          游戏      6\n",
       "1        人工智能      6\n",
       "2         制造业      5\n",
       "3       移动互联网      4\n",
       "4        软件服务      3\n",
       "5        数据服务      2\n",
       "6        智能硬件      1\n",
       "7         物联网      1\n",
       "8          其他      1\n",
       "9          硬件      1\n",
       "10       电商平台      1\n",
       "11         电商      1"
      ]
     },
     "execution_count": 607,
     "metadata": {},
     "output_type": "execute_result"
    }
   ],
   "source": [
    "# 有经验在校（应届）要求的领域\n",
    "ed = lagou[lagou['experience'] == '经验在校']['uni_domain'].value_counts()\n",
    "eddf = pd.DataFrame(ed).reset_index()\n",
    "eddf = eddf.rename({'index':'uni_domain', 'uni_domain': 'count'}, axis=1)\n",
    "eddf"
   ]
  },
  {
   "cell_type": "code",
   "execution_count": 609,
   "metadata": {},
   "outputs": [
    {
     "data": {
      "text/plain": [
       "<matplotlib.axes._subplots.AxesSubplot at 0x1bc98efe470>"
      ]
     },
     "execution_count": 609,
     "metadata": {},
     "output_type": "execute_result"
    },
    {
     "data": {
      "image/png": "[encoded data removed]",
      "text/plain": [
       "<Figure size 432x288 with 1 Axes>"
      ]
     },
     "metadata": {
      "needs_background": "light"
     },
     "output_type": "display_data"
    }
   ],
   "source": [
    "sns.barplot(y='uni_domain', x='count', data=eddf)"
   ]
  },
  {
   "cell_type": "markdown",
   "metadata": {},
   "source": [
    "- 对该岗位有应届要求的主要是游戏和人工智能领域\n",
    "- 其次是制造业、移动互联网、软件服务、数据服务"
   ]
  },
  {
   "cell_type": "code",
   "execution_count": 610,
   "metadata": {},
   "outputs": [
    {
     "data": {
      "text/html": [
       "<div>\n",
       "<style scoped>\n",
       "    .dataframe tbody tr th:only-of-type {\n",
       "        vertical-align: middle;\n",
       "    }\n",
       "\n",
       "    .dataframe tbody tr th {\n",
       "        vertical-align: top;\n",
       "    }\n",
       "\n",
       "    .dataframe thead th {\n",
       "        text-align: right;\n",
       "    }\n",
       "</style>\n",
       "<table border=\"1\" class=\"dataframe\">\n",
       "  <thead>\n",
       "    <tr style=\"text-align: right;\">\n",
       "      <th></th>\n",
       "      <th>uni_domain</th>\n",
       "      <th>count</th>\n",
       "    </tr>\n",
       "  </thead>\n",
       "  <tbody>\n",
       "    <tr>\n",
       "      <th>0</th>\n",
       "      <td>内容资讯</td>\n",
       "      <td>8</td>\n",
       "    </tr>\n",
       "    <tr>\n",
       "      <th>1</th>\n",
       "      <td>移动互联网</td>\n",
       "      <td>7</td>\n",
       "    </tr>\n",
       "    <tr>\n",
       "      <th>2</th>\n",
       "      <td>人工智能</td>\n",
       "      <td>6</td>\n",
       "    </tr>\n",
       "    <tr>\n",
       "      <th>3</th>\n",
       "      <td>工具类产品</td>\n",
       "      <td>6</td>\n",
       "    </tr>\n",
       "    <tr>\n",
       "      <th>4</th>\n",
       "      <td>数据服务</td>\n",
       "      <td>6</td>\n",
       "    </tr>\n",
       "    <tr>\n",
       "      <th>5</th>\n",
       "      <td>电商平台</td>\n",
       "      <td>4</td>\n",
       "    </tr>\n",
       "    <tr>\n",
       "      <th>6</th>\n",
       "      <td>IT技术服务</td>\n",
       "      <td>4</td>\n",
       "    </tr>\n",
       "    <tr>\n",
       "      <th>7</th>\n",
       "      <td>智能硬件</td>\n",
       "      <td>3</td>\n",
       "    </tr>\n",
       "    <tr>\n",
       "      <th>8</th>\n",
       "      <td>软件服务</td>\n",
       "      <td>3</td>\n",
       "    </tr>\n",
       "    <tr>\n",
       "      <th>9</th>\n",
       "      <td>医疗</td>\n",
       "      <td>3</td>\n",
       "    </tr>\n",
       "    <tr>\n",
       "      <th>10</th>\n",
       "      <td>游戏</td>\n",
       "      <td>2</td>\n",
       "    </tr>\n",
       "    <tr>\n",
       "      <th>11</th>\n",
       "      <td>硬件</td>\n",
       "      <td>1</td>\n",
       "    </tr>\n",
       "    <tr>\n",
       "      <th>12</th>\n",
       "      <td>音频</td>\n",
       "      <td>1</td>\n",
       "    </tr>\n",
       "    <tr>\n",
       "      <th>13</th>\n",
       "      <td>企业服务</td>\n",
       "      <td>1</td>\n",
       "    </tr>\n",
       "    <tr>\n",
       "      <th>14</th>\n",
       "      <td>文娱</td>\n",
       "      <td>1</td>\n",
       "    </tr>\n",
       "    <tr>\n",
       "      <th>15</th>\n",
       "      <td>制造业</td>\n",
       "      <td>1</td>\n",
       "    </tr>\n",
       "    <tr>\n",
       "      <th>16</th>\n",
       "      <td>休闲</td>\n",
       "      <td>1</td>\n",
       "    </tr>\n",
       "    <tr>\n",
       "      <th>17</th>\n",
       "      <td>文化传媒</td>\n",
       "      <td>1</td>\n",
       "    </tr>\n",
       "    <tr>\n",
       "      <th>18</th>\n",
       "      <td>科技金融</td>\n",
       "      <td>1</td>\n",
       "    </tr>\n",
       "    <tr>\n",
       "      <th>19</th>\n",
       "      <td>社交媒体</td>\n",
       "      <td>1</td>\n",
       "    </tr>\n",
       "    <tr>\n",
       "      <th>20</th>\n",
       "      <td>新零售</td>\n",
       "      <td>1</td>\n",
       "    </tr>\n",
       "    <tr>\n",
       "      <th>21</th>\n",
       "      <td>电商</td>\n",
       "      <td>1</td>\n",
       "    </tr>\n",
       "  </tbody>\n",
       "</table>\n",
       "</div>"
      ],
      "text/plain": [
       "   uni_domain  count\n",
       "0        内容资讯      8\n",
       "1       移动互联网      7\n",
       "2        人工智能      6\n",
       "3       工具类产品      6\n",
       "4        数据服务      6\n",
       "5        电商平台      4\n",
       "6      IT技术服务      4\n",
       "7        智能硬件      3\n",
       "8        软件服务      3\n",
       "9          医疗      3\n",
       "10         游戏      2\n",
       "11         硬件      1\n",
       "12         音频      1\n",
       "13       企业服务      1\n",
       "14         文娱      1\n",
       "15        制造业      1\n",
       "16         休闲      1\n",
       "17       文化传媒      1\n",
       "18       科技金融      1\n",
       "19       社交媒体      1\n",
       "20        新零售      1\n",
       "21         电商      1"
      ]
     },
     "execution_count": 610,
     "metadata": {},
     "output_type": "execute_result"
    }
   ],
   "source": [
    "# 有经验1-3年要求的领域\n",
    "ed = lagou[lagou['experience'] == '经验1-3年']['uni_domain'].value_counts()\n",
    "eddf = pd.DataFrame(ed).reset_index()\n",
    "eddf = eddf.rename({'index':'uni_domain', 'uni_domain': 'count'}, axis=1)\n",
    "eddf"
   ]
  },
  {
   "cell_type": "code",
   "execution_count": 612,
   "metadata": {},
   "outputs": [
    {
     "data": {
      "text/plain": [
       "<matplotlib.axes._subplots.AxesSubplot at 0x1bc99472898>"
      ]
     },
     "execution_count": 612,
     "metadata": {},
     "output_type": "execute_result"
    },
    {
     "data": {
      "image/png": "[encoded data removed]",
      "text/plain": [
       "<Figure size 576x360 with 1 Axes>"
      ]
     },
     "metadata": {
      "needs_background": "light"
     },
     "output_type": "display_data"
    }
   ],
   "source": [
    "plt.figure(figsize=(8, 5))\n",
    "sns.barplot(y='uni_domain', x='count', data=eddf)"
   ]
  },
  {
   "cell_type": "markdown",
   "metadata": {},
   "source": [
    "- 对该岗位有经验1-3年要求的主要是内容咨询领域\n",
    "- 其次是移动互联网、人工智能、工具类产品、数据服务"
   ]
  },
  {
   "cell_type": "code",
   "execution_count": 613,
   "metadata": {},
   "outputs": [
    {
     "data": {
      "text/html": [
       "<div>\n",
       "<style scoped>\n",
       "    .dataframe tbody tr th:only-of-type {\n",
       "        vertical-align: middle;\n",
       "    }\n",
       "\n",
       "    .dataframe tbody tr th {\n",
       "        vertical-align: top;\n",
       "    }\n",
       "\n",
       "    .dataframe thead th {\n",
       "        text-align: right;\n",
       "    }\n",
       "</style>\n",
       "<table border=\"1\" class=\"dataframe\">\n",
       "  <thead>\n",
       "    <tr style=\"text-align: right;\">\n",
       "      <th></th>\n",
       "      <th>uni_domain</th>\n",
       "      <th>count</th>\n",
       "    </tr>\n",
       "  </thead>\n",
       "  <tbody>\n",
       "    <tr>\n",
       "      <th>0</th>\n",
       "      <td>人工智能</td>\n",
       "      <td>17</td>\n",
       "    </tr>\n",
       "    <tr>\n",
       "      <th>1</th>\n",
       "      <td>数据服务</td>\n",
       "      <td>13</td>\n",
       "    </tr>\n",
       "    <tr>\n",
       "      <th>2</th>\n",
       "      <td>音频</td>\n",
       "      <td>11</td>\n",
       "    </tr>\n",
       "    <tr>\n",
       "      <th>3</th>\n",
       "      <td>电商平台</td>\n",
       "      <td>9</td>\n",
       "    </tr>\n",
       "    <tr>\n",
       "      <th>4</th>\n",
       "      <td>内容资讯</td>\n",
       "      <td>8</td>\n",
       "    </tr>\n",
       "    <tr>\n",
       "      <th>5</th>\n",
       "      <td>社交媒体</td>\n",
       "      <td>8</td>\n",
       "    </tr>\n",
       "    <tr>\n",
       "      <th>6</th>\n",
       "      <td>游戏</td>\n",
       "      <td>7</td>\n",
       "    </tr>\n",
       "    <tr>\n",
       "      <th>7</th>\n",
       "      <td>制造业</td>\n",
       "      <td>7</td>\n",
       "    </tr>\n",
       "    <tr>\n",
       "      <th>8</th>\n",
       "      <td>软件服务</td>\n",
       "      <td>4</td>\n",
       "    </tr>\n",
       "    <tr>\n",
       "      <th>9</th>\n",
       "      <td>移动互联网</td>\n",
       "      <td>4</td>\n",
       "    </tr>\n",
       "    <tr>\n",
       "      <th>10</th>\n",
       "      <td>智能硬件</td>\n",
       "      <td>3</td>\n",
       "    </tr>\n",
       "    <tr>\n",
       "      <th>11</th>\n",
       "      <td>硬件</td>\n",
       "      <td>2</td>\n",
       "    </tr>\n",
       "    <tr>\n",
       "      <th>12</th>\n",
       "      <td>在线教育</td>\n",
       "      <td>2</td>\n",
       "    </tr>\n",
       "    <tr>\n",
       "      <th>13</th>\n",
       "      <td>其他</td>\n",
       "      <td>2</td>\n",
       "    </tr>\n",
       "    <tr>\n",
       "      <th>14</th>\n",
       "      <td>企业服务</td>\n",
       "      <td>2</td>\n",
       "    </tr>\n",
       "    <tr>\n",
       "      <th>15</th>\n",
       "      <td>网络通信</td>\n",
       "      <td>2</td>\n",
       "    </tr>\n",
       "    <tr>\n",
       "      <th>16</th>\n",
       "      <td>金融业</td>\n",
       "      <td>2</td>\n",
       "    </tr>\n",
       "    <tr>\n",
       "      <th>17</th>\n",
       "      <td>旅游</td>\n",
       "      <td>2</td>\n",
       "    </tr>\n",
       "    <tr>\n",
       "      <th>18</th>\n",
       "      <td>科技金融</td>\n",
       "      <td>2</td>\n",
       "    </tr>\n",
       "    <tr>\n",
       "      <th>19</th>\n",
       "      <td>教育</td>\n",
       "      <td>1</td>\n",
       "    </tr>\n",
       "    <tr>\n",
       "      <th>20</th>\n",
       "      <td>营销服务</td>\n",
       "      <td>1</td>\n",
       "    </tr>\n",
       "    <tr>\n",
       "      <th>21</th>\n",
       "      <td>IT技术服务</td>\n",
       "      <td>1</td>\n",
       "    </tr>\n",
       "    <tr>\n",
       "      <th>22</th>\n",
       "      <td>房地产</td>\n",
       "      <td>1</td>\n",
       "    </tr>\n",
       "    <tr>\n",
       "      <th>23</th>\n",
       "      <td>汽车</td>\n",
       "      <td>1</td>\n",
       "    </tr>\n",
       "    <tr>\n",
       "      <th>24</th>\n",
       "      <td>物联网</td>\n",
       "      <td>1</td>\n",
       "    </tr>\n",
       "    <tr>\n",
       "      <th>25</th>\n",
       "      <td>新零售</td>\n",
       "      <td>1</td>\n",
       "    </tr>\n",
       "    <tr>\n",
       "      <th>26</th>\n",
       "      <td>信息安全</td>\n",
       "      <td>1</td>\n",
       "    </tr>\n",
       "    <tr>\n",
       "      <th>27</th>\n",
       "      <td>社交平台</td>\n",
       "      <td>1</td>\n",
       "    </tr>\n",
       "  </tbody>\n",
       "</table>\n",
       "</div>"
      ],
      "text/plain": [
       "   uni_domain  count\n",
       "0        人工智能     17\n",
       "1        数据服务     13\n",
       "2          音频     11\n",
       "3        电商平台      9\n",
       "4        内容资讯      8\n",
       "5        社交媒体      8\n",
       "6          游戏      7\n",
       "7         制造业      7\n",
       "8        软件服务      4\n",
       "9       移动互联网      4\n",
       "10       智能硬件      3\n",
       "11         硬件      2\n",
       "12       在线教育      2\n",
       "13         其他      2\n",
       "14       企业服务      2\n",
       "15       网络通信      2\n",
       "16        金融业      2\n",
       "17         旅游      2\n",
       "18       科技金融      2\n",
       "19         教育      1\n",
       "20       营销服务      1\n",
       "21     IT技术服务      1\n",
       "22        房地产      1\n",
       "23         汽车      1\n",
       "24        物联网      1\n",
       "25        新零售      1\n",
       "26       信息安全      1\n",
       "27       社交平台      1"
      ]
     },
     "execution_count": 613,
     "metadata": {},
     "output_type": "execute_result"
    }
   ],
   "source": [
    "# 有经验3-5年要求的领域\n",
    "ed = lagou[lagou['experience'] == '经验3-5年']['uni_domain'].value_counts()\n",
    "eddf = pd.DataFrame(ed).reset_index()\n",
    "eddf = eddf.rename({'index':'uni_domain', 'uni_domain': 'count'}, axis=1)\n",
    "eddf"
   ]
  },
  {
   "cell_type": "code",
   "execution_count": 617,
   "metadata": {},
   "outputs": [
    {
     "data": {
      "text/plain": [
       "<matplotlib.axes._subplots.AxesSubplot at 0x1bc9774a0b8>"
      ]
     },
     "execution_count": 617,
     "metadata": {},
     "output_type": "execute_result"
    },
    {
     "data": {
      "image/png": "[encoded data removed]",
      "text/plain": [
       "<Figure size 576x432 with 1 Axes>"
      ]
     },
     "metadata": {
      "needs_background": "light"
     },
     "output_type": "display_data"
    }
   ],
   "source": [
    "plt.figure(figsize=(8, 6))\n",
    "sns.barplot(y='uni_domain', x='count', data=eddf)"
   ]
  },
  {
   "cell_type": "markdown",
   "metadata": {},
   "source": [
    "- 对该岗位有经验3-5年要求的主要是人工智能领域\n",
    "- 其次是数据服务、音频、电商平台"
   ]
  },
  {
   "cell_type": "code",
   "execution_count": 618,
   "metadata": {},
   "outputs": [
    {
     "data": {
      "text/html": [
       "<div>\n",
       "<style scoped>\n",
       "    .dataframe tbody tr th:only-of-type {\n",
       "        vertical-align: middle;\n",
       "    }\n",
       "\n",
       "    .dataframe tbody tr th {\n",
       "        vertical-align: top;\n",
       "    }\n",
       "\n",
       "    .dataframe thead th {\n",
       "        text-align: right;\n",
       "    }\n",
       "</style>\n",
       "<table border=\"1\" class=\"dataframe\">\n",
       "  <thead>\n",
       "    <tr style=\"text-align: right;\">\n",
       "      <th></th>\n",
       "      <th>uni_domain</th>\n",
       "      <th>count</th>\n",
       "    </tr>\n",
       "  </thead>\n",
       "  <tbody>\n",
       "    <tr>\n",
       "      <th>0</th>\n",
       "      <td>电商平台</td>\n",
       "      <td>7</td>\n",
       "    </tr>\n",
       "    <tr>\n",
       "      <th>1</th>\n",
       "      <td>软件服务</td>\n",
       "      <td>3</td>\n",
       "    </tr>\n",
       "    <tr>\n",
       "      <th>2</th>\n",
       "      <td>移动互联网</td>\n",
       "      <td>2</td>\n",
       "    </tr>\n",
       "    <tr>\n",
       "      <th>3</th>\n",
       "      <td>金融业</td>\n",
       "      <td>2</td>\n",
       "    </tr>\n",
       "    <tr>\n",
       "      <th>4</th>\n",
       "      <td>人工智能</td>\n",
       "      <td>2</td>\n",
       "    </tr>\n",
       "    <tr>\n",
       "      <th>5</th>\n",
       "      <td>数据服务</td>\n",
       "      <td>2</td>\n",
       "    </tr>\n",
       "    <tr>\n",
       "      <th>6</th>\n",
       "      <td>科技金融</td>\n",
       "      <td>1</td>\n",
       "    </tr>\n",
       "    <tr>\n",
       "      <th>7</th>\n",
       "      <td>营销服务</td>\n",
       "      <td>1</td>\n",
       "    </tr>\n",
       "    <tr>\n",
       "      <th>8</th>\n",
       "      <td>社交媒体</td>\n",
       "      <td>1</td>\n",
       "    </tr>\n",
       "    <tr>\n",
       "      <th>9</th>\n",
       "      <td>文化传媒</td>\n",
       "      <td>1</td>\n",
       "    </tr>\n",
       "    <tr>\n",
       "      <th>10</th>\n",
       "      <td>物联网</td>\n",
       "      <td>1</td>\n",
       "    </tr>\n",
       "    <tr>\n",
       "      <th>11</th>\n",
       "      <td>其他</td>\n",
       "      <td>1</td>\n",
       "    </tr>\n",
       "    <tr>\n",
       "      <th>12</th>\n",
       "      <td>制造业</td>\n",
       "      <td>1</td>\n",
       "    </tr>\n",
       "    <tr>\n",
       "      <th>13</th>\n",
       "      <td>教育</td>\n",
       "      <td>1</td>\n",
       "    </tr>\n",
       "  </tbody>\n",
       "</table>\n",
       "</div>"
      ],
      "text/plain": [
       "   uni_domain  count\n",
       "0        电商平台      7\n",
       "1        软件服务      3\n",
       "2       移动互联网      2\n",
       "3         金融业      2\n",
       "4        人工智能      2\n",
       "5        数据服务      2\n",
       "6        科技金融      1\n",
       "7        营销服务      1\n",
       "8        社交媒体      1\n",
       "9        文化传媒      1\n",
       "10        物联网      1\n",
       "11         其他      1\n",
       "12        制造业      1\n",
       "13         教育      1"
      ]
     },
     "execution_count": 618,
     "metadata": {},
     "output_type": "execute_result"
    }
   ],
   "source": [
    "# 有经验5-10年要求的领域\n",
    "ed = lagou[lagou['experience'] == '经验5-10年']['uni_domain'].value_counts()\n",
    "eddf = pd.DataFrame(ed).reset_index()\n",
    "eddf = eddf.rename({'index':'uni_domain', 'uni_domain': 'count'}, axis=1)\n",
    "eddf"
   ]
  },
  {
   "cell_type": "code",
   "execution_count": 620,
   "metadata": {},
   "outputs": [
    {
     "data": {
      "text/plain": [
       "<matplotlib.axes._subplots.AxesSubplot at 0x1bc948610f0>"
      ]
     },
     "execution_count": 620,
     "metadata": {},
     "output_type": "execute_result"
    },
    {
     "data": {
      "image/png": "[encoded data removed]",
      "text/plain": [
       "<Figure size 360x216 with 1 Axes>"
      ]
     },
     "metadata": {
      "needs_background": "light"
     },
     "output_type": "display_data"
    }
   ],
   "source": [
    "plt.figure(figsize=(5, 3))\n",
    "sns.barplot(y='uni_domain', x='count', data=eddf)"
   ]
  },
  {
   "cell_type": "markdown",
   "metadata": {},
   "source": [
    "- 对该岗位有经验5-10年要求的主要是电商平台领域\n",
    "- 其次是软件服务"
   ]
  },
  {
   "cell_type": "code",
   "execution_count": 621,
   "metadata": {},
   "outputs": [
    {
     "data": {
      "text/html": [
       "<div>\n",
       "<style scoped>\n",
       "    .dataframe tbody tr th:only-of-type {\n",
       "        vertical-align: middle;\n",
       "    }\n",
       "\n",
       "    .dataframe tbody tr th {\n",
       "        vertical-align: top;\n",
       "    }\n",
       "\n",
       "    .dataframe thead th {\n",
       "        text-align: right;\n",
       "    }\n",
       "</style>\n",
       "<table border=\"1\" class=\"dataframe\">\n",
       "  <thead>\n",
       "    <tr style=\"text-align: right;\">\n",
       "      <th></th>\n",
       "      <th>uni_domain</th>\n",
       "      <th>count</th>\n",
       "    </tr>\n",
       "  </thead>\n",
       "  <tbody>\n",
       "    <tr>\n",
       "      <th>0</th>\n",
       "      <td>人工智能</td>\n",
       "      <td>10</td>\n",
       "    </tr>\n",
       "    <tr>\n",
       "      <th>1</th>\n",
       "      <td>游戏</td>\n",
       "      <td>4</td>\n",
       "    </tr>\n",
       "    <tr>\n",
       "      <th>2</th>\n",
       "      <td>内容资讯</td>\n",
       "      <td>4</td>\n",
       "    </tr>\n",
       "    <tr>\n",
       "      <th>3</th>\n",
       "      <td>医疗</td>\n",
       "      <td>4</td>\n",
       "    </tr>\n",
       "    <tr>\n",
       "      <th>4</th>\n",
       "      <td>数据服务</td>\n",
       "      <td>4</td>\n",
       "    </tr>\n",
       "    <tr>\n",
       "      <th>5</th>\n",
       "      <td>社交媒体</td>\n",
       "      <td>2</td>\n",
       "    </tr>\n",
       "    <tr>\n",
       "      <th>6</th>\n",
       "      <td>硬件</td>\n",
       "      <td>2</td>\n",
       "    </tr>\n",
       "    <tr>\n",
       "      <th>7</th>\n",
       "      <td>制造业</td>\n",
       "      <td>2</td>\n",
       "    </tr>\n",
       "    <tr>\n",
       "      <th>8</th>\n",
       "      <td>移动互联网</td>\n",
       "      <td>2</td>\n",
       "    </tr>\n",
       "    <tr>\n",
       "      <th>9</th>\n",
       "      <td>企业服务</td>\n",
       "      <td>1</td>\n",
       "    </tr>\n",
       "    <tr>\n",
       "      <th>10</th>\n",
       "      <td>物联网</td>\n",
       "      <td>1</td>\n",
       "    </tr>\n",
       "    <tr>\n",
       "      <th>11</th>\n",
       "      <td>IT技术服务</td>\n",
       "      <td>1</td>\n",
       "    </tr>\n",
       "    <tr>\n",
       "      <th>12</th>\n",
       "      <td>智能硬件</td>\n",
       "      <td>1</td>\n",
       "    </tr>\n",
       "    <tr>\n",
       "      <th>13</th>\n",
       "      <td>房地产</td>\n",
       "      <td>1</td>\n",
       "    </tr>\n",
       "    <tr>\n",
       "      <th>14</th>\n",
       "      <td>电商平台</td>\n",
       "      <td>1</td>\n",
       "    </tr>\n",
       "    <tr>\n",
       "      <th>15</th>\n",
       "      <td>网络通信</td>\n",
       "      <td>1</td>\n",
       "    </tr>\n",
       "    <tr>\n",
       "      <th>16</th>\n",
       "      <td>MCN</td>\n",
       "      <td>1</td>\n",
       "    </tr>\n",
       "    <tr>\n",
       "      <th>17</th>\n",
       "      <td>软件服务</td>\n",
       "      <td>1</td>\n",
       "    </tr>\n",
       "    <tr>\n",
       "      <th>18</th>\n",
       "      <td>工具类产品</td>\n",
       "      <td>1</td>\n",
       "    </tr>\n",
       "    <tr>\n",
       "      <th>19</th>\n",
       "      <td>电商</td>\n",
       "      <td>1</td>\n",
       "    </tr>\n",
       "  </tbody>\n",
       "</table>\n",
       "</div>"
      ],
      "text/plain": [
       "   uni_domain  count\n",
       "0        人工智能     10\n",
       "1          游戏      4\n",
       "2        内容资讯      4\n",
       "3          医疗      4\n",
       "4        数据服务      4\n",
       "5        社交媒体      2\n",
       "6          硬件      2\n",
       "7         制造业      2\n",
       "8       移动互联网      2\n",
       "9        企业服务      1\n",
       "10        物联网      1\n",
       "11     IT技术服务      1\n",
       "12       智能硬件      1\n",
       "13        房地产      1\n",
       "14       电商平台      1\n",
       "15       网络通信      1\n",
       "16        MCN      1\n",
       "17       软件服务      1\n",
       "18      工具类产品      1\n",
       "19         电商      1"
      ]
     },
     "execution_count": 621,
     "metadata": {},
     "output_type": "execute_result"
    }
   ],
   "source": [
    "# 经验不限要求的领域\n",
    "ed = lagou[lagou['experience'] == '经验不限']['uni_domain'].value_counts()\n",
    "eddf = pd.DataFrame(ed).reset_index()\n",
    "eddf = eddf.rename({'index':'uni_domain', 'uni_domain': 'count'}, axis=1)\n",
    "eddf"
   ]
  },
  {
   "cell_type": "code",
   "execution_count": 623,
   "metadata": {},
   "outputs": [
    {
     "data": {
      "text/plain": [
       "<matplotlib.axes._subplots.AxesSubplot at 0x1bc915495c0>"
      ]
     },
     "execution_count": 623,
     "metadata": {},
     "output_type": "execute_result"
    },
    {
     "data": {
      "image/png": "[encoded data removed]",
      "text/plain": [
       "<Figure size 360x288 with 1 Axes>"
      ]
     },
     "metadata": {
      "needs_background": "light"
     },
     "output_type": "display_data"
    }
   ],
   "source": [
    "plt.figure(figsize=(5, 4))\n",
    "sns.barplot(y='uni_domain', x='count', data=eddf)"
   ]
  },
  {
   "cell_type": "markdown",
   "metadata": {},
   "source": [
    "- 对该岗位经验不限的主要是人工智能领域"
   ]
  },
  {
   "cell_type": "markdown",
   "metadata": {},
   "source": [
    "# 结论"
   ]
  },
  {
   "cell_type": "markdown",
   "metadata": {},
   "source": [
    "- 关于该岗位的总体薪酬情况：\n",
    "    - 最低薪酬：该岗位的最低薪酬在3k-60k范围内,大部分公司能提供的最低薪酬为20k\n",
    "    - 最高薪酬：该岗位的最高薪酬在6k-70k之间,大部分公司能提供的最高薪酬为30k\n",
    "    - 平均薪酬：该岗位的平均薪酬在4.5k-65k之间,大部分公司能提供的平均薪酬为25k\n",
    "- 关于该岗位的需求量情况：\n",
    "    - 公司：对该岗位需求量最大的是网易公司\n",
    "    - 经验：要求经验3-5年的岗位需求量最多\n",
    "    - 学历：本科学历要求的岗位需求量最多，其次是硕士学历\n",
    "    - 融资：上市公司对该岗位的需求量最大，其次是不需要融资和未融资的公司\n",
    "    - 规模：2000人以上规模的公司对该岗位的需求量最大，其次是500-2000人和50-150人的\n",
    "    - 行业：人工智能服务行业领域的公司对该岗位的需求量最大\n",
    "- 影响薪酬高低的因素：\n",
    "    - 公司：能够提供平均薪酬在30k以上的公司有32家，其中金地提供的平均薪酬最高\n",
    "    - 经验：整体而言，经验越多，薪资越高,\n",
    "    - 学历：整体而言，随着学历增高，薪资也增高，出乎意料的是，硕士和本科的平均薪资水平差不多,为25k左右,\n",
    "    - 融资：上市公司能提供的平均薪水最高，其次是C轮、A轮、天使轮、D轮及以上\n",
    "    - 规模：2000人以上规模的公司提供的平均薪水最高，其次是500-2000人的\n",
    "    - 领域：营销服务领域的公司提供的平均薪水最高（41k），其次是社交媒体（39k）、休闲（37k）、旅游（35k）、教育（33k）\n",
    "- 与学历要求相关的因素：\n",
    "    - 公司：大多数公司对学历的要求还是本科学历和硕士学历\n",
    "    - 融资：不管是什么融资情况的公司，对学历要求为本科都是最多的，其次是硕士学历\n",
    "    - 规模：不管是什么规模的公司，对学历要求为本科都是最多的，其次是硕士学历\n",
    "    - 领域：对该岗位有本科学历要求的主要在电商平台和人工智能领域，有硕士学历要求的主要在人工智能领域，有博士学历要求的主要在硬件和数据服务领域，不限学历要求的主要在移动互联网领域\n",
    "- 与经验要求相关的因素：\n",
    "    - 公司：对该岗位有应届要求的公司有23家，最多的公司是小鹏汽车（5个）；有经验1-3年要求的公司有48家, 最多的公司是网易（6个）；有经验3-5年要求的公司有71家,最多的公司是酷狗音乐（8个）；有经验5-10年要求的公司有22家,最多的公司有联友科技、广发银行信用卡中心、百布、搜款网、VVIC（2个）；不限经验要求的公司有34家,最多的公司有紫为云（北京）智能科技有限公司、柏视医疗（3个）\n",
    "    - 融资：上市公司、不需要融资、A轮、B轮公司要求为经验3-5年的需求量最多；未融资公司要求为经验1-3年的需求量最多；D轮及以上、天使轮、C轮的经验要求区别不大\n",
    "    - 规模：2000人以上、500-2000人、150-500人、50-150人规模的公司要求为经验3-5年的需求量最多；15-50人和少于15人规模的公司要求为经验1-3年的需求量最多\n",
    "    - 领域：对该岗位有应届要求的主要是游戏和人工智能领域；有经验1-3年要求的主要是内容咨询领域；有经验3-5年要求的主要是人工智能领域；有经验5-10年要求的主要是电商平台领域；经验不限的主要是人工智能领域\n",
    "\t\n"
   ]
  }
 ],
 "metadata": {
  "kernelspec": {
   "display_name": "Python 3",
   "language": "python",
   "name": "python3"
  },
  "language_info": {
   "codemirror_mode": {
    "name": "ipython",
    "version": 3
   },
   "file_extension": ".py",
   "mimetype": "text/x-python",
   "name": "python",
   "nbconvert_exporter": "python",
   "pygments_lexer": "ipython3",
   "version": "3.7.3"
  },
  "toc": {
   "base_numbering": 1,
   "nav_menu": {},
   "number_sections": true,
   "sideBar": true,
   "skip_h1_title": false,
   "title_cell": "Table of Contents",
   "title_sidebar": "Contents",
   "toc_cell": false,
   "toc_position": {
    "height": "calc(100% - 180px)",
    "left": "10px",
    "top": "150px",
    "width": "299.273px"
   },
   "toc_section_display": true,
   "toc_window_display": true
  }
 },
 "nbformat": 4,
 "nbformat_minor": 2
}
