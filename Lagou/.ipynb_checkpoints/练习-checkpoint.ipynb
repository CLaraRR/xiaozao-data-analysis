{
 "cells": [
  {
   "cell_type": "code",
   "execution_count": 2,
   "metadata": {},
   "outputs": [],
   "source": [
    "import pandas as pd\n",
    "import matplotlib.pyplot as plt\n",
    "import seaborn as sns\n",
    "%matplotlib inline"
   ]
  },
  {
   "cell_type": "code",
   "execution_count": 3,
   "metadata": {},
   "outputs": [],
   "source": [
    "meituan = pd.read_csv('meituan.csv')"
   ]
  },
  {
   "cell_type": "code",
   "execution_count": 4,
   "metadata": {},
   "outputs": [
    {
     "name": "stdout",
     "output_type": "stream",
     "text": [
      "<class 'pandas.core.frame.DataFrame'>\n",
      "RangeIndex: 1680 entries, 0 to 1679\n",
      "Data columns (total 8 columns):\n",
      "web-scraper-order        1680 non-null object\n",
      "web-scraper-start-url    1680 non-null object\n",
      "name                     1680 non-null object\n",
      "address                  1680 non-null object\n",
      "rating                   1663 non-null float64\n",
      "comment                  1524 non-null float64\n",
      "price                    1667 non-null float64\n",
      "cat                      1680 non-null object\n",
      "dtypes: float64(3), object(5)\n",
      "memory usage: 105.1+ KB\n"
     ]
    }
   ],
   "source": [
    "meituan.info()"
   ]
  },
  {
   "cell_type": "markdown",
   "metadata": {},
   "source": [
    "- rating,comment,price有缺失"
   ]
  },
  {
   "cell_type": "code",
   "execution_count": 5,
   "metadata": {},
   "outputs": [
    {
     "data": {
      "text/html": [
       "<div>\n",
       "<style scoped>\n",
       "    .dataframe tbody tr th:only-of-type {\n",
       "        vertical-align: middle;\n",
       "    }\n",
       "\n",
       "    .dataframe tbody tr th {\n",
       "        vertical-align: top;\n",
       "    }\n",
       "\n",
       "    .dataframe thead th {\n",
       "        text-align: right;\n",
       "    }\n",
       "</style>\n",
       "<table border=\"1\" class=\"dataframe\">\n",
       "  <thead>\n",
       "    <tr style=\"text-align: right;\">\n",
       "      <th></th>\n",
       "      <th>web-scraper-order</th>\n",
       "      <th>web-scraper-start-url</th>\n",
       "      <th>name</th>\n",
       "      <th>address</th>\n",
       "      <th>rating</th>\n",
       "      <th>comment</th>\n",
       "      <th>price</th>\n",
       "      <th>cat</th>\n",
       "    </tr>\n",
       "  </thead>\n",
       "  <tbody>\n",
       "    <tr>\n",
       "      <th>0</th>\n",
       "      <td>1563028765-1694</td>\n",
       "      <td>http://sh.meituan.com/meishi/c35/pn8/</td>\n",
       "      <td>斯比特花园意大利餐厅（新世界大丸百货店）</td>\n",
       "      <td>黄浦区南京东路228号新世界大丸百货6层人均</td>\n",
       "      <td>4.2</td>\n",
       "      <td>2169.0</td>\n",
       "      <td>98.0</td>\n",
       "      <td>foreign</td>\n",
       "    </tr>\n",
       "    <tr>\n",
       "      <th>1</th>\n",
       "      <td>1563028775-1753</td>\n",
       "      <td>http://sh.meituan.com/meishi/c35/pn3/</td>\n",
       "      <td>好伦哥自助餐厅（南京东路店）</td>\n",
       "      <td>黄浦区南京东路600号亚太广场6楼1室人均</td>\n",
       "      <td>3.0</td>\n",
       "      <td>6005.0</td>\n",
       "      <td>73.0</td>\n",
       "      <td>foreign</td>\n",
       "    </tr>\n",
       "    <tr>\n",
       "      <th>2</th>\n",
       "      <td>1563028769-1720</td>\n",
       "      <td>http://sh.meituan.com/meishi/c35/pn6/</td>\n",
       "      <td>蘭赫咖啡（周浦店）</td>\n",
       "      <td>浦东新区年家浜路327号三楼（全季酒店三楼）人均</td>\n",
       "      <td>4.2</td>\n",
       "      <td>326.0</td>\n",
       "      <td>55.0</td>\n",
       "      <td>foreign</td>\n",
       "    </tr>\n",
       "    <tr>\n",
       "      <th>3</th>\n",
       "      <td>1563028721-1396</td>\n",
       "      <td>http://sh.meituan.com/meishi/c35/pn29/</td>\n",
       "      <td>地中海的月亮（虹桥·食尚天地店）</td>\n",
       "      <td>青浦区沪青平公路1899号虹桥·食尚天地1栋1层106-3人均</td>\n",
       "      <td>3.5</td>\n",
       "      <td>NaN</td>\n",
       "      <td>107.0</td>\n",
       "      <td>foreign</td>\n",
       "    </tr>\n",
       "    <tr>\n",
       "      <th>4</th>\n",
       "      <td>1563028767-1705</td>\n",
       "      <td>http://sh.meituan.com/meishi/c35/pn7/</td>\n",
       "      <td>拉蒂娜巴西烤肉自助餐Latina（长泰店）</td>\n",
       "      <td>浦东新区祖冲之路1239弄长泰广场1E09东庭院（地铁2号线4号出口左侧50米，星巴克后面）人均</td>\n",
       "      <td>3.4</td>\n",
       "      <td>657.0</td>\n",
       "      <td>148.0</td>\n",
       "      <td>foreign</td>\n",
       "    </tr>\n",
       "  </tbody>\n",
       "</table>\n",
       "</div>"
      ],
      "text/plain": [
       "  web-scraper-order                   web-scraper-start-url  \\\n",
       "0   1563028765-1694   http://sh.meituan.com/meishi/c35/pn8/   \n",
       "1   1563028775-1753   http://sh.meituan.com/meishi/c35/pn3/   \n",
       "2   1563028769-1720   http://sh.meituan.com/meishi/c35/pn6/   \n",
       "3   1563028721-1396  http://sh.meituan.com/meishi/c35/pn29/   \n",
       "4   1563028767-1705   http://sh.meituan.com/meishi/c35/pn7/   \n",
       "\n",
       "                    name                                           address  \\\n",
       "0   斯比特花园意大利餐厅（新世界大丸百货店）                            黄浦区南京东路228号新世界大丸百货6层人均   \n",
       "1         好伦哥自助餐厅（南京东路店）                             黄浦区南京东路600号亚太广场6楼1室人均   \n",
       "2              蘭赫咖啡（周浦店）                          浦东新区年家浜路327号三楼（全季酒店三楼）人均   \n",
       "3       地中海的月亮（虹桥·食尚天地店）                   青浦区沪青平公路1899号虹桥·食尚天地1栋1层106-3人均   \n",
       "4  拉蒂娜巴西烤肉自助餐Latina（长泰店）  浦东新区祖冲之路1239弄长泰广场1E09东庭院（地铁2号线4号出口左侧50米，星巴克后面）人均   \n",
       "\n",
       "   rating  comment  price      cat  \n",
       "0     4.2   2169.0   98.0  foreign  \n",
       "1     3.0   6005.0   73.0  foreign  \n",
       "2     4.2    326.0   55.0  foreign  \n",
       "3     3.5      NaN  107.0  foreign  \n",
       "4     3.4    657.0  148.0  foreign  "
      ]
     },
     "execution_count": 5,
     "metadata": {},
     "output_type": "execute_result"
    }
   ],
   "source": [
    "meituan.head()"
   ]
  },
  {
   "cell_type": "markdown",
   "metadata": {},
   "source": [
    "- price缺失值，drop掉\n",
    "- rating缺失值，考虑实际情况，一线城市一般都在3星以上，因此填充为3\n",
    "- comment缺失值，填补为0"
   ]
  },
  {
   "cell_type": "code",
   "execution_count": 6,
   "metadata": {},
   "outputs": [],
   "source": [
    "meituan = meituan.dropna(subset=['price'])"
   ]
  },
  {
   "cell_type": "code",
   "execution_count": 7,
   "metadata": {},
   "outputs": [],
   "source": [
    "meituan['rating'] = meituan['rating'].fillna(3)"
   ]
  },
  {
   "cell_type": "code",
   "execution_count": 8,
   "metadata": {},
   "outputs": [],
   "source": [
    "meituan['comment'] = meituan['comment'].fillna(0)"
   ]
  },
  {
   "cell_type": "code",
   "execution_count": 9,
   "metadata": {},
   "outputs": [
    {
     "data": {
      "text/html": [
       "<div>\n",
       "<style scoped>\n",
       "    .dataframe tbody tr th:only-of-type {\n",
       "        vertical-align: middle;\n",
       "    }\n",
       "\n",
       "    .dataframe tbody tr th {\n",
       "        vertical-align: top;\n",
       "    }\n",
       "\n",
       "    .dataframe thead th {\n",
       "        text-align: right;\n",
       "    }\n",
       "</style>\n",
       "<table border=\"1\" class=\"dataframe\">\n",
       "  <thead>\n",
       "    <tr style=\"text-align: right;\">\n",
       "      <th></th>\n",
       "      <th>rating</th>\n",
       "      <th>comment</th>\n",
       "      <th>price</th>\n",
       "    </tr>\n",
       "  </thead>\n",
       "  <tbody>\n",
       "    <tr>\n",
       "      <th>count</th>\n",
       "      <td>1667.000000</td>\n",
       "      <td>1667.000000</td>\n",
       "      <td>1667.000000</td>\n",
       "    </tr>\n",
       "    <tr>\n",
       "      <th>mean</th>\n",
       "      <td>4.204079</td>\n",
       "      <td>512.169166</td>\n",
       "      <td>109.988002</td>\n",
       "    </tr>\n",
       "    <tr>\n",
       "      <th>std</th>\n",
       "      <td>0.520557</td>\n",
       "      <td>1415.567751</td>\n",
       "      <td>93.524620</td>\n",
       "    </tr>\n",
       "    <tr>\n",
       "      <th>min</th>\n",
       "      <td>3.000000</td>\n",
       "      <td>0.000000</td>\n",
       "      <td>9.000000</td>\n",
       "    </tr>\n",
       "    <tr>\n",
       "      <th>25%</th>\n",
       "      <td>3.900000</td>\n",
       "      <td>6.000000</td>\n",
       "      <td>60.000000</td>\n",
       "    </tr>\n",
       "    <tr>\n",
       "      <th>50%</th>\n",
       "      <td>4.100000</td>\n",
       "      <td>49.000000</td>\n",
       "      <td>89.000000</td>\n",
       "    </tr>\n",
       "    <tr>\n",
       "      <th>75%</th>\n",
       "      <td>4.500000</td>\n",
       "      <td>369.500000</td>\n",
       "      <td>123.000000</td>\n",
       "    </tr>\n",
       "    <tr>\n",
       "      <th>max</th>\n",
       "      <td>5.000000</td>\n",
       "      <td>24585.000000</td>\n",
       "      <td>1670.000000</td>\n",
       "    </tr>\n",
       "  </tbody>\n",
       "</table>\n",
       "</div>"
      ],
      "text/plain": [
       "            rating       comment        price\n",
       "count  1667.000000   1667.000000  1667.000000\n",
       "mean      4.204079    512.169166   109.988002\n",
       "std       0.520557   1415.567751    93.524620\n",
       "min       3.000000      0.000000     9.000000\n",
       "25%       3.900000      6.000000    60.000000\n",
       "50%       4.100000     49.000000    89.000000\n",
       "75%       4.500000    369.500000   123.000000\n",
       "max       5.000000  24585.000000  1670.000000"
      ]
     },
     "execution_count": 9,
     "metadata": {},
     "output_type": "execute_result"
    }
   ],
   "source": [
    "meituan.describe()"
   ]
  },
  {
   "cell_type": "markdown",
   "metadata": {},
   "source": [
    "- 业务问题：rating, comment, price等之间的关系是怎么样的？\n"
   ]
  },
  {
   "cell_type": "code",
   "execution_count": 10,
   "metadata": {},
   "outputs": [
    {
     "data": {
      "text/html": [
       "<div>\n",
       "<style scoped>\n",
       "    .dataframe tbody tr th:only-of-type {\n",
       "        vertical-align: middle;\n",
       "    }\n",
       "\n",
       "    .dataframe tbody tr th {\n",
       "        vertical-align: top;\n",
       "    }\n",
       "\n",
       "    .dataframe thead th {\n",
       "        text-align: right;\n",
       "    }\n",
       "</style>\n",
       "<table border=\"1\" class=\"dataframe\">\n",
       "  <thead>\n",
       "    <tr style=\"text-align: right;\">\n",
       "      <th></th>\n",
       "      <th>rating</th>\n",
       "      <th>comment</th>\n",
       "      <th>price</th>\n",
       "    </tr>\n",
       "  </thead>\n",
       "  <tbody>\n",
       "    <tr>\n",
       "      <th>rating</th>\n",
       "      <td>1.000000</td>\n",
       "      <td>0.076882</td>\n",
       "      <td>0.189531</td>\n",
       "    </tr>\n",
       "    <tr>\n",
       "      <th>comment</th>\n",
       "      <td>0.076882</td>\n",
       "      <td>1.000000</td>\n",
       "      <td>-0.128461</td>\n",
       "    </tr>\n",
       "    <tr>\n",
       "      <th>price</th>\n",
       "      <td>0.189531</td>\n",
       "      <td>-0.128461</td>\n",
       "      <td>1.000000</td>\n",
       "    </tr>\n",
       "  </tbody>\n",
       "</table>\n",
       "</div>"
      ],
      "text/plain": [
       "           rating   comment     price\n",
       "rating   1.000000  0.076882  0.189531\n",
       "comment  0.076882  1.000000 -0.128461\n",
       "price    0.189531 -0.128461  1.000000"
      ]
     },
     "execution_count": 10,
     "metadata": {},
     "output_type": "execute_result"
    }
   ],
   "source": [
    "cols = ['rating', 'comment', 'price']\n",
    "meituan[cols].corr()"
   ]
  },
  {
   "cell_type": "markdown",
   "metadata": {},
   "source": [
    "- comment和rating有很弱的正相关\n",
    "- price和rating之间有较强的正相关，price高的店可能质量好，因此评分高\n",
    "- price和comment有类似强度的负相关，price高的店去的人少，因此评论数也少"
   ]
  },
  {
   "cell_type": "code",
   "execution_count": 11,
   "metadata": {},
   "outputs": [
    {
     "data": {
      "text/plain": [
       "<matplotlib.axes._subplots.AxesSubplot at 0x1285a1397b8>"
      ]
     },
     "execution_count": 11,
     "metadata": {},
     "output_type": "execute_result"
    },
    {
     "data": {
      "image/png": "[encoded data removed]",
      "text/plain": [
       "<Figure size 432x288 with 1 Axes>"
      ]
     },
     "metadata": {
      "needs_background": "light"
     },
     "output_type": "display_data"
    }
   ],
   "source": [
    "sns.scatterplot(x='price', y='rating', data=meituan)"
   ]
  },
  {
   "cell_type": "markdown",
   "metadata": {},
   "source": [
    "- price和rating大致呈正相关"
   ]
  },
  {
   "cell_type": "code",
   "execution_count": 12,
   "metadata": {},
   "outputs": [
    {
     "data": {
      "text/plain": [
       "<matplotlib.axes._subplots.AxesSubplot at 0x1285a200d30>"
      ]
     },
     "execution_count": 12,
     "metadata": {},
     "output_type": "execute_result"
    },
    {
     "data": {
      "image/png": "[encoded data removed]",
      "text/plain": [
       "<Figure size 432x288 with 1 Axes>"
      ]
     },
     "metadata": {
      "needs_background": "light"
     },
     "output_type": "display_data"
    }
   ],
   "source": [
    "sns.scatterplot(x='price', y='comment', data=meituan)"
   ]
  },
  {
   "cell_type": "markdown",
   "metadata": {},
   "source": [
    "- price和comment呈负相关"
   ]
  },
  {
   "cell_type": "code",
   "execution_count": 13,
   "metadata": {},
   "outputs": [],
   "source": [
    "# 对rating分箱\n",
    "bins = [3, 3.5, 4, 4.5, 5]\n",
    "labels = ['<=3.5', '<=4', '<=4.5', '<=5']\n",
    "meituan['rating2'] = pd.cut(meituan['rating'], bins, right=True, labels=labels)"
   ]
  },
  {
   "cell_type": "code",
   "execution_count": 14,
   "metadata": {},
   "outputs": [
    {
     "data": {
      "text/html": [
       "<div>\n",
       "<style scoped>\n",
       "    .dataframe tbody tr th:only-of-type {\n",
       "        vertical-align: middle;\n",
       "    }\n",
       "\n",
       "    .dataframe tbody tr th {\n",
       "        vertical-align: top;\n",
       "    }\n",
       "\n",
       "    .dataframe thead th {\n",
       "        text-align: right;\n",
       "    }\n",
       "</style>\n",
       "<table border=\"1\" class=\"dataframe\">\n",
       "  <thead>\n",
       "    <tr style=\"text-align: right;\">\n",
       "      <th></th>\n",
       "      <th>count</th>\n",
       "      <th>mean</th>\n",
       "      <th>std</th>\n",
       "      <th>min</th>\n",
       "      <th>25%</th>\n",
       "      <th>50%</th>\n",
       "      <th>75%</th>\n",
       "      <th>max</th>\n",
       "    </tr>\n",
       "    <tr>\n",
       "      <th>rating2</th>\n",
       "      <th></th>\n",
       "      <th></th>\n",
       "      <th></th>\n",
       "      <th></th>\n",
       "      <th></th>\n",
       "      <th></th>\n",
       "      <th></th>\n",
       "      <th></th>\n",
       "    </tr>\n",
       "  </thead>\n",
       "  <tbody>\n",
       "    <tr>\n",
       "      <th>&lt;=3.5</th>\n",
       "      <td>204.0</td>\n",
       "      <td>3.475000</td>\n",
       "      <td>0.057127</td>\n",
       "      <td>3.2</td>\n",
       "      <td>3.5</td>\n",
       "      <td>3.5</td>\n",
       "      <td>3.5</td>\n",
       "      <td>3.5</td>\n",
       "    </tr>\n",
       "    <tr>\n",
       "      <th>&lt;=4</th>\n",
       "      <td>494.0</td>\n",
       "      <td>3.892510</td>\n",
       "      <td>0.127881</td>\n",
       "      <td>3.6</td>\n",
       "      <td>3.8</td>\n",
       "      <td>3.9</td>\n",
       "      <td>4.0</td>\n",
       "      <td>4.0</td>\n",
       "    </tr>\n",
       "    <tr>\n",
       "      <th>&lt;=4.5</th>\n",
       "      <td>537.0</td>\n",
       "      <td>4.336872</td>\n",
       "      <td>0.154714</td>\n",
       "      <td>4.1</td>\n",
       "      <td>4.2</td>\n",
       "      <td>4.4</td>\n",
       "      <td>4.5</td>\n",
       "      <td>4.5</td>\n",
       "    </tr>\n",
       "    <tr>\n",
       "      <th>&lt;=5</th>\n",
       "      <td>392.0</td>\n",
       "      <td>4.917092</td>\n",
       "      <td>0.131444</td>\n",
       "      <td>4.6</td>\n",
       "      <td>4.8</td>\n",
       "      <td>5.0</td>\n",
       "      <td>5.0</td>\n",
       "      <td>5.0</td>\n",
       "    </tr>\n",
       "  </tbody>\n",
       "</table>\n",
       "</div>"
      ],
      "text/plain": [
       "         count      mean       std  min  25%  50%  75%  max\n",
       "rating2                                                    \n",
       "<=3.5    204.0  3.475000  0.057127  3.2  3.5  3.5  3.5  3.5\n",
       "<=4      494.0  3.892510  0.127881  3.6  3.8  3.9  4.0  4.0\n",
       "<=4.5    537.0  4.336872  0.154714  4.1  4.2  4.4  4.5  4.5\n",
       "<=5      392.0  4.917092  0.131444  4.6  4.8  5.0  5.0  5.0"
      ]
     },
     "execution_count": 14,
     "metadata": {},
     "output_type": "execute_result"
    }
   ],
   "source": [
    "# 查看各个分箱rating的店的个数\n",
    "meituan.groupby(['rating2'])['rating'].describe()"
   ]
  },
  {
   "cell_type": "markdown",
   "metadata": {},
   "source": [
    "- 在4-4.5评分范围内的店最多，在3.5分以下的店最少"
   ]
  },
  {
   "cell_type": "code",
   "execution_count": 15,
   "metadata": {},
   "outputs": [
    {
     "data": {
      "text/plain": [
       "<matplotlib.axes._subplots.AxesSubplot at 0x1285d7bdb38>"
      ]
     },
     "execution_count": 15,
     "metadata": {},
     "output_type": "execute_result"
    },
    {
     "data": {
      "image/png": "[encoded data removed]",
      "text/plain": [
       "<Figure size 432x288 with 1 Axes>"
      ]
     },
     "metadata": {
      "needs_background": "light"
     },
     "output_type": "display_data"
    }
   ],
   "source": [
    "# 查看不同类别的店的rating情况\n",
    "sns.boxplot(x='rating', y='cat', data=meituan)"
   ]
  },
  {
   "cell_type": "markdown",
   "metadata": {},
   "source": [
    "- 西餐的整体评分较高\n",
    "- 烧烤的评分散度较大，好坏参差不齐"
   ]
  },
  {
   "cell_type": "code",
   "execution_count": 16,
   "metadata": {},
   "outputs": [
    {
     "data": {
      "text/plain": [
       "<matplotlib.axes._subplots.AxesSubplot at 0x1285d5e3128>"
      ]
     },
     "execution_count": 16,
     "metadata": {},
     "output_type": "execute_result"
    },
    {
     "data": {
      "image/png": "[encoded data removed]",
      "text/plain": [
       "<Figure size 432x288 with 1 Axes>"
      ]
     },
     "metadata": {
      "needs_background": "light"
     },
     "output_type": "display_data"
    }
   ],
   "source": [
    "# 查看不同类别的店的price的情况\n",
    "sns.boxplot(x='price', y='cat', data=meituan)"
   ]
  },
  {
   "cell_type": "markdown",
   "metadata": {},
   "source": [
    "- 日料店出现人均单价1000多的店\n",
    "- 烧烤和火锅店的人均单价的情况差不多\n",
    "- 西餐和日料的人均单价会偏高一点"
   ]
  },
  {
   "cell_type": "code",
   "execution_count": 18,
   "metadata": {},
   "outputs": [
    {
     "data": {
      "text/plain": [
       "<matplotlib.axes._subplots.AxesSubplot at 0x1285da42cf8>"
      ]
     },
     "execution_count": 18,
     "metadata": {},
     "output_type": "execute_result"
    },
    {
     "data": {
      "image/png": "[encoded data removed]",
      "text/plain": [
       "<Figure size 432x288 with 1 Axes>"
      ]
     },
     "metadata": {
      "needs_background": "light"
     },
     "output_type": "display_data"
    }
   ],
   "source": [
    "# 查看不同类别的店中不同评分的店的数量统计\n",
    "sns.countplot(x='cat', hue='rating2', data=meituan)"
   ]
  },
  {
   "cell_type": "markdown",
   "metadata": {},
   "source": [
    "- 烧烤类的店各个评分的店的数量接近，说明烧烤类的店的质量确实参差不齐\n",
    "- 西餐类、日料、火锅低评分的店较少"
   ]
  },
  {
   "cell_type": "code",
   "execution_count": 22,
   "metadata": {},
   "outputs": [
    {
     "data": {
      "text/plain": [
       "<matplotlib.axes._subplots.AxesSubplot at 0x1285dd7e7f0>"
      ]
     },
     "execution_count": 22,
     "metadata": {},
     "output_type": "execute_result"
    },
    {
     "data": {
      "image/png": "[encoded data removed]",
      "text/plain": [
       "<Figure size 432x288 with 1 Axes>"
      ]
     },
     "metadata": {
      "needs_background": "light"
     },
     "output_type": "display_data"
    }
   ],
   "source": [
    "sns.barplot(x='cat', y='comment', hue='rating2', data=meituan)"
   ]
  },
  {
   "cell_type": "markdown",
   "metadata": {},
   "source": [
    "- 火锅店不管评分好坏都有很多评论\n",
    "- 高档的日料店也吸引很多点评\n",
    "- 烧烤店总体评分较少"
   ]
  },
  {
   "cell_type": "code",
   "execution_count": null,
   "metadata": {},
   "outputs": [],
   "source": []
  }
 ],
 "metadata": {
  "kernelspec": {
   "display_name": "Python 3",
   "language": "python",
   "name": "python3"
  },
  "language_info": {
   "codemirror_mode": {
    "name": "ipython",
    "version": 3
   },
   "file_extension": ".py",
   "mimetype": "text/x-python",
   "name": "python",
   "nbconvert_exporter": "python",
   "pygments_lexer": "ipython3",
   "version": "3.7.3"
  },
  "toc": {
   "base_numbering": 1,
   "nav_menu": {},
   "number_sections": true,
   "sideBar": true,
   "skip_h1_title": false,
   "title_cell": "Table of Contents",
   "title_sidebar": "Contents",
   "toc_cell": false,
   "toc_position": {},
   "toc_section_display": true,
   "toc_window_display": false
  }
 },
 "nbformat": 4,
 "nbformat_minor": 2
}
