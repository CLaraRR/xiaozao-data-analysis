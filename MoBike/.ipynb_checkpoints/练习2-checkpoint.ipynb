{
 "cells": [
  {
   "cell_type": "code",
   "execution_count": 1,
   "metadata": {},
   "outputs": [],
   "source": [
    "#调包\n",
    "import pandas as pd\n",
    "import seaborn as sns\n",
    "import matplotlib.pyplot as plt\n",
    "%matplotlib inline"
   ]
  },
  {
   "cell_type": "code",
   "execution_count": 2,
   "metadata": {},
   "outputs": [],
   "source": [
    "airbnb = pd.read_csv('w3_airbnb.csv')"
   ]
  },
  {
   "cell_type": "code",
   "execution_count": 3,
   "metadata": {},
   "outputs": [
    {
     "name": "stdout",
     "output_type": "stream",
     "text": [
      "<class 'pandas.core.frame.DataFrame'>\n",
      "RangeIndex: 6752 entries, 0 to 6751\n",
      "Data columns (total 14 columns):\n",
      "age                     6752 non-null int64\n",
      "date_account_created    6752 non-null object\n",
      "date_first_booking      6752 non-null object\n",
      "gender                  6752 non-null object\n",
      "Language_EN             6752 non-null int64\n",
      "Language_ZH             6752 non-null int64\n",
      "Country_US              6752 non-null int64\n",
      "Country_EUR             6752 non-null int64\n",
      "android                 6752 non-null int64\n",
      "moweb                   6752 non-null int64\n",
      "web                     6752 non-null int64\n",
      "ios                     6752 non-null int64\n",
      "Married                 6752 non-null int64\n",
      "Children                6752 non-null int64\n",
      "dtypes: int64(11), object(3)\n",
      "memory usage: 738.6+ KB\n"
     ]
    }
   ],
   "source": [
    "airbnb.info()"
   ]
  },
  {
   "cell_type": "code",
   "execution_count": 4,
   "metadata": {},
   "outputs": [
    {
     "data": {
      "text/html": [
       "<div>\n",
       "<style scoped>\n",
       "    .dataframe tbody tr th:only-of-type {\n",
       "        vertical-align: middle;\n",
       "    }\n",
       "\n",
       "    .dataframe tbody tr th {\n",
       "        vertical-align: top;\n",
       "    }\n",
       "\n",
       "    .dataframe thead th {\n",
       "        text-align: right;\n",
       "    }\n",
       "</style>\n",
       "<table border=\"1\" class=\"dataframe\">\n",
       "  <thead>\n",
       "    <tr style=\"text-align: right;\">\n",
       "      <th></th>\n",
       "      <th>age</th>\n",
       "      <th>date_account_created</th>\n",
       "      <th>date_first_booking</th>\n",
       "      <th>gender</th>\n",
       "      <th>Language_EN</th>\n",
       "      <th>Language_ZH</th>\n",
       "      <th>Country_US</th>\n",
       "      <th>Country_EUR</th>\n",
       "      <th>android</th>\n",
       "      <th>moweb</th>\n",
       "      <th>web</th>\n",
       "      <th>ios</th>\n",
       "      <th>Married</th>\n",
       "      <th>Children</th>\n",
       "    </tr>\n",
       "  </thead>\n",
       "  <tbody>\n",
       "    <tr>\n",
       "      <th>0</th>\n",
       "      <td>33</td>\n",
       "      <td>1/7/2010</td>\n",
       "      <td>1/8/2010</td>\n",
       "      <td>F</td>\n",
       "      <td>1</td>\n",
       "      <td>0</td>\n",
       "      <td>0</td>\n",
       "      <td>0</td>\n",
       "      <td>1</td>\n",
       "      <td>0</td>\n",
       "      <td>1</td>\n",
       "      <td>0</td>\n",
       "      <td>1</td>\n",
       "      <td>1</td>\n",
       "    </tr>\n",
       "    <tr>\n",
       "      <th>1</th>\n",
       "      <td>30</td>\n",
       "      <td>1/10/2010</td>\n",
       "      <td>1/11/2010</td>\n",
       "      <td>M</td>\n",
       "      <td>1</td>\n",
       "      <td>0</td>\n",
       "      <td>1</td>\n",
       "      <td>0</td>\n",
       "      <td>1</td>\n",
       "      <td>0</td>\n",
       "      <td>1</td>\n",
       "      <td>0</td>\n",
       "      <td>1</td>\n",
       "      <td>2</td>\n",
       "    </tr>\n",
       "    <tr>\n",
       "      <th>2</th>\n",
       "      <td>30</td>\n",
       "      <td>1/19/2010</td>\n",
       "      <td>1/21/2010</td>\n",
       "      <td>F</td>\n",
       "      <td>1</td>\n",
       "      <td>0</td>\n",
       "      <td>1</td>\n",
       "      <td>0</td>\n",
       "      <td>1</td>\n",
       "      <td>0</td>\n",
       "      <td>1</td>\n",
       "      <td>0</td>\n",
       "      <td>1</td>\n",
       "      <td>1</td>\n",
       "    </tr>\n",
       "    <tr>\n",
       "      <th>3</th>\n",
       "      <td>30</td>\n",
       "      <td>2/3/2010</td>\n",
       "      <td>2/4/2010</td>\n",
       "      <td>F</td>\n",
       "      <td>1</td>\n",
       "      <td>0</td>\n",
       "      <td>1</td>\n",
       "      <td>0</td>\n",
       "      <td>1</td>\n",
       "      <td>0</td>\n",
       "      <td>1</td>\n",
       "      <td>0</td>\n",
       "      <td>1</td>\n",
       "      <td>1</td>\n",
       "    </tr>\n",
       "    <tr>\n",
       "      <th>4</th>\n",
       "      <td>32</td>\n",
       "      <td>2/7/2010</td>\n",
       "      <td>2/7/2010</td>\n",
       "      <td>F</td>\n",
       "      <td>1</td>\n",
       "      <td>0</td>\n",
       "      <td>1</td>\n",
       "      <td>0</td>\n",
       "      <td>1</td>\n",
       "      <td>0</td>\n",
       "      <td>1</td>\n",
       "      <td>0</td>\n",
       "      <td>1</td>\n",
       "      <td>2</td>\n",
       "    </tr>\n",
       "  </tbody>\n",
       "</table>\n",
       "</div>"
      ],
      "text/plain": [
       "   age date_account_created date_first_booking gender  Language_EN  \\\n",
       "0   33             1/7/2010           1/8/2010      F            1   \n",
       "1   30            1/10/2010          1/11/2010      M            1   \n",
       "2   30            1/19/2010          1/21/2010      F            1   \n",
       "3   30             2/3/2010           2/4/2010      F            1   \n",
       "4   32             2/7/2010           2/7/2010      F            1   \n",
       "\n",
       "   Language_ZH  Country_US  Country_EUR  android  moweb  web  ios  Married  \\\n",
       "0            0           0            0        1      0    1    0        1   \n",
       "1            0           1            0        1      0    1    0        1   \n",
       "2            0           1            0        1      0    1    0        1   \n",
       "3            0           1            0        1      0    1    0        1   \n",
       "4            0           1            0        1      0    1    0        1   \n",
       "\n",
       "   Children  \n",
       "0         1  \n",
       "1         2  \n",
       "2         1  \n",
       "3         1  \n",
       "4         2  "
      ]
     },
     "execution_count": 4,
     "metadata": {},
     "output_type": "execute_result"
    }
   ],
   "source": [
    "airbnb.head()"
   ]
  },
  {
   "cell_type": "code",
   "execution_count": 5,
   "metadata": {},
   "outputs": [
    {
     "data": {
      "text/html": [
       "<div>\n",
       "<style scoped>\n",
       "    .dataframe tbody tr th:only-of-type {\n",
       "        vertical-align: middle;\n",
       "    }\n",
       "\n",
       "    .dataframe tbody tr th {\n",
       "        vertical-align: top;\n",
       "    }\n",
       "\n",
       "    .dataframe thead th {\n",
       "        text-align: right;\n",
       "    }\n",
       "</style>\n",
       "<table border=\"1\" class=\"dataframe\">\n",
       "  <thead>\n",
       "    <tr style=\"text-align: right;\">\n",
       "      <th></th>\n",
       "      <th>age</th>\n",
       "      <th>Language_EN</th>\n",
       "      <th>Language_ZH</th>\n",
       "      <th>Country_US</th>\n",
       "      <th>Country_EUR</th>\n",
       "      <th>android</th>\n",
       "      <th>moweb</th>\n",
       "      <th>web</th>\n",
       "      <th>ios</th>\n",
       "      <th>Married</th>\n",
       "      <th>Children</th>\n",
       "    </tr>\n",
       "  </thead>\n",
       "  <tbody>\n",
       "    <tr>\n",
       "      <th>count</th>\n",
       "      <td>6752.000000</td>\n",
       "      <td>6752.000000</td>\n",
       "      <td>6752.000000</td>\n",
       "      <td>6752.000000</td>\n",
       "      <td>6752.000000</td>\n",
       "      <td>6752.000000</td>\n",
       "      <td>6752.000000</td>\n",
       "      <td>6752.000000</td>\n",
       "      <td>6752.000000</td>\n",
       "      <td>6752.000000</td>\n",
       "      <td>6752.000000</td>\n",
       "    </tr>\n",
       "    <tr>\n",
       "      <th>mean</th>\n",
       "      <td>47.791321</td>\n",
       "      <td>0.972156</td>\n",
       "      <td>0.006961</td>\n",
       "      <td>0.713270</td>\n",
       "      <td>0.162767</td>\n",
       "      <td>0.658472</td>\n",
       "      <td>0.340640</td>\n",
       "      <td>0.900770</td>\n",
       "      <td>0.064425</td>\n",
       "      <td>0.796949</td>\n",
       "      <td>1.535841</td>\n",
       "    </tr>\n",
       "    <tr>\n",
       "      <th>std</th>\n",
       "      <td>146.177746</td>\n",
       "      <td>0.164537</td>\n",
       "      <td>0.083147</td>\n",
       "      <td>0.452268</td>\n",
       "      <td>0.369180</td>\n",
       "      <td>0.474257</td>\n",
       "      <td>0.473959</td>\n",
       "      <td>0.298993</td>\n",
       "      <td>0.245527</td>\n",
       "      <td>0.402300</td>\n",
       "      <td>0.841394</td>\n",
       "    </tr>\n",
       "    <tr>\n",
       "      <th>min</th>\n",
       "      <td>2.000000</td>\n",
       "      <td>0.000000</td>\n",
       "      <td>0.000000</td>\n",
       "      <td>0.000000</td>\n",
       "      <td>0.000000</td>\n",
       "      <td>0.000000</td>\n",
       "      <td>0.000000</td>\n",
       "      <td>0.000000</td>\n",
       "      <td>0.000000</td>\n",
       "      <td>0.000000</td>\n",
       "      <td>0.000000</td>\n",
       "    </tr>\n",
       "    <tr>\n",
       "      <th>25%</th>\n",
       "      <td>28.000000</td>\n",
       "      <td>1.000000</td>\n",
       "      <td>0.000000</td>\n",
       "      <td>0.000000</td>\n",
       "      <td>0.000000</td>\n",
       "      <td>0.000000</td>\n",
       "      <td>0.000000</td>\n",
       "      <td>1.000000</td>\n",
       "      <td>0.000000</td>\n",
       "      <td>1.000000</td>\n",
       "      <td>1.000000</td>\n",
       "    </tr>\n",
       "    <tr>\n",
       "      <th>50%</th>\n",
       "      <td>33.000000</td>\n",
       "      <td>1.000000</td>\n",
       "      <td>0.000000</td>\n",
       "      <td>1.000000</td>\n",
       "      <td>0.000000</td>\n",
       "      <td>1.000000</td>\n",
       "      <td>0.000000</td>\n",
       "      <td>1.000000</td>\n",
       "      <td>0.000000</td>\n",
       "      <td>1.000000</td>\n",
       "      <td>1.000000</td>\n",
       "    </tr>\n",
       "    <tr>\n",
       "      <th>75%</th>\n",
       "      <td>42.000000</td>\n",
       "      <td>1.000000</td>\n",
       "      <td>0.000000</td>\n",
       "      <td>1.000000</td>\n",
       "      <td>0.000000</td>\n",
       "      <td>1.000000</td>\n",
       "      <td>1.000000</td>\n",
       "      <td>1.000000</td>\n",
       "      <td>0.000000</td>\n",
       "      <td>1.000000</td>\n",
       "      <td>2.000000</td>\n",
       "    </tr>\n",
       "    <tr>\n",
       "      <th>max</th>\n",
       "      <td>2014.000000</td>\n",
       "      <td>1.000000</td>\n",
       "      <td>1.000000</td>\n",
       "      <td>1.000000</td>\n",
       "      <td>1.000000</td>\n",
       "      <td>1.000000</td>\n",
       "      <td>1.000000</td>\n",
       "      <td>1.000000</td>\n",
       "      <td>1.000000</td>\n",
       "      <td>1.000000</td>\n",
       "      <td>3.000000</td>\n",
       "    </tr>\n",
       "  </tbody>\n",
       "</table>\n",
       "</div>"
      ],
      "text/plain": [
       "               age  Language_EN  Language_ZH   Country_US  Country_EUR  \\\n",
       "count  6752.000000  6752.000000  6752.000000  6752.000000  6752.000000   \n",
       "mean     47.791321     0.972156     0.006961     0.713270     0.162767   \n",
       "std     146.177746     0.164537     0.083147     0.452268     0.369180   \n",
       "min       2.000000     0.000000     0.000000     0.000000     0.000000   \n",
       "25%      28.000000     1.000000     0.000000     0.000000     0.000000   \n",
       "50%      33.000000     1.000000     0.000000     1.000000     0.000000   \n",
       "75%      42.000000     1.000000     0.000000     1.000000     0.000000   \n",
       "max    2014.000000     1.000000     1.000000     1.000000     1.000000   \n",
       "\n",
       "           android        moweb          web          ios      Married  \\\n",
       "count  6752.000000  6752.000000  6752.000000  6752.000000  6752.000000   \n",
       "mean      0.658472     0.340640     0.900770     0.064425     0.796949   \n",
       "std       0.474257     0.473959     0.298993     0.245527     0.402300   \n",
       "min       0.000000     0.000000     0.000000     0.000000     0.000000   \n",
       "25%       0.000000     0.000000     1.000000     0.000000     1.000000   \n",
       "50%       1.000000     0.000000     1.000000     0.000000     1.000000   \n",
       "75%       1.000000     1.000000     1.000000     0.000000     1.000000   \n",
       "max       1.000000     1.000000     1.000000     1.000000     1.000000   \n",
       "\n",
       "          Children  \n",
       "count  6752.000000  \n",
       "mean      1.535841  \n",
       "std       0.841394  \n",
       "min       0.000000  \n",
       "25%       1.000000  \n",
       "50%       1.000000  \n",
       "75%       2.000000  \n",
       "max       3.000000  "
      ]
     },
     "execution_count": 5,
     "metadata": {},
     "output_type": "execute_result"
    }
   ],
   "source": [
    "airbnb.describe()"
   ]
  },
  {
   "cell_type": "markdown",
   "metadata": {},
   "source": [
    "- age维度有数据异常，最小值2岁和最大值2014，明显不可能\n",
    "- gender维度为类别型变量，需要转化为数字型变量\n",
    "- 两个日期没有创造任何价值，我们需要创建更加有价值的变量，如用户注册至今的时间与用户第一次下单至今的时间"
   ]
  },
  {
   "cell_type": "code",
   "execution_count": 7,
   "metadata": {},
   "outputs": [],
   "source": [
    "# 去除age异常值\n",
    "# 把年龄限制在18-80之间\n",
    "airbnb = airbnb[airbnb['age']<=80]\n",
    "airbnb = airbnb[airbnb['age']>=18]"
   ]
  },
  {
   "cell_type": "code",
   "execution_count": 8,
   "metadata": {},
   "outputs": [
    {
     "data": {
      "text/plain": [
       "count    6607.000000\n",
       "mean       35.982443\n",
       "std        10.896507\n",
       "min        18.000000\n",
       "25%        28.000000\n",
       "50%        33.000000\n",
       "75%        41.000000\n",
       "max        80.000000\n",
       "Name: age, dtype: float64"
      ]
     },
     "execution_count": 8,
     "metadata": {},
     "output_type": "execute_result"
    }
   ],
   "source": [
    "airbnb['age'].describe()"
   ]
  },
  {
   "cell_type": "code",
   "execution_count": 10,
   "metadata": {},
   "outputs": [
    {
     "name": "stdout",
     "output_type": "stream",
     "text": [
      "<class 'pandas.core.frame.DataFrame'>\n",
      "Int64Index: 6607 entries, 0 to 6751\n",
      "Data columns (total 14 columns):\n",
      "age                     6607 non-null int64\n",
      "date_account_created    6607 non-null datetime64[ns]\n",
      "date_first_booking      6607 non-null object\n",
      "gender                  6607 non-null object\n",
      "Language_EN             6607 non-null int64\n",
      "Language_ZH             6607 non-null int64\n",
      "Country_US              6607 non-null int64\n",
      "Country_EUR             6607 non-null int64\n",
      "android                 6607 non-null int64\n",
      "moweb                   6607 non-null int64\n",
      "web                     6607 non-null int64\n",
      "ios                     6607 non-null int64\n",
      "Married                 6607 non-null int64\n",
      "Children                6607 non-null int64\n",
      "dtypes: datetime64[ns](1), int64(11), object(2)\n",
      "memory usage: 774.3+ KB\n"
     ]
    },
    {
     "data": {
      "text/html": [
       "<div>\n",
       "<style scoped>\n",
       "    .dataframe tbody tr th:only-of-type {\n",
       "        vertical-align: middle;\n",
       "    }\n",
       "\n",
       "    .dataframe tbody tr th {\n",
       "        vertical-align: top;\n",
       "    }\n",
       "\n",
       "    .dataframe thead th {\n",
       "        text-align: right;\n",
       "    }\n",
       "</style>\n",
       "<table border=\"1\" class=\"dataframe\">\n",
       "  <thead>\n",
       "    <tr style=\"text-align: right;\">\n",
       "      <th></th>\n",
       "      <th>age</th>\n",
       "      <th>date_account_created</th>\n",
       "      <th>date_first_booking</th>\n",
       "      <th>gender</th>\n",
       "      <th>Language_EN</th>\n",
       "      <th>Language_ZH</th>\n",
       "      <th>Country_US</th>\n",
       "      <th>Country_EUR</th>\n",
       "      <th>android</th>\n",
       "      <th>moweb</th>\n",
       "      <th>web</th>\n",
       "      <th>ios</th>\n",
       "      <th>Married</th>\n",
       "      <th>Children</th>\n",
       "    </tr>\n",
       "  </thead>\n",
       "  <tbody>\n",
       "    <tr>\n",
       "      <th>0</th>\n",
       "      <td>33</td>\n",
       "      <td>2010-01-07</td>\n",
       "      <td>1/8/2010</td>\n",
       "      <td>F</td>\n",
       "      <td>1</td>\n",
       "      <td>0</td>\n",
       "      <td>0</td>\n",
       "      <td>0</td>\n",
       "      <td>1</td>\n",
       "      <td>0</td>\n",
       "      <td>1</td>\n",
       "      <td>0</td>\n",
       "      <td>1</td>\n",
       "      <td>1</td>\n",
       "    </tr>\n",
       "    <tr>\n",
       "      <th>1</th>\n",
       "      <td>30</td>\n",
       "      <td>2010-01-10</td>\n",
       "      <td>1/11/2010</td>\n",
       "      <td>M</td>\n",
       "      <td>1</td>\n",
       "      <td>0</td>\n",
       "      <td>1</td>\n",
       "      <td>0</td>\n",
       "      <td>1</td>\n",
       "      <td>0</td>\n",
       "      <td>1</td>\n",
       "      <td>0</td>\n",
       "      <td>1</td>\n",
       "      <td>2</td>\n",
       "    </tr>\n",
       "    <tr>\n",
       "      <th>2</th>\n",
       "      <td>30</td>\n",
       "      <td>2010-01-19</td>\n",
       "      <td>1/21/2010</td>\n",
       "      <td>F</td>\n",
       "      <td>1</td>\n",
       "      <td>0</td>\n",
       "      <td>1</td>\n",
       "      <td>0</td>\n",
       "      <td>1</td>\n",
       "      <td>0</td>\n",
       "      <td>1</td>\n",
       "      <td>0</td>\n",
       "      <td>1</td>\n",
       "      <td>1</td>\n",
       "    </tr>\n",
       "    <tr>\n",
       "      <th>3</th>\n",
       "      <td>30</td>\n",
       "      <td>2010-02-03</td>\n",
       "      <td>2/4/2010</td>\n",
       "      <td>F</td>\n",
       "      <td>1</td>\n",
       "      <td>0</td>\n",
       "      <td>1</td>\n",
       "      <td>0</td>\n",
       "      <td>1</td>\n",
       "      <td>0</td>\n",
       "      <td>1</td>\n",
       "      <td>0</td>\n",
       "      <td>1</td>\n",
       "      <td>1</td>\n",
       "    </tr>\n",
       "    <tr>\n",
       "      <th>4</th>\n",
       "      <td>32</td>\n",
       "      <td>2010-02-07</td>\n",
       "      <td>2/7/2010</td>\n",
       "      <td>F</td>\n",
       "      <td>1</td>\n",
       "      <td>0</td>\n",
       "      <td>1</td>\n",
       "      <td>0</td>\n",
       "      <td>1</td>\n",
       "      <td>0</td>\n",
       "      <td>1</td>\n",
       "      <td>0</td>\n",
       "      <td>1</td>\n",
       "      <td>2</td>\n",
       "    </tr>\n",
       "  </tbody>\n",
       "</table>\n",
       "</div>"
      ],
      "text/plain": [
       "   age date_account_created date_first_booking gender  Language_EN  \\\n",
       "0   33           2010-01-07           1/8/2010      F            1   \n",
       "1   30           2010-01-10          1/11/2010      M            1   \n",
       "2   30           2010-01-19          1/21/2010      F            1   \n",
       "3   30           2010-02-03           2/4/2010      F            1   \n",
       "4   32           2010-02-07           2/7/2010      F            1   \n",
       "\n",
       "   Language_ZH  Country_US  Country_EUR  android  moweb  web  ios  Married  \\\n",
       "0            0           0            0        1      0    1    0        1   \n",
       "1            0           1            0        1      0    1    0        1   \n",
       "2            0           1            0        1      0    1    0        1   \n",
       "3            0           1            0        1      0    1    0        1   \n",
       "4            0           1            0        1      0    1    0        1   \n",
       "\n",
       "   Children  \n",
       "0         1  \n",
       "1         2  \n",
       "2         1  \n",
       "3         1  \n",
       "4         2  "
      ]
     },
     "execution_count": 10,
     "metadata": {},
     "output_type": "execute_result"
    }
   ],
   "source": [
    "# 处理日期数据，生成衍生变量，使其对我们的分析有价值\n",
    "# 第一步，将注册日期转变为日期时间格式\n",
    "airbnb['date_account_created'] = pd.to_datetime(airbnb['date_account_created'])\n",
    "airbnb.info()\n",
    "airbnb.head()"
   ]
  },
  {
   "cell_type": "code",
   "execution_count": 11,
   "metadata": {},
   "outputs": [
    {
     "data": {
      "text/plain": [
       "count    6607.000000\n",
       "mean        8.034812\n",
       "std         0.961253\n",
       "min         7.000000\n",
       "25%         7.000000\n",
       "50%         8.000000\n",
       "75%         9.000000\n",
       "max        11.000000\n",
       "Name: year_since_account_created, dtype: float64"
      ]
     },
     "execution_count": 11,
     "metadata": {},
     "output_type": "execute_result"
    }
   ],
   "source": [
    "# 第二步，将年份从中提取出来，将2021-注册日期的年份，并生成一个新的变量year_since_account_created\n",
    "airbnb['year_since_account_created'] = airbnb['date_account_created'].apply(lambda x:2021-x.year)\n",
    "airbnb['year_since_account_created'].describe()"
   ]
  },
  {
   "cell_type": "code",
   "execution_count": 12,
   "metadata": {},
   "outputs": [
    {
     "data": {
      "text/plain": [
       "count    6607.000000\n",
       "mean        7.910095\n",
       "std         0.990769\n",
       "min         6.000000\n",
       "25%         7.000000\n",
       "50%         8.000000\n",
       "75%         8.000000\n",
       "max        11.000000\n",
       "Name: year_since_first_booking, dtype: float64"
      ]
     },
     "execution_count": 12,
     "metadata": {},
     "output_type": "execute_result"
    }
   ],
   "source": [
    "# 第一步，将用户第一次预定时间转变为日期时间格式\n",
    "airbnb['date_first_booking'] = pd.to_datetime(airbnb['date_first_booking'])\n",
    "# 第二步，将年份从中提取出来，将2021-第一次注册的年份，并生成一个新的变量year_since_first_booking\n",
    "airbnb['year_since_first_booking'] = airbnb['date_first_booking'].apply(lambda x:2021-x.year)\n",
    "airbnb['year_since_first_booking'].describe()"
   ]
  },
  {
   "cell_type": "code",
   "execution_count": 13,
   "metadata": {},
   "outputs": [],
   "source": [
    "# 类别变量转化为数字变量\n",
    "airbnb = pd.get_dummies(airbnb)"
   ]
  },
  {
   "cell_type": "code",
   "execution_count": 14,
   "metadata": {},
   "outputs": [
    {
     "name": "stdout",
     "output_type": "stream",
     "text": [
      "<class 'pandas.core.frame.DataFrame'>\n",
      "Int64Index: 6607 entries, 0 to 6751\n",
      "Data columns (total 18 columns):\n",
      "age                           6607 non-null int64\n",
      "date_account_created          6607 non-null datetime64[ns]\n",
      "date_first_booking            6607 non-null datetime64[ns]\n",
      "Language_EN                   6607 non-null int64\n",
      "Language_ZH                   6607 non-null int64\n",
      "Country_US                    6607 non-null int64\n",
      "Country_EUR                   6607 non-null int64\n",
      "android                       6607 non-null int64\n",
      "moweb                         6607 non-null int64\n",
      "web                           6607 non-null int64\n",
      "ios                           6607 non-null int64\n",
      "Married                       6607 non-null int64\n",
      "Children                      6607 non-null int64\n",
      "year_since_account_created    6607 non-null int64\n",
      "year_since_first_booking      6607 non-null int64\n",
      "gender_F                      6607 non-null uint8\n",
      "gender_M                      6607 non-null uint8\n",
      "gender_U                      6607 non-null uint8\n",
      "dtypes: datetime64[ns](2), int64(13), uint8(3)\n",
      "memory usage: 845.2 KB\n"
     ]
    }
   ],
   "source": [
    "airbnb.info()"
   ]
  },
  {
   "cell_type": "code",
   "execution_count": 15,
   "metadata": {},
   "outputs": [],
   "source": [
    "# 删除2个日期变量，可以根据数据格式drop，这里是datetime64\n",
    "airbnb.drop(airbnb.select_dtypes(['datetime64']), inplace=True, axis=1)"
   ]
  },
  {
   "cell_type": "code",
   "execution_count": 16,
   "metadata": {},
   "outputs": [
    {
     "name": "stdout",
     "output_type": "stream",
     "text": [
      "<class 'pandas.core.frame.DataFrame'>\n",
      "Int64Index: 6607 entries, 0 to 6751\n",
      "Data columns (total 16 columns):\n",
      "age                           6607 non-null int64\n",
      "Language_EN                   6607 non-null int64\n",
      "Language_ZH                   6607 non-null int64\n",
      "Country_US                    6607 non-null int64\n",
      "Country_EUR                   6607 non-null int64\n",
      "android                       6607 non-null int64\n",
      "moweb                         6607 non-null int64\n",
      "web                           6607 non-null int64\n",
      "ios                           6607 non-null int64\n",
      "Married                       6607 non-null int64\n",
      "Children                      6607 non-null int64\n",
      "year_since_account_created    6607 non-null int64\n",
      "year_since_first_booking      6607 non-null int64\n",
      "gender_F                      6607 non-null uint8\n",
      "gender_M                      6607 non-null uint8\n",
      "gender_U                      6607 non-null uint8\n",
      "dtypes: int64(13), uint8(3)\n",
      "memory usage: 742.0 KB\n"
     ]
    }
   ],
   "source": [
    "airbnb.info()"
   ]
  },
  {
   "cell_type": "code",
   "execution_count": 17,
   "metadata": {},
   "outputs": [],
   "source": [
    "# 基于用户的行为偏好和用户个人信息，选择变量\n",
    "airbnb_5 = airbnb[['age', 'web', 'moweb', 'ios', 'android']]"
   ]
  },
  {
   "cell_type": "code",
   "execution_count": 18,
   "metadata": {},
   "outputs": [],
   "source": [
    "from sklearn.preprocessing import scale\n",
    "x = pd.DataFrame(scale(airbnb_5))"
   ]
  },
  {
   "cell_type": "code",
   "execution_count": 19,
   "metadata": {},
   "outputs": [
    {
     "data": {
      "text/plain": [
       "KMeans(algorithm='auto', copy_x=True, init='k-means++', max_iter=300,\n",
       "       n_clusters=3, n_init=10, n_jobs=None, precompute_distances='auto',\n",
       "       random_state=10, tol=0.0001, verbose=0)"
      ]
     },
     "execution_count": 19,
     "metadata": {},
     "output_type": "execute_result"
    }
   ],
   "source": [
    "from sklearn import cluster\n",
    "model = cluster.KMeans(n_clusters=3, random_state=10)\n",
    "model.fit(x)"
   ]
  },
  {
   "cell_type": "code",
   "execution_count": 22,
   "metadata": {},
   "outputs": [
    {
     "name": "stderr",
     "output_type": "stream",
     "text": [
      "d:\\program files\\python37\\lib\\site-packages\\ipykernel_launcher.py:1: SettingWithCopyWarning: \n",
      "A value is trying to be set on a copy of a slice from a DataFrame.\n",
      "Try using .loc[row_indexer,col_indexer] = value instead\n",
      "\n",
      "See the caveats in the documentation: http://pandas.pydata.org/pandas-docs/stable/indexing.html#indexing-view-versus-copy\n",
      "  \"\"\"Entry point for launching an IPython kernel.\n"
     ]
    },
    {
     "data": {
      "text/html": [
       "<div>\n",
       "<style scoped>\n",
       "    .dataframe tbody tr th:only-of-type {\n",
       "        vertical-align: middle;\n",
       "    }\n",
       "\n",
       "    .dataframe tbody tr th {\n",
       "        vertical-align: top;\n",
       "    }\n",
       "\n",
       "    .dataframe thead th {\n",
       "        text-align: right;\n",
       "    }\n",
       "</style>\n",
       "<table border=\"1\" class=\"dataframe\">\n",
       "  <thead>\n",
       "    <tr style=\"text-align: right;\">\n",
       "      <th></th>\n",
       "      <th>age</th>\n",
       "      <th>web</th>\n",
       "      <th>moweb</th>\n",
       "      <th>ios</th>\n",
       "      <th>android</th>\n",
       "      <th>cluster</th>\n",
       "    </tr>\n",
       "  </thead>\n",
       "  <tbody>\n",
       "    <tr>\n",
       "      <th>0</th>\n",
       "      <td>33</td>\n",
       "      <td>1</td>\n",
       "      <td>0</td>\n",
       "      <td>0</td>\n",
       "      <td>1</td>\n",
       "      <td>1</td>\n",
       "    </tr>\n",
       "    <tr>\n",
       "      <th>1</th>\n",
       "      <td>30</td>\n",
       "      <td>1</td>\n",
       "      <td>0</td>\n",
       "      <td>0</td>\n",
       "      <td>1</td>\n",
       "      <td>1</td>\n",
       "    </tr>\n",
       "    <tr>\n",
       "      <th>2</th>\n",
       "      <td>30</td>\n",
       "      <td>1</td>\n",
       "      <td>0</td>\n",
       "      <td>0</td>\n",
       "      <td>1</td>\n",
       "      <td>1</td>\n",
       "    </tr>\n",
       "    <tr>\n",
       "      <th>3</th>\n",
       "      <td>30</td>\n",
       "      <td>1</td>\n",
       "      <td>0</td>\n",
       "      <td>0</td>\n",
       "      <td>1</td>\n",
       "      <td>1</td>\n",
       "    </tr>\n",
       "    <tr>\n",
       "      <th>4</th>\n",
       "      <td>32</td>\n",
       "      <td>1</td>\n",
       "      <td>0</td>\n",
       "      <td>0</td>\n",
       "      <td>1</td>\n",
       "      <td>1</td>\n",
       "    </tr>\n",
       "    <tr>\n",
       "      <th>5</th>\n",
       "      <td>46</td>\n",
       "      <td>1</td>\n",
       "      <td>1</td>\n",
       "      <td>0</td>\n",
       "      <td>0</td>\n",
       "      <td>0</td>\n",
       "    </tr>\n",
       "    <tr>\n",
       "      <th>6</th>\n",
       "      <td>30</td>\n",
       "      <td>1</td>\n",
       "      <td>0</td>\n",
       "      <td>0</td>\n",
       "      <td>1</td>\n",
       "      <td>1</td>\n",
       "    </tr>\n",
       "    <tr>\n",
       "      <th>7</th>\n",
       "      <td>46</td>\n",
       "      <td>1</td>\n",
       "      <td>0</td>\n",
       "      <td>0</td>\n",
       "      <td>1</td>\n",
       "      <td>1</td>\n",
       "    </tr>\n",
       "    <tr>\n",
       "      <th>9</th>\n",
       "      <td>33</td>\n",
       "      <td>1</td>\n",
       "      <td>0</td>\n",
       "      <td>0</td>\n",
       "      <td>1</td>\n",
       "      <td>1</td>\n",
       "    </tr>\n",
       "    <tr>\n",
       "      <th>10</th>\n",
       "      <td>45</td>\n",
       "      <td>1</td>\n",
       "      <td>0</td>\n",
       "      <td>0</td>\n",
       "      <td>1</td>\n",
       "      <td>1</td>\n",
       "    </tr>\n",
       "  </tbody>\n",
       "</table>\n",
       "</div>"
      ],
      "text/plain": [
       "    age  web  moweb  ios  android  cluster\n",
       "0    33    1      0    0        1        1\n",
       "1    30    1      0    0        1        1\n",
       "2    30    1      0    0        1        1\n",
       "3    30    1      0    0        1        1\n",
       "4    32    1      0    0        1        1\n",
       "5    46    1      1    0        0        0\n",
       "6    30    1      0    0        1        1\n",
       "7    46    1      0    0        1        1\n",
       "9    33    1      0    0        1        1\n",
       "10   45    1      0    0        1        1"
      ]
     },
     "execution_count": 22,
     "metadata": {},
     "output_type": "execute_result"
    }
   ],
   "source": [
    "airbnb_5['cluster'] = model.labels_\n",
    "airbnb_5.head(10)"
   ]
  },
  {
   "cell_type": "code",
   "execution_count": 23,
   "metadata": {},
   "outputs": [
    {
     "data": {
      "text/plain": [
       "<matplotlib.axes._subplots.AxesSubplot at 0x2074074ffd0>"
      ]
     },
     "execution_count": 23,
     "metadata": {},
     "output_type": "execute_result"
    },
    {
     "data": {
      "image/png": "[encoded data removed]",
      "text/plain": [
       "<Figure size 432x288 with 1 Axes>"
      ]
     },
     "metadata": {
      "needs_background": "light"
     },
     "output_type": "display_data"
    }
   ],
   "source": [
    "sns.scatterplot(x='age', y='ios', hue='cluster', data=airbnb_5)"
   ]
  },
  {
   "cell_type": "markdown",
   "metadata": {},
   "source": [
    "- 由于ios只有0和1两个值，所以散点图可视化效果不佳\n",
    "- 因此使用groupby()查看分群情况"
   ]
  },
  {
   "cell_type": "code",
   "execution_count": 24,
   "metadata": {},
   "outputs": [
    {
     "data": {
      "text/html": [
       "<div>\n",
       "<style scoped>\n",
       "    .dataframe tbody tr th:only-of-type {\n",
       "        vertical-align: middle;\n",
       "    }\n",
       "\n",
       "    .dataframe tbody tr th {\n",
       "        vertical-align: top;\n",
       "    }\n",
       "\n",
       "    .dataframe thead th {\n",
       "        text-align: right;\n",
       "    }\n",
       "</style>\n",
       "<table border=\"1\" class=\"dataframe\">\n",
       "  <thead>\n",
       "    <tr style=\"text-align: right;\">\n",
       "      <th></th>\n",
       "      <th>count</th>\n",
       "      <th>mean</th>\n",
       "      <th>std</th>\n",
       "      <th>min</th>\n",
       "      <th>25%</th>\n",
       "      <th>50%</th>\n",
       "      <th>75%</th>\n",
       "      <th>max</th>\n",
       "    </tr>\n",
       "    <tr>\n",
       "      <th>cluster</th>\n",
       "      <th></th>\n",
       "      <th></th>\n",
       "      <th></th>\n",
       "      <th></th>\n",
       "      <th></th>\n",
       "      <th></th>\n",
       "      <th></th>\n",
       "      <th></th>\n",
       "    </tr>\n",
       "  </thead>\n",
       "  <tbody>\n",
       "    <tr>\n",
       "      <th>0</th>\n",
       "      <td>2108.0</td>\n",
       "      <td>34.911290</td>\n",
       "      <td>9.866273</td>\n",
       "      <td>18.0</td>\n",
       "      <td>28.0</td>\n",
       "      <td>32.0</td>\n",
       "      <td>39.0</td>\n",
       "      <td>78.0</td>\n",
       "    </tr>\n",
       "    <tr>\n",
       "      <th>1</th>\n",
       "      <td>4072.0</td>\n",
       "      <td>36.871316</td>\n",
       "      <td>11.519153</td>\n",
       "      <td>18.0</td>\n",
       "      <td>29.0</td>\n",
       "      <td>34.0</td>\n",
       "      <td>43.0</td>\n",
       "      <td>80.0</td>\n",
       "    </tr>\n",
       "    <tr>\n",
       "      <th>2</th>\n",
       "      <td>427.0</td>\n",
       "      <td>32.793911</td>\n",
       "      <td>8.263822</td>\n",
       "      <td>18.0</td>\n",
       "      <td>27.0</td>\n",
       "      <td>31.0</td>\n",
       "      <td>36.0</td>\n",
       "      <td>70.0</td>\n",
       "    </tr>\n",
       "  </tbody>\n",
       "</table>\n",
       "</div>"
      ],
      "text/plain": [
       "          count       mean        std   min   25%   50%   75%   max\n",
       "cluster                                                            \n",
       "0        2108.0  34.911290   9.866273  18.0  28.0  32.0  39.0  78.0\n",
       "1        4072.0  36.871316  11.519153  18.0  29.0  34.0  43.0  80.0\n",
       "2         427.0  32.793911   8.263822  18.0  27.0  31.0  36.0  70.0"
      ]
     },
     "execution_count": 24,
     "metadata": {},
     "output_type": "execute_result"
    }
   ],
   "source": [
    "airbnb_5.groupby(['cluster'])['age'].describe()"
   ]
  },
  {
   "cell_type": "code",
   "execution_count": 25,
   "metadata": {},
   "outputs": [
    {
     "data": {
      "text/html": [
       "<div>\n",
       "<style scoped>\n",
       "    .dataframe tbody tr th:only-of-type {\n",
       "        vertical-align: middle;\n",
       "    }\n",
       "\n",
       "    .dataframe tbody tr th {\n",
       "        vertical-align: top;\n",
       "    }\n",
       "\n",
       "    .dataframe thead th {\n",
       "        text-align: right;\n",
       "    }\n",
       "</style>\n",
       "<table border=\"1\" class=\"dataframe\">\n",
       "  <thead>\n",
       "    <tr style=\"text-align: right;\">\n",
       "      <th></th>\n",
       "      <th>count</th>\n",
       "      <th>mean</th>\n",
       "      <th>std</th>\n",
       "      <th>min</th>\n",
       "      <th>25%</th>\n",
       "      <th>50%</th>\n",
       "      <th>75%</th>\n",
       "      <th>max</th>\n",
       "    </tr>\n",
       "    <tr>\n",
       "      <th>cluster</th>\n",
       "      <th></th>\n",
       "      <th></th>\n",
       "      <th></th>\n",
       "      <th></th>\n",
       "      <th></th>\n",
       "      <th></th>\n",
       "      <th></th>\n",
       "      <th></th>\n",
       "    </tr>\n",
       "  </thead>\n",
       "  <tbody>\n",
       "    <tr>\n",
       "      <th>0</th>\n",
       "      <td>2108.0</td>\n",
       "      <td>0.0</td>\n",
       "      <td>0.0</td>\n",
       "      <td>0.0</td>\n",
       "      <td>0.0</td>\n",
       "      <td>0.0</td>\n",
       "      <td>0.0</td>\n",
       "      <td>0.0</td>\n",
       "    </tr>\n",
       "    <tr>\n",
       "      <th>1</th>\n",
       "      <td>4072.0</td>\n",
       "      <td>0.0</td>\n",
       "      <td>0.0</td>\n",
       "      <td>0.0</td>\n",
       "      <td>0.0</td>\n",
       "      <td>0.0</td>\n",
       "      <td>0.0</td>\n",
       "      <td>0.0</td>\n",
       "    </tr>\n",
       "    <tr>\n",
       "      <th>2</th>\n",
       "      <td>427.0</td>\n",
       "      <td>1.0</td>\n",
       "      <td>0.0</td>\n",
       "      <td>1.0</td>\n",
       "      <td>1.0</td>\n",
       "      <td>1.0</td>\n",
       "      <td>1.0</td>\n",
       "      <td>1.0</td>\n",
       "    </tr>\n",
       "  </tbody>\n",
       "</table>\n",
       "</div>"
      ],
      "text/plain": [
       "          count  mean  std  min  25%  50%  75%  max\n",
       "cluster                                            \n",
       "0        2108.0   0.0  0.0  0.0  0.0  0.0  0.0  0.0\n",
       "1        4072.0   0.0  0.0  0.0  0.0  0.0  0.0  0.0\n",
       "2         427.0   1.0  0.0  1.0  1.0  1.0  1.0  1.0"
      ]
     },
     "execution_count": 25,
     "metadata": {},
     "output_type": "execute_result"
    }
   ],
   "source": [
    "airbnb_5.groupby(['cluster'])['ios'].describe()#查看ios的分群效果"
   ]
  },
  {
   "cell_type": "markdown",
   "metadata": {},
   "source": [
    "age分群效果一般，ios分群效果较好\n",
    "\n",
    "- 3个群在age变量上没有区分，最小值是18，最大值是78-80\n",
    "- 3个群在ios变量上有了区分，0群和1群的ios是0，而2群的ios是1"
   ]
  },
  {
   "cell_type": "markdown",
   "metadata": {},
   "source": [
    "由于聚类模型相比分类模型来说，没有可以校验的样本，所以使用「轮廓系数」来评估模型的聚类效率。"
   ]
  },
  {
   "cell_type": "markdown",
   "metadata": {},
   "source": [
    "在模型建立后，我们使用轮廓系数来评估模型。\n",
    "\n",
    "- 轮廓系数（Silhouette Coefficient）是聚类效果好坏的一种评价方式。\n",
    "- 轮廓系数计算的是聚类模型的‘效率’，分数越高代表模型聚类效果越好。"
   ]
  },
  {
   "cell_type": "markdown",
   "metadata": {},
   "source": [
    "轮廓系数评估模型效果\n",
    "\n",
    "- 好的聚类是内密外疏，同一个聚类内部的样本要足够密集，不同聚类之间样本要足够疏远。\n",
    "- 轮廓系数计算个体与群体的距离，结果在[-1,1]之间，评分越高，个体与群体距离越近，模型效果也就越好。\n",
    "- 不过，从业务逻辑上考虑，不是分群数量越多越好，因为如果每个群的个体数太少，实际上就失去了聚类的意义，所以一般我们把群体分为5-8类。"
   ]
  },
  {
   "cell_type": "code",
   "execution_count": 26,
   "metadata": {},
   "outputs": [
    {
     "name": "stdout",
     "output_type": "stream",
     "text": [
      "0.6359835014766514\n"
     ]
    }
   ],
   "source": [
    "from sklearn import metrics\n",
    "x_cluster = model.fit_predict(x)\n",
    "# 调用子模块metrics的silhouette_score函数计算轮廓系数\n",
    "score = metrics.silhouette_score(x, x_cluster)\n",
    "print(score)"
   ]
  },
  {
   "cell_type": "markdown",
   "metadata": {},
   "source": [
    "- 聚类效果较好"
   ]
  },
  {
   "cell_type": "code",
   "execution_count": 27,
   "metadata": {},
   "outputs": [
    {
     "name": "stdout",
     "output_type": "stream",
     "text": [
      "0.6764691337585906\n"
     ]
    }
   ],
   "source": [
    "# 优化1：age分群效果较弱，替换为year_since_first_booking\n",
    "# 优化2：群数增加到5\n",
    "airbnb_5 = airbnb[['year_since_first_booking','web','moweb','ios','android']]\n",
    "x = pd.DataFrame(scale(airbnb_5))\n",
    "model = cluster.KMeans(n_clusters=5, random_state=10)\n",
    "model.fit(x)\n",
    "x_cluster = model.fit_predict(x)\n",
    "score = metrics.silhouette_score(x, x_cluster)\n",
    "print(score)"
   ]
  },
  {
   "cell_type": "markdown",
   "metadata": {},
   "source": [
    "- 轮廓系数提升到了0.68"
   ]
  },
  {
   "cell_type": "code",
   "execution_count": 28,
   "metadata": {},
   "outputs": [],
   "source": [
    "# 导出结果到csv\n",
    "centers = pd.DataFrame(model.cluster_centers_)\n",
    "centers.to_csv('center_5.csv')"
   ]
  },
  {
   "cell_type": "code",
   "execution_count": null,
   "metadata": {},
   "outputs": [],
   "source": []
  }
 ],
 "metadata": {
  "kernelspec": {
   "display_name": "Python 3",
   "language": "python",
   "name": "python3"
  },
  "language_info": {
   "codemirror_mode": {
    "name": "ipython",
    "version": 3
   },
   "file_extension": ".py",
   "mimetype": "text/x-python",
   "name": "python",
   "nbconvert_exporter": "python",
   "pygments_lexer": "ipython3",
   "version": "3.7.3"
  },
  "toc": {
   "base_numbering": 1,
   "nav_menu": {},
   "number_sections": true,
   "sideBar": true,
   "skip_h1_title": false,
   "title_cell": "Table of Contents",
   "title_sidebar": "Contents",
   "toc_cell": false,
   "toc_position": {},
   "toc_section_display": true,
   "toc_window_display": false
  }
 },
 "nbformat": 4,
 "nbformat_minor": 2
}
