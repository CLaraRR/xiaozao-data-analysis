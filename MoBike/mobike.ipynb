{
 "cells": [
  {
   "cell_type": "markdown",
   "metadata": {},
   "source": [
    "# 摩拜单车用户分群"
   ]
  },
  {
   "cell_type": "markdown",
   "metadata": {},
   "source": [
    "## 任务说明"
   ]
  },
  {
   "cell_type": "markdown",
   "metadata": {},
   "source": [
    "这一周我会带着你挑战一个互联网行业比较常见的任务，绘制产品的用户画像。摩拜单车，英文名mobike，是由胡玮炜创办的北京摩拜科技有限公司研发的互联网短途出行解决方案，是无桩借还车模式的智能硬件。人们通过智能手机就能快速租用和归还一辆摩拜单车，用可负担的价格来完成一次几公里的市内骑行。由于一公里的出行是一个高频的需求场景，所以mobike单车累计了大量的用户基本信息以及骑行的数据，通过这些数据，能够帮助企业更好识别自己的客群画像和他们的骑行偏好。"
   ]
  },
  {
   "cell_type": "markdown",
   "metadata": {},
   "source": [
    "## 任务事项"
   ]
  },
  {
   "cell_type": "markdown",
   "metadata": {},
   "source": [
    "就是根据用户的基本信息以及骑行的数据，完成以下事项：\n",
    "- 使用Python建立聚类分析模型\n",
    "- 对于聚类分析模型得出的分群特征进行解读"
   ]
  },
  {
   "cell_type": "markdown",
   "metadata": {},
   "source": [
    "## 任务要求"
   ]
  },
  {
   "cell_type": "markdown",
   "metadata": {},
   "source": [
    "- 完整的数据分析流程（50%）\n",
    "    - 数据概况分析\n",
    "    - 单变量分析\n",
    "    - 相关与可视化分析\n",
    "    - 聚类模型建立、评估与优化\n",
    "- 准确的数据维度识别与python代码操作（30%）\n",
    "- 提供对于模型结果的业务结论解读（20%）"
   ]
  },
  {
   "cell_type": "markdown",
   "metadata": {},
   "source": [
    "## 认识数据"
   ]
  },
  {
   "cell_type": "markdown",
   "metadata": {},
   "source": [
    "![jupyter](image.png)"
   ]
  },
  {
   "cell_type": "markdown",
   "metadata": {},
   "source": [
    "## 数据分析流程"
   ]
  },
  {
   "cell_type": "markdown",
   "metadata": {},
   "source": [
    "![jupyter](image1.png)"
   ]
  },
  {
   "cell_type": "markdown",
   "metadata": {},
   "source": [
    "## 数据分析思路"
   ]
  },
  {
   "cell_type": "markdown",
   "metadata": {},
   "source": [
    "![jupyter](image2.png)"
   ]
  },
  {
   "cell_type": "markdown",
   "metadata": {},
   "source": [
    "# 数据预处理"
   ]
  },
  {
   "cell_type": "markdown",
   "metadata": {},
   "source": [
    "## 准备数据"
   ]
  },
  {
   "cell_type": "code",
   "execution_count": 318,
   "metadata": {},
   "outputs": [],
   "source": [
    "import pandas as pd\n",
    "import numpy as np\n",
    "import matplotlib.pyplot as plt\n",
    "import seaborn as sns\n",
    "%matplotlib inline"
   ]
  },
  {
   "cell_type": "code",
   "execution_count": 319,
   "metadata": {},
   "outputs": [],
   "source": [
    "mb = pd.read_csv('week4.mobike.csv', index_col=0)"
   ]
  },
  {
   "cell_type": "code",
   "execution_count": 320,
   "metadata": {},
   "outputs": [
    {
     "name": "stdout",
     "output_type": "stream",
     "text": [
      "<class 'pandas.core.frame.DataFrame'>\n",
      "Int64Index: 6427 entries, 439283 to 278179\n",
      "Data columns (total 14 columns):\n",
      "user_id              6427 non-null int64\n",
      "start_time           6427 non-null object\n",
      "end_time             6427 non-null object\n",
      "timeduration         6427 non-null int64\n",
      "bikeid               6427 non-null int64\n",
      "tripduration         6427 non-null int64\n",
      "from_station_id      6427 non-null int64\n",
      "from_station_name    6427 non-null object\n",
      "to_station_id        6427 non-null int64\n",
      "to_station_name      6427 non-null object\n",
      "usertype             6427 non-null object\n",
      "gender               5938 non-null object\n",
      "birthyear            5956 non-null float64\n",
      "age                  6427 non-null object\n",
      "dtypes: float64(1), int64(6), object(7)\n",
      "memory usage: 753.2+ KB\n"
     ]
    }
   ],
   "source": [
    "mb.info()"
   ]
  },
  {
   "cell_type": "markdown",
   "metadata": {},
   "source": [
    "- gender,birthyear有空值\n",
    "- user_id,bikeid,start_time,end_time,from_station_id,to_station_id,birthyear,age的类型错误，要转换过来\n",
    "- user_id，bikeid,from_station_id,to_station_id,birthyear,end_time对后续分析没有用，可以删掉\n"
   ]
  },
  {
   "cell_type": "code",
   "execution_count": 321,
   "metadata": {},
   "outputs": [
    {
     "data": {
      "text/html": [
       "<div>\n",
       "<style scoped>\n",
       "    .dataframe tbody tr th:only-of-type {\n",
       "        vertical-align: middle;\n",
       "    }\n",
       "\n",
       "    .dataframe tbody tr th {\n",
       "        vertical-align: top;\n",
       "    }\n",
       "\n",
       "    .dataframe thead th {\n",
       "        text-align: right;\n",
       "    }\n",
       "</style>\n",
       "<table border=\"1\" class=\"dataframe\">\n",
       "  <thead>\n",
       "    <tr style=\"text-align: right;\">\n",
       "      <th></th>\n",
       "      <th>user_id</th>\n",
       "      <th>start_time</th>\n",
       "      <th>end_time</th>\n",
       "      <th>timeduration</th>\n",
       "      <th>bikeid</th>\n",
       "      <th>tripduration</th>\n",
       "      <th>from_station_id</th>\n",
       "      <th>from_station_name</th>\n",
       "      <th>to_station_id</th>\n",
       "      <th>to_station_name</th>\n",
       "      <th>usertype</th>\n",
       "      <th>gender</th>\n",
       "      <th>birthyear</th>\n",
       "      <th>age</th>\n",
       "    </tr>\n",
       "  </thead>\n",
       "  <tbody>\n",
       "    <tr>\n",
       "      <th>439283</th>\n",
       "      <td>21499218</td>\n",
       "      <td>11/14/2018 7:37</td>\n",
       "      <td>11/14/2018 7:44</td>\n",
       "      <td>7</td>\n",
       "      <td>2631</td>\n",
       "      <td>436</td>\n",
       "      <td>319</td>\n",
       "      <td>Greenview Ave &amp; Diversey Pkwy</td>\n",
       "      <td>67</td>\n",
       "      <td>Sheffield Ave &amp; Fullerton Ave</td>\n",
       "      <td>Subscriber</td>\n",
       "      <td>Male</td>\n",
       "      <td>1982.0</td>\n",
       "      <td>37</td>\n",
       "    </tr>\n",
       "    <tr>\n",
       "      <th>603317</th>\n",
       "      <td>21694389</td>\n",
       "      <td>12/18/2018 19:02</td>\n",
       "      <td>12/18/2018 19:10</td>\n",
       "      <td>7</td>\n",
       "      <td>1565</td>\n",
       "      <td>445</td>\n",
       "      <td>164</td>\n",
       "      <td>Franklin St &amp; Lake St</td>\n",
       "      <td>195</td>\n",
       "      <td>Columbus Dr &amp; Randolph St</td>\n",
       "      <td>Subscriber</td>\n",
       "      <td>Male</td>\n",
       "      <td>1988.0</td>\n",
       "      <td>31</td>\n",
       "    </tr>\n",
       "    <tr>\n",
       "      <th>109957</th>\n",
       "      <td>21110722</td>\n",
       "      <td>10/9/2018 12:37</td>\n",
       "      <td>10/9/2018 12:55</td>\n",
       "      <td>18</td>\n",
       "      <td>2231</td>\n",
       "      <td>1090</td>\n",
       "      <td>163</td>\n",
       "      <td>Damen Ave &amp; Clybourn Ave</td>\n",
       "      <td>69</td>\n",
       "      <td>Damen Ave &amp; Pierce Ave</td>\n",
       "      <td>Customer</td>\n",
       "      <td>Male</td>\n",
       "      <td>1989.0</td>\n",
       "      <td>30</td>\n",
       "    </tr>\n",
       "    <tr>\n",
       "      <th>428082</th>\n",
       "      <td>21485409</td>\n",
       "      <td>11/12/2018 12:30</td>\n",
       "      <td>11/12/2018 12:40</td>\n",
       "      <td>9</td>\n",
       "      <td>4226</td>\n",
       "      <td>581</td>\n",
       "      <td>226</td>\n",
       "      <td>Racine Ave &amp; Belmont Ave</td>\n",
       "      <td>308</td>\n",
       "      <td>Seeley Ave &amp; Roscoe St</td>\n",
       "      <td>Subscriber</td>\n",
       "      <td>Female</td>\n",
       "      <td>1989.0</td>\n",
       "      <td>30</td>\n",
       "    </tr>\n",
       "    <tr>\n",
       "      <th>395437</th>\n",
       "      <td>21445994</td>\n",
       "      <td>11/7/2018 7:29</td>\n",
       "      <td>11/7/2018 7:35</td>\n",
       "      <td>6</td>\n",
       "      <td>3475</td>\n",
       "      <td>390</td>\n",
       "      <td>77</td>\n",
       "      <td>Clinton St &amp; Madison St</td>\n",
       "      <td>621</td>\n",
       "      <td>Aberdeen St &amp; Randolph St</td>\n",
       "      <td>Subscriber</td>\n",
       "      <td>Male</td>\n",
       "      <td>1979.0</td>\n",
       "      <td>40</td>\n",
       "    </tr>\n",
       "  </tbody>\n",
       "</table>\n",
       "</div>"
      ],
      "text/plain": [
       "         user_id        start_time          end_time  timeduration  bikeid  \\\n",
       "439283  21499218   11/14/2018 7:37   11/14/2018 7:44             7    2631   \n",
       "603317  21694389  12/18/2018 19:02  12/18/2018 19:10             7    1565   \n",
       "109957  21110722   10/9/2018 12:37   10/9/2018 12:55            18    2231   \n",
       "428082  21485409  11/12/2018 12:30  11/12/2018 12:40             9    4226   \n",
       "395437  21445994    11/7/2018 7:29    11/7/2018 7:35             6    3475   \n",
       "\n",
       "        tripduration  from_station_id              from_station_name  \\\n",
       "439283           436              319  Greenview Ave & Diversey Pkwy   \n",
       "603317           445              164          Franklin St & Lake St   \n",
       "109957          1090              163       Damen Ave & Clybourn Ave   \n",
       "428082           581              226       Racine Ave & Belmont Ave   \n",
       "395437           390               77        Clinton St & Madison St   \n",
       "\n",
       "        to_station_id                to_station_name    usertype  gender  \\\n",
       "439283             67  Sheffield Ave & Fullerton Ave  Subscriber    Male   \n",
       "603317            195      Columbus Dr & Randolph St  Subscriber    Male   \n",
       "109957             69         Damen Ave & Pierce Ave    Customer    Male   \n",
       "428082            308         Seeley Ave & Roscoe St  Subscriber  Female   \n",
       "395437            621      Aberdeen St & Randolph St  Subscriber    Male   \n",
       "\n",
       "        birthyear age  \n",
       "439283     1982.0  37  \n",
       "603317     1988.0  31  \n",
       "109957     1989.0  30  \n",
       "428082     1989.0  30  \n",
       "395437     1979.0  40  "
      ]
     },
     "execution_count": 321,
     "metadata": {},
     "output_type": "execute_result"
    }
   ],
   "source": [
    "mb.head()"
   ]
  },
  {
   "cell_type": "code",
   "execution_count": 322,
   "metadata": {},
   "outputs": [
    {
     "data": {
      "text/html": [
       "<div>\n",
       "<style scoped>\n",
       "    .dataframe tbody tr th:only-of-type {\n",
       "        vertical-align: middle;\n",
       "    }\n",
       "\n",
       "    .dataframe tbody tr th {\n",
       "        vertical-align: top;\n",
       "    }\n",
       "\n",
       "    .dataframe thead th {\n",
       "        text-align: right;\n",
       "    }\n",
       "</style>\n",
       "<table border=\"1\" class=\"dataframe\">\n",
       "  <thead>\n",
       "    <tr style=\"text-align: right;\">\n",
       "      <th></th>\n",
       "      <th>user_id</th>\n",
       "      <th>timeduration</th>\n",
       "      <th>bikeid</th>\n",
       "      <th>tripduration</th>\n",
       "      <th>from_station_id</th>\n",
       "      <th>to_station_id</th>\n",
       "      <th>birthyear</th>\n",
       "    </tr>\n",
       "  </thead>\n",
       "  <tbody>\n",
       "    <tr>\n",
       "      <th>count</th>\n",
       "      <td>6.427000e+03</td>\n",
       "      <td>6427.000000</td>\n",
       "      <td>6427.000000</td>\n",
       "      <td>6.427000e+03</td>\n",
       "      <td>6427.000000</td>\n",
       "      <td>6427.000000</td>\n",
       "      <td>5956.000000</td>\n",
       "    </tr>\n",
       "    <tr>\n",
       "      <th>mean</th>\n",
       "      <td>2.135519e+07</td>\n",
       "      <td>11.778902</td>\n",
       "      <td>3491.637934</td>\n",
       "      <td>1.060471e+03</td>\n",
       "      <td>195.038432</td>\n",
       "      <td>198.502567</td>\n",
       "      <td>1982.488583</td>\n",
       "    </tr>\n",
       "    <tr>\n",
       "      <th>std</th>\n",
       "      <td>2.181294e+05</td>\n",
       "      <td>9.692236</td>\n",
       "      <td>1912.171846</td>\n",
       "      <td>1.456811e+04</td>\n",
       "      <td>148.170025</td>\n",
       "      <td>148.939873</td>\n",
       "      <td>11.147859</td>\n",
       "    </tr>\n",
       "    <tr>\n",
       "      <th>min</th>\n",
       "      <td>2.098358e+07</td>\n",
       "      <td>0.000000</td>\n",
       "      <td>2.000000</td>\n",
       "      <td>6.100000e+01</td>\n",
       "      <td>2.000000</td>\n",
       "      <td>2.000000</td>\n",
       "      <td>1906.000000</td>\n",
       "    </tr>\n",
       "    <tr>\n",
       "      <th>25%</th>\n",
       "      <td>2.116805e+07</td>\n",
       "      <td>5.000000</td>\n",
       "      <td>1852.000000</td>\n",
       "      <td>3.490000e+02</td>\n",
       "      <td>77.000000</td>\n",
       "      <td>80.000000</td>\n",
       "      <td>1977.000000</td>\n",
       "    </tr>\n",
       "    <tr>\n",
       "      <th>50%</th>\n",
       "      <td>2.135114e+07</td>\n",
       "      <td>9.000000</td>\n",
       "      <td>3618.000000</td>\n",
       "      <td>5.590000e+02</td>\n",
       "      <td>168.000000</td>\n",
       "      <td>172.000000</td>\n",
       "      <td>1986.000000</td>\n",
       "    </tr>\n",
       "    <tr>\n",
       "      <th>75%</th>\n",
       "      <td>2.154376e+07</td>\n",
       "      <td>15.000000</td>\n",
       "      <td>5179.500000</td>\n",
       "      <td>9.320000e+02</td>\n",
       "      <td>287.000000</td>\n",
       "      <td>287.000000</td>\n",
       "      <td>1991.000000</td>\n",
       "    </tr>\n",
       "    <tr>\n",
       "      <th>max</th>\n",
       "      <td>2.174223e+07</td>\n",
       "      <td>59.000000</td>\n",
       "      <td>6470.000000</td>\n",
       "      <td>1.139070e+06</td>\n",
       "      <td>662.000000</td>\n",
       "      <td>661.000000</td>\n",
       "      <td>2002.000000</td>\n",
       "    </tr>\n",
       "  </tbody>\n",
       "</table>\n",
       "</div>"
      ],
      "text/plain": [
       "            user_id  timeduration       bikeid  tripduration  from_station_id  \\\n",
       "count  6.427000e+03   6427.000000  6427.000000  6.427000e+03      6427.000000   \n",
       "mean   2.135519e+07     11.778902  3491.637934  1.060471e+03       195.038432   \n",
       "std    2.181294e+05      9.692236  1912.171846  1.456811e+04       148.170025   \n",
       "min    2.098358e+07      0.000000     2.000000  6.100000e+01         2.000000   \n",
       "25%    2.116805e+07      5.000000  1852.000000  3.490000e+02        77.000000   \n",
       "50%    2.135114e+07      9.000000  3618.000000  5.590000e+02       168.000000   \n",
       "75%    2.154376e+07     15.000000  5179.500000  9.320000e+02       287.000000   \n",
       "max    2.174223e+07     59.000000  6470.000000  1.139070e+06       662.000000   \n",
       "\n",
       "       to_station_id    birthyear  \n",
       "count    6427.000000  5956.000000  \n",
       "mean      198.502567  1982.488583  \n",
       "std       148.939873    11.147859  \n",
       "min         2.000000  1906.000000  \n",
       "25%        80.000000  1977.000000  \n",
       "50%       172.000000  1986.000000  \n",
       "75%       287.000000  1991.000000  \n",
       "max       661.000000  2002.000000  "
      ]
     },
     "execution_count": 322,
     "metadata": {},
     "output_type": "execute_result"
    }
   ],
   "source": [
    "mb.describe()"
   ]
  },
  {
   "cell_type": "markdown",
   "metadata": {},
   "source": [
    "- timeduration最小值是0，要查看一下是什么原因\n",
    "- birthyear最小值是1906，不可能"
   ]
  },
  {
   "cell_type": "code",
   "execution_count": 323,
   "metadata": {},
   "outputs": [
    {
     "data": {
      "text/plain": [
       "0"
      ]
     },
     "execution_count": 323,
     "metadata": {},
     "output_type": "execute_result"
    }
   ],
   "source": [
    "sum(mb.duplicated())"
   ]
  },
  {
   "cell_type": "markdown",
   "metadata": {},
   "source": [
    "## 数据清洗"
   ]
  },
  {
   "cell_type": "markdown",
   "metadata": {},
   "source": [
    "### user_id"
   ]
  },
  {
   "cell_type": "code",
   "execution_count": 324,
   "metadata": {},
   "outputs": [
    {
     "data": {
      "text/plain": [
       "6427"
      ]
     },
     "execution_count": 324,
     "metadata": {},
     "output_type": "execute_result"
    }
   ],
   "source": [
    "mb.user_id.nunique()"
   ]
  },
  {
   "cell_type": "markdown",
   "metadata": {},
   "source": [
    "- 数据中不存在重复用户，所以不需要进行聚类，直接删除user_id即可"
   ]
  },
  {
   "cell_type": "code",
   "execution_count": 325,
   "metadata": {},
   "outputs": [],
   "source": [
    "# 删除user_id列\n",
    "mb = mb.drop(['user_id'], axis=1)"
   ]
  },
  {
   "cell_type": "markdown",
   "metadata": {},
   "source": [
    "### start_time&end_time"
   ]
  },
  {
   "cell_type": "code",
   "execution_count": 326,
   "metadata": {},
   "outputs": [],
   "source": [
    "# start_time和end_time的类型转换为datetime的类型\n",
    "mb['start_time'] = pd.to_datetime(mb['start_time'])"
   ]
  },
  {
   "cell_type": "code",
   "execution_count": 327,
   "metadata": {},
   "outputs": [],
   "source": [
    "mb['end_time'] = pd.to_datetime(mb['end_time'])"
   ]
  },
  {
   "cell_type": "code",
   "execution_count": 328,
   "metadata": {},
   "outputs": [
    {
     "data": {
      "text/html": [
       "<div>\n",
       "<style scoped>\n",
       "    .dataframe tbody tr th:only-of-type {\n",
       "        vertical-align: middle;\n",
       "    }\n",
       "\n",
       "    .dataframe tbody tr th {\n",
       "        vertical-align: top;\n",
       "    }\n",
       "\n",
       "    .dataframe thead th {\n",
       "        text-align: right;\n",
       "    }\n",
       "</style>\n",
       "<table border=\"1\" class=\"dataframe\">\n",
       "  <thead>\n",
       "    <tr style=\"text-align: right;\">\n",
       "      <th></th>\n",
       "      <th>start_time</th>\n",
       "      <th>end_time</th>\n",
       "      <th>timeduration</th>\n",
       "      <th>bikeid</th>\n",
       "      <th>tripduration</th>\n",
       "      <th>from_station_id</th>\n",
       "      <th>from_station_name</th>\n",
       "      <th>to_station_id</th>\n",
       "      <th>to_station_name</th>\n",
       "      <th>usertype</th>\n",
       "      <th>gender</th>\n",
       "      <th>birthyear</th>\n",
       "      <th>age</th>\n",
       "    </tr>\n",
       "  </thead>\n",
       "  <tbody>\n",
       "    <tr>\n",
       "      <th>439283</th>\n",
       "      <td>2018-11-14 07:37:00</td>\n",
       "      <td>2018-11-14 07:44:00</td>\n",
       "      <td>7</td>\n",
       "      <td>2631</td>\n",
       "      <td>436</td>\n",
       "      <td>319</td>\n",
       "      <td>Greenview Ave &amp; Diversey Pkwy</td>\n",
       "      <td>67</td>\n",
       "      <td>Sheffield Ave &amp; Fullerton Ave</td>\n",
       "      <td>Subscriber</td>\n",
       "      <td>Male</td>\n",
       "      <td>1982.0</td>\n",
       "      <td>37</td>\n",
       "    </tr>\n",
       "    <tr>\n",
       "      <th>603317</th>\n",
       "      <td>2018-12-18 19:02:00</td>\n",
       "      <td>2018-12-18 19:10:00</td>\n",
       "      <td>7</td>\n",
       "      <td>1565</td>\n",
       "      <td>445</td>\n",
       "      <td>164</td>\n",
       "      <td>Franklin St &amp; Lake St</td>\n",
       "      <td>195</td>\n",
       "      <td>Columbus Dr &amp; Randolph St</td>\n",
       "      <td>Subscriber</td>\n",
       "      <td>Male</td>\n",
       "      <td>1988.0</td>\n",
       "      <td>31</td>\n",
       "    </tr>\n",
       "    <tr>\n",
       "      <th>109957</th>\n",
       "      <td>2018-10-09 12:37:00</td>\n",
       "      <td>2018-10-09 12:55:00</td>\n",
       "      <td>18</td>\n",
       "      <td>2231</td>\n",
       "      <td>1090</td>\n",
       "      <td>163</td>\n",
       "      <td>Damen Ave &amp; Clybourn Ave</td>\n",
       "      <td>69</td>\n",
       "      <td>Damen Ave &amp; Pierce Ave</td>\n",
       "      <td>Customer</td>\n",
       "      <td>Male</td>\n",
       "      <td>1989.0</td>\n",
       "      <td>30</td>\n",
       "    </tr>\n",
       "    <tr>\n",
       "      <th>428082</th>\n",
       "      <td>2018-11-12 12:30:00</td>\n",
       "      <td>2018-11-12 12:40:00</td>\n",
       "      <td>9</td>\n",
       "      <td>4226</td>\n",
       "      <td>581</td>\n",
       "      <td>226</td>\n",
       "      <td>Racine Ave &amp; Belmont Ave</td>\n",
       "      <td>308</td>\n",
       "      <td>Seeley Ave &amp; Roscoe St</td>\n",
       "      <td>Subscriber</td>\n",
       "      <td>Female</td>\n",
       "      <td>1989.0</td>\n",
       "      <td>30</td>\n",
       "    </tr>\n",
       "    <tr>\n",
       "      <th>395437</th>\n",
       "      <td>2018-11-07 07:29:00</td>\n",
       "      <td>2018-11-07 07:35:00</td>\n",
       "      <td>6</td>\n",
       "      <td>3475</td>\n",
       "      <td>390</td>\n",
       "      <td>77</td>\n",
       "      <td>Clinton St &amp; Madison St</td>\n",
       "      <td>621</td>\n",
       "      <td>Aberdeen St &amp; Randolph St</td>\n",
       "      <td>Subscriber</td>\n",
       "      <td>Male</td>\n",
       "      <td>1979.0</td>\n",
       "      <td>40</td>\n",
       "    </tr>\n",
       "  </tbody>\n",
       "</table>\n",
       "</div>"
      ],
      "text/plain": [
       "                start_time            end_time  timeduration  bikeid  \\\n",
       "439283 2018-11-14 07:37:00 2018-11-14 07:44:00             7    2631   \n",
       "603317 2018-12-18 19:02:00 2018-12-18 19:10:00             7    1565   \n",
       "109957 2018-10-09 12:37:00 2018-10-09 12:55:00            18    2231   \n",
       "428082 2018-11-12 12:30:00 2018-11-12 12:40:00             9    4226   \n",
       "395437 2018-11-07 07:29:00 2018-11-07 07:35:00             6    3475   \n",
       "\n",
       "        tripduration  from_station_id              from_station_name  \\\n",
       "439283           436              319  Greenview Ave & Diversey Pkwy   \n",
       "603317           445              164          Franklin St & Lake St   \n",
       "109957          1090              163       Damen Ave & Clybourn Ave   \n",
       "428082           581              226       Racine Ave & Belmont Ave   \n",
       "395437           390               77        Clinton St & Madison St   \n",
       "\n",
       "        to_station_id                to_station_name    usertype  gender  \\\n",
       "439283             67  Sheffield Ave & Fullerton Ave  Subscriber    Male   \n",
       "603317            195      Columbus Dr & Randolph St  Subscriber    Male   \n",
       "109957             69         Damen Ave & Pierce Ave    Customer    Male   \n",
       "428082            308         Seeley Ave & Roscoe St  Subscriber  Female   \n",
       "395437            621      Aberdeen St & Randolph St  Subscriber    Male   \n",
       "\n",
       "        birthyear age  \n",
       "439283     1982.0  37  \n",
       "603317     1988.0  31  \n",
       "109957     1989.0  30  \n",
       "428082     1989.0  30  \n",
       "395437     1979.0  40  "
      ]
     },
     "execution_count": 328,
     "metadata": {},
     "output_type": "execute_result"
    }
   ],
   "source": [
    "mb.head()"
   ]
  },
  {
   "cell_type": "code",
   "execution_count": 329,
   "metadata": {},
   "outputs": [],
   "source": [
    "# 提取start_time的dayofweek和hour\n",
    "mb['dayofweek'] = mb['start_time'].dt.dayofweek\n",
    "mb['hour'] = mb['start_time'].dt.hour"
   ]
  },
  {
   "cell_type": "code",
   "execution_count": 330,
   "metadata": {},
   "outputs": [
    {
     "data": {
      "text/html": [
       "<div>\n",
       "<style scoped>\n",
       "    .dataframe tbody tr th:only-of-type {\n",
       "        vertical-align: middle;\n",
       "    }\n",
       "\n",
       "    .dataframe tbody tr th {\n",
       "        vertical-align: top;\n",
       "    }\n",
       "\n",
       "    .dataframe thead th {\n",
       "        text-align: right;\n",
       "    }\n",
       "</style>\n",
       "<table border=\"1\" class=\"dataframe\">\n",
       "  <thead>\n",
       "    <tr style=\"text-align: right;\">\n",
       "      <th></th>\n",
       "      <th>start_time</th>\n",
       "      <th>end_time</th>\n",
       "      <th>timeduration</th>\n",
       "      <th>bikeid</th>\n",
       "      <th>tripduration</th>\n",
       "      <th>from_station_id</th>\n",
       "      <th>from_station_name</th>\n",
       "      <th>to_station_id</th>\n",
       "      <th>to_station_name</th>\n",
       "      <th>usertype</th>\n",
       "      <th>gender</th>\n",
       "      <th>birthyear</th>\n",
       "      <th>age</th>\n",
       "      <th>dayofweek</th>\n",
       "      <th>hour</th>\n",
       "    </tr>\n",
       "  </thead>\n",
       "  <tbody>\n",
       "    <tr>\n",
       "      <th>439283</th>\n",
       "      <td>2018-11-14 07:37:00</td>\n",
       "      <td>2018-11-14 07:44:00</td>\n",
       "      <td>7</td>\n",
       "      <td>2631</td>\n",
       "      <td>436</td>\n",
       "      <td>319</td>\n",
       "      <td>Greenview Ave &amp; Diversey Pkwy</td>\n",
       "      <td>67</td>\n",
       "      <td>Sheffield Ave &amp; Fullerton Ave</td>\n",
       "      <td>Subscriber</td>\n",
       "      <td>Male</td>\n",
       "      <td>1982.0</td>\n",
       "      <td>37</td>\n",
       "      <td>2</td>\n",
       "      <td>7</td>\n",
       "    </tr>\n",
       "    <tr>\n",
       "      <th>603317</th>\n",
       "      <td>2018-12-18 19:02:00</td>\n",
       "      <td>2018-12-18 19:10:00</td>\n",
       "      <td>7</td>\n",
       "      <td>1565</td>\n",
       "      <td>445</td>\n",
       "      <td>164</td>\n",
       "      <td>Franklin St &amp; Lake St</td>\n",
       "      <td>195</td>\n",
       "      <td>Columbus Dr &amp; Randolph St</td>\n",
       "      <td>Subscriber</td>\n",
       "      <td>Male</td>\n",
       "      <td>1988.0</td>\n",
       "      <td>31</td>\n",
       "      <td>1</td>\n",
       "      <td>19</td>\n",
       "    </tr>\n",
       "    <tr>\n",
       "      <th>109957</th>\n",
       "      <td>2018-10-09 12:37:00</td>\n",
       "      <td>2018-10-09 12:55:00</td>\n",
       "      <td>18</td>\n",
       "      <td>2231</td>\n",
       "      <td>1090</td>\n",
       "      <td>163</td>\n",
       "      <td>Damen Ave &amp; Clybourn Ave</td>\n",
       "      <td>69</td>\n",
       "      <td>Damen Ave &amp; Pierce Ave</td>\n",
       "      <td>Customer</td>\n",
       "      <td>Male</td>\n",
       "      <td>1989.0</td>\n",
       "      <td>30</td>\n",
       "      <td>1</td>\n",
       "      <td>12</td>\n",
       "    </tr>\n",
       "    <tr>\n",
       "      <th>428082</th>\n",
       "      <td>2018-11-12 12:30:00</td>\n",
       "      <td>2018-11-12 12:40:00</td>\n",
       "      <td>9</td>\n",
       "      <td>4226</td>\n",
       "      <td>581</td>\n",
       "      <td>226</td>\n",
       "      <td>Racine Ave &amp; Belmont Ave</td>\n",
       "      <td>308</td>\n",
       "      <td>Seeley Ave &amp; Roscoe St</td>\n",
       "      <td>Subscriber</td>\n",
       "      <td>Female</td>\n",
       "      <td>1989.0</td>\n",
       "      <td>30</td>\n",
       "      <td>0</td>\n",
       "      <td>12</td>\n",
       "    </tr>\n",
       "    <tr>\n",
       "      <th>395437</th>\n",
       "      <td>2018-11-07 07:29:00</td>\n",
       "      <td>2018-11-07 07:35:00</td>\n",
       "      <td>6</td>\n",
       "      <td>3475</td>\n",
       "      <td>390</td>\n",
       "      <td>77</td>\n",
       "      <td>Clinton St &amp; Madison St</td>\n",
       "      <td>621</td>\n",
       "      <td>Aberdeen St &amp; Randolph St</td>\n",
       "      <td>Subscriber</td>\n",
       "      <td>Male</td>\n",
       "      <td>1979.0</td>\n",
       "      <td>40</td>\n",
       "      <td>2</td>\n",
       "      <td>7</td>\n",
       "    </tr>\n",
       "  </tbody>\n",
       "</table>\n",
       "</div>"
      ],
      "text/plain": [
       "                start_time            end_time  timeduration  bikeid  \\\n",
       "439283 2018-11-14 07:37:00 2018-11-14 07:44:00             7    2631   \n",
       "603317 2018-12-18 19:02:00 2018-12-18 19:10:00             7    1565   \n",
       "109957 2018-10-09 12:37:00 2018-10-09 12:55:00            18    2231   \n",
       "428082 2018-11-12 12:30:00 2018-11-12 12:40:00             9    4226   \n",
       "395437 2018-11-07 07:29:00 2018-11-07 07:35:00             6    3475   \n",
       "\n",
       "        tripduration  from_station_id              from_station_name  \\\n",
       "439283           436              319  Greenview Ave & Diversey Pkwy   \n",
       "603317           445              164          Franklin St & Lake St   \n",
       "109957          1090              163       Damen Ave & Clybourn Ave   \n",
       "428082           581              226       Racine Ave & Belmont Ave   \n",
       "395437           390               77        Clinton St & Madison St   \n",
       "\n",
       "        to_station_id                to_station_name    usertype  gender  \\\n",
       "439283             67  Sheffield Ave & Fullerton Ave  Subscriber    Male   \n",
       "603317            195      Columbus Dr & Randolph St  Subscriber    Male   \n",
       "109957             69         Damen Ave & Pierce Ave    Customer    Male   \n",
       "428082            308         Seeley Ave & Roscoe St  Subscriber  Female   \n",
       "395437            621      Aberdeen St & Randolph St  Subscriber    Male   \n",
       "\n",
       "        birthyear age  dayofweek  hour  \n",
       "439283     1982.0  37          2     7  \n",
       "603317     1988.0  31          1    19  \n",
       "109957     1989.0  30          1    12  \n",
       "428082     1989.0  30          0    12  \n",
       "395437     1979.0  40          2     7  "
      ]
     },
     "execution_count": 330,
     "metadata": {},
     "output_type": "execute_result"
    }
   ],
   "source": [
    "mb.head()"
   ]
  },
  {
   "cell_type": "markdown",
   "metadata": {},
   "source": [
    "### timeduration"
   ]
  },
  {
   "cell_type": "code",
   "execution_count": 331,
   "metadata": {},
   "outputs": [
    {
     "data": {
      "text/plain": [
       "count    6427.000000\n",
       "mean       11.778902\n",
       "std         9.692236\n",
       "min         0.000000\n",
       "25%         5.000000\n",
       "50%         9.000000\n",
       "75%        15.000000\n",
       "max        59.000000\n",
       "Name: timeduration, dtype: float64"
      ]
     },
     "execution_count": 331,
     "metadata": {},
     "output_type": "execute_result"
    }
   ],
   "source": [
    "# 查看timeduration的问题\n",
    "mb['timeduration'].describe()"
   ]
  },
  {
   "cell_type": "code",
   "execution_count": 332,
   "metadata": {},
   "outputs": [
    {
     "data": {
      "text/html": [
       "<div>\n",
       "<style scoped>\n",
       "    .dataframe tbody tr th:only-of-type {\n",
       "        vertical-align: middle;\n",
       "    }\n",
       "\n",
       "    .dataframe tbody tr th {\n",
       "        vertical-align: top;\n",
       "    }\n",
       "\n",
       "    .dataframe thead th {\n",
       "        text-align: right;\n",
       "    }\n",
       "</style>\n",
       "<table border=\"1\" class=\"dataframe\">\n",
       "  <thead>\n",
       "    <tr style=\"text-align: right;\">\n",
       "      <th></th>\n",
       "      <th>start_time</th>\n",
       "      <th>end_time</th>\n",
       "      <th>timeduration</th>\n",
       "      <th>bikeid</th>\n",
       "      <th>tripduration</th>\n",
       "      <th>from_station_id</th>\n",
       "      <th>from_station_name</th>\n",
       "      <th>to_station_id</th>\n",
       "      <th>to_station_name</th>\n",
       "      <th>usertype</th>\n",
       "      <th>gender</th>\n",
       "      <th>birthyear</th>\n",
       "      <th>age</th>\n",
       "      <th>dayofweek</th>\n",
       "      <th>hour</th>\n",
       "    </tr>\n",
       "  </thead>\n",
       "  <tbody>\n",
       "    <tr>\n",
       "      <th>109113</th>\n",
       "      <td>2018-10-09 11:29:00</td>\n",
       "      <td>2018-10-09 12:29:00</td>\n",
       "      <td>0</td>\n",
       "      <td>4875</td>\n",
       "      <td>3616</td>\n",
       "      <td>225</td>\n",
       "      <td>Halsted St &amp; Dickens Ave</td>\n",
       "      <td>172</td>\n",
       "      <td>Rush St &amp; Cedar St</td>\n",
       "      <td>Customer</td>\n",
       "      <td>NaN</td>\n",
       "      <td>NaN</td>\n",
       "      <td></td>\n",
       "      <td>1</td>\n",
       "      <td>11</td>\n",
       "    </tr>\n",
       "    <tr>\n",
       "      <th>72232</th>\n",
       "      <td>2018-10-06 10:15:00</td>\n",
       "      <td>2018-10-06 11:15:00</td>\n",
       "      <td>0</td>\n",
       "      <td>4733</td>\n",
       "      <td>3606</td>\n",
       "      <td>419</td>\n",
       "      <td>Lake Park Ave &amp; 53rd St</td>\n",
       "      <td>76</td>\n",
       "      <td>Lake Shore Dr &amp; Monroe St</td>\n",
       "      <td>Customer</td>\n",
       "      <td>NaN</td>\n",
       "      <td>NaN</td>\n",
       "      <td></td>\n",
       "      <td>5</td>\n",
       "      <td>10</td>\n",
       "    </tr>\n",
       "    <tr>\n",
       "      <th>69595</th>\n",
       "      <td>2018-10-05 18:27:00</td>\n",
       "      <td>2018-10-05 19:28:00</td>\n",
       "      <td>0</td>\n",
       "      <td>2064</td>\n",
       "      <td>3650</td>\n",
       "      <td>50</td>\n",
       "      <td>Clark St &amp; Congress Pkwy</td>\n",
       "      <td>283</td>\n",
       "      <td>LaSalle St &amp; Jackson Blvd</td>\n",
       "      <td>Customer</td>\n",
       "      <td>Male</td>\n",
       "      <td>1989.0</td>\n",
       "      <td>30</td>\n",
       "      <td>4</td>\n",
       "      <td>18</td>\n",
       "    </tr>\n",
       "    <tr>\n",
       "      <th>302629</th>\n",
       "      <td>2018-10-27 15:33:00</td>\n",
       "      <td>2018-10-27 16:34:00</td>\n",
       "      <td>0</td>\n",
       "      <td>5051</td>\n",
       "      <td>3634</td>\n",
       "      <td>3</td>\n",
       "      <td>Shedd Aquarium</td>\n",
       "      <td>199</td>\n",
       "      <td>Wabash Ave &amp; Grand Ave</td>\n",
       "      <td>Customer</td>\n",
       "      <td>NaN</td>\n",
       "      <td>NaN</td>\n",
       "      <td></td>\n",
       "      <td>5</td>\n",
       "      <td>15</td>\n",
       "    </tr>\n",
       "    <tr>\n",
       "      <th>592619</th>\n",
       "      <td>2018-12-17 09:17:00</td>\n",
       "      <td>2018-12-17 10:18:00</td>\n",
       "      <td>0</td>\n",
       "      <td>4316</td>\n",
       "      <td>3652</td>\n",
       "      <td>99</td>\n",
       "      <td>Lake Shore Dr &amp; Ohio St</td>\n",
       "      <td>96</td>\n",
       "      <td>Desplaines St &amp; Randolph St</td>\n",
       "      <td>Subscriber</td>\n",
       "      <td>Male</td>\n",
       "      <td>1988.0</td>\n",
       "      <td>31</td>\n",
       "      <td>0</td>\n",
       "      <td>9</td>\n",
       "    </tr>\n",
       "  </tbody>\n",
       "</table>\n",
       "</div>"
      ],
      "text/plain": [
       "                start_time            end_time  timeduration  bikeid  \\\n",
       "109113 2018-10-09 11:29:00 2018-10-09 12:29:00             0    4875   \n",
       "72232  2018-10-06 10:15:00 2018-10-06 11:15:00             0    4733   \n",
       "69595  2018-10-05 18:27:00 2018-10-05 19:28:00             0    2064   \n",
       "302629 2018-10-27 15:33:00 2018-10-27 16:34:00             0    5051   \n",
       "592619 2018-12-17 09:17:00 2018-12-17 10:18:00             0    4316   \n",
       "\n",
       "        tripduration  from_station_id         from_station_name  \\\n",
       "109113          3616              225  Halsted St & Dickens Ave   \n",
       "72232           3606              419   Lake Park Ave & 53rd St   \n",
       "69595           3650               50  Clark St & Congress Pkwy   \n",
       "302629          3634                3            Shedd Aquarium   \n",
       "592619          3652               99   Lake Shore Dr & Ohio St   \n",
       "\n",
       "        to_station_id              to_station_name    usertype gender  \\\n",
       "109113            172           Rush St & Cedar St    Customer    NaN   \n",
       "72232              76    Lake Shore Dr & Monroe St    Customer    NaN   \n",
       "69595             283    LaSalle St & Jackson Blvd    Customer   Male   \n",
       "302629            199       Wabash Ave & Grand Ave    Customer    NaN   \n",
       "592619             96  Desplaines St & Randolph St  Subscriber   Male   \n",
       "\n",
       "        birthyear age  dayofweek  hour  \n",
       "109113        NaN              1    11  \n",
       "72232         NaN              5    10  \n",
       "69595      1989.0  30          4    18  \n",
       "302629        NaN              5    15  \n",
       "592619     1988.0  31          0     9  "
      ]
     },
     "execution_count": 332,
     "metadata": {},
     "output_type": "execute_result"
    }
   ],
   "source": [
    "mb[mb['timeduration']<1]"
   ]
  },
  {
   "cell_type": "markdown",
   "metadata": {},
   "source": [
    "- 看start_time和end_time和timeduration,发现用户骑行了1小时，但timeduration却是0，因此把timeduration为0改为60"
   ]
  },
  {
   "cell_type": "code",
   "execution_count": 333,
   "metadata": {},
   "outputs": [],
   "source": [
    "mb['timeduration'] = mb['timeduration'].replace(0, 60)"
   ]
  },
  {
   "cell_type": "code",
   "execution_count": 334,
   "metadata": {},
   "outputs": [
    {
     "data": {
      "text/plain": [
       "count    6427.000000\n",
       "mean       11.825580\n",
       "std         9.779498\n",
       "min         1.000000\n",
       "25%         5.000000\n",
       "50%         9.000000\n",
       "75%        15.000000\n",
       "max        60.000000\n",
       "Name: timeduration, dtype: float64"
      ]
     },
     "execution_count": 334,
     "metadata": {},
     "output_type": "execute_result"
    }
   ],
   "source": [
    "mb['timeduration'].describe()"
   ]
  },
  {
   "cell_type": "code",
   "execution_count": 335,
   "metadata": {},
   "outputs": [
    {
     "data": {
      "text/plain": [
       "<matplotlib.axes._subplots.AxesSubplot at 0x21500d65d68>"
      ]
     },
     "execution_count": 335,
     "metadata": {},
     "output_type": "execute_result"
    },
    {
     "data": {
      "image/png": "[encoded data removed]",
      "text/plain": [
       "<Figure size 432x288 with 1 Axes>"
      ]
     },
     "metadata": {
      "needs_background": "light"
     },
     "output_type": "display_data"
    }
   ],
   "source": [
    "sns.boxplot(y=mb['timeduration'])"
   ]
  },
  {
   "cell_type": "markdown",
   "metadata": {},
   "source": [
    "- 存在异常值"
   ]
  },
  {
   "cell_type": "markdown",
   "metadata": {},
   "source": [
    "### tripduration"
   ]
  },
  {
   "cell_type": "code",
   "execution_count": 336,
   "metadata": {},
   "outputs": [
    {
     "data": {
      "text/plain": [
       "count    6.427000e+03\n",
       "mean     1.060471e+03\n",
       "std      1.456811e+04\n",
       "min      6.100000e+01\n",
       "25%      3.490000e+02\n",
       "50%      5.590000e+02\n",
       "75%      9.320000e+02\n",
       "max      1.139070e+06\n",
       "Name: tripduration, dtype: float64"
      ]
     },
     "execution_count": 336,
     "metadata": {},
     "output_type": "execute_result"
    }
   ],
   "source": [
    "mb['tripduration'].describe()"
   ]
  },
  {
   "cell_type": "code",
   "execution_count": 337,
   "metadata": {},
   "outputs": [
    {
     "data": {
      "text/plain": [
       "<matplotlib.axes._subplots.AxesSubplot at 0x21500cbdda0>"
      ]
     },
     "execution_count": 337,
     "metadata": {},
     "output_type": "execute_result"
    },
    {
     "data": {
      "image/png": "[encoded data removed]",
      "text/plain": [
       "<Figure size 432x288 with 1 Axes>"
      ]
     },
     "metadata": {
      "needs_background": "light"
     },
     "output_type": "display_data"
    }
   ],
   "source": [
    "sns.boxplot(y = mb['tripduration'])"
   ]
  },
  {
   "cell_type": "markdown",
   "metadata": {},
   "source": [
    "- tripduration的标准差太大了，存在异常值"
   ]
  },
  {
   "cell_type": "markdown",
   "metadata": {},
   "source": [
    "### from_station_id&to_station_id"
   ]
  },
  {
   "cell_type": "code",
   "execution_count": 338,
   "metadata": {},
   "outputs": [],
   "source": [
    "# from_station_id和to_station_id的类型改为str\n",
    "mb['from_station_id'] = mb['from_station_id'].astype(str)\n",
    "mb['to_station_id'] = mb['to_station_id'].astype(str)"
   ]
  },
  {
   "cell_type": "markdown",
   "metadata": {},
   "source": [
    "### usertype"
   ]
  },
  {
   "cell_type": "code",
   "execution_count": 339,
   "metadata": {},
   "outputs": [
    {
     "data": {
      "text/plain": [
       "array(['Subscriber', 'Customer'], dtype=object)"
      ]
     },
     "execution_count": 339,
     "metadata": {},
     "output_type": "execute_result"
    }
   ],
   "source": [
    "# 查看usertype是否有大小写拼写不一致\n",
    "mb['usertype'].unique()"
   ]
  },
  {
   "cell_type": "markdown",
   "metadata": {},
   "source": [
    "### gender"
   ]
  },
  {
   "cell_type": "code",
   "execution_count": 340,
   "metadata": {},
   "outputs": [
    {
     "data": {
      "text/plain": [
       "array(['Male', 'Female', nan], dtype=object)"
      ]
     },
     "execution_count": 340,
     "metadata": {},
     "output_type": "execute_result"
    }
   ],
   "source": [
    "# gender\n",
    "mb['gender'].unique()"
   ]
  },
  {
   "cell_type": "code",
   "execution_count": 341,
   "metadata": {},
   "outputs": [],
   "source": [
    "# 把gender的缺失值替换为Unknown\n",
    "mb['gender'] = mb['gender'].fillna('Unknown')"
   ]
  },
  {
   "cell_type": "markdown",
   "metadata": {},
   "source": [
    "### age"
   ]
  },
  {
   "cell_type": "code",
   "execution_count": 342,
   "metadata": {},
   "outputs": [
    {
     "ename": "ValueError",
     "evalue": "invalid literal for int() with base 10: ' '",
     "output_type": "error",
     "traceback": [
      "\u001b[1;31m---------------------------------------------------------------------------\u001b[0m",
      "\u001b[1;31mValueError\u001b[0m                                Traceback (most recent call last)",
      "\u001b[1;32m<ipython-input-342-19cb78561784>\u001b[0m in \u001b[0;36m<module>\u001b[1;34m\u001b[0m\n\u001b[0;32m      1\u001b[0m \u001b[1;31m# birthyear存在缺失值和异常值，但是age可以表示年龄信息，因此可以删除birthyear，保留age,并修改age的数据类型为int\u001b[0m\u001b[1;33m\u001b[0m\u001b[1;33m\u001b[0m\u001b[1;33m\u001b[0m\u001b[0m\n\u001b[1;32m----> 2\u001b[1;33m \u001b[0mmb\u001b[0m\u001b[1;33m[\u001b[0m\u001b[1;34m'age'\u001b[0m\u001b[1;33m]\u001b[0m \u001b[1;33m=\u001b[0m \u001b[0mmb\u001b[0m\u001b[1;33m[\u001b[0m\u001b[1;34m'age'\u001b[0m\u001b[1;33m]\u001b[0m\u001b[1;33m.\u001b[0m\u001b[0mastype\u001b[0m\u001b[1;33m(\u001b[0m\u001b[0mint\u001b[0m\u001b[1;33m)\u001b[0m\u001b[1;33m\u001b[0m\u001b[1;33m\u001b[0m\u001b[0m\n\u001b[0m",
      "\u001b[1;32md:\\program files\\python37\\lib\\site-packages\\pandas\\core\\generic.py\u001b[0m in \u001b[0;36mastype\u001b[1;34m(self, dtype, copy, errors, **kwargs)\u001b[0m\n\u001b[0;32m   5689\u001b[0m             \u001b[1;31m# else, only a single dtype is given\u001b[0m\u001b[1;33m\u001b[0m\u001b[1;33m\u001b[0m\u001b[1;33m\u001b[0m\u001b[0m\n\u001b[0;32m   5690\u001b[0m             new_data = self._data.astype(dtype=dtype, copy=copy, errors=errors,\n\u001b[1;32m-> 5691\u001b[1;33m                                          **kwargs)\n\u001b[0m\u001b[0;32m   5692\u001b[0m             \u001b[1;32mreturn\u001b[0m \u001b[0mself\u001b[0m\u001b[1;33m.\u001b[0m\u001b[0m_constructor\u001b[0m\u001b[1;33m(\u001b[0m\u001b[0mnew_data\u001b[0m\u001b[1;33m)\u001b[0m\u001b[1;33m.\u001b[0m\u001b[0m__finalize__\u001b[0m\u001b[1;33m(\u001b[0m\u001b[0mself\u001b[0m\u001b[1;33m)\u001b[0m\u001b[1;33m\u001b[0m\u001b[1;33m\u001b[0m\u001b[0m\n\u001b[0;32m   5693\u001b[0m \u001b[1;33m\u001b[0m\u001b[0m\n",
      "\u001b[1;32md:\\program files\\python37\\lib\\site-packages\\pandas\\core\\internals\\managers.py\u001b[0m in \u001b[0;36mastype\u001b[1;34m(self, dtype, **kwargs)\u001b[0m\n\u001b[0;32m    529\u001b[0m \u001b[1;33m\u001b[0m\u001b[0m\n\u001b[0;32m    530\u001b[0m     \u001b[1;32mdef\u001b[0m \u001b[0mastype\u001b[0m\u001b[1;33m(\u001b[0m\u001b[0mself\u001b[0m\u001b[1;33m,\u001b[0m \u001b[0mdtype\u001b[0m\u001b[1;33m,\u001b[0m \u001b[1;33m**\u001b[0m\u001b[0mkwargs\u001b[0m\u001b[1;33m)\u001b[0m\u001b[1;33m:\u001b[0m\u001b[1;33m\u001b[0m\u001b[1;33m\u001b[0m\u001b[0m\n\u001b[1;32m--> 531\u001b[1;33m         \u001b[1;32mreturn\u001b[0m \u001b[0mself\u001b[0m\u001b[1;33m.\u001b[0m\u001b[0mapply\u001b[0m\u001b[1;33m(\u001b[0m\u001b[1;34m'astype'\u001b[0m\u001b[1;33m,\u001b[0m \u001b[0mdtype\u001b[0m\u001b[1;33m=\u001b[0m\u001b[0mdtype\u001b[0m\u001b[1;33m,\u001b[0m \u001b[1;33m**\u001b[0m\u001b[0mkwargs\u001b[0m\u001b[1;33m)\u001b[0m\u001b[1;33m\u001b[0m\u001b[1;33m\u001b[0m\u001b[0m\n\u001b[0m\u001b[0;32m    532\u001b[0m \u001b[1;33m\u001b[0m\u001b[0m\n\u001b[0;32m    533\u001b[0m     \u001b[1;32mdef\u001b[0m \u001b[0mconvert\u001b[0m\u001b[1;33m(\u001b[0m\u001b[0mself\u001b[0m\u001b[1;33m,\u001b[0m \u001b[1;33m**\u001b[0m\u001b[0mkwargs\u001b[0m\u001b[1;33m)\u001b[0m\u001b[1;33m:\u001b[0m\u001b[1;33m\u001b[0m\u001b[1;33m\u001b[0m\u001b[0m\n",
      "\u001b[1;32md:\\program files\\python37\\lib\\site-packages\\pandas\\core\\internals\\managers.py\u001b[0m in \u001b[0;36mapply\u001b[1;34m(self, f, axes, filter, do_integrity_check, consolidate, **kwargs)\u001b[0m\n\u001b[0;32m    393\u001b[0m                                             copy=align_copy)\n\u001b[0;32m    394\u001b[0m \u001b[1;33m\u001b[0m\u001b[0m\n\u001b[1;32m--> 395\u001b[1;33m             \u001b[0mapplied\u001b[0m \u001b[1;33m=\u001b[0m \u001b[0mgetattr\u001b[0m\u001b[1;33m(\u001b[0m\u001b[0mb\u001b[0m\u001b[1;33m,\u001b[0m \u001b[0mf\u001b[0m\u001b[1;33m)\u001b[0m\u001b[1;33m(\u001b[0m\u001b[1;33m**\u001b[0m\u001b[0mkwargs\u001b[0m\u001b[1;33m)\u001b[0m\u001b[1;33m\u001b[0m\u001b[1;33m\u001b[0m\u001b[0m\n\u001b[0m\u001b[0;32m    396\u001b[0m             \u001b[0mresult_blocks\u001b[0m \u001b[1;33m=\u001b[0m \u001b[0m_extend_blocks\u001b[0m\u001b[1;33m(\u001b[0m\u001b[0mapplied\u001b[0m\u001b[1;33m,\u001b[0m \u001b[0mresult_blocks\u001b[0m\u001b[1;33m)\u001b[0m\u001b[1;33m\u001b[0m\u001b[1;33m\u001b[0m\u001b[0m\n\u001b[0;32m    397\u001b[0m \u001b[1;33m\u001b[0m\u001b[0m\n",
      "\u001b[1;32md:\\program files\\python37\\lib\\site-packages\\pandas\\core\\internals\\blocks.py\u001b[0m in \u001b[0;36mastype\u001b[1;34m(self, dtype, copy, errors, values, **kwargs)\u001b[0m\n\u001b[0;32m    532\u001b[0m     \u001b[1;32mdef\u001b[0m \u001b[0mastype\u001b[0m\u001b[1;33m(\u001b[0m\u001b[0mself\u001b[0m\u001b[1;33m,\u001b[0m \u001b[0mdtype\u001b[0m\u001b[1;33m,\u001b[0m \u001b[0mcopy\u001b[0m\u001b[1;33m=\u001b[0m\u001b[1;32mFalse\u001b[0m\u001b[1;33m,\u001b[0m \u001b[0merrors\u001b[0m\u001b[1;33m=\u001b[0m\u001b[1;34m'raise'\u001b[0m\u001b[1;33m,\u001b[0m \u001b[0mvalues\u001b[0m\u001b[1;33m=\u001b[0m\u001b[1;32mNone\u001b[0m\u001b[1;33m,\u001b[0m \u001b[1;33m**\u001b[0m\u001b[0mkwargs\u001b[0m\u001b[1;33m)\u001b[0m\u001b[1;33m:\u001b[0m\u001b[1;33m\u001b[0m\u001b[1;33m\u001b[0m\u001b[0m\n\u001b[0;32m    533\u001b[0m         return self._astype(dtype, copy=copy, errors=errors, values=values,\n\u001b[1;32m--> 534\u001b[1;33m                             **kwargs)\n\u001b[0m\u001b[0;32m    535\u001b[0m \u001b[1;33m\u001b[0m\u001b[0m\n\u001b[0;32m    536\u001b[0m     def _astype(self, dtype, copy=False, errors='raise', values=None,\n",
      "\u001b[1;32md:\\program files\\python37\\lib\\site-packages\\pandas\\core\\internals\\blocks.py\u001b[0m in \u001b[0;36m_astype\u001b[1;34m(self, dtype, copy, errors, values, **kwargs)\u001b[0m\n\u001b[0;32m    631\u001b[0m \u001b[1;33m\u001b[0m\u001b[0m\n\u001b[0;32m    632\u001b[0m                     \u001b[1;31m# _astype_nansafe works fine with 1-d only\u001b[0m\u001b[1;33m\u001b[0m\u001b[1;33m\u001b[0m\u001b[1;33m\u001b[0m\u001b[0m\n\u001b[1;32m--> 633\u001b[1;33m                     \u001b[0mvalues\u001b[0m \u001b[1;33m=\u001b[0m \u001b[0mastype_nansafe\u001b[0m\u001b[1;33m(\u001b[0m\u001b[0mvalues\u001b[0m\u001b[1;33m.\u001b[0m\u001b[0mravel\u001b[0m\u001b[1;33m(\u001b[0m\u001b[1;33m)\u001b[0m\u001b[1;33m,\u001b[0m \u001b[0mdtype\u001b[0m\u001b[1;33m,\u001b[0m \u001b[0mcopy\u001b[0m\u001b[1;33m=\u001b[0m\u001b[1;32mTrue\u001b[0m\u001b[1;33m)\u001b[0m\u001b[1;33m\u001b[0m\u001b[1;33m\u001b[0m\u001b[0m\n\u001b[0m\u001b[0;32m    634\u001b[0m \u001b[1;33m\u001b[0m\u001b[0m\n\u001b[0;32m    635\u001b[0m                 \u001b[1;31m# TODO(extension)\u001b[0m\u001b[1;33m\u001b[0m\u001b[1;33m\u001b[0m\u001b[1;33m\u001b[0m\u001b[0m\n",
      "\u001b[1;32md:\\program files\\python37\\lib\\site-packages\\pandas\\core\\dtypes\\cast.py\u001b[0m in \u001b[0;36mastype_nansafe\u001b[1;34m(arr, dtype, copy, skipna)\u001b[0m\n\u001b[0;32m    681\u001b[0m         \u001b[1;31m# work around NumPy brokenness, #1987\u001b[0m\u001b[1;33m\u001b[0m\u001b[1;33m\u001b[0m\u001b[1;33m\u001b[0m\u001b[0m\n\u001b[0;32m    682\u001b[0m         \u001b[1;32mif\u001b[0m \u001b[0mnp\u001b[0m\u001b[1;33m.\u001b[0m\u001b[0missubdtype\u001b[0m\u001b[1;33m(\u001b[0m\u001b[0mdtype\u001b[0m\u001b[1;33m.\u001b[0m\u001b[0mtype\u001b[0m\u001b[1;33m,\u001b[0m \u001b[0mnp\u001b[0m\u001b[1;33m.\u001b[0m\u001b[0minteger\u001b[0m\u001b[1;33m)\u001b[0m\u001b[1;33m:\u001b[0m\u001b[1;33m\u001b[0m\u001b[1;33m\u001b[0m\u001b[0m\n\u001b[1;32m--> 683\u001b[1;33m             \u001b[1;32mreturn\u001b[0m \u001b[0mlib\u001b[0m\u001b[1;33m.\u001b[0m\u001b[0mastype_intsafe\u001b[0m\u001b[1;33m(\u001b[0m\u001b[0marr\u001b[0m\u001b[1;33m.\u001b[0m\u001b[0mravel\u001b[0m\u001b[1;33m(\u001b[0m\u001b[1;33m)\u001b[0m\u001b[1;33m,\u001b[0m \u001b[0mdtype\u001b[0m\u001b[1;33m)\u001b[0m\u001b[1;33m.\u001b[0m\u001b[0mreshape\u001b[0m\u001b[1;33m(\u001b[0m\u001b[0marr\u001b[0m\u001b[1;33m.\u001b[0m\u001b[0mshape\u001b[0m\u001b[1;33m)\u001b[0m\u001b[1;33m\u001b[0m\u001b[1;33m\u001b[0m\u001b[0m\n\u001b[0m\u001b[0;32m    684\u001b[0m \u001b[1;33m\u001b[0m\u001b[0m\n\u001b[0;32m    685\u001b[0m         \u001b[1;31m# if we have a datetime/timedelta array of objects\u001b[0m\u001b[1;33m\u001b[0m\u001b[1;33m\u001b[0m\u001b[1;33m\u001b[0m\u001b[0m\n",
      "\u001b[1;32mpandas\\_libs\\lib.pyx\u001b[0m in \u001b[0;36mpandas._libs.lib.astype_intsafe\u001b[1;34m()\u001b[0m\n",
      "\u001b[1;31mValueError\u001b[0m: invalid literal for int() with base 10: ' '"
     ]
    }
   ],
   "source": [
    "# birthyear存在缺失值和异常值，但是age可以表示年龄信息，因此可以删除birthyear，保留age,并修改age的数据类型为int\n",
    "mb['age'] = mb['age'].astype(int)"
   ]
  },
  {
   "cell_type": "code",
   "execution_count": 343,
   "metadata": {},
   "outputs": [
    {
     "data": {
      "text/plain": [
       "array(['37', '31', '30', '40', '25', '48', ' ', '28', '27', '34', '33',\n",
       "       '26', '20', '23', '55', '22', '54', '52', '57', '29', '39', '51',\n",
       "       '32', '49', '43', '58', '42', '61', '35', '41', '63', '50', '38',\n",
       "       '36', '44', '62', '19', '59', '45', '46', '56', '21', '24', '47',\n",
       "       '66', '64', '77', '69', '60', '68', '70', '53', '113', '73', '18',\n",
       "       '67', '65', '71', '79', '17', '101', '74', '72'], dtype=object)"
      ]
     },
     "execution_count": 343,
     "metadata": {},
     "output_type": "execute_result"
    }
   ],
   "source": [
    "mb['age'].unique()"
   ]
  },
  {
   "cell_type": "markdown",
   "metadata": {},
   "source": [
    "- age有空格，可以考虑birthyear去补充空格"
   ]
  },
  {
   "cell_type": "code",
   "execution_count": 344,
   "metadata": {},
   "outputs": [
    {
     "data": {
      "text/html": [
       "<div>\n",
       "<style scoped>\n",
       "    .dataframe tbody tr th:only-of-type {\n",
       "        vertical-align: middle;\n",
       "    }\n",
       "\n",
       "    .dataframe tbody tr th {\n",
       "        vertical-align: top;\n",
       "    }\n",
       "\n",
       "    .dataframe thead th {\n",
       "        text-align: right;\n",
       "    }\n",
       "</style>\n",
       "<table border=\"1\" class=\"dataframe\">\n",
       "  <thead>\n",
       "    <tr style=\"text-align: right;\">\n",
       "      <th></th>\n",
       "      <th>start_time</th>\n",
       "      <th>end_time</th>\n",
       "      <th>timeduration</th>\n",
       "      <th>bikeid</th>\n",
       "      <th>tripduration</th>\n",
       "      <th>from_station_id</th>\n",
       "      <th>from_station_name</th>\n",
       "      <th>to_station_id</th>\n",
       "      <th>to_station_name</th>\n",
       "      <th>usertype</th>\n",
       "      <th>gender</th>\n",
       "      <th>birthyear</th>\n",
       "      <th>age</th>\n",
       "      <th>dayofweek</th>\n",
       "      <th>hour</th>\n",
       "    </tr>\n",
       "  </thead>\n",
       "  <tbody>\n",
       "    <tr>\n",
       "      <th>371796</th>\n",
       "      <td>2018-11-03 16:32:00</td>\n",
       "      <td>2018-11-03 16:54:00</td>\n",
       "      <td>22</td>\n",
       "      <td>983</td>\n",
       "      <td>1347</td>\n",
       "      <td>31</td>\n",
       "      <td>Franklin St &amp; Chicago Ave</td>\n",
       "      <td>315</td>\n",
       "      <td>Elston Ave &amp; Wabansia Ave</td>\n",
       "      <td>Customer</td>\n",
       "      <td>Unknown</td>\n",
       "      <td>NaN</td>\n",
       "      <td></td>\n",
       "      <td>5</td>\n",
       "      <td>16</td>\n",
       "    </tr>\n",
       "    <tr>\n",
       "      <th>80060</th>\n",
       "      <td>2018-10-07 07:31:00</td>\n",
       "      <td>2018-10-07 12:02:00</td>\n",
       "      <td>31</td>\n",
       "      <td>3552</td>\n",
       "      <td>16274</td>\n",
       "      <td>196</td>\n",
       "      <td>Cityfront Plaza Dr &amp; Pioneer Ct</td>\n",
       "      <td>45</td>\n",
       "      <td>Michigan Ave &amp; Congress Pkwy</td>\n",
       "      <td>Customer</td>\n",
       "      <td>Unknown</td>\n",
       "      <td>NaN</td>\n",
       "      <td></td>\n",
       "      <td>6</td>\n",
       "      <td>7</td>\n",
       "    </tr>\n",
       "    <tr>\n",
       "      <th>92242</th>\n",
       "      <td>2018-10-08 12:10:00</td>\n",
       "      <td>2018-10-08 12:18:00</td>\n",
       "      <td>7</td>\n",
       "      <td>1582</td>\n",
       "      <td>453</td>\n",
       "      <td>341</td>\n",
       "      <td>Adler Planetarium</td>\n",
       "      <td>3</td>\n",
       "      <td>Shedd Aquarium</td>\n",
       "      <td>Customer</td>\n",
       "      <td>Unknown</td>\n",
       "      <td>NaN</td>\n",
       "      <td></td>\n",
       "      <td>0</td>\n",
       "      <td>12</td>\n",
       "    </tr>\n",
       "    <tr>\n",
       "      <th>331956</th>\n",
       "      <td>2018-10-30 18:42:00</td>\n",
       "      <td>2018-10-30 18:59:00</td>\n",
       "      <td>17</td>\n",
       "      <td>6267</td>\n",
       "      <td>1056</td>\n",
       "      <td>128</td>\n",
       "      <td>Damen Ave &amp; Chicago Ave</td>\n",
       "      <td>342</td>\n",
       "      <td>Wolcott Ave &amp; Polk St</td>\n",
       "      <td>Customer</td>\n",
       "      <td>Unknown</td>\n",
       "      <td>NaN</td>\n",
       "      <td></td>\n",
       "      <td>1</td>\n",
       "      <td>18</td>\n",
       "    </tr>\n",
       "    <tr>\n",
       "      <th>208326</th>\n",
       "      <td>2018-10-18 10:52:00</td>\n",
       "      <td>2018-10-18 11:17:00</td>\n",
       "      <td>24</td>\n",
       "      <td>4129</td>\n",
       "      <td>1465</td>\n",
       "      <td>97</td>\n",
       "      <td>Field Museum</td>\n",
       "      <td>35</td>\n",
       "      <td>Streeter Dr &amp; Grand Ave</td>\n",
       "      <td>Customer</td>\n",
       "      <td>Unknown</td>\n",
       "      <td>NaN</td>\n",
       "      <td></td>\n",
       "      <td>3</td>\n",
       "      <td>10</td>\n",
       "    </tr>\n",
       "    <tr>\n",
       "      <th>26662</th>\n",
       "      <td>2018-10-02 18:01:00</td>\n",
       "      <td>2018-10-02 18:32:00</td>\n",
       "      <td>30</td>\n",
       "      <td>4866</td>\n",
       "      <td>1851</td>\n",
       "      <td>188</td>\n",
       "      <td>Greenview Ave &amp; Fullerton Ave</td>\n",
       "      <td>87</td>\n",
       "      <td>Racine Ave &amp; Fullerton Ave</td>\n",
       "      <td>Customer</td>\n",
       "      <td>Unknown</td>\n",
       "      <td>NaN</td>\n",
       "      <td></td>\n",
       "      <td>1</td>\n",
       "      <td>18</td>\n",
       "    </tr>\n",
       "    <tr>\n",
       "      <th>46950</th>\n",
       "      <td>2018-10-04 00:41:00</td>\n",
       "      <td>2018-10-04 00:57:00</td>\n",
       "      <td>15</td>\n",
       "      <td>5393</td>\n",
       "      <td>956</td>\n",
       "      <td>31</td>\n",
       "      <td>Franklin St &amp; Chicago Ave</td>\n",
       "      <td>181</td>\n",
       "      <td>LaSalle St &amp; Illinois St</td>\n",
       "      <td>Customer</td>\n",
       "      <td>Unknown</td>\n",
       "      <td>NaN</td>\n",
       "      <td></td>\n",
       "      <td>3</td>\n",
       "      <td>0</td>\n",
       "    </tr>\n",
       "    <tr>\n",
       "      <th>245767</th>\n",
       "      <td>2018-10-22 16:08:00</td>\n",
       "      <td>2018-10-22 16:38:00</td>\n",
       "      <td>30</td>\n",
       "      <td>2052</td>\n",
       "      <td>1815</td>\n",
       "      <td>268</td>\n",
       "      <td>Lake Shore Dr &amp; North Blvd</td>\n",
       "      <td>35</td>\n",
       "      <td>Streeter Dr &amp; Grand Ave</td>\n",
       "      <td>Customer</td>\n",
       "      <td>Unknown</td>\n",
       "      <td>NaN</td>\n",
       "      <td></td>\n",
       "      <td>0</td>\n",
       "      <td>16</td>\n",
       "    </tr>\n",
       "    <tr>\n",
       "      <th>355308</th>\n",
       "      <td>2018-11-01 20:26:00</td>\n",
       "      <td>2018-11-01 20:30:00</td>\n",
       "      <td>4</td>\n",
       "      <td>3718</td>\n",
       "      <td>265</td>\n",
       "      <td>114</td>\n",
       "      <td>Sheffield Ave &amp; Waveland Ave</td>\n",
       "      <td>229</td>\n",
       "      <td>Southport Ave &amp; Roscoe St</td>\n",
       "      <td>Customer</td>\n",
       "      <td>Unknown</td>\n",
       "      <td>NaN</td>\n",
       "      <td></td>\n",
       "      <td>3</td>\n",
       "      <td>20</td>\n",
       "    </tr>\n",
       "    <tr>\n",
       "      <th>459268</th>\n",
       "      <td>2018-11-17 03:34:00</td>\n",
       "      <td>2018-11-17 04:08:00</td>\n",
       "      <td>33</td>\n",
       "      <td>5867</td>\n",
       "      <td>2016</td>\n",
       "      <td>40</td>\n",
       "      <td>LaSalle St &amp; Adams St</td>\n",
       "      <td>33</td>\n",
       "      <td>State St &amp; Van Buren St</td>\n",
       "      <td>Customer</td>\n",
       "      <td>Unknown</td>\n",
       "      <td>NaN</td>\n",
       "      <td></td>\n",
       "      <td>5</td>\n",
       "      <td>3</td>\n",
       "    </tr>\n",
       "    <tr>\n",
       "      <th>398886</th>\n",
       "      <td>2018-11-07 14:48:00</td>\n",
       "      <td>2018-11-07 14:57:00</td>\n",
       "      <td>8</td>\n",
       "      <td>3209</td>\n",
       "      <td>518</td>\n",
       "      <td>181</td>\n",
       "      <td>LaSalle St &amp; Illinois St</td>\n",
       "      <td>54</td>\n",
       "      <td>Ogden Ave &amp; Chicago Ave</td>\n",
       "      <td>Customer</td>\n",
       "      <td>Unknown</td>\n",
       "      <td>NaN</td>\n",
       "      <td></td>\n",
       "      <td>2</td>\n",
       "      <td>14</td>\n",
       "    </tr>\n",
       "    <tr>\n",
       "      <th>422094</th>\n",
       "      <td>2018-11-11 10:23:00</td>\n",
       "      <td>2018-11-11 10:34:00</td>\n",
       "      <td>10</td>\n",
       "      <td>5868</td>\n",
       "      <td>622</td>\n",
       "      <td>394</td>\n",
       "      <td>Clark St &amp; 9th St (AMLI)</td>\n",
       "      <td>3</td>\n",
       "      <td>Shedd Aquarium</td>\n",
       "      <td>Customer</td>\n",
       "      <td>Unknown</td>\n",
       "      <td>NaN</td>\n",
       "      <td></td>\n",
       "      <td>6</td>\n",
       "      <td>10</td>\n",
       "    </tr>\n",
       "    <tr>\n",
       "      <th>169872</th>\n",
       "      <td>2018-10-14 19:33:00</td>\n",
       "      <td>2018-10-14 20:13:00</td>\n",
       "      <td>40</td>\n",
       "      <td>5091</td>\n",
       "      <td>2408</td>\n",
       "      <td>210</td>\n",
       "      <td>Ashland Ave &amp; Division St</td>\n",
       "      <td>125</td>\n",
       "      <td>Rush St &amp; Hubbard St</td>\n",
       "      <td>Customer</td>\n",
       "      <td>Unknown</td>\n",
       "      <td>NaN</td>\n",
       "      <td></td>\n",
       "      <td>6</td>\n",
       "      <td>19</td>\n",
       "    </tr>\n",
       "    <tr>\n",
       "      <th>110061</th>\n",
       "      <td>2018-10-09 12:46:00</td>\n",
       "      <td>2018-10-09 14:24:00</td>\n",
       "      <td>38</td>\n",
       "      <td>401</td>\n",
       "      <td>5889</td>\n",
       "      <td>461</td>\n",
       "      <td>Broadway &amp; Ridge Ave</td>\n",
       "      <td>177</td>\n",
       "      <td>Theater on the Lake</td>\n",
       "      <td>Customer</td>\n",
       "      <td>Unknown</td>\n",
       "      <td>NaN</td>\n",
       "      <td></td>\n",
       "      <td>1</td>\n",
       "      <td>12</td>\n",
       "    </tr>\n",
       "    <tr>\n",
       "      <th>481467</th>\n",
       "      <td>2018-11-21 15:08:00</td>\n",
       "      <td>2018-11-21 15:25:00</td>\n",
       "      <td>17</td>\n",
       "      <td>1284</td>\n",
       "      <td>1024</td>\n",
       "      <td>218</td>\n",
       "      <td>Wells St &amp; 19th St</td>\n",
       "      <td>120</td>\n",
       "      <td>Wentworth Ave &amp; Cermak Rd (Temp)</td>\n",
       "      <td>Customer</td>\n",
       "      <td>Unknown</td>\n",
       "      <td>NaN</td>\n",
       "      <td></td>\n",
       "      <td>2</td>\n",
       "      <td>15</td>\n",
       "    </tr>\n",
       "    <tr>\n",
       "      <th>237303</th>\n",
       "      <td>2018-10-21 16:33:00</td>\n",
       "      <td>2018-10-21 17:02:00</td>\n",
       "      <td>29</td>\n",
       "      <td>3019</td>\n",
       "      <td>1775</td>\n",
       "      <td>3</td>\n",
       "      <td>Shedd Aquarium</td>\n",
       "      <td>99</td>\n",
       "      <td>Lake Shore Dr &amp; Ohio St</td>\n",
       "      <td>Customer</td>\n",
       "      <td>Unknown</td>\n",
       "      <td>NaN</td>\n",
       "      <td></td>\n",
       "      <td>6</td>\n",
       "      <td>16</td>\n",
       "    </tr>\n",
       "    <tr>\n",
       "      <th>488835</th>\n",
       "      <td>2018-11-24 14:03:00</td>\n",
       "      <td>2018-11-24 14:15:00</td>\n",
       "      <td>12</td>\n",
       "      <td>3659</td>\n",
       "      <td>729</td>\n",
       "      <td>91</td>\n",
       "      <td>Clinton St &amp; Washington Blvd</td>\n",
       "      <td>215</td>\n",
       "      <td>Damen Ave &amp; Madison St</td>\n",
       "      <td>Customer</td>\n",
       "      <td>Unknown</td>\n",
       "      <td>NaN</td>\n",
       "      <td></td>\n",
       "      <td>5</td>\n",
       "      <td>14</td>\n",
       "    </tr>\n",
       "    <tr>\n",
       "      <th>627118</th>\n",
       "      <td>2018-12-24 11:10:00</td>\n",
       "      <td>2018-12-24 11:14:00</td>\n",
       "      <td>4</td>\n",
       "      <td>6225</td>\n",
       "      <td>286</td>\n",
       "      <td>225</td>\n",
       "      <td>Halsted St &amp; Dickens Ave</td>\n",
       "      <td>93</td>\n",
       "      <td>Sheffield Ave &amp; Willow St</td>\n",
       "      <td>Customer</td>\n",
       "      <td>Unknown</td>\n",
       "      <td>NaN</td>\n",
       "      <td></td>\n",
       "      <td>0</td>\n",
       "      <td>11</td>\n",
       "    </tr>\n",
       "    <tr>\n",
       "      <th>66861</th>\n",
       "      <td>2018-10-05 16:10:00</td>\n",
       "      <td>2018-10-05 16:40:00</td>\n",
       "      <td>29</td>\n",
       "      <td>1065</td>\n",
       "      <td>1765</td>\n",
       "      <td>62</td>\n",
       "      <td>McCormick Place</td>\n",
       "      <td>199</td>\n",
       "      <td>Wabash Ave &amp; Grand Ave</td>\n",
       "      <td>Customer</td>\n",
       "      <td>Unknown</td>\n",
       "      <td>NaN</td>\n",
       "      <td></td>\n",
       "      <td>4</td>\n",
       "      <td>16</td>\n",
       "    </tr>\n",
       "    <tr>\n",
       "      <th>314563</th>\n",
       "      <td>2018-10-29 13:56:00</td>\n",
       "      <td>2018-10-29 14:07:00</td>\n",
       "      <td>11</td>\n",
       "      <td>705</td>\n",
       "      <td>667</td>\n",
       "      <td>94</td>\n",
       "      <td>Clark St &amp; Armitage Ave</td>\n",
       "      <td>94</td>\n",
       "      <td>Clark St &amp; Armitage Ave</td>\n",
       "      <td>Customer</td>\n",
       "      <td>Unknown</td>\n",
       "      <td>NaN</td>\n",
       "      <td></td>\n",
       "      <td>0</td>\n",
       "      <td>13</td>\n",
       "    </tr>\n",
       "    <tr>\n",
       "      <th>205861</th>\n",
       "      <td>2018-10-18 07:46:00</td>\n",
       "      <td>2018-10-18 08:04:00</td>\n",
       "      <td>17</td>\n",
       "      <td>1460</td>\n",
       "      <td>1057</td>\n",
       "      <td>129</td>\n",
       "      <td>Blue Island Ave &amp; 18th St</td>\n",
       "      <td>198</td>\n",
       "      <td>Green St &amp; Madison St</td>\n",
       "      <td>Customer</td>\n",
       "      <td>Unknown</td>\n",
       "      <td>NaN</td>\n",
       "      <td></td>\n",
       "      <td>3</td>\n",
       "      <td>7</td>\n",
       "    </tr>\n",
       "    <tr>\n",
       "      <th>285562</th>\n",
       "      <td>2018-10-25 20:16:00</td>\n",
       "      <td>2018-10-25 20:32:00</td>\n",
       "      <td>15</td>\n",
       "      <td>2782</td>\n",
       "      <td>946</td>\n",
       "      <td>490</td>\n",
       "      <td>Troy St &amp; Elston Ave</td>\n",
       "      <td>260</td>\n",
       "      <td>Kedzie Ave &amp; Milwaukee Ave</td>\n",
       "      <td>Customer</td>\n",
       "      <td>Unknown</td>\n",
       "      <td>NaN</td>\n",
       "      <td></td>\n",
       "      <td>3</td>\n",
       "      <td>20</td>\n",
       "    </tr>\n",
       "    <tr>\n",
       "      <th>290592</th>\n",
       "      <td>2018-10-26 12:19:00</td>\n",
       "      <td>2018-10-26 12:24:00</td>\n",
       "      <td>5</td>\n",
       "      <td>1195</td>\n",
       "      <td>334</td>\n",
       "      <td>425</td>\n",
       "      <td>Harper Ave &amp; 59th St</td>\n",
       "      <td>424</td>\n",
       "      <td>Museum of Science and Industry</td>\n",
       "      <td>Customer</td>\n",
       "      <td>Unknown</td>\n",
       "      <td>NaN</td>\n",
       "      <td></td>\n",
       "      <td>4</td>\n",
       "      <td>12</td>\n",
       "    </tr>\n",
       "    <tr>\n",
       "      <th>65964</th>\n",
       "      <td>2018-10-05 15:10:00</td>\n",
       "      <td>2018-10-05 17:50:00</td>\n",
       "      <td>39</td>\n",
       "      <td>2428</td>\n",
       "      <td>9579</td>\n",
       "      <td>142</td>\n",
       "      <td>McClurg Ct &amp; Erie St</td>\n",
       "      <td>641</td>\n",
       "      <td>Central Park Ave &amp; Bloomingdale Ave</td>\n",
       "      <td>Customer</td>\n",
       "      <td>Unknown</td>\n",
       "      <td>NaN</td>\n",
       "      <td></td>\n",
       "      <td>4</td>\n",
       "      <td>15</td>\n",
       "    </tr>\n",
       "    <tr>\n",
       "      <th>80246</th>\n",
       "      <td>2018-10-07 08:03:00</td>\n",
       "      <td>2018-10-07 08:21:00</td>\n",
       "      <td>17</td>\n",
       "      <td>3843</td>\n",
       "      <td>1048</td>\n",
       "      <td>284</td>\n",
       "      <td>Michigan Ave &amp; Jackson Blvd</td>\n",
       "      <td>44</td>\n",
       "      <td>State St &amp; Randolph St</td>\n",
       "      <td>Customer</td>\n",
       "      <td>Unknown</td>\n",
       "      <td>NaN</td>\n",
       "      <td></td>\n",
       "      <td>6</td>\n",
       "      <td>8</td>\n",
       "    </tr>\n",
       "    <tr>\n",
       "      <th>153504</th>\n",
       "      <td>2018-10-12 23:19:00</td>\n",
       "      <td>2018-10-12 23:44:00</td>\n",
       "      <td>25</td>\n",
       "      <td>2083</td>\n",
       "      <td>1536</td>\n",
       "      <td>302</td>\n",
       "      <td>Sheffield Ave &amp; Wrightwood Ave</td>\n",
       "      <td>256</td>\n",
       "      <td>Broadway &amp; Sheridan Rd</td>\n",
       "      <td>Customer</td>\n",
       "      <td>Unknown</td>\n",
       "      <td>NaN</td>\n",
       "      <td></td>\n",
       "      <td>4</td>\n",
       "      <td>23</td>\n",
       "    </tr>\n",
       "    <tr>\n",
       "      <th>258374</th>\n",
       "      <td>2018-10-23 16:17:00</td>\n",
       "      <td>2018-10-23 16:36:00</td>\n",
       "      <td>18</td>\n",
       "      <td>823</td>\n",
       "      <td>1132</td>\n",
       "      <td>303</td>\n",
       "      <td>Broadway &amp; Cornelia Ave</td>\n",
       "      <td>60</td>\n",
       "      <td>Dayton St &amp; North Ave</td>\n",
       "      <td>Customer</td>\n",
       "      <td>Unknown</td>\n",
       "      <td>NaN</td>\n",
       "      <td></td>\n",
       "      <td>1</td>\n",
       "      <td>16</td>\n",
       "    </tr>\n",
       "    <tr>\n",
       "      <th>99937</th>\n",
       "      <td>2018-10-08 18:07:00</td>\n",
       "      <td>2018-10-08 19:04:00</td>\n",
       "      <td>56</td>\n",
       "      <td>1204</td>\n",
       "      <td>3383</td>\n",
       "      <td>80</td>\n",
       "      <td>Aberdeen St &amp; Monroe St</td>\n",
       "      <td>80</td>\n",
       "      <td>Aberdeen St &amp; Monroe St</td>\n",
       "      <td>Customer</td>\n",
       "      <td>Unknown</td>\n",
       "      <td>NaN</td>\n",
       "      <td></td>\n",
       "      <td>0</td>\n",
       "      <td>18</td>\n",
       "    </tr>\n",
       "    <tr>\n",
       "      <th>279099</th>\n",
       "      <td>2018-10-25 11:29:00</td>\n",
       "      <td>2018-10-25 11:36:00</td>\n",
       "      <td>7</td>\n",
       "      <td>3048</td>\n",
       "      <td>449</td>\n",
       "      <td>51</td>\n",
       "      <td>Clark St &amp; Randolph St</td>\n",
       "      <td>43</td>\n",
       "      <td>Michigan Ave &amp; Washington St</td>\n",
       "      <td>Customer</td>\n",
       "      <td>Unknown</td>\n",
       "      <td>NaN</td>\n",
       "      <td></td>\n",
       "      <td>3</td>\n",
       "      <td>11</td>\n",
       "    </tr>\n",
       "    <tr>\n",
       "      <th>429616</th>\n",
       "      <td>2018-11-12 16:49:00</td>\n",
       "      <td>2018-11-12 16:53:00</td>\n",
       "      <td>3</td>\n",
       "      <td>5396</td>\n",
       "      <td>212</td>\n",
       "      <td>638</td>\n",
       "      <td>Clinton St &amp; Jackson Blvd (*)</td>\n",
       "      <td>91</td>\n",
       "      <td>Clinton St &amp; Washington Blvd</td>\n",
       "      <td>Subscriber</td>\n",
       "      <td>Unknown</td>\n",
       "      <td>NaN</td>\n",
       "      <td></td>\n",
       "      <td>0</td>\n",
       "      <td>16</td>\n",
       "    </tr>\n",
       "    <tr>\n",
       "      <th>...</th>\n",
       "      <td>...</td>\n",
       "      <td>...</td>\n",
       "      <td>...</td>\n",
       "      <td>...</td>\n",
       "      <td>...</td>\n",
       "      <td>...</td>\n",
       "      <td>...</td>\n",
       "      <td>...</td>\n",
       "      <td>...</td>\n",
       "      <td>...</td>\n",
       "      <td>...</td>\n",
       "      <td>...</td>\n",
       "      <td>...</td>\n",
       "      <td>...</td>\n",
       "      <td>...</td>\n",
       "    </tr>\n",
       "    <tr>\n",
       "      <th>237038</th>\n",
       "      <td>2018-10-21 16:12:00</td>\n",
       "      <td>2018-10-21 16:23:00</td>\n",
       "      <td>11</td>\n",
       "      <td>5478</td>\n",
       "      <td>691</td>\n",
       "      <td>5</td>\n",
       "      <td>State St &amp; Harrison St</td>\n",
       "      <td>181</td>\n",
       "      <td>LaSalle St &amp; Illinois St</td>\n",
       "      <td>Customer</td>\n",
       "      <td>Unknown</td>\n",
       "      <td>NaN</td>\n",
       "      <td></td>\n",
       "      <td>6</td>\n",
       "      <td>16</td>\n",
       "    </tr>\n",
       "    <tr>\n",
       "      <th>76131</th>\n",
       "      <td>2018-10-06 15:39:00</td>\n",
       "      <td>2018-10-06 15:47:00</td>\n",
       "      <td>8</td>\n",
       "      <td>4275</td>\n",
       "      <td>480</td>\n",
       "      <td>46</td>\n",
       "      <td>Wells St &amp; Walton St</td>\n",
       "      <td>118</td>\n",
       "      <td>Sedgwick St &amp; North Ave</td>\n",
       "      <td>Customer</td>\n",
       "      <td>Unknown</td>\n",
       "      <td>NaN</td>\n",
       "      <td></td>\n",
       "      <td>5</td>\n",
       "      <td>15</td>\n",
       "    </tr>\n",
       "    <tr>\n",
       "      <th>609298</th>\n",
       "      <td>2018-12-19 17:10:00</td>\n",
       "      <td>2018-12-19 17:35:00</td>\n",
       "      <td>25</td>\n",
       "      <td>5468</td>\n",
       "      <td>1527</td>\n",
       "      <td>77</td>\n",
       "      <td>Clinton St &amp; Madison St</td>\n",
       "      <td>370</td>\n",
       "      <td>Calumet Ave &amp; 21st St</td>\n",
       "      <td>Customer</td>\n",
       "      <td>Unknown</td>\n",
       "      <td>NaN</td>\n",
       "      <td></td>\n",
       "      <td>2</td>\n",
       "      <td>17</td>\n",
       "    </tr>\n",
       "    <tr>\n",
       "      <th>302446</th>\n",
       "      <td>2018-10-27 15:19:00</td>\n",
       "      <td>2018-10-27 15:38:00</td>\n",
       "      <td>19</td>\n",
       "      <td>227</td>\n",
       "      <td>1166</td>\n",
       "      <td>341</td>\n",
       "      <td>Adler Planetarium</td>\n",
       "      <td>97</td>\n",
       "      <td>Field Museum</td>\n",
       "      <td>Customer</td>\n",
       "      <td>Unknown</td>\n",
       "      <td>NaN</td>\n",
       "      <td></td>\n",
       "      <td>5</td>\n",
       "      <td>15</td>\n",
       "    </tr>\n",
       "    <tr>\n",
       "      <th>46577</th>\n",
       "      <td>2018-10-03 22:19:00</td>\n",
       "      <td>2018-10-03 22:28:00</td>\n",
       "      <td>8</td>\n",
       "      <td>2982</td>\n",
       "      <td>526</td>\n",
       "      <td>17</td>\n",
       "      <td>Honore St &amp; Division St</td>\n",
       "      <td>309</td>\n",
       "      <td>Leavitt St &amp; Armitage Ave</td>\n",
       "      <td>Customer</td>\n",
       "      <td>Unknown</td>\n",
       "      <td>NaN</td>\n",
       "      <td></td>\n",
       "      <td>2</td>\n",
       "      <td>22</td>\n",
       "    </tr>\n",
       "    <tr>\n",
       "      <th>487492</th>\n",
       "      <td>2018-11-24 02:17:00</td>\n",
       "      <td>2018-11-24 02:49:00</td>\n",
       "      <td>32</td>\n",
       "      <td>4990</td>\n",
       "      <td>1930</td>\n",
       "      <td>20</td>\n",
       "      <td>Sheffield Ave &amp; Kingsbury St</td>\n",
       "      <td>485</td>\n",
       "      <td>Sawyer Ave &amp; Irving Park Rd</td>\n",
       "      <td>Customer</td>\n",
       "      <td>Unknown</td>\n",
       "      <td>NaN</td>\n",
       "      <td></td>\n",
       "      <td>5</td>\n",
       "      <td>2</td>\n",
       "    </tr>\n",
       "    <tr>\n",
       "      <th>227633</th>\n",
       "      <td>2018-10-20 09:05:00</td>\n",
       "      <td>2018-10-20 11:01:00</td>\n",
       "      <td>55</td>\n",
       "      <td>1405</td>\n",
       "      <td>6939</td>\n",
       "      <td>6</td>\n",
       "      <td>Dusable Harbor</td>\n",
       "      <td>6</td>\n",
       "      <td>Dusable Harbor</td>\n",
       "      <td>Customer</td>\n",
       "      <td>Unknown</td>\n",
       "      <td>NaN</td>\n",
       "      <td></td>\n",
       "      <td>5</td>\n",
       "      <td>9</td>\n",
       "    </tr>\n",
       "    <tr>\n",
       "      <th>588196</th>\n",
       "      <td>2018-12-16 14:03:00</td>\n",
       "      <td>2018-12-16 14:07:00</td>\n",
       "      <td>4</td>\n",
       "      <td>635</td>\n",
       "      <td>251</td>\n",
       "      <td>419</td>\n",
       "      <td>Lake Park Ave &amp; 53rd St</td>\n",
       "      <td>424</td>\n",
       "      <td>Museum of Science and Industry</td>\n",
       "      <td>Customer</td>\n",
       "      <td>Unknown</td>\n",
       "      <td>NaN</td>\n",
       "      <td></td>\n",
       "      <td>6</td>\n",
       "      <td>14</td>\n",
       "    </tr>\n",
       "    <tr>\n",
       "      <th>7876</th>\n",
       "      <td>2018-10-01 16:09:00</td>\n",
       "      <td>2018-10-01 16:31:00</td>\n",
       "      <td>22</td>\n",
       "      <td>3078</td>\n",
       "      <td>1323</td>\n",
       "      <td>232</td>\n",
       "      <td>Pine Grove Ave &amp; Waveland Ave</td>\n",
       "      <td>303</td>\n",
       "      <td>Broadway &amp; Cornelia Ave</td>\n",
       "      <td>Customer</td>\n",
       "      <td>Unknown</td>\n",
       "      <td>NaN</td>\n",
       "      <td></td>\n",
       "      <td>0</td>\n",
       "      <td>16</td>\n",
       "    </tr>\n",
       "    <tr>\n",
       "      <th>92928</th>\n",
       "      <td>2018-10-08 12:58:00</td>\n",
       "      <td>2018-10-08 15:09:00</td>\n",
       "      <td>11</td>\n",
       "      <td>3091</td>\n",
       "      <td>7872</td>\n",
       "      <td>35</td>\n",
       "      <td>Streeter Dr &amp; Grand Ave</td>\n",
       "      <td>76</td>\n",
       "      <td>Lake Shore Dr &amp; Monroe St</td>\n",
       "      <td>Customer</td>\n",
       "      <td>Unknown</td>\n",
       "      <td>NaN</td>\n",
       "      <td></td>\n",
       "      <td>0</td>\n",
       "      <td>12</td>\n",
       "    </tr>\n",
       "    <tr>\n",
       "      <th>623764</th>\n",
       "      <td>2018-12-22 14:34:00</td>\n",
       "      <td>2018-12-22 14:38:00</td>\n",
       "      <td>3</td>\n",
       "      <td>4916</td>\n",
       "      <td>236</td>\n",
       "      <td>53</td>\n",
       "      <td>Wells St &amp; Huron St</td>\n",
       "      <td>111</td>\n",
       "      <td>Sedgwick St &amp; Huron St</td>\n",
       "      <td>Customer</td>\n",
       "      <td>Unknown</td>\n",
       "      <td>NaN</td>\n",
       "      <td></td>\n",
       "      <td>5</td>\n",
       "      <td>14</td>\n",
       "    </tr>\n",
       "    <tr>\n",
       "      <th>584908</th>\n",
       "      <td>2018-12-15 15:28:00</td>\n",
       "      <td>2018-12-15 15:47:00</td>\n",
       "      <td>19</td>\n",
       "      <td>6390</td>\n",
       "      <td>1167</td>\n",
       "      <td>276</td>\n",
       "      <td>California Ave &amp; North Ave</td>\n",
       "      <td>377</td>\n",
       "      <td>Kedzie Ave &amp; Lake St</td>\n",
       "      <td>Customer</td>\n",
       "      <td>Unknown</td>\n",
       "      <td>NaN</td>\n",
       "      <td></td>\n",
       "      <td>5</td>\n",
       "      <td>15</td>\n",
       "    </tr>\n",
       "    <tr>\n",
       "      <th>72278</th>\n",
       "      <td>2018-10-06 10:19:00</td>\n",
       "      <td>2018-10-06 11:48:00</td>\n",
       "      <td>28</td>\n",
       "      <td>3348</td>\n",
       "      <td>5337</td>\n",
       "      <td>126</td>\n",
       "      <td>Clark St &amp; North Ave</td>\n",
       "      <td>24</td>\n",
       "      <td>Fairbanks Ct &amp; Grand Ave</td>\n",
       "      <td>Customer</td>\n",
       "      <td>Unknown</td>\n",
       "      <td>NaN</td>\n",
       "      <td></td>\n",
       "      <td>5</td>\n",
       "      <td>10</td>\n",
       "    </tr>\n",
       "    <tr>\n",
       "      <th>8306</th>\n",
       "      <td>2018-10-01 16:29:00</td>\n",
       "      <td>2018-10-01 17:02:00</td>\n",
       "      <td>32</td>\n",
       "      <td>3848</td>\n",
       "      <td>1957</td>\n",
       "      <td>355</td>\n",
       "      <td>South Shore Dr &amp; 67th St</td>\n",
       "      <td>417</td>\n",
       "      <td>Cornell Ave &amp; Hyde Park Blvd</td>\n",
       "      <td>Customer</td>\n",
       "      <td>Unknown</td>\n",
       "      <td>NaN</td>\n",
       "      <td></td>\n",
       "      <td>0</td>\n",
       "      <td>16</td>\n",
       "    </tr>\n",
       "    <tr>\n",
       "      <th>403142</th>\n",
       "      <td>2018-11-07 23:56:00</td>\n",
       "      <td>2018-11-08 00:02:00</td>\n",
       "      <td>6</td>\n",
       "      <td>3809</td>\n",
       "      <td>367</td>\n",
       "      <td>35</td>\n",
       "      <td>Streeter Dr &amp; Grand Ave</td>\n",
       "      <td>35</td>\n",
       "      <td>Streeter Dr &amp; Grand Ave</td>\n",
       "      <td>Customer</td>\n",
       "      <td>Unknown</td>\n",
       "      <td>NaN</td>\n",
       "      <td></td>\n",
       "      <td>2</td>\n",
       "      <td>23</td>\n",
       "    </tr>\n",
       "    <tr>\n",
       "      <th>238842</th>\n",
       "      <td>2018-10-21 20:27:00</td>\n",
       "      <td>2018-10-21 20:56:00</td>\n",
       "      <td>28</td>\n",
       "      <td>4334</td>\n",
       "      <td>1722</td>\n",
       "      <td>338</td>\n",
       "      <td>Calumet Ave &amp; 18th St</td>\n",
       "      <td>26</td>\n",
       "      <td>McClurg Ct &amp; Illinois St</td>\n",
       "      <td>Customer</td>\n",
       "      <td>Unknown</td>\n",
       "      <td>NaN</td>\n",
       "      <td></td>\n",
       "      <td>6</td>\n",
       "      <td>20</td>\n",
       "    </tr>\n",
       "    <tr>\n",
       "      <th>425160</th>\n",
       "      <td>2018-11-11 23:43:00</td>\n",
       "      <td>2018-11-11 23:48:00</td>\n",
       "      <td>5</td>\n",
       "      <td>6341</td>\n",
       "      <td>311</td>\n",
       "      <td>51</td>\n",
       "      <td>Clark St &amp; Randolph St</td>\n",
       "      <td>49</td>\n",
       "      <td>Dearborn St &amp; Monroe St</td>\n",
       "      <td>Customer</td>\n",
       "      <td>Unknown</td>\n",
       "      <td>NaN</td>\n",
       "      <td></td>\n",
       "      <td>6</td>\n",
       "      <td>23</td>\n",
       "    </tr>\n",
       "    <tr>\n",
       "      <th>74972</th>\n",
       "      <td>2018-10-06 14:05:00</td>\n",
       "      <td>2018-10-06 14:30:00</td>\n",
       "      <td>25</td>\n",
       "      <td>4507</td>\n",
       "      <td>1503</td>\n",
       "      <td>3</td>\n",
       "      <td>Shedd Aquarium</td>\n",
       "      <td>6</td>\n",
       "      <td>Dusable Harbor</td>\n",
       "      <td>Customer</td>\n",
       "      <td>Unknown</td>\n",
       "      <td>NaN</td>\n",
       "      <td></td>\n",
       "      <td>5</td>\n",
       "      <td>14</td>\n",
       "    </tr>\n",
       "    <tr>\n",
       "      <th>80023</th>\n",
       "      <td>2018-10-07 07:21:00</td>\n",
       "      <td>2018-10-07 07:46:00</td>\n",
       "      <td>24</td>\n",
       "      <td>68</td>\n",
       "      <td>1496</td>\n",
       "      <td>199</td>\n",
       "      <td>Wabash Ave &amp; Grand Ave</td>\n",
       "      <td>199</td>\n",
       "      <td>Wabash Ave &amp; Grand Ave</td>\n",
       "      <td>Customer</td>\n",
       "      <td>Unknown</td>\n",
       "      <td>NaN</td>\n",
       "      <td></td>\n",
       "      <td>6</td>\n",
       "      <td>7</td>\n",
       "    </tr>\n",
       "    <tr>\n",
       "      <th>92378</th>\n",
       "      <td>2018-10-08 12:19:00</td>\n",
       "      <td>2018-10-08 12:46:00</td>\n",
       "      <td>26</td>\n",
       "      <td>1582</td>\n",
       "      <td>1607</td>\n",
       "      <td>3</td>\n",
       "      <td>Shedd Aquarium</td>\n",
       "      <td>35</td>\n",
       "      <td>Streeter Dr &amp; Grand Ave</td>\n",
       "      <td>Customer</td>\n",
       "      <td>Unknown</td>\n",
       "      <td>NaN</td>\n",
       "      <td></td>\n",
       "      <td>0</td>\n",
       "      <td>12</td>\n",
       "    </tr>\n",
       "    <tr>\n",
       "      <th>205299</th>\n",
       "      <td>2018-10-18 07:14:00</td>\n",
       "      <td>2018-10-18 07:31:00</td>\n",
       "      <td>17</td>\n",
       "      <td>6188</td>\n",
       "      <td>1063</td>\n",
       "      <td>176</td>\n",
       "      <td>Clark St &amp; Elm St</td>\n",
       "      <td>47</td>\n",
       "      <td>State St &amp; Kinzie St</td>\n",
       "      <td>Customer</td>\n",
       "      <td>Unknown</td>\n",
       "      <td>NaN</td>\n",
       "      <td></td>\n",
       "      <td>3</td>\n",
       "      <td>7</td>\n",
       "    </tr>\n",
       "    <tr>\n",
       "      <th>233810</th>\n",
       "      <td>2018-10-21 10:49:00</td>\n",
       "      <td>2018-10-21 11:31:00</td>\n",
       "      <td>41</td>\n",
       "      <td>3475</td>\n",
       "      <td>2512</td>\n",
       "      <td>76</td>\n",
       "      <td>Lake Shore Dr &amp; Monroe St</td>\n",
       "      <td>117</td>\n",
       "      <td>Wilton Ave &amp; Belmont Ave</td>\n",
       "      <td>Customer</td>\n",
       "      <td>Unknown</td>\n",
       "      <td>NaN</td>\n",
       "      <td></td>\n",
       "      <td>6</td>\n",
       "      <td>10</td>\n",
       "    </tr>\n",
       "    <tr>\n",
       "      <th>6782</th>\n",
       "      <td>2018-10-01 14:59:00</td>\n",
       "      <td>2018-10-01 15:17:00</td>\n",
       "      <td>18</td>\n",
       "      <td>2566</td>\n",
       "      <td>1093</td>\n",
       "      <td>3</td>\n",
       "      <td>Shedd Aquarium</td>\n",
       "      <td>195</td>\n",
       "      <td>Columbus Dr &amp; Randolph St</td>\n",
       "      <td>Customer</td>\n",
       "      <td>Unknown</td>\n",
       "      <td>NaN</td>\n",
       "      <td></td>\n",
       "      <td>0</td>\n",
       "      <td>14</td>\n",
       "    </tr>\n",
       "    <tr>\n",
       "      <th>293844</th>\n",
       "      <td>2018-10-26 16:49:00</td>\n",
       "      <td>2018-10-26 17:22:00</td>\n",
       "      <td>32</td>\n",
       "      <td>3003</td>\n",
       "      <td>1965</td>\n",
       "      <td>77</td>\n",
       "      <td>Clinton St &amp; Madison St</td>\n",
       "      <td>324</td>\n",
       "      <td>Stockton Dr &amp; Wrightwood Ave</td>\n",
       "      <td>Customer</td>\n",
       "      <td>Unknown</td>\n",
       "      <td>NaN</td>\n",
       "      <td></td>\n",
       "      <td>4</td>\n",
       "      <td>16</td>\n",
       "    </tr>\n",
       "    <tr>\n",
       "      <th>547868</th>\n",
       "      <td>2018-12-08 14:44:00</td>\n",
       "      <td>2018-12-08 15:20:00</td>\n",
       "      <td>35</td>\n",
       "      <td>4439</td>\n",
       "      <td>2107</td>\n",
       "      <td>293</td>\n",
       "      <td>Broadway &amp; Wilson Ave</td>\n",
       "      <td>69</td>\n",
       "      <td>Damen Ave &amp; Pierce Ave</td>\n",
       "      <td>Customer</td>\n",
       "      <td>Unknown</td>\n",
       "      <td>NaN</td>\n",
       "      <td></td>\n",
       "      <td>5</td>\n",
       "      <td>14</td>\n",
       "    </tr>\n",
       "    <tr>\n",
       "      <th>306859</th>\n",
       "      <td>2018-10-28 12:24:00</td>\n",
       "      <td>2018-10-28 12:45:00</td>\n",
       "      <td>20</td>\n",
       "      <td>718</td>\n",
       "      <td>1255</td>\n",
       "      <td>284</td>\n",
       "      <td>Michigan Ave &amp; Jackson Blvd</td>\n",
       "      <td>97</td>\n",
       "      <td>Field Museum</td>\n",
       "      <td>Customer</td>\n",
       "      <td>Unknown</td>\n",
       "      <td>NaN</td>\n",
       "      <td></td>\n",
       "      <td>6</td>\n",
       "      <td>12</td>\n",
       "    </tr>\n",
       "    <tr>\n",
       "      <th>431362</th>\n",
       "      <td>2018-11-12 19:10:00</td>\n",
       "      <td>2018-11-12 19:55:00</td>\n",
       "      <td>44</td>\n",
       "      <td>2478</td>\n",
       "      <td>2668</td>\n",
       "      <td>145</td>\n",
       "      <td>Mies van der Rohe Way &amp; Chestnut St</td>\n",
       "      <td>97</td>\n",
       "      <td>Field Museum</td>\n",
       "      <td>Customer</td>\n",
       "      <td>Unknown</td>\n",
       "      <td>NaN</td>\n",
       "      <td></td>\n",
       "      <td>0</td>\n",
       "      <td>19</td>\n",
       "    </tr>\n",
       "    <tr>\n",
       "      <th>60956</th>\n",
       "      <td>2018-10-04 22:56:00</td>\n",
       "      <td>2018-10-04 23:53:00</td>\n",
       "      <td>57</td>\n",
       "      <td>975</td>\n",
       "      <td>3426</td>\n",
       "      <td>97</td>\n",
       "      <td>Field Museum</td>\n",
       "      <td>158</td>\n",
       "      <td>Milwaukee Ave &amp; Wabansia Ave</td>\n",
       "      <td>Customer</td>\n",
       "      <td>Unknown</td>\n",
       "      <td>NaN</td>\n",
       "      <td></td>\n",
       "      <td>3</td>\n",
       "      <td>22</td>\n",
       "    </tr>\n",
       "    <tr>\n",
       "      <th>484317</th>\n",
       "      <td>2018-11-22 15:38:00</td>\n",
       "      <td>2018-11-22 15:59:00</td>\n",
       "      <td>20</td>\n",
       "      <td>762</td>\n",
       "      <td>1246</td>\n",
       "      <td>76</td>\n",
       "      <td>Lake Shore Dr &amp; Monroe St</td>\n",
       "      <td>35</td>\n",
       "      <td>Streeter Dr &amp; Grand Ave</td>\n",
       "      <td>Customer</td>\n",
       "      <td>Unknown</td>\n",
       "      <td>NaN</td>\n",
       "      <td></td>\n",
       "      <td>3</td>\n",
       "      <td>15</td>\n",
       "    </tr>\n",
       "    <tr>\n",
       "      <th>244515</th>\n",
       "      <td>2018-10-22 14:16:00</td>\n",
       "      <td>2018-10-22 14:40:00</td>\n",
       "      <td>24</td>\n",
       "      <td>2591</td>\n",
       "      <td>1458</td>\n",
       "      <td>90</td>\n",
       "      <td>Millennium Park</td>\n",
       "      <td>341</td>\n",
       "      <td>Adler Planetarium</td>\n",
       "      <td>Customer</td>\n",
       "      <td>Unknown</td>\n",
       "      <td>NaN</td>\n",
       "      <td></td>\n",
       "      <td>0</td>\n",
       "      <td>14</td>\n",
       "    </tr>\n",
       "  </tbody>\n",
       "</table>\n",
       "<p>471 rows × 15 columns</p>\n",
       "</div>"
      ],
      "text/plain": [
       "                start_time            end_time  timeduration  bikeid  \\\n",
       "371796 2018-11-03 16:32:00 2018-11-03 16:54:00            22     983   \n",
       "80060  2018-10-07 07:31:00 2018-10-07 12:02:00            31    3552   \n",
       "92242  2018-10-08 12:10:00 2018-10-08 12:18:00             7    1582   \n",
       "331956 2018-10-30 18:42:00 2018-10-30 18:59:00            17    6267   \n",
       "208326 2018-10-18 10:52:00 2018-10-18 11:17:00            24    4129   \n",
       "26662  2018-10-02 18:01:00 2018-10-02 18:32:00            30    4866   \n",
       "46950  2018-10-04 00:41:00 2018-10-04 00:57:00            15    5393   \n",
       "245767 2018-10-22 16:08:00 2018-10-22 16:38:00            30    2052   \n",
       "355308 2018-11-01 20:26:00 2018-11-01 20:30:00             4    3718   \n",
       "459268 2018-11-17 03:34:00 2018-11-17 04:08:00            33    5867   \n",
       "398886 2018-11-07 14:48:00 2018-11-07 14:57:00             8    3209   \n",
       "422094 2018-11-11 10:23:00 2018-11-11 10:34:00            10    5868   \n",
       "169872 2018-10-14 19:33:00 2018-10-14 20:13:00            40    5091   \n",
       "110061 2018-10-09 12:46:00 2018-10-09 14:24:00            38     401   \n",
       "481467 2018-11-21 15:08:00 2018-11-21 15:25:00            17    1284   \n",
       "237303 2018-10-21 16:33:00 2018-10-21 17:02:00            29    3019   \n",
       "488835 2018-11-24 14:03:00 2018-11-24 14:15:00            12    3659   \n",
       "627118 2018-12-24 11:10:00 2018-12-24 11:14:00             4    6225   \n",
       "66861  2018-10-05 16:10:00 2018-10-05 16:40:00            29    1065   \n",
       "314563 2018-10-29 13:56:00 2018-10-29 14:07:00            11     705   \n",
       "205861 2018-10-18 07:46:00 2018-10-18 08:04:00            17    1460   \n",
       "285562 2018-10-25 20:16:00 2018-10-25 20:32:00            15    2782   \n",
       "290592 2018-10-26 12:19:00 2018-10-26 12:24:00             5    1195   \n",
       "65964  2018-10-05 15:10:00 2018-10-05 17:50:00            39    2428   \n",
       "80246  2018-10-07 08:03:00 2018-10-07 08:21:00            17    3843   \n",
       "153504 2018-10-12 23:19:00 2018-10-12 23:44:00            25    2083   \n",
       "258374 2018-10-23 16:17:00 2018-10-23 16:36:00            18     823   \n",
       "99937  2018-10-08 18:07:00 2018-10-08 19:04:00            56    1204   \n",
       "279099 2018-10-25 11:29:00 2018-10-25 11:36:00             7    3048   \n",
       "429616 2018-11-12 16:49:00 2018-11-12 16:53:00             3    5396   \n",
       "...                    ...                 ...           ...     ...   \n",
       "237038 2018-10-21 16:12:00 2018-10-21 16:23:00            11    5478   \n",
       "76131  2018-10-06 15:39:00 2018-10-06 15:47:00             8    4275   \n",
       "609298 2018-12-19 17:10:00 2018-12-19 17:35:00            25    5468   \n",
       "302446 2018-10-27 15:19:00 2018-10-27 15:38:00            19     227   \n",
       "46577  2018-10-03 22:19:00 2018-10-03 22:28:00             8    2982   \n",
       "487492 2018-11-24 02:17:00 2018-11-24 02:49:00            32    4990   \n",
       "227633 2018-10-20 09:05:00 2018-10-20 11:01:00            55    1405   \n",
       "588196 2018-12-16 14:03:00 2018-12-16 14:07:00             4     635   \n",
       "7876   2018-10-01 16:09:00 2018-10-01 16:31:00            22    3078   \n",
       "92928  2018-10-08 12:58:00 2018-10-08 15:09:00            11    3091   \n",
       "623764 2018-12-22 14:34:00 2018-12-22 14:38:00             3    4916   \n",
       "584908 2018-12-15 15:28:00 2018-12-15 15:47:00            19    6390   \n",
       "72278  2018-10-06 10:19:00 2018-10-06 11:48:00            28    3348   \n",
       "8306   2018-10-01 16:29:00 2018-10-01 17:02:00            32    3848   \n",
       "403142 2018-11-07 23:56:00 2018-11-08 00:02:00             6    3809   \n",
       "238842 2018-10-21 20:27:00 2018-10-21 20:56:00            28    4334   \n",
       "425160 2018-11-11 23:43:00 2018-11-11 23:48:00             5    6341   \n",
       "74972  2018-10-06 14:05:00 2018-10-06 14:30:00            25    4507   \n",
       "80023  2018-10-07 07:21:00 2018-10-07 07:46:00            24      68   \n",
       "92378  2018-10-08 12:19:00 2018-10-08 12:46:00            26    1582   \n",
       "205299 2018-10-18 07:14:00 2018-10-18 07:31:00            17    6188   \n",
       "233810 2018-10-21 10:49:00 2018-10-21 11:31:00            41    3475   \n",
       "6782   2018-10-01 14:59:00 2018-10-01 15:17:00            18    2566   \n",
       "293844 2018-10-26 16:49:00 2018-10-26 17:22:00            32    3003   \n",
       "547868 2018-12-08 14:44:00 2018-12-08 15:20:00            35    4439   \n",
       "306859 2018-10-28 12:24:00 2018-10-28 12:45:00            20     718   \n",
       "431362 2018-11-12 19:10:00 2018-11-12 19:55:00            44    2478   \n",
       "60956  2018-10-04 22:56:00 2018-10-04 23:53:00            57     975   \n",
       "484317 2018-11-22 15:38:00 2018-11-22 15:59:00            20     762   \n",
       "244515 2018-10-22 14:16:00 2018-10-22 14:40:00            24    2591   \n",
       "\n",
       "        tripduration from_station_id                    from_station_name  \\\n",
       "371796          1347              31            Franklin St & Chicago Ave   \n",
       "80060          16274             196      Cityfront Plaza Dr & Pioneer Ct   \n",
       "92242            453             341                    Adler Planetarium   \n",
       "331956          1056             128              Damen Ave & Chicago Ave   \n",
       "208326          1465              97                         Field Museum   \n",
       "26662           1851             188        Greenview Ave & Fullerton Ave   \n",
       "46950            956              31            Franklin St & Chicago Ave   \n",
       "245767          1815             268           Lake Shore Dr & North Blvd   \n",
       "355308           265             114         Sheffield Ave & Waveland Ave   \n",
       "459268          2016              40                LaSalle St & Adams St   \n",
       "398886           518             181             LaSalle St & Illinois St   \n",
       "422094           622             394             Clark St & 9th St (AMLI)   \n",
       "169872          2408             210            Ashland Ave & Division St   \n",
       "110061          5889             461                 Broadway & Ridge Ave   \n",
       "481467          1024             218                   Wells St & 19th St   \n",
       "237303          1775               3                       Shedd Aquarium   \n",
       "488835           729              91         Clinton St & Washington Blvd   \n",
       "627118           286             225             Halsted St & Dickens Ave   \n",
       "66861           1765              62                      McCormick Place   \n",
       "314563           667              94              Clark St & Armitage Ave   \n",
       "205861          1057             129            Blue Island Ave & 18th St   \n",
       "285562           946             490                 Troy St & Elston Ave   \n",
       "290592           334             425                 Harper Ave & 59th St   \n",
       "65964           9579             142                 McClurg Ct & Erie St   \n",
       "80246           1048             284          Michigan Ave & Jackson Blvd   \n",
       "153504          1536             302       Sheffield Ave & Wrightwood Ave   \n",
       "258374          1132             303              Broadway & Cornelia Ave   \n",
       "99937           3383              80              Aberdeen St & Monroe St   \n",
       "279099           449              51               Clark St & Randolph St   \n",
       "429616           212             638        Clinton St & Jackson Blvd (*)   \n",
       "...              ...             ...                                  ...   \n",
       "237038           691               5               State St & Harrison St   \n",
       "76131            480              46                 Wells St & Walton St   \n",
       "609298          1527              77              Clinton St & Madison St   \n",
       "302446          1166             341                    Adler Planetarium   \n",
       "46577            526              17              Honore St & Division St   \n",
       "487492          1930              20         Sheffield Ave & Kingsbury St   \n",
       "227633          6939               6                       Dusable Harbor   \n",
       "588196           251             419              Lake Park Ave & 53rd St   \n",
       "7876            1323             232        Pine Grove Ave & Waveland Ave   \n",
       "92928           7872              35              Streeter Dr & Grand Ave   \n",
       "623764           236              53                  Wells St & Huron St   \n",
       "584908          1167             276           California Ave & North Ave   \n",
       "72278           5337             126                 Clark St & North Ave   \n",
       "8306            1957             355             South Shore Dr & 67th St   \n",
       "403142           367              35              Streeter Dr & Grand Ave   \n",
       "238842          1722             338                Calumet Ave & 18th St   \n",
       "425160           311              51               Clark St & Randolph St   \n",
       "74972           1503               3                       Shedd Aquarium   \n",
       "80023           1496             199               Wabash Ave & Grand Ave   \n",
       "92378           1607               3                       Shedd Aquarium   \n",
       "205299          1063             176                    Clark St & Elm St   \n",
       "233810          2512              76            Lake Shore Dr & Monroe St   \n",
       "6782            1093               3                       Shedd Aquarium   \n",
       "293844          1965              77              Clinton St & Madison St   \n",
       "547868          2107             293                Broadway & Wilson Ave   \n",
       "306859          1255             284          Michigan Ave & Jackson Blvd   \n",
       "431362          2668             145  Mies van der Rohe Way & Chestnut St   \n",
       "60956           3426              97                         Field Museum   \n",
       "484317          1246              76            Lake Shore Dr & Monroe St   \n",
       "244515          1458              90                      Millennium Park   \n",
       "\n",
       "       to_station_id                      to_station_name    usertype  \\\n",
       "371796           315            Elston Ave & Wabansia Ave    Customer   \n",
       "80060             45         Michigan Ave & Congress Pkwy    Customer   \n",
       "92242              3                       Shedd Aquarium    Customer   \n",
       "331956           342                Wolcott Ave & Polk St    Customer   \n",
       "208326            35              Streeter Dr & Grand Ave    Customer   \n",
       "26662             87           Racine Ave & Fullerton Ave    Customer   \n",
       "46950            181             LaSalle St & Illinois St    Customer   \n",
       "245767            35              Streeter Dr & Grand Ave    Customer   \n",
       "355308           229            Southport Ave & Roscoe St    Customer   \n",
       "459268            33              State St & Van Buren St    Customer   \n",
       "398886            54              Ogden Ave & Chicago Ave    Customer   \n",
       "422094             3                       Shedd Aquarium    Customer   \n",
       "169872           125                 Rush St & Hubbard St    Customer   \n",
       "110061           177                  Theater on the Lake    Customer   \n",
       "481467           120     Wentworth Ave & Cermak Rd (Temp)    Customer   \n",
       "237303            99              Lake Shore Dr & Ohio St    Customer   \n",
       "488835           215               Damen Ave & Madison St    Customer   \n",
       "627118            93            Sheffield Ave & Willow St    Customer   \n",
       "66861            199               Wabash Ave & Grand Ave    Customer   \n",
       "314563            94              Clark St & Armitage Ave    Customer   \n",
       "205861           198                Green St & Madison St    Customer   \n",
       "285562           260           Kedzie Ave & Milwaukee Ave    Customer   \n",
       "290592           424       Museum of Science and Industry    Customer   \n",
       "65964            641  Central Park Ave & Bloomingdale Ave    Customer   \n",
       "80246             44               State St & Randolph St    Customer   \n",
       "153504           256               Broadway & Sheridan Rd    Customer   \n",
       "258374            60                Dayton St & North Ave    Customer   \n",
       "99937             80              Aberdeen St & Monroe St    Customer   \n",
       "279099            43         Michigan Ave & Washington St    Customer   \n",
       "429616            91         Clinton St & Washington Blvd  Subscriber   \n",
       "...              ...                                  ...         ...   \n",
       "237038           181             LaSalle St & Illinois St    Customer   \n",
       "76131            118              Sedgwick St & North Ave    Customer   \n",
       "609298           370                Calumet Ave & 21st St    Customer   \n",
       "302446            97                         Field Museum    Customer   \n",
       "46577            309            Leavitt St & Armitage Ave    Customer   \n",
       "487492           485          Sawyer Ave & Irving Park Rd    Customer   \n",
       "227633             6                       Dusable Harbor    Customer   \n",
       "588196           424       Museum of Science and Industry    Customer   \n",
       "7876             303              Broadway & Cornelia Ave    Customer   \n",
       "92928             76            Lake Shore Dr & Monroe St    Customer   \n",
       "623764           111               Sedgwick St & Huron St    Customer   \n",
       "584908           377                 Kedzie Ave & Lake St    Customer   \n",
       "72278             24             Fairbanks Ct & Grand Ave    Customer   \n",
       "8306             417         Cornell Ave & Hyde Park Blvd    Customer   \n",
       "403142            35              Streeter Dr & Grand Ave    Customer   \n",
       "238842            26             McClurg Ct & Illinois St    Customer   \n",
       "425160            49              Dearborn St & Monroe St    Customer   \n",
       "74972              6                       Dusable Harbor    Customer   \n",
       "80023            199               Wabash Ave & Grand Ave    Customer   \n",
       "92378             35              Streeter Dr & Grand Ave    Customer   \n",
       "205299            47                 State St & Kinzie St    Customer   \n",
       "233810           117             Wilton Ave & Belmont Ave    Customer   \n",
       "6782             195            Columbus Dr & Randolph St    Customer   \n",
       "293844           324         Stockton Dr & Wrightwood Ave    Customer   \n",
       "547868            69               Damen Ave & Pierce Ave    Customer   \n",
       "306859            97                         Field Museum    Customer   \n",
       "431362            97                         Field Museum    Customer   \n",
       "60956            158         Milwaukee Ave & Wabansia Ave    Customer   \n",
       "484317            35              Streeter Dr & Grand Ave    Customer   \n",
       "244515           341                    Adler Planetarium    Customer   \n",
       "\n",
       "         gender  birthyear age  dayofweek  hour  \n",
       "371796  Unknown        NaN              5    16  \n",
       "80060   Unknown        NaN              6     7  \n",
       "92242   Unknown        NaN              0    12  \n",
       "331956  Unknown        NaN              1    18  \n",
       "208326  Unknown        NaN              3    10  \n",
       "26662   Unknown        NaN              1    18  \n",
       "46950   Unknown        NaN              3     0  \n",
       "245767  Unknown        NaN              0    16  \n",
       "355308  Unknown        NaN              3    20  \n",
       "459268  Unknown        NaN              5     3  \n",
       "398886  Unknown        NaN              2    14  \n",
       "422094  Unknown        NaN              6    10  \n",
       "169872  Unknown        NaN              6    19  \n",
       "110061  Unknown        NaN              1    12  \n",
       "481467  Unknown        NaN              2    15  \n",
       "237303  Unknown        NaN              6    16  \n",
       "488835  Unknown        NaN              5    14  \n",
       "627118  Unknown        NaN              0    11  \n",
       "66861   Unknown        NaN              4    16  \n",
       "314563  Unknown        NaN              0    13  \n",
       "205861  Unknown        NaN              3     7  \n",
       "285562  Unknown        NaN              3    20  \n",
       "290592  Unknown        NaN              4    12  \n",
       "65964   Unknown        NaN              4    15  \n",
       "80246   Unknown        NaN              6     8  \n",
       "153504  Unknown        NaN              4    23  \n",
       "258374  Unknown        NaN              1    16  \n",
       "99937   Unknown        NaN              0    18  \n",
       "279099  Unknown        NaN              3    11  \n",
       "429616  Unknown        NaN              0    16  \n",
       "...         ...        ...  ..        ...   ...  \n",
       "237038  Unknown        NaN              6    16  \n",
       "76131   Unknown        NaN              5    15  \n",
       "609298  Unknown        NaN              2    17  \n",
       "302446  Unknown        NaN              5    15  \n",
       "46577   Unknown        NaN              2    22  \n",
       "487492  Unknown        NaN              5     2  \n",
       "227633  Unknown        NaN              5     9  \n",
       "588196  Unknown        NaN              6    14  \n",
       "7876    Unknown        NaN              0    16  \n",
       "92928   Unknown        NaN              0    12  \n",
       "623764  Unknown        NaN              5    14  \n",
       "584908  Unknown        NaN              5    15  \n",
       "72278   Unknown        NaN              5    10  \n",
       "8306    Unknown        NaN              0    16  \n",
       "403142  Unknown        NaN              2    23  \n",
       "238842  Unknown        NaN              6    20  \n",
       "425160  Unknown        NaN              6    23  \n",
       "74972   Unknown        NaN              5    14  \n",
       "80023   Unknown        NaN              6     7  \n",
       "92378   Unknown        NaN              0    12  \n",
       "205299  Unknown        NaN              3     7  \n",
       "233810  Unknown        NaN              6    10  \n",
       "6782    Unknown        NaN              0    14  \n",
       "293844  Unknown        NaN              4    16  \n",
       "547868  Unknown        NaN              5    14  \n",
       "306859  Unknown        NaN              6    12  \n",
       "431362  Unknown        NaN              0    19  \n",
       "60956   Unknown        NaN              3    22  \n",
       "484317  Unknown        NaN              3    15  \n",
       "244515  Unknown        NaN              0    14  \n",
       "\n",
       "[471 rows x 15 columns]"
      ]
     },
     "execution_count": 344,
     "metadata": {},
     "output_type": "execute_result"
    }
   ],
   "source": [
    "mb[mb['age']==' ']"
   ]
  },
  {
   "cell_type": "markdown",
   "metadata": {},
   "source": [
    "- 发现他们的birthyear也是空值"
   ]
  },
  {
   "cell_type": "code",
   "execution_count": 345,
   "metadata": {},
   "outputs": [
    {
     "data": {
      "text/plain": [
       "True"
      ]
     },
     "execution_count": 345,
     "metadata": {},
     "output_type": "execute_result"
    }
   ],
   "source": [
    "(mb[mb['age'] == ' '].index == mb[mb['birthyear'].isna()].index).all()"
   ]
  },
  {
   "cell_type": "markdown",
   "metadata": {},
   "source": [
    "- 发现age为空格的样本中birthyear均为缺失，且位置完全一致"
   ]
  },
  {
   "cell_type": "code",
   "execution_count": 346,
   "metadata": {},
   "outputs": [
    {
     "data": {
      "text/plain": [
       "33"
      ]
     },
     "execution_count": 346,
     "metadata": {},
     "output_type": "execute_result"
    }
   ],
   "source": [
    "# 用非空格的age的中位数去填充空格\n",
    "age_median = int(mb[mb['age'] != ' ']['age'].astype(int).median())\n",
    "age_median"
   ]
  },
  {
   "cell_type": "code",
   "execution_count": 348,
   "metadata": {},
   "outputs": [],
   "source": [
    "mb['age'] = mb['age'].str.replace(' ', str(age_median)).astype(int)"
   ]
  },
  {
   "cell_type": "code",
   "execution_count": 349,
   "metadata": {},
   "outputs": [],
   "source": [
    "# age转换为int类型\n",
    "mb['age'] = mb['age'].astype(int)"
   ]
  },
  {
   "cell_type": "code",
   "execution_count": null,
   "metadata": {},
   "outputs": [],
   "source": [
    "mb['age'].describe()"
   ]
  },
  {
   "cell_type": "markdown",
   "metadata": {},
   "source": [
    "- 发现age最大值是113，明显是异常值"
   ]
  },
  {
   "cell_type": "code",
   "execution_count": 350,
   "metadata": {},
   "outputs": [
    {
     "data": {
      "text/plain": [
       "<matplotlib.axes._subplots.AxesSubplot at 0x21501fa7da0>"
      ]
     },
     "execution_count": 350,
     "metadata": {},
     "output_type": "execute_result"
    },
    {
     "data": {
      "image/png": "[encoded data removed]",
      "text/plain": [
       "<Figure size 432x288 with 1 Axes>"
      ]
     },
     "metadata": {
      "needs_background": "light"
     },
     "output_type": "display_data"
    }
   ],
   "source": [
    "sns.boxplot(y=mb['age'])"
   ]
  },
  {
   "cell_type": "code",
   "execution_count": 351,
   "metadata": {},
   "outputs": [
    {
     "name": "stdout",
     "output_type": "stream",
     "text": [
      "<class 'pandas.core.frame.DataFrame'>\n",
      "Int64Index: 6427 entries, 439283 to 278179\n",
      "Data columns (total 15 columns):\n",
      "start_time           6427 non-null datetime64[ns]\n",
      "end_time             6427 non-null datetime64[ns]\n",
      "timeduration         6427 non-null int64\n",
      "bikeid               6427 non-null int64\n",
      "tripduration         6427 non-null int64\n",
      "from_station_id      6427 non-null object\n",
      "from_station_name    6427 non-null object\n",
      "to_station_id        6427 non-null object\n",
      "to_station_name      6427 non-null object\n",
      "usertype             6427 non-null object\n",
      "gender               6427 non-null object\n",
      "birthyear            5956 non-null float64\n",
      "age                  6427 non-null int32\n",
      "dayofweek            6427 non-null int64\n",
      "hour                 6427 non-null int64\n",
      "dtypes: datetime64[ns](2), float64(1), int32(1), int64(5), object(6)\n",
      "memory usage: 778.3+ KB\n"
     ]
    }
   ],
   "source": [
    "mb.info()"
   ]
  },
  {
   "cell_type": "markdown",
   "metadata": {},
   "source": [
    "### 删除无关变量"
   ]
  },
  {
   "cell_type": "code",
   "execution_count": 352,
   "metadata": {},
   "outputs": [
    {
     "name": "stdout",
     "output_type": "stream",
     "text": [
      "<class 'pandas.core.frame.DataFrame'>\n",
      "Int64Index: 6427 entries, 439283 to 278179\n",
      "Data columns (total 9 columns):\n",
      "timeduration         6427 non-null int64\n",
      "tripduration         6427 non-null int64\n",
      "from_station_name    6427 non-null object\n",
      "to_station_name      6427 non-null object\n",
      "usertype             6427 non-null object\n",
      "gender               6427 non-null object\n",
      "age                  6427 non-null int32\n",
      "dayofweek            6427 non-null int64\n",
      "hour                 6427 non-null int64\n",
      "dtypes: int32(1), int64(4), object(4)\n",
      "memory usage: 477.0+ KB\n"
     ]
    }
   ],
   "source": [
    "# 删除无关变量，from_station_id,to_station_id,birthyear,start_time,end_time\n",
    "delete_feature = ['bikeid','from_station_id','to_station_id','birthyear','start_time', 'end_time']\n",
    "mb = mb.drop(delete_feature, axis=1)\n",
    "mb.info()"
   ]
  },
  {
   "cell_type": "markdown",
   "metadata": {},
   "source": [
    "### 异常值处理"
   ]
  },
  {
   "cell_type": "code",
   "execution_count": 353,
   "metadata": {},
   "outputs": [
    {
     "data": {
      "text/plain": [
       "1806.5"
      ]
     },
     "execution_count": 353,
     "metadata": {},
     "output_type": "execute_result"
    }
   ],
   "source": [
    "# newmax=75%+四分位差*1.5\n",
    "newmax = mb['tripduration'].describe()['75%'] + 1.5*(mb['tripduration'].describe()['75%'] - mb['tripduration'].describe()['25%'])\n",
    "newmax"
   ]
  },
  {
   "cell_type": "code",
   "execution_count": 354,
   "metadata": {},
   "outputs": [],
   "source": [
    "mb = mb[mb['tripduration']<=newmax]"
   ]
  },
  {
   "cell_type": "code",
   "execution_count": 355,
   "metadata": {},
   "outputs": [
    {
     "data": {
      "text/plain": [
       "63.0"
      ]
     },
     "execution_count": 355,
     "metadata": {},
     "output_type": "execute_result"
    }
   ],
   "source": [
    "newmax = mb['age'].describe()['75%'] + 1.5*(mb['age'].describe()['75%'] - mb['age'].describe()['25%'])\n",
    "newmax"
   ]
  },
  {
   "cell_type": "code",
   "execution_count": 356,
   "metadata": {},
   "outputs": [],
   "source": [
    "mb = mb[mb['age']<=newmax]"
   ]
  },
  {
   "cell_type": "markdown",
   "metadata": {},
   "source": [
    "# EDA"
   ]
  },
  {
   "cell_type": "code",
   "execution_count": 357,
   "metadata": {},
   "outputs": [
    {
     "name": "stdout",
     "output_type": "stream",
     "text": [
      "<class 'pandas.core.frame.DataFrame'>\n",
      "Int64Index: 5853 entries, 439283 to 278179\n",
      "Data columns (total 9 columns):\n",
      "timeduration         5853 non-null int64\n",
      "tripduration         5853 non-null int64\n",
      "from_station_name    5853 non-null object\n",
      "to_station_name      5853 non-null object\n",
      "usertype             5853 non-null object\n",
      "gender               5853 non-null object\n",
      "age                  5853 non-null int32\n",
      "dayofweek            5853 non-null int64\n",
      "hour                 5853 non-null int64\n",
      "dtypes: int32(1), int64(4), object(4)\n",
      "memory usage: 434.4+ KB\n"
     ]
    }
   ],
   "source": [
    "mb.info()"
   ]
  },
  {
   "cell_type": "markdown",
   "metadata": {},
   "source": [
    "- 数值型变量有：timeduration,tripduration,age,dayofweek,hour\n",
    "- 类别变量有：from_station_name,to_station_name,usertype,gender"
   ]
  },
  {
   "cell_type": "markdown",
   "metadata": {},
   "source": [
    "## 单变量探索"
   ]
  },
  {
   "cell_type": "markdown",
   "metadata": {},
   "source": [
    "### 数值型变量"
   ]
  },
  {
   "cell_type": "markdown",
   "metadata": {},
   "source": [
    "#### timeduration的分布"
   ]
  },
  {
   "cell_type": "code",
   "execution_count": 358,
   "metadata": {},
   "outputs": [
    {
     "data": {
      "text/plain": [
       "count    5853.000000\n",
       "mean        9.934393\n",
       "std         6.339840\n",
       "min         1.000000\n",
       "25%         5.000000\n",
       "50%         8.000000\n",
       "75%        13.000000\n",
       "max        30.000000\n",
       "Name: timeduration, dtype: float64"
      ]
     },
     "execution_count": 358,
     "metadata": {},
     "output_type": "execute_result"
    }
   ],
   "source": [
    "mb['timeduration'].describe()"
   ]
  },
  {
   "cell_type": "code",
   "execution_count": 359,
   "metadata": {},
   "outputs": [
    {
     "data": {
      "text/plain": [
       "<matplotlib.axes._subplots.AxesSubplot at 0x2150200da20>"
      ]
     },
     "execution_count": 359,
     "metadata": {},
     "output_type": "execute_result"
    },
    {
     "data": {
      "image/png": "[encoded data removed]",
      "text/plain": [
       "<Figure size 432x288 with 1 Axes>"
      ]
     },
     "metadata": {
      "needs_background": "light"
     },
     "output_type": "display_data"
    }
   ],
   "source": [
    "sns.distplot(mb['timeduration'])"
   ]
  },
  {
   "cell_type": "markdown",
   "metadata": {},
   "source": [
    "- timeduration主要分布在1-30分钟之间\n",
    "- 大部分人的骑行时间在10分钟以内"
   ]
  },
  {
   "cell_type": "markdown",
   "metadata": {},
   "source": [
    "#### tripduration的分布"
   ]
  },
  {
   "cell_type": "code",
   "execution_count": 360,
   "metadata": {},
   "outputs": [
    {
     "data": {
      "text/plain": [
       "count    5853.000000\n",
       "mean      625.527593\n",
       "std       380.226556\n",
       "min        61.000000\n",
       "25%       336.000000\n",
       "50%       521.000000\n",
       "75%       828.000000\n",
       "max      1805.000000\n",
       "Name: tripduration, dtype: float64"
      ]
     },
     "execution_count": 360,
     "metadata": {},
     "output_type": "execute_result"
    }
   ],
   "source": [
    "mb['tripduration'].describe()"
   ]
  },
  {
   "cell_type": "code",
   "execution_count": 361,
   "metadata": {},
   "outputs": [
    {
     "data": {
      "text/plain": [
       "<matplotlib.axes._subplots.AxesSubplot at 0x215020472e8>"
      ]
     },
     "execution_count": 361,
     "metadata": {},
     "output_type": "execute_result"
    },
    {
     "data": {
      "image/png": "[encoded data removed]",
      "text/plain": [
       "<Figure size 432x288 with 1 Axes>"
      ]
     },
     "metadata": {
      "needs_background": "light"
     },
     "output_type": "display_data"
    }
   ],
   "source": [
    "sns.distplot(mb['tripduration'])"
   ]
  },
  {
   "cell_type": "markdown",
   "metadata": {},
   "source": [
    "- tripduration主要分布在61-1800米之间\n",
    "- 大部分人的骑行距离在500米以内\n"
   ]
  },
  {
   "cell_type": "markdown",
   "metadata": {},
   "source": [
    "#### dayofweek的分布"
   ]
  },
  {
   "cell_type": "code",
   "execution_count": 362,
   "metadata": {},
   "outputs": [
    {
     "data": {
      "text/plain": [
       "1    1062\n",
       "2    1033\n",
       "0     975\n",
       "3     972\n",
       "4     842\n",
       "5     517\n",
       "6     452\n",
       "Name: dayofweek, dtype: int64"
      ]
     },
     "execution_count": 362,
     "metadata": {},
     "output_type": "execute_result"
    }
   ],
   "source": [
    "mb['dayofweek'].value_counts()"
   ]
  },
  {
   "cell_type": "code",
   "execution_count": 363,
   "metadata": {},
   "outputs": [
    {
     "data": {
      "text/plain": [
       "<matplotlib.axes._subplots.AxesSubplot at 0x21502147f28>"
      ]
     },
     "execution_count": 363,
     "metadata": {},
     "output_type": "execute_result"
    },
    {
     "data": {
      "image/png": "[encoded data removed]",
      "text/plain": [
       "<Figure size 432x288 with 1 Axes>"
      ]
     },
     "metadata": {
      "needs_background": "light"
     },
     "output_type": "display_data"
    }
   ],
   "source": [
    "sns.countplot(x='dayofweek', data=mb)"
   ]
  },
  {
   "cell_type": "markdown",
   "metadata": {},
   "source": [
    "- 明显工作日出行量较大\n",
    "- 周末出行量变小了"
   ]
  },
  {
   "cell_type": "markdown",
   "metadata": {},
   "source": [
    "#### hour的分布"
   ]
  },
  {
   "cell_type": "code",
   "execution_count": 364,
   "metadata": {},
   "outputs": [
    {
     "data": {
      "text/plain": [
       "17    781\n",
       "8     626\n",
       "16    577\n",
       "7     433\n",
       "18    413\n",
       "15    353\n",
       "12    311\n",
       "19    298\n",
       "14    278\n",
       "13    273\n",
       "11    269\n",
       "9     255\n",
       "6     226\n",
       "10    208\n",
       "20    163\n",
       "21    106\n",
       "22     75\n",
       "5      66\n",
       "23     53\n",
       "0      32\n",
       "1      23\n",
       "4      19\n",
       "2      10\n",
       "3       5\n",
       "Name: hour, dtype: int64"
      ]
     },
     "execution_count": 364,
     "metadata": {},
     "output_type": "execute_result"
    }
   ],
   "source": [
    "mb['hour'].value_counts()"
   ]
  },
  {
   "cell_type": "code",
   "execution_count": 365,
   "metadata": {},
   "outputs": [
    {
     "data": {
      "text/plain": [
       "<matplotlib.axes._subplots.AxesSubplot at 0x215021c0c18>"
      ]
     },
     "execution_count": 365,
     "metadata": {},
     "output_type": "execute_result"
    },
    {
     "data": {
      "image/png": "[encoded data removed]",
      "text/plain": [
       "<Figure size 432x288 with 1 Axes>"
      ]
     },
     "metadata": {
      "needs_background": "light"
     },
     "output_type": "display_data"
    }
   ],
   "source": [
    "sns.countplot(x='hour',data=mb)"
   ]
  },
  {
   "cell_type": "markdown",
   "metadata": {},
   "source": [
    "- 明显看到在上下班高峰期（6-9和15-19）的使用量很大\n",
    "- 夜间使用量慢慢下降\n",
    "- 白天使用量趋于平稳"
   ]
  },
  {
   "cell_type": "markdown",
   "metadata": {},
   "source": [
    "#### age的分布"
   ]
  },
  {
   "cell_type": "code",
   "execution_count": 366,
   "metadata": {},
   "outputs": [
    {
     "data": {
      "text/plain": [
       "count    5853.000000\n",
       "mean       35.683752\n",
       "std         9.970922\n",
       "min        17.000000\n",
       "25%        28.000000\n",
       "50%        33.000000\n",
       "75%        41.000000\n",
       "max        63.000000\n",
       "Name: age, dtype: float64"
      ]
     },
     "execution_count": 366,
     "metadata": {},
     "output_type": "execute_result"
    }
   ],
   "source": [
    "mb['age'].describe()"
   ]
  },
  {
   "cell_type": "code",
   "execution_count": 367,
   "metadata": {},
   "outputs": [
    {
     "data": {
      "text/plain": [
       "<matplotlib.axes._subplots.AxesSubplot at 0x2150229f2e8>"
      ]
     },
     "execution_count": 367,
     "metadata": {},
     "output_type": "execute_result"
    },
    {
     "data": {
      "image/png": "[encoded data removed]",
      "text/plain": [
       "<Figure size 432x288 with 1 Axes>"
      ]
     },
     "metadata": {
      "needs_background": "light"
     },
     "output_type": "display_data"
    }
   ],
   "source": [
    "sns.distplot(mb['age'])"
   ]
  },
  {
   "cell_type": "markdown",
   "metadata": {},
   "source": [
    "- age主要分布在20-62岁之间\n",
    "- 大部分用户年龄在38岁以下"
   ]
  },
  {
   "cell_type": "markdown",
   "metadata": {},
   "source": [
    "### 类别变量"
   ]
  },
  {
   "cell_type": "markdown",
   "metadata": {},
   "source": [
    "#### gender的分布"
   ]
  },
  {
   "cell_type": "code",
   "execution_count": 368,
   "metadata": {},
   "outputs": [
    {
     "data": {
      "text/plain": [
       "Male       4324\n",
       "Female     1224\n",
       "Unknown     305\n",
       "Name: gender, dtype: int64"
      ]
     },
     "execution_count": 368,
     "metadata": {},
     "output_type": "execute_result"
    }
   ],
   "source": [
    "mb['gender'].value_counts()"
   ]
  },
  {
   "cell_type": "code",
   "execution_count": 369,
   "metadata": {},
   "outputs": [
    {
     "data": {
      "text/plain": [
       "<matplotlib.axes._subplots.AxesSubplot at 0x2150232b6d8>"
      ]
     },
     "execution_count": 369,
     "metadata": {},
     "output_type": "execute_result"
    },
    {
     "data": {
      "image/png": "[encoded data removed]",
      "text/plain": [
       "<Figure size 432x288 with 1 Axes>"
      ]
     },
     "metadata": {},
     "output_type": "display_data"
    }
   ],
   "source": [
    "mb['gender'].value_counts().plot(kind='pie', autopct='%1.1f%%')"
   ]
  },
  {
   "cell_type": "markdown",
   "metadata": {},
   "source": [
    "- 男性用户占了74%\n",
    "- 女性用户占了21%"
   ]
  },
  {
   "cell_type": "markdown",
   "metadata": {},
   "source": [
    "#### usertype的分布"
   ]
  },
  {
   "cell_type": "code",
   "execution_count": 370,
   "metadata": {},
   "outputs": [
    {
     "data": {
      "text/plain": [
       "Subscriber    5423\n",
       "Customer       430\n",
       "Name: usertype, dtype: int64"
      ]
     },
     "execution_count": 370,
     "metadata": {},
     "output_type": "execute_result"
    }
   ],
   "source": [
    "mb['usertype'].value_counts()"
   ]
  },
  {
   "cell_type": "code",
   "execution_count": 371,
   "metadata": {},
   "outputs": [
    {
     "data": {
      "text/plain": [
       "<matplotlib.axes._subplots.AxesSubplot at 0x2150239c6a0>"
      ]
     },
     "execution_count": 371,
     "metadata": {},
     "output_type": "execute_result"
    },
    {
     "data": {
      "image/png": "[encoded data removed]",
      "text/plain": [
       "<Figure size 432x288 with 1 Axes>"
      ]
     },
     "metadata": {},
     "output_type": "display_data"
    }
   ],
   "source": [
    "mb['usertype'].value_counts().plot(kind='pie', autopct='%1.1f%%')"
   ]
  },
  {
   "cell_type": "markdown",
   "metadata": {},
   "source": [
    "- subscriber类型的用户占了92.7%\n",
    "- customer类型的用户只占了7.3%"
   ]
  },
  {
   "cell_type": "markdown",
   "metadata": {},
   "source": [
    "## 多变量探索"
   ]
  },
  {
   "cell_type": "markdown",
   "metadata": {},
   "source": [
    "### 性别和骑行时间的关系"
   ]
  },
  {
   "cell_type": "code",
   "execution_count": 372,
   "metadata": {},
   "outputs": [
    {
     "data": {
      "text/plain": [
       "<matplotlib.axes._subplots.AxesSubplot at 0x215023e6c88>"
      ]
     },
     "execution_count": 372,
     "metadata": {},
     "output_type": "execute_result"
    },
    {
     "data": {
      "image/png": "[encoded data removed]",
      "text/plain": [
       "<Figure size 432x288 with 1 Axes>"
      ]
     },
     "metadata": {
      "needs_background": "light"
     },
     "output_type": "display_data"
    }
   ],
   "source": [
    "sns.barplot(x='gender', y='timeduration', data=mb)"
   ]
  },
  {
   "cell_type": "markdown",
   "metadata": {},
   "source": [
    "- 平均来说，Unknown性别的用户的骑行时间最长，然后是女性、男性"
   ]
  },
  {
   "cell_type": "markdown",
   "metadata": {},
   "source": [
    "### 性别和骑行距离的关系"
   ]
  },
  {
   "cell_type": "code",
   "execution_count": 373,
   "metadata": {},
   "outputs": [
    {
     "data": {
      "text/plain": [
       "<matplotlib.axes._subplots.AxesSubplot at 0x215024456a0>"
      ]
     },
     "execution_count": 373,
     "metadata": {},
     "output_type": "execute_result"
    },
    {
     "data": {
      "image/png": "[encoded data removed]",
      "text/plain": [
       "<Figure size 432x288 with 1 Axes>"
      ]
     },
     "metadata": {
      "needs_background": "light"
     },
     "output_type": "display_data"
    }
   ],
   "source": [
    "sns.barplot(x='gender', y='tripduration', data=mb)"
   ]
  },
  {
   "cell_type": "markdown",
   "metadata": {},
   "source": [
    "- 平均来说，Unknown性别的用户的骑行距离最长，其次是女性、男性"
   ]
  },
  {
   "cell_type": "markdown",
   "metadata": {},
   "source": [
    "### 用户类型和骑行时间的关系"
   ]
  },
  {
   "cell_type": "code",
   "execution_count": 374,
   "metadata": {},
   "outputs": [
    {
     "data": {
      "text/plain": [
       "<matplotlib.axes._subplots.AxesSubplot at 0x215024b1f60>"
      ]
     },
     "execution_count": 374,
     "metadata": {},
     "output_type": "execute_result"
    },
    {
     "data": {
      "image/png": "[encoded data removed]",
      "text/plain": [
       "<Figure size 432x288 with 1 Axes>"
      ]
     },
     "metadata": {
      "needs_background": "light"
     },
     "output_type": "display_data"
    }
   ],
   "source": [
    "sns.barplot(x='usertype', y='timeduration', data=mb)"
   ]
  },
  {
   "cell_type": "markdown",
   "metadata": {},
   "source": [
    "- 平均来说，customer用户的骑行时间为16小时，subscriber用户的骑行时间为9.5小时"
   ]
  },
  {
   "cell_type": "markdown",
   "metadata": {},
   "source": [
    "### 用户类型和骑行距离的关系"
   ]
  },
  {
   "cell_type": "code",
   "execution_count": 375,
   "metadata": {},
   "outputs": [
    {
     "data": {
      "text/plain": [
       "<matplotlib.axes._subplots.AxesSubplot at 0x21502506978>"
      ]
     },
     "execution_count": 375,
     "metadata": {},
     "output_type": "execute_result"
    },
    {
     "data": {
      "image/png": "[encoded data removed]",
      "text/plain": [
       "<Figure size 432x288 with 1 Axes>"
      ]
     },
     "metadata": {
      "needs_background": "light"
     },
     "output_type": "display_data"
    }
   ],
   "source": [
    "sns.barplot(x='usertype', y='tripduration', data=mb)"
   ]
  },
  {
   "cell_type": "markdown",
   "metadata": {},
   "source": [
    "- 平均来说，customer用户的平均骑行距离为100米\n",
    "- subscriber用户的平均骑行距离为600米"
   ]
  },
  {
   "cell_type": "markdown",
   "metadata": {},
   "source": [
    "### dayofweek、gender和hour的关系"
   ]
  },
  {
   "cell_type": "code",
   "execution_count": 376,
   "metadata": {
    "scrolled": true
   },
   "outputs": [
    {
     "data": {
      "text/plain": [
       "<matplotlib.axes._subplots.AxesSubplot at 0x21502567358>"
      ]
     },
     "execution_count": 376,
     "metadata": {},
     "output_type": "execute_result"
    },
    {
     "data": {
      "image/png": "[encoded data removed]",
      "text/plain": [
       "<Figure size 432x288 with 1 Axes>"
      ]
     },
     "metadata": {
      "needs_background": "light"
     },
     "output_type": "display_data"
    }
   ],
   "source": [
    "sns.barplot(x='dayofweek', hue='gender',y='hour', data=mb,estimator=sum)"
   ]
  },
  {
   "cell_type": "markdown",
   "metadata": {},
   "source": [
    "- 男性用户和女性用户在工作日使用较多，而在周末使用量下降\n",
    "- Unknown用户在周末反而增多"
   ]
  },
  {
   "cell_type": "markdown",
   "metadata": {},
   "source": [
    "### dayofweek、usertype和hour的关系"
   ]
  },
  {
   "cell_type": "code",
   "execution_count": 377,
   "metadata": {
    "scrolled": true
   },
   "outputs": [
    {
     "data": {
      "text/plain": [
       "<matplotlib.axes._subplots.AxesSubplot at 0x2150262ba90>"
      ]
     },
     "execution_count": 377,
     "metadata": {},
     "output_type": "execute_result"
    },
    {
     "data": {
      "image/png": "[encoded data removed]",
      "text/plain": [
       "<Figure size 432x288 with 1 Axes>"
      ]
     },
     "metadata": {
      "needs_background": "light"
     },
     "output_type": "display_data"
    }
   ],
   "source": [
    "sns.barplot(x='dayofweek', hue='usertype',y='hour', data=mb,estimator=sum)"
   ]
  },
  {
   "cell_type": "markdown",
   "metadata": {},
   "source": [
    "- subscriber用户在工作日使用量较多，周末使用量下降\n",
    "- 而customer用户在周末使用量上升"
   ]
  },
  {
   "cell_type": "markdown",
   "metadata": {},
   "source": [
    "### 骑行时间和骑行距离的关系"
   ]
  },
  {
   "cell_type": "code",
   "execution_count": 378,
   "metadata": {},
   "outputs": [
    {
     "data": {
      "text/plain": [
       "<matplotlib.axes._subplots.AxesSubplot at 0x215025bbe10>"
      ]
     },
     "execution_count": 378,
     "metadata": {},
     "output_type": "execute_result"
    },
    {
     "data": {
      "image/png": "[encoded data removed]",
      "text/plain": [
       "<Figure size 432x288 with 1 Axes>"
      ]
     },
     "metadata": {
      "needs_background": "light"
     },
     "output_type": "display_data"
    }
   ],
   "source": [
    "sns.scatterplot(x='timeduration', y='tripduration', data=mb)"
   ]
  },
  {
   "cell_type": "markdown",
   "metadata": {},
   "source": [
    "- 可以看到，骑行时间和骑行距离是成正比的"
   ]
  },
  {
   "cell_type": "markdown",
   "metadata": {},
   "source": [
    "# 模型建立"
   ]
  },
  {
   "cell_type": "code",
   "execution_count": 379,
   "metadata": {},
   "outputs": [],
   "source": [
    "from sklearn.cluster import KMeans\n",
    "from sklearn.metrics import silhouette_score"
   ]
  },
  {
   "cell_type": "code",
   "execution_count": 380,
   "metadata": {},
   "outputs": [
    {
     "name": "stdout",
     "output_type": "stream",
     "text": [
      "<class 'pandas.core.frame.DataFrame'>\n",
      "Int64Index: 5853 entries, 439283 to 278179\n",
      "Data columns (total 9 columns):\n",
      "timeduration         5853 non-null int64\n",
      "tripduration         5853 non-null int64\n",
      "from_station_name    5853 non-null object\n",
      "to_station_name      5853 non-null object\n",
      "usertype             5853 non-null object\n",
      "gender               5853 non-null object\n",
      "age                  5853 non-null int32\n",
      "dayofweek            5853 non-null int64\n",
      "hour                 5853 non-null int64\n",
      "dtypes: int32(1), int64(4), object(4)\n",
      "memory usage: 594.4+ KB\n"
     ]
    }
   ],
   "source": [
    "mb.info()"
   ]
  },
  {
   "cell_type": "code",
   "execution_count": 381,
   "metadata": {},
   "outputs": [],
   "source": [
    "# 删除from_station_name和to_station_name\n",
    "mb = mb.drop(['from_station_name', 'to_station_name'], axis=1)"
   ]
  },
  {
   "cell_type": "code",
   "execution_count": 382,
   "metadata": {},
   "outputs": [],
   "source": [
    "# 转变哑变量\n",
    "mb = pd.get_dummies(mb, drop_first=True)"
   ]
  },
  {
   "cell_type": "code",
   "execution_count": 383,
   "metadata": {},
   "outputs": [
    {
     "name": "stdout",
     "output_type": "stream",
     "text": [
      "<class 'pandas.core.frame.DataFrame'>\n",
      "Int64Index: 5853 entries, 439283 to 278179\n",
      "Data columns (total 8 columns):\n",
      "timeduration           5853 non-null int64\n",
      "tripduration           5853 non-null int64\n",
      "age                    5853 non-null int32\n",
      "dayofweek              5853 non-null int64\n",
      "hour                   5853 non-null int64\n",
      "usertype_Subscriber    5853 non-null uint8\n",
      "gender_Male            5853 non-null uint8\n",
      "gender_Unknown         5853 non-null uint8\n",
      "dtypes: int32(1), int64(4), uint8(3)\n",
      "memory usage: 428.6 KB\n"
     ]
    }
   ],
   "source": [
    "mb.info()"
   ]
  },
  {
   "cell_type": "code",
   "execution_count": 393,
   "metadata": {},
   "outputs": [],
   "source": [
    "# 建立kmeans模型\n",
    "kmeans_3 = KMeans(3)\n",
    "model_3 = kmeans_3.fit(mb)"
   ]
  },
  {
   "cell_type": "markdown",
   "metadata": {},
   "source": [
    "# 模型评估"
   ]
  },
  {
   "cell_type": "code",
   "execution_count": 394,
   "metadata": {},
   "outputs": [],
   "source": [
    "labels_3 = model_3.predict(mb)"
   ]
  },
  {
   "cell_type": "code",
   "execution_count": 395,
   "metadata": {},
   "outputs": [
    {
     "data": {
      "text/plain": [
       "0.592765519148788"
      ]
     },
     "execution_count": 395,
     "metadata": {},
     "output_type": "execute_result"
    }
   ],
   "source": [
    "score_3 = silhouette_score(mb,labels_3)\n",
    "score_3"
   ]
  },
  {
   "cell_type": "code",
   "execution_count": 396,
   "metadata": {},
   "outputs": [],
   "source": [
    "# 使用for循环，寻找最佳分裂数\n",
    "scores = []\n",
    "for center in range(2, 6):\n",
    "    km = KMeans(center)\n",
    "    model = km.fit(mb)\n",
    "    label = model.predict(mb)\n",
    "    scores.append(silhouette_score(mb,label))"
   ]
  },
  {
   "cell_type": "code",
   "execution_count": 399,
   "metadata": {},
   "outputs": [
    {
     "data": {
      "text/plain": [
       "Text(0.5, 1.0, 'score vs. n_cluster')"
      ]
     },
     "execution_count": 399,
     "metadata": {},
     "output_type": "execute_result"
    },
    {
     "data": {
      "image/png": "[encoded data removed]",
      "text/plain": [
       "<Figure size 432x288 with 1 Axes>"
      ]
     },
     "metadata": {
      "needs_background": "light"
     },
     "output_type": "display_data"
    }
   ],
   "source": [
    "plt.plot(range(2,6), scores, linestyle='--', marker='o', color='b')\n",
    "plt.xlabel('n_cluster')\n",
    "plt.ylabel('score')\n",
    "plt.title('score vs. n_cluster')"
   ]
  },
  {
   "cell_type": "markdown",
   "metadata": {},
   "source": [
    "- 模型在群数为2时的效果最好"
   ]
  },
  {
   "cell_type": "markdown",
   "metadata": {},
   "source": [
    "# 业务分析"
   ]
  },
  {
   "cell_type": "code",
   "execution_count": 400,
   "metadata": {},
   "outputs": [],
   "source": [
    "kmeans_2 = KMeans(2)\n",
    "model_2 = kmeans_2.fit(mb)\n",
    "label_2 = model_2.predict(mb)\n",
    "mb['labels'] = label_2"
   ]
  },
  {
   "cell_type": "code",
   "execution_count": 404,
   "metadata": {},
   "outputs": [
    {
     "data": {
      "text/html": [
       "<div>\n",
       "<style scoped>\n",
       "    .dataframe tbody tr th:only-of-type {\n",
       "        vertical-align: middle;\n",
       "    }\n",
       "\n",
       "    .dataframe tbody tr th {\n",
       "        vertical-align: top;\n",
       "    }\n",
       "\n",
       "    .dataframe thead th {\n",
       "        text-align: right;\n",
       "    }\n",
       "</style>\n",
       "<table border=\"1\" class=\"dataframe\">\n",
       "  <thead>\n",
       "    <tr style=\"text-align: right;\">\n",
       "      <th></th>\n",
       "      <th>count</th>\n",
       "      <th>mean</th>\n",
       "      <th>std</th>\n",
       "      <th>min</th>\n",
       "      <th>25%</th>\n",
       "      <th>50%</th>\n",
       "      <th>75%</th>\n",
       "      <th>max</th>\n",
       "    </tr>\n",
       "    <tr>\n",
       "      <th>labels</th>\n",
       "      <th></th>\n",
       "      <th></th>\n",
       "      <th></th>\n",
       "      <th></th>\n",
       "      <th></th>\n",
       "      <th></th>\n",
       "      <th></th>\n",
       "      <th></th>\n",
       "    </tr>\n",
       "  </thead>\n",
       "  <tbody>\n",
       "    <tr>\n",
       "      <th>0</th>\n",
       "      <td>4243.0</td>\n",
       "      <td>35.623615</td>\n",
       "      <td>10.132478</td>\n",
       "      <td>17.0</td>\n",
       "      <td>28.0</td>\n",
       "      <td>33.0</td>\n",
       "      <td>41.0</td>\n",
       "      <td>63.0</td>\n",
       "    </tr>\n",
       "    <tr>\n",
       "      <th>1</th>\n",
       "      <td>1610.0</td>\n",
       "      <td>35.842236</td>\n",
       "      <td>9.533296</td>\n",
       "      <td>18.0</td>\n",
       "      <td>29.0</td>\n",
       "      <td>33.0</td>\n",
       "      <td>40.0</td>\n",
       "      <td>63.0</td>\n",
       "    </tr>\n",
       "  </tbody>\n",
       "</table>\n",
       "</div>"
      ],
      "text/plain": [
       "         count       mean        std   min   25%   50%   75%   max\n",
       "labels                                                            \n",
       "0       4243.0  35.623615  10.132478  17.0  28.0  33.0  41.0  63.0\n",
       "1       1610.0  35.842236   9.533296  18.0  29.0  33.0  40.0  63.0"
      ]
     },
     "execution_count": 404,
     "metadata": {},
     "output_type": "execute_result"
    }
   ],
   "source": [
    "mb.groupby(['labels'])['age'].describe()"
   ]
  },
  {
   "cell_type": "markdown",
   "metadata": {},
   "source": [
    "- 两个群集的年龄差距不大"
   ]
  },
  {
   "cell_type": "code",
   "execution_count": 405,
   "metadata": {},
   "outputs": [
    {
     "data": {
      "text/html": [
       "<div>\n",
       "<style scoped>\n",
       "    .dataframe tbody tr th:only-of-type {\n",
       "        vertical-align: middle;\n",
       "    }\n",
       "\n",
       "    .dataframe tbody tr th {\n",
       "        vertical-align: top;\n",
       "    }\n",
       "\n",
       "    .dataframe thead th {\n",
       "        text-align: right;\n",
       "    }\n",
       "</style>\n",
       "<table border=\"1\" class=\"dataframe\">\n",
       "  <thead>\n",
       "    <tr style=\"text-align: right;\">\n",
       "      <th></th>\n",
       "      <th>count</th>\n",
       "      <th>mean</th>\n",
       "      <th>std</th>\n",
       "      <th>min</th>\n",
       "      <th>25%</th>\n",
       "      <th>50%</th>\n",
       "      <th>75%</th>\n",
       "      <th>max</th>\n",
       "    </tr>\n",
       "    <tr>\n",
       "      <th>labels</th>\n",
       "      <th></th>\n",
       "      <th></th>\n",
       "      <th></th>\n",
       "      <th></th>\n",
       "      <th></th>\n",
       "      <th></th>\n",
       "      <th></th>\n",
       "      <th></th>\n",
       "    </tr>\n",
       "  </thead>\n",
       "  <tbody>\n",
       "    <tr>\n",
       "      <th>0</th>\n",
       "      <td>4243.0</td>\n",
       "      <td>6.66321</td>\n",
       "      <td>2.921483</td>\n",
       "      <td>1.0</td>\n",
       "      <td>4.0</td>\n",
       "      <td>6.0</td>\n",
       "      <td>9.0</td>\n",
       "      <td>13.0</td>\n",
       "    </tr>\n",
       "    <tr>\n",
       "      <th>1</th>\n",
       "      <td>1610.0</td>\n",
       "      <td>18.55528</td>\n",
       "      <td>4.593452</td>\n",
       "      <td>13.0</td>\n",
       "      <td>15.0</td>\n",
       "      <td>18.0</td>\n",
       "      <td>22.0</td>\n",
       "      <td>30.0</td>\n",
       "    </tr>\n",
       "  </tbody>\n",
       "</table>\n",
       "</div>"
      ],
      "text/plain": [
       "         count      mean       std   min   25%   50%   75%   max\n",
       "labels                                                          \n",
       "0       4243.0   6.66321  2.921483   1.0   4.0   6.0   9.0  13.0\n",
       "1       1610.0  18.55528  4.593452  13.0  15.0  18.0  22.0  30.0"
      ]
     },
     "execution_count": 405,
     "metadata": {},
     "output_type": "execute_result"
    }
   ],
   "source": [
    "mb.groupby(['labels'])['timeduration'].describe()"
   ]
  },
  {
   "cell_type": "markdown",
   "metadata": {},
   "source": [
    "- 群0的骑行时间长度范围在1-13之间\n",
    "- 群1的骑行时间长度范围在13-30之间"
   ]
  },
  {
   "cell_type": "code",
   "execution_count": 406,
   "metadata": {},
   "outputs": [
    {
     "data": {
      "text/html": [
       "<div>\n",
       "<style scoped>\n",
       "    .dataframe tbody tr th:only-of-type {\n",
       "        vertical-align: middle;\n",
       "    }\n",
       "\n",
       "    .dataframe tbody tr th {\n",
       "        vertical-align: top;\n",
       "    }\n",
       "\n",
       "    .dataframe thead th {\n",
       "        text-align: right;\n",
       "    }\n",
       "</style>\n",
       "<table border=\"1\" class=\"dataframe\">\n",
       "  <thead>\n",
       "    <tr style=\"text-align: right;\">\n",
       "      <th></th>\n",
       "      <th>count</th>\n",
       "      <th>mean</th>\n",
       "      <th>std</th>\n",
       "      <th>min</th>\n",
       "      <th>25%</th>\n",
       "      <th>50%</th>\n",
       "      <th>75%</th>\n",
       "      <th>max</th>\n",
       "    </tr>\n",
       "    <tr>\n",
       "      <th>labels</th>\n",
       "      <th></th>\n",
       "      <th></th>\n",
       "      <th></th>\n",
       "      <th></th>\n",
       "      <th></th>\n",
       "      <th></th>\n",
       "      <th></th>\n",
       "      <th></th>\n",
       "    </tr>\n",
       "  </thead>\n",
       "  <tbody>\n",
       "    <tr>\n",
       "      <th>0</th>\n",
       "      <td>4243.0</td>\n",
       "      <td>429.207872</td>\n",
       "      <td>174.843564</td>\n",
       "      <td>61.0</td>\n",
       "      <td>290.0</td>\n",
       "      <td>412.0</td>\n",
       "      <td>565.0</td>\n",
       "      <td>786.0</td>\n",
       "    </tr>\n",
       "    <tr>\n",
       "      <th>1</th>\n",
       "      <td>1610.0</td>\n",
       "      <td>1142.909317</td>\n",
       "      <td>275.197343</td>\n",
       "      <td>787.0</td>\n",
       "      <td>904.0</td>\n",
       "      <td>1083.0</td>\n",
       "      <td>1340.0</td>\n",
       "      <td>1805.0</td>\n",
       "    </tr>\n",
       "  </tbody>\n",
       "</table>\n",
       "</div>"
      ],
      "text/plain": [
       "         count         mean         std    min    25%     50%     75%     max\n",
       "labels                                                                       \n",
       "0       4243.0   429.207872  174.843564   61.0  290.0   412.0   565.0   786.0\n",
       "1       1610.0  1142.909317  275.197343  787.0  904.0  1083.0  1340.0  1805.0"
      ]
     },
     "execution_count": 406,
     "metadata": {},
     "output_type": "execute_result"
    }
   ],
   "source": [
    "mb.groupby(['labels'])['tripduration'].describe()"
   ]
  },
  {
   "cell_type": "markdown",
   "metadata": {},
   "source": [
    "- 群0的骑行距离范围在61-786之间\n",
    "- 群1的骑行距离范围在787-1805之间"
   ]
  },
  {
   "cell_type": "code",
   "execution_count": 407,
   "metadata": {},
   "outputs": [
    {
     "data": {
      "text/html": [
       "<div>\n",
       "<style scoped>\n",
       "    .dataframe tbody tr th:only-of-type {\n",
       "        vertical-align: middle;\n",
       "    }\n",
       "\n",
       "    .dataframe tbody tr th {\n",
       "        vertical-align: top;\n",
       "    }\n",
       "\n",
       "    .dataframe thead th {\n",
       "        text-align: right;\n",
       "    }\n",
       "</style>\n",
       "<table border=\"1\" class=\"dataframe\">\n",
       "  <thead>\n",
       "    <tr style=\"text-align: right;\">\n",
       "      <th></th>\n",
       "      <th>count</th>\n",
       "      <th>mean</th>\n",
       "      <th>std</th>\n",
       "      <th>min</th>\n",
       "      <th>25%</th>\n",
       "      <th>50%</th>\n",
       "      <th>75%</th>\n",
       "      <th>max</th>\n",
       "    </tr>\n",
       "    <tr>\n",
       "      <th>labels</th>\n",
       "      <th></th>\n",
       "      <th></th>\n",
       "      <th></th>\n",
       "      <th></th>\n",
       "      <th></th>\n",
       "      <th></th>\n",
       "      <th></th>\n",
       "      <th></th>\n",
       "    </tr>\n",
       "  </thead>\n",
       "  <tbody>\n",
       "    <tr>\n",
       "      <th>0</th>\n",
       "      <td>4243.0</td>\n",
       "      <td>2.461230</td>\n",
       "      <td>1.793065</td>\n",
       "      <td>0.0</td>\n",
       "      <td>1.0</td>\n",
       "      <td>2.0</td>\n",
       "      <td>4.0</td>\n",
       "      <td>6.0</td>\n",
       "    </tr>\n",
       "    <tr>\n",
       "      <th>1</th>\n",
       "      <td>1610.0</td>\n",
       "      <td>2.649689</td>\n",
       "      <td>1.925658</td>\n",
       "      <td>0.0</td>\n",
       "      <td>1.0</td>\n",
       "      <td>2.0</td>\n",
       "      <td>4.0</td>\n",
       "      <td>6.0</td>\n",
       "    </tr>\n",
       "  </tbody>\n",
       "</table>\n",
       "</div>"
      ],
      "text/plain": [
       "         count      mean       std  min  25%  50%  75%  max\n",
       "labels                                                     \n",
       "0       4243.0  2.461230  1.793065  0.0  1.0  2.0  4.0  6.0\n",
       "1       1610.0  2.649689  1.925658  0.0  1.0  2.0  4.0  6.0"
      ]
     },
     "execution_count": 407,
     "metadata": {},
     "output_type": "execute_result"
    }
   ],
   "source": [
    "mb.groupby(['labels'])['dayofweek'].describe()"
   ]
  },
  {
   "cell_type": "markdown",
   "metadata": {},
   "source": [
    "- 两个群集的dayofweek差别不大"
   ]
  },
  {
   "cell_type": "code",
   "execution_count": 408,
   "metadata": {},
   "outputs": [
    {
     "data": {
      "text/html": [
       "<div>\n",
       "<style scoped>\n",
       "    .dataframe tbody tr th:only-of-type {\n",
       "        vertical-align: middle;\n",
       "    }\n",
       "\n",
       "    .dataframe tbody tr th {\n",
       "        vertical-align: top;\n",
       "    }\n",
       "\n",
       "    .dataframe thead th {\n",
       "        text-align: right;\n",
       "    }\n",
       "</style>\n",
       "<table border=\"1\" class=\"dataframe\">\n",
       "  <thead>\n",
       "    <tr style=\"text-align: right;\">\n",
       "      <th></th>\n",
       "      <th>count</th>\n",
       "      <th>mean</th>\n",
       "      <th>std</th>\n",
       "      <th>min</th>\n",
       "      <th>25%</th>\n",
       "      <th>50%</th>\n",
       "      <th>75%</th>\n",
       "      <th>max</th>\n",
       "    </tr>\n",
       "    <tr>\n",
       "      <th>labels</th>\n",
       "      <th></th>\n",
       "      <th></th>\n",
       "      <th></th>\n",
       "      <th></th>\n",
       "      <th></th>\n",
       "      <th></th>\n",
       "      <th></th>\n",
       "      <th></th>\n",
       "    </tr>\n",
       "  </thead>\n",
       "  <tbody>\n",
       "    <tr>\n",
       "      <th>0</th>\n",
       "      <td>4243.0</td>\n",
       "      <td>13.158850</td>\n",
       "      <td>4.795314</td>\n",
       "      <td>0.0</td>\n",
       "      <td>8.0</td>\n",
       "      <td>14.0</td>\n",
       "      <td>17.0</td>\n",
       "      <td>23.0</td>\n",
       "    </tr>\n",
       "    <tr>\n",
       "      <th>1</th>\n",
       "      <td>1610.0</td>\n",
       "      <td>13.532919</td>\n",
       "      <td>4.617956</td>\n",
       "      <td>0.0</td>\n",
       "      <td>9.0</td>\n",
       "      <td>15.0</td>\n",
       "      <td>17.0</td>\n",
       "      <td>23.0</td>\n",
       "    </tr>\n",
       "  </tbody>\n",
       "</table>\n",
       "</div>"
      ],
      "text/plain": [
       "         count       mean       std  min  25%   50%   75%   max\n",
       "labels                                                         \n",
       "0       4243.0  13.158850  4.795314  0.0  8.0  14.0  17.0  23.0\n",
       "1       1610.0  13.532919  4.617956  0.0  9.0  15.0  17.0  23.0"
      ]
     },
     "execution_count": 408,
     "metadata": {},
     "output_type": "execute_result"
    }
   ],
   "source": [
    "mb.groupby(['labels'])['hour'].describe()"
   ]
  },
  {
   "cell_type": "markdown",
   "metadata": {},
   "source": [
    "- 两个群集的hour差别不大"
   ]
  },
  {
   "cell_type": "code",
   "execution_count": 414,
   "metadata": {},
   "outputs": [],
   "source": [
    "# 把聚类中心结果导出到csv文件\n",
    "centers = pd.DataFrame(model_2.cluster_centers_)\n",
    "centers.to_csv('centers_2.csv')"
   ]
  },
  {
   "cell_type": "code",
   "execution_count": 418,
   "metadata": {},
   "outputs": [
    {
     "data": {
      "text/html": [
       "<img src='center_2.png'>\n"
      ],
      "text/plain": [
       "<IPython.core.display.HTML object>"
      ]
     },
     "metadata": {},
     "output_type": "display_data"
    }
   ],
   "source": [
    "%%html\n",
    "<img src='center_2.png'>"
   ]
  },
  {
   "cell_type": "markdown",
   "metadata": {},
   "source": [
    "- 由于timeduration和tripduration是线性相关的，因此群0和群1按照从小到大对数据分成了2半\n",
    "- 群0的骑行时间长度范围在1-13之间，骑行距离范围在61-786之间\n",
    "- 群1的骑行时间长度范围在13-30之间，骑行距离范围在787-1805之间"
   ]
  },
  {
   "cell_type": "code",
   "execution_count": null,
   "metadata": {},
   "outputs": [],
   "source": []
  }
 ],
 "metadata": {
  "kernelspec": {
   "display_name": "Python 3",
   "language": "python",
   "name": "python3"
  },
  "language_info": {
   "codemirror_mode": {
    "name": "ipython",
    "version": 3
   },
   "file_extension": ".py",
   "mimetype": "text/x-python",
   "name": "python",
   "nbconvert_exporter": "python",
   "pygments_lexer": "ipython3",
   "version": "3.7.3"
  },
  "toc": {
   "base_numbering": 1,
   "nav_menu": {},
   "number_sections": true,
   "sideBar": true,
   "skip_h1_title": false,
   "title_cell": "Table of Contents",
   "title_sidebar": "Contents",
   "toc_cell": false,
   "toc_position": {
    "height": "calc(100% - 180px)",
    "left": "10px",
    "top": "150px",
    "width": "165px"
   },
   "toc_section_display": true,
   "toc_window_display": true
  }
 },
 "nbformat": 4,
 "nbformat_minor": 2
}
