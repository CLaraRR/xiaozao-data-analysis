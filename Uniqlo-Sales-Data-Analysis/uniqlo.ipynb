{
 "cells": [
  {
   "cell_type": "markdown",
   "metadata": {},
   "source": [
    "# 任务说明"
   ]
  },
  {
   "cell_type": "markdown",
   "metadata": {},
   "source": [
    "优衣库为为日本迅销公司的核心品牌，建立于1984年。当年是一家销售西服的小服装店，现已成为国际知名服装品牌。优衣库(Uniqlo) 的内在涵义是指通过摒弃不必要装潢装饰的仓储型店铺，采用超市型的自助购物方式，以合理可信的价格提供顾客希望的商品。那么，如何更好地提供顾客所喜欢的商品、如何提升商品的利润、高效利用仓储空间，则是一个非常重要的企业课题。这一次，优衣库委托我们，通过分析大量的商品、用户以及销售数据，来更好地分析用户购买偏好以及不同产品的盈利情况。"
   ]
  },
  {
   "cell_type": "markdown",
   "metadata": {},
   "source": [
    "# 关键任务"
   ]
  },
  {
   "cell_type": "markdown",
   "metadata": {},
   "source": [
    "利用Python进行数据清洗与可视化，尝试分析以下关键问题：\n",
    "- 整体销售情况随着时间的变化是怎样的？\n",
    "- 不同产品的销售情况是怎样的？\n",
    "- 顾客偏爱哪一种购买方式？\n",
    "- 销售额和产品成本之间的关系怎么样？"
   ]
  },
  {
   "cell_type": "markdown",
   "metadata": {},
   "source": [
    "# 认识数据"
   ]
  },
  {
   "cell_type": "markdown",
   "metadata": {},
   "source": [
    "![jupyter](image3.png)"
   ]
  },
  {
   "cell_type": "markdown",
   "metadata": {},
   "source": [
    "# 数据分析流程"
   ]
  },
  {
   "cell_type": "markdown",
   "metadata": {},
   "source": [
    "![jupyter](./image.png)"
   ]
  },
  {
   "cell_type": "markdown",
   "metadata": {},
   "source": [
    "# 数据准备流程的思维导图"
   ]
  },
  {
   "cell_type": "markdown",
   "metadata": {},
   "source": [
    "![jupyter](image1.png)"
   ]
  },
  {
   "cell_type": "markdown",
   "metadata": {},
   "source": [
    "# 导入所需的库"
   ]
  },
  {
   "cell_type": "code",
   "execution_count": null,
   "metadata": {},
   "outputs": [],
   "source": [
    "import pandas as pd\n",
    "import matplotlib.pyplot as plt\n",
    "import seaborn as sns\n",
    "%matplotlib inline\n",
    "\n",
    "plt.rcParams['font.sans-serif'] = ['simhei']"
   ]
  },
  {
   "cell_type": "markdown",
   "metadata": {},
   "source": [
    "# 数据准备与清洗"
   ]
  },
  {
   "cell_type": "code",
   "execution_count": 289,
   "metadata": {
    "scrolled": true
   },
   "outputs": [
    {
     "name": "stdout",
     "output_type": "stream",
     "text": [
      "<class 'pandas.core.frame.DataFrame'>\n",
      "RangeIndex: 22293 entries, 0 to 22292\n",
      "Data columns (total 13 columns):\n",
      "store_id        22293 non-null int64\n",
      "city            22293 non-null object\n",
      "channel         22293 non-null object\n",
      "gender_group    22293 non-null object\n",
      "age_group       22293 non-null object\n",
      "wkd_ind         22293 non-null object\n",
      "product         22293 non-null object\n",
      "customer        22293 non-null int64\n",
      "revenue         22293 non-null float64\n",
      "order           22293 non-null int64\n",
      "quant           22293 non-null int64\n",
      "unit_cost       22293 non-null int64\n",
      "unit_price      22293 non-null int64\n",
      "dtypes: float64(1), int64(6), object(6)\n",
      "memory usage: 2.2+ MB\n"
     ]
    }
   ],
   "source": [
    "app = pd.read_csv('week1.unique.csv')\n",
    "app.info()"
   ]
  },
  {
   "cell_type": "markdown",
   "metadata": {},
   "source": [
    "从上面的列表可以观察知道，类别（离散）变量有store_id, city, channel, gender_group, age_group, wkd_ind, product7个，虽然store_id存储的格式是int64，但按照常识来讲它还是一个离散变量；而数值（连续）变量有customer, revenue, order, quant, unit_cost, unit_price6个。"
   ]
  },
  {
   "cell_type": "code",
   "execution_count": 290,
   "metadata": {},
   "outputs": [
    {
     "data": {
      "text/html": [
       "<div>\n",
       "<style scoped>\n",
       "    .dataframe tbody tr th:only-of-type {\n",
       "        vertical-align: middle;\n",
       "    }\n",
       "\n",
       "    .dataframe tbody tr th {\n",
       "        vertical-align: top;\n",
       "    }\n",
       "\n",
       "    .dataframe thead th {\n",
       "        text-align: right;\n",
       "    }\n",
       "</style>\n",
       "<table border=\"1\" class=\"dataframe\">\n",
       "  <thead>\n",
       "    <tr style=\"text-align: right;\">\n",
       "      <th></th>\n",
       "      <th>store_id</th>\n",
       "      <th>city</th>\n",
       "      <th>channel</th>\n",
       "      <th>gender_group</th>\n",
       "      <th>age_group</th>\n",
       "      <th>wkd_ind</th>\n",
       "      <th>product</th>\n",
       "      <th>customer</th>\n",
       "      <th>revenue</th>\n",
       "      <th>order</th>\n",
       "      <th>quant</th>\n",
       "      <th>unit_cost</th>\n",
       "      <th>unit_price</th>\n",
       "    </tr>\n",
       "  </thead>\n",
       "  <tbody>\n",
       "    <tr>\n",
       "      <td>0</td>\n",
       "      <td>658</td>\n",
       "      <td>深圳</td>\n",
       "      <td>线下</td>\n",
       "      <td>Female</td>\n",
       "      <td>25-29</td>\n",
       "      <td>Weekday</td>\n",
       "      <td>当季新品</td>\n",
       "      <td>4</td>\n",
       "      <td>796.0</td>\n",
       "      <td>4</td>\n",
       "      <td>4</td>\n",
       "      <td>59</td>\n",
       "      <td>199</td>\n",
       "    </tr>\n",
       "    <tr>\n",
       "      <td>1</td>\n",
       "      <td>146</td>\n",
       "      <td>杭州</td>\n",
       "      <td>线下</td>\n",
       "      <td>Female</td>\n",
       "      <td>25-29</td>\n",
       "      <td>Weekday</td>\n",
       "      <td>运动</td>\n",
       "      <td>1</td>\n",
       "      <td>149.0</td>\n",
       "      <td>1</td>\n",
       "      <td>1</td>\n",
       "      <td>49</td>\n",
       "      <td>149</td>\n",
       "    </tr>\n",
       "    <tr>\n",
       "      <td>2</td>\n",
       "      <td>70</td>\n",
       "      <td>深圳</td>\n",
       "      <td>线下</td>\n",
       "      <td>Male</td>\n",
       "      <td>&gt;=60</td>\n",
       "      <td>Weekday</td>\n",
       "      <td>T恤</td>\n",
       "      <td>2</td>\n",
       "      <td>178.0</td>\n",
       "      <td>2</td>\n",
       "      <td>2</td>\n",
       "      <td>49</td>\n",
       "      <td>89</td>\n",
       "    </tr>\n",
       "    <tr>\n",
       "      <td>3</td>\n",
       "      <td>658</td>\n",
       "      <td>深圳</td>\n",
       "      <td>线下</td>\n",
       "      <td>Female</td>\n",
       "      <td>25-29</td>\n",
       "      <td>Weekday</td>\n",
       "      <td>T恤</td>\n",
       "      <td>1</td>\n",
       "      <td>59.0</td>\n",
       "      <td>1</td>\n",
       "      <td>1</td>\n",
       "      <td>49</td>\n",
       "      <td>59</td>\n",
       "    </tr>\n",
       "    <tr>\n",
       "      <td>4</td>\n",
       "      <td>229</td>\n",
       "      <td>深圳</td>\n",
       "      <td>线下</td>\n",
       "      <td>Male</td>\n",
       "      <td>20-24</td>\n",
       "      <td>Weekend</td>\n",
       "      <td>袜子</td>\n",
       "      <td>2</td>\n",
       "      <td>65.0</td>\n",
       "      <td>2</td>\n",
       "      <td>3</td>\n",
       "      <td>9</td>\n",
       "      <td>22</td>\n",
       "    </tr>\n",
       "  </tbody>\n",
       "</table>\n",
       "</div>"
      ],
      "text/plain": [
       "   store_id city channel gender_group age_group  wkd_ind product  customer  \\\n",
       "0       658   深圳      线下       Female     25-29  Weekday    当季新品         4   \n",
       "1       146   杭州      线下       Female     25-29  Weekday      运动         1   \n",
       "2        70   深圳      线下         Male      >=60  Weekday      T恤         2   \n",
       "3       658   深圳      线下       Female     25-29  Weekday      T恤         1   \n",
       "4       229   深圳      线下         Male     20-24  Weekend      袜子         2   \n",
       "\n",
       "   revenue  order  quant  unit_cost  unit_price  \n",
       "0    796.0      4      4         59         199  \n",
       "1    149.0      1      1         49         149  \n",
       "2    178.0      2      2         49          89  \n",
       "3     59.0      1      1         49          59  \n",
       "4     65.0      2      3          9          22  "
      ]
     },
     "execution_count": 290,
     "metadata": {},
     "output_type": "execute_result"
    }
   ],
   "source": [
    "app.head()"
   ]
  },
  {
   "cell_type": "code",
   "execution_count": 291,
   "metadata": {},
   "outputs": [],
   "source": [
    "# 剔除store_id字段\n",
    "app.drop('store_id',axis=1,inplace=True)"
   ]
  },
  {
   "cell_type": "code",
   "execution_count": 292,
   "metadata": {},
   "outputs": [
    {
     "data": {
      "text/html": [
       "<div>\n",
       "<style scoped>\n",
       "    .dataframe tbody tr th:only-of-type {\n",
       "        vertical-align: middle;\n",
       "    }\n",
       "\n",
       "    .dataframe tbody tr th {\n",
       "        vertical-align: top;\n",
       "    }\n",
       "\n",
       "    .dataframe thead th {\n",
       "        text-align: right;\n",
       "    }\n",
       "</style>\n",
       "<table border=\"1\" class=\"dataframe\">\n",
       "  <thead>\n",
       "    <tr style=\"text-align: right;\">\n",
       "      <th></th>\n",
       "      <th>customer</th>\n",
       "      <th>revenue</th>\n",
       "      <th>order</th>\n",
       "      <th>quant</th>\n",
       "      <th>unit_cost</th>\n",
       "      <th>unit_price</th>\n",
       "    </tr>\n",
       "  </thead>\n",
       "  <tbody>\n",
       "    <tr>\n",
       "      <td>count</td>\n",
       "      <td>22293.000000</td>\n",
       "      <td>22293.000000</td>\n",
       "      <td>22293.000000</td>\n",
       "      <td>22293.000000</td>\n",
       "      <td>22293.000000</td>\n",
       "      <td>22293.000000</td>\n",
       "    </tr>\n",
       "    <tr>\n",
       "      <td>mean</td>\n",
       "      <td>1.629480</td>\n",
       "      <td>159.531371</td>\n",
       "      <td>1.651998</td>\n",
       "      <td>1.858072</td>\n",
       "      <td>46.124658</td>\n",
       "      <td>84.279998</td>\n",
       "    </tr>\n",
       "    <tr>\n",
       "      <td>std</td>\n",
       "      <td>1.785605</td>\n",
       "      <td>276.254066</td>\n",
       "      <td>1.861480</td>\n",
       "      <td>2.347301</td>\n",
       "      <td>19.124347</td>\n",
       "      <td>46.314296</td>\n",
       "    </tr>\n",
       "    <tr>\n",
       "      <td>min</td>\n",
       "      <td>1.000000</td>\n",
       "      <td>-0.660000</td>\n",
       "      <td>1.000000</td>\n",
       "      <td>1.000000</td>\n",
       "      <td>9.000000</td>\n",
       "      <td>0.000000</td>\n",
       "    </tr>\n",
       "    <tr>\n",
       "      <td>25%</td>\n",
       "      <td>1.000000</td>\n",
       "      <td>64.000000</td>\n",
       "      <td>1.000000</td>\n",
       "      <td>1.000000</td>\n",
       "      <td>49.000000</td>\n",
       "      <td>56.000000</td>\n",
       "    </tr>\n",
       "    <tr>\n",
       "      <td>50%</td>\n",
       "      <td>1.000000</td>\n",
       "      <td>99.000000</td>\n",
       "      <td>1.000000</td>\n",
       "      <td>1.000000</td>\n",
       "      <td>49.000000</td>\n",
       "      <td>79.000000</td>\n",
       "    </tr>\n",
       "    <tr>\n",
       "      <td>75%</td>\n",
       "      <td>2.000000</td>\n",
       "      <td>175.000000</td>\n",
       "      <td>2.000000</td>\n",
       "      <td>2.000000</td>\n",
       "      <td>49.000000</td>\n",
       "      <td>99.000000</td>\n",
       "    </tr>\n",
       "    <tr>\n",
       "      <td>max</td>\n",
       "      <td>58.000000</td>\n",
       "      <td>12538.000000</td>\n",
       "      <td>65.000000</td>\n",
       "      <td>84.000000</td>\n",
       "      <td>99.000000</td>\n",
       "      <td>299.000000</td>\n",
       "    </tr>\n",
       "  </tbody>\n",
       "</table>\n",
       "</div>"
      ],
      "text/plain": [
       "           customer       revenue         order         quant     unit_cost  \\\n",
       "count  22293.000000  22293.000000  22293.000000  22293.000000  22293.000000   \n",
       "mean       1.629480    159.531371      1.651998      1.858072     46.124658   \n",
       "std        1.785605    276.254066      1.861480      2.347301     19.124347   \n",
       "min        1.000000     -0.660000      1.000000      1.000000      9.000000   \n",
       "25%        1.000000     64.000000      1.000000      1.000000     49.000000   \n",
       "50%        1.000000     99.000000      1.000000      1.000000     49.000000   \n",
       "75%        2.000000    175.000000      2.000000      2.000000     49.000000   \n",
       "max       58.000000  12538.000000     65.000000     84.000000     99.000000   \n",
       "\n",
       "         unit_price  \n",
       "count  22293.000000  \n",
       "mean      84.279998  \n",
       "std       46.314296  \n",
       "min        0.000000  \n",
       "25%       56.000000  \n",
       "50%       79.000000  \n",
       "75%       99.000000  \n",
       "max      299.000000  "
      ]
     },
     "execution_count": 292,
     "metadata": {},
     "output_type": "execute_result"
    }
   ],
   "source": [
    "# 查看数据基本情况\n",
    "app.describe()"
   ]
  },
  {
   "cell_type": "code",
   "execution_count": 293,
   "metadata": {},
   "outputs": [
    {
     "data": {
      "text/html": [
       "<div>\n",
       "<style scoped>\n",
       "    .dataframe tbody tr th:only-of-type {\n",
       "        vertical-align: middle;\n",
       "    }\n",
       "\n",
       "    .dataframe tbody tr th {\n",
       "        vertical-align: top;\n",
       "    }\n",
       "\n",
       "    .dataframe thead th {\n",
       "        text-align: right;\n",
       "    }\n",
       "</style>\n",
       "<table border=\"1\" class=\"dataframe\">\n",
       "  <thead>\n",
       "    <tr style=\"text-align: right;\">\n",
       "      <th></th>\n",
       "      <th>customer</th>\n",
       "      <th>revenue</th>\n",
       "      <th>order</th>\n",
       "      <th>quant</th>\n",
       "      <th>unit_cost</th>\n",
       "      <th>unit_price</th>\n",
       "    </tr>\n",
       "  </thead>\n",
       "  <tbody>\n",
       "    <tr>\n",
       "      <td>count</td>\n",
       "      <td>22292.000000</td>\n",
       "      <td>22292.000000</td>\n",
       "      <td>22292.000000</td>\n",
       "      <td>22292.000000</td>\n",
       "      <td>22292.000000</td>\n",
       "      <td>22292.000000</td>\n",
       "    </tr>\n",
       "    <tr>\n",
       "      <td>mean</td>\n",
       "      <td>1.629508</td>\n",
       "      <td>159.538557</td>\n",
       "      <td>1.652028</td>\n",
       "      <td>1.858066</td>\n",
       "      <td>46.124529</td>\n",
       "      <td>84.283779</td>\n",
       "    </tr>\n",
       "    <tr>\n",
       "      <td>std</td>\n",
       "      <td>1.785640</td>\n",
       "      <td>276.258179</td>\n",
       "      <td>1.861517</td>\n",
       "      <td>2.347353</td>\n",
       "      <td>19.124766</td>\n",
       "      <td>46.311894</td>\n",
       "    </tr>\n",
       "    <tr>\n",
       "      <td>min</td>\n",
       "      <td>1.000000</td>\n",
       "      <td>0.000000</td>\n",
       "      <td>1.000000</td>\n",
       "      <td>1.000000</td>\n",
       "      <td>9.000000</td>\n",
       "      <td>0.000000</td>\n",
       "    </tr>\n",
       "    <tr>\n",
       "      <td>25%</td>\n",
       "      <td>1.000000</td>\n",
       "      <td>64.000000</td>\n",
       "      <td>1.000000</td>\n",
       "      <td>1.000000</td>\n",
       "      <td>49.000000</td>\n",
       "      <td>56.000000</td>\n",
       "    </tr>\n",
       "    <tr>\n",
       "      <td>50%</td>\n",
       "      <td>1.000000</td>\n",
       "      <td>99.000000</td>\n",
       "      <td>1.000000</td>\n",
       "      <td>1.000000</td>\n",
       "      <td>49.000000</td>\n",
       "      <td>79.000000</td>\n",
       "    </tr>\n",
       "    <tr>\n",
       "      <td>75%</td>\n",
       "      <td>2.000000</td>\n",
       "      <td>175.000000</td>\n",
       "      <td>2.000000</td>\n",
       "      <td>2.000000</td>\n",
       "      <td>49.000000</td>\n",
       "      <td>99.000000</td>\n",
       "    </tr>\n",
       "    <tr>\n",
       "      <td>max</td>\n",
       "      <td>58.000000</td>\n",
       "      <td>12538.000000</td>\n",
       "      <td>65.000000</td>\n",
       "      <td>84.000000</td>\n",
       "      <td>99.000000</td>\n",
       "      <td>299.000000</td>\n",
       "    </tr>\n",
       "  </tbody>\n",
       "</table>\n",
       "</div>"
      ],
      "text/plain": [
       "           customer       revenue         order         quant     unit_cost  \\\n",
       "count  22292.000000  22292.000000  22292.000000  22292.000000  22292.000000   \n",
       "mean       1.629508    159.538557      1.652028      1.858066     46.124529   \n",
       "std        1.785640    276.258179      1.861517      2.347353     19.124766   \n",
       "min        1.000000      0.000000      1.000000      1.000000      9.000000   \n",
       "25%        1.000000     64.000000      1.000000      1.000000     49.000000   \n",
       "50%        1.000000     99.000000      1.000000      1.000000     49.000000   \n",
       "75%        2.000000    175.000000      2.000000      2.000000     49.000000   \n",
       "max       58.000000  12538.000000     65.000000     84.000000     99.000000   \n",
       "\n",
       "         unit_price  \n",
       "count  22292.000000  \n",
       "mean      84.283779  \n",
       "std       46.311894  \n",
       "min        0.000000  \n",
       "25%       56.000000  \n",
       "50%       79.000000  \n",
       "75%       99.000000  \n",
       "max      299.000000  "
      ]
     },
     "execution_count": 293,
     "metadata": {},
     "output_type": "execute_result"
    }
   ],
   "source": [
    "# revenue有负数，剔除该异常数据\n",
    "app_clean = app.copy()\n",
    "app_clean = app_clean[app_clean['revenue'] >= 0]\n",
    "app_clean.describe()"
   ]
  },
  {
   "cell_type": "code",
   "execution_count": 294,
   "metadata": {},
   "outputs": [
    {
     "data": {
      "text/plain": [
       "array(['深圳', '杭州', '武汉', '北京', '重庆', '西安', '广州', '南京', '上海', '成都'],\n",
       "      dtype=object)"
      ]
     },
     "execution_count": 294,
     "metadata": {},
     "output_type": "execute_result"
    }
   ],
   "source": [
    "# 查看city是否有异常值\n",
    "app_clean['city'].unique()"
   ]
  },
  {
   "cell_type": "code",
   "execution_count": 295,
   "metadata": {},
   "outputs": [
    {
     "data": {
      "text/plain": [
       "array(['Female', 'Male', 'Unkown'], dtype=object)"
      ]
     },
     "execution_count": 295,
     "metadata": {},
     "output_type": "execute_result"
    }
   ],
   "source": [
    "# 查看gender_group是否有异常值\n",
    "app_clean['gender_group'].unique()"
   ]
  },
  {
   "cell_type": "code",
   "execution_count": 296,
   "metadata": {},
   "outputs": [
    {
     "data": {
      "text/plain": [
       "array(['Female', 'Male'], dtype=object)"
      ]
     },
     "execution_count": 296,
     "metadata": {},
     "output_type": "execute_result"
    }
   ],
   "source": [
    "# 有异常值Unkown，要去除这些数据\n",
    "app_clean = app_clean[app_clean['gender_group'] != 'Unkown']\n",
    "app_clean['gender_group'].unique()"
   ]
  },
  {
   "cell_type": "markdown",
   "metadata": {},
   "source": [
    "去除Unkown后，gender_group字段只剩下Female和Male两种类型。"
   ]
  },
  {
   "cell_type": "code",
   "execution_count": 297,
   "metadata": {},
   "outputs": [
    {
     "data": {
      "text/plain": [
       "array(['25-29', '>=60', '20-24', '35-39', '30-34', '45-49', '50-54',\n",
       "       '40-44', '55-59', '<20', 'Unkown'], dtype=object)"
      ]
     },
     "execution_count": 297,
     "metadata": {},
     "output_type": "execute_result"
    }
   ],
   "source": [
    "# 查看age_group是否异常值\n",
    "app_clean['age_group'].unique()"
   ]
  },
  {
   "cell_type": "code",
   "execution_count": 298,
   "metadata": {},
   "outputs": [
    {
     "data": {
      "text/plain": [
       "array(['25-29', '>=60', '20-24', '35-39', '30-34', '45-49', '50-54',\n",
       "       '40-44', '55-59', '<20'], dtype=object)"
      ]
     },
     "execution_count": 298,
     "metadata": {},
     "output_type": "execute_result"
    }
   ],
   "source": [
    "# 有异常值Unkown，要去除这些数据\n",
    "app_clean = app_clean[app_clean['age_group'] != 'Unkown']\n",
    "app_clean['age_group'].unique()"
   ]
  },
  {
   "cell_type": "code",
   "execution_count": 299,
   "metadata": {},
   "outputs": [],
   "source": [
    "# 创建衍生变量 - 产品利润,指单个产品的利润\n",
    "app_clean['margin'] = app_clean['revenue']/app_clean['quant'] - app_clean['unit_cost']"
   ]
  },
  {
   "cell_type": "code",
   "execution_count": 300,
   "metadata": {},
   "outputs": [],
   "source": [
    "# 创建衍生变量 - 销售利润，指该产品销售的总利润\n",
    "app_clean['margin_total'] = app_clean['revenue'] - app_clean['unit_cost']*app_clean['quant']"
   ]
  },
  {
   "cell_type": "code",
   "execution_count": 375,
   "metadata": {},
   "outputs": [],
   "source": [
    "# 创建衍生变量 - 产品平均销售额，指该产品单个的销售额\n",
    "app_clean['unit_revenue_of_product'] = app_clean['revenue']/app_clean['quant']"
   ]
  },
  {
   "cell_type": "code",
   "execution_count": 301,
   "metadata": {},
   "outputs": [],
   "source": [
    "# 创建衍生变量 - 人均消费额\n",
    "app_clean['unit_revenue_of_customer'] = app_clean['revenue']/app_clean['customer']"
   ]
  },
  {
   "cell_type": "code",
   "execution_count": 302,
   "metadata": {},
   "outputs": [
    {
     "data": {
      "text/html": [
       "<div>\n",
       "<style scoped>\n",
       "    .dataframe tbody tr th:only-of-type {\n",
       "        vertical-align: middle;\n",
       "    }\n",
       "\n",
       "    .dataframe tbody tr th {\n",
       "        vertical-align: top;\n",
       "    }\n",
       "\n",
       "    .dataframe thead th {\n",
       "        text-align: right;\n",
       "    }\n",
       "</style>\n",
       "<table border=\"1\" class=\"dataframe\">\n",
       "  <thead>\n",
       "    <tr style=\"text-align: right;\">\n",
       "      <th></th>\n",
       "      <th>customer</th>\n",
       "      <th>revenue</th>\n",
       "      <th>order</th>\n",
       "      <th>quant</th>\n",
       "      <th>unit_cost</th>\n",
       "      <th>unit_price</th>\n",
       "      <th>margin</th>\n",
       "      <th>margin_total</th>\n",
       "      <th>unit_revenue_of_customer</th>\n",
       "    </tr>\n",
       "  </thead>\n",
       "  <tbody>\n",
       "    <tr>\n",
       "      <td>count</td>\n",
       "      <td>22153.000000</td>\n",
       "      <td>22153.000000</td>\n",
       "      <td>22153.000000</td>\n",
       "      <td>22153.000000</td>\n",
       "      <td>22153.000000</td>\n",
       "      <td>22153.000000</td>\n",
       "      <td>22153.000000</td>\n",
       "      <td>22153.000000</td>\n",
       "      <td>22153.000000</td>\n",
       "    </tr>\n",
       "    <tr>\n",
       "      <td>mean</td>\n",
       "      <td>1.633142</td>\n",
       "      <td>159.980664</td>\n",
       "      <td>1.655758</td>\n",
       "      <td>1.862547</td>\n",
       "      <td>46.141696</td>\n",
       "      <td>84.316797</td>\n",
       "      <td>38.160764</td>\n",
       "      <td>75.124933</td>\n",
       "      <td>93.308863</td>\n",
       "    </tr>\n",
       "    <tr>\n",
       "      <td>std</td>\n",
       "      <td>1.790534</td>\n",
       "      <td>277.029751</td>\n",
       "      <td>1.866587</td>\n",
       "      <td>2.353762</td>\n",
       "      <td>19.126855</td>\n",
       "      <td>46.309778</td>\n",
       "      <td>40.236612</td>\n",
       "      <td>180.324706</td>\n",
       "      <td>76.764955</td>\n",
       "    </tr>\n",
       "    <tr>\n",
       "      <td>min</td>\n",
       "      <td>1.000000</td>\n",
       "      <td>0.000000</td>\n",
       "      <td>1.000000</td>\n",
       "      <td>1.000000</td>\n",
       "      <td>9.000000</td>\n",
       "      <td>0.000000</td>\n",
       "      <td>-99.000000</td>\n",
       "      <td>-650.000000</td>\n",
       "      <td>0.000000</td>\n",
       "    </tr>\n",
       "    <tr>\n",
       "      <td>25%</td>\n",
       "      <td>1.000000</td>\n",
       "      <td>65.510000</td>\n",
       "      <td>1.000000</td>\n",
       "      <td>1.000000</td>\n",
       "      <td>49.000000</td>\n",
       "      <td>56.000000</td>\n",
       "      <td>14.000000</td>\n",
       "      <td>18.000000</td>\n",
       "      <td>59.000000</td>\n",
       "    </tr>\n",
       "    <tr>\n",
       "      <td>50%</td>\n",
       "      <td>1.000000</td>\n",
       "      <td>99.000000</td>\n",
       "      <td>1.000000</td>\n",
       "      <td>1.000000</td>\n",
       "      <td>49.000000</td>\n",
       "      <td>79.000000</td>\n",
       "      <td>30.000000</td>\n",
       "      <td>41.000000</td>\n",
       "      <td>79.000000</td>\n",
       "    </tr>\n",
       "    <tr>\n",
       "      <td>75%</td>\n",
       "      <td>2.000000</td>\n",
       "      <td>176.000000</td>\n",
       "      <td>2.000000</td>\n",
       "      <td>2.000000</td>\n",
       "      <td>49.000000</td>\n",
       "      <td>99.000000</td>\n",
       "      <td>50.000000</td>\n",
       "      <td>88.000000</td>\n",
       "      <td>99.000000</td>\n",
       "    </tr>\n",
       "    <tr>\n",
       "      <td>max</td>\n",
       "      <td>58.000000</td>\n",
       "      <td>12538.000000</td>\n",
       "      <td>65.000000</td>\n",
       "      <td>84.000000</td>\n",
       "      <td>99.000000</td>\n",
       "      <td>299.000000</td>\n",
       "      <td>270.000000</td>\n",
       "      <td>8408.000000</td>\n",
       "      <td>6636.000000</td>\n",
       "    </tr>\n",
       "  </tbody>\n",
       "</table>\n",
       "</div>"
      ],
      "text/plain": [
       "           customer       revenue         order         quant     unit_cost  \\\n",
       "count  22153.000000  22153.000000  22153.000000  22153.000000  22153.000000   \n",
       "mean       1.633142    159.980664      1.655758      1.862547     46.141696   \n",
       "std        1.790534    277.029751      1.866587      2.353762     19.126855   \n",
       "min        1.000000      0.000000      1.000000      1.000000      9.000000   \n",
       "25%        1.000000     65.510000      1.000000      1.000000     49.000000   \n",
       "50%        1.000000     99.000000      1.000000      1.000000     49.000000   \n",
       "75%        2.000000    176.000000      2.000000      2.000000     49.000000   \n",
       "max       58.000000  12538.000000     65.000000     84.000000     99.000000   \n",
       "\n",
       "         unit_price        margin  margin_total  unit_revenue_of_customer  \n",
       "count  22153.000000  22153.000000  22153.000000              22153.000000  \n",
       "mean      84.316797     38.160764     75.124933                 93.308863  \n",
       "std       46.309778     40.236612    180.324706                 76.764955  \n",
       "min        0.000000    -99.000000   -650.000000                  0.000000  \n",
       "25%       56.000000     14.000000     18.000000                 59.000000  \n",
       "50%       79.000000     30.000000     41.000000                 79.000000  \n",
       "75%       99.000000     50.000000     88.000000                 99.000000  \n",
       "max      299.000000    270.000000   8408.000000               6636.000000  "
      ]
     },
     "execution_count": 302,
     "metadata": {},
     "output_type": "execute_result"
    }
   ],
   "source": [
    "app_clean.describe()"
   ]
  },
  {
   "cell_type": "code",
   "execution_count": 303,
   "metadata": {},
   "outputs": [
    {
     "data": {
      "text/html": [
       "<div>\n",
       "<style scoped>\n",
       "    .dataframe tbody tr th:only-of-type {\n",
       "        vertical-align: middle;\n",
       "    }\n",
       "\n",
       "    .dataframe tbody tr th {\n",
       "        vertical-align: top;\n",
       "    }\n",
       "\n",
       "    .dataframe thead th {\n",
       "        text-align: right;\n",
       "    }\n",
       "</style>\n",
       "<table border=\"1\" class=\"dataframe\">\n",
       "  <thead>\n",
       "    <tr style=\"text-align: right;\">\n",
       "      <th></th>\n",
       "      <th>city</th>\n",
       "      <th>channel</th>\n",
       "      <th>gender_group</th>\n",
       "      <th>age_group</th>\n",
       "      <th>wkd_ind</th>\n",
       "      <th>product</th>\n",
       "      <th>customer</th>\n",
       "      <th>revenue</th>\n",
       "      <th>order</th>\n",
       "      <th>quant</th>\n",
       "      <th>unit_cost</th>\n",
       "      <th>unit_price</th>\n",
       "      <th>margin</th>\n",
       "      <th>margin_total</th>\n",
       "      <th>unit_revenue_of_customer</th>\n",
       "    </tr>\n",
       "  </thead>\n",
       "  <tbody>\n",
       "    <tr>\n",
       "      <td>0</td>\n",
       "      <td>深圳</td>\n",
       "      <td>线下</td>\n",
       "      <td>Female</td>\n",
       "      <td>25-29</td>\n",
       "      <td>Weekday</td>\n",
       "      <td>当季新品</td>\n",
       "      <td>4</td>\n",
       "      <td>796.0</td>\n",
       "      <td>4</td>\n",
       "      <td>4</td>\n",
       "      <td>59</td>\n",
       "      <td>199</td>\n",
       "      <td>140.000000</td>\n",
       "      <td>560.0</td>\n",
       "      <td>199.0</td>\n",
       "    </tr>\n",
       "    <tr>\n",
       "      <td>1</td>\n",
       "      <td>杭州</td>\n",
       "      <td>线下</td>\n",
       "      <td>Female</td>\n",
       "      <td>25-29</td>\n",
       "      <td>Weekday</td>\n",
       "      <td>运动</td>\n",
       "      <td>1</td>\n",
       "      <td>149.0</td>\n",
       "      <td>1</td>\n",
       "      <td>1</td>\n",
       "      <td>49</td>\n",
       "      <td>149</td>\n",
       "      <td>100.000000</td>\n",
       "      <td>100.0</td>\n",
       "      <td>149.0</td>\n",
       "    </tr>\n",
       "    <tr>\n",
       "      <td>2</td>\n",
       "      <td>深圳</td>\n",
       "      <td>线下</td>\n",
       "      <td>Male</td>\n",
       "      <td>&gt;=60</td>\n",
       "      <td>Weekday</td>\n",
       "      <td>T恤</td>\n",
       "      <td>2</td>\n",
       "      <td>178.0</td>\n",
       "      <td>2</td>\n",
       "      <td>2</td>\n",
       "      <td>49</td>\n",
       "      <td>89</td>\n",
       "      <td>40.000000</td>\n",
       "      <td>80.0</td>\n",
       "      <td>89.0</td>\n",
       "    </tr>\n",
       "    <tr>\n",
       "      <td>3</td>\n",
       "      <td>深圳</td>\n",
       "      <td>线下</td>\n",
       "      <td>Female</td>\n",
       "      <td>25-29</td>\n",
       "      <td>Weekday</td>\n",
       "      <td>T恤</td>\n",
       "      <td>1</td>\n",
       "      <td>59.0</td>\n",
       "      <td>1</td>\n",
       "      <td>1</td>\n",
       "      <td>49</td>\n",
       "      <td>59</td>\n",
       "      <td>10.000000</td>\n",
       "      <td>10.0</td>\n",
       "      <td>59.0</td>\n",
       "    </tr>\n",
       "    <tr>\n",
       "      <td>4</td>\n",
       "      <td>深圳</td>\n",
       "      <td>线下</td>\n",
       "      <td>Male</td>\n",
       "      <td>20-24</td>\n",
       "      <td>Weekend</td>\n",
       "      <td>袜子</td>\n",
       "      <td>2</td>\n",
       "      <td>65.0</td>\n",
       "      <td>2</td>\n",
       "      <td>3</td>\n",
       "      <td>9</td>\n",
       "      <td>22</td>\n",
       "      <td>12.666667</td>\n",
       "      <td>38.0</td>\n",
       "      <td>32.5</td>\n",
       "    </tr>\n",
       "  </tbody>\n",
       "</table>\n",
       "</div>"
      ],
      "text/plain": [
       "  city channel gender_group age_group  wkd_ind product  customer  revenue  \\\n",
       "0   深圳      线下       Female     25-29  Weekday    当季新品         4    796.0   \n",
       "1   杭州      线下       Female     25-29  Weekday      运动         1    149.0   \n",
       "2   深圳      线下         Male      >=60  Weekday      T恤         2    178.0   \n",
       "3   深圳      线下       Female     25-29  Weekday      T恤         1     59.0   \n",
       "4   深圳      线下         Male     20-24  Weekend      袜子         2     65.0   \n",
       "\n",
       "   order  quant  unit_cost  unit_price      margin  margin_total  \\\n",
       "0      4      4         59         199  140.000000         560.0   \n",
       "1      1      1         49         149  100.000000         100.0   \n",
       "2      2      2         49          89   40.000000          80.0   \n",
       "3      1      1         49          59   10.000000          10.0   \n",
       "4      2      3          9          22   12.666667          38.0   \n",
       "\n",
       "   unit_revenue_of_customer  \n",
       "0                     199.0  \n",
       "1                     149.0  \n",
       "2                      89.0  \n",
       "3                      59.0  \n",
       "4                      32.5  "
      ]
     },
     "execution_count": 303,
     "metadata": {},
     "output_type": "execute_result"
    }
   ],
   "source": [
    "app_clean.head()"
   ]
  },
  {
   "cell_type": "markdown",
   "metadata": {},
   "source": [
    "数据清洗完成，开始进行数据分析。"
   ]
  },
  {
   "cell_type": "markdown",
   "metadata": {},
   "source": [
    "# 简单分析\n",
    "简单分析单变量的计数情况，包括类别变量和数值变量的情况"
   ]
  },
  {
   "cell_type": "markdown",
   "metadata": {},
   "source": [
    "## 不同城市的销售情况"
   ]
  },
  {
   "cell_type": "code",
   "execution_count": 304,
   "metadata": {},
   "outputs": [
    {
     "data": {
      "text/plain": [
       "深圳    4331\n",
       "杭州    3764\n",
       "武汉    3550\n",
       "上海    2366\n",
       "广州    2174\n",
       "重庆    1774\n",
       "西安    1603\n",
       "成都    1521\n",
       "北京     576\n",
       "南京     494\n",
       "Name: city, dtype: int64"
      ]
     },
     "execution_count": 304,
     "metadata": {},
     "output_type": "execute_result"
    }
   ],
   "source": [
    "app_clean['city'].value_counts()"
   ]
  },
  {
   "cell_type": "code",
   "execution_count": 305,
   "metadata": {},
   "outputs": [
    {
     "data": {
      "text/plain": [
       "<matplotlib.axes._subplots.AxesSubplot at 0x12164912488>"
      ]
     },
     "execution_count": 305,
     "metadata": {},
     "output_type": "execute_result"
    },
    {
     "data": {
      "image/png": "[encoded data removed]",
      "text/plain": [
       "<Figure size 432x288 with 1 Axes>"
      ]
     },
     "metadata": {
      "needs_background": "light"
     },
     "output_type": "display_data"
    }
   ],
   "source": [
    "sns.countplot(x='city', data=app_clean, order=app_clean['city'].value_counts().index)"
   ]
  },
  {
   "cell_type": "markdown",
   "metadata": {},
   "source": [
    "结论：数据主要集中在深圳、杭州、武汉这三个城市"
   ]
  },
  {
   "cell_type": "markdown",
   "metadata": {},
   "source": [
    "## 不同性别的销售情况"
   ]
  },
  {
   "cell_type": "code",
   "execution_count": 306,
   "metadata": {},
   "outputs": [
    {
     "data": {
      "text/plain": [
       "Female    14196\n",
       "Male       7957\n",
       "Name: gender_group, dtype: int64"
      ]
     },
     "execution_count": 306,
     "metadata": {},
     "output_type": "execute_result"
    }
   ],
   "source": [
    "app_clean['gender_group'].value_counts()"
   ]
  },
  {
   "cell_type": "code",
   "execution_count": 307,
   "metadata": {},
   "outputs": [
    {
     "data": {
      "text/plain": [
       "<matplotlib.axes._subplots.AxesSubplot at 0x12164dfa348>"
      ]
     },
     "execution_count": 307,
     "metadata": {},
     "output_type": "execute_result"
    },
    {
     "data": {
      "image/png": "[encoded data removed]",
      "text/plain": [
       "<Figure size 432x288 with 1 Axes>"
      ]
     },
     "metadata": {
      "needs_background": "light"
     },
     "output_type": "display_data"
    }
   ],
   "source": [
    "sns.countplot(x='gender_group', data=app_clean)"
   ]
  },
  {
   "cell_type": "markdown",
   "metadata": {},
   "source": [
    "结论：女性客户比男性客户多了近一倍。主要客户群体为女性。"
   ]
  },
  {
   "cell_type": "markdown",
   "metadata": {},
   "source": [
    "## 不同销售渠道的销售情况"
   ]
  },
  {
   "cell_type": "code",
   "execution_count": 308,
   "metadata": {},
   "outputs": [
    {
     "data": {
      "text/plain": [
       "线下    18294\n",
       "线上     3859\n",
       "Name: channel, dtype: int64"
      ]
     },
     "execution_count": 308,
     "metadata": {},
     "output_type": "execute_result"
    }
   ],
   "source": [
    "app_clean['channel'].value_counts()"
   ]
  },
  {
   "cell_type": "code",
   "execution_count": 309,
   "metadata": {},
   "outputs": [
    {
     "data": {
      "text/plain": [
       "<matplotlib.axes._subplots.AxesSubplot at 0x12164e5b548>"
      ]
     },
     "execution_count": 309,
     "metadata": {},
     "output_type": "execute_result"
    },
    {
     "data": {
      "image/png": "[encoded data removed]",
      "text/plain": [
       "<Figure size 432x288 with 1 Axes>"
      ]
     },
     "metadata": {
      "needs_background": "light"
     },
     "output_type": "display_data"
    }
   ],
   "source": [
    "sns.countplot(x='channel', data=app_clean)"
   ]
  },
  {
   "cell_type": "markdown",
   "metadata": {},
   "source": [
    "结论：线下购买的客户远远多于线上购买的"
   ]
  },
  {
   "cell_type": "markdown",
   "metadata": {},
   "source": [
    "## 不同年龄分段的销售情况"
   ]
  },
  {
   "cell_type": "code",
   "execution_count": 310,
   "metadata": {},
   "outputs": [
    {
     "data": {
      "text/plain": [
       "30-34    4426\n",
       "25-29    4224\n",
       "35-39    3690\n",
       "20-24    3345\n",
       "40-44    1954\n",
       ">=60     1574\n",
       "45-49    1095\n",
       "50-54     672\n",
       "<20       660\n",
       "55-59     513\n",
       "Name: age_group, dtype: int64"
      ]
     },
     "execution_count": 310,
     "metadata": {},
     "output_type": "execute_result"
    }
   ],
   "source": [
    "app_clean['age_group'].value_counts()"
   ]
  },
  {
   "cell_type": "code",
   "execution_count": 311,
   "metadata": {},
   "outputs": [
    {
     "data": {
      "text/plain": [
       "<matplotlib.axes._subplots.AxesSubplot at 0x12164eb0a08>"
      ]
     },
     "execution_count": 311,
     "metadata": {},
     "output_type": "execute_result"
    },
    {
     "data": {
      "image/png": "[encoded data removed]",
      "text/plain": [
       "<Figure size 432x288 with 1 Axes>"
      ]
     },
     "metadata": {
      "needs_background": "light"
     },
     "output_type": "display_data"
    }
   ],
   "source": [
    "age_groups = ['<20', '20-24', '25-29', '30-34', '35-39', '40-44', '45-49', '50-54', '55-59', '>=60']\n",
    "sns.countplot(x='age_group', data=app_clean, order=age_groups)"
   ]
  },
  {
   "cell_type": "markdown",
   "metadata": {},
   "source": [
    "结论：客户的年龄段集中在20-40之间，60岁以上用户可能没有填写正确信息"
   ]
  },
  {
   "cell_type": "markdown",
   "metadata": {},
   "source": [
    "## 不同产品类别的销售情况"
   ]
  },
  {
   "cell_type": "code",
   "execution_count": 312,
   "metadata": {},
   "outputs": [
    {
     "data": {
      "text/plain": [
       "T恤      10549\n",
       "当季新品     2531\n",
       "袜子       2040\n",
       "短裤       1681\n",
       "配件       1553\n",
       "牛仔裤      1396\n",
       "运动        969\n",
       "毛衣        805\n",
       "裙子        629\n",
       "Name: product, dtype: int64"
      ]
     },
     "execution_count": 312,
     "metadata": {},
     "output_type": "execute_result"
    }
   ],
   "source": [
    "app_clean['product'].value_counts()"
   ]
  },
  {
   "cell_type": "code",
   "execution_count": 313,
   "metadata": {},
   "outputs": [
    {
     "data": {
      "text/plain": [
       "<matplotlib.axes._subplots.AxesSubplot at 0x12164f3d4c8>"
      ]
     },
     "execution_count": 313,
     "metadata": {},
     "output_type": "execute_result"
    },
    {
     "data": {
      "image/png": "[encoded data removed]",
      "text/plain": [
       "<Figure size 432x288 with 1 Axes>"
      ]
     },
     "metadata": {
      "needs_background": "light"
     },
     "output_type": "display_data"
    }
   ],
   "source": [
    "sns.countplot(x='product', data=app_clean, order=app_clean['product'].value_counts().index)"
   ]
  },
  {
   "cell_type": "markdown",
   "metadata": {},
   "source": [
    "结论：T恤的销售情况最好。"
   ]
  },
  {
   "cell_type": "markdown",
   "metadata": {},
   "source": [
    "## 查看销售额的分布情况"
   ]
  },
  {
   "cell_type": "code",
   "execution_count": 314,
   "metadata": {},
   "outputs": [
    {
     "data": {
      "text/plain": [
       "count    22153.000000\n",
       "mean       159.980664\n",
       "std        277.029751\n",
       "min          0.000000\n",
       "25%         65.510000\n",
       "50%         99.000000\n",
       "75%        176.000000\n",
       "max      12538.000000\n",
       "Name: revenue, dtype: float64"
      ]
     },
     "execution_count": 314,
     "metadata": {},
     "output_type": "execute_result"
    }
   ],
   "source": [
    "app_clean['revenue'].describe()"
   ]
  },
  {
   "cell_type": "markdown",
   "metadata": {},
   "source": [
    "发现：75%的数据在175以内"
   ]
  },
  {
   "cell_type": "code",
   "execution_count": 315,
   "metadata": {},
   "outputs": [
    {
     "data": {
      "text/plain": [
       "<matplotlib.axes._subplots.AxesSubplot at 0x12164f91808>"
      ]
     },
     "execution_count": 315,
     "metadata": {},
     "output_type": "execute_result"
    },
    {
     "data": {
      "image/png": "[encoded data removed]",
      "text/plain": [
       "<Figure size 432x288 with 1 Axes>"
      ]
     },
     "metadata": {
      "needs_background": "light"
     },
     "output_type": "display_data"
    }
   ],
   "source": [
    "sns.distplot(app_clean['revenue'])"
   ]
  },
  {
   "cell_type": "markdown",
   "metadata": {},
   "source": [
    "问题：大于2000以上可称为离群点，这些离群点导致画图的不美观\n",
    "\n",
    "改进：只取小于2000以内的数据进行绘图"
   ]
  },
  {
   "cell_type": "code",
   "execution_count": 316,
   "metadata": {},
   "outputs": [
    {
     "data": {
      "text/plain": [
       "<matplotlib.axes._subplots.AxesSubplot at 0x12164794c88>"
      ]
     },
     "execution_count": 316,
     "metadata": {},
     "output_type": "execute_result"
    },
    {
     "data": {
      "image/png": "[encoded data removed]",
      "text/plain": [
       "<Figure size 432x288 with 1 Axes>"
      ]
     },
     "metadata": {
      "needs_background": "light"
     },
     "output_type": "display_data"
    }
   ],
   "source": [
    "sns.distplot(app_clean[app_clean['revenue']<=2000]['revenue'])"
   ]
  },
  {
   "cell_type": "markdown",
   "metadata": {},
   "source": [
    "结论：销售情况主要集中在销售额为0-1000之间，在100左右销售额的销售情况最好，75%的销售额在176元以下。"
   ]
  },
  {
   "cell_type": "markdown",
   "metadata": {},
   "source": [
    "## 查看销售单价的分布情况"
   ]
  },
  {
   "cell_type": "code",
   "execution_count": 317,
   "metadata": {},
   "outputs": [
    {
     "data": {
      "text/plain": [
       "count    22153.000000\n",
       "mean        84.316797\n",
       "std         46.309778\n",
       "min          0.000000\n",
       "25%         56.000000\n",
       "50%         79.000000\n",
       "75%         99.000000\n",
       "max        299.000000\n",
       "Name: unit_price, dtype: float64"
      ]
     },
     "execution_count": 317,
     "metadata": {},
     "output_type": "execute_result"
    }
   ],
   "source": [
    "app_clean['unit_price'].describe()"
   ]
  },
  {
   "cell_type": "code",
   "execution_count": 318,
   "metadata": {},
   "outputs": [
    {
     "data": {
      "text/plain": [
       "<matplotlib.axes._subplots.AxesSubplot at 0x121646ff548>"
      ]
     },
     "execution_count": 318,
     "metadata": {},
     "output_type": "execute_result"
    },
    {
     "data": {
      "image/png": "[encoded data removed]",
      "text/plain": [
       "<Figure size 432x288 with 1 Axes>"
      ]
     },
     "metadata": {
      "needs_background": "light"
     },
     "output_type": "display_data"
    }
   ],
   "source": [
    "sns.distplot(app_clean['unit_price'])"
   ]
  },
  {
   "cell_type": "markdown",
   "metadata": {},
   "source": [
    "结论：销售情况主要分布在单价为0-250之间，其中在50-150之间的销售情况最好，75%的销售单价在99元以下"
   ]
  },
  {
   "cell_type": "markdown",
   "metadata": {},
   "source": [
    "## 查看产品利润的分布情况"
   ]
  },
  {
   "cell_type": "code",
   "execution_count": 372,
   "metadata": {},
   "outputs": [
    {
     "data": {
      "text/plain": [
       "count    22153.000000\n",
       "mean        38.160764\n",
       "std         40.236612\n",
       "min        -99.000000\n",
       "25%         14.000000\n",
       "50%         30.000000\n",
       "75%         50.000000\n",
       "max        270.000000\n",
       "Name: margin, dtype: float64"
      ]
     },
     "execution_count": 372,
     "metadata": {},
     "output_type": "execute_result"
    }
   ],
   "source": [
    "# 要注意margin是指单个产品的利润，要看销售利润的话应使用margin_total\n",
    "app_clean['margin'].describe()"
   ]
  },
  {
   "cell_type": "code",
   "execution_count": 373,
   "metadata": {},
   "outputs": [
    {
     "data": {
      "image/png": "[encoded data removed]",
      "text/plain": [
       "<Figure size 432x288 with 1 Axes>"
      ]
     },
     "metadata": {
      "needs_background": "light"
     },
     "output_type": "display_data"
    }
   ],
   "source": [
    "sns.distplot(app_clean['margin'])\n",
    "plt.rcParams['axes.unicode_minus']=False"
   ]
  },
  {
   "cell_type": "markdown",
   "metadata": {},
   "source": [
    "结论：产品利润主要分布在-50到200之间，75%的产品利润在50元以下，且产品的利润是有亏损的情况的，最大亏损了99元。"
   ]
  },
  {
   "cell_type": "markdown",
   "metadata": {},
   "source": [
    "## 查看销售利润的分布情况"
   ]
  },
  {
   "cell_type": "code",
   "execution_count": 319,
   "metadata": {},
   "outputs": [
    {
     "data": {
      "text/plain": [
       "count    22153.000000\n",
       "mean        75.124933\n",
       "std        180.324706\n",
       "min       -650.000000\n",
       "25%         18.000000\n",
       "50%         41.000000\n",
       "75%         88.000000\n",
       "max       8408.000000\n",
       "Name: margin_total, dtype: float64"
      ]
     },
     "execution_count": 319,
     "metadata": {},
     "output_type": "execute_result"
    }
   ],
   "source": [
    "# 要注意margin是指单个产品的利润，要看销售利润的话应使用margin_total\n",
    "app_clean['margin_total'].describe()"
   ]
  },
  {
   "cell_type": "code",
   "execution_count": 320,
   "metadata": {},
   "outputs": [
    {
     "data": {
      "image/png": "[encoded data removed]",
      "text/plain": [
       "<Figure size 432x288 with 1 Axes>"
      ]
     },
     "metadata": {
      "needs_background": "light"
     },
     "output_type": "display_data"
    }
   ],
   "source": [
    "sns.distplot(app_clean['margin_total'])\n",
    "plt.rcParams['axes.unicode_minus']=False"
   ]
  },
  {
   "cell_type": "code",
   "execution_count": 371,
   "metadata": {},
   "outputs": [
    {
     "data": {
      "image/png": "[encoded data removed]",
      "text/plain": [
       "<Figure size 432x288 with 1 Axes>"
      ]
     },
     "metadata": {
      "needs_background": "light"
     },
     "output_type": "display_data"
    }
   ],
   "source": [
    "sns.distplot(app_clean[app_clean['margin_total']<=1000]['margin_total'])\n",
    "plt.rcParams['axes.unicode_minus']=False"
   ]
  },
  {
   "cell_type": "markdown",
   "metadata": {},
   "source": [
    "结论：销售利润主要分布在-250到500之间，75%的单子的利润在88元以下，且出现了亏损的情况，最大亏损了650元。"
   ]
  },
  {
   "cell_type": "markdown",
   "metadata": {},
   "source": [
    "## 查看顾客消费额的分布情况"
   ]
  },
  {
   "cell_type": "code",
   "execution_count": 321,
   "metadata": {},
   "outputs": [
    {
     "data": {
      "text/plain": [
       "count    22153.000000\n",
       "mean        93.308863\n",
       "std         76.764955\n",
       "min          0.000000\n",
       "25%         59.000000\n",
       "50%         79.000000\n",
       "75%         99.000000\n",
       "max       6636.000000\n",
       "Name: unit_revenue_of_customer, dtype: float64"
      ]
     },
     "execution_count": 321,
     "metadata": {},
     "output_type": "execute_result"
    }
   ],
   "source": [
    "app_clean['unit_revenue_of_customer'].describe()"
   ]
  },
  {
   "cell_type": "code",
   "execution_count": 322,
   "metadata": {},
   "outputs": [
    {
     "data": {
      "text/plain": [
       "<matplotlib.axes._subplots.AxesSubplot at 0x121644e74c8>"
      ]
     },
     "execution_count": 322,
     "metadata": {},
     "output_type": "execute_result"
    },
    {
     "data": {
      "image/png": "[encoded data removed]",
      "text/plain": [
       "<Figure size 432x288 with 1 Axes>"
      ]
     },
     "metadata": {
      "needs_background": "light"
     },
     "output_type": "display_data"
    }
   ],
   "source": [
    "sns.distplot(app_clean['unit_revenue_of_customer'])"
   ]
  },
  {
   "cell_type": "markdown",
   "metadata": {},
   "source": [
    "问题：大于1000的数据点是离群点，这些离群点导致画图不美观\n",
    "\n",
    "改进：只取1000前的数据绘图"
   ]
  },
  {
   "cell_type": "code",
   "execution_count": 323,
   "metadata": {},
   "outputs": [
    {
     "data": {
      "text/plain": [
       "<matplotlib.axes._subplots.AxesSubplot at 0x1216379d888>"
      ]
     },
     "execution_count": 323,
     "metadata": {},
     "output_type": "execute_result"
    },
    {
     "data": {
      "image/png": "[encoded data removed]",
      "text/plain": [
       "<Figure size 432x288 with 1 Axes>"
      ]
     },
     "metadata": {
      "needs_background": "light"
     },
     "output_type": "display_data"
    }
   ],
   "source": [
    "sns.distplot(app_clean[app_clean['unit_revenue_of_customer']<=1000]['unit_revenue_of_customer'])"
   ]
  },
  {
   "cell_type": "markdown",
   "metadata": {},
   "source": [
    "结论：销售情况主要集中在顾客消费额为0-400之间，75%的顾客消费额在99元以下"
   ]
  },
  {
   "cell_type": "markdown",
   "metadata": {},
   "source": [
    "# 任务问题"
   ]
  },
  {
   "cell_type": "markdown",
   "metadata": {},
   "source": [
    "## 问题一：整体销售情况随着时间的变化是怎样的？\n",
    "分析类别变量（渠道、性别、年龄段）和数值变量（顾客数量、销售额、销售产品数量、利润）在时间上的变化"
   ]
  },
  {
   "cell_type": "markdown",
   "metadata": {},
   "source": [
    "### 不同渠道的销售情况随着时间的变化情况"
   ]
  },
  {
   "cell_type": "code",
   "execution_count": 324,
   "metadata": {},
   "outputs": [
    {
     "data": {
      "text/html": [
       "<div>\n",
       "<style scoped>\n",
       "    .dataframe tbody tr th:only-of-type {\n",
       "        vertical-align: middle;\n",
       "    }\n",
       "\n",
       "    .dataframe tbody tr th {\n",
       "        vertical-align: top;\n",
       "    }\n",
       "\n",
       "    .dataframe thead th {\n",
       "        text-align: right;\n",
       "    }\n",
       "</style>\n",
       "<table border=\"1\" class=\"dataframe\">\n",
       "  <thead>\n",
       "    <tr style=\"text-align: right;\">\n",
       "      <th></th>\n",
       "      <th></th>\n",
       "      <th>city</th>\n",
       "      <th>gender_group</th>\n",
       "      <th>age_group</th>\n",
       "      <th>product</th>\n",
       "      <th>customer</th>\n",
       "      <th>revenue</th>\n",
       "      <th>order</th>\n",
       "      <th>quant</th>\n",
       "      <th>unit_cost</th>\n",
       "      <th>unit_price</th>\n",
       "      <th>margin</th>\n",
       "      <th>margin_total</th>\n",
       "      <th>unit_revenue_of_customer</th>\n",
       "    </tr>\n",
       "    <tr>\n",
       "      <th>channel</th>\n",
       "      <th>wkd_ind</th>\n",
       "      <th></th>\n",
       "      <th></th>\n",
       "      <th></th>\n",
       "      <th></th>\n",
       "      <th></th>\n",
       "      <th></th>\n",
       "      <th></th>\n",
       "      <th></th>\n",
       "      <th></th>\n",
       "      <th></th>\n",
       "      <th></th>\n",
       "      <th></th>\n",
       "      <th></th>\n",
       "    </tr>\n",
       "  </thead>\n",
       "  <tbody>\n",
       "    <tr>\n",
       "      <td rowspan=\"2\" valign=\"top\">线上</td>\n",
       "      <td>Weekday</td>\n",
       "      <td>2198</td>\n",
       "      <td>2198</td>\n",
       "      <td>2198</td>\n",
       "      <td>2198</td>\n",
       "      <td>2198</td>\n",
       "      <td>2198</td>\n",
       "      <td>2198</td>\n",
       "      <td>2198</td>\n",
       "      <td>2198</td>\n",
       "      <td>2198</td>\n",
       "      <td>2198</td>\n",
       "      <td>2198</td>\n",
       "      <td>2198</td>\n",
       "    </tr>\n",
       "    <tr>\n",
       "      <td>Weekend</td>\n",
       "      <td>1661</td>\n",
       "      <td>1661</td>\n",
       "      <td>1661</td>\n",
       "      <td>1661</td>\n",
       "      <td>1661</td>\n",
       "      <td>1661</td>\n",
       "      <td>1661</td>\n",
       "      <td>1661</td>\n",
       "      <td>1661</td>\n",
       "      <td>1661</td>\n",
       "      <td>1661</td>\n",
       "      <td>1661</td>\n",
       "      <td>1661</td>\n",
       "    </tr>\n",
       "    <tr>\n",
       "      <td rowspan=\"2\" valign=\"top\">线下</td>\n",
       "      <td>Weekday</td>\n",
       "      <td>10183</td>\n",
       "      <td>10183</td>\n",
       "      <td>10183</td>\n",
       "      <td>10183</td>\n",
       "      <td>10183</td>\n",
       "      <td>10183</td>\n",
       "      <td>10183</td>\n",
       "      <td>10183</td>\n",
       "      <td>10183</td>\n",
       "      <td>10183</td>\n",
       "      <td>10183</td>\n",
       "      <td>10183</td>\n",
       "      <td>10183</td>\n",
       "    </tr>\n",
       "    <tr>\n",
       "      <td>Weekend</td>\n",
       "      <td>8111</td>\n",
       "      <td>8111</td>\n",
       "      <td>8111</td>\n",
       "      <td>8111</td>\n",
       "      <td>8111</td>\n",
       "      <td>8111</td>\n",
       "      <td>8111</td>\n",
       "      <td>8111</td>\n",
       "      <td>8111</td>\n",
       "      <td>8111</td>\n",
       "      <td>8111</td>\n",
       "      <td>8111</td>\n",
       "      <td>8111</td>\n",
       "    </tr>\n",
       "  </tbody>\n",
       "</table>\n",
       "</div>"
      ],
      "text/plain": [
       "                  city  gender_group  age_group  product  customer  revenue  \\\n",
       "channel wkd_ind                                                               \n",
       "线上      Weekday   2198          2198       2198     2198      2198     2198   \n",
       "        Weekend   1661          1661       1661     1661      1661     1661   \n",
       "线下      Weekday  10183         10183      10183    10183     10183    10183   \n",
       "        Weekend   8111          8111       8111     8111      8111     8111   \n",
       "\n",
       "                 order  quant  unit_cost  unit_price  margin  margin_total  \\\n",
       "channel wkd_ind                                                              \n",
       "线上      Weekday   2198   2198       2198        2198    2198          2198   \n",
       "        Weekend   1661   1661       1661        1661    1661          1661   \n",
       "线下      Weekday  10183  10183      10183       10183   10183         10183   \n",
       "        Weekend   8111   8111       8111        8111    8111          8111   \n",
       "\n",
       "                 unit_revenue_of_customer  \n",
       "channel wkd_ind                            \n",
       "线上      Weekday                      2198  \n",
       "        Weekend                      1661  \n",
       "线下      Weekday                     10183  \n",
       "        Weekend                      8111  "
      ]
     },
     "execution_count": 324,
     "metadata": {},
     "output_type": "execute_result"
    }
   ],
   "source": [
    "app_clean.groupby(['channel', 'wkd_ind']).count()"
   ]
  },
  {
   "cell_type": "code",
   "execution_count": 325,
   "metadata": {},
   "outputs": [
    {
     "data": {
      "text/plain": [
       "<matplotlib.axes._subplots.AxesSubplot at 0x12163895dc8>"
      ]
     },
     "execution_count": 325,
     "metadata": {},
     "output_type": "execute_result"
    },
    {
     "data": {
      "image/png": "[encoded data removed]",
      "text/plain": [
       "<Figure size 432x288 with 1 Axes>"
      ]
     },
     "metadata": {
      "needs_background": "light"
     },
     "output_type": "display_data"
    }
   ],
   "source": [
    "sns.countplot(x='channel', hue='wkd_ind', data=app_clean)"
   ]
  },
  {
   "cell_type": "markdown",
   "metadata": {},
   "source": [
    "结论：不论是线下还是线上，周末和周中的客户数量区别不大，而总体上线下客户数量比线上要多很多。"
   ]
  },
  {
   "cell_type": "markdown",
   "metadata": {},
   "source": [
    "### 不同性别用户的购买情况随着时间的变化情况"
   ]
  },
  {
   "cell_type": "code",
   "execution_count": 326,
   "metadata": {},
   "outputs": [
    {
     "data": {
      "text/html": [
       "<div>\n",
       "<style scoped>\n",
       "    .dataframe tbody tr th:only-of-type {\n",
       "        vertical-align: middle;\n",
       "    }\n",
       "\n",
       "    .dataframe tbody tr th {\n",
       "        vertical-align: top;\n",
       "    }\n",
       "\n",
       "    .dataframe thead th {\n",
       "        text-align: right;\n",
       "    }\n",
       "</style>\n",
       "<table border=\"1\" class=\"dataframe\">\n",
       "  <thead>\n",
       "    <tr style=\"text-align: right;\">\n",
       "      <th></th>\n",
       "      <th></th>\n",
       "      <th>city</th>\n",
       "      <th>channel</th>\n",
       "      <th>age_group</th>\n",
       "      <th>product</th>\n",
       "      <th>customer</th>\n",
       "      <th>revenue</th>\n",
       "      <th>order</th>\n",
       "      <th>quant</th>\n",
       "      <th>unit_cost</th>\n",
       "      <th>unit_price</th>\n",
       "      <th>margin</th>\n",
       "      <th>margin_total</th>\n",
       "      <th>unit_revenue_of_customer</th>\n",
       "    </tr>\n",
       "    <tr>\n",
       "      <th>gender_group</th>\n",
       "      <th>wkd_ind</th>\n",
       "      <th></th>\n",
       "      <th></th>\n",
       "      <th></th>\n",
       "      <th></th>\n",
       "      <th></th>\n",
       "      <th></th>\n",
       "      <th></th>\n",
       "      <th></th>\n",
       "      <th></th>\n",
       "      <th></th>\n",
       "      <th></th>\n",
       "      <th></th>\n",
       "      <th></th>\n",
       "    </tr>\n",
       "  </thead>\n",
       "  <tbody>\n",
       "    <tr>\n",
       "      <td rowspan=\"2\" valign=\"top\">Female</td>\n",
       "      <td>Weekday</td>\n",
       "      <td>8160</td>\n",
       "      <td>8160</td>\n",
       "      <td>8160</td>\n",
       "      <td>8160</td>\n",
       "      <td>8160</td>\n",
       "      <td>8160</td>\n",
       "      <td>8160</td>\n",
       "      <td>8160</td>\n",
       "      <td>8160</td>\n",
       "      <td>8160</td>\n",
       "      <td>8160</td>\n",
       "      <td>8160</td>\n",
       "      <td>8160</td>\n",
       "    </tr>\n",
       "    <tr>\n",
       "      <td>Weekend</td>\n",
       "      <td>6036</td>\n",
       "      <td>6036</td>\n",
       "      <td>6036</td>\n",
       "      <td>6036</td>\n",
       "      <td>6036</td>\n",
       "      <td>6036</td>\n",
       "      <td>6036</td>\n",
       "      <td>6036</td>\n",
       "      <td>6036</td>\n",
       "      <td>6036</td>\n",
       "      <td>6036</td>\n",
       "      <td>6036</td>\n",
       "      <td>6036</td>\n",
       "    </tr>\n",
       "    <tr>\n",
       "      <td rowspan=\"2\" valign=\"top\">Male</td>\n",
       "      <td>Weekday</td>\n",
       "      <td>4221</td>\n",
       "      <td>4221</td>\n",
       "      <td>4221</td>\n",
       "      <td>4221</td>\n",
       "      <td>4221</td>\n",
       "      <td>4221</td>\n",
       "      <td>4221</td>\n",
       "      <td>4221</td>\n",
       "      <td>4221</td>\n",
       "      <td>4221</td>\n",
       "      <td>4221</td>\n",
       "      <td>4221</td>\n",
       "      <td>4221</td>\n",
       "    </tr>\n",
       "    <tr>\n",
       "      <td>Weekend</td>\n",
       "      <td>3736</td>\n",
       "      <td>3736</td>\n",
       "      <td>3736</td>\n",
       "      <td>3736</td>\n",
       "      <td>3736</td>\n",
       "      <td>3736</td>\n",
       "      <td>3736</td>\n",
       "      <td>3736</td>\n",
       "      <td>3736</td>\n",
       "      <td>3736</td>\n",
       "      <td>3736</td>\n",
       "      <td>3736</td>\n",
       "      <td>3736</td>\n",
       "    </tr>\n",
       "  </tbody>\n",
       "</table>\n",
       "</div>"
      ],
      "text/plain": [
       "                      city  channel  age_group  product  customer  revenue  \\\n",
       "gender_group wkd_ind                                                         \n",
       "Female       Weekday  8160     8160       8160     8160      8160     8160   \n",
       "             Weekend  6036     6036       6036     6036      6036     6036   \n",
       "Male         Weekday  4221     4221       4221     4221      4221     4221   \n",
       "             Weekend  3736     3736       3736     3736      3736     3736   \n",
       "\n",
       "                      order  quant  unit_cost  unit_price  margin  \\\n",
       "gender_group wkd_ind                                                \n",
       "Female       Weekday   8160   8160       8160        8160    8160   \n",
       "             Weekend   6036   6036       6036        6036    6036   \n",
       "Male         Weekday   4221   4221       4221        4221    4221   \n",
       "             Weekend   3736   3736       3736        3736    3736   \n",
       "\n",
       "                      margin_total  unit_revenue_of_customer  \n",
       "gender_group wkd_ind                                          \n",
       "Female       Weekday          8160                      8160  \n",
       "             Weekend          6036                      6036  \n",
       "Male         Weekday          4221                      4221  \n",
       "             Weekend          3736                      3736  "
      ]
     },
     "execution_count": 326,
     "metadata": {},
     "output_type": "execute_result"
    }
   ],
   "source": [
    "app_clean.groupby(['gender_group', 'wkd_ind']).count()"
   ]
  },
  {
   "cell_type": "code",
   "execution_count": 327,
   "metadata": {},
   "outputs": [
    {
     "data": {
      "text/plain": [
       "<matplotlib.axes._subplots.AxesSubplot at 0x12163bd4908>"
      ]
     },
     "execution_count": 327,
     "metadata": {},
     "output_type": "execute_result"
    },
    {
     "data": {
      "image/png": "[encoded data removed]",
      "text/plain": [
       "<Figure size 432x288 with 1 Axes>"
      ]
     },
     "metadata": {
      "needs_background": "light"
     },
     "output_type": "display_data"
    }
   ],
   "source": [
    "sns.countplot(x='gender_group', hue='wkd_ind', data=app_clean)"
   ]
  },
  {
   "cell_type": "markdown",
   "metadata": {},
   "source": [
    "结论：总体来讲，女性客户比男性客户要多，在女性客户中，周末购买的比例较高，而男性客户中周末和周中购买的比例区别不大。"
   ]
  },
  {
   "cell_type": "markdown",
   "metadata": {},
   "source": [
    "### 不同年龄段用户的购买情况随时间变化情况"
   ]
  },
  {
   "cell_type": "code",
   "execution_count": 328,
   "metadata": {},
   "outputs": [
    {
     "data": {
      "text/html": [
       "<div>\n",
       "<style scoped>\n",
       "    .dataframe tbody tr th:only-of-type {\n",
       "        vertical-align: middle;\n",
       "    }\n",
       "\n",
       "    .dataframe tbody tr th {\n",
       "        vertical-align: top;\n",
       "    }\n",
       "\n",
       "    .dataframe thead th {\n",
       "        text-align: right;\n",
       "    }\n",
       "</style>\n",
       "<table border=\"1\" class=\"dataframe\">\n",
       "  <thead>\n",
       "    <tr style=\"text-align: right;\">\n",
       "      <th></th>\n",
       "      <th></th>\n",
       "      <th>city</th>\n",
       "      <th>channel</th>\n",
       "      <th>gender_group</th>\n",
       "      <th>product</th>\n",
       "      <th>customer</th>\n",
       "      <th>revenue</th>\n",
       "      <th>order</th>\n",
       "      <th>quant</th>\n",
       "      <th>unit_cost</th>\n",
       "      <th>unit_price</th>\n",
       "      <th>margin</th>\n",
       "      <th>margin_total</th>\n",
       "      <th>unit_revenue_of_customer</th>\n",
       "    </tr>\n",
       "    <tr>\n",
       "      <th>age_group</th>\n",
       "      <th>wkd_ind</th>\n",
       "      <th></th>\n",
       "      <th></th>\n",
       "      <th></th>\n",
       "      <th></th>\n",
       "      <th></th>\n",
       "      <th></th>\n",
       "      <th></th>\n",
       "      <th></th>\n",
       "      <th></th>\n",
       "      <th></th>\n",
       "      <th></th>\n",
       "      <th></th>\n",
       "      <th></th>\n",
       "    </tr>\n",
       "  </thead>\n",
       "  <tbody>\n",
       "    <tr>\n",
       "      <td rowspan=\"2\" valign=\"top\">20-24</td>\n",
       "      <td>Weekday</td>\n",
       "      <td>1879</td>\n",
       "      <td>1879</td>\n",
       "      <td>1879</td>\n",
       "      <td>1879</td>\n",
       "      <td>1879</td>\n",
       "      <td>1879</td>\n",
       "      <td>1879</td>\n",
       "      <td>1879</td>\n",
       "      <td>1879</td>\n",
       "      <td>1879</td>\n",
       "      <td>1879</td>\n",
       "      <td>1879</td>\n",
       "      <td>1879</td>\n",
       "    </tr>\n",
       "    <tr>\n",
       "      <td>Weekend</td>\n",
       "      <td>1466</td>\n",
       "      <td>1466</td>\n",
       "      <td>1466</td>\n",
       "      <td>1466</td>\n",
       "      <td>1466</td>\n",
       "      <td>1466</td>\n",
       "      <td>1466</td>\n",
       "      <td>1466</td>\n",
       "      <td>1466</td>\n",
       "      <td>1466</td>\n",
       "      <td>1466</td>\n",
       "      <td>1466</td>\n",
       "      <td>1466</td>\n",
       "    </tr>\n",
       "    <tr>\n",
       "      <td rowspan=\"2\" valign=\"top\">25-29</td>\n",
       "      <td>Weekday</td>\n",
       "      <td>2269</td>\n",
       "      <td>2269</td>\n",
       "      <td>2269</td>\n",
       "      <td>2269</td>\n",
       "      <td>2269</td>\n",
       "      <td>2269</td>\n",
       "      <td>2269</td>\n",
       "      <td>2269</td>\n",
       "      <td>2269</td>\n",
       "      <td>2269</td>\n",
       "      <td>2269</td>\n",
       "      <td>2269</td>\n",
       "      <td>2269</td>\n",
       "    </tr>\n",
       "    <tr>\n",
       "      <td>Weekend</td>\n",
       "      <td>1955</td>\n",
       "      <td>1955</td>\n",
       "      <td>1955</td>\n",
       "      <td>1955</td>\n",
       "      <td>1955</td>\n",
       "      <td>1955</td>\n",
       "      <td>1955</td>\n",
       "      <td>1955</td>\n",
       "      <td>1955</td>\n",
       "      <td>1955</td>\n",
       "      <td>1955</td>\n",
       "      <td>1955</td>\n",
       "      <td>1955</td>\n",
       "    </tr>\n",
       "    <tr>\n",
       "      <td rowspan=\"2\" valign=\"top\">30-34</td>\n",
       "      <td>Weekday</td>\n",
       "      <td>2434</td>\n",
       "      <td>2434</td>\n",
       "      <td>2434</td>\n",
       "      <td>2434</td>\n",
       "      <td>2434</td>\n",
       "      <td>2434</td>\n",
       "      <td>2434</td>\n",
       "      <td>2434</td>\n",
       "      <td>2434</td>\n",
       "      <td>2434</td>\n",
       "      <td>2434</td>\n",
       "      <td>2434</td>\n",
       "      <td>2434</td>\n",
       "    </tr>\n",
       "    <tr>\n",
       "      <td>Weekend</td>\n",
       "      <td>1992</td>\n",
       "      <td>1992</td>\n",
       "      <td>1992</td>\n",
       "      <td>1992</td>\n",
       "      <td>1992</td>\n",
       "      <td>1992</td>\n",
       "      <td>1992</td>\n",
       "      <td>1992</td>\n",
       "      <td>1992</td>\n",
       "      <td>1992</td>\n",
       "      <td>1992</td>\n",
       "      <td>1992</td>\n",
       "      <td>1992</td>\n",
       "    </tr>\n",
       "    <tr>\n",
       "      <td rowspan=\"2\" valign=\"top\">35-39</td>\n",
       "      <td>Weekday</td>\n",
       "      <td>2055</td>\n",
       "      <td>2055</td>\n",
       "      <td>2055</td>\n",
       "      <td>2055</td>\n",
       "      <td>2055</td>\n",
       "      <td>2055</td>\n",
       "      <td>2055</td>\n",
       "      <td>2055</td>\n",
       "      <td>2055</td>\n",
       "      <td>2055</td>\n",
       "      <td>2055</td>\n",
       "      <td>2055</td>\n",
       "      <td>2055</td>\n",
       "    </tr>\n",
       "    <tr>\n",
       "      <td>Weekend</td>\n",
       "      <td>1635</td>\n",
       "      <td>1635</td>\n",
       "      <td>1635</td>\n",
       "      <td>1635</td>\n",
       "      <td>1635</td>\n",
       "      <td>1635</td>\n",
       "      <td>1635</td>\n",
       "      <td>1635</td>\n",
       "      <td>1635</td>\n",
       "      <td>1635</td>\n",
       "      <td>1635</td>\n",
       "      <td>1635</td>\n",
       "      <td>1635</td>\n",
       "    </tr>\n",
       "    <tr>\n",
       "      <td rowspan=\"2\" valign=\"top\">40-44</td>\n",
       "      <td>Weekday</td>\n",
       "      <td>1101</td>\n",
       "      <td>1101</td>\n",
       "      <td>1101</td>\n",
       "      <td>1101</td>\n",
       "      <td>1101</td>\n",
       "      <td>1101</td>\n",
       "      <td>1101</td>\n",
       "      <td>1101</td>\n",
       "      <td>1101</td>\n",
       "      <td>1101</td>\n",
       "      <td>1101</td>\n",
       "      <td>1101</td>\n",
       "      <td>1101</td>\n",
       "    </tr>\n",
       "    <tr>\n",
       "      <td>Weekend</td>\n",
       "      <td>853</td>\n",
       "      <td>853</td>\n",
       "      <td>853</td>\n",
       "      <td>853</td>\n",
       "      <td>853</td>\n",
       "      <td>853</td>\n",
       "      <td>853</td>\n",
       "      <td>853</td>\n",
       "      <td>853</td>\n",
       "      <td>853</td>\n",
       "      <td>853</td>\n",
       "      <td>853</td>\n",
       "      <td>853</td>\n",
       "    </tr>\n",
       "    <tr>\n",
       "      <td rowspan=\"2\" valign=\"top\">45-49</td>\n",
       "      <td>Weekday</td>\n",
       "      <td>640</td>\n",
       "      <td>640</td>\n",
       "      <td>640</td>\n",
       "      <td>640</td>\n",
       "      <td>640</td>\n",
       "      <td>640</td>\n",
       "      <td>640</td>\n",
       "      <td>640</td>\n",
       "      <td>640</td>\n",
       "      <td>640</td>\n",
       "      <td>640</td>\n",
       "      <td>640</td>\n",
       "      <td>640</td>\n",
       "    </tr>\n",
       "    <tr>\n",
       "      <td>Weekend</td>\n",
       "      <td>455</td>\n",
       "      <td>455</td>\n",
       "      <td>455</td>\n",
       "      <td>455</td>\n",
       "      <td>455</td>\n",
       "      <td>455</td>\n",
       "      <td>455</td>\n",
       "      <td>455</td>\n",
       "      <td>455</td>\n",
       "      <td>455</td>\n",
       "      <td>455</td>\n",
       "      <td>455</td>\n",
       "      <td>455</td>\n",
       "    </tr>\n",
       "    <tr>\n",
       "      <td rowspan=\"2\" valign=\"top\">50-54</td>\n",
       "      <td>Weekday</td>\n",
       "      <td>406</td>\n",
       "      <td>406</td>\n",
       "      <td>406</td>\n",
       "      <td>406</td>\n",
       "      <td>406</td>\n",
       "      <td>406</td>\n",
       "      <td>406</td>\n",
       "      <td>406</td>\n",
       "      <td>406</td>\n",
       "      <td>406</td>\n",
       "      <td>406</td>\n",
       "      <td>406</td>\n",
       "      <td>406</td>\n",
       "    </tr>\n",
       "    <tr>\n",
       "      <td>Weekend</td>\n",
       "      <td>266</td>\n",
       "      <td>266</td>\n",
       "      <td>266</td>\n",
       "      <td>266</td>\n",
       "      <td>266</td>\n",
       "      <td>266</td>\n",
       "      <td>266</td>\n",
       "      <td>266</td>\n",
       "      <td>266</td>\n",
       "      <td>266</td>\n",
       "      <td>266</td>\n",
       "      <td>266</td>\n",
       "      <td>266</td>\n",
       "    </tr>\n",
       "    <tr>\n",
       "      <td rowspan=\"2\" valign=\"top\">55-59</td>\n",
       "      <td>Weekday</td>\n",
       "      <td>336</td>\n",
       "      <td>336</td>\n",
       "      <td>336</td>\n",
       "      <td>336</td>\n",
       "      <td>336</td>\n",
       "      <td>336</td>\n",
       "      <td>336</td>\n",
       "      <td>336</td>\n",
       "      <td>336</td>\n",
       "      <td>336</td>\n",
       "      <td>336</td>\n",
       "      <td>336</td>\n",
       "      <td>336</td>\n",
       "    </tr>\n",
       "    <tr>\n",
       "      <td>Weekend</td>\n",
       "      <td>177</td>\n",
       "      <td>177</td>\n",
       "      <td>177</td>\n",
       "      <td>177</td>\n",
       "      <td>177</td>\n",
       "      <td>177</td>\n",
       "      <td>177</td>\n",
       "      <td>177</td>\n",
       "      <td>177</td>\n",
       "      <td>177</td>\n",
       "      <td>177</td>\n",
       "      <td>177</td>\n",
       "      <td>177</td>\n",
       "    </tr>\n",
       "    <tr>\n",
       "      <td rowspan=\"2\" valign=\"top\">&lt;20</td>\n",
       "      <td>Weekday</td>\n",
       "      <td>367</td>\n",
       "      <td>367</td>\n",
       "      <td>367</td>\n",
       "      <td>367</td>\n",
       "      <td>367</td>\n",
       "      <td>367</td>\n",
       "      <td>367</td>\n",
       "      <td>367</td>\n",
       "      <td>367</td>\n",
       "      <td>367</td>\n",
       "      <td>367</td>\n",
       "      <td>367</td>\n",
       "      <td>367</td>\n",
       "    </tr>\n",
       "    <tr>\n",
       "      <td>Weekend</td>\n",
       "      <td>293</td>\n",
       "      <td>293</td>\n",
       "      <td>293</td>\n",
       "      <td>293</td>\n",
       "      <td>293</td>\n",
       "      <td>293</td>\n",
       "      <td>293</td>\n",
       "      <td>293</td>\n",
       "      <td>293</td>\n",
       "      <td>293</td>\n",
       "      <td>293</td>\n",
       "      <td>293</td>\n",
       "      <td>293</td>\n",
       "    </tr>\n",
       "    <tr>\n",
       "      <td rowspan=\"2\" valign=\"top\">&gt;=60</td>\n",
       "      <td>Weekday</td>\n",
       "      <td>894</td>\n",
       "      <td>894</td>\n",
       "      <td>894</td>\n",
       "      <td>894</td>\n",
       "      <td>894</td>\n",
       "      <td>894</td>\n",
       "      <td>894</td>\n",
       "      <td>894</td>\n",
       "      <td>894</td>\n",
       "      <td>894</td>\n",
       "      <td>894</td>\n",
       "      <td>894</td>\n",
       "      <td>894</td>\n",
       "    </tr>\n",
       "    <tr>\n",
       "      <td>Weekend</td>\n",
       "      <td>680</td>\n",
       "      <td>680</td>\n",
       "      <td>680</td>\n",
       "      <td>680</td>\n",
       "      <td>680</td>\n",
       "      <td>680</td>\n",
       "      <td>680</td>\n",
       "      <td>680</td>\n",
       "      <td>680</td>\n",
       "      <td>680</td>\n",
       "      <td>680</td>\n",
       "      <td>680</td>\n",
       "      <td>680</td>\n",
       "    </tr>\n",
       "  </tbody>\n",
       "</table>\n",
       "</div>"
      ],
      "text/plain": [
       "                   city  channel  gender_group  product  customer  revenue  \\\n",
       "age_group wkd_ind                                                            \n",
       "20-24     Weekday  1879     1879          1879     1879      1879     1879   \n",
       "          Weekend  1466     1466          1466     1466      1466     1466   \n",
       "25-29     Weekday  2269     2269          2269     2269      2269     2269   \n",
       "          Weekend  1955     1955          1955     1955      1955     1955   \n",
       "30-34     Weekday  2434     2434          2434     2434      2434     2434   \n",
       "          Weekend  1992     1992          1992     1992      1992     1992   \n",
       "35-39     Weekday  2055     2055          2055     2055      2055     2055   \n",
       "          Weekend  1635     1635          1635     1635      1635     1635   \n",
       "40-44     Weekday  1101     1101          1101     1101      1101     1101   \n",
       "          Weekend   853      853           853      853       853      853   \n",
       "45-49     Weekday   640      640           640      640       640      640   \n",
       "          Weekend   455      455           455      455       455      455   \n",
       "50-54     Weekday   406      406           406      406       406      406   \n",
       "          Weekend   266      266           266      266       266      266   \n",
       "55-59     Weekday   336      336           336      336       336      336   \n",
       "          Weekend   177      177           177      177       177      177   \n",
       "<20       Weekday   367      367           367      367       367      367   \n",
       "          Weekend   293      293           293      293       293      293   \n",
       ">=60      Weekday   894      894           894      894       894      894   \n",
       "          Weekend   680      680           680      680       680      680   \n",
       "\n",
       "                   order  quant  unit_cost  unit_price  margin  margin_total  \\\n",
       "age_group wkd_ind                                                              \n",
       "20-24     Weekday   1879   1879       1879        1879    1879          1879   \n",
       "          Weekend   1466   1466       1466        1466    1466          1466   \n",
       "25-29     Weekday   2269   2269       2269        2269    2269          2269   \n",
       "          Weekend   1955   1955       1955        1955    1955          1955   \n",
       "30-34     Weekday   2434   2434       2434        2434    2434          2434   \n",
       "          Weekend   1992   1992       1992        1992    1992          1992   \n",
       "35-39     Weekday   2055   2055       2055        2055    2055          2055   \n",
       "          Weekend   1635   1635       1635        1635    1635          1635   \n",
       "40-44     Weekday   1101   1101       1101        1101    1101          1101   \n",
       "          Weekend    853    853        853         853     853           853   \n",
       "45-49     Weekday    640    640        640         640     640           640   \n",
       "          Weekend    455    455        455         455     455           455   \n",
       "50-54     Weekday    406    406        406         406     406           406   \n",
       "          Weekend    266    266        266         266     266           266   \n",
       "55-59     Weekday    336    336        336         336     336           336   \n",
       "          Weekend    177    177        177         177     177           177   \n",
       "<20       Weekday    367    367        367         367     367           367   \n",
       "          Weekend    293    293        293         293     293           293   \n",
       ">=60      Weekday    894    894        894         894     894           894   \n",
       "          Weekend    680    680        680         680     680           680   \n",
       "\n",
       "                   unit_revenue_of_customer  \n",
       "age_group wkd_ind                            \n",
       "20-24     Weekday                      1879  \n",
       "          Weekend                      1466  \n",
       "25-29     Weekday                      2269  \n",
       "          Weekend                      1955  \n",
       "30-34     Weekday                      2434  \n",
       "          Weekend                      1992  \n",
       "35-39     Weekday                      2055  \n",
       "          Weekend                      1635  \n",
       "40-44     Weekday                      1101  \n",
       "          Weekend                       853  \n",
       "45-49     Weekday                       640  \n",
       "          Weekend                       455  \n",
       "50-54     Weekday                       406  \n",
       "          Weekend                       266  \n",
       "55-59     Weekday                       336  \n",
       "          Weekend                       177  \n",
       "<20       Weekday                       367  \n",
       "          Weekend                       293  \n",
       ">=60      Weekday                       894  \n",
       "          Weekend                       680  "
      ]
     },
     "execution_count": 328,
     "metadata": {},
     "output_type": "execute_result"
    }
   ],
   "source": [
    "app_clean.groupby(['age_group', 'wkd_ind']).count()"
   ]
  },
  {
   "cell_type": "code",
   "execution_count": 329,
   "metadata": {},
   "outputs": [
    {
     "data": {
      "text/plain": [
       "<matplotlib.axes._subplots.AxesSubplot at 0x12162caaf88>"
      ]
     },
     "execution_count": 329,
     "metadata": {},
     "output_type": "execute_result"
    },
    {
     "data": {
      "image/png": "[encoded data removed]",
      "text/plain": [
       "<Figure size 576x360 with 1 Axes>"
      ]
     },
     "metadata": {
      "needs_background": "light"
     },
     "output_type": "display_data"
    }
   ],
   "source": [
    "plt.figure(figsize=(8, 5))\n",
    "sns.countplot(x='age_group', hue='wkd_ind', data=app_clean, order=age_groups)"
   ]
  },
  {
   "cell_type": "markdown",
   "metadata": {},
   "source": [
    "结论：所有年龄段在周中的购买次数都比周末要多，但是小于20和45以上的客户在周中和周末的购买比例差别不大。"
   ]
  },
  {
   "cell_type": "markdown",
   "metadata": {},
   "source": [
    "### 顾客数量随着时间的变化情况"
   ]
  },
  {
   "cell_type": "code",
   "execution_count": 330,
   "metadata": {},
   "outputs": [
    {
     "data": {
      "text/plain": [
       "wkd_ind\n",
       "Weekday    1.714563\n",
       "Weekend    1.529984\n",
       "Name: customer, dtype: float64"
      ]
     },
     "execution_count": 330,
     "metadata": {},
     "output_type": "execute_result"
    }
   ],
   "source": [
    "# 查看周末和周中的顾客数量的均值，plot\n",
    "app_clean.groupby('wkd_ind')['customer'].mean()"
   ]
  },
  {
   "cell_type": "code",
   "execution_count": 331,
   "metadata": {},
   "outputs": [
    {
     "data": {
      "text/plain": [
       "<matplotlib.axes._subplots.AxesSubplot at 0x12164000f08>"
      ]
     },
     "execution_count": 331,
     "metadata": {},
     "output_type": "execute_result"
    },
    {
     "data": {
      "image/png": "[encoded data removed]",
      "text/plain": [
       "<Figure size 432x288 with 1 Axes>"
      ]
     },
     "metadata": {
      "needs_background": "light"
     },
     "output_type": "display_data"
    }
   ],
   "source": [
    "sns.barplot(x='wkd_ind', y='customer', data=app_clean)"
   ]
  },
  {
   "cell_type": "code",
   "execution_count": 332,
   "metadata": {},
   "outputs": [
    {
     "data": {
      "text/html": [
       "<div>\n",
       "<style scoped>\n",
       "    .dataframe tbody tr th:only-of-type {\n",
       "        vertical-align: middle;\n",
       "    }\n",
       "\n",
       "    .dataframe tbody tr th {\n",
       "        vertical-align: top;\n",
       "    }\n",
       "\n",
       "    .dataframe thead th {\n",
       "        text-align: right;\n",
       "    }\n",
       "</style>\n",
       "<table border=\"1\" class=\"dataframe\">\n",
       "  <thead>\n",
       "    <tr style=\"text-align: right;\">\n",
       "      <th></th>\n",
       "      <th>wkd_ind</th>\n",
       "      <th>customer</th>\n",
       "    </tr>\n",
       "  </thead>\n",
       "  <tbody>\n",
       "    <tr>\n",
       "      <td>0</td>\n",
       "      <td>Weekday</td>\n",
       "      <td>21228</td>\n",
       "    </tr>\n",
       "    <tr>\n",
       "      <td>1</td>\n",
       "      <td>Weekend</td>\n",
       "      <td>14951</td>\n",
       "    </tr>\n",
       "  </tbody>\n",
       "</table>\n",
       "</div>"
      ],
      "text/plain": [
       "   wkd_ind  customer\n",
       "0  Weekday     21228\n",
       "1  Weekend     14951"
      ]
     },
     "execution_count": 332,
     "metadata": {},
     "output_type": "execute_result"
    }
   ],
   "source": [
    "# 查看周末和周中的顾客总数\n",
    "# 先将周末和周中的顾客总数拎出来新建一个dataframe，再plot\n",
    "tmp = app_clean.groupby('wkd_ind')['customer'].sum()\n",
    "cusdf = pd.DataFrame(tmp).reset_index()\n",
    "cusdf"
   ]
  },
  {
   "cell_type": "code",
   "execution_count": 333,
   "metadata": {},
   "outputs": [
    {
     "data": {
      "text/plain": [
       "<matplotlib.axes._subplots.AxesSubplot at 0x121641b0bc8>"
      ]
     },
     "execution_count": 333,
     "metadata": {},
     "output_type": "execute_result"
    },
    {
     "data": {
      "image/png": "[encoded data removed]",
      "text/plain": [
       "<Figure size 432x288 with 1 Axes>"
      ]
     },
     "metadata": {
      "needs_background": "light"
     },
     "output_type": "display_data"
    }
   ],
   "source": [
    "sns.barplot(x='wkd_ind', y='customer', data=cusdf)"
   ]
  },
  {
   "cell_type": "markdown",
   "metadata": {},
   "source": [
    "结论：周中的顾客总数比周末的要多，但平均顾客数量差不多。"
   ]
  },
  {
   "cell_type": "markdown",
   "metadata": {},
   "source": [
    "### 销售额随时间变化情况"
   ]
  },
  {
   "cell_type": "code",
   "execution_count": 334,
   "metadata": {},
   "outputs": [
    {
     "data": {
      "text/plain": [
       "wkd_ind\n",
       "Weekday    168.516096\n",
       "Weekend    149.166380\n",
       "Name: revenue, dtype: float64"
      ]
     },
     "execution_count": 334,
     "metadata": {},
     "output_type": "execute_result"
    }
   ],
   "source": [
    "# 查看周末和周中平均销售额，plot\n",
    "app_clean.groupby('wkd_ind')['revenue'].mean()"
   ]
  },
  {
   "cell_type": "code",
   "execution_count": 335,
   "metadata": {},
   "outputs": [
    {
     "data": {
      "text/plain": [
       "<matplotlib.axes._subplots.AxesSubplot at 0x1215e7fb048>"
      ]
     },
     "execution_count": 335,
     "metadata": {},
     "output_type": "execute_result"
    },
    {
     "data": {
      "image/png": "[encoded data removed]",
      "text/plain": [
       "<Figure size 432x288 with 1 Axes>"
      ]
     },
     "metadata": {
      "needs_background": "light"
     },
     "output_type": "display_data"
    }
   ],
   "source": [
    "sns.barplot(x='wkd_ind', y='revenue', data=app_clean)"
   ]
  },
  {
   "cell_type": "code",
   "execution_count": 336,
   "metadata": {},
   "outputs": [
    {
     "data": {
      "text/html": [
       "<div>\n",
       "<style scoped>\n",
       "    .dataframe tbody tr th:only-of-type {\n",
       "        vertical-align: middle;\n",
       "    }\n",
       "\n",
       "    .dataframe tbody tr th {\n",
       "        vertical-align: top;\n",
       "    }\n",
       "\n",
       "    .dataframe thead th {\n",
       "        text-align: right;\n",
       "    }\n",
       "</style>\n",
       "<table border=\"1\" class=\"dataframe\">\n",
       "  <thead>\n",
       "    <tr style=\"text-align: right;\">\n",
       "      <th></th>\n",
       "      <th>wkd_ind</th>\n",
       "      <th>revenue</th>\n",
       "    </tr>\n",
       "  </thead>\n",
       "  <tbody>\n",
       "    <tr>\n",
       "      <td>0</td>\n",
       "      <td>Weekday</td>\n",
       "      <td>2086397.78</td>\n",
       "    </tr>\n",
       "    <tr>\n",
       "      <td>1</td>\n",
       "      <td>Weekend</td>\n",
       "      <td>1457653.87</td>\n",
       "    </tr>\n",
       "  </tbody>\n",
       "</table>\n",
       "</div>"
      ],
      "text/plain": [
       "   wkd_ind     revenue\n",
       "0  Weekday  2086397.78\n",
       "1  Weekend  1457653.87"
      ]
     },
     "execution_count": 336,
     "metadata": {},
     "output_type": "execute_result"
    }
   ],
   "source": [
    "# 查看周末和周中的总销售额\n",
    "# 先将周末和周中的总销售额拎出来新建一个dataframe，再plot\n",
    "tmp = app_clean.groupby('wkd_ind')['revenue'].sum()\n",
    "redf = pd.DataFrame(tmp).reset_index()\n",
    "redf"
   ]
  },
  {
   "cell_type": "code",
   "execution_count": 337,
   "metadata": {},
   "outputs": [
    {
     "data": {
      "text/plain": [
       "<matplotlib.axes._subplots.AxesSubplot at 0x1215e85e708>"
      ]
     },
     "execution_count": 337,
     "metadata": {},
     "output_type": "execute_result"
    },
    {
     "data": {
      "image/png": "[encoded data removed]",
      "text/plain": [
       "<Figure size 432x288 with 1 Axes>"
      ]
     },
     "metadata": {
      "needs_background": "light"
     },
     "output_type": "display_data"
    }
   ],
   "source": [
    "sns.barplot(x='wkd_ind', y='revenue', data=redf)"
   ]
  },
  {
   "cell_type": "markdown",
   "metadata": {},
   "source": [
    "结论：在周中的销售额比周末要多，周中总销售额和平均销售额分别为2086397和168，周末的总销售额和平均销售额分别为1457653和149"
   ]
  },
  {
   "cell_type": "markdown",
   "metadata": {},
   "source": [
    "### 销售产品数量随时间变化情况"
   ]
  },
  {
   "cell_type": "code",
   "execution_count": 338,
   "metadata": {},
   "outputs": [
    {
     "data": {
      "text/plain": [
       "wkd_ind\n",
       "Weekday    1.974558\n",
       "Weekend    1.720630\n",
       "Name: quant, dtype: float64"
      ]
     },
     "execution_count": 338,
     "metadata": {},
     "output_type": "execute_result"
    }
   ],
   "source": [
    "# 查看周末和周中平均销售数量，plot\n",
    "app_clean.groupby('wkd_ind')['quant'].mean()"
   ]
  },
  {
   "cell_type": "code",
   "execution_count": 339,
   "metadata": {},
   "outputs": [
    {
     "data": {
      "text/plain": [
       "<matplotlib.axes._subplots.AxesSubplot at 0x12164093c88>"
      ]
     },
     "execution_count": 339,
     "metadata": {},
     "output_type": "execute_result"
    },
    {
     "data": {
      "image/png": "[encoded data removed]",
      "text/plain": [
       "<Figure size 432x288 with 1 Axes>"
      ]
     },
     "metadata": {
      "needs_background": "light"
     },
     "output_type": "display_data"
    }
   ],
   "source": [
    "sns.barplot(x='wkd_ind', y='quant', data=app_clean)"
   ]
  },
  {
   "cell_type": "code",
   "execution_count": 340,
   "metadata": {},
   "outputs": [
    {
     "data": {
      "text/html": [
       "<div>\n",
       "<style scoped>\n",
       "    .dataframe tbody tr th:only-of-type {\n",
       "        vertical-align: middle;\n",
       "    }\n",
       "\n",
       "    .dataframe tbody tr th {\n",
       "        vertical-align: top;\n",
       "    }\n",
       "\n",
       "    .dataframe thead th {\n",
       "        text-align: right;\n",
       "    }\n",
       "</style>\n",
       "<table border=\"1\" class=\"dataframe\">\n",
       "  <thead>\n",
       "    <tr style=\"text-align: right;\">\n",
       "      <th></th>\n",
       "      <th>wkd_ind</th>\n",
       "      <th>quant</th>\n",
       "    </tr>\n",
       "  </thead>\n",
       "  <tbody>\n",
       "    <tr>\n",
       "      <td>0</td>\n",
       "      <td>Weekday</td>\n",
       "      <td>24447</td>\n",
       "    </tr>\n",
       "    <tr>\n",
       "      <td>1</td>\n",
       "      <td>Weekend</td>\n",
       "      <td>16814</td>\n",
       "    </tr>\n",
       "  </tbody>\n",
       "</table>\n",
       "</div>"
      ],
      "text/plain": [
       "   wkd_ind  quant\n",
       "0  Weekday  24447\n",
       "1  Weekend  16814"
      ]
     },
     "execution_count": 340,
     "metadata": {},
     "output_type": "execute_result"
    }
   ],
   "source": [
    "# 查看周末和周中的总销售数量\n",
    "# 先将周末和周中的总销售数量拎出来新建一个dataframe，再plot\n",
    "tmp = app_clean.groupby('wkd_ind')['quant'].sum()\n",
    "qudf = pd.DataFrame(tmp).reset_index()\n",
    "qudf"
   ]
  },
  {
   "cell_type": "code",
   "execution_count": 341,
   "metadata": {},
   "outputs": [
    {
     "data": {
      "text/plain": [
       "<matplotlib.axes._subplots.AxesSubplot at 0x1216413a148>"
      ]
     },
     "execution_count": 341,
     "metadata": {},
     "output_type": "execute_result"
    },
    {
     "data": {
      "image/png": "[encoded data removed]",
      "text/plain": [
       "<Figure size 432x288 with 1 Axes>"
      ]
     },
     "metadata": {
      "needs_background": "light"
     },
     "output_type": "display_data"
    }
   ],
   "source": [
    "sns.barplot(x='wkd_ind', y='quant', data=qudf)"
   ]
  },
  {
   "cell_type": "markdown",
   "metadata": {},
   "source": [
    "结论：周中的销售产品数量比周末要多。"
   ]
  },
  {
   "cell_type": "markdown",
   "metadata": {},
   "source": [
    "### 利润随时间变化情况\n"
   ]
  },
  {
   "cell_type": "code",
   "execution_count": 342,
   "metadata": {},
   "outputs": [
    {
     "data": {
      "text/plain": [
       "wkd_ind\n",
       "Weekday    37.393502\n",
       "Weekend    39.132874\n",
       "Name: margin, dtype: float64"
      ]
     },
     "execution_count": 342,
     "metadata": {},
     "output_type": "execute_result"
    }
   ],
   "source": [
    "# 查看周末和周中平均利润，plot\n",
    "app_clean.groupby('wkd_ind')['margin'].mean()"
   ]
  },
  {
   "cell_type": "code",
   "execution_count": 343,
   "metadata": {},
   "outputs": [
    {
     "data": {
      "text/plain": [
       "<matplotlib.axes._subplots.AxesSubplot at 0x12165050988>"
      ]
     },
     "execution_count": 343,
     "metadata": {},
     "output_type": "execute_result"
    },
    {
     "data": {
      "image/png": "[encoded data removed]",
      "text/plain": [
       "<Figure size 432x288 with 1 Axes>"
      ]
     },
     "metadata": {
      "needs_background": "light"
     },
     "output_type": "display_data"
    }
   ],
   "source": [
    "sns.barplot(x='wkd_ind', y='margin', data=app_clean)"
   ]
  },
  {
   "cell_type": "code",
   "execution_count": 344,
   "metadata": {},
   "outputs": [
    {
     "data": {
      "text/html": [
       "<div>\n",
       "<style scoped>\n",
       "    .dataframe tbody tr th:only-of-type {\n",
       "        vertical-align: middle;\n",
       "    }\n",
       "\n",
       "    .dataframe tbody tr th {\n",
       "        vertical-align: top;\n",
       "    }\n",
       "\n",
       "    .dataframe thead th {\n",
       "        text-align: right;\n",
       "    }\n",
       "</style>\n",
       "<table border=\"1\" class=\"dataframe\">\n",
       "  <thead>\n",
       "    <tr style=\"text-align: right;\">\n",
       "      <th></th>\n",
       "      <th>wkd_ind</th>\n",
       "      <th>margin</th>\n",
       "    </tr>\n",
       "  </thead>\n",
       "  <tbody>\n",
       "    <tr>\n",
       "      <td>0</td>\n",
       "      <td>Weekday</td>\n",
       "      <td>462968.948775</td>\n",
       "    </tr>\n",
       "    <tr>\n",
       "      <td>1</td>\n",
       "      <td>Weekend</td>\n",
       "      <td>382406.447988</td>\n",
       "    </tr>\n",
       "  </tbody>\n",
       "</table>\n",
       "</div>"
      ],
      "text/plain": [
       "   wkd_ind         margin\n",
       "0  Weekday  462968.948775\n",
       "1  Weekend  382406.447988"
      ]
     },
     "execution_count": 344,
     "metadata": {},
     "output_type": "execute_result"
    }
   ],
   "source": [
    "# 查看周末和周中的总利润\n",
    "# 先将周末和周中的总利润拎出来新建一个dataframe，再plot\n",
    "tmp = app_clean.groupby('wkd_ind')['margin'].sum()\n",
    "madf = pd.DataFrame(tmp).reset_index()\n",
    "madf"
   ]
  },
  {
   "cell_type": "code",
   "execution_count": 345,
   "metadata": {},
   "outputs": [
    {
     "data": {
      "text/plain": [
       "<matplotlib.axes._subplots.AxesSubplot at 0x1216509cb08>"
      ]
     },
     "execution_count": 345,
     "metadata": {},
     "output_type": "execute_result"
    },
    {
     "data": {
      "image/png": "[encoded data removed]",
      "text/plain": [
       "<Figure size 432x288 with 1 Axes>"
      ]
     },
     "metadata": {
      "needs_background": "light"
     },
     "output_type": "display_data"
    }
   ],
   "source": [
    "sns.barplot(x='wkd_ind', y='margin', data=madf)"
   ]
  },
  {
   "cell_type": "markdown",
   "metadata": {},
   "source": [
    "结论：可以看到，周中的总利润比周末的要多，但是平均利润却差不多，且周末的平均利润要多一点"
   ]
  },
  {
   "cell_type": "markdown",
   "metadata": {},
   "source": [
    "### 顾客消费额随时间变化情况"
   ]
  },
  {
   "cell_type": "code",
   "execution_count": 346,
   "metadata": {},
   "outputs": [
    {
     "data": {
      "text/plain": [
       "wkd_ind\n",
       "Weekday    93.585207\n",
       "Weekend    92.958739\n",
       "Name: unit_revenue_of_customer, dtype: float64"
      ]
     },
     "execution_count": 346,
     "metadata": {},
     "output_type": "execute_result"
    }
   ],
   "source": [
    "# 查看周末和周中的平均顾客消费额，plot\n",
    "app_clean.groupby('wkd_ind')['unit_revenue_of_customer'].mean()"
   ]
  },
  {
   "cell_type": "code",
   "execution_count": 347,
   "metadata": {},
   "outputs": [
    {
     "data": {
      "text/plain": [
       "<matplotlib.axes._subplots.AxesSubplot at 0x121650f9b88>"
      ]
     },
     "execution_count": 347,
     "metadata": {},
     "output_type": "execute_result"
    },
    {
     "data": {
      "image/png": "[encoded data removed]",
      "text/plain": [
       "<Figure size 432x288 with 1 Axes>"
      ]
     },
     "metadata": {
      "needs_background": "light"
     },
     "output_type": "display_data"
    }
   ],
   "source": [
    "sns.barplot(x='wkd_ind', y='unit_revenue_of_customer', data=app_clean)"
   ]
  },
  {
   "cell_type": "markdown",
   "metadata": {},
   "source": [
    "结论：不管在周中还是周末，顾客的平均消费额都是差不多的，在93元左右。"
   ]
  },
  {
   "cell_type": "markdown",
   "metadata": {},
   "source": [
    "## 问题二：不同产品的销售情况是怎样的？\n",
    "分析不同产品类别的销售情况包括销售额、销售数量、销售利润等"
   ]
  },
  {
   "cell_type": "markdown",
   "metadata": {},
   "source": [
    "### 不同产品的销售额对比"
   ]
  },
  {
   "cell_type": "code",
   "execution_count": 348,
   "metadata": {},
   "outputs": [
    {
     "data": {
      "text/plain": [
       "product\n",
       "T恤      1532620.98\n",
       "当季新品     589904.88\n",
       "配件       442565.15\n",
       "毛衣       245232.80\n",
       "牛仔裤      244864.48\n",
       "裙子       137302.78\n",
       "袜子       127133.36\n",
       "运动       117462.34\n",
       "短裤       106964.88\n",
       "Name: revenue, dtype: float64"
      ]
     },
     "execution_count": 348,
     "metadata": {},
     "output_type": "execute_result"
    }
   ],
   "source": [
    "# 不同产品的总销售额\n",
    "app_clean.groupby('product')['revenue'].sum().sort_values(ascending=False)"
   ]
  },
  {
   "cell_type": "code",
   "execution_count": 349,
   "metadata": {},
   "outputs": [
    {
     "data": {
      "text/html": [
       "<div>\n",
       "<style scoped>\n",
       "    .dataframe tbody tr th:only-of-type {\n",
       "        vertical-align: middle;\n",
       "    }\n",
       "\n",
       "    .dataframe tbody tr th {\n",
       "        vertical-align: top;\n",
       "    }\n",
       "\n",
       "    .dataframe thead th {\n",
       "        text-align: right;\n",
       "    }\n",
       "</style>\n",
       "<table border=\"1\" class=\"dataframe\">\n",
       "  <thead>\n",
       "    <tr style=\"text-align: right;\">\n",
       "      <th></th>\n",
       "      <th>product</th>\n",
       "      <th>revenue</th>\n",
       "    </tr>\n",
       "  </thead>\n",
       "  <tbody>\n",
       "    <tr>\n",
       "      <td>0</td>\n",
       "      <td>T恤</td>\n",
       "      <td>1532620.98</td>\n",
       "    </tr>\n",
       "    <tr>\n",
       "      <td>1</td>\n",
       "      <td>当季新品</td>\n",
       "      <td>589904.88</td>\n",
       "    </tr>\n",
       "    <tr>\n",
       "      <td>2</td>\n",
       "      <td>配件</td>\n",
       "      <td>442565.15</td>\n",
       "    </tr>\n",
       "    <tr>\n",
       "      <td>3</td>\n",
       "      <td>毛衣</td>\n",
       "      <td>245232.80</td>\n",
       "    </tr>\n",
       "    <tr>\n",
       "      <td>4</td>\n",
       "      <td>牛仔裤</td>\n",
       "      <td>244864.48</td>\n",
       "    </tr>\n",
       "    <tr>\n",
       "      <td>5</td>\n",
       "      <td>裙子</td>\n",
       "      <td>137302.78</td>\n",
       "    </tr>\n",
       "    <tr>\n",
       "      <td>6</td>\n",
       "      <td>袜子</td>\n",
       "      <td>127133.36</td>\n",
       "    </tr>\n",
       "    <tr>\n",
       "      <td>7</td>\n",
       "      <td>运动</td>\n",
       "      <td>117462.34</td>\n",
       "    </tr>\n",
       "    <tr>\n",
       "      <td>8</td>\n",
       "      <td>短裤</td>\n",
       "      <td>106964.88</td>\n",
       "    </tr>\n",
       "  </tbody>\n",
       "</table>\n",
       "</div>"
      ],
      "text/plain": [
       "  product     revenue\n",
       "0      T恤  1532620.98\n",
       "1    当季新品   589904.88\n",
       "2      配件   442565.15\n",
       "3      毛衣   245232.80\n",
       "4     牛仔裤   244864.48\n",
       "5      裙子   137302.78\n",
       "6      袜子   127133.36\n",
       "7      运动   117462.34\n",
       "8      短裤   106964.88"
      ]
     },
     "execution_count": 349,
     "metadata": {},
     "output_type": "execute_result"
    }
   ],
   "source": [
    "# 查看不同产品的总销售额\n",
    "# 先将总销售额拎出来新建一个dataframe，再plot\n",
    "tmp = app_clean.groupby('product')['revenue'].sum().sort_values(ascending=False)\n",
    "proredf = pd.DataFrame(tmp).reset_index()\n",
    "proredf"
   ]
  },
  {
   "cell_type": "code",
   "execution_count": 350,
   "metadata": {},
   "outputs": [
    {
     "data": {
      "text/plain": [
       "<matplotlib.axes._subplots.AxesSubplot at 0x12166131588>"
      ]
     },
     "execution_count": 350,
     "metadata": {},
     "output_type": "execute_result"
    },
    {
     "data": {
      "image/png": "[encoded data removed]",
      "text/plain": [
       "<Figure size 432x288 with 1 Axes>"
      ]
     },
     "metadata": {
      "needs_background": "light"
     },
     "output_type": "display_data"
    }
   ],
   "source": [
    "sns.barplot(x='product', y='revenue', data=proredf)"
   ]
  },
  {
   "cell_type": "code",
   "execution_count": 351,
   "metadata": {},
   "outputs": [
    {
     "data": {
      "text/plain": [
       "product\n",
       "毛衣      304.637019\n",
       "配件      284.974340\n",
       "当季新品    233.071861\n",
       "裙子      218.287409\n",
       "牛仔裤     175.404355\n",
       "T恤      145.285902\n",
       "运动      121.220165\n",
       "短裤       63.631695\n",
       "袜子       62.320275\n",
       "Name: revenue, dtype: float64"
      ]
     },
     "execution_count": 351,
     "metadata": {},
     "output_type": "execute_result"
    }
   ],
   "source": [
    "# 不同产品的平均销售额\n",
    "app_clean.groupby('product')['revenue'].mean().sort_values(ascending=False)"
   ]
  },
  {
   "cell_type": "code",
   "execution_count": 352,
   "metadata": {},
   "outputs": [
    {
     "data": {
      "text/plain": [
       "<matplotlib.axes._subplots.AxesSubplot at 0x121661ce508>"
      ]
     },
     "execution_count": 352,
     "metadata": {},
     "output_type": "execute_result"
    },
    {
     "data": {
      "image/png": "[encoded data removed]",
      "text/plain": [
       "<Figure size 432x288 with 1 Axes>"
      ]
     },
     "metadata": {
      "needs_background": "light"
     },
     "output_type": "display_data"
    }
   ],
   "source": [
    "sns.barplot(x='product', y='revenue', data=app_clean, order=app_clean.groupby('product')['revenue'].mean().sort_values(ascending=False).index)"
   ]
  },
  {
   "cell_type": "markdown",
   "metadata": {},
   "source": [
    "结论：总销售额的前三名是T恤、当季新品、配件，T恤的总销售额是当季新品的2倍多，裙子、袜子、运动和短裤的总销售额差别不大。但是平均销售额的前三名是毛衣、配件、当季新品，且每一类产品的平均销售额差别不大。"
   ]
  },
  {
   "cell_type": "markdown",
   "metadata": {},
   "source": [
    "### 不同产品的销售数量对比"
   ]
  },
  {
   "cell_type": "code",
   "execution_count": 353,
   "metadata": {},
   "outputs": [
    {
     "data": {
      "text/plain": [
       "product\n",
       "T恤      18349\n",
       "当季新品     5329\n",
       "配件       4602\n",
       "袜子       3625\n",
       "短裤       2806\n",
       "牛仔裤      2415\n",
       "运动       1786\n",
       "毛衣       1354\n",
       "裙子        995\n",
       "Name: quant, dtype: int64"
      ]
     },
     "execution_count": 353,
     "metadata": {},
     "output_type": "execute_result"
    }
   ],
   "source": [
    "app_clean.groupby('product')['quant'].sum().sort_values(ascending=False)"
   ]
  },
  {
   "cell_type": "code",
   "execution_count": 354,
   "metadata": {},
   "outputs": [
    {
     "data": {
      "text/html": [
       "<div>\n",
       "<style scoped>\n",
       "    .dataframe tbody tr th:only-of-type {\n",
       "        vertical-align: middle;\n",
       "    }\n",
       "\n",
       "    .dataframe tbody tr th {\n",
       "        vertical-align: top;\n",
       "    }\n",
       "\n",
       "    .dataframe thead th {\n",
       "        text-align: right;\n",
       "    }\n",
       "</style>\n",
       "<table border=\"1\" class=\"dataframe\">\n",
       "  <thead>\n",
       "    <tr style=\"text-align: right;\">\n",
       "      <th></th>\n",
       "      <th>product</th>\n",
       "      <th>quant</th>\n",
       "    </tr>\n",
       "  </thead>\n",
       "  <tbody>\n",
       "    <tr>\n",
       "      <td>0</td>\n",
       "      <td>T恤</td>\n",
       "      <td>18349</td>\n",
       "    </tr>\n",
       "    <tr>\n",
       "      <td>1</td>\n",
       "      <td>当季新品</td>\n",
       "      <td>5329</td>\n",
       "    </tr>\n",
       "    <tr>\n",
       "      <td>2</td>\n",
       "      <td>配件</td>\n",
       "      <td>4602</td>\n",
       "    </tr>\n",
       "    <tr>\n",
       "      <td>3</td>\n",
       "      <td>袜子</td>\n",
       "      <td>3625</td>\n",
       "    </tr>\n",
       "    <tr>\n",
       "      <td>4</td>\n",
       "      <td>短裤</td>\n",
       "      <td>2806</td>\n",
       "    </tr>\n",
       "    <tr>\n",
       "      <td>5</td>\n",
       "      <td>牛仔裤</td>\n",
       "      <td>2415</td>\n",
       "    </tr>\n",
       "    <tr>\n",
       "      <td>6</td>\n",
       "      <td>运动</td>\n",
       "      <td>1786</td>\n",
       "    </tr>\n",
       "    <tr>\n",
       "      <td>7</td>\n",
       "      <td>毛衣</td>\n",
       "      <td>1354</td>\n",
       "    </tr>\n",
       "    <tr>\n",
       "      <td>8</td>\n",
       "      <td>裙子</td>\n",
       "      <td>995</td>\n",
       "    </tr>\n",
       "  </tbody>\n",
       "</table>\n",
       "</div>"
      ],
      "text/plain": [
       "  product  quant\n",
       "0      T恤  18349\n",
       "1    当季新品   5329\n",
       "2      配件   4602\n",
       "3      袜子   3625\n",
       "4      短裤   2806\n",
       "5     牛仔裤   2415\n",
       "6      运动   1786\n",
       "7      毛衣   1354\n",
       "8      裙子    995"
      ]
     },
     "execution_count": 354,
     "metadata": {},
     "output_type": "execute_result"
    }
   ],
   "source": [
    "# 查看不同产品的总销售数量\n",
    "# 先将总销售数量拎出来新建一个dataframe，再plot\n",
    "tmp = app_clean.groupby('product')['quant'].sum().sort_values(ascending=False)\n",
    "proqudf = pd.DataFrame(tmp).reset_index()\n",
    "proqudf"
   ]
  },
  {
   "cell_type": "code",
   "execution_count": 355,
   "metadata": {},
   "outputs": [
    {
     "data": {
      "text/plain": [
       "<matplotlib.axes._subplots.AxesSubplot at 0x12166257988>"
      ]
     },
     "execution_count": 355,
     "metadata": {},
     "output_type": "execute_result"
    },
    {
     "data": {
      "image/png": "[encoded data removed]",
      "text/plain": [
       "<Figure size 432x288 with 1 Axes>"
      ]
     },
     "metadata": {
      "needs_background": "light"
     },
     "output_type": "display_data"
    }
   ],
   "source": [
    "sns.barplot(x='product', y='quant', data=proqudf)"
   ]
  },
  {
   "cell_type": "markdown",
   "metadata": {},
   "source": [
    "结论：T恤的销售数量最多，是第二名的3倍多。"
   ]
  },
  {
   "cell_type": "markdown",
   "metadata": {},
   "source": [
    "### 不同产品的销售利润对比"
   ]
  },
  {
   "cell_type": "code",
   "execution_count": 356,
   "metadata": {},
   "outputs": [
    {
     "data": {
      "text/plain": [
       "product\n",
       "T恤      368913.611127\n",
       "配件      123688.049406\n",
       "当季新品     92562.134199\n",
       "毛衣       65458.642063\n",
       "袜子       62464.476129\n",
       "裙子       50290.438587\n",
       "短裤       32788.304832\n",
       "牛仔裤      30702.904366\n",
       "运动       18506.836053\n",
       "Name: margin, dtype: float64"
      ]
     },
     "execution_count": 356,
     "metadata": {},
     "output_type": "execute_result"
    }
   ],
   "source": [
    "# 不同产品的总销售利润\n",
    "app_clean.groupby('product')['margin'].sum().sort_values(ascending=False)"
   ]
  },
  {
   "cell_type": "code",
   "execution_count": 357,
   "metadata": {},
   "outputs": [
    {
     "data": {
      "text/html": [
       "<div>\n",
       "<style scoped>\n",
       "    .dataframe tbody tr th:only-of-type {\n",
       "        vertical-align: middle;\n",
       "    }\n",
       "\n",
       "    .dataframe tbody tr th {\n",
       "        vertical-align: top;\n",
       "    }\n",
       "\n",
       "    .dataframe thead th {\n",
       "        text-align: right;\n",
       "    }\n",
       "</style>\n",
       "<table border=\"1\" class=\"dataframe\">\n",
       "  <thead>\n",
       "    <tr style=\"text-align: right;\">\n",
       "      <th></th>\n",
       "      <th>product</th>\n",
       "      <th>margin</th>\n",
       "    </tr>\n",
       "  </thead>\n",
       "  <tbody>\n",
       "    <tr>\n",
       "      <td>0</td>\n",
       "      <td>T恤</td>\n",
       "      <td>368913.611127</td>\n",
       "    </tr>\n",
       "    <tr>\n",
       "      <td>1</td>\n",
       "      <td>配件</td>\n",
       "      <td>123688.049406</td>\n",
       "    </tr>\n",
       "    <tr>\n",
       "      <td>2</td>\n",
       "      <td>当季新品</td>\n",
       "      <td>92562.134199</td>\n",
       "    </tr>\n",
       "    <tr>\n",
       "      <td>3</td>\n",
       "      <td>毛衣</td>\n",
       "      <td>65458.642063</td>\n",
       "    </tr>\n",
       "    <tr>\n",
       "      <td>4</td>\n",
       "      <td>袜子</td>\n",
       "      <td>62464.476129</td>\n",
       "    </tr>\n",
       "    <tr>\n",
       "      <td>5</td>\n",
       "      <td>裙子</td>\n",
       "      <td>50290.438587</td>\n",
       "    </tr>\n",
       "    <tr>\n",
       "      <td>6</td>\n",
       "      <td>短裤</td>\n",
       "      <td>32788.304832</td>\n",
       "    </tr>\n",
       "    <tr>\n",
       "      <td>7</td>\n",
       "      <td>牛仔裤</td>\n",
       "      <td>30702.904366</td>\n",
       "    </tr>\n",
       "    <tr>\n",
       "      <td>8</td>\n",
       "      <td>运动</td>\n",
       "      <td>18506.836053</td>\n",
       "    </tr>\n",
       "  </tbody>\n",
       "</table>\n",
       "</div>"
      ],
      "text/plain": [
       "  product         margin\n",
       "0      T恤  368913.611127\n",
       "1      配件  123688.049406\n",
       "2    当季新品   92562.134199\n",
       "3      毛衣   65458.642063\n",
       "4      袜子   62464.476129\n",
       "5      裙子   50290.438587\n",
       "6      短裤   32788.304832\n",
       "7     牛仔裤   30702.904366\n",
       "8      运动   18506.836053"
      ]
     },
     "execution_count": 357,
     "metadata": {},
     "output_type": "execute_result"
    }
   ],
   "source": [
    "# 查看不同产品的总销售利润\n",
    "# 先将总销售利润拎出来新建一个dataframe，再plot\n",
    "tmp = app_clean.groupby('product')['margin'].sum().sort_values(ascending=False)\n",
    "promadf = pd.DataFrame(tmp).reset_index()\n",
    "promadf"
   ]
  },
  {
   "cell_type": "code",
   "execution_count": 358,
   "metadata": {},
   "outputs": [
    {
     "data": {
      "text/plain": [
       "<matplotlib.axes._subplots.AxesSubplot at 0x12166307748>"
      ]
     },
     "execution_count": 358,
     "metadata": {},
     "output_type": "execute_result"
    },
    {
     "data": {
      "image/png": "[encoded data removed]",
      "text/plain": [
       "<Figure size 432x288 with 1 Axes>"
      ]
     },
     "metadata": {
      "needs_background": "light"
     },
     "output_type": "display_data"
    }
   ],
   "source": [
    "sns.barplot(x='product', y='margin', data=promadf)"
   ]
  },
  {
   "cell_type": "code",
   "execution_count": 359,
   "metadata": {},
   "outputs": [
    {
     "data": {
      "text/plain": [
       "product\n",
       "毛衣      81.315083\n",
       "裙子      79.953003\n",
       "配件      79.644591\n",
       "当季新品    36.571369\n",
       "T恤      34.971430\n",
       "袜子      30.619841\n",
       "牛仔裤     21.993485\n",
       "短裤      19.505238\n",
       "运动      19.098902\n",
       "Name: margin, dtype: float64"
      ]
     },
     "execution_count": 359,
     "metadata": {},
     "output_type": "execute_result"
    }
   ],
   "source": [
    "# 不同产品的平均销售利润\n",
    "app_clean.groupby('product')['margin'].mean().sort_values(ascending=False)"
   ]
  },
  {
   "cell_type": "code",
   "execution_count": 360,
   "metadata": {},
   "outputs": [
    {
     "data": {
      "text/plain": [
       "<matplotlib.axes._subplots.AxesSubplot at 0x121663a0f88>"
      ]
     },
     "execution_count": 360,
     "metadata": {},
     "output_type": "execute_result"
    },
    {
     "data": {
      "image/png": "[encoded data removed]",
      "text/plain": [
       "<Figure size 432x288 with 1 Axes>"
      ]
     },
     "metadata": {
      "needs_background": "light"
     },
     "output_type": "display_data"
    }
   ],
   "source": [
    "sns.barplot(x='product', y='margin', data=app_clean, order=app_clean.groupby('product')['margin'].mean().sort_values(ascending=False).index)"
   ]
  },
  {
   "cell_type": "markdown",
   "metadata": {},
   "source": [
    "结论：总销售利润的前三名是T恤、配件、当季新品，且T恤的总销售利润是配件的3倍。但是平均销售利润的前三名是毛衣、裙子、配件，且三者相差不大，但与第四名当季新品的差别较大，是当季新品的2倍。"
   ]
  },
  {
   "cell_type": "markdown",
   "metadata": {},
   "source": [
    "## 问题三：顾客偏爱哪一种购买方式？\n",
    "分析不同顾客群体喜爱的购买方式，可以从性别、年龄、城市来拆分顾客，购买方式即线上或线下。"
   ]
  },
  {
   "cell_type": "markdown",
   "metadata": {},
   "source": [
    "### 不同性别的顾客的购买方式分析"
   ]
  },
  {
   "cell_type": "code",
   "execution_count": 361,
   "metadata": {},
   "outputs": [
    {
     "data": {
      "text/html": [
       "<div>\n",
       "<style scoped>\n",
       "    .dataframe tbody tr th:only-of-type {\n",
       "        vertical-align: middle;\n",
       "    }\n",
       "\n",
       "    .dataframe tbody tr th {\n",
       "        vertical-align: top;\n",
       "    }\n",
       "\n",
       "    .dataframe thead th {\n",
       "        text-align: right;\n",
       "    }\n",
       "</style>\n",
       "<table border=\"1\" class=\"dataframe\">\n",
       "  <thead>\n",
       "    <tr style=\"text-align: right;\">\n",
       "      <th></th>\n",
       "      <th></th>\n",
       "      <th>city</th>\n",
       "      <th>age_group</th>\n",
       "      <th>wkd_ind</th>\n",
       "      <th>product</th>\n",
       "      <th>customer</th>\n",
       "      <th>revenue</th>\n",
       "      <th>order</th>\n",
       "      <th>quant</th>\n",
       "      <th>unit_cost</th>\n",
       "      <th>unit_price</th>\n",
       "      <th>margin</th>\n",
       "      <th>margin_total</th>\n",
       "      <th>unit_revenue_of_customer</th>\n",
       "    </tr>\n",
       "    <tr>\n",
       "      <th>gender_group</th>\n",
       "      <th>channel</th>\n",
       "      <th></th>\n",
       "      <th></th>\n",
       "      <th></th>\n",
       "      <th></th>\n",
       "      <th></th>\n",
       "      <th></th>\n",
       "      <th></th>\n",
       "      <th></th>\n",
       "      <th></th>\n",
       "      <th></th>\n",
       "      <th></th>\n",
       "      <th></th>\n",
       "      <th></th>\n",
       "    </tr>\n",
       "  </thead>\n",
       "  <tbody>\n",
       "    <tr>\n",
       "      <td rowspan=\"2\" valign=\"top\">Female</td>\n",
       "      <td>线上</td>\n",
       "      <td>2392</td>\n",
       "      <td>2392</td>\n",
       "      <td>2392</td>\n",
       "      <td>2392</td>\n",
       "      <td>2392</td>\n",
       "      <td>2392</td>\n",
       "      <td>2392</td>\n",
       "      <td>2392</td>\n",
       "      <td>2392</td>\n",
       "      <td>2392</td>\n",
       "      <td>2392</td>\n",
       "      <td>2392</td>\n",
       "      <td>2392</td>\n",
       "    </tr>\n",
       "    <tr>\n",
       "      <td>线下</td>\n",
       "      <td>11804</td>\n",
       "      <td>11804</td>\n",
       "      <td>11804</td>\n",
       "      <td>11804</td>\n",
       "      <td>11804</td>\n",
       "      <td>11804</td>\n",
       "      <td>11804</td>\n",
       "      <td>11804</td>\n",
       "      <td>11804</td>\n",
       "      <td>11804</td>\n",
       "      <td>11804</td>\n",
       "      <td>11804</td>\n",
       "      <td>11804</td>\n",
       "    </tr>\n",
       "    <tr>\n",
       "      <td rowspan=\"2\" valign=\"top\">Male</td>\n",
       "      <td>线上</td>\n",
       "      <td>1467</td>\n",
       "      <td>1467</td>\n",
       "      <td>1467</td>\n",
       "      <td>1467</td>\n",
       "      <td>1467</td>\n",
       "      <td>1467</td>\n",
       "      <td>1467</td>\n",
       "      <td>1467</td>\n",
       "      <td>1467</td>\n",
       "      <td>1467</td>\n",
       "      <td>1467</td>\n",
       "      <td>1467</td>\n",
       "      <td>1467</td>\n",
       "    </tr>\n",
       "    <tr>\n",
       "      <td>线下</td>\n",
       "      <td>6490</td>\n",
       "      <td>6490</td>\n",
       "      <td>6490</td>\n",
       "      <td>6490</td>\n",
       "      <td>6490</td>\n",
       "      <td>6490</td>\n",
       "      <td>6490</td>\n",
       "      <td>6490</td>\n",
       "      <td>6490</td>\n",
       "      <td>6490</td>\n",
       "      <td>6490</td>\n",
       "      <td>6490</td>\n",
       "      <td>6490</td>\n",
       "    </tr>\n",
       "  </tbody>\n",
       "</table>\n",
       "</div>"
      ],
      "text/plain": [
       "                       city  age_group  wkd_ind  product  customer  revenue  \\\n",
       "gender_group channel                                                          \n",
       "Female       线上        2392       2392     2392     2392      2392     2392   \n",
       "             线下       11804      11804    11804    11804     11804    11804   \n",
       "Male         线上        1467       1467     1467     1467      1467     1467   \n",
       "             线下        6490       6490     6490     6490      6490     6490   \n",
       "\n",
       "                      order  quant  unit_cost  unit_price  margin  \\\n",
       "gender_group channel                                                \n",
       "Female       线上        2392   2392       2392        2392    2392   \n",
       "             线下       11804  11804      11804       11804   11804   \n",
       "Male         线上        1467   1467       1467        1467    1467   \n",
       "             线下        6490   6490       6490        6490    6490   \n",
       "\n",
       "                      margin_total  unit_revenue_of_customer  \n",
       "gender_group channel                                          \n",
       "Female       线上               2392                      2392  \n",
       "             线下              11804                     11804  \n",
       "Male         线上               1467                      1467  \n",
       "             线下               6490                      6490  "
      ]
     },
     "execution_count": 361,
     "metadata": {},
     "output_type": "execute_result"
    }
   ],
   "source": [
    "app_clean.groupby(['gender_group', 'channel']).count()"
   ]
  },
  {
   "cell_type": "code",
   "execution_count": 362,
   "metadata": {},
   "outputs": [
    {
     "data": {
      "text/plain": [
       "<matplotlib.axes._subplots.AxesSubplot at 0x12166439b88>"
      ]
     },
     "execution_count": 362,
     "metadata": {},
     "output_type": "execute_result"
    },
    {
     "data": {
      "image/png": "[encoded data removed]",
      "text/plain": [
       "<Figure size 432x288 with 1 Axes>"
      ]
     },
     "metadata": {
      "needs_background": "light"
     },
     "output_type": "display_data"
    }
   ],
   "source": [
    "sns.countplot(x='gender_group', hue='channel', data=app_clean)"
   ]
  },
  {
   "cell_type": "markdown",
   "metadata": {},
   "source": [
    "结论：不管是男性还是女性，选择线下购买的人数远比线上购买的人数要多很多。"
   ]
  },
  {
   "cell_type": "markdown",
   "metadata": {},
   "source": [
    "### 不同年龄段的顾客的购买方式分析"
   ]
  },
  {
   "cell_type": "code",
   "execution_count": 363,
   "metadata": {},
   "outputs": [
    {
     "data": {
      "text/html": [
       "<div>\n",
       "<style scoped>\n",
       "    .dataframe tbody tr th:only-of-type {\n",
       "        vertical-align: middle;\n",
       "    }\n",
       "\n",
       "    .dataframe tbody tr th {\n",
       "        vertical-align: top;\n",
       "    }\n",
       "\n",
       "    .dataframe thead th {\n",
       "        text-align: right;\n",
       "    }\n",
       "</style>\n",
       "<table border=\"1\" class=\"dataframe\">\n",
       "  <thead>\n",
       "    <tr style=\"text-align: right;\">\n",
       "      <th></th>\n",
       "      <th></th>\n",
       "      <th>city</th>\n",
       "      <th>gender_group</th>\n",
       "      <th>wkd_ind</th>\n",
       "      <th>product</th>\n",
       "      <th>customer</th>\n",
       "      <th>revenue</th>\n",
       "      <th>order</th>\n",
       "      <th>quant</th>\n",
       "      <th>unit_cost</th>\n",
       "      <th>unit_price</th>\n",
       "      <th>margin</th>\n",
       "      <th>margin_total</th>\n",
       "      <th>unit_revenue_of_customer</th>\n",
       "    </tr>\n",
       "    <tr>\n",
       "      <th>age_group</th>\n",
       "      <th>channel</th>\n",
       "      <th></th>\n",
       "      <th></th>\n",
       "      <th></th>\n",
       "      <th></th>\n",
       "      <th></th>\n",
       "      <th></th>\n",
       "      <th></th>\n",
       "      <th></th>\n",
       "      <th></th>\n",
       "      <th></th>\n",
       "      <th></th>\n",
       "      <th></th>\n",
       "      <th></th>\n",
       "    </tr>\n",
       "  </thead>\n",
       "  <tbody>\n",
       "    <tr>\n",
       "      <td rowspan=\"2\" valign=\"top\">20-24</td>\n",
       "      <td>线上</td>\n",
       "      <td>562</td>\n",
       "      <td>562</td>\n",
       "      <td>562</td>\n",
       "      <td>562</td>\n",
       "      <td>562</td>\n",
       "      <td>562</td>\n",
       "      <td>562</td>\n",
       "      <td>562</td>\n",
       "      <td>562</td>\n",
       "      <td>562</td>\n",
       "      <td>562</td>\n",
       "      <td>562</td>\n",
       "      <td>562</td>\n",
       "    </tr>\n",
       "    <tr>\n",
       "      <td>线下</td>\n",
       "      <td>2783</td>\n",
       "      <td>2783</td>\n",
       "      <td>2783</td>\n",
       "      <td>2783</td>\n",
       "      <td>2783</td>\n",
       "      <td>2783</td>\n",
       "      <td>2783</td>\n",
       "      <td>2783</td>\n",
       "      <td>2783</td>\n",
       "      <td>2783</td>\n",
       "      <td>2783</td>\n",
       "      <td>2783</td>\n",
       "      <td>2783</td>\n",
       "    </tr>\n",
       "    <tr>\n",
       "      <td rowspan=\"2\" valign=\"top\">25-29</td>\n",
       "      <td>线上</td>\n",
       "      <td>806</td>\n",
       "      <td>806</td>\n",
       "      <td>806</td>\n",
       "      <td>806</td>\n",
       "      <td>806</td>\n",
       "      <td>806</td>\n",
       "      <td>806</td>\n",
       "      <td>806</td>\n",
       "      <td>806</td>\n",
       "      <td>806</td>\n",
       "      <td>806</td>\n",
       "      <td>806</td>\n",
       "      <td>806</td>\n",
       "    </tr>\n",
       "    <tr>\n",
       "      <td>线下</td>\n",
       "      <td>3418</td>\n",
       "      <td>3418</td>\n",
       "      <td>3418</td>\n",
       "      <td>3418</td>\n",
       "      <td>3418</td>\n",
       "      <td>3418</td>\n",
       "      <td>3418</td>\n",
       "      <td>3418</td>\n",
       "      <td>3418</td>\n",
       "      <td>3418</td>\n",
       "      <td>3418</td>\n",
       "      <td>3418</td>\n",
       "      <td>3418</td>\n",
       "    </tr>\n",
       "    <tr>\n",
       "      <td rowspan=\"2\" valign=\"top\">30-34</td>\n",
       "      <td>线上</td>\n",
       "      <td>776</td>\n",
       "      <td>776</td>\n",
       "      <td>776</td>\n",
       "      <td>776</td>\n",
       "      <td>776</td>\n",
       "      <td>776</td>\n",
       "      <td>776</td>\n",
       "      <td>776</td>\n",
       "      <td>776</td>\n",
       "      <td>776</td>\n",
       "      <td>776</td>\n",
       "      <td>776</td>\n",
       "      <td>776</td>\n",
       "    </tr>\n",
       "    <tr>\n",
       "      <td>线下</td>\n",
       "      <td>3650</td>\n",
       "      <td>3650</td>\n",
       "      <td>3650</td>\n",
       "      <td>3650</td>\n",
       "      <td>3650</td>\n",
       "      <td>3650</td>\n",
       "      <td>3650</td>\n",
       "      <td>3650</td>\n",
       "      <td>3650</td>\n",
       "      <td>3650</td>\n",
       "      <td>3650</td>\n",
       "      <td>3650</td>\n",
       "      <td>3650</td>\n",
       "    </tr>\n",
       "    <tr>\n",
       "      <td rowspan=\"2\" valign=\"top\">35-39</td>\n",
       "      <td>线上</td>\n",
       "      <td>599</td>\n",
       "      <td>599</td>\n",
       "      <td>599</td>\n",
       "      <td>599</td>\n",
       "      <td>599</td>\n",
       "      <td>599</td>\n",
       "      <td>599</td>\n",
       "      <td>599</td>\n",
       "      <td>599</td>\n",
       "      <td>599</td>\n",
       "      <td>599</td>\n",
       "      <td>599</td>\n",
       "      <td>599</td>\n",
       "    </tr>\n",
       "    <tr>\n",
       "      <td>线下</td>\n",
       "      <td>3091</td>\n",
       "      <td>3091</td>\n",
       "      <td>3091</td>\n",
       "      <td>3091</td>\n",
       "      <td>3091</td>\n",
       "      <td>3091</td>\n",
       "      <td>3091</td>\n",
       "      <td>3091</td>\n",
       "      <td>3091</td>\n",
       "      <td>3091</td>\n",
       "      <td>3091</td>\n",
       "      <td>3091</td>\n",
       "      <td>3091</td>\n",
       "    </tr>\n",
       "    <tr>\n",
       "      <td rowspan=\"2\" valign=\"top\">40-44</td>\n",
       "      <td>线上</td>\n",
       "      <td>343</td>\n",
       "      <td>343</td>\n",
       "      <td>343</td>\n",
       "      <td>343</td>\n",
       "      <td>343</td>\n",
       "      <td>343</td>\n",
       "      <td>343</td>\n",
       "      <td>343</td>\n",
       "      <td>343</td>\n",
       "      <td>343</td>\n",
       "      <td>343</td>\n",
       "      <td>343</td>\n",
       "      <td>343</td>\n",
       "    </tr>\n",
       "    <tr>\n",
       "      <td>线下</td>\n",
       "      <td>1611</td>\n",
       "      <td>1611</td>\n",
       "      <td>1611</td>\n",
       "      <td>1611</td>\n",
       "      <td>1611</td>\n",
       "      <td>1611</td>\n",
       "      <td>1611</td>\n",
       "      <td>1611</td>\n",
       "      <td>1611</td>\n",
       "      <td>1611</td>\n",
       "      <td>1611</td>\n",
       "      <td>1611</td>\n",
       "      <td>1611</td>\n",
       "    </tr>\n",
       "    <tr>\n",
       "      <td rowspan=\"2\" valign=\"top\">45-49</td>\n",
       "      <td>线上</td>\n",
       "      <td>193</td>\n",
       "      <td>193</td>\n",
       "      <td>193</td>\n",
       "      <td>193</td>\n",
       "      <td>193</td>\n",
       "      <td>193</td>\n",
       "      <td>193</td>\n",
       "      <td>193</td>\n",
       "      <td>193</td>\n",
       "      <td>193</td>\n",
       "      <td>193</td>\n",
       "      <td>193</td>\n",
       "      <td>193</td>\n",
       "    </tr>\n",
       "    <tr>\n",
       "      <td>线下</td>\n",
       "      <td>902</td>\n",
       "      <td>902</td>\n",
       "      <td>902</td>\n",
       "      <td>902</td>\n",
       "      <td>902</td>\n",
       "      <td>902</td>\n",
       "      <td>902</td>\n",
       "      <td>902</td>\n",
       "      <td>902</td>\n",
       "      <td>902</td>\n",
       "      <td>902</td>\n",
       "      <td>902</td>\n",
       "      <td>902</td>\n",
       "    </tr>\n",
       "    <tr>\n",
       "      <td rowspan=\"2\" valign=\"top\">50-54</td>\n",
       "      <td>线上</td>\n",
       "      <td>105</td>\n",
       "      <td>105</td>\n",
       "      <td>105</td>\n",
       "      <td>105</td>\n",
       "      <td>105</td>\n",
       "      <td>105</td>\n",
       "      <td>105</td>\n",
       "      <td>105</td>\n",
       "      <td>105</td>\n",
       "      <td>105</td>\n",
       "      <td>105</td>\n",
       "      <td>105</td>\n",
       "      <td>105</td>\n",
       "    </tr>\n",
       "    <tr>\n",
       "      <td>线下</td>\n",
       "      <td>567</td>\n",
       "      <td>567</td>\n",
       "      <td>567</td>\n",
       "      <td>567</td>\n",
       "      <td>567</td>\n",
       "      <td>567</td>\n",
       "      <td>567</td>\n",
       "      <td>567</td>\n",
       "      <td>567</td>\n",
       "      <td>567</td>\n",
       "      <td>567</td>\n",
       "      <td>567</td>\n",
       "      <td>567</td>\n",
       "    </tr>\n",
       "    <tr>\n",
       "      <td rowspan=\"2\" valign=\"top\">55-59</td>\n",
       "      <td>线上</td>\n",
       "      <td>74</td>\n",
       "      <td>74</td>\n",
       "      <td>74</td>\n",
       "      <td>74</td>\n",
       "      <td>74</td>\n",
       "      <td>74</td>\n",
       "      <td>74</td>\n",
       "      <td>74</td>\n",
       "      <td>74</td>\n",
       "      <td>74</td>\n",
       "      <td>74</td>\n",
       "      <td>74</td>\n",
       "      <td>74</td>\n",
       "    </tr>\n",
       "    <tr>\n",
       "      <td>线下</td>\n",
       "      <td>439</td>\n",
       "      <td>439</td>\n",
       "      <td>439</td>\n",
       "      <td>439</td>\n",
       "      <td>439</td>\n",
       "      <td>439</td>\n",
       "      <td>439</td>\n",
       "      <td>439</td>\n",
       "      <td>439</td>\n",
       "      <td>439</td>\n",
       "      <td>439</td>\n",
       "      <td>439</td>\n",
       "      <td>439</td>\n",
       "    </tr>\n",
       "    <tr>\n",
       "      <td rowspan=\"2\" valign=\"top\">&lt;20</td>\n",
       "      <td>线上</td>\n",
       "      <td>115</td>\n",
       "      <td>115</td>\n",
       "      <td>115</td>\n",
       "      <td>115</td>\n",
       "      <td>115</td>\n",
       "      <td>115</td>\n",
       "      <td>115</td>\n",
       "      <td>115</td>\n",
       "      <td>115</td>\n",
       "      <td>115</td>\n",
       "      <td>115</td>\n",
       "      <td>115</td>\n",
       "      <td>115</td>\n",
       "    </tr>\n",
       "    <tr>\n",
       "      <td>线下</td>\n",
       "      <td>545</td>\n",
       "      <td>545</td>\n",
       "      <td>545</td>\n",
       "      <td>545</td>\n",
       "      <td>545</td>\n",
       "      <td>545</td>\n",
       "      <td>545</td>\n",
       "      <td>545</td>\n",
       "      <td>545</td>\n",
       "      <td>545</td>\n",
       "      <td>545</td>\n",
       "      <td>545</td>\n",
       "      <td>545</td>\n",
       "    </tr>\n",
       "    <tr>\n",
       "      <td rowspan=\"2\" valign=\"top\">&gt;=60</td>\n",
       "      <td>线上</td>\n",
       "      <td>286</td>\n",
       "      <td>286</td>\n",
       "      <td>286</td>\n",
       "      <td>286</td>\n",
       "      <td>286</td>\n",
       "      <td>286</td>\n",
       "      <td>286</td>\n",
       "      <td>286</td>\n",
       "      <td>286</td>\n",
       "      <td>286</td>\n",
       "      <td>286</td>\n",
       "      <td>286</td>\n",
       "      <td>286</td>\n",
       "    </tr>\n",
       "    <tr>\n",
       "      <td>线下</td>\n",
       "      <td>1288</td>\n",
       "      <td>1288</td>\n",
       "      <td>1288</td>\n",
       "      <td>1288</td>\n",
       "      <td>1288</td>\n",
       "      <td>1288</td>\n",
       "      <td>1288</td>\n",
       "      <td>1288</td>\n",
       "      <td>1288</td>\n",
       "      <td>1288</td>\n",
       "      <td>1288</td>\n",
       "      <td>1288</td>\n",
       "      <td>1288</td>\n",
       "    </tr>\n",
       "  </tbody>\n",
       "</table>\n",
       "</div>"
      ],
      "text/plain": [
       "                   city  gender_group  wkd_ind  product  customer  revenue  \\\n",
       "age_group channel                                                            \n",
       "20-24     线上        562           562      562      562       562      562   \n",
       "          线下       2783          2783     2783     2783      2783     2783   \n",
       "25-29     线上        806           806      806      806       806      806   \n",
       "          线下       3418          3418     3418     3418      3418     3418   \n",
       "30-34     线上        776           776      776      776       776      776   \n",
       "          线下       3650          3650     3650     3650      3650     3650   \n",
       "35-39     线上        599           599      599      599       599      599   \n",
       "          线下       3091          3091     3091     3091      3091     3091   \n",
       "40-44     线上        343           343      343      343       343      343   \n",
       "          线下       1611          1611     1611     1611      1611     1611   \n",
       "45-49     线上        193           193      193      193       193      193   \n",
       "          线下        902           902      902      902       902      902   \n",
       "50-54     线上        105           105      105      105       105      105   \n",
       "          线下        567           567      567      567       567      567   \n",
       "55-59     线上         74            74       74       74        74       74   \n",
       "          线下        439           439      439      439       439      439   \n",
       "<20       线上        115           115      115      115       115      115   \n",
       "          线下        545           545      545      545       545      545   \n",
       ">=60      线上        286           286      286      286       286      286   \n",
       "          线下       1288          1288     1288     1288      1288     1288   \n",
       "\n",
       "                   order  quant  unit_cost  unit_price  margin  margin_total  \\\n",
       "age_group channel                                                              \n",
       "20-24     线上         562    562        562         562     562           562   \n",
       "          线下        2783   2783       2783        2783    2783          2783   \n",
       "25-29     线上         806    806        806         806     806           806   \n",
       "          线下        3418   3418       3418        3418    3418          3418   \n",
       "30-34     线上         776    776        776         776     776           776   \n",
       "          线下        3650   3650       3650        3650    3650          3650   \n",
       "35-39     线上         599    599        599         599     599           599   \n",
       "          线下        3091   3091       3091        3091    3091          3091   \n",
       "40-44     线上         343    343        343         343     343           343   \n",
       "          线下        1611   1611       1611        1611    1611          1611   \n",
       "45-49     线上         193    193        193         193     193           193   \n",
       "          线下         902    902        902         902     902           902   \n",
       "50-54     线上         105    105        105         105     105           105   \n",
       "          线下         567    567        567         567     567           567   \n",
       "55-59     线上          74     74         74          74      74            74   \n",
       "          线下         439    439        439         439     439           439   \n",
       "<20       线上         115    115        115         115     115           115   \n",
       "          线下         545    545        545         545     545           545   \n",
       ">=60      线上         286    286        286         286     286           286   \n",
       "          线下        1288   1288       1288        1288    1288          1288   \n",
       "\n",
       "                   unit_revenue_of_customer  \n",
       "age_group channel                            \n",
       "20-24     线上                            562  \n",
       "          线下                           2783  \n",
       "25-29     线上                            806  \n",
       "          线下                           3418  \n",
       "30-34     线上                            776  \n",
       "          线下                           3650  \n",
       "35-39     线上                            599  \n",
       "          线下                           3091  \n",
       "40-44     线上                            343  \n",
       "          线下                           1611  \n",
       "45-49     线上                            193  \n",
       "          线下                            902  \n",
       "50-54     线上                            105  \n",
       "          线下                            567  \n",
       "55-59     线上                             74  \n",
       "          线下                            439  \n",
       "<20       线上                            115  \n",
       "          线下                            545  \n",
       ">=60      线上                            286  \n",
       "          线下                           1288  "
      ]
     },
     "execution_count": 363,
     "metadata": {},
     "output_type": "execute_result"
    }
   ],
   "source": [
    "app_clean.groupby(['age_group', 'channel']).count()"
   ]
  },
  {
   "cell_type": "code",
   "execution_count": 364,
   "metadata": {},
   "outputs": [
    {
     "data": {
      "text/plain": [
       "<matplotlib.axes._subplots.AxesSubplot at 0x1216649bd48>"
      ]
     },
     "execution_count": 364,
     "metadata": {},
     "output_type": "execute_result"
    },
    {
     "data": {
      "image/png": "[encoded data removed]",
      "text/plain": [
       "<Figure size 432x288 with 1 Axes>"
      ]
     },
     "metadata": {
      "needs_background": "light"
     },
     "output_type": "display_data"
    }
   ],
   "source": [
    "sns.countplot(x='age_group', hue='channel', data=app_clean, order=age_groups)"
   ]
  },
  {
   "cell_type": "markdown",
   "metadata": {},
   "source": [
    "结论：不管哪个年龄段，选择线下购买的人数远比线上购买的人数要多很多。"
   ]
  },
  {
   "cell_type": "markdown",
   "metadata": {},
   "source": [
    "### 不同城市的顾客的购买方式分析"
   ]
  },
  {
   "cell_type": "code",
   "execution_count": 365,
   "metadata": {},
   "outputs": [
    {
     "data": {
      "text/html": [
       "<div>\n",
       "<style scoped>\n",
       "    .dataframe tbody tr th:only-of-type {\n",
       "        vertical-align: middle;\n",
       "    }\n",
       "\n",
       "    .dataframe tbody tr th {\n",
       "        vertical-align: top;\n",
       "    }\n",
       "\n",
       "    .dataframe thead th {\n",
       "        text-align: right;\n",
       "    }\n",
       "</style>\n",
       "<table border=\"1\" class=\"dataframe\">\n",
       "  <thead>\n",
       "    <tr style=\"text-align: right;\">\n",
       "      <th></th>\n",
       "      <th></th>\n",
       "      <th>gender_group</th>\n",
       "      <th>age_group</th>\n",
       "      <th>wkd_ind</th>\n",
       "      <th>product</th>\n",
       "      <th>customer</th>\n",
       "      <th>revenue</th>\n",
       "      <th>order</th>\n",
       "      <th>quant</th>\n",
       "      <th>unit_cost</th>\n",
       "      <th>unit_price</th>\n",
       "      <th>margin</th>\n",
       "      <th>margin_total</th>\n",
       "      <th>unit_revenue_of_customer</th>\n",
       "    </tr>\n",
       "    <tr>\n",
       "      <th>city</th>\n",
       "      <th>channel</th>\n",
       "      <th></th>\n",
       "      <th></th>\n",
       "      <th></th>\n",
       "      <th></th>\n",
       "      <th></th>\n",
       "      <th></th>\n",
       "      <th></th>\n",
       "      <th></th>\n",
       "      <th></th>\n",
       "      <th></th>\n",
       "      <th></th>\n",
       "      <th></th>\n",
       "      <th></th>\n",
       "    </tr>\n",
       "  </thead>\n",
       "  <tbody>\n",
       "    <tr>\n",
       "      <td rowspan=\"2\" valign=\"top\">上海</td>\n",
       "      <td>线上</td>\n",
       "      <td>602</td>\n",
       "      <td>602</td>\n",
       "      <td>602</td>\n",
       "      <td>602</td>\n",
       "      <td>602</td>\n",
       "      <td>602</td>\n",
       "      <td>602</td>\n",
       "      <td>602</td>\n",
       "      <td>602</td>\n",
       "      <td>602</td>\n",
       "      <td>602</td>\n",
       "      <td>602</td>\n",
       "      <td>602</td>\n",
       "    </tr>\n",
       "    <tr>\n",
       "      <td>线下</td>\n",
       "      <td>1764</td>\n",
       "      <td>1764</td>\n",
       "      <td>1764</td>\n",
       "      <td>1764</td>\n",
       "      <td>1764</td>\n",
       "      <td>1764</td>\n",
       "      <td>1764</td>\n",
       "      <td>1764</td>\n",
       "      <td>1764</td>\n",
       "      <td>1764</td>\n",
       "      <td>1764</td>\n",
       "      <td>1764</td>\n",
       "      <td>1764</td>\n",
       "    </tr>\n",
       "    <tr>\n",
       "      <td>北京</td>\n",
       "      <td>线下</td>\n",
       "      <td>576</td>\n",
       "      <td>576</td>\n",
       "      <td>576</td>\n",
       "      <td>576</td>\n",
       "      <td>576</td>\n",
       "      <td>576</td>\n",
       "      <td>576</td>\n",
       "      <td>576</td>\n",
       "      <td>576</td>\n",
       "      <td>576</td>\n",
       "      <td>576</td>\n",
       "      <td>576</td>\n",
       "      <td>576</td>\n",
       "    </tr>\n",
       "    <tr>\n",
       "      <td>南京</td>\n",
       "      <td>线下</td>\n",
       "      <td>494</td>\n",
       "      <td>494</td>\n",
       "      <td>494</td>\n",
       "      <td>494</td>\n",
       "      <td>494</td>\n",
       "      <td>494</td>\n",
       "      <td>494</td>\n",
       "      <td>494</td>\n",
       "      <td>494</td>\n",
       "      <td>494</td>\n",
       "      <td>494</td>\n",
       "      <td>494</td>\n",
       "      <td>494</td>\n",
       "    </tr>\n",
       "    <tr>\n",
       "      <td rowspan=\"2\" valign=\"top\">广州</td>\n",
       "      <td>线上</td>\n",
       "      <td>1297</td>\n",
       "      <td>1297</td>\n",
       "      <td>1297</td>\n",
       "      <td>1297</td>\n",
       "      <td>1297</td>\n",
       "      <td>1297</td>\n",
       "      <td>1297</td>\n",
       "      <td>1297</td>\n",
       "      <td>1297</td>\n",
       "      <td>1297</td>\n",
       "      <td>1297</td>\n",
       "      <td>1297</td>\n",
       "      <td>1297</td>\n",
       "    </tr>\n",
       "    <tr>\n",
       "      <td>线下</td>\n",
       "      <td>877</td>\n",
       "      <td>877</td>\n",
       "      <td>877</td>\n",
       "      <td>877</td>\n",
       "      <td>877</td>\n",
       "      <td>877</td>\n",
       "      <td>877</td>\n",
       "      <td>877</td>\n",
       "      <td>877</td>\n",
       "      <td>877</td>\n",
       "      <td>877</td>\n",
       "      <td>877</td>\n",
       "      <td>877</td>\n",
       "    </tr>\n",
       "    <tr>\n",
       "      <td>成都</td>\n",
       "      <td>线下</td>\n",
       "      <td>1521</td>\n",
       "      <td>1521</td>\n",
       "      <td>1521</td>\n",
       "      <td>1521</td>\n",
       "      <td>1521</td>\n",
       "      <td>1521</td>\n",
       "      <td>1521</td>\n",
       "      <td>1521</td>\n",
       "      <td>1521</td>\n",
       "      <td>1521</td>\n",
       "      <td>1521</td>\n",
       "      <td>1521</td>\n",
       "      <td>1521</td>\n",
       "    </tr>\n",
       "    <tr>\n",
       "      <td>杭州</td>\n",
       "      <td>线下</td>\n",
       "      <td>3764</td>\n",
       "      <td>3764</td>\n",
       "      <td>3764</td>\n",
       "      <td>3764</td>\n",
       "      <td>3764</td>\n",
       "      <td>3764</td>\n",
       "      <td>3764</td>\n",
       "      <td>3764</td>\n",
       "      <td>3764</td>\n",
       "      <td>3764</td>\n",
       "      <td>3764</td>\n",
       "      <td>3764</td>\n",
       "      <td>3764</td>\n",
       "    </tr>\n",
       "    <tr>\n",
       "      <td rowspan=\"2\" valign=\"top\">武汉</td>\n",
       "      <td>线上</td>\n",
       "      <td>1547</td>\n",
       "      <td>1547</td>\n",
       "      <td>1547</td>\n",
       "      <td>1547</td>\n",
       "      <td>1547</td>\n",
       "      <td>1547</td>\n",
       "      <td>1547</td>\n",
       "      <td>1547</td>\n",
       "      <td>1547</td>\n",
       "      <td>1547</td>\n",
       "      <td>1547</td>\n",
       "      <td>1547</td>\n",
       "      <td>1547</td>\n",
       "    </tr>\n",
       "    <tr>\n",
       "      <td>线下</td>\n",
       "      <td>2003</td>\n",
       "      <td>2003</td>\n",
       "      <td>2003</td>\n",
       "      <td>2003</td>\n",
       "      <td>2003</td>\n",
       "      <td>2003</td>\n",
       "      <td>2003</td>\n",
       "      <td>2003</td>\n",
       "      <td>2003</td>\n",
       "      <td>2003</td>\n",
       "      <td>2003</td>\n",
       "      <td>2003</td>\n",
       "      <td>2003</td>\n",
       "    </tr>\n",
       "    <tr>\n",
       "      <td>深圳</td>\n",
       "      <td>线下</td>\n",
       "      <td>4331</td>\n",
       "      <td>4331</td>\n",
       "      <td>4331</td>\n",
       "      <td>4331</td>\n",
       "      <td>4331</td>\n",
       "      <td>4331</td>\n",
       "      <td>4331</td>\n",
       "      <td>4331</td>\n",
       "      <td>4331</td>\n",
       "      <td>4331</td>\n",
       "      <td>4331</td>\n",
       "      <td>4331</td>\n",
       "      <td>4331</td>\n",
       "    </tr>\n",
       "    <tr>\n",
       "      <td rowspan=\"2\" valign=\"top\">西安</td>\n",
       "      <td>线上</td>\n",
       "      <td>234</td>\n",
       "      <td>234</td>\n",
       "      <td>234</td>\n",
       "      <td>234</td>\n",
       "      <td>234</td>\n",
       "      <td>234</td>\n",
       "      <td>234</td>\n",
       "      <td>234</td>\n",
       "      <td>234</td>\n",
       "      <td>234</td>\n",
       "      <td>234</td>\n",
       "      <td>234</td>\n",
       "      <td>234</td>\n",
       "    </tr>\n",
       "    <tr>\n",
       "      <td>线下</td>\n",
       "      <td>1369</td>\n",
       "      <td>1369</td>\n",
       "      <td>1369</td>\n",
       "      <td>1369</td>\n",
       "      <td>1369</td>\n",
       "      <td>1369</td>\n",
       "      <td>1369</td>\n",
       "      <td>1369</td>\n",
       "      <td>1369</td>\n",
       "      <td>1369</td>\n",
       "      <td>1369</td>\n",
       "      <td>1369</td>\n",
       "      <td>1369</td>\n",
       "    </tr>\n",
       "    <tr>\n",
       "      <td rowspan=\"2\" valign=\"top\">重庆</td>\n",
       "      <td>线上</td>\n",
       "      <td>179</td>\n",
       "      <td>179</td>\n",
       "      <td>179</td>\n",
       "      <td>179</td>\n",
       "      <td>179</td>\n",
       "      <td>179</td>\n",
       "      <td>179</td>\n",
       "      <td>179</td>\n",
       "      <td>179</td>\n",
       "      <td>179</td>\n",
       "      <td>179</td>\n",
       "      <td>179</td>\n",
       "      <td>179</td>\n",
       "    </tr>\n",
       "    <tr>\n",
       "      <td>线下</td>\n",
       "      <td>1595</td>\n",
       "      <td>1595</td>\n",
       "      <td>1595</td>\n",
       "      <td>1595</td>\n",
       "      <td>1595</td>\n",
       "      <td>1595</td>\n",
       "      <td>1595</td>\n",
       "      <td>1595</td>\n",
       "      <td>1595</td>\n",
       "      <td>1595</td>\n",
       "      <td>1595</td>\n",
       "      <td>1595</td>\n",
       "      <td>1595</td>\n",
       "    </tr>\n",
       "  </tbody>\n",
       "</table>\n",
       "</div>"
      ],
      "text/plain": [
       "              gender_group  age_group  wkd_ind  product  customer  revenue  \\\n",
       "city channel                                                                 \n",
       "上海   线上                602        602      602      602       602      602   \n",
       "     线下               1764       1764     1764     1764      1764     1764   \n",
       "北京   线下                576        576      576      576       576      576   \n",
       "南京   线下                494        494      494      494       494      494   \n",
       "广州   线上               1297       1297     1297     1297      1297     1297   \n",
       "     线下                877        877      877      877       877      877   \n",
       "成都   线下               1521       1521     1521     1521      1521     1521   \n",
       "杭州   线下               3764       3764     3764     3764      3764     3764   \n",
       "武汉   线上               1547       1547     1547     1547      1547     1547   \n",
       "     线下               2003       2003     2003     2003      2003     2003   \n",
       "深圳   线下               4331       4331     4331     4331      4331     4331   \n",
       "西安   线上                234        234      234      234       234      234   \n",
       "     线下               1369       1369     1369     1369      1369     1369   \n",
       "重庆   线上                179        179      179      179       179      179   \n",
       "     线下               1595       1595     1595     1595      1595     1595   \n",
       "\n",
       "              order  quant  unit_cost  unit_price  margin  margin_total  \\\n",
       "city channel                                                              \n",
       "上海   线上         602    602        602         602     602           602   \n",
       "     线下        1764   1764       1764        1764    1764          1764   \n",
       "北京   线下         576    576        576         576     576           576   \n",
       "南京   线下         494    494        494         494     494           494   \n",
       "广州   线上        1297   1297       1297        1297    1297          1297   \n",
       "     线下         877    877        877         877     877           877   \n",
       "成都   线下        1521   1521       1521        1521    1521          1521   \n",
       "杭州   线下        3764   3764       3764        3764    3764          3764   \n",
       "武汉   线上        1547   1547       1547        1547    1547          1547   \n",
       "     线下        2003   2003       2003        2003    2003          2003   \n",
       "深圳   线下        4331   4331       4331        4331    4331          4331   \n",
       "西安   线上         234    234        234         234     234           234   \n",
       "     线下        1369   1369       1369        1369    1369          1369   \n",
       "重庆   线上         179    179        179         179     179           179   \n",
       "     线下        1595   1595       1595        1595    1595          1595   \n",
       "\n",
       "              unit_revenue_of_customer  \n",
       "city channel                            \n",
       "上海   线上                            602  \n",
       "     线下                           1764  \n",
       "北京   线下                            576  \n",
       "南京   线下                            494  \n",
       "广州   线上                           1297  \n",
       "     线下                            877  \n",
       "成都   线下                           1521  \n",
       "杭州   线下                           3764  \n",
       "武汉   线上                           1547  \n",
       "     线下                           2003  \n",
       "深圳   线下                           4331  \n",
       "西安   线上                            234  \n",
       "     线下                           1369  \n",
       "重庆   线上                            179  \n",
       "     线下                           1595  "
      ]
     },
     "execution_count": 365,
     "metadata": {},
     "output_type": "execute_result"
    }
   ],
   "source": [
    "app_clean.groupby(['city', 'channel']).count()"
   ]
  },
  {
   "cell_type": "code",
   "execution_count": 366,
   "metadata": {},
   "outputs": [
    {
     "data": {
      "text/plain": [
       "<matplotlib.axes._subplots.AxesSubplot at 0x12166557f88>"
      ]
     },
     "execution_count": 366,
     "metadata": {},
     "output_type": "execute_result"
    },
    {
     "data": {
      "image/png": "[encoded data removed]",
      "text/plain": [
       "<Figure size 432x288 with 1 Axes>"
      ]
     },
     "metadata": {
      "needs_background": "light"
     },
     "output_type": "display_data"
    }
   ],
   "source": [
    "sns.countplot(x='city', hue='channel', data=app_clean)"
   ]
  },
  {
   "cell_type": "markdown",
   "metadata": {},
   "source": [
    "结论：广州客户更喜欢线上购买，武汉客户线上线下购买比例相当，其他城市客户绝大部分更喜欢线下购买"
   ]
  },
  {
   "cell_type": "markdown",
   "metadata": {},
   "source": [
    "## 问题四：销售额和产品成本之间的关系怎么样？\n",
    "1、分析产品成本和单个产品销售额、单个产品利润的相关关系，是正相关还是负相关？\n",
    "\n",
    "2、分析单个销售额-产品成本即产品利润的分布情况。这个在2.8那里简单分析过了，这里对亏损情况进一步分析。"
   ]
  },
  {
   "cell_type": "markdown",
   "metadata": {},
   "source": [
    "### 产品成本、单个产品销售额和产品利润的相关关系"
   ]
  },
  {
   "cell_type": "code",
   "execution_count": 376,
   "metadata": {},
   "outputs": [
    {
     "data": {
      "text/html": [
       "<div>\n",
       "<style scoped>\n",
       "    .dataframe tbody tr th:only-of-type {\n",
       "        vertical-align: middle;\n",
       "    }\n",
       "\n",
       "    .dataframe tbody tr th {\n",
       "        vertical-align: top;\n",
       "    }\n",
       "\n",
       "    .dataframe thead th {\n",
       "        text-align: right;\n",
       "    }\n",
       "</style>\n",
       "<table border=\"1\" class=\"dataframe\">\n",
       "  <thead>\n",
       "    <tr style=\"text-align: right;\">\n",
       "      <th></th>\n",
       "      <th>unit_cost</th>\n",
       "      <th>unit_revenue_of_product</th>\n",
       "      <th>margin</th>\n",
       "    </tr>\n",
       "  </thead>\n",
       "  <tbody>\n",
       "    <tr>\n",
       "      <td>unit_cost</td>\n",
       "      <td>1.000000</td>\n",
       "      <td>0.503461</td>\n",
       "      <td>0.104168</td>\n",
       "    </tr>\n",
       "    <tr>\n",
       "      <td>unit_revenue_of_product</td>\n",
       "      <td>0.503461</td>\n",
       "      <td>1.000000</td>\n",
       "      <td>0.911762</td>\n",
       "    </tr>\n",
       "    <tr>\n",
       "      <td>margin</td>\n",
       "      <td>0.104168</td>\n",
       "      <td>0.911762</td>\n",
       "      <td>1.000000</td>\n",
       "    </tr>\n",
       "  </tbody>\n",
       "</table>\n",
       "</div>"
      ],
      "text/plain": [
       "                         unit_cost  unit_revenue_of_product    margin\n",
       "unit_cost                 1.000000                 0.503461  0.104168\n",
       "unit_revenue_of_product   0.503461                 1.000000  0.911762\n",
       "margin                    0.104168                 0.911762  1.000000"
      ]
     },
     "execution_count": 376,
     "metadata": {},
     "output_type": "execute_result"
    }
   ],
   "source": [
    "app_clean[['unit_cost', 'unit_revenue_of_product', 'margin']].corr()"
   ]
  },
  {
   "cell_type": "code",
   "execution_count": 377,
   "metadata": {},
   "outputs": [
    {
     "data": {
      "text/plain": [
       "<matplotlib.axes._subplots.AxesSubplot at 0x12167fcc548>"
      ]
     },
     "execution_count": 377,
     "metadata": {},
     "output_type": "execute_result"
    },
    {
     "data": {
      "image/png": "[encoded data removed]",
      "text/plain": [
       "<Figure size 432x288 with 2 Axes>"
      ]
     },
     "metadata": {
      "needs_background": "light"
     },
     "output_type": "display_data"
    }
   ],
   "source": [
    "sns.heatmap(app_clean[['unit_cost', 'unit_revenue_of_product', 'margin']].corr())"
   ]
  },
  {
   "cell_type": "markdown",
   "metadata": {},
   "source": [
    "结论：产品利润和单个产品销售额强正相关，相关系数为0.9，产品成本和单个产品销售额正相关，相关系数为0.5，产品成本和利润弱相关，相关系数仅为0.1"
   ]
  },
  {
   "cell_type": "markdown",
   "metadata": {},
   "source": [
    "### 产品利润的分布情况"
   ]
  },
  {
   "cell_type": "code",
   "execution_count": 372,
   "metadata": {},
   "outputs": [
    {
     "data": {
      "text/plain": [
       "count    22153.000000\n",
       "mean        38.160764\n",
       "std         40.236612\n",
       "min        -99.000000\n",
       "25%         14.000000\n",
       "50%         30.000000\n",
       "75%         50.000000\n",
       "max        270.000000\n",
       "Name: margin, dtype: float64"
      ]
     },
     "execution_count": 372,
     "metadata": {},
     "output_type": "execute_result"
    }
   ],
   "source": [
    "app_clean['margin'].describe()"
   ]
  },
  {
   "cell_type": "code",
   "execution_count": 373,
   "metadata": {},
   "outputs": [
    {
     "data": {
      "image/png": "[encoded data removed]",
      "text/plain": [
       "<Figure size 432x288 with 1 Axes>"
      ]
     },
     "metadata": {
      "needs_background": "light"
     },
     "output_type": "display_data"
    }
   ],
   "source": [
    "sns.distplot(app_clean['margin'])\n",
    "plt.rcParams['axes.unicode_minus']=False"
   ]
  },
  {
   "cell_type": "markdown",
   "metadata": {},
   "source": [
    "结论：产品利润主要分布在-50到200之间，75%的产品利润在50元以下，且产品的利润是有亏损的情况的，最大亏损了99元。"
   ]
  },
  {
   "cell_type": "code",
   "execution_count": 380,
   "metadata": {},
   "outputs": [
    {
     "data": {
      "text/html": [
       "<div>\n",
       "<style scoped>\n",
       "    .dataframe tbody tr th:only-of-type {\n",
       "        vertical-align: middle;\n",
       "    }\n",
       "\n",
       "    .dataframe tbody tr th {\n",
       "        vertical-align: top;\n",
       "    }\n",
       "\n",
       "    .dataframe thead th {\n",
       "        text-align: right;\n",
       "    }\n",
       "</style>\n",
       "<table border=\"1\" class=\"dataframe\">\n",
       "  <thead>\n",
       "    <tr style=\"text-align: right;\">\n",
       "      <th></th>\n",
       "      <th>city</th>\n",
       "      <th>channel</th>\n",
       "      <th>gender_group</th>\n",
       "      <th>age_group</th>\n",
       "      <th>wkd_ind</th>\n",
       "      <th>product</th>\n",
       "      <th>customer</th>\n",
       "      <th>revenue</th>\n",
       "      <th>order</th>\n",
       "      <th>quant</th>\n",
       "      <th>unit_cost</th>\n",
       "      <th>unit_price</th>\n",
       "      <th>margin</th>\n",
       "      <th>margin_total</th>\n",
       "      <th>unit_revenue_of_customer</th>\n",
       "      <th>unit_revenue_of_product</th>\n",
       "    </tr>\n",
       "  </thead>\n",
       "  <tbody>\n",
       "    <tr>\n",
       "      <td>8</td>\n",
       "      <td>杭州</td>\n",
       "      <td>线下</td>\n",
       "      <td>Female</td>\n",
       "      <td>30-34</td>\n",
       "      <td>Weekend</td>\n",
       "      <td>牛仔裤</td>\n",
       "      <td>3</td>\n",
       "      <td>157.0</td>\n",
       "      <td>3</td>\n",
       "      <td>3</td>\n",
       "      <td>69</td>\n",
       "      <td>52</td>\n",
       "      <td>-16.666667</td>\n",
       "      <td>-50.0</td>\n",
       "      <td>52.333333</td>\n",
       "      <td>52.333333</td>\n",
       "    </tr>\n",
       "    <tr>\n",
       "      <td>19</td>\n",
       "      <td>深圳</td>\n",
       "      <td>线下</td>\n",
       "      <td>Female</td>\n",
       "      <td>35-39</td>\n",
       "      <td>Weekday</td>\n",
       "      <td>牛仔裤</td>\n",
       "      <td>3</td>\n",
       "      <td>196.0</td>\n",
       "      <td>3</td>\n",
       "      <td>4</td>\n",
       "      <td>69</td>\n",
       "      <td>49</td>\n",
       "      <td>-20.000000</td>\n",
       "      <td>-80.0</td>\n",
       "      <td>65.333333</td>\n",
       "      <td>49.000000</td>\n",
       "    </tr>\n",
       "    <tr>\n",
       "      <td>20</td>\n",
       "      <td>广州</td>\n",
       "      <td>线上</td>\n",
       "      <td>Male</td>\n",
       "      <td>&gt;=60</td>\n",
       "      <td>Weekday</td>\n",
       "      <td>T恤</td>\n",
       "      <td>1</td>\n",
       "      <td>39.0</td>\n",
       "      <td>1</td>\n",
       "      <td>1</td>\n",
       "      <td>49</td>\n",
       "      <td>39</td>\n",
       "      <td>-10.000000</td>\n",
       "      <td>-10.0</td>\n",
       "      <td>39.000000</td>\n",
       "      <td>39.000000</td>\n",
       "    </tr>\n",
       "    <tr>\n",
       "      <td>23</td>\n",
       "      <td>南京</td>\n",
       "      <td>线下</td>\n",
       "      <td>Female</td>\n",
       "      <td>35-39</td>\n",
       "      <td>Weekend</td>\n",
       "      <td>T恤</td>\n",
       "      <td>4</td>\n",
       "      <td>176.0</td>\n",
       "      <td>4</td>\n",
       "      <td>4</td>\n",
       "      <td>49</td>\n",
       "      <td>44</td>\n",
       "      <td>-5.000000</td>\n",
       "      <td>-20.0</td>\n",
       "      <td>44.000000</td>\n",
       "      <td>44.000000</td>\n",
       "    </tr>\n",
       "    <tr>\n",
       "      <td>24</td>\n",
       "      <td>广州</td>\n",
       "      <td>线下</td>\n",
       "      <td>Female</td>\n",
       "      <td>35-39</td>\n",
       "      <td>Weekend</td>\n",
       "      <td>T恤</td>\n",
       "      <td>3</td>\n",
       "      <td>114.0</td>\n",
       "      <td>3</td>\n",
       "      <td>3</td>\n",
       "      <td>49</td>\n",
       "      <td>38</td>\n",
       "      <td>-11.000000</td>\n",
       "      <td>-33.0</td>\n",
       "      <td>38.000000</td>\n",
       "      <td>38.000000</td>\n",
       "    </tr>\n",
       "  </tbody>\n",
       "</table>\n",
       "</div>"
      ],
      "text/plain": [
       "   city channel gender_group age_group  wkd_ind product  customer  revenue  \\\n",
       "8    杭州      线下       Female     30-34  Weekend     牛仔裤         3    157.0   \n",
       "19   深圳      线下       Female     35-39  Weekday     牛仔裤         3    196.0   \n",
       "20   广州      线上         Male      >=60  Weekday      T恤         1     39.0   \n",
       "23   南京      线下       Female     35-39  Weekend      T恤         4    176.0   \n",
       "24   广州      线下       Female     35-39  Weekend      T恤         3    114.0   \n",
       "\n",
       "    order  quant  unit_cost  unit_price     margin  margin_total  \\\n",
       "8       3      3         69          52 -16.666667         -50.0   \n",
       "19      3      4         69          49 -20.000000         -80.0   \n",
       "20      1      1         49          39 -10.000000         -10.0   \n",
       "23      4      4         49          44  -5.000000         -20.0   \n",
       "24      3      3         49          38 -11.000000         -33.0   \n",
       "\n",
       "    unit_revenue_of_customer  unit_revenue_of_product  \n",
       "8                  52.333333                52.333333  \n",
       "19                 65.333333                49.000000  \n",
       "20                 39.000000                39.000000  \n",
       "23                 44.000000                44.000000  \n",
       "24                 38.000000                38.000000  "
      ]
     },
     "execution_count": 380,
     "metadata": {},
     "output_type": "execute_result"
    }
   ],
   "source": [
    "# 将亏损情况另外分析\n",
    "margin_loss = app_clean[app_clean['margin']<0]\n",
    "margin_loss.head()"
   ]
  },
  {
   "cell_type": "code",
   "execution_count": 386,
   "metadata": {},
   "outputs": [
    {
     "data": {
      "text/plain": [
       "牛仔裤     815\n",
       "T恤      702\n",
       "当季新品    658\n",
       "运动      568\n",
       "毛衣       25\n",
       "裙子       17\n",
       "袜子        5\n",
       "短裤        4\n",
       "配件        1\n",
       "Name: product, dtype: int64"
      ]
     },
     "execution_count": 386,
     "metadata": {},
     "output_type": "execute_result"
    }
   ],
   "source": [
    "# 分析亏损的产品\n",
    "margin_loss['product'].value_counts()"
   ]
  },
  {
   "cell_type": "code",
   "execution_count": 388,
   "metadata": {},
   "outputs": [
    {
     "data": {
      "text/plain": [
       "<matplotlib.axes._subplots.AxesSubplot at 0x1216929ae88>"
      ]
     },
     "execution_count": 388,
     "metadata": {},
     "output_type": "execute_result"
    },
    {
     "data": {
      "image/png": "[encoded data removed]",
      "text/plain": [
       "<Figure size 432x288 with 1 Axes>"
      ]
     },
     "metadata": {
      "needs_background": "light"
     },
     "output_type": "display_data"
    }
   ],
   "source": [
    "sns.countplot(x='product', data=margin_loss, order=margin_loss['product'].value_counts().index)"
   ]
  },
  {
   "cell_type": "code",
   "execution_count": 397,
   "metadata": {},
   "outputs": [
    {
     "data": {
      "text/plain": [
       "product\n",
       "牛仔裤    -18441.011984\n",
       "T恤      -7528.994040\n",
       "运动      -7192.344305\n",
       "当季新品    -5539.726865\n",
       "毛衣      -1058.650000\n",
       "裙子       -433.420000\n",
       "短裤        -66.000000\n",
       "袜子        -45.000000\n",
       "配件        -29.000000\n",
       "Name: margin, dtype: float64"
      ]
     },
     "execution_count": 397,
     "metadata": {},
     "output_type": "execute_result"
    }
   ],
   "source": [
    "margin_loss.groupby('product')['margin'].sum().sort_values()"
   ]
  },
  {
   "cell_type": "code",
   "execution_count": 398,
   "metadata": {},
   "outputs": [
    {
     "data": {
      "text/html": [
       "<div>\n",
       "<style scoped>\n",
       "    .dataframe tbody tr th:only-of-type {\n",
       "        vertical-align: middle;\n",
       "    }\n",
       "\n",
       "    .dataframe tbody tr th {\n",
       "        vertical-align: top;\n",
       "    }\n",
       "\n",
       "    .dataframe thead th {\n",
       "        text-align: right;\n",
       "    }\n",
       "</style>\n",
       "<table border=\"1\" class=\"dataframe\">\n",
       "  <thead>\n",
       "    <tr style=\"text-align: right;\">\n",
       "      <th></th>\n",
       "      <th>product</th>\n",
       "      <th>margin</th>\n",
       "    </tr>\n",
       "  </thead>\n",
       "  <tbody>\n",
       "    <tr>\n",
       "      <td>0</td>\n",
       "      <td>牛仔裤</td>\n",
       "      <td>-18441.011984</td>\n",
       "    </tr>\n",
       "    <tr>\n",
       "      <td>1</td>\n",
       "      <td>T恤</td>\n",
       "      <td>-7528.994040</td>\n",
       "    </tr>\n",
       "    <tr>\n",
       "      <td>2</td>\n",
       "      <td>运动</td>\n",
       "      <td>-7192.344305</td>\n",
       "    </tr>\n",
       "    <tr>\n",
       "      <td>3</td>\n",
       "      <td>当季新品</td>\n",
       "      <td>-5539.726865</td>\n",
       "    </tr>\n",
       "    <tr>\n",
       "      <td>4</td>\n",
       "      <td>毛衣</td>\n",
       "      <td>-1058.650000</td>\n",
       "    </tr>\n",
       "    <tr>\n",
       "      <td>5</td>\n",
       "      <td>裙子</td>\n",
       "      <td>-433.420000</td>\n",
       "    </tr>\n",
       "    <tr>\n",
       "      <td>6</td>\n",
       "      <td>短裤</td>\n",
       "      <td>-66.000000</td>\n",
       "    </tr>\n",
       "    <tr>\n",
       "      <td>7</td>\n",
       "      <td>袜子</td>\n",
       "      <td>-45.000000</td>\n",
       "    </tr>\n",
       "    <tr>\n",
       "      <td>8</td>\n",
       "      <td>配件</td>\n",
       "      <td>-29.000000</td>\n",
       "    </tr>\n",
       "  </tbody>\n",
       "</table>\n",
       "</div>"
      ],
      "text/plain": [
       "  product        margin\n",
       "0     牛仔裤 -18441.011984\n",
       "1      T恤  -7528.994040\n",
       "2      运动  -7192.344305\n",
       "3    当季新品  -5539.726865\n",
       "4      毛衣  -1058.650000\n",
       "5      裙子   -433.420000\n",
       "6      短裤    -66.000000\n",
       "7      袜子    -45.000000\n",
       "8      配件    -29.000000"
      ]
     },
     "execution_count": 398,
     "metadata": {},
     "output_type": "execute_result"
    }
   ],
   "source": [
    "tmp = margin_loss.groupby('product')['margin'].sum().sort_values()\n",
    "malodf = pd.DataFrame(tmp).reset_index()\n",
    "malodf"
   ]
  },
  {
   "cell_type": "code",
   "execution_count": 399,
   "metadata": {},
   "outputs": [
    {
     "data": {
      "text/plain": [
       "<matplotlib.axes._subplots.AxesSubplot at 0x1216a0d5a88>"
      ]
     },
     "execution_count": 399,
     "metadata": {},
     "output_type": "execute_result"
    },
    {
     "data": {
      "image/png": "[encoded data removed]",
      "text/plain": [
       "<Figure size 432x288 with 1 Axes>"
      ]
     },
     "metadata": {
      "needs_background": "light"
     },
     "output_type": "display_data"
    }
   ],
   "source": [
    "sns.barplot(x='product', y='margin', data=malodf)"
   ]
  },
  {
   "cell_type": "code",
   "execution_count": 409,
   "metadata": {},
   "outputs": [
    {
     "data": {
      "text/plain": [
       "T恤      0.066547\n",
       "当季新品    0.259976\n",
       "毛衣      0.031056\n",
       "牛仔裤     0.583811\n",
       "短裤      0.002380\n",
       "袜子      0.002451\n",
       "裙子      0.027027\n",
       "运动      0.586171\n",
       "配件      0.000644\n",
       "Name: product, dtype: float64"
      ]
     },
     "execution_count": 409,
     "metadata": {},
     "output_type": "execute_result"
    }
   ],
   "source": [
    "# 分析产品的亏损率，即亏损的数量占所有数量的比例\n",
    "margin_loss['product'].value_counts()/app_clean['product'].value_counts()"
   ]
  },
  {
   "cell_type": "code",
   "execution_count": 417,
   "metadata": {},
   "outputs": [
    {
     "data": {
      "text/html": [
       "<div>\n",
       "<style scoped>\n",
       "    .dataframe tbody tr th:only-of-type {\n",
       "        vertical-align: middle;\n",
       "    }\n",
       "\n",
       "    .dataframe tbody tr th {\n",
       "        vertical-align: top;\n",
       "    }\n",
       "\n",
       "    .dataframe thead th {\n",
       "        text-align: right;\n",
       "    }\n",
       "</style>\n",
       "<table border=\"1\" class=\"dataframe\">\n",
       "  <thead>\n",
       "    <tr style=\"text-align: right;\">\n",
       "      <th></th>\n",
       "      <th>product</th>\n",
       "      <th>precentage</th>\n",
       "    </tr>\n",
       "  </thead>\n",
       "  <tbody>\n",
       "    <tr>\n",
       "      <td>0</td>\n",
       "      <td>运动</td>\n",
       "      <td>0.586171</td>\n",
       "    </tr>\n",
       "    <tr>\n",
       "      <td>1</td>\n",
       "      <td>牛仔裤</td>\n",
       "      <td>0.583811</td>\n",
       "    </tr>\n",
       "    <tr>\n",
       "      <td>2</td>\n",
       "      <td>当季新品</td>\n",
       "      <td>0.259976</td>\n",
       "    </tr>\n",
       "    <tr>\n",
       "      <td>3</td>\n",
       "      <td>T恤</td>\n",
       "      <td>0.066547</td>\n",
       "    </tr>\n",
       "    <tr>\n",
       "      <td>4</td>\n",
       "      <td>毛衣</td>\n",
       "      <td>0.031056</td>\n",
       "    </tr>\n",
       "    <tr>\n",
       "      <td>5</td>\n",
       "      <td>裙子</td>\n",
       "      <td>0.027027</td>\n",
       "    </tr>\n",
       "    <tr>\n",
       "      <td>6</td>\n",
       "      <td>袜子</td>\n",
       "      <td>0.002451</td>\n",
       "    </tr>\n",
       "    <tr>\n",
       "      <td>7</td>\n",
       "      <td>短裤</td>\n",
       "      <td>0.002380</td>\n",
       "    </tr>\n",
       "    <tr>\n",
       "      <td>8</td>\n",
       "      <td>配件</td>\n",
       "      <td>0.000644</td>\n",
       "    </tr>\n",
       "  </tbody>\n",
       "</table>\n",
       "</div>"
      ],
      "text/plain": [
       "  product  precentage\n",
       "0      运动    0.586171\n",
       "1     牛仔裤    0.583811\n",
       "2    当季新品    0.259976\n",
       "3      T恤    0.066547\n",
       "4      毛衣    0.031056\n",
       "5      裙子    0.027027\n",
       "6      袜子    0.002451\n",
       "7      短裤    0.002380\n",
       "8      配件    0.000644"
      ]
     },
     "execution_count": 417,
     "metadata": {},
     "output_type": "execute_result"
    }
   ],
   "source": [
    "tmp = (margin_loss['product'].value_counts()/app_clean['product'].value_counts()).sort_values(ascending=False)\n",
    "malopdf = pd.DataFrame(tmp).reset_index().rename(columns={'index':'product', 'product':'precentage'})\n",
    "malopdf"
   ]
  },
  {
   "cell_type": "code",
   "execution_count": 418,
   "metadata": {},
   "outputs": [
    {
     "data": {
      "text/plain": [
       "<matplotlib.axes._subplots.AxesSubplot at 0x121698c3048>"
      ]
     },
     "execution_count": 418,
     "metadata": {},
     "output_type": "execute_result"
    },
    {
     "data": {
      "image/png": "[encoded data removed]",
      "text/plain": [
       "<Figure size 432x288 with 1 Axes>"
      ]
     },
     "metadata": {
      "needs_background": "light"
     },
     "output_type": "display_data"
    }
   ],
   "source": [
    "sns.barplot(x='product', y='precentage', data=malopdf)"
   ]
  },
  {
   "cell_type": "markdown",
   "metadata": {},
   "source": [
    "结论：亏损最多的商品是牛仔裤、T恤、当季新品、运动，而亏损利润最多的是牛仔裤、T恤、运动、当季新品，当季新品亏损量比运动的少，但是亏损利润比运动的多。运动、牛仔裤这两个商品亏损的数量占该商品所有数量的近60%，亏损比例是很大的。"
   ]
  },
  {
   "cell_type": "code",
   "execution_count": 402,
   "metadata": {},
   "outputs": [
    {
     "data": {
      "text/plain": [
       "深圳    510\n",
       "杭州    476\n",
       "武汉    400\n",
       "广州    313\n",
       "上海    305\n",
       "重庆    252\n",
       "成都    225\n",
       "西安    224\n",
       "北京     46\n",
       "南京     44\n",
       "Name: city, dtype: int64"
      ]
     },
     "execution_count": 402,
     "metadata": {},
     "output_type": "execute_result"
    }
   ],
   "source": [
    "# 分析亏损的城市\n",
    "margin_loss['city'].value_counts()"
   ]
  },
  {
   "cell_type": "code",
   "execution_count": 404,
   "metadata": {},
   "outputs": [
    {
     "data": {
      "text/plain": [
       "<matplotlib.axes._subplots.AxesSubplot at 0x12167f3de08>"
      ]
     },
     "execution_count": 404,
     "metadata": {},
     "output_type": "execute_result"
    },
    {
     "data": {
      "image/png": "[encoded data removed]",
      "text/plain": [
       "<Figure size 432x288 with 1 Axes>"
      ]
     },
     "metadata": {
      "needs_background": "light"
     },
     "output_type": "display_data"
    }
   ],
   "source": [
    "sns.countplot(x='city', data=margin_loss, order=margin_loss['city'].value_counts().index)"
   ]
  },
  {
   "cell_type": "code",
   "execution_count": 405,
   "metadata": {},
   "outputs": [
    {
     "data": {
      "text/plain": [
       "city\n",
       "深圳   -7300.822729\n",
       "杭州   -6857.705413\n",
       "武汉   -5307.917747\n",
       "广州   -4936.151429\n",
       "上海   -4444.548820\n",
       "重庆   -3627.543516\n",
       "西安   -3610.971429\n",
       "成都   -3128.150278\n",
       "北京    -597.882500\n",
       "南京    -522.453333\n",
       "Name: margin, dtype: float64"
      ]
     },
     "execution_count": 405,
     "metadata": {},
     "output_type": "execute_result"
    }
   ],
   "source": [
    "margin_loss.groupby('city')['margin'].sum().sort_values()"
   ]
  },
  {
   "cell_type": "code",
   "execution_count": 406,
   "metadata": {},
   "outputs": [
    {
     "data": {
      "text/html": [
       "<div>\n",
       "<style scoped>\n",
       "    .dataframe tbody tr th:only-of-type {\n",
       "        vertical-align: middle;\n",
       "    }\n",
       "\n",
       "    .dataframe tbody tr th {\n",
       "        vertical-align: top;\n",
       "    }\n",
       "\n",
       "    .dataframe thead th {\n",
       "        text-align: right;\n",
       "    }\n",
       "</style>\n",
       "<table border=\"1\" class=\"dataframe\">\n",
       "  <thead>\n",
       "    <tr style=\"text-align: right;\">\n",
       "      <th></th>\n",
       "      <th>city</th>\n",
       "      <th>margin</th>\n",
       "    </tr>\n",
       "  </thead>\n",
       "  <tbody>\n",
       "    <tr>\n",
       "      <td>0</td>\n",
       "      <td>深圳</td>\n",
       "      <td>-7300.822729</td>\n",
       "    </tr>\n",
       "    <tr>\n",
       "      <td>1</td>\n",
       "      <td>杭州</td>\n",
       "      <td>-6857.705413</td>\n",
       "    </tr>\n",
       "    <tr>\n",
       "      <td>2</td>\n",
       "      <td>武汉</td>\n",
       "      <td>-5307.917747</td>\n",
       "    </tr>\n",
       "    <tr>\n",
       "      <td>3</td>\n",
       "      <td>广州</td>\n",
       "      <td>-4936.151429</td>\n",
       "    </tr>\n",
       "    <tr>\n",
       "      <td>4</td>\n",
       "      <td>上海</td>\n",
       "      <td>-4444.548820</td>\n",
       "    </tr>\n",
       "    <tr>\n",
       "      <td>5</td>\n",
       "      <td>重庆</td>\n",
       "      <td>-3627.543516</td>\n",
       "    </tr>\n",
       "    <tr>\n",
       "      <td>6</td>\n",
       "      <td>西安</td>\n",
       "      <td>-3610.971429</td>\n",
       "    </tr>\n",
       "    <tr>\n",
       "      <td>7</td>\n",
       "      <td>成都</td>\n",
       "      <td>-3128.150278</td>\n",
       "    </tr>\n",
       "    <tr>\n",
       "      <td>8</td>\n",
       "      <td>北京</td>\n",
       "      <td>-597.882500</td>\n",
       "    </tr>\n",
       "    <tr>\n",
       "      <td>9</td>\n",
       "      <td>南京</td>\n",
       "      <td>-522.453333</td>\n",
       "    </tr>\n",
       "  </tbody>\n",
       "</table>\n",
       "</div>"
      ],
      "text/plain": [
       "  city       margin\n",
       "0   深圳 -7300.822729\n",
       "1   杭州 -6857.705413\n",
       "2   武汉 -5307.917747\n",
       "3   广州 -4936.151429\n",
       "4   上海 -4444.548820\n",
       "5   重庆 -3627.543516\n",
       "6   西安 -3610.971429\n",
       "7   成都 -3128.150278\n",
       "8   北京  -597.882500\n",
       "9   南京  -522.453333"
      ]
     },
     "execution_count": 406,
     "metadata": {},
     "output_type": "execute_result"
    }
   ],
   "source": [
    "tmp = margin_loss.groupby('city')['margin'].sum().sort_values()\n",
    "cilodf = pd.DataFrame(tmp).reset_index()\n",
    "cilodf"
   ]
  },
  {
   "cell_type": "code",
   "execution_count": 407,
   "metadata": {},
   "outputs": [
    {
     "data": {
      "text/plain": [
       "<matplotlib.axes._subplots.AxesSubplot at 0x121694c7bc8>"
      ]
     },
     "execution_count": 407,
     "metadata": {},
     "output_type": "execute_result"
    },
    {
     "data": {
      "image/png": "[encoded data removed]",
      "text/plain": [
       "<Figure size 432x288 with 1 Axes>"
      ]
     },
     "metadata": {
      "needs_background": "light"
     },
     "output_type": "display_data"
    }
   ],
   "source": [
    "sns.barplot(x='city', y='margin', data=cilodf)"
   ]
  },
  {
   "cell_type": "code",
   "execution_count": 413,
   "metadata": {},
   "outputs": [
    {
     "data": {
      "text/plain": [
       "上海    0.128910\n",
       "北京    0.079861\n",
       "南京    0.089069\n",
       "广州    0.143974\n",
       "成都    0.147929\n",
       "杭州    0.126461\n",
       "武汉    0.112676\n",
       "深圳    0.117756\n",
       "西安    0.139738\n",
       "重庆    0.142052\n",
       "Name: city, dtype: float64"
      ]
     },
     "execution_count": 413,
     "metadata": {},
     "output_type": "execute_result"
    }
   ],
   "source": [
    "# 分析城市的亏损率，即亏损的数量占所有数量的比例\n",
    "margin_loss['city'].value_counts()/app_clean['city'].value_counts()"
   ]
  },
  {
   "cell_type": "code",
   "execution_count": 419,
   "metadata": {},
   "outputs": [
    {
     "data": {
      "text/html": [
       "<div>\n",
       "<style scoped>\n",
       "    .dataframe tbody tr th:only-of-type {\n",
       "        vertical-align: middle;\n",
       "    }\n",
       "\n",
       "    .dataframe tbody tr th {\n",
       "        vertical-align: top;\n",
       "    }\n",
       "\n",
       "    .dataframe thead th {\n",
       "        text-align: right;\n",
       "    }\n",
       "</style>\n",
       "<table border=\"1\" class=\"dataframe\">\n",
       "  <thead>\n",
       "    <tr style=\"text-align: right;\">\n",
       "      <th></th>\n",
       "      <th>city</th>\n",
       "      <th>precentage</th>\n",
       "    </tr>\n",
       "  </thead>\n",
       "  <tbody>\n",
       "    <tr>\n",
       "      <td>0</td>\n",
       "      <td>成都</td>\n",
       "      <td>0.147929</td>\n",
       "    </tr>\n",
       "    <tr>\n",
       "      <td>1</td>\n",
       "      <td>广州</td>\n",
       "      <td>0.143974</td>\n",
       "    </tr>\n",
       "    <tr>\n",
       "      <td>2</td>\n",
       "      <td>重庆</td>\n",
       "      <td>0.142052</td>\n",
       "    </tr>\n",
       "    <tr>\n",
       "      <td>3</td>\n",
       "      <td>西安</td>\n",
       "      <td>0.139738</td>\n",
       "    </tr>\n",
       "    <tr>\n",
       "      <td>4</td>\n",
       "      <td>上海</td>\n",
       "      <td>0.128910</td>\n",
       "    </tr>\n",
       "    <tr>\n",
       "      <td>5</td>\n",
       "      <td>杭州</td>\n",
       "      <td>0.126461</td>\n",
       "    </tr>\n",
       "    <tr>\n",
       "      <td>6</td>\n",
       "      <td>深圳</td>\n",
       "      <td>0.117756</td>\n",
       "    </tr>\n",
       "    <tr>\n",
       "      <td>7</td>\n",
       "      <td>武汉</td>\n",
       "      <td>0.112676</td>\n",
       "    </tr>\n",
       "    <tr>\n",
       "      <td>8</td>\n",
       "      <td>南京</td>\n",
       "      <td>0.089069</td>\n",
       "    </tr>\n",
       "    <tr>\n",
       "      <td>9</td>\n",
       "      <td>北京</td>\n",
       "      <td>0.079861</td>\n",
       "    </tr>\n",
       "  </tbody>\n",
       "</table>\n",
       "</div>"
      ],
      "text/plain": [
       "  city  precentage\n",
       "0   成都    0.147929\n",
       "1   广州    0.143974\n",
       "2   重庆    0.142052\n",
       "3   西安    0.139738\n",
       "4   上海    0.128910\n",
       "5   杭州    0.126461\n",
       "6   深圳    0.117756\n",
       "7   武汉    0.112676\n",
       "8   南京    0.089069\n",
       "9   北京    0.079861"
      ]
     },
     "execution_count": 419,
     "metadata": {},
     "output_type": "execute_result"
    }
   ],
   "source": [
    "tmp = (margin_loss['city'].value_counts()/app_clean['city'].value_counts()).sort_values(ascending=False)\n",
    "cilopdf = pd.DataFrame(tmp).reset_index().rename(columns={'index':'city', 'city':'precentage'})\n",
    "cilopdf"
   ]
  },
  {
   "cell_type": "code",
   "execution_count": 420,
   "metadata": {},
   "outputs": [
    {
     "data": {
      "text/plain": [
       "<matplotlib.axes._subplots.AxesSubplot at 0x1216c6aa2c8>"
      ]
     },
     "execution_count": 420,
     "metadata": {},
     "output_type": "execute_result"
    },
    {
     "data": {
      "image/png": "[encoded data removed]",
      "text/plain": [
       "<Figure size 432x288 with 1 Axes>"
      ]
     },
     "metadata": {
      "needs_background": "light"
     },
     "output_type": "display_data"
    }
   ],
   "source": [
    "sns.barplot(x='city', y='precentage', data=cilopdf)"
   ]
  },
  {
   "cell_type": "markdown",
   "metadata": {},
   "source": [
    "结论：亏损最多和亏损利润最多的城市前五名是深圳、杭州、武汉、广州、上海，而亏损率前五名是成都、广州、重庆、西安、上海，亏损率在8%-15%之间"
   ]
  },
  {
   "cell_type": "markdown",
   "metadata": {},
   "source": [
    "# 总结"
   ]
  },
  {
   "cell_type": "markdown",
   "metadata": {},
   "source": [
    "## 问题一：整体销售情况随着时间的变化是怎样的？\n",
    "分析了类别变量（渠道、性别、年龄段）和数值变量（顾客数量、销售额、销售产品数量、利润）在时间上的变化"
   ]
  },
  {
   "cell_type": "markdown",
   "metadata": {},
   "source": [
    "结论：\n",
    "- 不论是线下还是线上，周末和周中的客户数量区别不大，而总体上线下客户数量比线上要多很多。\n",
    "- 总体来讲，女性客户比男性客户要多，在女性客户中，周末购买的比例较高，而男性客户中周末和周中购买的比例区别不大。\n",
    "- 所有年龄段在周中的购买次数都比周末要多，但是20岁以下和45岁以上的客户在周中和周末的购买比例差别不大。\n",
    "- 周中的顾客总数比周末的要多，但平均顾客数量差不多。\n",
    "- 在周中的销售额比周末要多，周中总销售额和平均销售额分别为2086397和168，周末的总销售额和平均销售额分别为1457653和149\n",
    "- 周中的销售产品数量比周末要多。\n",
    "- 周中的总利润比周末的要多，但是平均利润却差不多，且周末的平均利润要多一点\n",
    "- 不管在周中还是周末，顾客的人均消费额都是差不多的，在93元左右。"
   ]
  },
  {
   "cell_type": "markdown",
   "metadata": {},
   "source": [
    "## 问题二：不同产品的销售情况是怎样的？\n",
    "分析了不同产品类别的销售情况包括销售额、销售数量、销售利润等"
   ]
  },
  {
   "cell_type": "markdown",
   "metadata": {},
   "source": [
    "结论：\n",
    "- 总销售额的前三名是T恤、当季新品、配件，裙子、袜子、运动和短裤的总销售额差别不大。但是平均销售额的前三名是毛衣、配件、当季新品，且每一类产品的平均销售额差别不大。\n",
    "- T恤的销售数量最多，是第二名的3倍多。\n",
    "- 总销售利润的前三名是T恤、配件、当季新品，且T恤的总销售利润是配件的3倍。但是平均销售利润的前三名是毛衣、裙子、配件，且三者相差不大，但与第四名当季新品的差别较大，是当季新品的2倍。"
   ]
  },
  {
   "cell_type": "markdown",
   "metadata": {},
   "source": [
    "销售建议：\n",
    "- 仍然主打T恤，同时当季新品、配件的销售额有较大的提升潜力"
   ]
  },
  {
   "cell_type": "markdown",
   "metadata": {},
   "source": [
    "## 问题三：顾客偏爱哪一种购买方式？\n",
    "分析了不同顾客群体喜爱的购买方式，从性别、年龄、城市来拆分顾客，购买方式即线上或线下。"
   ]
  },
  {
   "cell_type": "markdown",
   "metadata": {},
   "source": [
    "结论：\n",
    "- 不管是男性还是女性，线下购买的人数更多。\n",
    "- 不管哪个年龄段，线下购买的人数更多。\n",
    "- 广州客户更喜欢线上购买，武汉客户线上线下购买比例相当，其他城市客户绝大部分更喜欢线下购买"
   ]
  },
  {
   "cell_type": "markdown",
   "metadata": {},
   "source": [
    "销售建议：\n",
    "- 主打线下销售，同时加大线上的宣传手段\n",
    "- 针对广州的线下门店增加更多营销手段，吸引更多顾客来线下购买"
   ]
  },
  {
   "cell_type": "markdown",
   "metadata": {},
   "source": [
    "## 问题四：销售额和产品成本之间的关系怎么样？\n",
    "1、分析了产品成本和单个产品销售额、单个产品利润的相关关系，是正相关还是负相关？\n",
    "\n",
    "2、分析了单个销售额-产品成本即产品利润的分布情况。"
   ]
  },
  {
   "cell_type": "markdown",
   "metadata": {},
   "source": [
    "结论：\n",
    "- 产品利润和单个产品销售额强正相关，相关系数为0.9，产品成本和单个产品销售额正相关，相关系数为0.5，产品成本和利润弱相关，相关系数仅为0.1\n",
    "- 亏损最多的商品是牛仔裤、T恤、当季新品、运动，而亏损利润最多的是牛仔裤、T恤、运动、当季新品，当季新品亏损量比运动的少，但是亏损利润比运动的多。运动、牛仔裤这两个商品亏损的数量占该商品所有数量的近60%，亏损比例是很大的。\n",
    "- 亏损最多和亏损利润最多的城市前五名是深圳、杭州、武汉、广州、上海，而亏损率前五名是成都、广州、重庆、西安、上海，亏损率在8%-15%之间"
   ]
  },
  {
   "cell_type": "markdown",
   "metadata": {},
   "source": [
    "销售建议：\n",
    "- 运动、牛仔裤类的产品亏损率比较大，可以适当提高一下价格或降低成本\n",
    "- 重点关注广州、上海、深圳、杭州、成都的亏损情况，降低亏损率"
   ]
  },
  {
   "cell_type": "code",
   "execution_count": null,
   "metadata": {},
   "outputs": [],
   "source": []
  }
 ],
 "metadata": {
  "kernelspec": {
   "display_name": "Python 3",
   "language": "python",
   "name": "python3"
  },
  "language_info": {
   "codemirror_mode": {
    "name": "ipython",
    "version": 3
   },
   "file_extension": ".py",
   "mimetype": "text/x-python",
   "name": "python",
   "nbconvert_exporter": "python",
   "pygments_lexer": "ipython3",
   "version": "3.7.3"
  },
  "toc": {
   "base_numbering": 1,
   "nav_menu": {},
   "number_sections": true,
   "sideBar": true,
   "skip_h1_title": false,
   "title_cell": "Table of Contents",
   "title_sidebar": "Contents",
   "toc_cell": false,
   "toc_position": {
    "height": "calc(100% - 180px)",
    "left": "10px",
    "top": "150px",
    "width": "240px"
   },
   "toc_section_display": true,
   "toc_window_display": true
  }
 },
 "nbformat": 4,
 "nbformat_minor": 2
}
