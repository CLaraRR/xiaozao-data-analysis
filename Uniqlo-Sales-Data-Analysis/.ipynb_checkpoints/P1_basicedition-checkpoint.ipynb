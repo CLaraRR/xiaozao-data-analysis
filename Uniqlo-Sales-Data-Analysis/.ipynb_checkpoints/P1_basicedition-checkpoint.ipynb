{
 "cells": [
  {
   "cell_type": "markdown",
   "metadata": {},
   "source": [
    "# 项目背景及要求"
   ]
  },
  {
   "cell_type": "markdown",
   "metadata": {},
   "source": [
    "优衣库（英文名称：UNIQLO，日文假名发音：ユニクロ），为日本迅销公司的核心品牌,建立于1984年，当年是一家销售西服的小服装店，现已成为国际知名服装品牌。优衣库现任董事长兼总经理柳井正在日本首次引进了大卖场式的服装销售方式，通过独特的商品策划、开发和销售体系来实现店铺运作的低成本化，由此引发了优衣库的热卖潮。\n",
    "\n",
    "优衣库(Uniqlo) 的内在涵义是指通过摒弃了不必要装潢装饰的仓储型店铺，采用超市型的自助购物方式，以合理可信的价格提供顾客希望的商品价廉物美的休闲装“UNIQLO”是Unique Clothing Warehouse的缩写，意为消费者提供“低价良品、品质保证”的经营理念，在日本经济低迷时期取得了惊人的业绩。\n",
    "\n",
    "根据提供的数据，利用Python进行可视化，并回答如下问题："
   ]
  },
  {
   "cell_type": "markdown",
   "metadata": {},
   "source": [
    "\n",
    "-     整体销售情况随着时间的变化是怎样的？\n",
    "-    不同产品的销售情况是怎样的？顾客偏爱哪一种购买方式？\n",
    "- 销售额和产品成本之间的关系怎么样？\n"
   ]
  },
  {
   "cell_type": "markdown",
   "metadata": {},
   "source": [
    "# 项目代码"
   ]
  },
  {
   "cell_type": "code",
   "execution_count": 1,
   "metadata": {},
   "outputs": [],
   "source": [
    "import pandas as pd\n",
    "import numpy as np\n",
    "import matplotlib.pyplot as plt\n",
    "\n",
    "%matplotlib inline"
   ]
  },
  {
   "cell_type": "code",
   "execution_count": 2,
   "metadata": {},
   "outputs": [],
   "source": [
    "import seaborn as sns\n",
    "sns.set(style=\"whitegrid\")"
   ]
  },
  {
   "cell_type": "code",
   "execution_count": 3,
   "metadata": {},
   "outputs": [],
   "source": [
    "#windows\n",
    "plt.rcParams['font.sans-serif'] = ['simhei']"
   ]
  },
  {
   "cell_type": "code",
   "execution_count": null,
   "metadata": {},
   "outputs": [],
   "source": [
    "#os\n",
    "plt.rcParams['font.sans-serif'] = ['Arial Unicode MS']"
   ]
  },
  {
   "cell_type": "markdown",
   "metadata": {},
   "source": [
    "## 读取数据"
   ]
  },
  {
   "cell_type": "code",
   "execution_count": 5,
   "metadata": {},
   "outputs": [],
   "source": [
    "df_origin = pd.read_csv('./data/youyiku.csv')"
   ]
  },
  {
   "cell_type": "code",
   "execution_count": 6,
   "metadata": {},
   "outputs": [
    {
     "data": {
      "text/plain": [
       "(22293, 12)"
      ]
     },
     "execution_count": 6,
     "metadata": {},
     "output_type": "execute_result"
    }
   ],
   "source": [
    "df_origin.shape"
   ]
  },
  {
   "cell_type": "code",
   "execution_count": 7,
   "metadata": {},
   "outputs": [
    {
     "data": {
      "text/html": [
       "<div>\n",
       "<style scoped>\n",
       "    .dataframe tbody tr th:only-of-type {\n",
       "        vertical-align: middle;\n",
       "    }\n",
       "\n",
       "    .dataframe tbody tr th {\n",
       "        vertical-align: top;\n",
       "    }\n",
       "\n",
       "    .dataframe thead th {\n",
       "        text-align: right;\n",
       "    }\n",
       "</style>\n",
       "<table border=\"1\" class=\"dataframe\">\n",
       "  <thead>\n",
       "    <tr style=\"text-align: right;\">\n",
       "      <th></th>\n",
       "      <th>store_id</th>\n",
       "      <th>city</th>\n",
       "      <th>channel</th>\n",
       "      <th>gender_group</th>\n",
       "      <th>age_group</th>\n",
       "      <th>wkd_ind</th>\n",
       "      <th>product</th>\n",
       "      <th>customer</th>\n",
       "      <th>revenue</th>\n",
       "      <th>order</th>\n",
       "      <th>quant</th>\n",
       "      <th>unit_cost</th>\n",
       "    </tr>\n",
       "  </thead>\n",
       "  <tbody>\n",
       "    <tr>\n",
       "      <th>0</th>\n",
       "      <td>658</td>\n",
       "      <td>深圳</td>\n",
       "      <td>线下</td>\n",
       "      <td>Female</td>\n",
       "      <td>25-29</td>\n",
       "      <td>Weekday</td>\n",
       "      <td>当季新品</td>\n",
       "      <td>4</td>\n",
       "      <td>796.0</td>\n",
       "      <td>4</td>\n",
       "      <td>4</td>\n",
       "      <td>59</td>\n",
       "    </tr>\n",
       "    <tr>\n",
       "      <th>1</th>\n",
       "      <td>146</td>\n",
       "      <td>杭州</td>\n",
       "      <td>线下</td>\n",
       "      <td>Female</td>\n",
       "      <td>25-29</td>\n",
       "      <td>Weekday</td>\n",
       "      <td>运动</td>\n",
       "      <td>1</td>\n",
       "      <td>149.0</td>\n",
       "      <td>1</td>\n",
       "      <td>1</td>\n",
       "      <td>49</td>\n",
       "    </tr>\n",
       "    <tr>\n",
       "      <th>2</th>\n",
       "      <td>70</td>\n",
       "      <td>深圳</td>\n",
       "      <td>线下</td>\n",
       "      <td>Male</td>\n",
       "      <td>&gt;=60</td>\n",
       "      <td>Weekday</td>\n",
       "      <td>T恤</td>\n",
       "      <td>2</td>\n",
       "      <td>178.0</td>\n",
       "      <td>2</td>\n",
       "      <td>2</td>\n",
       "      <td>49</td>\n",
       "    </tr>\n",
       "    <tr>\n",
       "      <th>3</th>\n",
       "      <td>658</td>\n",
       "      <td>深圳</td>\n",
       "      <td>线下</td>\n",
       "      <td>Female</td>\n",
       "      <td>25-29</td>\n",
       "      <td>Weekday</td>\n",
       "      <td>T恤</td>\n",
       "      <td>1</td>\n",
       "      <td>59.0</td>\n",
       "      <td>1</td>\n",
       "      <td>1</td>\n",
       "      <td>49</td>\n",
       "    </tr>\n",
       "    <tr>\n",
       "      <th>4</th>\n",
       "      <td>229</td>\n",
       "      <td>深圳</td>\n",
       "      <td>线下</td>\n",
       "      <td>Male</td>\n",
       "      <td>20-24</td>\n",
       "      <td>Weekend</td>\n",
       "      <td>袜子</td>\n",
       "      <td>2</td>\n",
       "      <td>65.0</td>\n",
       "      <td>2</td>\n",
       "      <td>3</td>\n",
       "      <td>9</td>\n",
       "    </tr>\n",
       "  </tbody>\n",
       "</table>\n",
       "</div>"
      ],
      "text/plain": [
       "   store_id city channel gender_group age_group  wkd_ind product  customer  \\\n",
       "0       658   深圳      线下       Female     25-29  Weekday    当季新品         4   \n",
       "1       146   杭州      线下       Female     25-29  Weekday      运动         1   \n",
       "2        70   深圳      线下         Male      >=60  Weekday      T恤         2   \n",
       "3       658   深圳      线下       Female     25-29  Weekday      T恤         1   \n",
       "4       229   深圳      线下         Male     20-24  Weekend      袜子         2   \n",
       "\n",
       "   revenue  order  quant  unit_cost  \n",
       "0    796.0      4      4         59  \n",
       "1    149.0      1      1         49  \n",
       "2    178.0      2      2         49  \n",
       "3     59.0      1      1         49  \n",
       "4     65.0      2      3          9  "
      ]
     },
     "execution_count": 7,
     "metadata": {},
     "output_type": "execute_result"
    }
   ],
   "source": [
    "df_origin.head()"
   ]
  },
  {
   "cell_type": "markdown",
   "metadata": {},
   "source": [
    "## EDA"
   ]
  },
  {
   "cell_type": "code",
   "execution_count": 8,
   "metadata": {},
   "outputs": [
    {
     "name": "stdout",
     "output_type": "stream",
     "text": [
      "<class 'pandas.core.frame.DataFrame'>\n",
      "RangeIndex: 22293 entries, 0 to 22292\n",
      "Data columns (total 12 columns):\n",
      "store_id        22293 non-null int64\n",
      "city            22293 non-null object\n",
      "channel         22293 non-null object\n",
      "gender_group    22293 non-null object\n",
      "age_group       22293 non-null object\n",
      "wkd_ind         22293 non-null object\n",
      "product         22293 non-null object\n",
      "customer        22293 non-null int64\n",
      "revenue         22293 non-null float64\n",
      "order           22293 non-null int64\n",
      "quant           22293 non-null int64\n",
      "unit_cost       22293 non-null int64\n",
      "dtypes: float64(1), int64(5), object(6)\n",
      "memory usage: 2.0+ MB\n"
     ]
    }
   ],
   "source": [
    "df_origin.info()"
   ]
  },
  {
   "cell_type": "code",
   "execution_count": 9,
   "metadata": {},
   "outputs": [
    {
     "data": {
      "text/html": [
       "<div>\n",
       "<style scoped>\n",
       "    .dataframe tbody tr th:only-of-type {\n",
       "        vertical-align: middle;\n",
       "    }\n",
       "\n",
       "    .dataframe tbody tr th {\n",
       "        vertical-align: top;\n",
       "    }\n",
       "\n",
       "    .dataframe thead th {\n",
       "        text-align: right;\n",
       "    }\n",
       "</style>\n",
       "<table border=\"1\" class=\"dataframe\">\n",
       "  <thead>\n",
       "    <tr style=\"text-align: right;\">\n",
       "      <th></th>\n",
       "      <th>store_id</th>\n",
       "      <th>city</th>\n",
       "      <th>channel</th>\n",
       "      <th>gender_group</th>\n",
       "      <th>age_group</th>\n",
       "      <th>wkd_ind</th>\n",
       "      <th>product</th>\n",
       "      <th>customer</th>\n",
       "      <th>revenue</th>\n",
       "      <th>order</th>\n",
       "      <th>quant</th>\n",
       "      <th>unit_cost</th>\n",
       "    </tr>\n",
       "  </thead>\n",
       "  <tbody>\n",
       "    <tr>\n",
       "      <th>count</th>\n",
       "      <td>22293.000000</td>\n",
       "      <td>22293</td>\n",
       "      <td>22293</td>\n",
       "      <td>22293</td>\n",
       "      <td>22293</td>\n",
       "      <td>22293</td>\n",
       "      <td>22293</td>\n",
       "      <td>22293.000000</td>\n",
       "      <td>22293.000000</td>\n",
       "      <td>22293.000000</td>\n",
       "      <td>22293.000000</td>\n",
       "      <td>22293.000000</td>\n",
       "    </tr>\n",
       "    <tr>\n",
       "      <th>unique</th>\n",
       "      <td>NaN</td>\n",
       "      <td>10</td>\n",
       "      <td>2</td>\n",
       "      <td>3</td>\n",
       "      <td>11</td>\n",
       "      <td>2</td>\n",
       "      <td>9</td>\n",
       "      <td>NaN</td>\n",
       "      <td>NaN</td>\n",
       "      <td>NaN</td>\n",
       "      <td>NaN</td>\n",
       "      <td>NaN</td>\n",
       "    </tr>\n",
       "    <tr>\n",
       "      <th>top</th>\n",
       "      <td>NaN</td>\n",
       "      <td>深圳</td>\n",
       "      <td>线下</td>\n",
       "      <td>Female</td>\n",
       "      <td>30-34</td>\n",
       "      <td>Weekday</td>\n",
       "      <td>T恤</td>\n",
       "      <td>NaN</td>\n",
       "      <td>NaN</td>\n",
       "      <td>NaN</td>\n",
       "      <td>NaN</td>\n",
       "      <td>NaN</td>\n",
       "    </tr>\n",
       "    <tr>\n",
       "      <th>freq</th>\n",
       "      <td>NaN</td>\n",
       "      <td>4364</td>\n",
       "      <td>18403</td>\n",
       "      <td>14208</td>\n",
       "      <td>4426</td>\n",
       "      <td>12465</td>\n",
       "      <td>10610</td>\n",
       "      <td>NaN</td>\n",
       "      <td>NaN</td>\n",
       "      <td>NaN</td>\n",
       "      <td>NaN</td>\n",
       "      <td>NaN</td>\n",
       "    </tr>\n",
       "    <tr>\n",
       "      <th>mean</th>\n",
       "      <td>335.391558</td>\n",
       "      <td>NaN</td>\n",
       "      <td>NaN</td>\n",
       "      <td>NaN</td>\n",
       "      <td>NaN</td>\n",
       "      <td>NaN</td>\n",
       "      <td>NaN</td>\n",
       "      <td>1.629480</td>\n",
       "      <td>159.531371</td>\n",
       "      <td>1.651998</td>\n",
       "      <td>1.858072</td>\n",
       "      <td>46.124658</td>\n",
       "    </tr>\n",
       "    <tr>\n",
       "      <th>std</th>\n",
       "      <td>230.236167</td>\n",
       "      <td>NaN</td>\n",
       "      <td>NaN</td>\n",
       "      <td>NaN</td>\n",
       "      <td>NaN</td>\n",
       "      <td>NaN</td>\n",
       "      <td>NaN</td>\n",
       "      <td>1.785605</td>\n",
       "      <td>276.254066</td>\n",
       "      <td>1.861480</td>\n",
       "      <td>2.347301</td>\n",
       "      <td>19.124347</td>\n",
       "    </tr>\n",
       "    <tr>\n",
       "      <th>min</th>\n",
       "      <td>19.000000</td>\n",
       "      <td>NaN</td>\n",
       "      <td>NaN</td>\n",
       "      <td>NaN</td>\n",
       "      <td>NaN</td>\n",
       "      <td>NaN</td>\n",
       "      <td>NaN</td>\n",
       "      <td>1.000000</td>\n",
       "      <td>-0.660000</td>\n",
       "      <td>1.000000</td>\n",
       "      <td>1.000000</td>\n",
       "      <td>9.000000</td>\n",
       "    </tr>\n",
       "    <tr>\n",
       "      <th>25%</th>\n",
       "      <td>142.000000</td>\n",
       "      <td>NaN</td>\n",
       "      <td>NaN</td>\n",
       "      <td>NaN</td>\n",
       "      <td>NaN</td>\n",
       "      <td>NaN</td>\n",
       "      <td>NaN</td>\n",
       "      <td>1.000000</td>\n",
       "      <td>64.000000</td>\n",
       "      <td>1.000000</td>\n",
       "      <td>1.000000</td>\n",
       "      <td>49.000000</td>\n",
       "    </tr>\n",
       "    <tr>\n",
       "      <th>50%</th>\n",
       "      <td>315.000000</td>\n",
       "      <td>NaN</td>\n",
       "      <td>NaN</td>\n",
       "      <td>NaN</td>\n",
       "      <td>NaN</td>\n",
       "      <td>NaN</td>\n",
       "      <td>NaN</td>\n",
       "      <td>1.000000</td>\n",
       "      <td>99.000000</td>\n",
       "      <td>1.000000</td>\n",
       "      <td>1.000000</td>\n",
       "      <td>49.000000</td>\n",
       "    </tr>\n",
       "    <tr>\n",
       "      <th>75%</th>\n",
       "      <td>480.000000</td>\n",
       "      <td>NaN</td>\n",
       "      <td>NaN</td>\n",
       "      <td>NaN</td>\n",
       "      <td>NaN</td>\n",
       "      <td>NaN</td>\n",
       "      <td>NaN</td>\n",
       "      <td>2.000000</td>\n",
       "      <td>175.000000</td>\n",
       "      <td>2.000000</td>\n",
       "      <td>2.000000</td>\n",
       "      <td>49.000000</td>\n",
       "    </tr>\n",
       "    <tr>\n",
       "      <th>max</th>\n",
       "      <td>831.000000</td>\n",
       "      <td>NaN</td>\n",
       "      <td>NaN</td>\n",
       "      <td>NaN</td>\n",
       "      <td>NaN</td>\n",
       "      <td>NaN</td>\n",
       "      <td>NaN</td>\n",
       "      <td>58.000000</td>\n",
       "      <td>12538.000000</td>\n",
       "      <td>65.000000</td>\n",
       "      <td>84.000000</td>\n",
       "      <td>99.000000</td>\n",
       "    </tr>\n",
       "  </tbody>\n",
       "</table>\n",
       "</div>"
      ],
      "text/plain": [
       "            store_id   city channel gender_group age_group  wkd_ind product  \\\n",
       "count   22293.000000  22293   22293        22293     22293    22293   22293   \n",
       "unique           NaN     10       2            3        11        2       9   \n",
       "top              NaN     深圳      线下       Female     30-34  Weekday      T恤   \n",
       "freq             NaN   4364   18403        14208      4426    12465   10610   \n",
       "mean      335.391558    NaN     NaN          NaN       NaN      NaN     NaN   \n",
       "std       230.236167    NaN     NaN          NaN       NaN      NaN     NaN   \n",
       "min        19.000000    NaN     NaN          NaN       NaN      NaN     NaN   \n",
       "25%       142.000000    NaN     NaN          NaN       NaN      NaN     NaN   \n",
       "50%       315.000000    NaN     NaN          NaN       NaN      NaN     NaN   \n",
       "75%       480.000000    NaN     NaN          NaN       NaN      NaN     NaN   \n",
       "max       831.000000    NaN     NaN          NaN       NaN      NaN     NaN   \n",
       "\n",
       "            customer       revenue         order         quant     unit_cost  \n",
       "count   22293.000000  22293.000000  22293.000000  22293.000000  22293.000000  \n",
       "unique           NaN           NaN           NaN           NaN           NaN  \n",
       "top              NaN           NaN           NaN           NaN           NaN  \n",
       "freq             NaN           NaN           NaN           NaN           NaN  \n",
       "mean        1.629480    159.531371      1.651998      1.858072     46.124658  \n",
       "std         1.785605    276.254066      1.861480      2.347301     19.124347  \n",
       "min         1.000000     -0.660000      1.000000      1.000000      9.000000  \n",
       "25%         1.000000     64.000000      1.000000      1.000000     49.000000  \n",
       "50%         1.000000     99.000000      1.000000      1.000000     49.000000  \n",
       "75%         2.000000    175.000000      2.000000      2.000000     49.000000  \n",
       "max        58.000000  12538.000000     65.000000     84.000000     99.000000  "
      ]
     },
     "execution_count": 9,
     "metadata": {},
     "output_type": "execute_result"
    }
   ],
   "source": [
    "df_origin.describe(include='all')"
   ]
  },
  {
   "cell_type": "markdown",
   "metadata": {},
   "source": [
    "- 处理异常值"
   ]
  },
  {
   "cell_type": "markdown",
   "metadata": {},
   "source": [
    "营收存在异常值。"
   ]
  },
  {
   "cell_type": "code",
   "execution_count": 11,
   "metadata": {},
   "outputs": [
    {
     "data": {
      "image/png": "[encoded data removed]",
      "text/plain": [
       "<matplotlib.figure.Figure at 0xbfc73c8>"
      ]
     },
     "metadata": {},
     "output_type": "display_data"
    }
   ],
   "source": [
    "df_origin['revenue'].plot(kind='hist');"
   ]
  },
  {
   "cell_type": "code",
   "execution_count": 10,
   "metadata": {},
   "outputs": [
    {
     "data": {
      "image/png": "[encoded data removed]",
      "text/plain": [
       "<matplotlib.figure.Figure at 0xaef1d30>"
      ]
     },
     "metadata": {},
     "output_type": "display_data"
    }
   ],
   "source": [
    "df_origin['revenue'].plot(kind='hist',logx=True,bins=1000);"
   ]
  },
  {
   "cell_type": "code",
   "execution_count": 12,
   "metadata": {},
   "outputs": [
    {
     "data": {
      "text/html": [
       "<div>\n",
       "<style scoped>\n",
       "    .dataframe tbody tr th:only-of-type {\n",
       "        vertical-align: middle;\n",
       "    }\n",
       "\n",
       "    .dataframe tbody tr th {\n",
       "        vertical-align: top;\n",
       "    }\n",
       "\n",
       "    .dataframe thead th {\n",
       "        text-align: right;\n",
       "    }\n",
       "</style>\n",
       "<table border=\"1\" class=\"dataframe\">\n",
       "  <thead>\n",
       "    <tr style=\"text-align: right;\">\n",
       "      <th></th>\n",
       "      <th>store_id</th>\n",
       "      <th>city</th>\n",
       "      <th>channel</th>\n",
       "      <th>gender_group</th>\n",
       "      <th>age_group</th>\n",
       "      <th>wkd_ind</th>\n",
       "      <th>product</th>\n",
       "      <th>customer</th>\n",
       "      <th>revenue</th>\n",
       "      <th>order</th>\n",
       "      <th>quant</th>\n",
       "      <th>unit_cost</th>\n",
       "    </tr>\n",
       "  </thead>\n",
       "  <tbody>\n",
       "    <tr>\n",
       "      <th>20049</th>\n",
       "      <td>91</td>\n",
       "      <td>武汉</td>\n",
       "      <td>线上</td>\n",
       "      <td>Female</td>\n",
       "      <td>55-59</td>\n",
       "      <td>Weekday</td>\n",
       "      <td>运动</td>\n",
       "      <td>1</td>\n",
       "      <td>-0.66</td>\n",
       "      <td>1</td>\n",
       "      <td>2</td>\n",
       "      <td>49</td>\n",
       "    </tr>\n",
       "  </tbody>\n",
       "</table>\n",
       "</div>"
      ],
      "text/plain": [
       "       store_id city channel gender_group age_group  wkd_ind product  \\\n",
       "20049        91   武汉      线上       Female     55-59  Weekday      运动   \n",
       "\n",
       "       customer  revenue  order  quant  unit_cost  \n",
       "20049         1    -0.66      1      2         49  "
      ]
     },
     "execution_count": 12,
     "metadata": {},
     "output_type": "execute_result"
    }
   ],
   "source": [
    "df_origin[df_origin['revenue']<0]"
   ]
  },
  {
   "cell_type": "code",
   "execution_count": 13,
   "metadata": {},
   "outputs": [],
   "source": [
    "df_clean = df_origin.copy()"
   ]
  },
  {
   "cell_type": "code",
   "execution_count": 14,
   "metadata": {},
   "outputs": [],
   "source": [
    "#删除小于零的这条\n",
    "drop_idx = df_clean[df_clean['revenue']<0].index\n",
    "df_clean = df_clean.drop(drop_idx)"
   ]
  },
  {
   "cell_type": "markdown",
   "metadata": {},
   "source": [
    "- store_id应该是str类型"
   ]
  },
  {
   "cell_type": "code",
   "execution_count": 15,
   "metadata": {},
   "outputs": [],
   "source": [
    "df_clean['store_id'] = df_clean['store_id'].astype(str)"
   ]
  },
  {
   "cell_type": "markdown",
   "metadata": {},
   "source": [
    "- 增加计算字段\n",
    "    - 人均订单量`order/customer`\n",
    "    - 人均购买商品量`quant/customer`\n",
    "    - 订单平均包含商品量`quant/order`\n",
    "    - 商品平均销售额`revenue/quant`\n",
    "    - 人均消费额`revenue/customer`\n",
    "    - 利润`商品平均销售额-unit_cost`"
   ]
  },
  {
   "cell_type": "code",
   "execution_count": 16,
   "metadata": {},
   "outputs": [],
   "source": [
    "df_clean['uni_order_num'] = df_clean['order']/df_clean['customer']\n",
    "df_clean['uni_quant_num'] = df_clean['quant']/df_clean['customer']\n",
    "df_clean['uni_quant_of_order'] = df_clean['quant']/df_clean['order']\n",
    "df_clean['uni_revenue_of_product'] = df_clean['revenue']/df_clean['quant']\n",
    "df_clean['uni_revenue_of_customer'] = df_clean['revenue']/df_clean['customer']\n",
    "df_clean['margin'] = df_clean['uni_revenue_of_product'] - df_clean['unit_cost']"
   ]
  },
  {
   "cell_type": "markdown",
   "metadata": {},
   "source": [
    "数据概况：\n",
    "- 数据包含7列分类变量和10列数值变量；\n",
    "- 各变量分布情况如下："
   ]
  },
  {
   "cell_type": "code",
   "execution_count": 17,
   "metadata": {},
   "outputs": [
    {
     "data": {
      "text/html": [
       "<div>\n",
       "<style scoped>\n",
       "    .dataframe tbody tr th:only-of-type {\n",
       "        vertical-align: middle;\n",
       "    }\n",
       "\n",
       "    .dataframe tbody tr th {\n",
       "        vertical-align: top;\n",
       "    }\n",
       "\n",
       "    .dataframe thead th {\n",
       "        text-align: right;\n",
       "    }\n",
       "</style>\n",
       "<table border=\"1\" class=\"dataframe\">\n",
       "  <thead>\n",
       "    <tr style=\"text-align: right;\">\n",
       "      <th></th>\n",
       "      <th>store_id</th>\n",
       "      <th>city</th>\n",
       "      <th>channel</th>\n",
       "      <th>gender_group</th>\n",
       "      <th>age_group</th>\n",
       "      <th>wkd_ind</th>\n",
       "      <th>product</th>\n",
       "      <th>customer</th>\n",
       "      <th>revenue</th>\n",
       "      <th>order</th>\n",
       "      <th>quant</th>\n",
       "      <th>unit_cost</th>\n",
       "      <th>uni_order_num</th>\n",
       "      <th>uni_quant_num</th>\n",
       "      <th>uni_quant_of_order</th>\n",
       "      <th>uni_revenue_of_product</th>\n",
       "      <th>uni_revenue_of_customer</th>\n",
       "      <th>margin</th>\n",
       "    </tr>\n",
       "  </thead>\n",
       "  <tbody>\n",
       "    <tr>\n",
       "      <th>0</th>\n",
       "      <td>658</td>\n",
       "      <td>深圳</td>\n",
       "      <td>线下</td>\n",
       "      <td>Female</td>\n",
       "      <td>25-29</td>\n",
       "      <td>Weekday</td>\n",
       "      <td>当季新品</td>\n",
       "      <td>4</td>\n",
       "      <td>796.0</td>\n",
       "      <td>4</td>\n",
       "      <td>4</td>\n",
       "      <td>59</td>\n",
       "      <td>1.0</td>\n",
       "      <td>1.0</td>\n",
       "      <td>1.0</td>\n",
       "      <td>199.000000</td>\n",
       "      <td>199.0</td>\n",
       "      <td>140.000000</td>\n",
       "    </tr>\n",
       "    <tr>\n",
       "      <th>1</th>\n",
       "      <td>146</td>\n",
       "      <td>杭州</td>\n",
       "      <td>线下</td>\n",
       "      <td>Female</td>\n",
       "      <td>25-29</td>\n",
       "      <td>Weekday</td>\n",
       "      <td>运动</td>\n",
       "      <td>1</td>\n",
       "      <td>149.0</td>\n",
       "      <td>1</td>\n",
       "      <td>1</td>\n",
       "      <td>49</td>\n",
       "      <td>1.0</td>\n",
       "      <td>1.0</td>\n",
       "      <td>1.0</td>\n",
       "      <td>149.000000</td>\n",
       "      <td>149.0</td>\n",
       "      <td>100.000000</td>\n",
       "    </tr>\n",
       "    <tr>\n",
       "      <th>2</th>\n",
       "      <td>70</td>\n",
       "      <td>深圳</td>\n",
       "      <td>线下</td>\n",
       "      <td>Male</td>\n",
       "      <td>&gt;=60</td>\n",
       "      <td>Weekday</td>\n",
       "      <td>T恤</td>\n",
       "      <td>2</td>\n",
       "      <td>178.0</td>\n",
       "      <td>2</td>\n",
       "      <td>2</td>\n",
       "      <td>49</td>\n",
       "      <td>1.0</td>\n",
       "      <td>1.0</td>\n",
       "      <td>1.0</td>\n",
       "      <td>89.000000</td>\n",
       "      <td>89.0</td>\n",
       "      <td>40.000000</td>\n",
       "    </tr>\n",
       "    <tr>\n",
       "      <th>3</th>\n",
       "      <td>658</td>\n",
       "      <td>深圳</td>\n",
       "      <td>线下</td>\n",
       "      <td>Female</td>\n",
       "      <td>25-29</td>\n",
       "      <td>Weekday</td>\n",
       "      <td>T恤</td>\n",
       "      <td>1</td>\n",
       "      <td>59.0</td>\n",
       "      <td>1</td>\n",
       "      <td>1</td>\n",
       "      <td>49</td>\n",
       "      <td>1.0</td>\n",
       "      <td>1.0</td>\n",
       "      <td>1.0</td>\n",
       "      <td>59.000000</td>\n",
       "      <td>59.0</td>\n",
       "      <td>10.000000</td>\n",
       "    </tr>\n",
       "    <tr>\n",
       "      <th>4</th>\n",
       "      <td>229</td>\n",
       "      <td>深圳</td>\n",
       "      <td>线下</td>\n",
       "      <td>Male</td>\n",
       "      <td>20-24</td>\n",
       "      <td>Weekend</td>\n",
       "      <td>袜子</td>\n",
       "      <td>2</td>\n",
       "      <td>65.0</td>\n",
       "      <td>2</td>\n",
       "      <td>3</td>\n",
       "      <td>9</td>\n",
       "      <td>1.0</td>\n",
       "      <td>1.5</td>\n",
       "      <td>1.5</td>\n",
       "      <td>21.666667</td>\n",
       "      <td>32.5</td>\n",
       "      <td>12.666667</td>\n",
       "    </tr>\n",
       "  </tbody>\n",
       "</table>\n",
       "</div>"
      ],
      "text/plain": [
       "  store_id city channel gender_group age_group  wkd_ind product  customer  \\\n",
       "0      658   深圳      线下       Female     25-29  Weekday    当季新品         4   \n",
       "1      146   杭州      线下       Female     25-29  Weekday      运动         1   \n",
       "2       70   深圳      线下         Male      >=60  Weekday      T恤         2   \n",
       "3      658   深圳      线下       Female     25-29  Weekday      T恤         1   \n",
       "4      229   深圳      线下         Male     20-24  Weekend      袜子         2   \n",
       "\n",
       "   revenue  order  quant  unit_cost  uni_order_num  uni_quant_num  \\\n",
       "0    796.0      4      4         59            1.0            1.0   \n",
       "1    149.0      1      1         49            1.0            1.0   \n",
       "2    178.0      2      2         49            1.0            1.0   \n",
       "3     59.0      1      1         49            1.0            1.0   \n",
       "4     65.0      2      3          9            1.0            1.5   \n",
       "\n",
       "   uni_quant_of_order  uni_revenue_of_product  uni_revenue_of_customer  \\\n",
       "0                 1.0              199.000000                    199.0   \n",
       "1                 1.0              149.000000                    149.0   \n",
       "2                 1.0               89.000000                     89.0   \n",
       "3                 1.0               59.000000                     59.0   \n",
       "4                 1.5               21.666667                     32.5   \n",
       "\n",
       "       margin  \n",
       "0  140.000000  \n",
       "1  100.000000  \n",
       "2   40.000000  \n",
       "3   10.000000  \n",
       "4   12.666667  "
      ]
     },
     "execution_count": 17,
     "metadata": {},
     "output_type": "execute_result"
    }
   ],
   "source": [
    "df_clean.head()"
   ]
  },
  {
   "cell_type": "markdown",
   "metadata": {},
   "source": [
    "### 分类变量"
   ]
  },
  {
   "cell_type": "code",
   "execution_count": 23,
   "metadata": {},
   "outputs": [],
   "source": [
    "#对city进行分类统计\n",
    "value_count_df = pd.DataFrame(df_clean['city'].value_counts()).reset_index()"
   ]
  },
  {
   "cell_type": "code",
   "execution_count": 24,
   "metadata": {},
   "outputs": [],
   "source": [
    "#更改列名\n",
    "value_count_df = value_count_df.rename(columns={'index':'city','city':'count'})"
   ]
  },
  {
   "cell_type": "code",
   "execution_count": 25,
   "metadata": {
    "collapsed": true
   },
   "outputs": [
    {
     "data": {
      "text/html": [
       "<div>\n",
       "<style scoped>\n",
       "    .dataframe tbody tr th:only-of-type {\n",
       "        vertical-align: middle;\n",
       "    }\n",
       "\n",
       "    .dataframe tbody tr th {\n",
       "        vertical-align: top;\n",
       "    }\n",
       "\n",
       "    .dataframe thead th {\n",
       "        text-align: right;\n",
       "    }\n",
       "</style>\n",
       "<table border=\"1\" class=\"dataframe\">\n",
       "  <thead>\n",
       "    <tr style=\"text-align: right;\">\n",
       "      <th></th>\n",
       "      <th>city</th>\n",
       "      <th>count</th>\n",
       "    </tr>\n",
       "  </thead>\n",
       "  <tbody>\n",
       "    <tr>\n",
       "      <th>0</th>\n",
       "      <td>深圳</td>\n",
       "      <td>4364</td>\n",
       "    </tr>\n",
       "    <tr>\n",
       "      <th>1</th>\n",
       "      <td>杭州</td>\n",
       "      <td>3785</td>\n",
       "    </tr>\n",
       "    <tr>\n",
       "      <th>2</th>\n",
       "      <td>武汉</td>\n",
       "      <td>3566</td>\n",
       "    </tr>\n",
       "    <tr>\n",
       "      <th>3</th>\n",
       "      <td>上海</td>\n",
       "      <td>2391</td>\n",
       "    </tr>\n",
       "    <tr>\n",
       "      <th>4</th>\n",
       "      <td>广州</td>\n",
       "      <td>2188</td>\n",
       "    </tr>\n",
       "    <tr>\n",
       "      <th>5</th>\n",
       "      <td>重庆</td>\n",
       "      <td>1787</td>\n",
       "    </tr>\n",
       "    <tr>\n",
       "      <th>6</th>\n",
       "      <td>西安</td>\n",
       "      <td>1605</td>\n",
       "    </tr>\n",
       "    <tr>\n",
       "      <th>7</th>\n",
       "      <td>成都</td>\n",
       "      <td>1529</td>\n",
       "    </tr>\n",
       "    <tr>\n",
       "      <th>8</th>\n",
       "      <td>北京</td>\n",
       "      <td>577</td>\n",
       "    </tr>\n",
       "    <tr>\n",
       "      <th>9</th>\n",
       "      <td>南京</td>\n",
       "      <td>500</td>\n",
       "    </tr>\n",
       "  </tbody>\n",
       "</table>\n",
       "</div>"
      ],
      "text/plain": [
       "  city  count\n",
       "0   深圳   4364\n",
       "1   杭州   3785\n",
       "2   武汉   3566\n",
       "3   上海   2391\n",
       "4   广州   2188\n",
       "5   重庆   1787\n",
       "6   西安   1605\n",
       "7   成都   1529\n",
       "8   北京    577\n",
       "9   南京    500"
      ]
     },
     "execution_count": 25,
     "metadata": {},
     "output_type": "execute_result"
    }
   ],
   "source": [
    "value_count_df"
   ]
  },
  {
   "cell_type": "code",
   "execution_count": 26,
   "metadata": {},
   "outputs": [
    {
     "data": {
      "image/png": "[encoded data removed]",
      "text/plain": [
       "<matplotlib.figure.Figure at 0xc342278>"
      ]
     },
     "metadata": {},
     "output_type": "display_data"
    }
   ],
   "source": [
    "#绘图\n",
    "sns.catplot(x='city', y=\"count\",data=value_count_df,height=6, kind=\"bar\");"
   ]
  },
  {
   "cell_type": "code",
   "execution_count": 27,
   "metadata": {},
   "outputs": [
    {
     "data": {
      "image/png": "[encoded data removed]",
      "text/plain": [
       "<matplotlib.figure.Figure at 0xc2d1cc0>"
      ]
     },
     "metadata": {},
     "output_type": "display_data"
    }
   ],
   "source": [
    "#对city进行分类统计\n",
    "value_count_df = pd.DataFrame(df_clean['channel'].value_counts()).reset_index()\n",
    "#更改列名\n",
    "value_count_df = value_count_df.rename(columns={'index':'channel','channel':'count'})\n",
    "#绘图\n",
    "sns.catplot(x='channel', y=\"count\",data=value_count_df,height=6, kind=\"bar\");"
   ]
  },
  {
   "cell_type": "markdown",
   "metadata": {},
   "source": [
    "！注意"
   ]
  },
  {
   "cell_type": "code",
   "execution_count": 28,
   "metadata": {},
   "outputs": [
    {
     "data": {
      "image/png": "[encoded data removed]",
      "text/plain": [
       "<matplotlib.figure.Figure at 0xc3e4828>"
      ]
     },
     "metadata": {},
     "output_type": "display_data"
    }
   ],
   "source": [
    "#对city进行分类统计\n",
    "value_count_df = pd.DataFrame(df_clean['age_group'].value_counts()).reset_index()\n",
    "#更改列名\n",
    "value_count_df = value_count_df.rename(columns={'index':'age_group','age_group':'count'})\n",
    "#绘图\n",
    "sns.catplot(x='age_group', y=\"count\",data=value_count_df,height=6, kind=\"bar\");"
   ]
  },
  {
   "cell_type": "markdown",
   "metadata": {},
   "source": [
    "搜索： seaborn catplot x label orders"
   ]
  },
  {
   "cell_type": "code",
   "execution_count": 29,
   "metadata": {
    "scrolled": true
   },
   "outputs": [],
   "source": [
    "age_orders = ['<20','20-24','25-29',  '30-34','35-39',  '40-44','45-49', '50-54','55-59','>=60', 'Unkown']"
   ]
  },
  {
   "cell_type": "code",
   "execution_count": 30,
   "metadata": {},
   "outputs": [
    {
     "data": {
      "image/png": "[encoded data removed]",
      "text/plain": [
       "<matplotlib.figure.Figure at 0xc49b400>"
      ]
     },
     "metadata": {},
     "output_type": "display_data"
    }
   ],
   "source": [
    "#对city进行分类统计\n",
    "value_count_df = pd.DataFrame(df_clean['age_group'].value_counts()).reset_index()\n",
    "#更改列名\n",
    "value_count_df = value_count_df.rename(columns={'index':'age_group','age_group':'count'})\n",
    "#绘图\n",
    "sns.catplot(x='age_group', y=\"count\",data=value_count_df,height=6, kind=\"bar\",order=age_orders);"
   ]
  },
  {
   "cell_type": "markdown",
   "metadata": {},
   "source": [
    "结论：\n",
    "- 数据主要集中在深圳、杭州、武汉三所城市\n",
    "- 选择线下购买的客户远大于线上购买\n",
    "\n",
    "- 客户的年龄段主要集中在20-40岁之间，此外，还有一些用户（60岁以上）可疑填写不实信息\n"
   ]
  },
  {
   "cell_type": "markdown",
   "metadata": {},
   "source": [
    "### 数值变量"
   ]
  },
  {
   "cell_type": "code",
   "execution_count": 31,
   "metadata": {},
   "outputs": [
    {
     "data": {
      "image/png": "[encoded data removed]",
      "text/plain": [
       "<matplotlib.figure.Figure at 0xc342eb8>"
      ]
     },
     "metadata": {},
     "output_type": "display_data"
    }
   ],
   "source": [
    "df_clean['revenue'].plot(kind='hist',title='Distribution of revenue');"
   ]
  },
  {
   "cell_type": "code",
   "execution_count": 32,
   "metadata": {},
   "outputs": [
    {
     "data": {
      "text/plain": [
       "count    22292.000000\n",
       "mean       159.538557\n",
       "std        276.258179\n",
       "min          0.000000\n",
       "25%         64.000000\n",
       "50%         99.000000\n",
       "75%        175.000000\n",
       "max      12538.000000\n",
       "Name: revenue, dtype: float64"
      ]
     },
     "execution_count": 32,
     "metadata": {},
     "output_type": "execute_result"
    }
   ],
   "source": [
    "df_clean['revenue'].describe()"
   ]
  },
  {
   "cell_type": "code",
   "execution_count": 33,
   "metadata": {},
   "outputs": [
    {
     "data": {
      "image/png": "[encoded data removed]",
      "text/plain": [
       "<matplotlib.figure.Figure at 0xbda3668>"
      ]
     },
     "metadata": {},
     "output_type": "display_data"
    }
   ],
   "source": [
    "df_clean[df_clean['revenue']< 2000]['revenue'].plot(kind='hist',title='Distribution of revenue');"
   ]
  },
  {
   "cell_type": "markdown",
   "metadata": {},
   "source": [
    "## 项目问题"
   ]
  },
  {
   "cell_type": "markdown",
   "metadata": {},
   "source": [
    "### 问题一：整体销售情况随着时间的变化是怎样的？"
   ]
  },
  {
   "cell_type": "markdown",
   "metadata": {},
   "source": [
    "数据中涉及到时间的只有变量`wkd_ind`，该变量中只包含了`weekday`和`weekend`两类变量，所以我们可以从渠道、性别、顾客数量、销售额、销售产品数量及利润等维度对其进行对比分析及可视化。"
   ]
  },
  {
   "cell_type": "markdown",
   "metadata": {},
   "source": [
    "#### 类别变量"
   ]
  },
  {
   "cell_type": "code",
   "execution_count": 34,
   "metadata": {},
   "outputs": [],
   "source": [
    "df_clean['count'] = 1"
   ]
  },
  {
   "cell_type": "code",
   "execution_count": 35,
   "metadata": {},
   "outputs": [
    {
     "data": {
      "text/plain": [
       "channel  wkd_ind\n",
       "线上       Weekday     2216\n",
       "         Weekend     1673\n",
       "线下       Weekday    10248\n",
       "         Weekend     8155\n",
       "Name: count, dtype: int64"
      ]
     },
     "execution_count": 35,
     "metadata": {},
     "output_type": "execute_result"
    }
   ],
   "source": [
    "df_clean.groupby(['channel','wkd_ind'])['count'].count()"
   ]
  },
  {
   "cell_type": "code",
   "execution_count": 36,
   "metadata": {},
   "outputs": [],
   "source": [
    "tmp = df_clean.groupby(['channel','wkd_ind'])['count'].count()"
   ]
  },
  {
   "cell_type": "code",
   "execution_count": 37,
   "metadata": {},
   "outputs": [],
   "source": [
    "tmp = tmp.reset_index()"
   ]
  },
  {
   "cell_type": "code",
   "execution_count": 38,
   "metadata": {},
   "outputs": [
    {
     "data": {
      "text/html": [
       "<div>\n",
       "<style scoped>\n",
       "    .dataframe tbody tr th:only-of-type {\n",
       "        vertical-align: middle;\n",
       "    }\n",
       "\n",
       "    .dataframe tbody tr th {\n",
       "        vertical-align: top;\n",
       "    }\n",
       "\n",
       "    .dataframe thead th {\n",
       "        text-align: right;\n",
       "    }\n",
       "</style>\n",
       "<table border=\"1\" class=\"dataframe\">\n",
       "  <thead>\n",
       "    <tr style=\"text-align: right;\">\n",
       "      <th></th>\n",
       "      <th>channel</th>\n",
       "      <th>wkd_ind</th>\n",
       "      <th>count</th>\n",
       "    </tr>\n",
       "  </thead>\n",
       "  <tbody>\n",
       "    <tr>\n",
       "      <th>0</th>\n",
       "      <td>线上</td>\n",
       "      <td>Weekday</td>\n",
       "      <td>2216</td>\n",
       "    </tr>\n",
       "    <tr>\n",
       "      <th>1</th>\n",
       "      <td>线上</td>\n",
       "      <td>Weekend</td>\n",
       "      <td>1673</td>\n",
       "    </tr>\n",
       "    <tr>\n",
       "      <th>2</th>\n",
       "      <td>线下</td>\n",
       "      <td>Weekday</td>\n",
       "      <td>10248</td>\n",
       "    </tr>\n",
       "    <tr>\n",
       "      <th>3</th>\n",
       "      <td>线下</td>\n",
       "      <td>Weekend</td>\n",
       "      <td>8155</td>\n",
       "    </tr>\n",
       "  </tbody>\n",
       "</table>\n",
       "</div>"
      ],
      "text/plain": [
       "  channel  wkd_ind  count\n",
       "0      线上  Weekday   2216\n",
       "1      线上  Weekend   1673\n",
       "2      线下  Weekday  10248\n",
       "3      线下  Weekend   8155"
      ]
     },
     "execution_count": 38,
     "metadata": {},
     "output_type": "execute_result"
    }
   ],
   "source": [
    "tmp"
   ]
  },
  {
   "cell_type": "code",
   "execution_count": 39,
   "metadata": {},
   "outputs": [
    {
     "data": {
      "image/png": "[encoded data removed]",
      "text/plain": [
       "<matplotlib.figure.Figure at 0xbd5feb8>"
      ]
     },
     "metadata": {},
     "output_type": "display_data"
    }
   ],
   "source": [
    "sns.catplot(x='channel',y='count',hue='wkd_ind',kind='bar',data=tmp);"
   ]
  },
  {
   "cell_type": "markdown",
   "metadata": {},
   "source": [
    "不管是周内还是周末，选择线上和线下的客户比例相当。"
   ]
  },
  {
   "cell_type": "markdown",
   "metadata": {},
   "source": [
    "- 男女是否有区别"
   ]
  },
  {
   "cell_type": "code",
   "execution_count": 40,
   "metadata": {},
   "outputs": [
    {
     "data": {
      "image/png": "[encoded data removed]",
      "text/plain": [
       "<matplotlib.figure.Figure at 0xb462710>"
      ]
     },
     "metadata": {},
     "output_type": "display_data"
    }
   ],
   "source": [
    "tmp = df_clean.groupby(['gender_group','wkd_ind'])['count'].count()\n",
    "tmp = tmp.reset_index()\n",
    "sns.catplot(x='gender_group',y='count',hue='wkd_ind',kind='bar',data=tmp);"
   ]
  },
  {
   "cell_type": "markdown",
   "metadata": {},
   "source": [
    "相比于女生，男生有稍高的比例选择在周末购买。"
   ]
  },
  {
   "cell_type": "markdown",
   "metadata": {},
   "source": [
    "除此之外，还可以探索：\n",
    "- 不同年龄段的影响\n",
    "- 产品等"
   ]
  },
  {
   "cell_type": "markdown",
   "metadata": {},
   "source": [
    "#### 数值变量"
   ]
  },
  {
   "cell_type": "code",
   "execution_count": 41,
   "metadata": {},
   "outputs": [
    {
     "data": {
      "image/png": "[encoded data removed]",
      "text/plain": [
       "<matplotlib.figure.Figure at 0xb0a7b70>"
      ]
     },
     "metadata": {},
     "output_type": "display_data"
    }
   ],
   "source": [
    "df_clean.groupby('wkd_ind')['customer'].mean().plot(kind='bar');"
   ]
  },
  {
   "cell_type": "code",
   "execution_count": 42,
   "metadata": {},
   "outputs": [
    {
     "data": {
      "image/png": "[encoded data removed]",
      "text/plain": [
       "<matplotlib.figure.Figure at 0xc428278>"
      ]
     },
     "metadata": {},
     "output_type": "display_data"
    }
   ],
   "source": [
    "df_clean.groupby('wkd_ind')['customer'].sum().plot(kind='bar');"
   ]
  },
  {
   "cell_type": "code",
   "execution_count": 43,
   "metadata": {},
   "outputs": [
    {
     "data": {
      "image/png": "[encoded data removed]",
      "text/plain": [
       "<matplotlib.figure.Figure at 0xbd8e9e8>"
      ]
     },
     "metadata": {},
     "output_type": "display_data"
    }
   ],
   "source": [
    "df_clean.groupby('wkd_ind')['revenue'].sum().plot(kind='bar');"
   ]
  },
  {
   "cell_type": "markdown",
   "metadata": {},
   "source": [
    "描述：  \n",
    "- 就顾客数量来看，xxxxx\n",
    "- 就销售额来看，xxxxx\n"
   ]
  },
  {
   "cell_type": "markdown",
   "metadata": {},
   "source": [
    "除此之外，还可以探索：  \n",
    "'order', 'quant', 'unit_cost','uni_order_num', 'uni_quant_num', 'uni_quant_of_order','uni_revenue_of_product',   \n",
    "'uni_revenue_of_customer', 'margin'等数值型"
   ]
  },
  {
   "cell_type": "code",
   "execution_count": null,
   "metadata": {},
   "outputs": [],
   "source": []
  },
  {
   "cell_type": "markdown",
   "metadata": {},
   "source": [
    "### 问题二：不同产品的销售情况是怎样的？顾客偏爱哪一种购买方式？"
   ]
  },
  {
   "cell_type": "markdown",
   "metadata": {},
   "source": [
    "- 不同产品即指product字段中不同类别的产品，销售情况即为销售额revenue，可生成柱状图进行可视化\n",
    "- 购买方式只有channel是线上还是线下这一个指标，而顾客可以从不同性别gender_group、年龄段age_group、城市city三个维度进行分解，因此本问即为探究不同性别、年龄段和城市的顾客对线上、线下两种购买方式的偏好，可生成柱状图进行可视化的呈现"
   ]
  },
  {
   "cell_type": "code",
   "execution_count": 44,
   "metadata": {},
   "outputs": [
    {
     "data": {
      "image/png": "[encoded data removed]",
      "text/plain": [
       "<matplotlib.figure.Figure at 0xbd0c2b0>"
      ]
     },
     "metadata": {},
     "output_type": "display_data"
    }
   ],
   "source": [
    "df_clean.groupby('product')['revenue'].sum().plot(kind='bar');"
   ]
  },
  {
   "cell_type": "code",
   "execution_count": 48,
   "metadata": {},
   "outputs": [
    {
     "data": {
      "image/png": "[encoded data removed]",
      "text/plain": [
       "<matplotlib.figure.Figure at 0xb6744e0>"
      ]
     },
     "metadata": {},
     "output_type": "display_data"
    }
   ],
   "source": [
    "df_clean.groupby('product')['revenue'].sum().sort_values(ascending=False).plot(kind='bar');"
   ]
  },
  {
   "cell_type": "code",
   "execution_count": null,
   "metadata": {},
   "outputs": [],
   "source": [
    "#总销售额\n",
    "df_clean.groupby('product')['revenue'].sum().sort_values(ascending=False).plot(kind='bar');"
   ]
  },
  {
   "cell_type": "markdown",
   "metadata": {},
   "source": [
    "- 销售额等变量的对比"
   ]
  },
  {
   "cell_type": "code",
   "execution_count": null,
   "metadata": {},
   "outputs": [],
   "source": [
    "#总销售数量\n",
    "df_clean.groupby('product')['quant'].sum().sort_values(ascending=False).plot(kind='bar');"
   ]
  },
  {
   "cell_type": "code",
   "execution_count": null,
   "metadata": {},
   "outputs": [],
   "source": [
    "#利润\n",
    "df_clean.groupby('product')['margin'].sum().sort_values(ascending=False).plot(kind='bar');"
   ]
  },
  {
   "cell_type": "code",
   "execution_count": null,
   "metadata": {},
   "outputs": [],
   "source": [
    "#利润均值\n",
    "df_clean.groupby('product')['margin'].mean().sort_values(ascending=False).plot(kind='bar');"
   ]
  },
  {
   "cell_type": "markdown",
   "metadata": {},
   "source": [
    "- T恤占绝对领先地位，在销售额、销售数量和利润上都遥遥领先；当季新品和配件占据第二、三名，其中当季新品的销售额和数量较配件高，但利润较配件低；\n",
    "- 毛衣、裙子和配件的平均利润最高，都在80元左右。"
   ]
  },
  {
   "cell_type": "code",
   "execution_count": 49,
   "metadata": {},
   "outputs": [
    {
     "data": {
      "image/png": "[encoded data removed]",
      "text/plain": [
       "<matplotlib.figure.Figure at 0xb68f7f0>"
      ]
     },
     "metadata": {},
     "output_type": "display_data"
    }
   ],
   "source": [
    "tmp = df_clean.groupby(['channel','city'])['count'].count()\n",
    "tmp = tmp.reset_index()\n",
    "sns.catplot(x='city',y='count',hue='channel',kind='bar',data=tmp);"
   ]
  },
  {
   "cell_type": "markdown",
   "metadata": {},
   "source": [
    "同样，可以探索：\n",
    "- 性别\n",
    "- 年龄"
   ]
  },
  {
   "cell_type": "markdown",
   "metadata": {},
   "source": [
    "- 广州的顾客更偏爱在线上购买，上海、西安和重庆也有一定的线上购买比例，其余城市均为在线下购买；\n",
    "- 不同性别在选择购买渠道时xxxx；\n",
    "- 就年龄段来看，xxxx"
   ]
  },
  {
   "cell_type": "markdown",
   "metadata": {},
   "source": [
    "### 问题三：销售额和产品成本之间的关系怎么样？"
   ]
  },
  {
   "cell_type": "markdown",
   "metadata": {},
   "source": [
    "-   思路一：单件产品销售额-成本为利润margin，margin是如何分布的？是否存在亏本销售的产品？\n",
    "-    思路二：探究实际销售额和产品成本之间的关系，即为求它们之间的相关，若成正相关，则产品成本越高，销售额越高，或许为高端商品；若成负相关，则成本越低，销售额越高，为薄利多销的模式。\n",
    "    - 还可以拆分得更细，探究不同城市和门店中成本和销售额的相关性。"
   ]
  },
  {
   "cell_type": "code",
   "execution_count": 50,
   "metadata": {},
   "outputs": [
    {
     "data": {
      "image/png": "[encoded data removed]",
      "text/plain": [
       "<matplotlib.figure.Figure at 0xbcb1b70>"
      ]
     },
     "metadata": {},
     "output_type": "display_data"
    }
   ],
   "source": [
    "df_clean['margin'].plot(kind='hist');"
   ]
  },
  {
   "cell_type": "code",
   "execution_count": 51,
   "metadata": {},
   "outputs": [],
   "source": [
    "plt.rcParams['axes.unicode_minus']=False"
   ]
  },
  {
   "cell_type": "code",
   "execution_count": 52,
   "metadata": {},
   "outputs": [
    {
     "data": {
      "image/png": "[encoded data removed]",
      "text/plain": [
       "<matplotlib.figure.Figure at 0xbfffeb8>"
      ]
     },
     "metadata": {},
     "output_type": "display_data"
    }
   ],
   "source": [
    "df_clean['margin'].plot(kind='hist');"
   ]
  },
  {
   "cell_type": "markdown",
   "metadata": {},
   "source": [
    "- 利润主要集中在0-75元之间；\n",
    "- 存在一定量的亏本（即利润小于0）的产品。"
   ]
  },
  {
   "cell_type": "code",
   "execution_count": 53,
   "metadata": {},
   "outputs": [],
   "source": [
    "#聚焦亏本产品\n",
    "df_loss = df_clean[df_clean['margin']<0]"
   ]
  },
  {
   "cell_type": "code",
   "execution_count": 54,
   "metadata": {},
   "outputs": [
    {
     "data": {
      "image/png": "[encoded data removed]",
      "text/plain": [
       "<matplotlib.figure.Figure at 0xbd8ecf8>"
      ]
     },
     "metadata": {},
     "output_type": "display_data"
    }
   ],
   "source": [
    "#城市\n",
    "df_loss['city'].value_counts().plot(kind='bar');"
   ]
  },
  {
   "cell_type": "code",
   "execution_count": 55,
   "metadata": {},
   "outputs": [
    {
     "data": {
      "image/png": "[encoded data removed]",
      "text/plain": [
       "<matplotlib.figure.Figure at 0xc07d080>"
      ]
     },
     "metadata": {},
     "output_type": "display_data"
    }
   ],
   "source": [
    "#渠道\n",
    "df_loss['product'].value_counts().plot(kind='bar');"
   ]
  },
  {
   "cell_type": "markdown",
   "metadata": {},
   "source": [
    "可以看出：\n",
    "- 成都、广州、重庆和西安都有14%左右的亏本商品\n",
    "- 线下销售xxx线上渠道\n",
    "- 周内销售xxx周末\n",
    "- 牛仔裤和运动类是亏损数量最多的商品"
   ]
  },
  {
   "cell_type": "code",
   "execution_count": 56,
   "metadata": {},
   "outputs": [
    {
     "data": {
      "text/html": [
       "<div>\n",
       "<style scoped>\n",
       "    .dataframe tbody tr th:only-of-type {\n",
       "        vertical-align: middle;\n",
       "    }\n",
       "\n",
       "    .dataframe tbody tr th {\n",
       "        vertical-align: top;\n",
       "    }\n",
       "\n",
       "    .dataframe thead th {\n",
       "        text-align: right;\n",
       "    }\n",
       "</style>\n",
       "<table border=\"1\" class=\"dataframe\">\n",
       "  <thead>\n",
       "    <tr style=\"text-align: right;\">\n",
       "      <th></th>\n",
       "      <th>uni_revenue_of_product</th>\n",
       "      <th>unit_cost</th>\n",
       "      <th>margin</th>\n",
       "    </tr>\n",
       "  </thead>\n",
       "  <tbody>\n",
       "    <tr>\n",
       "      <th>uni_revenue_of_product</th>\n",
       "      <td>1.000000</td>\n",
       "      <td>0.502248</td>\n",
       "      <td>0.911764</td>\n",
       "    </tr>\n",
       "    <tr>\n",
       "      <th>unit_cost</th>\n",
       "      <td>0.502248</td>\n",
       "      <td>1.000000</td>\n",
       "      <td>0.102776</td>\n",
       "    </tr>\n",
       "    <tr>\n",
       "      <th>margin</th>\n",
       "      <td>0.911764</td>\n",
       "      <td>0.102776</td>\n",
       "      <td>1.000000</td>\n",
       "    </tr>\n",
       "  </tbody>\n",
       "</table>\n",
       "</div>"
      ],
      "text/plain": [
       "                        uni_revenue_of_product  unit_cost    margin\n",
       "uni_revenue_of_product                1.000000   0.502248  0.911764\n",
       "unit_cost                             0.502248   1.000000  0.102776\n",
       "margin                                0.911764   0.102776  1.000000"
      ]
     },
     "execution_count": 56,
     "metadata": {},
     "output_type": "execute_result"
    }
   ],
   "source": [
    "df_clean[['uni_revenue_of_product','unit_cost','margin']].corr()"
   ]
  },
  {
   "cell_type": "markdown",
   "metadata": {},
   "source": [
    "整体来看，单位商品的销售额与成本之间是成正相关的，相关系数为0.5；单位商品的销售额与利润成强正相关，相关系数为0.91；但商品的成本与利润的相关性很低，仅为0.1."
   ]
  },
  {
   "cell_type": "markdown",
   "metadata": {},
   "source": [
    "# 总结"
   ]
  },
  {
   "cell_type": "markdown",
   "metadata": {},
   "source": [
    "通篇我们使用了10座城市，共计22292条数据进行分析，得出以下结论：\n",
    "\n",
    "- 数据主要集中在深圳、杭州、武汉三所城市\n",
    "- 选择线下购买的客户远大于线上购买\n",
    "- 性别xxxx\n",
    "- 客户的年龄段xxx\n",
    "- 客户选择周内购买xxxx周末购买总次数\n",
    "- xxx是最畅销的产品\n"
   ]
  },
  {
   "cell_type": "markdown",
   "metadata": {},
   "source": [
    "## 问题一：整体销售情况随着时间的变化是怎样的？\n",
    "\n",
    "- 不管是周内还是周末，xxxx\n",
    "- 相比于女生，男生有xxxx在周末购买\n",
    "- 年龄xxxx\n",
    "- 就总量来看xxx\n",
    "- 就均值来看xxxx\n",
    "\n",
    "\n",
    "销售建议：\n",
    "- xxxx"
   ]
  },
  {
   "cell_type": "markdown",
   "metadata": {},
   "source": [
    "## 问题二：不同产品的销售情况是怎样的？顾客偏爱哪一种购买方式？\n",
    "- xxxxx\n",
    "\n",
    "销售建议：\n",
    "- xxxx"
   ]
  },
  {
   "cell_type": "markdown",
   "metadata": {},
   "source": [
    "## 问题三：销售额和产品成本之间的关系怎么样？\n",
    "- xxxxx\n",
    "销售建议：\n",
    "- xxxx"
   ]
  }
 ],
 "metadata": {
  "kernelspec": {
   "display_name": "Python 3",
   "language": "python",
   "name": "python3"
  },
  "language_info": {
   "codemirror_mode": {
    "name": "ipython",
    "version": 3
   },
   "file_extension": ".py",
   "mimetype": "text/x-python",
   "name": "python",
   "nbconvert_exporter": "python",
   "pygments_lexer": "ipython3",
   "version": "3.7.4"
  },
  "notify_time": "5",
  "toc": {
   "base_numbering": 1,
   "nav_menu": {},
   "number_sections": true,
   "sideBar": true,
   "skip_h1_title": false,
   "title_cell": "Table of Contents",
   "title_sidebar": "Contents",
   "toc_cell": false,
   "toc_position": {
    "height": "calc(100% - 180px)",
    "left": "10px",
    "top": "150px",
    "width": "165px"
   },
   "toc_section_display": true,
   "toc_window_display": true
  }
 },
 "nbformat": 4,
 "nbformat_minor": 2
}
