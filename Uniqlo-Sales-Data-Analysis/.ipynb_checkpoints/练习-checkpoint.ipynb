{
 "cells": [
  {
   "cell_type": "code",
   "execution_count": 1,
   "metadata": {},
   "outputs": [],
   "source": [
    "import pandas as pd\n",
    "app = pd.read_csv('w1_applestore.csv')"
   ]
  },
  {
   "cell_type": "code",
   "execution_count": 2,
   "metadata": {},
   "outputs": [
    {
     "name": "stdout",
     "output_type": "stream",
     "text": [
      "<class 'pandas.core.frame.DataFrame'>\n",
      "RangeIndex: 7197 entries, 0 to 7196\n",
      "Data columns (total 11 columns):\n",
      "Unnamed: 0          7197 non-null int64\n",
      "id                  7197 non-null int64\n",
      "track_name          7197 non-null object\n",
      "size_bytes          7197 non-null int64\n",
      "price               7197 non-null float64\n",
      "rating_count_tot    7197 non-null int64\n",
      "user_rating         7197 non-null float64\n",
      "prime_genre         7197 non-null object\n",
      "sup_devices         7197 non-null int64\n",
      "ipadSc_urls         7197 non-null int64\n",
      "lang                7197 non-null int64\n",
      "dtypes: float64(2), int64(7), object(2)\n",
      "memory usage: 618.6+ KB\n"
     ]
    },
    {
     "data": {
      "text/plain": [
       "count    7197.000000\n",
       "mean        0.436432\n",
       "std         0.495977\n",
       "min         0.000000\n",
       "25%         0.000000\n",
       "50%         0.000000\n",
       "75%         1.000000\n",
       "max         1.000000\n",
       "Name: paid, dtype: float64"
      ]
     },
     "execution_count": 2,
     "metadata": {},
     "output_type": "execute_result"
    }
   ],
   "source": [
    "\n",
    "app.info()\n",
    "app.head()\n",
    "app.drop('Unnamed: 0',axis=1,inplace=True)\n",
    "app.describe()\n",
    "app['size_mb']=app['size_bytes']/(1024*1024)\n",
    "app.size_mb.describe()\n",
    "app['paid']=app['price'].apply(lambda x: 1 if x > 0 else 0)\n",
    "app.paid.describe()"
   ]
  },
  {
   "cell_type": "code",
   "execution_count": 3,
   "metadata": {},
   "outputs": [
    {
     "data": {
      "text/plain": [
       "0.00      4056\n",
       "0.99       728\n",
       "2.99       683\n",
       "1.99       621\n",
       "4.99       394\n",
       "3.99       277\n",
       "6.99       166\n",
       "9.99        81\n",
       "5.99        52\n",
       "7.99        33\n",
       "14.99       21\n",
       "19.99       13\n",
       "8.99         9\n",
       "24.99        8\n",
       "13.99        6\n",
       "11.99        6\n",
       "29.99        6\n",
       "12.99        5\n",
       "15.99        4\n",
       "59.99        3\n",
       "17.99        3\n",
       "22.99        2\n",
       "23.99        2\n",
       "20.99        2\n",
       "27.99        2\n",
       "16.99        2\n",
       "49.99        2\n",
       "39.99        2\n",
       "74.99        1\n",
       "18.99        1\n",
       "34.99        1\n",
       "99.99        1\n",
       "299.99       1\n",
       "47.99        1\n",
       "21.99        1\n",
       "249.99       1\n",
       "Name: price, dtype: int64"
      ]
     },
     "execution_count": 3,
     "metadata": {},
     "output_type": "execute_result"
    }
   ],
   "source": [
    "app['price'].value_counts()"
   ]
  },
  {
   "cell_type": "code",
   "execution_count": 4,
   "metadata": {},
   "outputs": [],
   "source": [
    "app = app[app['price']<=49.99]"
   ]
  },
  {
   "cell_type": "code",
   "execution_count": 5,
   "metadata": {},
   "outputs": [
    {
     "data": {
      "text/plain": [
       "0.00     4056\n",
       "0.99      728\n",
       "2.99      683\n",
       "1.99      621\n",
       "4.99      394\n",
       "3.99      277\n",
       "6.99      166\n",
       "9.99       81\n",
       "5.99       52\n",
       "7.99       33\n",
       "14.99      21\n",
       "19.99      13\n",
       "8.99        9\n",
       "24.99       8\n",
       "11.99       6\n",
       "29.99       6\n",
       "13.99       6\n",
       "12.99       5\n",
       "15.99       4\n",
       "17.99       3\n",
       "49.99       2\n",
       "16.99       2\n",
       "39.99       2\n",
       "27.99       2\n",
       "20.99       2\n",
       "23.99       2\n",
       "22.99       2\n",
       "47.99       1\n",
       "34.99       1\n",
       "21.99       1\n",
       "18.99       1\n",
       "Name: price, dtype: int64"
      ]
     },
     "execution_count": 5,
     "metadata": {},
     "output_type": "execute_result"
    }
   ],
   "source": [
    "app['price'].value_counts()"
   ]
  },
  {
   "cell_type": "code",
   "execution_count": 6,
   "metadata": {},
   "outputs": [
    {
     "data": {
      "text/plain": [
       "prime_genre  price\n",
       "Book         0.00      66\n",
       "             3.99      13\n",
       "             2.99       9\n",
       "             5.99       9\n",
       "             1.99       7\n",
       "             0.99       4\n",
       "             4.99       1\n",
       "             6.99       1\n",
       "             9.99       1\n",
       "             27.99      1\n",
       "Business     0.00      20\n",
       "             4.99      10\n",
       "             1.99       4\n",
       "             2.99       4\n",
       "             9.99       4\n",
       "             0.99       3\n",
       "             3.99       3\n",
       "             5.99       3\n",
       "             7.99       3\n",
       "             14.99      1\n",
       "             49.99      1\n",
       "Catalogs     0.00       9\n",
       "             7.99       1\n",
       "Education    2.99     149\n",
       "             0.00     132\n",
       "             3.99      43\n",
       "             1.99      37\n",
       "             4.99      34\n",
       "             0.99      27\n",
       "             9.99       6\n",
       "                     ... \n",
       "Sports       19.99      1\n",
       "Travel       0.00      56\n",
       "             0.99       8\n",
       "             4.99       5\n",
       "             3.99       4\n",
       "             1.99       2\n",
       "             2.99       2\n",
       "             6.99       2\n",
       "             7.99       1\n",
       "             9.99       1\n",
       "Utilities    0.00     109\n",
       "             1.99      54\n",
       "             0.99      35\n",
       "             2.99      16\n",
       "             4.99      13\n",
       "             3.99      11\n",
       "             9.99       3\n",
       "             5.99       2\n",
       "             6.99       1\n",
       "             8.99       1\n",
       "             12.99      1\n",
       "             13.99      1\n",
       "             24.99      1\n",
       "Weather      0.00      31\n",
       "             2.99      14\n",
       "             1.99      12\n",
       "             0.99       6\n",
       "             3.99       6\n",
       "             4.99       2\n",
       "             9.99       1\n",
       "Name: price, Length: 241, dtype: int64"
      ]
     },
     "execution_count": 6,
     "metadata": {},
     "output_type": "execute_result"
    }
   ],
   "source": [
    "app.groupby(['prime_genre'])['price'].value_counts()"
   ]
  },
  {
   "cell_type": "code",
   "execution_count": 9,
   "metadata": {},
   "outputs": [
    {
     "data": {
      "text/html": [
       "<div>\n",
       "<style scoped>\n",
       "    .dataframe tbody tr th:only-of-type {\n",
       "        vertical-align: middle;\n",
       "    }\n",
       "\n",
       "    .dataframe tbody tr th {\n",
       "        vertical-align: top;\n",
       "    }\n",
       "\n",
       "    .dataframe thead th {\n",
       "        text-align: right;\n",
       "    }\n",
       "</style>\n",
       "<table border=\"1\" class=\"dataframe\">\n",
       "  <thead>\n",
       "    <tr style=\"text-align: right;\">\n",
       "      <th></th>\n",
       "      <th>count</th>\n",
       "      <th>mean</th>\n",
       "      <th>std</th>\n",
       "      <th>min</th>\n",
       "      <th>25%</th>\n",
       "      <th>50%</th>\n",
       "      <th>75%</th>\n",
       "      <th>max</th>\n",
       "    </tr>\n",
       "    <tr>\n",
       "      <th>prime_genre</th>\n",
       "      <th></th>\n",
       "      <th></th>\n",
       "      <th></th>\n",
       "      <th></th>\n",
       "      <th></th>\n",
       "      <th></th>\n",
       "      <th></th>\n",
       "      <th></th>\n",
       "    </tr>\n",
       "  </thead>\n",
       "  <tbody>\n",
       "    <tr>\n",
       "      <th>Book</th>\n",
       "      <td>112.0</td>\n",
       "      <td>1.790536</td>\n",
       "      <td>3.342210</td>\n",
       "      <td>0.0</td>\n",
       "      <td>0.0</td>\n",
       "      <td>0.00</td>\n",
       "      <td>2.99</td>\n",
       "      <td>27.99</td>\n",
       "    </tr>\n",
       "    <tr>\n",
       "      <th>Business</th>\n",
       "      <td>56.0</td>\n",
       "      <td>4.136429</td>\n",
       "      <td>7.154403</td>\n",
       "      <td>0.0</td>\n",
       "      <td>0.0</td>\n",
       "      <td>2.99</td>\n",
       "      <td>4.99</td>\n",
       "      <td>49.99</td>\n",
       "    </tr>\n",
       "    <tr>\n",
       "      <th>Catalogs</th>\n",
       "      <td>10.0</td>\n",
       "      <td>0.799000</td>\n",
       "      <td>2.526660</td>\n",
       "      <td>0.0</td>\n",
       "      <td>0.0</td>\n",
       "      <td>0.00</td>\n",
       "      <td>0.00</td>\n",
       "      <td>7.99</td>\n",
       "    </tr>\n",
       "    <tr>\n",
       "      <th>Education</th>\n",
       "      <td>449.0</td>\n",
       "      <td>2.572004</td>\n",
       "      <td>2.669539</td>\n",
       "      <td>0.0</td>\n",
       "      <td>0.0</td>\n",
       "      <td>2.99</td>\n",
       "      <td>2.99</td>\n",
       "      <td>24.99</td>\n",
       "    </tr>\n",
       "    <tr>\n",
       "      <th>Entertainment</th>\n",
       "      <td>535.0</td>\n",
       "      <td>0.889701</td>\n",
       "      <td>1.454022</td>\n",
       "      <td>0.0</td>\n",
       "      <td>0.0</td>\n",
       "      <td>0.00</td>\n",
       "      <td>1.99</td>\n",
       "      <td>9.99</td>\n",
       "    </tr>\n",
       "    <tr>\n",
       "      <th>Finance</th>\n",
       "      <td>104.0</td>\n",
       "      <td>0.421154</td>\n",
       "      <td>1.108990</td>\n",
       "      <td>0.0</td>\n",
       "      <td>0.0</td>\n",
       "      <td>0.00</td>\n",
       "      <td>0.00</td>\n",
       "      <td>5.99</td>\n",
       "    </tr>\n",
       "    <tr>\n",
       "      <th>Food &amp; Drink</th>\n",
       "      <td>63.0</td>\n",
       "      <td>1.552381</td>\n",
       "      <td>3.972119</td>\n",
       "      <td>0.0</td>\n",
       "      <td>0.0</td>\n",
       "      <td>0.00</td>\n",
       "      <td>1.49</td>\n",
       "      <td>27.99</td>\n",
       "    </tr>\n",
       "    <tr>\n",
       "      <th>Games</th>\n",
       "      <td>3862.0</td>\n",
       "      <td>1.432923</td>\n",
       "      <td>2.486609</td>\n",
       "      <td>0.0</td>\n",
       "      <td>0.0</td>\n",
       "      <td>0.00</td>\n",
       "      <td>1.99</td>\n",
       "      <td>29.99</td>\n",
       "    </tr>\n",
       "    <tr>\n",
       "      <th>Health &amp; Fitness</th>\n",
       "      <td>180.0</td>\n",
       "      <td>1.916444</td>\n",
       "      <td>2.052378</td>\n",
       "      <td>0.0</td>\n",
       "      <td>0.0</td>\n",
       "      <td>1.99</td>\n",
       "      <td>2.99</td>\n",
       "      <td>9.99</td>\n",
       "    </tr>\n",
       "    <tr>\n",
       "      <th>Lifestyle</th>\n",
       "      <td>144.0</td>\n",
       "      <td>0.885417</td>\n",
       "      <td>1.478410</td>\n",
       "      <td>0.0</td>\n",
       "      <td>0.0</td>\n",
       "      <td>0.00</td>\n",
       "      <td>1.24</td>\n",
       "      <td>4.99</td>\n",
       "    </tr>\n",
       "    <tr>\n",
       "      <th>Medical</th>\n",
       "      <td>23.0</td>\n",
       "      <td>8.776087</td>\n",
       "      <td>10.788269</td>\n",
       "      <td>0.0</td>\n",
       "      <td>0.0</td>\n",
       "      <td>3.99</td>\n",
       "      <td>16.99</td>\n",
       "      <td>34.99</td>\n",
       "    </tr>\n",
       "    <tr>\n",
       "      <th>Music</th>\n",
       "      <td>138.0</td>\n",
       "      <td>4.835435</td>\n",
       "      <td>8.915667</td>\n",
       "      <td>0.0</td>\n",
       "      <td>0.0</td>\n",
       "      <td>0.99</td>\n",
       "      <td>4.99</td>\n",
       "      <td>49.99</td>\n",
       "    </tr>\n",
       "    <tr>\n",
       "      <th>Navigation</th>\n",
       "      <td>45.0</td>\n",
       "      <td>2.550000</td>\n",
       "      <td>4.487584</td>\n",
       "      <td>0.0</td>\n",
       "      <td>0.0</td>\n",
       "      <td>0.99</td>\n",
       "      <td>2.99</td>\n",
       "      <td>20.99</td>\n",
       "    </tr>\n",
       "    <tr>\n",
       "      <th>News</th>\n",
       "      <td>75.0</td>\n",
       "      <td>0.517733</td>\n",
       "      <td>1.127771</td>\n",
       "      <td>0.0</td>\n",
       "      <td>0.0</td>\n",
       "      <td>0.00</td>\n",
       "      <td>0.00</td>\n",
       "      <td>3.99</td>\n",
       "    </tr>\n",
       "    <tr>\n",
       "      <th>Photo &amp; Video</th>\n",
       "      <td>349.0</td>\n",
       "      <td>1.473295</td>\n",
       "      <td>2.280703</td>\n",
       "      <td>0.0</td>\n",
       "      <td>0.0</td>\n",
       "      <td>0.99</td>\n",
       "      <td>1.99</td>\n",
       "      <td>22.99</td>\n",
       "    </tr>\n",
       "    <tr>\n",
       "      <th>Productivity</th>\n",
       "      <td>177.0</td>\n",
       "      <td>3.790113</td>\n",
       "      <td>4.965777</td>\n",
       "      <td>0.0</td>\n",
       "      <td>0.0</td>\n",
       "      <td>1.99</td>\n",
       "      <td>4.99</td>\n",
       "      <td>29.99</td>\n",
       "    </tr>\n",
       "    <tr>\n",
       "      <th>Reference</th>\n",
       "      <td>64.0</td>\n",
       "      <td>4.836875</td>\n",
       "      <td>8.285100</td>\n",
       "      <td>0.0</td>\n",
       "      <td>0.0</td>\n",
       "      <td>1.99</td>\n",
       "      <td>4.99</td>\n",
       "      <td>47.99</td>\n",
       "    </tr>\n",
       "    <tr>\n",
       "      <th>Shopping</th>\n",
       "      <td>122.0</td>\n",
       "      <td>0.016311</td>\n",
       "      <td>0.180166</td>\n",
       "      <td>0.0</td>\n",
       "      <td>0.0</td>\n",
       "      <td>0.00</td>\n",
       "      <td>0.00</td>\n",
       "      <td>1.99</td>\n",
       "    </tr>\n",
       "    <tr>\n",
       "      <th>Social Networking</th>\n",
       "      <td>167.0</td>\n",
       "      <td>0.339880</td>\n",
       "      <td>1.142210</td>\n",
       "      <td>0.0</td>\n",
       "      <td>0.0</td>\n",
       "      <td>0.00</td>\n",
       "      <td>0.00</td>\n",
       "      <td>9.99</td>\n",
       "    </tr>\n",
       "    <tr>\n",
       "      <th>Sports</th>\n",
       "      <td>114.0</td>\n",
       "      <td>0.953070</td>\n",
       "      <td>2.419084</td>\n",
       "      <td>0.0</td>\n",
       "      <td>0.0</td>\n",
       "      <td>0.00</td>\n",
       "      <td>0.99</td>\n",
       "      <td>19.99</td>\n",
       "    </tr>\n",
       "    <tr>\n",
       "      <th>Travel</th>\n",
       "      <td>81.0</td>\n",
       "      <td>1.120370</td>\n",
       "      <td>2.183772</td>\n",
       "      <td>0.0</td>\n",
       "      <td>0.0</td>\n",
       "      <td>0.00</td>\n",
       "      <td>0.99</td>\n",
       "      <td>9.99</td>\n",
       "    </tr>\n",
       "    <tr>\n",
       "      <th>Utilities</th>\n",
       "      <td>248.0</td>\n",
       "      <td>1.647621</td>\n",
       "      <td>2.628541</td>\n",
       "      <td>0.0</td>\n",
       "      <td>0.0</td>\n",
       "      <td>0.99</td>\n",
       "      <td>1.99</td>\n",
       "      <td>24.99</td>\n",
       "    </tr>\n",
       "    <tr>\n",
       "      <th>Weather</th>\n",
       "      <td>72.0</td>\n",
       "      <td>1.605417</td>\n",
       "      <td>1.831316</td>\n",
       "      <td>0.0</td>\n",
       "      <td>0.0</td>\n",
       "      <td>0.99</td>\n",
       "      <td>2.99</td>\n",
       "      <td>9.99</td>\n",
       "    </tr>\n",
       "  </tbody>\n",
       "</table>\n",
       "</div>"
      ],
      "text/plain": [
       "                    count      mean        std  min  25%   50%    75%    max\n",
       "prime_genre                                                                 \n",
       "Book                112.0  1.790536   3.342210  0.0  0.0  0.00   2.99  27.99\n",
       "Business             56.0  4.136429   7.154403  0.0  0.0  2.99   4.99  49.99\n",
       "Catalogs             10.0  0.799000   2.526660  0.0  0.0  0.00   0.00   7.99\n",
       "Education           449.0  2.572004   2.669539  0.0  0.0  2.99   2.99  24.99\n",
       "Entertainment       535.0  0.889701   1.454022  0.0  0.0  0.00   1.99   9.99\n",
       "Finance             104.0  0.421154   1.108990  0.0  0.0  0.00   0.00   5.99\n",
       "Food & Drink         63.0  1.552381   3.972119  0.0  0.0  0.00   1.49  27.99\n",
       "Games              3862.0  1.432923   2.486609  0.0  0.0  0.00   1.99  29.99\n",
       "Health & Fitness    180.0  1.916444   2.052378  0.0  0.0  1.99   2.99   9.99\n",
       "Lifestyle           144.0  0.885417   1.478410  0.0  0.0  0.00   1.24   4.99\n",
       "Medical              23.0  8.776087  10.788269  0.0  0.0  3.99  16.99  34.99\n",
       "Music               138.0  4.835435   8.915667  0.0  0.0  0.99   4.99  49.99\n",
       "Navigation           45.0  2.550000   4.487584  0.0  0.0  0.99   2.99  20.99\n",
       "News                 75.0  0.517733   1.127771  0.0  0.0  0.00   0.00   3.99\n",
       "Photo & Video       349.0  1.473295   2.280703  0.0  0.0  0.99   1.99  22.99\n",
       "Productivity        177.0  3.790113   4.965777  0.0  0.0  1.99   4.99  29.99\n",
       "Reference            64.0  4.836875   8.285100  0.0  0.0  1.99   4.99  47.99\n",
       "Shopping            122.0  0.016311   0.180166  0.0  0.0  0.00   0.00   1.99\n",
       "Social Networking   167.0  0.339880   1.142210  0.0  0.0  0.00   0.00   9.99\n",
       "Sports              114.0  0.953070   2.419084  0.0  0.0  0.00   0.99  19.99\n",
       "Travel               81.0  1.120370   2.183772  0.0  0.0  0.00   0.99   9.99\n",
       "Utilities           248.0  1.647621   2.628541  0.0  0.0  0.99   1.99  24.99\n",
       "Weather              72.0  1.605417   1.831316  0.0  0.0  0.99   2.99   9.99"
      ]
     },
     "execution_count": 9,
     "metadata": {},
     "output_type": "execute_result"
    }
   ],
   "source": [
    "app.groupby(['prime_genre'])['price'].describe()"
   ]
  },
  {
   "cell_type": "code",
   "execution_count": 10,
   "metadata": {},
   "outputs": [
    {
     "name": "stdout",
     "output_type": "stream",
     "text": [
      "<class 'pandas.core.frame.DataFrame'>\n",
      "Int64Index: 7190 entries, 0 to 7196\n",
      "Data columns (total 12 columns):\n",
      "id                  7190 non-null int64\n",
      "track_name          7190 non-null object\n",
      "size_bytes          7190 non-null int64\n",
      "price               7190 non-null float64\n",
      "rating_count_tot    7190 non-null int64\n",
      "user_rating         7190 non-null float64\n",
      "prime_genre         7190 non-null object\n",
      "sup_devices         7190 non-null int64\n",
      "ipadSc_urls         7190 non-null int64\n",
      "lang                7190 non-null int64\n",
      "size_mb             7190 non-null float64\n",
      "paid                7190 non-null int64\n",
      "dtypes: float64(3), int64(7), object(2)\n",
      "memory usage: 730.2+ KB\n"
     ]
    }
   ],
   "source": [
    "app.info()"
   ]
  },
  {
   "cell_type": "code",
   "execution_count": 11,
   "metadata": {},
   "outputs": [
    {
     "ename": "KeyError",
     "evalue": "'price_new'",
     "output_type": "error",
     "traceback": [
      "\u001b[1;31m---------------------------------------------------------------------------\u001b[0m",
      "\u001b[1;31mKeyError\u001b[0m                                  Traceback (most recent call last)",
      "\u001b[1;32m<ipython-input-11-834c08bbdb1a>\u001b[0m in \u001b[0;36m<module>\u001b[1;34m\u001b[0m\n\u001b[1;32m----> 1\u001b[1;33m \u001b[0mapp\u001b[0m\u001b[1;33m.\u001b[0m\u001b[0mgroupby\u001b[0m\u001b[1;33m(\u001b[0m\u001b[1;33m[\u001b[0m\u001b[1;34m'price_new'\u001b[0m\u001b[1;33m]\u001b[0m\u001b[1;33m)\u001b[0m\u001b[1;33m[\u001b[0m\u001b[1;34m'user_rating'\u001b[0m\u001b[1;33m]\u001b[0m\u001b[1;33m.\u001b[0m\u001b[0mdescribe\u001b[0m\u001b[1;33m(\u001b[0m\u001b[1;33m)\u001b[0m\u001b[1;33m\u001b[0m\u001b[1;33m\u001b[0m\u001b[0m\n\u001b[0m",
      "\u001b[1;32md:\\program files\\python37\\lib\\site-packages\\pandas\\core\\generic.py\u001b[0m in \u001b[0;36mgroupby\u001b[1;34m(self, by, axis, level, as_index, sort, group_keys, squeeze, observed, **kwargs)\u001b[0m\n\u001b[0;32m   7630\u001b[0m         return groupby(self, by=by, axis=axis, level=level, as_index=as_index,\n\u001b[0;32m   7631\u001b[0m                        \u001b[0msort\u001b[0m\u001b[1;33m=\u001b[0m\u001b[0msort\u001b[0m\u001b[1;33m,\u001b[0m \u001b[0mgroup_keys\u001b[0m\u001b[1;33m=\u001b[0m\u001b[0mgroup_keys\u001b[0m\u001b[1;33m,\u001b[0m \u001b[0msqueeze\u001b[0m\u001b[1;33m=\u001b[0m\u001b[0msqueeze\u001b[0m\u001b[1;33m,\u001b[0m\u001b[1;33m\u001b[0m\u001b[1;33m\u001b[0m\u001b[0m\n\u001b[1;32m-> 7632\u001b[1;33m                        observed=observed, **kwargs)\n\u001b[0m\u001b[0;32m   7633\u001b[0m \u001b[1;33m\u001b[0m\u001b[0m\n\u001b[0;32m   7634\u001b[0m     def asfreq(self, freq, method=None, how=None, normalize=False,\n",
      "\u001b[1;32md:\\program files\\python37\\lib\\site-packages\\pandas\\core\\groupby\\groupby.py\u001b[0m in \u001b[0;36mgroupby\u001b[1;34m(obj, by, **kwds)\u001b[0m\n\u001b[0;32m   2108\u001b[0m         \u001b[1;32mraise\u001b[0m \u001b[0mTypeError\u001b[0m\u001b[1;33m(\u001b[0m\u001b[1;34m'invalid type: {}'\u001b[0m\u001b[1;33m.\u001b[0m\u001b[0mformat\u001b[0m\u001b[1;33m(\u001b[0m\u001b[0mobj\u001b[0m\u001b[1;33m)\u001b[0m\u001b[1;33m)\u001b[0m\u001b[1;33m\u001b[0m\u001b[1;33m\u001b[0m\u001b[0m\n\u001b[0;32m   2109\u001b[0m \u001b[1;33m\u001b[0m\u001b[0m\n\u001b[1;32m-> 2110\u001b[1;33m     \u001b[1;32mreturn\u001b[0m \u001b[0mklass\u001b[0m\u001b[1;33m(\u001b[0m\u001b[0mobj\u001b[0m\u001b[1;33m,\u001b[0m \u001b[0mby\u001b[0m\u001b[1;33m,\u001b[0m \u001b[1;33m**\u001b[0m\u001b[0mkwds\u001b[0m\u001b[1;33m)\u001b[0m\u001b[1;33m\u001b[0m\u001b[1;33m\u001b[0m\u001b[0m\n\u001b[0m",
      "\u001b[1;32md:\\program files\\python37\\lib\\site-packages\\pandas\\core\\groupby\\groupby.py\u001b[0m in \u001b[0;36m__init__\u001b[1;34m(self, obj, keys, axis, level, grouper, exclusions, selection, as_index, sort, group_keys, squeeze, observed, **kwargs)\u001b[0m\n\u001b[0;32m    358\u001b[0m                                                     \u001b[0msort\u001b[0m\u001b[1;33m=\u001b[0m\u001b[0msort\u001b[0m\u001b[1;33m,\u001b[0m\u001b[1;33m\u001b[0m\u001b[1;33m\u001b[0m\u001b[0m\n\u001b[0;32m    359\u001b[0m                                                     \u001b[0mobserved\u001b[0m\u001b[1;33m=\u001b[0m\u001b[0mobserved\u001b[0m\u001b[1;33m,\u001b[0m\u001b[1;33m\u001b[0m\u001b[1;33m\u001b[0m\u001b[0m\n\u001b[1;32m--> 360\u001b[1;33m                                                     mutated=self.mutated)\n\u001b[0m\u001b[0;32m    361\u001b[0m \u001b[1;33m\u001b[0m\u001b[0m\n\u001b[0;32m    362\u001b[0m         \u001b[0mself\u001b[0m\u001b[1;33m.\u001b[0m\u001b[0mobj\u001b[0m \u001b[1;33m=\u001b[0m \u001b[0mobj\u001b[0m\u001b[1;33m\u001b[0m\u001b[1;33m\u001b[0m\u001b[0m\n",
      "\u001b[1;32md:\\program files\\python37\\lib\\site-packages\\pandas\\core\\groupby\\grouper.py\u001b[0m in \u001b[0;36m_get_grouper\u001b[1;34m(obj, key, axis, level, sort, observed, mutated, validate)\u001b[0m\n\u001b[0;32m    576\u001b[0m                 \u001b[0min_axis\u001b[0m\u001b[1;33m,\u001b[0m \u001b[0mname\u001b[0m\u001b[1;33m,\u001b[0m \u001b[0mlevel\u001b[0m\u001b[1;33m,\u001b[0m \u001b[0mgpr\u001b[0m \u001b[1;33m=\u001b[0m \u001b[1;32mFalse\u001b[0m\u001b[1;33m,\u001b[0m \u001b[1;32mNone\u001b[0m\u001b[1;33m,\u001b[0m \u001b[0mgpr\u001b[0m\u001b[1;33m,\u001b[0m \u001b[1;32mNone\u001b[0m\u001b[1;33m\u001b[0m\u001b[1;33m\u001b[0m\u001b[0m\n\u001b[0;32m    577\u001b[0m             \u001b[1;32melse\u001b[0m\u001b[1;33m:\u001b[0m\u001b[1;33m\u001b[0m\u001b[1;33m\u001b[0m\u001b[0m\n\u001b[1;32m--> 578\u001b[1;33m                 \u001b[1;32mraise\u001b[0m \u001b[0mKeyError\u001b[0m\u001b[1;33m(\u001b[0m\u001b[0mgpr\u001b[0m\u001b[1;33m)\u001b[0m\u001b[1;33m\u001b[0m\u001b[1;33m\u001b[0m\u001b[0m\n\u001b[0m\u001b[0;32m    579\u001b[0m         \u001b[1;32melif\u001b[0m \u001b[0misinstance\u001b[0m\u001b[1;33m(\u001b[0m\u001b[0mgpr\u001b[0m\u001b[1;33m,\u001b[0m \u001b[0mGrouper\u001b[0m\u001b[1;33m)\u001b[0m \u001b[1;32mand\u001b[0m \u001b[0mgpr\u001b[0m\u001b[1;33m.\u001b[0m\u001b[0mkey\u001b[0m \u001b[1;32mis\u001b[0m \u001b[1;32mnot\u001b[0m \u001b[1;32mNone\u001b[0m\u001b[1;33m:\u001b[0m\u001b[1;33m\u001b[0m\u001b[1;33m\u001b[0m\u001b[0m\n\u001b[0;32m    580\u001b[0m             \u001b[1;31m# Add key to exclusions\u001b[0m\u001b[1;33m\u001b[0m\u001b[1;33m\u001b[0m\u001b[1;33m\u001b[0m\u001b[0m\n",
      "\u001b[1;31mKeyError\u001b[0m: 'price_new'"
     ]
    }
   ],
   "source": [
    "app.groupby(['price_new'])['user_rating'].describe()"
   ]
  },
  {
   "cell_type": "code",
   "execution_count": null,
   "metadata": {},
   "outputs": [],
   "source": [
    "import matplotlib.pyplot as plt\n",
    "import seaborn as sns\n",
    "%matplotlib inline"
   ]
  },
  {
   "cell_type": "markdown",
   "metadata": {},
   "source": [
    "# 1.不同类别APP的用户评分 - 折线图\n",
    "函数：sns.relplot()\n",
    "\n",
    "结论：photo&video类APP的的用户评分最高"
   ]
  },
  {
   "cell_type": "code",
   "execution_count": 14,
   "metadata": {},
   "outputs": [
    {
     "data": {
      "text/plain": [
       "Games                3862\n",
       "Entertainment         535\n",
       "Education             449\n",
       "Photo & Video         349\n",
       "Utilities             248\n",
       "Health & Fitness      180\n",
       "Productivity          177\n",
       "Social Networking     167\n",
       "Lifestyle             144\n",
       "Music                 138\n",
       "Shopping              122\n",
       "Sports                114\n",
       "Book                  112\n",
       "Finance               104\n",
       "Travel                 81\n",
       "News                   75\n",
       "Weather                72\n",
       "Reference              64\n",
       "Food & Drink           63\n",
       "Business               56\n",
       "Navigation             45\n",
       "Medical                23\n",
       "Catalogs               10\n",
       "Name: prime_genre, dtype: int64"
      ]
     },
     "execution_count": 14,
     "metadata": {},
     "output_type": "execute_result"
    }
   ],
   "source": [
    "app['prime_genre'].value_counts()"
   ]
  },
  {
   "cell_type": "code",
   "execution_count": 17,
   "metadata": {},
   "outputs": [
    {
     "data": {
      "text/plain": [
       "<seaborn.axisgrid.FacetGrid at 0x257bf0e3e48>"
      ]
     },
     "execution_count": 17,
     "metadata": {},
     "output_type": "execute_result"
    },
    {
     "data": {
      "image/png": "[encoded data removed]",
      "text/plain": [
       "<Figure size 360x360 with 1 Axes>"
      ]
     },
     "metadata": {
      "needs_background": "light"
     },
     "output_type": "display_data"
    }
   ],
   "source": [
    "# 所有类别\n",
    "sns.relplot(x=\"prime_genre\",y=\"user_rating\",kind='line',data=app)"
   ]
  },
  {
   "cell_type": "code",
   "execution_count": 15,
   "metadata": {},
   "outputs": [],
   "source": [
    "# 取APP数量最多的前5个类别\n",
    "top5 = ['Games', 'Entertainment', 'Education', 'Photo & Video', 'Utilities']\n",
    "app5 = app[app['prime_genre'].isin(top5)]"
   ]
  },
  {
   "cell_type": "code",
   "execution_count": 16,
   "metadata": {},
   "outputs": [
    {
     "data": {
      "text/plain": [
       "<seaborn.axisgrid.FacetGrid at 0x257be1d5128>"
      ]
     },
     "execution_count": 16,
     "metadata": {},
     "output_type": "execute_result"
    },
    {
     "data": {
      "image/png": "[encoded data removed]",
      "text/plain": [
       "<Figure size 360x360 with 1 Axes>"
      ]
     },
     "metadata": {
      "needs_background": "light"
     },
     "output_type": "display_data"
    }
   ],
   "source": [
    "sns.relplot(x=\"prime_genre\",y=\"user_rating\",kind='line',data=app5)\n"
   ]
  },
  {
   "cell_type": "markdown",
   "metadata": {},
   "source": [
    "# 2.APP的价格分布 - 直方图\n",
    "函数：sns.distplot()\n",
    "\n",
    "结论：小于5美金的价格比较稳妥"
   ]
  },
  {
   "cell_type": "code",
   "execution_count": 19,
   "metadata": {},
   "outputs": [
    {
     "data": {
      "text/plain": [
       "<matplotlib.axes._subplots.AxesSubplot at 0x257bfceb908>"
      ]
     },
     "execution_count": 19,
     "metadata": {},
     "output_type": "execute_result"
    },
    {
     "data": {
      "image/png": "[encoded data removed]",
      "text/plain": [
       "<Figure size 432x288 with 1 Axes>"
      ]
     },
     "metadata": {
      "needs_background": "light"
     },
     "output_type": "display_data"
    }
   ],
   "source": [
    "sns.distplot(app['price'])"
   ]
  },
  {
   "cell_type": "code",
   "execution_count": 23,
   "metadata": {},
   "outputs": [
    {
     "data": {
      "text/plain": [
       "<matplotlib.axes._subplots.AxesSubplot at 0x257c13a1860>"
      ]
     },
     "execution_count": 23,
     "metadata": {},
     "output_type": "execute_result"
    },
    {
     "data": {
      "image/png": "[encoded data removed]",
      "text/plain": [
       "<Figure size 432x288 with 1 Axes>"
      ]
     },
     "metadata": {
      "needs_background": "light"
     },
     "output_type": "display_data"
    }
   ],
   "source": [
    "app1 = app[app['price']<=19.99]  # 选取小于19.99美金的APP进行展示\n",
    "sns.distplot(app1['price'])"
   ]
  },
  {
   "cell_type": "markdown",
   "metadata": {},
   "source": [
    "# 3.不同类别的APP的价格分布 - 箱线图\n",
    "函数：sns.boxplot()\n",
    "\n",
    "结论："
   ]
  },
  {
   "cell_type": "code",
   "execution_count": null,
   "metadata": {},
   "outputs": [],
   "source": []
  }
 ],
 "metadata": {
  "kernelspec": {
   "display_name": "Python 3",
   "language": "python",
   "name": "python3"
  },
  "language_info": {
   "codemirror_mode": {
    "name": "ipython",
    "version": 3
   },
   "file_extension": ".py",
   "mimetype": "text/x-python",
   "name": "python",
   "nbconvert_exporter": "python",
   "pygments_lexer": "ipython3",
   "version": "3.7.3"
  }
 },
 "nbformat": 4,
 "nbformat_minor": 2
}
