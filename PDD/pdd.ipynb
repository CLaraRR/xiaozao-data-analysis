{
 "cells": [
  {
   "cell_type": "markdown",
   "metadata": {},
   "source": [
    "# 拼多多优惠券使用预测"
   ]
  },
  {
   "cell_type": "markdown",
   "metadata": {},
   "source": [
    "## 任务说明"
   ]
  },
  {
   "cell_type": "markdown",
   "metadata": {},
   "source": [
    "这一周我们接到了来自拼多多的任务委托，核心任务是进行消费者行为的预测。拼多多是国内主流的手机购物APP，成立于2015年9月，用户通过发起和朋友、家人、邻居等的拼团，以更低的价格，拼团购买商品。拼多多作为新电商开创者,致力于将娱乐社交的元素融入电商运营中,通过“社交+电商”的模式,让更多的用户带着乐趣分享实惠,享受全新的共享式购物体验。对于各大电商平台，在“双十一”这种大促时间段，优惠券会起到非常大的促销作用。那么，如何找到更容易使用优惠券的用户，对他们精准地推送与营销，从而在双十一期间使销售额大大提升呢？这就是我们需要支持拼多多共同分析与解决的一个问题。"
   ]
  },
  {
   "cell_type": "markdown",
   "metadata": {},
   "source": [
    "## 任务事项"
   ]
  },
  {
   "cell_type": "markdown",
   "metadata": {},
   "source": [
    "就是根据用户的基本信息以及过去的消费行为数据，完成以下事项：\n",
    "- 使用Python建立逻辑回归模型\n",
    "- 预测用户是否会在活动中使用优惠券\n",
    "- 找到对用户使用优惠券影响较大的因素\n"
   ]
  },
  {
   "cell_type": "markdown",
   "metadata": {},
   "source": [
    "## 任务要求"
   ]
  },
  {
   "cell_type": "markdown",
   "metadata": {},
   "source": [
    "- 完整的数据分析流程（50%）\n",
    "    - 数据概况分析\n",
    "    - 单变量分析\n",
    "    - 相关与可视化分析\n",
    "    - 逻辑回归模型建立、评估与优化\n",
    "- 准确的数据维度识别与python代码操作（30%）\n",
    "- 提供对于模型结果的业务结论解读（20%）"
   ]
  },
  {
   "cell_type": "markdown",
   "metadata": {},
   "source": [
    "## 认识数据"
   ]
  },
  {
   "cell_type": "markdown",
   "metadata": {},
   "source": [
    "![jupyter](image.png)"
   ]
  },
  {
   "cell_type": "markdown",
   "metadata": {},
   "source": [
    "## 数据分析流程"
   ]
  },
  {
   "cell_type": "markdown",
   "metadata": {},
   "source": [
    "![jupyter](image1.png)"
   ]
  },
  {
   "cell_type": "markdown",
   "metadata": {},
   "source": [
    "## 数据分析思路"
   ]
  },
  {
   "cell_type": "markdown",
   "metadata": {},
   "source": [
    "![jupyter](image2.png)"
   ]
  },
  {
   "cell_type": "markdown",
   "metadata": {},
   "source": [
    "# 数据准备"
   ]
  },
  {
   "cell_type": "code",
   "execution_count": 1017,
   "metadata": {},
   "outputs": [],
   "source": [
    "import pandas as pd\n",
    "import matplotlib.pyplot as plt\n",
    "\n",
    "%matplotlib inline"
   ]
  },
  {
   "cell_type": "code",
   "execution_count": 1018,
   "metadata": {},
   "outputs": [],
   "source": [
    "plt.rcParams['font.sans-serif']=['simhei']"
   ]
  },
  {
   "cell_type": "code",
   "execution_count": 1019,
   "metadata": {},
   "outputs": [],
   "source": [
    "pdd = pd.read_csv('拼多多优惠券数据.csv')"
   ]
  },
  {
   "cell_type": "code",
   "execution_count": 1020,
   "metadata": {},
   "outputs": [
    {
     "name": "stdout",
     "output_type": "stream",
     "text": [
      "<class 'pandas.core.frame.DataFrame'>\n",
      "RangeIndex: 25317 entries, 0 to 25316\n",
      "Data columns (total 10 columns):\n",
      "ID                            25317 non-null int64\n",
      "age                           25317 non-null int64\n",
      "job                           25317 non-null object\n",
      "marital                       25317 non-null object\n",
      "default                       25317 non-null object\n",
      "returned                      25317 non-null object\n",
      "loan                          25317 non-null object\n",
      "coupon_used_in_last6_month    25317 non-null int64\n",
      "coupon_used_in_last_month     25317 non-null int64\n",
      "coupon_ind                    25317 non-null int64\n",
      "dtypes: int64(5), object(5)\n",
      "memory usage: 1.9+ MB\n"
     ]
    }
   ],
   "source": [
    "pdd.info()"
   ]
  },
  {
   "cell_type": "markdown",
   "metadata": {},
   "source": [
    "- job,martal,default,returned,loan为类别变量，之后要做get_dummies操作\n",
    "- ID这一列是没用的，之后要删去\n",
    "- 没有数据缺失"
   ]
  },
  {
   "cell_type": "code",
   "execution_count": 1021,
   "metadata": {},
   "outputs": [
    {
     "data": {
      "text/html": [
       "<div>\n",
       "<style scoped>\n",
       "    .dataframe tbody tr th:only-of-type {\n",
       "        vertical-align: middle;\n",
       "    }\n",
       "\n",
       "    .dataframe tbody tr th {\n",
       "        vertical-align: top;\n",
       "    }\n",
       "\n",
       "    .dataframe thead th {\n",
       "        text-align: right;\n",
       "    }\n",
       "</style>\n",
       "<table border=\"1\" class=\"dataframe\">\n",
       "  <thead>\n",
       "    <tr style=\"text-align: right;\">\n",
       "      <th></th>\n",
       "      <th>ID</th>\n",
       "      <th>age</th>\n",
       "      <th>job</th>\n",
       "      <th>marital</th>\n",
       "      <th>default</th>\n",
       "      <th>returned</th>\n",
       "      <th>loan</th>\n",
       "      <th>coupon_used_in_last6_month</th>\n",
       "      <th>coupon_used_in_last_month</th>\n",
       "      <th>coupon_ind</th>\n",
       "    </tr>\n",
       "  </thead>\n",
       "  <tbody>\n",
       "    <tr>\n",
       "      <th>0</th>\n",
       "      <td>1</td>\n",
       "      <td>43</td>\n",
       "      <td>management</td>\n",
       "      <td>married</td>\n",
       "      <td>no</td>\n",
       "      <td>yes</td>\n",
       "      <td>no</td>\n",
       "      <td>2</td>\n",
       "      <td>0</td>\n",
       "      <td>0</td>\n",
       "    </tr>\n",
       "    <tr>\n",
       "      <th>1</th>\n",
       "      <td>2</td>\n",
       "      <td>42</td>\n",
       "      <td>technician</td>\n",
       "      <td>divorced</td>\n",
       "      <td>no</td>\n",
       "      <td>yes</td>\n",
       "      <td>no</td>\n",
       "      <td>1</td>\n",
       "      <td>1</td>\n",
       "      <td>0</td>\n",
       "    </tr>\n",
       "    <tr>\n",
       "      <th>2</th>\n",
       "      <td>3</td>\n",
       "      <td>47</td>\n",
       "      <td>admin.</td>\n",
       "      <td>married</td>\n",
       "      <td>no</td>\n",
       "      <td>yes</td>\n",
       "      <td>yes</td>\n",
       "      <td>2</td>\n",
       "      <td>0</td>\n",
       "      <td>0</td>\n",
       "    </tr>\n",
       "    <tr>\n",
       "      <th>3</th>\n",
       "      <td>4</td>\n",
       "      <td>28</td>\n",
       "      <td>management</td>\n",
       "      <td>single</td>\n",
       "      <td>no</td>\n",
       "      <td>yes</td>\n",
       "      <td>yes</td>\n",
       "      <td>2</td>\n",
       "      <td>0</td>\n",
       "      <td>0</td>\n",
       "    </tr>\n",
       "    <tr>\n",
       "      <th>4</th>\n",
       "      <td>5</td>\n",
       "      <td>42</td>\n",
       "      <td>technician</td>\n",
       "      <td>divorced</td>\n",
       "      <td>no</td>\n",
       "      <td>yes</td>\n",
       "      <td>no</td>\n",
       "      <td>5</td>\n",
       "      <td>0</td>\n",
       "      <td>0</td>\n",
       "    </tr>\n",
       "  </tbody>\n",
       "</table>\n",
       "</div>"
      ],
      "text/plain": [
       "   ID  age         job   marital default returned loan  \\\n",
       "0   1   43  management   married      no      yes   no   \n",
       "1   2   42  technician  divorced      no      yes   no   \n",
       "2   3   47      admin.   married      no      yes  yes   \n",
       "3   4   28  management    single      no      yes  yes   \n",
       "4   5   42  technician  divorced      no      yes   no   \n",
       "\n",
       "   coupon_used_in_last6_month  coupon_used_in_last_month  coupon_ind  \n",
       "0                           2                          0           0  \n",
       "1                           1                          1           0  \n",
       "2                           2                          0           0  \n",
       "3                           2                          0           0  \n",
       "4                           5                          0           0  "
      ]
     },
     "execution_count": 1021,
     "metadata": {},
     "output_type": "execute_result"
    }
   ],
   "source": [
    "pdd.head()"
   ]
  },
  {
   "cell_type": "code",
   "execution_count": 1022,
   "metadata": {},
   "outputs": [
    {
     "data": {
      "text/html": [
       "<div>\n",
       "<style scoped>\n",
       "    .dataframe tbody tr th:only-of-type {\n",
       "        vertical-align: middle;\n",
       "    }\n",
       "\n",
       "    .dataframe tbody tr th {\n",
       "        vertical-align: top;\n",
       "    }\n",
       "\n",
       "    .dataframe thead th {\n",
       "        text-align: right;\n",
       "    }\n",
       "</style>\n",
       "<table border=\"1\" class=\"dataframe\">\n",
       "  <thead>\n",
       "    <tr style=\"text-align: right;\">\n",
       "      <th></th>\n",
       "      <th>ID</th>\n",
       "      <th>age</th>\n",
       "      <th>coupon_used_in_last6_month</th>\n",
       "      <th>coupon_used_in_last_month</th>\n",
       "      <th>coupon_ind</th>\n",
       "    </tr>\n",
       "  </thead>\n",
       "  <tbody>\n",
       "    <tr>\n",
       "      <th>count</th>\n",
       "      <td>25317.000000</td>\n",
       "      <td>25317.000000</td>\n",
       "      <td>25317.000000</td>\n",
       "      <td>25317.000000</td>\n",
       "      <td>25317.000000</td>\n",
       "    </tr>\n",
       "    <tr>\n",
       "      <th>mean</th>\n",
       "      <td>12659.000000</td>\n",
       "      <td>40.935379</td>\n",
       "      <td>2.772050</td>\n",
       "      <td>0.292847</td>\n",
       "      <td>0.116957</td>\n",
       "    </tr>\n",
       "    <tr>\n",
       "      <th>std</th>\n",
       "      <td>7308.532719</td>\n",
       "      <td>10.634289</td>\n",
       "      <td>3.136097</td>\n",
       "      <td>0.765498</td>\n",
       "      <td>0.321375</td>\n",
       "    </tr>\n",
       "    <tr>\n",
       "      <th>min</th>\n",
       "      <td>1.000000</td>\n",
       "      <td>18.000000</td>\n",
       "      <td>1.000000</td>\n",
       "      <td>0.000000</td>\n",
       "      <td>0.000000</td>\n",
       "    </tr>\n",
       "    <tr>\n",
       "      <th>25%</th>\n",
       "      <td>6330.000000</td>\n",
       "      <td>33.000000</td>\n",
       "      <td>1.000000</td>\n",
       "      <td>0.000000</td>\n",
       "      <td>0.000000</td>\n",
       "    </tr>\n",
       "    <tr>\n",
       "      <th>50%</th>\n",
       "      <td>12659.000000</td>\n",
       "      <td>39.000000</td>\n",
       "      <td>2.000000</td>\n",
       "      <td>0.000000</td>\n",
       "      <td>0.000000</td>\n",
       "    </tr>\n",
       "    <tr>\n",
       "      <th>75%</th>\n",
       "      <td>18988.000000</td>\n",
       "      <td>48.000000</td>\n",
       "      <td>3.000000</td>\n",
       "      <td>0.000000</td>\n",
       "      <td>0.000000</td>\n",
       "    </tr>\n",
       "    <tr>\n",
       "      <th>max</th>\n",
       "      <td>25317.000000</td>\n",
       "      <td>95.000000</td>\n",
       "      <td>55.000000</td>\n",
       "      <td>15.000000</td>\n",
       "      <td>1.000000</td>\n",
       "    </tr>\n",
       "  </tbody>\n",
       "</table>\n",
       "</div>"
      ],
      "text/plain": [
       "                 ID           age  coupon_used_in_last6_month  \\\n",
       "count  25317.000000  25317.000000                25317.000000   \n",
       "mean   12659.000000     40.935379                    2.772050   \n",
       "std     7308.532719     10.634289                    3.136097   \n",
       "min        1.000000     18.000000                    1.000000   \n",
       "25%     6330.000000     33.000000                    1.000000   \n",
       "50%    12659.000000     39.000000                    2.000000   \n",
       "75%    18988.000000     48.000000                    3.000000   \n",
       "max    25317.000000     95.000000                   55.000000   \n",
       "\n",
       "       coupon_used_in_last_month    coupon_ind  \n",
       "count               25317.000000  25317.000000  \n",
       "mean                    0.292847      0.116957  \n",
       "std                     0.765498      0.321375  \n",
       "min                     0.000000      0.000000  \n",
       "25%                     0.000000      0.000000  \n",
       "50%                     0.000000      0.000000  \n",
       "75%                     0.000000      0.000000  \n",
       "max                    15.000000      1.000000  "
      ]
     },
     "execution_count": 1022,
     "metadata": {},
     "output_type": "execute_result"
    }
   ],
   "source": [
    "pdd.describe()"
   ]
  },
  {
   "cell_type": "markdown",
   "metadata": {},
   "source": [
    "- age最大值为95岁，可能存在异常值\n",
    "- coupon_used_in_last6_month分布较离散，可以后续采用分箱操作"
   ]
  },
  {
   "cell_type": "code",
   "execution_count": null,
   "metadata": {},
   "outputs": [],
   "source": []
  },
  {
   "cell_type": "code",
   "execution_count": null,
   "metadata": {},
   "outputs": [],
   "source": []
  },
  {
   "cell_type": "markdown",
   "metadata": {},
   "source": [
    "# EDA和数据清洗"
   ]
  },
  {
   "cell_type": "markdown",
   "metadata": {},
   "source": [
    "## 关键列"
   ]
  },
  {
   "cell_type": "code",
   "execution_count": 1023,
   "metadata": {},
   "outputs": [
    {
     "data": {
      "text/plain": [
       "0    0.883043\n",
       "1    0.116957\n",
       "Name: coupon_ind, dtype: float64"
      ]
     },
     "execution_count": 1023,
     "metadata": {},
     "output_type": "execute_result"
    }
   ],
   "source": [
    "pdd['coupon_ind'].value_counts(1)"
   ]
  },
  {
   "cell_type": "markdown",
   "metadata": {},
   "source": [
    "- 使用优惠券和未使用优惠券的数据不平衡\n",
    "- 之后可能要进行下采样或上采样"
   ]
  },
  {
   "cell_type": "markdown",
   "metadata": {},
   "source": [
    "## 数值变量"
   ]
  },
  {
   "cell_type": "markdown",
   "metadata": {},
   "source": [
    "### 查看年龄的分布情况"
   ]
  },
  {
   "cell_type": "code",
   "execution_count": 1024,
   "metadata": {},
   "outputs": [
    {
     "data": {
      "text/plain": [
       "count    25317.000000\n",
       "mean        40.935379\n",
       "std         10.634289\n",
       "min         18.000000\n",
       "25%         33.000000\n",
       "50%         39.000000\n",
       "75%         48.000000\n",
       "max         95.000000\n",
       "Name: age, dtype: float64"
      ]
     },
     "execution_count": 1024,
     "metadata": {},
     "output_type": "execute_result"
    }
   ],
   "source": [
    "pdd['age'].describe()"
   ]
  },
  {
   "cell_type": "code",
   "execution_count": 1025,
   "metadata": {},
   "outputs": [
    {
     "data": {
      "text/plain": [
       "<matplotlib.axes._subplots.AxesSubplot at 0x1aca953f2b0>"
      ]
     },
     "execution_count": 1025,
     "metadata": {},
     "output_type": "execute_result"
    },
    {
     "data": {
      "image/png": "[encoded data removed]",
      "text/plain": [
       "<Figure size 432x288 with 1 Axes>"
      ]
     },
     "metadata": {
      "needs_background": "light"
     },
     "output_type": "display_data"
    }
   ],
   "source": [
    "import seaborn as sns\n",
    "sns.distplot(pdd['age'])"
   ]
  },
  {
   "cell_type": "markdown",
   "metadata": {},
   "source": [
    "- 年龄主要分布在20-60岁之间\n",
    "- 大于60岁的可能是异常值，要去除一下\n"
   ]
  },
  {
   "cell_type": "code",
   "execution_count": 1026,
   "metadata": {},
   "outputs": [
    {
     "data": {
      "text/plain": [
       "<matplotlib.axes._subplots.AxesSubplot at 0x1aca8b27978>"
      ]
     },
     "execution_count": 1026,
     "metadata": {},
     "output_type": "execute_result"
    },
    {
     "data": {
      "image/png": "[encoded data removed]",
      "text/plain": [
       "<Figure size 432x288 with 1 Axes>"
      ]
     },
     "metadata": {
      "needs_background": "light"
     },
     "output_type": "display_data"
    }
   ],
   "source": [
    "sns.boxplot(y='age', data=pdd)"
   ]
  },
  {
   "cell_type": "code",
   "execution_count": 1027,
   "metadata": {},
   "outputs": [
    {
     "name": "stdout",
     "output_type": "stream",
     "text": [
      "70.5\n"
     ]
    },
    {
     "data": {
      "text/plain": [
       "284"
      ]
     },
     "execution_count": 1027,
     "metadata": {},
     "output_type": "execute_result"
    }
   ],
   "source": [
    "# 规定大于75%+四分位差的1.5倍为异常值\n",
    "newmax = pdd['age'].describe()['75%'] + 1.5*(pdd['age'].describe()['75%']-pdd['age'].describe()['25%']) \n",
    "print(newmax)\n",
    "pdd[pdd['age']>newmax]['age'].count()"
   ]
  },
  {
   "cell_type": "markdown",
   "metadata": {},
   "source": [
    "- 75%+四分位差的1.5倍为70.5，大于70.5的为异常值\n",
    "- 大于70.5有284个数据"
   ]
  },
  {
   "cell_type": "code",
   "execution_count": 1028,
   "metadata": {},
   "outputs": [],
   "source": [
    "# 去除异常值\n",
    "pdd = pdd[pdd['age']<=newmax]"
   ]
  },
  {
   "cell_type": "code",
   "execution_count": 1029,
   "metadata": {},
   "outputs": [
    {
     "data": {
      "text/html": [
       "<div>\n",
       "<style scoped>\n",
       "    .dataframe tbody tr th:only-of-type {\n",
       "        vertical-align: middle;\n",
       "    }\n",
       "\n",
       "    .dataframe tbody tr th {\n",
       "        vertical-align: top;\n",
       "    }\n",
       "\n",
       "    .dataframe thead th {\n",
       "        text-align: right;\n",
       "    }\n",
       "</style>\n",
       "<table border=\"1\" class=\"dataframe\">\n",
       "  <thead>\n",
       "    <tr style=\"text-align: right;\">\n",
       "      <th></th>\n",
       "      <th>count</th>\n",
       "      <th>mean</th>\n",
       "      <th>std</th>\n",
       "      <th>min</th>\n",
       "      <th>25%</th>\n",
       "      <th>50%</th>\n",
       "      <th>75%</th>\n",
       "      <th>max</th>\n",
       "    </tr>\n",
       "    <tr>\n",
       "      <th>coupon_ind</th>\n",
       "      <th></th>\n",
       "      <th></th>\n",
       "      <th></th>\n",
       "      <th></th>\n",
       "      <th></th>\n",
       "      <th></th>\n",
       "      <th></th>\n",
       "      <th></th>\n",
       "    </tr>\n",
       "  </thead>\n",
       "  <tbody>\n",
       "    <tr>\n",
       "      <th>0</th>\n",
       "      <td>22202.0</td>\n",
       "      <td>40.569859</td>\n",
       "      <td>9.751967</td>\n",
       "      <td>18.0</td>\n",
       "      <td>33.0</td>\n",
       "      <td>39.0</td>\n",
       "      <td>48.0</td>\n",
       "      <td>70.0</td>\n",
       "    </tr>\n",
       "    <tr>\n",
       "      <th>1</th>\n",
       "      <td>2831.0</td>\n",
       "      <td>40.207700</td>\n",
       "      <td>11.526063</td>\n",
       "      <td>18.0</td>\n",
       "      <td>31.0</td>\n",
       "      <td>37.0</td>\n",
       "      <td>49.0</td>\n",
       "      <td>70.0</td>\n",
       "    </tr>\n",
       "  </tbody>\n",
       "</table>\n",
       "</div>"
      ],
      "text/plain": [
       "              count       mean        std   min   25%   50%   75%   max\n",
       "coupon_ind                                                             \n",
       "0           22202.0  40.569859   9.751967  18.0  33.0  39.0  48.0  70.0\n",
       "1            2831.0  40.207700  11.526063  18.0  31.0  37.0  49.0  70.0"
      ]
     },
     "execution_count": 1029,
     "metadata": {},
     "output_type": "execute_result"
    }
   ],
   "source": [
    "# 查看年龄和是否使用优惠券的关系\n",
    "pdd.groupby('coupon_ind')['age'].describe()"
   ]
  },
  {
   "cell_type": "code",
   "execution_count": 1030,
   "metadata": {},
   "outputs": [
    {
     "data": {
      "text/plain": [
       "<matplotlib.legend.Legend at 0x1aca8bc46a0>"
      ]
     },
     "execution_count": 1030,
     "metadata": {},
     "output_type": "execute_result"
    },
    {
     "data": {
      "image/png": "[encoded data removed]",
      "text/plain": [
       "<Figure size 432x288 with 1 Axes>"
      ]
     },
     "metadata": {
      "needs_background": "light"
     },
     "output_type": "display_data"
    }
   ],
   "source": [
    "bins = [10, 15, 20, 25, 30, 35, 40, 45, 50, 55, 60, 65, 70, 75, 80]\n",
    "sns.distplot(pdd[pdd['coupon_ind']==0]['age'], bins=bins, color='red')\n",
    "sns.distplot(pdd[pdd['coupon_ind']==1]['age'], bins=bins, color='blue')\n",
    "plt.title('不同年龄的使用优惠券情况')\n",
    "plt.legend(['未使用优惠券','使用优惠券'])"
   ]
  },
  {
   "cell_type": "markdown",
   "metadata": {},
   "source": [
    "- 使用拼多多APP的用户年龄主要在在20-70之间\n",
    "- 小于35岁和大于60岁的用户更倾向于使用优惠券\n",
    "- 而在35~60岁间的用户更倾向于不使用优惠券\n",
    "- 小于35岁的用户更倾向于使用优惠券的原因是比较好理解的，因为年轻用户对APP的使用更为熟悉，更容易掌握优惠券的用法，而大于60岁的用户由于数量比较少，是否能直接得出他们更倾向于使用优惠券这一结论是不太靠谱的；\n",
    "- 而35岁到60岁之间的用户随着年龄增长用户量也随之减少，不倾向于使用优惠券的原因可能是不清楚APP推出的优惠券活动，或者是因为经济能力比较好而无需费心使用优惠券。"
   ]
  },
  {
   "cell_type": "markdown",
   "metadata": {},
   "source": [
    "### 查看过去6个月优惠券使用情况分布"
   ]
  },
  {
   "cell_type": "code",
   "execution_count": 1031,
   "metadata": {},
   "outputs": [
    {
     "data": {
      "text/plain": [
       "count    25033.000000\n",
       "mean         2.779171\n",
       "std          3.146620\n",
       "min          1.000000\n",
       "25%          1.000000\n",
       "50%          2.000000\n",
       "75%          3.000000\n",
       "max         55.000000\n",
       "Name: coupon_used_in_last6_month, dtype: float64"
      ]
     },
     "execution_count": 1031,
     "metadata": {},
     "output_type": "execute_result"
    }
   ],
   "source": [
    "pdd['coupon_used_in_last6_month'].describe()"
   ]
  },
  {
   "cell_type": "code",
   "execution_count": 1032,
   "metadata": {},
   "outputs": [
    {
     "data": {
      "text/plain": [
       "Text(0.5, 1.0, '过去6个月优惠券使用情况')"
      ]
     },
     "execution_count": 1032,
     "metadata": {},
     "output_type": "execute_result"
    },
    {
     "data": {
      "image/png": "[encoded data removed]",
      "text/plain": [
       "<Figure size 432x288 with 1 Axes>"
      ]
     },
     "metadata": {
      "needs_background": "light"
     },
     "output_type": "display_data"
    }
   ],
   "source": [
    "sns.distplot(pdd['coupon_used_in_last6_month'])\n",
    "plt.title('过去6个月优惠券使用情况')"
   ]
  },
  {
   "cell_type": "markdown",
   "metadata": {},
   "source": [
    "- 过去6个月优惠券使用数量集中在0-10次之间"
   ]
  },
  {
   "cell_type": "markdown",
   "metadata": {},
   "source": [
    "### 查看过去1个月优惠券使用情况分布"
   ]
  },
  {
   "cell_type": "code",
   "execution_count": 1033,
   "metadata": {},
   "outputs": [
    {
     "data": {
      "text/plain": [
       "count    25033.000000\n",
       "mean         0.289498\n",
       "std          0.763161\n",
       "min          0.000000\n",
       "25%          0.000000\n",
       "50%          0.000000\n",
       "75%          0.000000\n",
       "max         15.000000\n",
       "Name: coupon_used_in_last_month, dtype: float64"
      ]
     },
     "execution_count": 1033,
     "metadata": {},
     "output_type": "execute_result"
    }
   ],
   "source": [
    "pdd['coupon_used_in_last_month'].describe()"
   ]
  },
  {
   "cell_type": "code",
   "execution_count": 1034,
   "metadata": {},
   "outputs": [
    {
     "data": {
      "text/plain": [
       "Text(0.5, 1.0, '过去1个月优惠券使用情况')"
      ]
     },
     "execution_count": 1034,
     "metadata": {},
     "output_type": "execute_result"
    },
    {
     "data": {
      "image/png": "[encoded data removed]",
      "text/plain": [
       "<Figure size 432x288 with 1 Axes>"
      ]
     },
     "metadata": {
      "needs_background": "light"
     },
     "output_type": "display_data"
    }
   ],
   "source": [
    "sns.distplot(pdd['coupon_used_in_last_month'])\n",
    "plt.title('过去1个月优惠券使用情况')"
   ]
  },
  {
   "cell_type": "markdown",
   "metadata": {},
   "source": [
    "- 过去1个月优惠券使用数量集中在0-2次之间"
   ]
  },
  {
   "cell_type": "markdown",
   "metadata": {},
   "source": [
    "## 类别变量"
   ]
  },
  {
   "cell_type": "markdown",
   "metadata": {},
   "source": [
    "### 不同职业的用户的优惠券使用情况"
   ]
  },
  {
   "cell_type": "code",
   "execution_count": 1035,
   "metadata": {},
   "outputs": [
    {
     "data": {
      "text/plain": [
       "blue-collar      5455\n",
       "management       5287\n",
       "technician       4239\n",
       "admin.           2906\n",
       "services         2342\n",
       "retired          1026\n",
       "self-employed     881\n",
       "entrepreneur      855\n",
       "unemployed        701\n",
       "housemaid         650\n",
       "student           533\n",
       "unknown           158\n",
       "Name: job, dtype: int64"
      ]
     },
     "execution_count": 1035,
     "metadata": {},
     "output_type": "execute_result"
    }
   ],
   "source": [
    "pdd['job'].value_counts()"
   ]
  },
  {
   "cell_type": "code",
   "execution_count": 1036,
   "metadata": {},
   "outputs": [
    {
     "data": {
      "text/plain": [
       "Text(0.5, 1.0, '各个职业的用户数量')"
      ]
     },
     "execution_count": 1036,
     "metadata": {},
     "output_type": "execute_result"
    },
    {
     "data": {
      "image/png": "[encoded data removed]",
      "text/plain": [
       "<Figure size 432x288 with 1 Axes>"
      ]
     },
     "metadata": {
      "needs_background": "light"
     },
     "output_type": "display_data"
    }
   ],
   "source": [
    "sns.countplot(y='job',data=pdd, order=pdd['job'].value_counts().sort_values(ascending=False).index)\n",
    "plt.title('各个职业的用户数量')"
   ]
  },
  {
   "cell_type": "code",
   "execution_count": 1037,
   "metadata": {},
   "outputs": [
    {
     "data": {
      "text/plain": [
       "<matplotlib.legend.Legend at 0x1acaaca00f0>"
      ]
     },
     "execution_count": 1037,
     "metadata": {},
     "output_type": "execute_result"
    },
    {
     "data": {
      "image/png": "[encoded data removed]",
      "text/plain": [
       "<Figure size 1080x360 with 1 Axes>"
      ]
     },
     "metadata": {
      "needs_background": "light"
     },
     "output_type": "display_data"
    }
   ],
   "source": [
    "plt.figure(figsize=(15,5))\n",
    "sns.countplot(x='job',data=pdd, hue='coupon_ind', order=pdd['job'].value_counts().sort_values(ascending=False).index)\n",
    "plt.title('不同职业用户的使用优惠券情况')\n",
    "plt.legend(['未使用优惠券','使用优惠券'])"
   ]
  },
  {
   "cell_type": "code",
   "execution_count": 1038,
   "metadata": {},
   "outputs": [
    {
     "data": {
      "text/html": [
       "<div>\n",
       "<style scoped>\n",
       "    .dataframe tbody tr th:only-of-type {\n",
       "        vertical-align: middle;\n",
       "    }\n",
       "\n",
       "    .dataframe tbody tr th {\n",
       "        vertical-align: top;\n",
       "    }\n",
       "\n",
       "    .dataframe thead th {\n",
       "        text-align: right;\n",
       "    }\n",
       "</style>\n",
       "<table border=\"1\" class=\"dataframe\">\n",
       "  <thead>\n",
       "    <tr style=\"text-align: right;\">\n",
       "      <th></th>\n",
       "      <th>job</th>\n",
       "      <th>coupon_ind</th>\n",
       "      <th>rate</th>\n",
       "    </tr>\n",
       "  </thead>\n",
       "  <tbody>\n",
       "    <tr>\n",
       "      <th>17</th>\n",
       "      <td>student</td>\n",
       "      <td>1</td>\n",
       "      <td>0.268293</td>\n",
       "    </tr>\n",
       "    <tr>\n",
       "      <th>11</th>\n",
       "      <td>retired</td>\n",
       "      <td>1</td>\n",
       "      <td>0.178363</td>\n",
       "    </tr>\n",
       "    <tr>\n",
       "      <th>21</th>\n",
       "      <td>unemployed</td>\n",
       "      <td>1</td>\n",
       "      <td>0.162625</td>\n",
       "    </tr>\n",
       "    <tr>\n",
       "      <th>9</th>\n",
       "      <td>management</td>\n",
       "      <td>1</td>\n",
       "      <td>0.138453</td>\n",
       "    </tr>\n",
       "    <tr>\n",
       "      <th>1</th>\n",
       "      <td>admin.</td>\n",
       "      <td>1</td>\n",
       "      <td>0.116999</td>\n",
       "    </tr>\n",
       "    <tr>\n",
       "      <th>13</th>\n",
       "      <td>self-employed</td>\n",
       "      <td>1</td>\n",
       "      <td>0.116913</td>\n",
       "    </tr>\n",
       "    <tr>\n",
       "      <th>23</th>\n",
       "      <td>unknown</td>\n",
       "      <td>1</td>\n",
       "      <td>0.113924</td>\n",
       "    </tr>\n",
       "    <tr>\n",
       "      <th>19</th>\n",
       "      <td>technician</td>\n",
       "      <td>1</td>\n",
       "      <td>0.113234</td>\n",
       "    </tr>\n",
       "    <tr>\n",
       "      <th>15</th>\n",
       "      <td>services</td>\n",
       "      <td>1</td>\n",
       "      <td>0.090094</td>\n",
       "    </tr>\n",
       "    <tr>\n",
       "      <th>7</th>\n",
       "      <td>housemaid</td>\n",
       "      <td>1</td>\n",
       "      <td>0.081538</td>\n",
       "    </tr>\n",
       "    <tr>\n",
       "      <th>5</th>\n",
       "      <td>entrepreneur</td>\n",
       "      <td>1</td>\n",
       "      <td>0.078363</td>\n",
       "    </tr>\n",
       "    <tr>\n",
       "      <th>3</th>\n",
       "      <td>blue-collar</td>\n",
       "      <td>1</td>\n",
       "      <td>0.070944</td>\n",
       "    </tr>\n",
       "  </tbody>\n",
       "</table>\n",
       "</div>"
      ],
      "text/plain": [
       "              job  coupon_ind      rate\n",
       "17        student           1  0.268293\n",
       "11        retired           1  0.178363\n",
       "21     unemployed           1  0.162625\n",
       "9      management           1  0.138453\n",
       "1          admin.           1  0.116999\n",
       "13  self-employed           1  0.116913\n",
       "23        unknown           1  0.113924\n",
       "19     technician           1  0.113234\n",
       "15       services           1  0.090094\n",
       "7       housemaid           1  0.081538\n",
       "5    entrepreneur           1  0.078363\n",
       "3     blue-collar           1  0.070944"
      ]
     },
     "execution_count": 1038,
     "metadata": {},
     "output_type": "execute_result"
    }
   ],
   "source": [
    "tmp = pd.DataFrame(pdd.groupby(['job'])['coupon_ind'].value_counts(1))\n",
    "tmp = tmp.rename(columns={'coupon_ind':'rate'}).reset_index()\n",
    "tmp[tmp['coupon_ind']==1].sort_values(by='rate', ascending=False)\n"
   ]
  },
  {
   "cell_type": "code",
   "execution_count": 1039,
   "metadata": {},
   "outputs": [
    {
     "data": {
      "text/plain": [
       "Text(0.5, 1.0, '不同职业用户的优惠券使用率')"
      ]
     },
     "execution_count": 1039,
     "metadata": {},
     "output_type": "execute_result"
    },
    {
     "data": {
      "image/png": "[encoded data removed]",
      "text/plain": [
       "<Figure size 432x288 with 1 Axes>"
      ]
     },
     "metadata": {
      "needs_background": "light"
     },
     "output_type": "display_data"
    }
   ],
   "source": [
    "orderlist = tmp[tmp['coupon_ind']==1].sort_values(by='rate', ascending=False)['job'].tolist()\n",
    "sns.barplot(y='job', x='rate', data=tmp[tmp['coupon_ind']==1], order=orderlist)\n",
    "plt.title('不同职业用户的优惠券使用率')\n",
    "# plt.legend(['未使用优惠券','使用优惠券'])"
   ]
  },
  {
   "cell_type": "markdown",
   "metadata": {},
   "source": [
    "- 在所有职业中，blue-collar的用户最多，其次是management, technician, admin, services\n",
    "- 使用了优惠券的用户中，management的用户最多，其次是technician, blue-collar, admin, services\n",
    "- 但是在各个职业群体中，优惠券使用率最高的是学生、退休人员、无业、管理人员、行政人员"
   ]
  },
  {
   "cell_type": "markdown",
   "metadata": {},
   "source": [
    "- 可以适当合并类别，这样使得后续建模的时候减少参数的数量"
   ]
  },
  {
   "cell_type": "markdown",
   "metadata": {},
   "source": [
    "### 不同婚姻状态的用户的优惠券使用情况"
   ]
  },
  {
   "cell_type": "code",
   "execution_count": 1040,
   "metadata": {},
   "outputs": [
    {
     "data": {
      "text/plain": [
       "married     15035\n",
       "single       7148\n",
       "divorced     2850\n",
       "Name: marital, dtype: int64"
      ]
     },
     "execution_count": 1040,
     "metadata": {},
     "output_type": "execute_result"
    }
   ],
   "source": [
    "pdd['marital'].value_counts()"
   ]
  },
  {
   "cell_type": "code",
   "execution_count": 1041,
   "metadata": {},
   "outputs": [
    {
     "data": {
      "text/plain": [
       "Text(0.5, 1.0, '不同婚姻状态的用户数量')"
      ]
     },
     "execution_count": 1041,
     "metadata": {},
     "output_type": "execute_result"
    },
    {
     "data": {
      "image/png": "[encoded data removed]",
      "text/plain": [
       "<Figure size 432x288 with 1 Axes>"
      ]
     },
     "metadata": {
      "needs_background": "light"
     },
     "output_type": "display_data"
    }
   ],
   "source": [
    "\n",
    "sns.countplot(x='marital',data=pdd, order=pdd['marital'].value_counts().sort_values(ascending=False).index)\n",
    "plt.title('不同婚姻状态的用户数量')"
   ]
  },
  {
   "cell_type": "code",
   "execution_count": 1042,
   "metadata": {},
   "outputs": [
    {
     "data": {
      "text/plain": [
       "<matplotlib.legend.Legend at 0x1acaaf56e48>"
      ]
     },
     "execution_count": 1042,
     "metadata": {},
     "output_type": "execute_result"
    },
    {
     "data": {
      "image/png": "[encoded data removed]",
      "text/plain": [
       "<Figure size 432x288 with 1 Axes>"
      ]
     },
     "metadata": {
      "needs_background": "light"
     },
     "output_type": "display_data"
    }
   ],
   "source": [
    "sns.countplot(x='marital',hue='coupon_ind', data=pdd, order=pdd['marital'].value_counts().sort_values(ascending=False).index)\n",
    "plt.title('不同婚姻状态的用户的优惠券使用情况')\n",
    "plt.legend(['未使用优惠券','使用优惠券'])"
   ]
  },
  {
   "cell_type": "code",
   "execution_count": 1043,
   "metadata": {},
   "outputs": [
    {
     "data": {
      "text/html": [
       "<div>\n",
       "<style scoped>\n",
       "    .dataframe tbody tr th:only-of-type {\n",
       "        vertical-align: middle;\n",
       "    }\n",
       "\n",
       "    .dataframe tbody tr th {\n",
       "        vertical-align: top;\n",
       "    }\n",
       "\n",
       "    .dataframe thead th {\n",
       "        text-align: right;\n",
       "    }\n",
       "</style>\n",
       "<table border=\"1\" class=\"dataframe\">\n",
       "  <thead>\n",
       "    <tr style=\"text-align: right;\">\n",
       "      <th></th>\n",
       "      <th>marital</th>\n",
       "      <th>coupon_ind</th>\n",
       "      <th>rate</th>\n",
       "    </tr>\n",
       "  </thead>\n",
       "  <tbody>\n",
       "    <tr>\n",
       "      <th>5</th>\n",
       "      <td>single</td>\n",
       "      <td>1</td>\n",
       "      <td>0.146335</td>\n",
       "    </tr>\n",
       "    <tr>\n",
       "      <th>1</th>\n",
       "      <td>divorced</td>\n",
       "      <td>1</td>\n",
       "      <td>0.111228</td>\n",
       "    </tr>\n",
       "    <tr>\n",
       "      <th>3</th>\n",
       "      <td>married</td>\n",
       "      <td>1</td>\n",
       "      <td>0.097639</td>\n",
       "    </tr>\n",
       "  </tbody>\n",
       "</table>\n",
       "</div>"
      ],
      "text/plain": [
       "    marital  coupon_ind      rate\n",
       "5    single           1  0.146335\n",
       "1  divorced           1  0.111228\n",
       "3   married           1  0.097639"
      ]
     },
     "execution_count": 1043,
     "metadata": {},
     "output_type": "execute_result"
    }
   ],
   "source": [
    "tmp = pd.DataFrame(pdd.groupby(['marital'])['coupon_ind'].value_counts(1))\n",
    "tmp = tmp.rename(columns={'coupon_ind':'rate'}).reset_index()\n",
    "tmp[tmp['coupon_ind']==1].sort_values(by='rate', ascending=False)"
   ]
  },
  {
   "cell_type": "code",
   "execution_count": 1044,
   "metadata": {},
   "outputs": [
    {
     "data": {
      "text/plain": [
       "Text(0.5, 1.0, '不同婚姻状态用户的优惠券使用率')"
      ]
     },
     "execution_count": 1044,
     "metadata": {},
     "output_type": "execute_result"
    },
    {
     "data": {
      "image/png": "[encoded data removed]",
      "text/plain": [
       "<Figure size 432x288 with 1 Axes>"
      ]
     },
     "metadata": {
      "needs_background": "light"
     },
     "output_type": "display_data"
    }
   ],
   "source": [
    "orderlist = tmp[tmp['coupon_ind']==1].sort_values(by='rate', ascending=False)['marital'].tolist()\n",
    "sns.barplot(x='marital', y='rate', data=tmp[tmp['coupon_ind']==1], order=orderlist)\n",
    "plt.title('不同婚姻状态用户的优惠券使用率')\n"
   ]
  },
  {
   "cell_type": "markdown",
   "metadata": {},
   "source": [
    "- 在所有用户中，已婚用户数量最多\n",
    "- 单身用户的优惠券使用率最高（14.6%）"
   ]
  },
  {
   "cell_type": "markdown",
   "metadata": {},
   "source": [
    "### 信用卡是否违约的用户的优惠券使用情况"
   ]
  },
  {
   "cell_type": "code",
   "execution_count": 1045,
   "metadata": {},
   "outputs": [
    {
     "data": {
      "text/plain": [
       "no     0.982144\n",
       "yes    0.017856\n",
       "Name: default, dtype: float64"
      ]
     },
     "execution_count": 1045,
     "metadata": {},
     "output_type": "execute_result"
    }
   ],
   "source": [
    "pdd['default'].value_counts(1)"
   ]
  },
  {
   "cell_type": "code",
   "execution_count": 1046,
   "metadata": {},
   "outputs": [
    {
     "data": {
      "text/plain": [
       "Text(0.5, 1.0, '信用卡是否违约的用户数量')"
      ]
     },
     "execution_count": 1046,
     "metadata": {},
     "output_type": "execute_result"
    },
    {
     "data": {
      "image/png": "[encoded data removed]",
      "text/plain": [
       "<Figure size 432x288 with 1 Axes>"
      ]
     },
     "metadata": {
      "needs_background": "light"
     },
     "output_type": "display_data"
    }
   ],
   "source": [
    "sns.countplot(x='default',data=pdd, order=pdd['default'].value_counts().sort_values(ascending=False).index)\n",
    "plt.title('信用卡是否违约的用户数量')"
   ]
  },
  {
   "cell_type": "code",
   "execution_count": 1047,
   "metadata": {},
   "outputs": [
    {
     "data": {
      "text/plain": [
       "<matplotlib.legend.Legend at 0x1acab128940>"
      ]
     },
     "execution_count": 1047,
     "metadata": {},
     "output_type": "execute_result"
    },
    {
     "data": {
      "image/png": "[encoded data removed]",
      "text/plain": [
       "<Figure size 432x288 with 1 Axes>"
      ]
     },
     "metadata": {
      "needs_background": "light"
     },
     "output_type": "display_data"
    }
   ],
   "source": [
    "sns.countplot(x='default', hue='coupon_ind', data=pdd)\n",
    "plt.title('信用卡是否违约的用户的优惠券使用情况')\n",
    "plt.legend(['未使用优惠券','使用优惠券'])"
   ]
  },
  {
   "cell_type": "code",
   "execution_count": 1048,
   "metadata": {},
   "outputs": [
    {
     "data": {
      "text/html": [
       "<div>\n",
       "<style scoped>\n",
       "    .dataframe tbody tr th:only-of-type {\n",
       "        vertical-align: middle;\n",
       "    }\n",
       "\n",
       "    .dataframe tbody tr th {\n",
       "        vertical-align: top;\n",
       "    }\n",
       "\n",
       "    .dataframe thead th {\n",
       "        text-align: right;\n",
       "    }\n",
       "</style>\n",
       "<table border=\"1\" class=\"dataframe\">\n",
       "  <thead>\n",
       "    <tr style=\"text-align: right;\">\n",
       "      <th></th>\n",
       "      <th>default</th>\n",
       "      <th>coupon_ind</th>\n",
       "      <th>rate</th>\n",
       "    </tr>\n",
       "  </thead>\n",
       "  <tbody>\n",
       "    <tr>\n",
       "      <th>1</th>\n",
       "      <td>no</td>\n",
       "      <td>1</td>\n",
       "      <td>0.114130</td>\n",
       "    </tr>\n",
       "    <tr>\n",
       "      <th>3</th>\n",
       "      <td>yes</td>\n",
       "      <td>1</td>\n",
       "      <td>0.055928</td>\n",
       "    </tr>\n",
       "  </tbody>\n",
       "</table>\n",
       "</div>"
      ],
      "text/plain": [
       "  default  coupon_ind      rate\n",
       "1      no           1  0.114130\n",
       "3     yes           1  0.055928"
      ]
     },
     "execution_count": 1048,
     "metadata": {},
     "output_type": "execute_result"
    }
   ],
   "source": [
    "tmp = pd.DataFrame(pdd.groupby(['default'])['coupon_ind'].value_counts(1))\n",
    "tmp = tmp.rename(columns={'coupon_ind':'rate'}).reset_index()\n",
    "tmp[tmp['coupon_ind']==1].sort_values(by='rate', ascending=False)"
   ]
  },
  {
   "cell_type": "code",
   "execution_count": 1049,
   "metadata": {},
   "outputs": [
    {
     "data": {
      "text/plain": [
       "Text(0.5, 1.0, '信用卡是否违约用户的优惠券使用率')"
      ]
     },
     "execution_count": 1049,
     "metadata": {},
     "output_type": "execute_result"
    },
    {
     "data": {
      "image/png": "[encoded data removed]",
      "text/plain": [
       "<Figure size 432x288 with 1 Axes>"
      ]
     },
     "metadata": {
      "needs_background": "light"
     },
     "output_type": "display_data"
    }
   ],
   "source": [
    "orderlist = tmp[tmp['coupon_ind']==1].sort_values(by='rate', ascending=False)['default'].tolist()\n",
    "sns.barplot(x='default', y='rate', data=tmp[tmp['coupon_ind']==1], order=orderlist)\n",
    "plt.title('信用卡是否违约用户的优惠券使用率')\n"
   ]
  },
  {
   "cell_type": "markdown",
   "metadata": {},
   "source": [
    "- 只有少数用户信用卡违约\n",
    "- 没有信用卡违约的用户的优惠券使用率为11.4%"
   ]
  },
  {
   "cell_type": "markdown",
   "metadata": {},
   "source": [
    "### 是否退货的用户的优惠券使用情况"
   ]
  },
  {
   "cell_type": "code",
   "execution_count": 1050,
   "metadata": {},
   "outputs": [
    {
     "data": {
      "text/plain": [
       "yes    14014\n",
       "no     11019\n",
       "Name: returned, dtype: int64"
      ]
     },
     "execution_count": 1050,
     "metadata": {},
     "output_type": "execute_result"
    }
   ],
   "source": [
    "pdd['returned'].value_counts()"
   ]
  },
  {
   "cell_type": "code",
   "execution_count": 1051,
   "metadata": {},
   "outputs": [
    {
     "data": {
      "text/plain": [
       "Text(0.5, 1.0, '是否退货用户的数量')"
      ]
     },
     "execution_count": 1051,
     "metadata": {},
     "output_type": "execute_result"
    },
    {
     "data": {
      "image/png": "[encoded data removed]",
      "text/plain": [
       "<Figure size 432x288 with 1 Axes>"
      ]
     },
     "metadata": {
      "needs_background": "light"
     },
     "output_type": "display_data"
    }
   ],
   "source": [
    "sns.countplot(x='returned',data=pdd, order=pdd['default'].value_counts().sort_values(ascending=False).index)\n",
    "plt.title('是否退货用户的数量')"
   ]
  },
  {
   "cell_type": "code",
   "execution_count": 1052,
   "metadata": {},
   "outputs": [
    {
     "data": {
      "text/plain": [
       "<matplotlib.legend.Legend at 0x1acab233c18>"
      ]
     },
     "execution_count": 1052,
     "metadata": {},
     "output_type": "execute_result"
    },
    {
     "data": {
      "image/png": "[encoded data removed]",
      "text/plain": [
       "<Figure size 432x288 with 1 Axes>"
      ]
     },
     "metadata": {
      "needs_background": "light"
     },
     "output_type": "display_data"
    }
   ],
   "source": [
    "sns.countplot(x='returned', hue='coupon_ind', data=pdd)\n",
    "plt.title('是否退货的用户的优惠券使用情况')\n",
    "plt.legend(['未使用优惠券','使用优惠券'])"
   ]
  },
  {
   "cell_type": "code",
   "execution_count": 1053,
   "metadata": {},
   "outputs": [
    {
     "data": {
      "text/html": [
       "<div>\n",
       "<style scoped>\n",
       "    .dataframe tbody tr th:only-of-type {\n",
       "        vertical-align: middle;\n",
       "    }\n",
       "\n",
       "    .dataframe tbody tr th {\n",
       "        vertical-align: top;\n",
       "    }\n",
       "\n",
       "    .dataframe thead th {\n",
       "        text-align: right;\n",
       "    }\n",
       "</style>\n",
       "<table border=\"1\" class=\"dataframe\">\n",
       "  <thead>\n",
       "    <tr style=\"text-align: right;\">\n",
       "      <th></th>\n",
       "      <th>returned</th>\n",
       "      <th>coupon_ind</th>\n",
       "      <th>rate</th>\n",
       "    </tr>\n",
       "  </thead>\n",
       "  <tbody>\n",
       "    <tr>\n",
       "      <th>1</th>\n",
       "      <td>no</td>\n",
       "      <td>1</td>\n",
       "      <td>0.161358</td>\n",
       "    </tr>\n",
       "    <tr>\n",
       "      <th>3</th>\n",
       "      <td>yes</td>\n",
       "      <td>1</td>\n",
       "      <td>0.075139</td>\n",
       "    </tr>\n",
       "  </tbody>\n",
       "</table>\n",
       "</div>"
      ],
      "text/plain": [
       "  returned  coupon_ind      rate\n",
       "1       no           1  0.161358\n",
       "3      yes           1  0.075139"
      ]
     },
     "execution_count": 1053,
     "metadata": {},
     "output_type": "execute_result"
    }
   ],
   "source": [
    "tmp = pd.DataFrame(pdd.groupby(['returned'])['coupon_ind'].value_counts(1))\n",
    "tmp = tmp.rename(columns={'coupon_ind':'rate'}).reset_index()\n",
    "tmp[tmp['coupon_ind']==1].sort_values(by='rate', ascending=False)"
   ]
  },
  {
   "cell_type": "code",
   "execution_count": 1054,
   "metadata": {},
   "outputs": [
    {
     "data": {
      "text/plain": [
       "Text(0.5, 1.0, '是否退货用户的优惠券使用率')"
      ]
     },
     "execution_count": 1054,
     "metadata": {},
     "output_type": "execute_result"
    },
    {
     "data": {
      "image/png": "[encoded data removed]",
      "text/plain": [
       "<Figure size 432x288 with 1 Axes>"
      ]
     },
     "metadata": {
      "needs_background": "light"
     },
     "output_type": "display_data"
    }
   ],
   "source": [
    "orderlist = tmp[tmp['coupon_ind']==1].sort_values(by='rate', ascending=False)['returned'].tolist()\n",
    "sns.barplot(x='returned', y='rate', data=tmp[tmp['coupon_ind']==1], order=orderlist)\n",
    "plt.title('是否退货用户的优惠券使用率')\n"
   ]
  },
  {
   "cell_type": "markdown",
   "metadata": {},
   "source": [
    "- 退货的用户较多\n",
    "- 未退货的用户使用优惠券使用率（16.1%）比退货的用户（7.5%）要高"
   ]
  },
  {
   "cell_type": "markdown",
   "metadata": {},
   "source": [
    "### 是否使用信用卡付款的用户的优惠券使用情况"
   ]
  },
  {
   "cell_type": "code",
   "execution_count": 1055,
   "metadata": {},
   "outputs": [
    {
     "data": {
      "text/plain": [
       "no     20976\n",
       "yes     4057\n",
       "Name: loan, dtype: int64"
      ]
     },
     "execution_count": 1055,
     "metadata": {},
     "output_type": "execute_result"
    }
   ],
   "source": [
    "pdd['loan'].value_counts()"
   ]
  },
  {
   "cell_type": "code",
   "execution_count": 1056,
   "metadata": {},
   "outputs": [
    {
     "data": {
      "text/plain": [
       "Text(0.5, 1.0, '是否使用信用卡付款用户的数量')"
      ]
     },
     "execution_count": 1056,
     "metadata": {},
     "output_type": "execute_result"
    },
    {
     "data": {
      "image/png": "[encoded data removed]",
      "text/plain": [
       "<Figure size 432x288 with 1 Axes>"
      ]
     },
     "metadata": {
      "needs_background": "light"
     },
     "output_type": "display_data"
    }
   ],
   "source": [
    "sns.countplot(x='loan',data=pdd, order=pdd['default'].value_counts().sort_values(ascending=False).index)\n",
    "plt.title('是否使用信用卡付款用户的数量')"
   ]
  },
  {
   "cell_type": "code",
   "execution_count": 1057,
   "metadata": {},
   "outputs": [
    {
     "data": {
      "text/plain": [
       "<matplotlib.legend.Legend at 0x1acab363c18>"
      ]
     },
     "execution_count": 1057,
     "metadata": {},
     "output_type": "execute_result"
    },
    {
     "data": {
      "image/png": "[encoded data removed]",
      "text/plain": [
       "<Figure size 432x288 with 1 Axes>"
      ]
     },
     "metadata": {
      "needs_background": "light"
     },
     "output_type": "display_data"
    }
   ],
   "source": [
    "sns.countplot(x='loan', hue='coupon_ind', data=pdd)\n",
    "plt.title('是否使用信用卡付款的用户的优惠券使用情况')\n",
    "plt.legend(['未使用优惠券','使用优惠券'])"
   ]
  },
  {
   "cell_type": "code",
   "execution_count": 1058,
   "metadata": {},
   "outputs": [
    {
     "data": {
      "text/html": [
       "<div>\n",
       "<style scoped>\n",
       "    .dataframe tbody tr th:only-of-type {\n",
       "        vertical-align: middle;\n",
       "    }\n",
       "\n",
       "    .dataframe tbody tr th {\n",
       "        vertical-align: top;\n",
       "    }\n",
       "\n",
       "    .dataframe thead th {\n",
       "        text-align: right;\n",
       "    }\n",
       "</style>\n",
       "<table border=\"1\" class=\"dataframe\">\n",
       "  <thead>\n",
       "    <tr style=\"text-align: right;\">\n",
       "      <th></th>\n",
       "      <th>loan</th>\n",
       "      <th>coupon_ind</th>\n",
       "      <th>rate</th>\n",
       "    </tr>\n",
       "  </thead>\n",
       "  <tbody>\n",
       "    <tr>\n",
       "      <th>1</th>\n",
       "      <td>no</td>\n",
       "      <td>1</td>\n",
       "      <td>0.121663</td>\n",
       "    </tr>\n",
       "    <tr>\n",
       "      <th>3</th>\n",
       "      <td>yes</td>\n",
       "      <td>1</td>\n",
       "      <td>0.068770</td>\n",
       "    </tr>\n",
       "  </tbody>\n",
       "</table>\n",
       "</div>"
      ],
      "text/plain": [
       "  loan  coupon_ind      rate\n",
       "1   no           1  0.121663\n",
       "3  yes           1  0.068770"
      ]
     },
     "execution_count": 1058,
     "metadata": {},
     "output_type": "execute_result"
    }
   ],
   "source": [
    "tmp = pd.DataFrame(pdd.groupby(['loan'])['coupon_ind'].value_counts(1))\n",
    "tmp = tmp.rename(columns={'coupon_ind':'rate'}).reset_index()\n",
    "tmp[tmp['coupon_ind']==1].sort_values(by='rate', ascending=False)"
   ]
  },
  {
   "cell_type": "code",
   "execution_count": 1059,
   "metadata": {},
   "outputs": [
    {
     "data": {
      "text/plain": [
       "Text(0.5, 1.0, '是否使用信用卡付款用户的优惠券使用率')"
      ]
     },
     "execution_count": 1059,
     "metadata": {},
     "output_type": "execute_result"
    },
    {
     "data": {
      "image/png": "[encoded data removed]",
      "text/plain": [
       "<Figure size 432x288 with 1 Axes>"
      ]
     },
     "metadata": {
      "needs_background": "light"
     },
     "output_type": "display_data"
    }
   ],
   "source": [
    "orderlist = tmp[tmp['coupon_ind']==1].sort_values(by='rate', ascending=False)['loan'].tolist()\n",
    "sns.barplot(x='loan', y='rate', data=tmp[tmp['coupon_ind']==1], order=orderlist)\n",
    "plt.title('是否使用信用卡付款用户的优惠券使用率')\n"
   ]
  },
  {
   "cell_type": "markdown",
   "metadata": {},
   "source": [
    "- 大部分用户不使用信用卡付款\n",
    "- 不使用信用卡付款的用户的优惠券使用率（12.2%）比使用信用卡付款（6.9%）的高"
   ]
  },
  {
   "cell_type": "markdown",
   "metadata": {},
   "source": [
    "# 数据预处理"
   ]
  },
  {
   "cell_type": "markdown",
   "metadata": {},
   "source": [
    "## 年龄分箱"
   ]
  },
  {
   "cell_type": "markdown",
   "metadata": {},
   "source": [
    "- 之前再对年龄进行探索的时候使用过分箱，但是那个分箱是比较细的\n",
    "- 对于建模来说可以不用那么细，这样可以减少需要建模的变量，也便于做模型解释"
   ]
  },
  {
   "cell_type": "code",
   "execution_count": 1060,
   "metadata": {},
   "outputs": [
    {
     "data": {
      "text/plain": [
       "count    25033.000000\n",
       "mean        40.528902\n",
       "std          9.968850\n",
       "min         18.000000\n",
       "25%         32.000000\n",
       "50%         39.000000\n",
       "75%         48.000000\n",
       "max         70.000000\n",
       "Name: age, dtype: float64"
      ]
     },
     "execution_count": 1060,
     "metadata": {},
     "output_type": "execute_result"
    }
   ],
   "source": [
    "pdd['age'].describe()"
   ]
  },
  {
   "cell_type": "code",
   "execution_count": 1061,
   "metadata": {},
   "outputs": [],
   "source": [
    "bins = [0, 25, 45, 65, 100]\n",
    "labels = ['<25', '25-45', '45-65', '>65']\n",
    "pdd['age_clean'] = pd.cut(pdd['age'], bins, labels=labels, right=False)"
   ]
  },
  {
   "cell_type": "markdown",
   "metadata": {},
   "source": [
    "## 过去6个月优惠券使用情况分箱"
   ]
  },
  {
   "cell_type": "code",
   "execution_count": 1062,
   "metadata": {},
   "outputs": [
    {
     "data": {
      "text/plain": [
       "count    25033.000000\n",
       "mean         2.779171\n",
       "std          3.146620\n",
       "min          1.000000\n",
       "25%          1.000000\n",
       "50%          2.000000\n",
       "75%          3.000000\n",
       "max         55.000000\n",
       "Name: coupon_used_in_last6_month, dtype: float64"
      ]
     },
     "execution_count": 1062,
     "metadata": {},
     "output_type": "execute_result"
    }
   ],
   "source": [
    "pdd['coupon_used_in_last6_month'].describe()"
   ]
  },
  {
   "cell_type": "markdown",
   "metadata": {},
   "source": [
    "- 这个变量分布较为离散，考虑将其分箱"
   ]
  },
  {
   "cell_type": "code",
   "execution_count": 1063,
   "metadata": {},
   "outputs": [
    {
     "data": {
      "text/plain": [
       "1     9685\n",
       "2     6937\n",
       "3     3064\n",
       "4     1944\n",
       "5      976\n",
       "6      719\n",
       "7      404\n",
       "8      301\n",
       "9      182\n",
       "10     149\n",
       "11     111\n",
       "12      80\n",
       "13      62\n",
       "16      52\n",
       "14      50\n",
       "17      48\n",
       "15      44\n",
       "18      30\n",
       "19      26\n",
       "20      23\n",
       "21      21\n",
       "23      17\n",
       "25      12\n",
       "22      12\n",
       "29      12\n",
       "24      10\n",
       "31       8\n",
       "26       8\n",
       "28       7\n",
       "27       7\n",
       "32       7\n",
       "36       4\n",
       "34       4\n",
       "30       4\n",
       "33       3\n",
       "43       2\n",
       "50       2\n",
       "44       1\n",
       "51       1\n",
       "35       1\n",
       "37       1\n",
       "55       1\n",
       "41       1\n",
       "Name: coupon_used_in_last6_month, dtype: int64"
      ]
     },
     "execution_count": 1063,
     "metadata": {},
     "output_type": "execute_result"
    }
   ],
   "source": [
    "pdd['coupon_used_in_last6_month'].value_counts()"
   ]
  },
  {
   "cell_type": "markdown",
   "metadata": {},
   "source": [
    "- 看了一下这个分布，初步把这个变量分为0-5，6-20，21-41"
   ]
  },
  {
   "cell_type": "code",
   "execution_count": 1064,
   "metadata": {},
   "outputs": [],
   "source": [
    "bins = [0, 6, 21, 42]\n",
    "pdd['c6'] = pd.cut(pdd['coupon_used_in_last6_month'], bins, labels=['low', 'middle', 'high'])"
   ]
  },
  {
   "cell_type": "markdown",
   "metadata": {},
   "source": [
    "## 过去1个月优惠券使用情况分箱"
   ]
  },
  {
   "cell_type": "code",
   "execution_count": 1065,
   "metadata": {},
   "outputs": [
    {
     "data": {
      "text/plain": [
       "count    25033.000000\n",
       "mean         0.289498\n",
       "std          0.763161\n",
       "min          0.000000\n",
       "25%          0.000000\n",
       "50%          0.000000\n",
       "75%          0.000000\n",
       "max         15.000000\n",
       "Name: coupon_used_in_last_month, dtype: float64"
      ]
     },
     "execution_count": 1065,
     "metadata": {},
     "output_type": "execute_result"
    }
   ],
   "source": [
    "pdd['coupon_used_in_last_month'].describe()"
   ]
  },
  {
   "cell_type": "code",
   "execution_count": 1066,
   "metadata": {},
   "outputs": [
    {
     "data": {
      "text/plain": [
       "<matplotlib.axes._subplots.AxesSubplot at 0x1aca8fb1438>"
      ]
     },
     "execution_count": 1066,
     "metadata": {},
     "output_type": "execute_result"
    },
    {
     "data": {
      "image/png": "[encoded data removed]",
      "text/plain": [
       "<Figure size 432x288 with 1 Axes>"
      ]
     },
     "metadata": {
      "needs_background": "light"
     },
     "output_type": "display_data"
    }
   ],
   "source": [
    "sns.distplot(pdd['coupon_used_in_last_month'])"
   ]
  },
  {
   "cell_type": "code",
   "execution_count": 1067,
   "metadata": {},
   "outputs": [],
   "source": [
    "bins = [0, 1, 2, 3, 15]\n",
    "labels = ['0', '1', '2', '>2']\n",
    "pdd['c1'] = pd.cut(pdd['coupon_used_in_last_month'], bins, labels=labels, right=False)"
   ]
  },
  {
   "cell_type": "markdown",
   "metadata": {},
   "source": [
    "## 职业减少类别"
   ]
  },
  {
   "cell_type": "code",
   "execution_count": 1068,
   "metadata": {},
   "outputs": [
    {
     "data": {
      "text/html": [
       "<div>\n",
       "<style scoped>\n",
       "    .dataframe tbody tr th:only-of-type {\n",
       "        vertical-align: middle;\n",
       "    }\n",
       "\n",
       "    .dataframe tbody tr th {\n",
       "        vertical-align: top;\n",
       "    }\n",
       "\n",
       "    .dataframe thead th {\n",
       "        text-align: right;\n",
       "    }\n",
       "</style>\n",
       "<table border=\"1\" class=\"dataframe\">\n",
       "  <thead>\n",
       "    <tr style=\"text-align: right;\">\n",
       "      <th></th>\n",
       "      <th>job</th>\n",
       "      <th>coupon_ind</th>\n",
       "      <th>rate</th>\n",
       "    </tr>\n",
       "  </thead>\n",
       "  <tbody>\n",
       "    <tr>\n",
       "      <th>17</th>\n",
       "      <td>student</td>\n",
       "      <td>1</td>\n",
       "      <td>0.268293</td>\n",
       "    </tr>\n",
       "    <tr>\n",
       "      <th>11</th>\n",
       "      <td>retired</td>\n",
       "      <td>1</td>\n",
       "      <td>0.178363</td>\n",
       "    </tr>\n",
       "    <tr>\n",
       "      <th>21</th>\n",
       "      <td>unemployed</td>\n",
       "      <td>1</td>\n",
       "      <td>0.162625</td>\n",
       "    </tr>\n",
       "    <tr>\n",
       "      <th>9</th>\n",
       "      <td>management</td>\n",
       "      <td>1</td>\n",
       "      <td>0.138453</td>\n",
       "    </tr>\n",
       "    <tr>\n",
       "      <th>1</th>\n",
       "      <td>admin.</td>\n",
       "      <td>1</td>\n",
       "      <td>0.116999</td>\n",
       "    </tr>\n",
       "    <tr>\n",
       "      <th>13</th>\n",
       "      <td>self-employed</td>\n",
       "      <td>1</td>\n",
       "      <td>0.116913</td>\n",
       "    </tr>\n",
       "    <tr>\n",
       "      <th>23</th>\n",
       "      <td>unknown</td>\n",
       "      <td>1</td>\n",
       "      <td>0.113924</td>\n",
       "    </tr>\n",
       "    <tr>\n",
       "      <th>19</th>\n",
       "      <td>technician</td>\n",
       "      <td>1</td>\n",
       "      <td>0.113234</td>\n",
       "    </tr>\n",
       "    <tr>\n",
       "      <th>15</th>\n",
       "      <td>services</td>\n",
       "      <td>1</td>\n",
       "      <td>0.090094</td>\n",
       "    </tr>\n",
       "    <tr>\n",
       "      <th>7</th>\n",
       "      <td>housemaid</td>\n",
       "      <td>1</td>\n",
       "      <td>0.081538</td>\n",
       "    </tr>\n",
       "    <tr>\n",
       "      <th>5</th>\n",
       "      <td>entrepreneur</td>\n",
       "      <td>1</td>\n",
       "      <td>0.078363</td>\n",
       "    </tr>\n",
       "    <tr>\n",
       "      <th>3</th>\n",
       "      <td>blue-collar</td>\n",
       "      <td>1</td>\n",
       "      <td>0.070944</td>\n",
       "    </tr>\n",
       "  </tbody>\n",
       "</table>\n",
       "</div>"
      ],
      "text/plain": [
       "              job  coupon_ind      rate\n",
       "17        student           1  0.268293\n",
       "11        retired           1  0.178363\n",
       "21     unemployed           1  0.162625\n",
       "9      management           1  0.138453\n",
       "1          admin.           1  0.116999\n",
       "13  self-employed           1  0.116913\n",
       "23        unknown           1  0.113924\n",
       "19     technician           1  0.113234\n",
       "15       services           1  0.090094\n",
       "7       housemaid           1  0.081538\n",
       "5    entrepreneur           1  0.078363\n",
       "3     blue-collar           1  0.070944"
      ]
     },
     "execution_count": 1068,
     "metadata": {},
     "output_type": "execute_result"
    }
   ],
   "source": [
    "tmp = pd.DataFrame(pdd.groupby(['job'])['coupon_ind'].value_counts(1))\n",
    "tmp = tmp.rename(columns={'coupon_ind':'rate'}).reset_index()\n",
    "tmp[tmp['coupon_ind']==1].sort_values(by='rate', ascending=False)\n"
   ]
  },
  {
   "cell_type": "code",
   "execution_count": 1069,
   "metadata": {},
   "outputs": [
    {
     "data": {
      "text/plain": [
       "Text(0.5, 1.0, '不同职业用户的优惠券使用率')"
      ]
     },
     "execution_count": 1069,
     "metadata": {},
     "output_type": "execute_result"
    },
    {
     "data": {
      "image/png": "[encoded data removed]",
      "text/plain": [
       "<Figure size 432x288 with 1 Axes>"
      ]
     },
     "metadata": {
      "needs_background": "light"
     },
     "output_type": "display_data"
    }
   ],
   "source": [
    "orderlist = tmp[tmp['coupon_ind']==1].sort_values(by='rate', ascending=False)['job'].tolist()\n",
    "sns.barplot(y='job', x='rate', data=tmp[tmp['coupon_ind']==1], order=orderlist)\n",
    "plt.title('不同职业用户的优惠券使用率')\n",
    "# plt.legend(['未使用优惠券','使用优惠券'])"
   ]
  },
  {
   "cell_type": "markdown",
   "metadata": {},
   "source": [
    "- 数据集包含的职业类型较多，为了方便后续建模，可以将相似的职业合并成一个类型\n",
    "- 根据各个职业的优惠券使用率，初步将student,retired,unemployed合并为低收入群体，management,admin,self-employed,unknown,technician合并为中高收入群体，services,housemaid合并为中等收入群体，entrepreneur,blue-collar合并为高收入群体"
   ]
  },
  {
   "cell_type": "code",
   "execution_count": 1070,
   "metadata": {},
   "outputs": [
    {
     "data": {
      "text/html": [
       "<div>\n",
       "<style scoped>\n",
       "    .dataframe tbody tr th:only-of-type {\n",
       "        vertical-align: middle;\n",
       "    }\n",
       "\n",
       "    .dataframe tbody tr th {\n",
       "        vertical-align: top;\n",
       "    }\n",
       "\n",
       "    .dataframe thead th {\n",
       "        text-align: right;\n",
       "    }\n",
       "</style>\n",
       "<table border=\"1\" class=\"dataframe\">\n",
       "  <thead>\n",
       "    <tr style=\"text-align: right;\">\n",
       "      <th></th>\n",
       "      <th>ID</th>\n",
       "      <th>age</th>\n",
       "      <th>job</th>\n",
       "      <th>marital</th>\n",
       "      <th>default</th>\n",
       "      <th>returned</th>\n",
       "      <th>loan</th>\n",
       "      <th>coupon_used_in_last6_month</th>\n",
       "      <th>coupon_used_in_last_month</th>\n",
       "      <th>coupon_ind</th>\n",
       "      <th>age_clean</th>\n",
       "      <th>c6</th>\n",
       "      <th>c1</th>\n",
       "      <th>job_clean</th>\n",
       "    </tr>\n",
       "  </thead>\n",
       "  <tbody>\n",
       "    <tr>\n",
       "      <th>0</th>\n",
       "      <td>1</td>\n",
       "      <td>43</td>\n",
       "      <td>management</td>\n",
       "      <td>married</td>\n",
       "      <td>no</td>\n",
       "      <td>yes</td>\n",
       "      <td>no</td>\n",
       "      <td>2</td>\n",
       "      <td>0</td>\n",
       "      <td>0</td>\n",
       "      <td>25-45</td>\n",
       "      <td>low</td>\n",
       "      <td>0</td>\n",
       "      <td>middle-high</td>\n",
       "    </tr>\n",
       "    <tr>\n",
       "      <th>1</th>\n",
       "      <td>2</td>\n",
       "      <td>42</td>\n",
       "      <td>technician</td>\n",
       "      <td>divorced</td>\n",
       "      <td>no</td>\n",
       "      <td>yes</td>\n",
       "      <td>no</td>\n",
       "      <td>1</td>\n",
       "      <td>1</td>\n",
       "      <td>0</td>\n",
       "      <td>25-45</td>\n",
       "      <td>low</td>\n",
       "      <td>1</td>\n",
       "      <td>middle-high</td>\n",
       "    </tr>\n",
       "    <tr>\n",
       "      <th>2</th>\n",
       "      <td>3</td>\n",
       "      <td>47</td>\n",
       "      <td>admin.</td>\n",
       "      <td>married</td>\n",
       "      <td>no</td>\n",
       "      <td>yes</td>\n",
       "      <td>yes</td>\n",
       "      <td>2</td>\n",
       "      <td>0</td>\n",
       "      <td>0</td>\n",
       "      <td>45-65</td>\n",
       "      <td>low</td>\n",
       "      <td>0</td>\n",
       "      <td>middle-high</td>\n",
       "    </tr>\n",
       "    <tr>\n",
       "      <th>3</th>\n",
       "      <td>4</td>\n",
       "      <td>28</td>\n",
       "      <td>management</td>\n",
       "      <td>single</td>\n",
       "      <td>no</td>\n",
       "      <td>yes</td>\n",
       "      <td>yes</td>\n",
       "      <td>2</td>\n",
       "      <td>0</td>\n",
       "      <td>0</td>\n",
       "      <td>25-45</td>\n",
       "      <td>low</td>\n",
       "      <td>0</td>\n",
       "      <td>middle-high</td>\n",
       "    </tr>\n",
       "    <tr>\n",
       "      <th>4</th>\n",
       "      <td>5</td>\n",
       "      <td>42</td>\n",
       "      <td>technician</td>\n",
       "      <td>divorced</td>\n",
       "      <td>no</td>\n",
       "      <td>yes</td>\n",
       "      <td>no</td>\n",
       "      <td>5</td>\n",
       "      <td>0</td>\n",
       "      <td>0</td>\n",
       "      <td>25-45</td>\n",
       "      <td>low</td>\n",
       "      <td>0</td>\n",
       "      <td>middle-high</td>\n",
       "    </tr>\n",
       "    <tr>\n",
       "      <th>5</th>\n",
       "      <td>6</td>\n",
       "      <td>56</td>\n",
       "      <td>services</td>\n",
       "      <td>divorced</td>\n",
       "      <td>no</td>\n",
       "      <td>no</td>\n",
       "      <td>no</td>\n",
       "      <td>1</td>\n",
       "      <td>0</td>\n",
       "      <td>0</td>\n",
       "      <td>45-65</td>\n",
       "      <td>low</td>\n",
       "      <td>0</td>\n",
       "      <td>middle</td>\n",
       "    </tr>\n",
       "    <tr>\n",
       "      <th>6</th>\n",
       "      <td>7</td>\n",
       "      <td>32</td>\n",
       "      <td>management</td>\n",
       "      <td>single</td>\n",
       "      <td>no</td>\n",
       "      <td>no</td>\n",
       "      <td>no</td>\n",
       "      <td>4</td>\n",
       "      <td>0</td>\n",
       "      <td>0</td>\n",
       "      <td>25-45</td>\n",
       "      <td>low</td>\n",
       "      <td>0</td>\n",
       "      <td>middle-high</td>\n",
       "    </tr>\n",
       "    <tr>\n",
       "      <th>7</th>\n",
       "      <td>8</td>\n",
       "      <td>33</td>\n",
       "      <td>management</td>\n",
       "      <td>single</td>\n",
       "      <td>no</td>\n",
       "      <td>no</td>\n",
       "      <td>no</td>\n",
       "      <td>2</td>\n",
       "      <td>0</td>\n",
       "      <td>0</td>\n",
       "      <td>25-45</td>\n",
       "      <td>low</td>\n",
       "      <td>0</td>\n",
       "      <td>middle-high</td>\n",
       "    </tr>\n",
       "    <tr>\n",
       "      <th>8</th>\n",
       "      <td>9</td>\n",
       "      <td>32</td>\n",
       "      <td>technician</td>\n",
       "      <td>single</td>\n",
       "      <td>no</td>\n",
       "      <td>yes</td>\n",
       "      <td>yes</td>\n",
       "      <td>3</td>\n",
       "      <td>0</td>\n",
       "      <td>0</td>\n",
       "      <td>25-45</td>\n",
       "      <td>low</td>\n",
       "      <td>0</td>\n",
       "      <td>middle-high</td>\n",
       "    </tr>\n",
       "    <tr>\n",
       "      <th>9</th>\n",
       "      <td>10</td>\n",
       "      <td>55</td>\n",
       "      <td>management</td>\n",
       "      <td>married</td>\n",
       "      <td>no</td>\n",
       "      <td>no</td>\n",
       "      <td>yes</td>\n",
       "      <td>3</td>\n",
       "      <td>0</td>\n",
       "      <td>0</td>\n",
       "      <td>45-65</td>\n",
       "      <td>low</td>\n",
       "      <td>0</td>\n",
       "      <td>middle-high</td>\n",
       "    </tr>\n",
       "    <tr>\n",
       "      <th>10</th>\n",
       "      <td>11</td>\n",
       "      <td>54</td>\n",
       "      <td>technician</td>\n",
       "      <td>married</td>\n",
       "      <td>no</td>\n",
       "      <td>no</td>\n",
       "      <td>no</td>\n",
       "      <td>1</td>\n",
       "      <td>0</td>\n",
       "      <td>0</td>\n",
       "      <td>45-65</td>\n",
       "      <td>low</td>\n",
       "      <td>0</td>\n",
       "      <td>middle-high</td>\n",
       "    </tr>\n",
       "    <tr>\n",
       "      <th>11</th>\n",
       "      <td>12</td>\n",
       "      <td>59</td>\n",
       "      <td>retired</td>\n",
       "      <td>married</td>\n",
       "      <td>no</td>\n",
       "      <td>yes</td>\n",
       "      <td>yes</td>\n",
       "      <td>2</td>\n",
       "      <td>1</td>\n",
       "      <td>0</td>\n",
       "      <td>45-65</td>\n",
       "      <td>low</td>\n",
       "      <td>1</td>\n",
       "      <td>low</td>\n",
       "    </tr>\n",
       "    <tr>\n",
       "      <th>12</th>\n",
       "      <td>13</td>\n",
       "      <td>48</td>\n",
       "      <td>services</td>\n",
       "      <td>married</td>\n",
       "      <td>no</td>\n",
       "      <td>no</td>\n",
       "      <td>yes</td>\n",
       "      <td>2</td>\n",
       "      <td>0</td>\n",
       "      <td>0</td>\n",
       "      <td>45-65</td>\n",
       "      <td>low</td>\n",
       "      <td>0</td>\n",
       "      <td>middle</td>\n",
       "    </tr>\n",
       "    <tr>\n",
       "      <th>13</th>\n",
       "      <td>14</td>\n",
       "      <td>54</td>\n",
       "      <td>retired</td>\n",
       "      <td>married</td>\n",
       "      <td>no</td>\n",
       "      <td>yes</td>\n",
       "      <td>no</td>\n",
       "      <td>2</td>\n",
       "      <td>0</td>\n",
       "      <td>0</td>\n",
       "      <td>45-65</td>\n",
       "      <td>low</td>\n",
       "      <td>0</td>\n",
       "      <td>low</td>\n",
       "    </tr>\n",
       "    <tr>\n",
       "      <th>14</th>\n",
       "      <td>15</td>\n",
       "      <td>53</td>\n",
       "      <td>management</td>\n",
       "      <td>married</td>\n",
       "      <td>no</td>\n",
       "      <td>no</td>\n",
       "      <td>no</td>\n",
       "      <td>1</td>\n",
       "      <td>0</td>\n",
       "      <td>0</td>\n",
       "      <td>45-65</td>\n",
       "      <td>low</td>\n",
       "      <td>0</td>\n",
       "      <td>middle-high</td>\n",
       "    </tr>\n",
       "    <tr>\n",
       "      <th>15</th>\n",
       "      <td>16</td>\n",
       "      <td>30</td>\n",
       "      <td>services</td>\n",
       "      <td>single</td>\n",
       "      <td>no</td>\n",
       "      <td>yes</td>\n",
       "      <td>no</td>\n",
       "      <td>4</td>\n",
       "      <td>0</td>\n",
       "      <td>0</td>\n",
       "      <td>25-45</td>\n",
       "      <td>low</td>\n",
       "      <td>0</td>\n",
       "      <td>middle</td>\n",
       "    </tr>\n",
       "    <tr>\n",
       "      <th>16</th>\n",
       "      <td>17</td>\n",
       "      <td>39</td>\n",
       "      <td>technician</td>\n",
       "      <td>divorced</td>\n",
       "      <td>no</td>\n",
       "      <td>yes</td>\n",
       "      <td>no</td>\n",
       "      <td>8</td>\n",
       "      <td>0</td>\n",
       "      <td>0</td>\n",
       "      <td>25-45</td>\n",
       "      <td>middle</td>\n",
       "      <td>0</td>\n",
       "      <td>middle-high</td>\n",
       "    </tr>\n",
       "    <tr>\n",
       "      <th>17</th>\n",
       "      <td>18</td>\n",
       "      <td>39</td>\n",
       "      <td>technician</td>\n",
       "      <td>married</td>\n",
       "      <td>no</td>\n",
       "      <td>no</td>\n",
       "      <td>no</td>\n",
       "      <td>4</td>\n",
       "      <td>0</td>\n",
       "      <td>0</td>\n",
       "      <td>25-45</td>\n",
       "      <td>low</td>\n",
       "      <td>0</td>\n",
       "      <td>middle-high</td>\n",
       "    </tr>\n",
       "    <tr>\n",
       "      <th>18</th>\n",
       "      <td>19</td>\n",
       "      <td>59</td>\n",
       "      <td>retired</td>\n",
       "      <td>married</td>\n",
       "      <td>no</td>\n",
       "      <td>yes</td>\n",
       "      <td>yes</td>\n",
       "      <td>2</td>\n",
       "      <td>0</td>\n",
       "      <td>0</td>\n",
       "      <td>45-65</td>\n",
       "      <td>low</td>\n",
       "      <td>0</td>\n",
       "      <td>low</td>\n",
       "    </tr>\n",
       "    <tr>\n",
       "      <th>19</th>\n",
       "      <td>20</td>\n",
       "      <td>28</td>\n",
       "      <td>student</td>\n",
       "      <td>single</td>\n",
       "      <td>no</td>\n",
       "      <td>no</td>\n",
       "      <td>no</td>\n",
       "      <td>1</td>\n",
       "      <td>0</td>\n",
       "      <td>0</td>\n",
       "      <td>25-45</td>\n",
       "      <td>low</td>\n",
       "      <td>0</td>\n",
       "      <td>low</td>\n",
       "    </tr>\n",
       "  </tbody>\n",
       "</table>\n",
       "</div>"
      ],
      "text/plain": [
       "    ID  age         job   marital default returned loan  \\\n",
       "0    1   43  management   married      no      yes   no   \n",
       "1    2   42  technician  divorced      no      yes   no   \n",
       "2    3   47      admin.   married      no      yes  yes   \n",
       "3    4   28  management    single      no      yes  yes   \n",
       "4    5   42  technician  divorced      no      yes   no   \n",
       "5    6   56    services  divorced      no       no   no   \n",
       "6    7   32  management    single      no       no   no   \n",
       "7    8   33  management    single      no       no   no   \n",
       "8    9   32  technician    single      no      yes  yes   \n",
       "9   10   55  management   married      no       no  yes   \n",
       "10  11   54  technician   married      no       no   no   \n",
       "11  12   59     retired   married      no      yes  yes   \n",
       "12  13   48    services   married      no       no  yes   \n",
       "13  14   54     retired   married      no      yes   no   \n",
       "14  15   53  management   married      no       no   no   \n",
       "15  16   30    services    single      no      yes   no   \n",
       "16  17   39  technician  divorced      no      yes   no   \n",
       "17  18   39  technician   married      no       no   no   \n",
       "18  19   59     retired   married      no      yes  yes   \n",
       "19  20   28     student    single      no       no   no   \n",
       "\n",
       "    coupon_used_in_last6_month  coupon_used_in_last_month  coupon_ind  \\\n",
       "0                            2                          0           0   \n",
       "1                            1                          1           0   \n",
       "2                            2                          0           0   \n",
       "3                            2                          0           0   \n",
       "4                            5                          0           0   \n",
       "5                            1                          0           0   \n",
       "6                            4                          0           0   \n",
       "7                            2                          0           0   \n",
       "8                            3                          0           0   \n",
       "9                            3                          0           0   \n",
       "10                           1                          0           0   \n",
       "11                           2                          1           0   \n",
       "12                           2                          0           0   \n",
       "13                           2                          0           0   \n",
       "14                           1                          0           0   \n",
       "15                           4                          0           0   \n",
       "16                           8                          0           0   \n",
       "17                           4                          0           0   \n",
       "18                           2                          0           0   \n",
       "19                           1                          0           0   \n",
       "\n",
       "   age_clean      c6 c1    job_clean  \n",
       "0      25-45     low  0  middle-high  \n",
       "1      25-45     low  1  middle-high  \n",
       "2      45-65     low  0  middle-high  \n",
       "3      25-45     low  0  middle-high  \n",
       "4      25-45     low  0  middle-high  \n",
       "5      45-65     low  0       middle  \n",
       "6      25-45     low  0  middle-high  \n",
       "7      25-45     low  0  middle-high  \n",
       "8      25-45     low  0  middle-high  \n",
       "9      45-65     low  0  middle-high  \n",
       "10     45-65     low  0  middle-high  \n",
       "11     45-65     low  1          low  \n",
       "12     45-65     low  0       middle  \n",
       "13     45-65     low  0          low  \n",
       "14     45-65     low  0  middle-high  \n",
       "15     25-45     low  0       middle  \n",
       "16     25-45  middle  0  middle-high  \n",
       "17     25-45     low  0  middle-high  \n",
       "18     45-65     low  0          low  \n",
       "19     25-45     low  0          low  "
      ]
     },
     "execution_count": 1070,
     "metadata": {},
     "output_type": "execute_result"
    }
   ],
   "source": [
    "def job_merge(job):\n",
    "    if job=='student' or job=='retired' or job=='unemployed':\n",
    "        return 'low'\n",
    "    elif job=='management' or job=='admin.' or job=='self-employed' or job=='unknown' or job=='technician':\n",
    "        return 'middle-high'\n",
    "    elif job=='services' or job=='housemaid':\n",
    "        return 'middle'\n",
    "    elif job=='entrepreneur' or job=='blue-collar':\n",
    "        return 'high'\n",
    "pdd['job_clean'] = pdd['job'].apply(job_merge)\n",
    "pdd.head(20)"
   ]
  },
  {
   "cell_type": "markdown",
   "metadata": {},
   "source": [
    "## 哑变量处理"
   ]
  },
  {
   "cell_type": "code",
   "execution_count": 1071,
   "metadata": {},
   "outputs": [],
   "source": [
    "# drop掉ID,coupon_used_in_last_month, coupon_used_in_last6_month, job, age\n",
    "pdd_clean = pdd.drop(['ID','coupon_used_in_last_month', 'coupon_used_in_last6_month', 'job', 'age'], axis=1)"
   ]
  },
  {
   "cell_type": "code",
   "execution_count": 1072,
   "metadata": {},
   "outputs": [],
   "source": [
    "# 类别变量转成哑变量\n",
    "pdd_clean = pd.get_dummies(pdd_clean, drop_first=True)"
   ]
  },
  {
   "cell_type": "code",
   "execution_count": 1073,
   "metadata": {},
   "outputs": [
    {
     "data": {
      "text/html": [
       "<div>\n",
       "<style scoped>\n",
       "    .dataframe tbody tr th:only-of-type {\n",
       "        vertical-align: middle;\n",
       "    }\n",
       "\n",
       "    .dataframe tbody tr th {\n",
       "        vertical-align: top;\n",
       "    }\n",
       "\n",
       "    .dataframe thead th {\n",
       "        text-align: right;\n",
       "    }\n",
       "</style>\n",
       "<table border=\"1\" class=\"dataframe\">\n",
       "  <thead>\n",
       "    <tr style=\"text-align: right;\">\n",
       "      <th></th>\n",
       "      <th>coupon_ind</th>\n",
       "      <th>marital_married</th>\n",
       "      <th>marital_single</th>\n",
       "      <th>default_yes</th>\n",
       "      <th>returned_yes</th>\n",
       "      <th>loan_yes</th>\n",
       "      <th>age_clean_25-45</th>\n",
       "      <th>age_clean_45-65</th>\n",
       "      <th>age_clean_&gt;65</th>\n",
       "      <th>c6_middle</th>\n",
       "      <th>c6_high</th>\n",
       "      <th>c1_1</th>\n",
       "      <th>c1_2</th>\n",
       "      <th>c1_&gt;2</th>\n",
       "      <th>job_clean_low</th>\n",
       "      <th>job_clean_middle</th>\n",
       "      <th>job_clean_middle-high</th>\n",
       "    </tr>\n",
       "  </thead>\n",
       "  <tbody>\n",
       "    <tr>\n",
       "      <th>0</th>\n",
       "      <td>0</td>\n",
       "      <td>1</td>\n",
       "      <td>0</td>\n",
       "      <td>0</td>\n",
       "      <td>1</td>\n",
       "      <td>0</td>\n",
       "      <td>1</td>\n",
       "      <td>0</td>\n",
       "      <td>0</td>\n",
       "      <td>0</td>\n",
       "      <td>0</td>\n",
       "      <td>0</td>\n",
       "      <td>0</td>\n",
       "      <td>0</td>\n",
       "      <td>0</td>\n",
       "      <td>0</td>\n",
       "      <td>1</td>\n",
       "    </tr>\n",
       "    <tr>\n",
       "      <th>1</th>\n",
       "      <td>0</td>\n",
       "      <td>0</td>\n",
       "      <td>0</td>\n",
       "      <td>0</td>\n",
       "      <td>1</td>\n",
       "      <td>0</td>\n",
       "      <td>1</td>\n",
       "      <td>0</td>\n",
       "      <td>0</td>\n",
       "      <td>0</td>\n",
       "      <td>0</td>\n",
       "      <td>1</td>\n",
       "      <td>0</td>\n",
       "      <td>0</td>\n",
       "      <td>0</td>\n",
       "      <td>0</td>\n",
       "      <td>1</td>\n",
       "    </tr>\n",
       "    <tr>\n",
       "      <th>2</th>\n",
       "      <td>0</td>\n",
       "      <td>1</td>\n",
       "      <td>0</td>\n",
       "      <td>0</td>\n",
       "      <td>1</td>\n",
       "      <td>1</td>\n",
       "      <td>0</td>\n",
       "      <td>1</td>\n",
       "      <td>0</td>\n",
       "      <td>0</td>\n",
       "      <td>0</td>\n",
       "      <td>0</td>\n",
       "      <td>0</td>\n",
       "      <td>0</td>\n",
       "      <td>0</td>\n",
       "      <td>0</td>\n",
       "      <td>1</td>\n",
       "    </tr>\n",
       "    <tr>\n",
       "      <th>3</th>\n",
       "      <td>0</td>\n",
       "      <td>0</td>\n",
       "      <td>1</td>\n",
       "      <td>0</td>\n",
       "      <td>1</td>\n",
       "      <td>1</td>\n",
       "      <td>1</td>\n",
       "      <td>0</td>\n",
       "      <td>0</td>\n",
       "      <td>0</td>\n",
       "      <td>0</td>\n",
       "      <td>0</td>\n",
       "      <td>0</td>\n",
       "      <td>0</td>\n",
       "      <td>0</td>\n",
       "      <td>0</td>\n",
       "      <td>1</td>\n",
       "    </tr>\n",
       "    <tr>\n",
       "      <th>4</th>\n",
       "      <td>0</td>\n",
       "      <td>0</td>\n",
       "      <td>0</td>\n",
       "      <td>0</td>\n",
       "      <td>1</td>\n",
       "      <td>0</td>\n",
       "      <td>1</td>\n",
       "      <td>0</td>\n",
       "      <td>0</td>\n",
       "      <td>0</td>\n",
       "      <td>0</td>\n",
       "      <td>0</td>\n",
       "      <td>0</td>\n",
       "      <td>0</td>\n",
       "      <td>0</td>\n",
       "      <td>0</td>\n",
       "      <td>1</td>\n",
       "    </tr>\n",
       "  </tbody>\n",
       "</table>\n",
       "</div>"
      ],
      "text/plain": [
       "   coupon_ind  marital_married  marital_single  default_yes  returned_yes  \\\n",
       "0           0                1               0            0             1   \n",
       "1           0                0               0            0             1   \n",
       "2           0                1               0            0             1   \n",
       "3           0                0               1            0             1   \n",
       "4           0                0               0            0             1   \n",
       "\n",
       "   loan_yes  age_clean_25-45  age_clean_45-65  age_clean_>65  c6_middle  \\\n",
       "0         0                1                0              0          0   \n",
       "1         0                1                0              0          0   \n",
       "2         1                0                1              0          0   \n",
       "3         1                1                0              0          0   \n",
       "4         0                1                0              0          0   \n",
       "\n",
       "   c6_high  c1_1  c1_2  c1_>2  job_clean_low  job_clean_middle  \\\n",
       "0        0     0     0      0              0                 0   \n",
       "1        0     1     0      0              0                 0   \n",
       "2        0     0     0      0              0                 0   \n",
       "3        0     0     0      0              0                 0   \n",
       "4        0     0     0      0              0                 0   \n",
       "\n",
       "   job_clean_middle-high  \n",
       "0                      1  \n",
       "1                      1  \n",
       "2                      1  \n",
       "3                      1  \n",
       "4                      1  "
      ]
     },
     "execution_count": 1073,
     "metadata": {},
     "output_type": "execute_result"
    }
   ],
   "source": [
    "pdd_clean.head()"
   ]
  },
  {
   "cell_type": "code",
   "execution_count": 1074,
   "metadata": {},
   "outputs": [
    {
     "data": {
      "text/html": [
       "<div>\n",
       "<style scoped>\n",
       "    .dataframe tbody tr th:only-of-type {\n",
       "        vertical-align: middle;\n",
       "    }\n",
       "\n",
       "    .dataframe tbody tr th {\n",
       "        vertical-align: top;\n",
       "    }\n",
       "\n",
       "    .dataframe thead th {\n",
       "        text-align: right;\n",
       "    }\n",
       "</style>\n",
       "<table border=\"1\" class=\"dataframe\">\n",
       "  <thead>\n",
       "    <tr style=\"text-align: right;\">\n",
       "      <th></th>\n",
       "      <th>coupon_ind</th>\n",
       "    </tr>\n",
       "  </thead>\n",
       "  <tbody>\n",
       "    <tr>\n",
       "      <th>coupon_ind</th>\n",
       "      <td>1.000000</td>\n",
       "    </tr>\n",
       "    <tr>\n",
       "      <th>c1_1</th>\n",
       "      <td>0.140320</td>\n",
       "    </tr>\n",
       "    <tr>\n",
       "      <th>job_clean_low</th>\n",
       "      <td>0.081167</td>\n",
       "    </tr>\n",
       "    <tr>\n",
       "      <th>c1_2</th>\n",
       "      <td>0.076783</td>\n",
       "    </tr>\n",
       "    <tr>\n",
       "      <th>age_clean_&gt;65</th>\n",
       "      <td>0.069686</td>\n",
       "    </tr>\n",
       "    <tr>\n",
       "      <th>marital_single</th>\n",
       "      <td>0.066360</td>\n",
       "    </tr>\n",
       "    <tr>\n",
       "      <th>job_clean_middle-high</th>\n",
       "      <td>0.037838</td>\n",
       "    </tr>\n",
       "    <tr>\n",
       "      <th>c1_&gt;2</th>\n",
       "      <td>0.025920</td>\n",
       "    </tr>\n",
       "    <tr>\n",
       "      <th>age_clean_25-45</th>\n",
       "      <td>-0.009942</td>\n",
       "    </tr>\n",
       "    <tr>\n",
       "      <th>age_clean_45-65</th>\n",
       "      <td>-0.016697</td>\n",
       "    </tr>\n",
       "    <tr>\n",
       "      <th>c6_high</th>\n",
       "      <td>-0.022733</td>\n",
       "    </tr>\n",
       "    <tr>\n",
       "      <th>default_yes</th>\n",
       "      <td>-0.024337</td>\n",
       "    </tr>\n",
       "    <tr>\n",
       "      <th>job_clean_middle</th>\n",
       "      <td>-0.028916</td>\n",
       "    </tr>\n",
       "    <tr>\n",
       "      <th>c6_middle</th>\n",
       "      <td>-0.048727</td>\n",
       "    </tr>\n",
       "    <tr>\n",
       "      <th>marital_married</th>\n",
       "      <td>-0.059831</td>\n",
       "    </tr>\n",
       "    <tr>\n",
       "      <th>loan_yes</th>\n",
       "      <td>-0.061545</td>\n",
       "    </tr>\n",
       "    <tr>\n",
       "      <th>returned_yes</th>\n",
       "      <td>-0.135141</td>\n",
       "    </tr>\n",
       "  </tbody>\n",
       "</table>\n",
       "</div>"
      ],
      "text/plain": [
       "                       coupon_ind\n",
       "coupon_ind               1.000000\n",
       "c1_1                     0.140320\n",
       "job_clean_low            0.081167\n",
       "c1_2                     0.076783\n",
       "age_clean_>65            0.069686\n",
       "marital_single           0.066360\n",
       "job_clean_middle-high    0.037838\n",
       "c1_>2                    0.025920\n",
       "age_clean_25-45         -0.009942\n",
       "age_clean_45-65         -0.016697\n",
       "c6_high                 -0.022733\n",
       "default_yes             -0.024337\n",
       "job_clean_middle        -0.028916\n",
       "c6_middle               -0.048727\n",
       "marital_married         -0.059831\n",
       "loan_yes                -0.061545\n",
       "returned_yes            -0.135141"
      ]
     },
     "execution_count": 1074,
     "metadata": {},
     "output_type": "execute_result"
    }
   ],
   "source": [
    "corr = pdd_clean.corr()[['coupon_ind']].sort_values('coupon_ind', ascending=False)\n",
    "corr "
   ]
  },
  {
   "cell_type": "code",
   "execution_count": 1075,
   "metadata": {},
   "outputs": [
    {
     "data": {
      "text/plain": [
       "array(['coupon_ind', 'c1_1', 'job_clean_low', 'c1_2', 'age_clean_>65',\n",
       "       'marital_single', 'marital_married', 'loan_yes', 'returned_yes'],\n",
       "      dtype=object)"
      ]
     },
     "execution_count": 1075,
     "metadata": {},
     "output_type": "execute_result"
    }
   ],
   "source": [
    "# 取出相关系数绝对值大于0.05的变量\n",
    "import numpy as np\n",
    "threshold=0.05\n",
    "var = corr.where(np.abs(corr)>threshold).dropna(how='any').index.values\n",
    "var"
   ]
  },
  {
   "cell_type": "code",
   "execution_count": 1076,
   "metadata": {},
   "outputs": [
    {
     "name": "stderr",
     "output_type": "stream",
     "text": [
      "d:\\program files\\python37\\lib\\site-packages\\matplotlib\\backends\\backend_agg.py:211: RuntimeWarning: Glyph 8722 missing from current font.\n",
      "  font.set_text(s, 0.0, flags=flags)\n",
      "d:\\program files\\python37\\lib\\site-packages\\matplotlib\\backends\\backend_agg.py:180: RuntimeWarning: Glyph 8722 missing from current font.\n",
      "  font.set_text(s, 0, flags=flags)\n"
     ]
    },
    {
     "data": {
      "text/plain": [
       "<matplotlib.axes._subplots.AxesSubplot at 0x1ac956d1978>"
      ]
     },
     "execution_count": 1076,
     "metadata": {},
     "output_type": "execute_result"
    },
    {
     "data": {
      "image/png": "[encoded data removed]",
      "text/plain": [
       "<Figure size 432x288 with 2 Axes>"
      ]
     },
     "metadata": {
      "needs_background": "light"
     },
     "output_type": "display_data"
    }
   ],
   "source": [
    "sns.heatmap(pdd_clean[var].corr())"
   ]
  },
  {
   "cell_type": "markdown",
   "metadata": {},
   "source": [
    "- 变量c1_1, job_clean_low, c1_2, age_clean_>65, marital_single和coupon_ind是强正相关\n",
    "- 变量marital_married, loan_yes, returned_yes和coupon_ind是强负相关"
   ]
  },
  {
   "cell_type": "markdown",
   "metadata": {},
   "source": [
    "# 模型建立"
   ]
  },
  {
   "cell_type": "code",
   "execution_count": 1077,
   "metadata": {},
   "outputs": [],
   "source": [
    "y = pdd_clean['coupon_ind']\n",
    "var = var[1:]\n",
    "x = pdd_clean[var]  # x变量就是上面取出来的和coupon_ind相关系数绝对值大于0.05的那几个变量"
   ]
  },
  {
   "cell_type": "code",
   "execution_count": 1078,
   "metadata": {},
   "outputs": [],
   "source": [
    "from sklearn.model_selection import train_test_split\n",
    "x_train, x_test, y_train, y_test = train_test_split(x, y, test_size=0.3, random_state=100)"
   ]
  },
  {
   "cell_type": "code",
   "execution_count": 1079,
   "metadata": {},
   "outputs": [],
   "source": [
    "from sklearn import linear_model\n",
    "lr = linear_model.LogisticRegression(random_state=7) "
   ]
  },
  {
   "cell_type": "code",
   "execution_count": 1080,
   "metadata": {},
   "outputs": [
    {
     "data": {
      "text/plain": [
       "LogisticRegression(random_state=7)"
      ]
     },
     "execution_count": 1080,
     "metadata": {},
     "output_type": "execute_result"
    }
   ],
   "source": [
    "lr.fit(x_train, y_train)"
   ]
  },
  {
   "cell_type": "code",
   "execution_count": 1081,
   "metadata": {},
   "outputs": [
    {
     "data": {
      "text/plain": [
       "array([-1.89408304])"
      ]
     },
     "execution_count": 1081,
     "metadata": {},
     "output_type": "execute_result"
    }
   ],
   "source": [
    "# 输出模型拟合的截距\n",
    "lr.intercept_"
   ]
  },
  {
   "cell_type": "code",
   "execution_count": 1082,
   "metadata": {},
   "outputs": [
    {
     "name": "stdout",
     "output_type": "stream",
     "text": [
      "c1_1的系数：1.1371\t概率比值：3.1176\n",
      "job_clean_low的系数：0.3132\t概率比值：1.3678\n",
      "c1_2的系数：1.1972\t概率比值：3.3108\n",
      "age_clean_>65的系数：0.9227\t概率比值：2.5162\n",
      "marital_single的系数：0.2808\t概率比值：1.3241\n",
      "marital_married的系数：-0.1349\t概率比值：0.8738\n",
      "loan_yes的系数：-0.5513\t概率比值：0.5762\n",
      "returned_yes的系数：-0.8633\t概率比值：0.4218\n"
     ]
    }
   ],
   "source": [
    "# 输出模型拟合后各个变量的系数和概率比值\n",
    "for var_name, coef, rate in zip(var, lr.coef_[0], np.exp(lr.coef_[0])):\n",
    "    print('{}的系数：{:.4f}\\t概率比值：{:.4f}'.format(var_name, coef, rate))"
   ]
  },
  {
   "cell_type": "markdown",
   "metadata": {},
   "source": [
    "# 模型评估"
   ]
  },
  {
   "cell_type": "code",
   "execution_count": 1083,
   "metadata": {},
   "outputs": [],
   "source": [
    "# 用list保存各个模型的各种指标值\n",
    "model_name = []\n",
    "train_accs = []\n",
    "test_accs = []\n",
    "f1_scores = []\n",
    "precisions = []\n",
    "recalls = []\n",
    "AUCs = []"
   ]
  },
  {
   "cell_type": "code",
   "execution_count": 1084,
   "metadata": {},
   "outputs": [],
   "source": [
    "import sklearn.metrics as metrics\n",
    "from sklearn.metrics import classification_report\n",
    "\n",
    "def evaluation_print(y_train, y_pred_train, y_test, y_pred_test):\n",
    "    # 训练集的准确率\n",
    "    train_acc = metrics.accuracy_score(y_train, y_pred_train)\n",
    "    train_accs.append(train_acc)\n",
    "    train_acc\n",
    "\n",
    "    def confusion_matrix_plot(y_true, y_pred):\n",
    "        data = metrics.confusion_matrix(y_true, y_pred)\n",
    "        sns.heatmap(data, annot=True, annot_kws={'size':20, 'weight':'bold'}, cbar=False, fmt='.20g')\n",
    "        plt.ylabel('True Label')\n",
    "        plt.xlabel('Predict Label')\n",
    "        plt.title('Confusion Matrix')\n",
    "\n",
    "    # 训练集的混淆矩阵\n",
    "    # confusion_matrix_plot(y_train, y_pred_train)\n",
    "\n",
    "    # 测试集的准确率\n",
    "    test_acc = metrics.accuracy_score(y_test, y_pred_test)\n",
    "    test_accs.append(test_acc)\n",
    "\n",
    "    # 测试集的混淆矩阵\n",
    "    # confusion_matrix_plot(y_test, y_pred_test)\n",
    "\n",
    "    # 测试集的precision\n",
    "    test_precision = metrics.precision_score(y_test, y_pred_test)\n",
    "    precisions.append(test_precision)\n",
    "\n",
    "\n",
    "    # 测试集的recall\n",
    "    test_recall = metrics.recall_score(y_test, y_pred_test)\n",
    "    recalls.append(test_recall)\n",
    "\n",
    "\n",
    "    # 测试集的f1-score\n",
    "    test_f1 = metrics.f1_score(y_test, y_pred_test)\n",
    "    f1_scores.append(test_f1)\n",
    "\n",
    "\n",
    "    # ROC/AUC评估-测试集\n",
    "    fpr2, tpr2, threshold2 = metrics.roc_curve(y_test, y_pred_test, pos_label=1)\n",
    "    test_auc = metrics.auc(fpr2,tpr2)\n",
    "    AUCs.append(test_auc)\n",
    "    \n",
    "    # 训练集的分类报告\n",
    "    print('训练集的分类报告：')\n",
    "    print(classification_report(y_train, y_pred_train))\n",
    "\n",
    "    # 测试集的分类报告\n",
    "    print('测试集的分类报告：')\n",
    "    print(classification_report(y_test, y_pred_test))\n",
    "\n",
    "    # 绘制ROC-测试集\n",
    "    plt.plot(fpr2, tpr2, marker='o')\n",
    "    plt.title('测试集ROC')\n",
    "    plt.show()\n",
    "\n",
    "    # 输出所有评估指标的值\n",
    "    print('train_acc\\t test_acc\\t precision\\t recall\\t\\t f1-score\\t AUC')\n",
    "    print('{:.4f}\\t\\t{:.4f}\\t\\t{:.4f}\\t\\t{:.4f}\\t\\t{:.4f}\\t\\t{:.4f}'.format(train_acc, test_acc, test_precision, test_recall, test_f1, test_auc))\n"
   ]
  },
  {
   "cell_type": "code",
   "execution_count": 1085,
   "metadata": {},
   "outputs": [
    {
     "name": "stdout",
     "output_type": "stream",
     "text": [
      "训练集的分类报告：\n",
      "              precision    recall  f1-score   support\n",
      "\n",
      "           0       0.89      1.00      0.94     15536\n",
      "           1       0.46      0.01      0.02      1987\n",
      "\n",
      "    accuracy                           0.89     17523\n",
      "   macro avg       0.67      0.50      0.48     17523\n",
      "weighted avg       0.84      0.89      0.84     17523\n",
      "\n",
      "测试集的分类报告：\n",
      "              precision    recall  f1-score   support\n",
      "\n",
      "           0       0.89      1.00      0.94      6666\n",
      "           1       0.27      0.00      0.01       844\n",
      "\n",
      "    accuracy                           0.89      7510\n",
      "   macro avg       0.58      0.50      0.47      7510\n",
      "weighted avg       0.82      0.89      0.84      7510\n",
      "\n"
     ]
    },
    {
     "data": {
      "image/png": "[encoded data removed]",
      "text/plain": [
       "<Figure size 432x288 with 1 Axes>"
      ]
     },
     "metadata": {
      "needs_background": "light"
     },
     "output_type": "display_data"
    },
    {
     "name": "stdout",
     "output_type": "stream",
     "text": [
      "train_acc\t test_acc\t precision\t recall\t\t f1-score\t AUC\n",
      "0.8864\t\t0.8867\t\t0.2667\t\t0.0047\t\t0.0093\t\t0.5015\n"
     ]
    }
   ],
   "source": [
    "y_pred_train = lr.predict(x_train)\n",
    "y_pred_test  = lr.predict(x_test)\n",
    "\n",
    "model_name.append('Original')\n",
    "\n",
    "evaluation_print(y_train, y_pred_train, y_test, y_pred_test)\n"
   ]
  },
  {
   "cell_type": "markdown",
   "metadata": {},
   "source": [
    "# 模型优化\n",
    "- 添加变量\n",
    "- 改善数据不平衡\n",
    "    - RandomUnderSampler 随机下采样\n",
    "    - RandomOverSampler 随机上采样\n",
    "    - SMOTE 合成上采样\n",
    "    - SMOTEC 合成上采样\n",
    "    - BorderlineSMOTE 合成上采样\n",
    "    - RENN 下采样\n",
    "    - NearMiss 下采样\n",
    "    - SMOTEENN 上采样+下采样\n",
    "    - SMOTETomek 上采样+下采样"
   ]
  },
  {
   "cell_type": "markdown",
   "metadata": {},
   "source": [
    "## 添加变量"
   ]
  },
  {
   "cell_type": "code",
   "execution_count": 1086,
   "metadata": {},
   "outputs": [],
   "source": [
    "# 把所有变量都放进模型\n",
    "x = pdd_clean.drop('coupon_ind', axis=1)\n",
    "y = pdd_clean['coupon_ind']\n",
    "x_train, x_test, y_train, y_test = train_test_split(x, y, test_size=0.3, random_state=100)"
   ]
  },
  {
   "cell_type": "code",
   "execution_count": 1087,
   "metadata": {},
   "outputs": [
    {
     "data": {
      "text/plain": [
       "LogisticRegression(random_state=7)"
      ]
     },
     "execution_count": 1087,
     "metadata": {},
     "output_type": "execute_result"
    }
   ],
   "source": [
    "lr.fit(x_train, y_train)"
   ]
  },
  {
   "cell_type": "code",
   "execution_count": 1088,
   "metadata": {},
   "outputs": [],
   "source": [
    "y_pred_train = lr.predict(x_train)\n",
    "y_pred_test  = lr.predict(x_test)"
   ]
  },
  {
   "cell_type": "code",
   "execution_count": 1089,
   "metadata": {},
   "outputs": [
    {
     "name": "stdout",
     "output_type": "stream",
     "text": [
      "训练集的分类报告：\n",
      "              precision    recall  f1-score   support\n",
      "\n",
      "           0       0.89      1.00      0.94     15536\n",
      "           1       0.43      0.02      0.03      1987\n",
      "\n",
      "    accuracy                           0.89     17523\n",
      "   macro avg       0.66      0.51      0.48     17523\n",
      "weighted avg       0.84      0.89      0.84     17523\n",
      "\n",
      "测试集的分类报告：\n",
      "              precision    recall  f1-score   support\n",
      "\n",
      "           0       0.89      1.00      0.94      6666\n",
      "           1       0.43      0.02      0.03       844\n",
      "\n",
      "    accuracy                           0.89      7510\n",
      "   macro avg       0.66      0.51      0.48      7510\n",
      "weighted avg       0.84      0.89      0.84      7510\n",
      "\n"
     ]
    },
    {
     "data": {
      "image/png": "[encoded data removed]",
      "text/plain": [
       "<Figure size 432x288 with 1 Axes>"
      ]
     },
     "metadata": {
      "needs_background": "light"
     },
     "output_type": "display_data"
    },
    {
     "name": "stdout",
     "output_type": "stream",
     "text": [
      "train_acc\t test_acc\t precision\t recall\t\t f1-score\t AUC\n",
      "0.8860\t\t0.8871\t\t0.4333\t\t0.0154\t\t0.0297\t\t0.5064\n"
     ]
    }
   ],
   "source": [
    "model_name.append('AddVariable')\n",
    "evaluation_print(y_train, y_pred_train, y_test, y_pred_test)"
   ]
  },
  {
   "cell_type": "markdown",
   "metadata": {},
   "source": [
    "- 把所有变量放进模型后准确率反而下降了，说明无关变量影响了模型性能，不予采用"
   ]
  },
  {
   "cell_type": "markdown",
   "metadata": {},
   "source": [
    "## 更改损失函数的类别权重"
   ]
  },
  {
   "cell_type": "markdown",
   "metadata": {},
   "source": [
    "- 更改权重就是针对不同类别的数据设置不同的分错代价，即提高少数类分错的代价或降低多数类分错的代价，最终使各类别平衡。\n",
    "\n",
    "- 常用的机器学习训练方法中，很多都提供了权重设置参数class_weight，可以手动设置该参数，但一般情况下只需要将其设置为balanced即可"
   ]
  },
  {
   "cell_type": "code",
   "execution_count": 1090,
   "metadata": {},
   "outputs": [
    {
     "name": "stdout",
     "output_type": "stream",
     "text": [
      "训练集的分类报告：\n",
      "              precision    recall  f1-score   support\n",
      "\n",
      "           0       0.93      0.73      0.81     15536\n",
      "           1       0.20      0.55      0.30      1987\n",
      "\n",
      "    accuracy                           0.71     17523\n",
      "   macro avg       0.56      0.64      0.55     17523\n",
      "weighted avg       0.84      0.71      0.76     17523\n",
      "\n",
      "测试集的分类报告：\n",
      "              precision    recall  f1-score   support\n",
      "\n",
      "           0       0.93      0.74      0.82      6666\n",
      "           1       0.21      0.54      0.30       844\n",
      "\n",
      "    accuracy                           0.71      7510\n",
      "   macro avg       0.57      0.64      0.56      7510\n",
      "weighted avg       0.85      0.71      0.76      7510\n",
      "\n"
     ]
    },
    {
     "data": {
      "image/png": "[encoded data removed]",
      "text/plain": [
       "<Figure size 432x288 with 1 Axes>"
      ]
     },
     "metadata": {
      "needs_background": "light"
     },
     "output_type": "display_data"
    },
    {
     "name": "stdout",
     "output_type": "stream",
     "text": [
      "train_acc\t test_acc\t precision\t recall\t\t f1-score\t AUC\n",
      "0.7055\t\t0.7132\t\t0.2052\t\t0.5403\t\t0.2975\t\t0.6377\n"
     ]
    }
   ],
   "source": [
    "# x,y恢复到原始模型的变量\n",
    "x = pdd_clean[var]\n",
    "y = pdd_clean['coupon_ind']\n",
    "\n",
    "lr = linear_model.LogisticRegression(random_state=7, class_weight='balanced')  \n",
    "# 数据集分割7:3\n",
    "x_train, x_test, y_train, y_test = train_test_split(x, y, test_size=0.3, random_state=100)\n",
    "\n",
    "# 模型拟合\n",
    "lr.fit(x_train, y_train)\n",
    "\n",
    "# 模型预测\n",
    "y_pred_train = lr.predict(x_train)\n",
    "y_pred_test  = lr.predict(x_test)\n",
    "\n",
    "model_name.append('Balanced')\n",
    "evaluation_print(y_train, y_pred_train, y_test, y_pred_test)"
   ]
  },
  {
   "cell_type": "markdown",
   "metadata": {},
   "source": [
    "## 改善数据不平衡"
   ]
  },
  {
   "cell_type": "markdown",
   "metadata": {},
   "source": [
    "根据https://www.capallen.top/2019/Deal-with-imbalanced-data-in-ML.html\n",
    "里面提到的方法，打算使用以下几种方法对模型进行改进\n",
    "- 随机的采样\n",
    "    - RandomUnderSampler 随机下采样\n",
    "    - RandomOverSampler 随机上采样\n",
    "- 改进的采样\n",
    "    - 上采样\n",
    "        - SMOTE\n",
    "        - ADASYN\n",
    "        - BorderlineSMOTE\n",
    "    - 下采样\n",
    "        - RENN\n",
    "        - NearMiss\n",
    "    - 组合采样\n",
    "        - SMOTEENN\n",
    "        - SMOTETomek"
   ]
  },
  {
   "cell_type": "markdown",
   "metadata": {},
   "source": [
    "### RandomUnderSampler 随机下采样"
   ]
  },
  {
   "cell_type": "code",
   "execution_count": 1091,
   "metadata": {},
   "outputs": [],
   "source": [
    "lr = linear_model.LogisticRegression(random_state=7)  "
   ]
  },
  {
   "cell_type": "code",
   "execution_count": 1092,
   "metadata": {},
   "outputs": [
    {
     "name": "stdout",
     "output_type": "stream",
     "text": [
      "训练集的分类报告：\n",
      "              precision    recall  f1-score   support\n",
      "\n",
      "           0       0.62      0.72      0.67      1987\n",
      "           1       0.67      0.55      0.60      1987\n",
      "\n",
      "    accuracy                           0.64      3974\n",
      "   macro avg       0.64      0.64      0.63      3974\n",
      "weighted avg       0.64      0.64      0.63      3974\n",
      "\n",
      "测试集的分类报告：\n",
      "              precision    recall  f1-score   support\n",
      "\n",
      "           0       0.93      0.73      0.82      6666\n",
      "           1       0.20      0.54      0.29       844\n",
      "\n",
      "    accuracy                           0.71      7510\n",
      "   macro avg       0.56      0.63      0.55      7510\n",
      "weighted avg       0.84      0.71      0.76      7510\n",
      "\n"
     ]
    },
    {
     "data": {
      "image/png": "[encoded data removed]",
      "text/plain": [
       "<Figure size 432x288 with 1 Axes>"
      ]
     },
     "metadata": {
      "needs_background": "light"
     },
     "output_type": "display_data"
    },
    {
     "name": "stdout",
     "output_type": "stream",
     "text": [
      "train_acc\t test_acc\t precision\t recall\t\t f1-score\t AUC\n",
      "0.6369\t\t0.7075\t\t0.2016\t\t0.5415\t\t0.2938\t\t0.6350\n"
     ]
    }
   ],
   "source": [
    "from imblearn.under_sampling import RandomUnderSampler\n",
    "rus = RandomUnderSampler(random_state=42)\n",
    "\n",
    "\n",
    "# 数据集分割7:3\n",
    "x_train, x_test, y_train, y_test = train_test_split(x, y, test_size=0.3, random_state=100)\n",
    "x_train, y_train = rus.fit_resample(x_train, y_train)\n",
    "\n",
    "# 模型拟合\n",
    "lr.fit(x_train, y_train)\n",
    "\n",
    "# 模型预测\n",
    "y_pred_train = lr.predict(x_train)\n",
    "y_pred_test  = lr.predict(x_test)\n",
    "\n",
    "model_name.append('RandomUnderSampler')\n",
    "evaluation_print(y_train, y_pred_train, y_test, y_pred_test)"
   ]
  },
  {
   "cell_type": "markdown",
   "metadata": {},
   "source": [
    "### RandomOverSampler 随机上采样"
   ]
  },
  {
   "cell_type": "code",
   "execution_count": 1093,
   "metadata": {},
   "outputs": [
    {
     "name": "stdout",
     "output_type": "stream",
     "text": [
      "训练集的分类报告：\n",
      "              precision    recall  f1-score   support\n",
      "\n",
      "           0       0.62      0.73      0.67     15536\n",
      "           1       0.67      0.55      0.60     15536\n",
      "\n",
      "    accuracy                           0.64     31072\n",
      "   macro avg       0.64      0.64      0.63     31072\n",
      "weighted avg       0.64      0.64      0.63     31072\n",
      "\n",
      "测试集的分类报告：\n",
      "              precision    recall  f1-score   support\n",
      "\n",
      "           0       0.93      0.74      0.82      6666\n",
      "           1       0.21      0.54      0.30       844\n",
      "\n",
      "    accuracy                           0.71      7510\n",
      "   macro avg       0.57      0.64      0.56      7510\n",
      "weighted avg       0.85      0.71      0.76      7510\n",
      "\n"
     ]
    },
    {
     "data": {
      "image/png": "[encoded data removed]",
      "text/plain": [
       "<Figure size 432x288 with 1 Axes>"
      ]
     },
     "metadata": {
      "needs_background": "light"
     },
     "output_type": "display_data"
    },
    {
     "name": "stdout",
     "output_type": "stream",
     "text": [
      "train_acc\t test_acc\t precision\t recall\t\t f1-score\t AUC\n",
      "0.6365\t\t0.7132\t\t0.2052\t\t0.5403\t\t0.2975\t\t0.6377\n"
     ]
    }
   ],
   "source": [
    "from imblearn.over_sampling import RandomOverSampler\n",
    "ros = RandomOverSampler(random_state=42)\n",
    "\n",
    "# 数据集分割7:3\n",
    "x_train, x_test, y_train, y_test = train_test_split(x, y, test_size=0.3, random_state=100)\n",
    "x_train, y_train = ros.fit_resample(x_train, y_train)\n",
    "\n",
    "# 模型拟合\n",
    "lr.fit(x_train, y_train)\n",
    "\n",
    "# 模型预测\n",
    "y_pred_train = lr.predict(x_train)\n",
    "y_pred_test  = lr.predict(x_test)\n",
    "\n",
    "model_name.append('RandomOverSampler')\n",
    "evaluation_print(y_train, y_pred_train, y_test, y_pred_test)"
   ]
  },
  {
   "cell_type": "markdown",
   "metadata": {},
   "source": [
    "### SMOTE 上采样"
   ]
  },
  {
   "cell_type": "code",
   "execution_count": 1094,
   "metadata": {},
   "outputs": [
    {
     "name": "stdout",
     "output_type": "stream",
     "text": [
      "训练集的分类报告：\n",
      "              precision    recall  f1-score   support\n",
      "\n",
      "           0       0.61      0.69      0.65     15536\n",
      "           1       0.65      0.56      0.60     15536\n",
      "\n",
      "    accuracy                           0.63     31072\n",
      "   macro avg       0.63      0.63      0.62     31072\n",
      "weighted avg       0.63      0.63      0.62     31072\n",
      "\n",
      "测试集的分类报告：\n",
      "              precision    recall  f1-score   support\n",
      "\n",
      "           0       0.93      0.70      0.80      6666\n",
      "           1       0.19      0.56      0.28       844\n",
      "\n",
      "    accuracy                           0.68      7510\n",
      "   macro avg       0.56      0.63      0.54      7510\n",
      "weighted avg       0.84      0.68      0.74      7510\n",
      "\n"
     ]
    },
    {
     "data": {
      "image/png": "[encoded data removed]",
      "text/plain": [
       "<Figure size 432x288 with 1 Axes>"
      ]
     },
     "metadata": {
      "needs_background": "light"
     },
     "output_type": "display_data"
    },
    {
     "name": "stdout",
     "output_type": "stream",
     "text": [
      "train_acc\t test_acc\t precision\t recall\t\t f1-score\t AUC\n",
      "0.6265\t\t0.6838\t\t0.1900\t\t0.5557\t\t0.2831\t\t0.6278\n"
     ]
    }
   ],
   "source": [
    "from imblearn.over_sampling import SMOTE\n",
    "smote = SMOTE(random_state=42)\n",
    "\n",
    "\n",
    "# 数据集分割7:3\n",
    "x_train, x_test, y_train, y_test = train_test_split(x, y, test_size=0.3, random_state=100)\n",
    "x_train, y_train = smote.fit_resample(x_train, y_train)\n",
    "\n",
    "# 模型拟合\n",
    "lr.fit(x_train, y_train)\n",
    "\n",
    "# 模型预测\n",
    "y_pred_train = lr.predict(x_train)\n",
    "y_pred_test  = lr.predict(x_test)\n",
    "\n",
    "model_name.append('SMOTE')\n",
    "evaluation_print(y_train, y_pred_train, y_test, y_pred_test)"
   ]
  },
  {
   "cell_type": "markdown",
   "metadata": {},
   "source": [
    "### ADASYN上采样"
   ]
  },
  {
   "cell_type": "code",
   "execution_count": 1095,
   "metadata": {},
   "outputs": [
    {
     "name": "stdout",
     "output_type": "stream",
     "text": [
      "训练集的分类报告：\n",
      "              precision    recall  f1-score   support\n",
      "\n",
      "           0       0.58      0.62      0.60     15536\n",
      "           1       0.61      0.57      0.59     15938\n",
      "\n",
      "    accuracy                           0.59     31474\n",
      "   macro avg       0.59      0.59      0.59     31474\n",
      "weighted avg       0.59      0.59      0.59     31474\n",
      "\n",
      "测试集的分类报告：\n",
      "              precision    recall  f1-score   support\n",
      "\n",
      "           0       0.92      0.62      0.74      6666\n",
      "           1       0.16      0.59      0.26       844\n",
      "\n",
      "    accuracy                           0.62      7510\n",
      "   macro avg       0.54      0.61      0.50      7510\n",
      "weighted avg       0.84      0.62      0.69      7510\n",
      "\n"
     ]
    },
    {
     "data": {
      "image/png": "[encoded data removed]",
      "text/plain": [
       "<Figure size 432x288 with 1 Axes>"
      ]
     },
     "metadata": {
      "needs_background": "light"
     },
     "output_type": "display_data"
    },
    {
     "name": "stdout",
     "output_type": "stream",
     "text": [
      "train_acc\t test_acc\t precision\t recall\t\t f1-score\t AUC\n",
      "0.5943\t\t0.6157\t\t0.1644\t\t0.5924\t\t0.2573\t\t0.6055\n"
     ]
    }
   ],
   "source": [
    "from imblearn.over_sampling import ADASYN\n",
    "adasyn = ADASYN(random_state=42)\n",
    "\n",
    "# 数据集分割7:3\n",
    "x_train, x_test, y_train, y_test = train_test_split(x, y, test_size=0.3, random_state=100)\n",
    "x_train, y_train = adasyn.fit_resample(x_train, y_train)\n",
    "\n",
    "# 模型拟合\n",
    "lr.fit(x_train, y_train)\n",
    "\n",
    "# 模型预测\n",
    "y_pred_train = lr.predict(x_train)\n",
    "y_pred_test  = lr.predict(x_test)\n",
    "\n",
    "model_name.append('ADASYN')\n",
    "evaluation_print(y_train, y_pred_train, y_test, y_pred_test)"
   ]
  },
  {
   "cell_type": "markdown",
   "metadata": {},
   "source": [
    "### BorderlineSMOTE上采样"
   ]
  },
  {
   "cell_type": "code",
   "execution_count": 1096,
   "metadata": {},
   "outputs": [
    {
     "name": "stdout",
     "output_type": "stream",
     "text": [
      "训练集的分类报告：\n",
      "              precision    recall  f1-score   support\n",
      "\n",
      "           0       0.69      0.62      0.65     15536\n",
      "           1       0.65      0.72      0.69     15536\n",
      "\n",
      "    accuracy                           0.67     31072\n",
      "   macro avg       0.67      0.67      0.67     31072\n",
      "weighted avg       0.67      0.67      0.67     31072\n",
      "\n",
      "测试集的分类报告：\n",
      "              precision    recall  f1-score   support\n",
      "\n",
      "           0       0.92      0.62      0.74      6666\n",
      "           1       0.16      0.59      0.26       844\n",
      "\n",
      "    accuracy                           0.62      7510\n",
      "   macro avg       0.54      0.61      0.50      7510\n",
      "weighted avg       0.84      0.62      0.69      7510\n",
      "\n"
     ]
    },
    {
     "data": {
      "image/png": "[encoded data removed]",
      "text/plain": [
       "<Figure size 432x288 with 1 Axes>"
      ]
     },
     "metadata": {
      "needs_background": "light"
     },
     "output_type": "display_data"
    },
    {
     "name": "stdout",
     "output_type": "stream",
     "text": [
      "train_acc\t test_acc\t precision\t recall\t\t f1-score\t AUC\n",
      "0.6710\t\t0.6157\t\t0.1644\t\t0.5924\t\t0.2573\t\t0.6055\n"
     ]
    }
   ],
   "source": [
    "from imblearn.over_sampling import BorderlineSMOTE\n",
    "bsmote = BorderlineSMOTE(random_state=42)\n",
    "\n",
    "\n",
    "# 数据集分割7:3\n",
    "x_train, x_test, y_train, y_test = train_test_split(x, y, test_size=0.3, random_state=100)\n",
    "x_train, y_train = bsmote.fit_resample(x_train, y_train)\n",
    "\n",
    "# 模型拟合\n",
    "lr.fit(x_train, y_train)\n",
    "\n",
    "# 模型预测\n",
    "y_pred_train = lr.predict(x_train)\n",
    "y_pred_test  = lr.predict(x_test)\n",
    "\n",
    "model_name.append('BorderlineSMOTE')\n",
    "evaluation_print(y_train, y_pred_train, y_test, y_pred_test)"
   ]
  },
  {
   "cell_type": "markdown",
   "metadata": {},
   "source": [
    "### RENN下采样"
   ]
  },
  {
   "cell_type": "code",
   "execution_count": 1097,
   "metadata": {},
   "outputs": [
    {
     "name": "stdout",
     "output_type": "stream",
     "text": [
      "训练集的分类报告：\n",
      "              precision    recall  f1-score   support\n",
      "\n",
      "           0       0.89      0.99      0.94     11678\n",
      "           1       0.88      0.31      0.46      1987\n",
      "\n",
      "    accuracy                           0.89     13665\n",
      "   macro avg       0.89      0.65      0.70     13665\n",
      "weighted avg       0.89      0.89      0.87     13665\n",
      "\n",
      "测试集的分类报告：\n",
      "              precision    recall  f1-score   support\n",
      "\n",
      "           0       0.91      0.89      0.90      6666\n",
      "           1       0.27      0.31      0.29       844\n",
      "\n",
      "    accuracy                           0.83      7510\n",
      "   macro avg       0.59      0.60      0.59      7510\n",
      "weighted avg       0.84      0.83      0.83      7510\n",
      "\n"
     ]
    },
    {
     "data": {
      "image/png": "[encoded data removed]",
      "text/plain": [
       "<Figure size 432x288 with 1 Axes>"
      ]
     },
     "metadata": {
      "needs_background": "light"
     },
     "output_type": "display_data"
    },
    {
     "name": "stdout",
     "output_type": "stream",
     "text": [
      "train_acc\t test_acc\t precision\t recall\t\t f1-score\t AUC\n",
      "0.8935\t\t0.8276\t\t0.2678\t\t0.3081\t\t0.2865\t\t0.6007\n"
     ]
    }
   ],
   "source": [
    "from imblearn.under_sampling import RepeatedEditedNearestNeighbours\n",
    "renn = RepeatedEditedNearestNeighbours()\n",
    "\n",
    "\n",
    "# 数据集分割7:3\n",
    "x_train, x_test, y_train, y_test = train_test_split(x, y, test_size=0.3, random_state=100)\n",
    "x_train, y_train = renn.fit_resample(x_train, y_train)\n",
    "\n",
    "# 模型拟合\n",
    "lr.fit(x_train, y_train)\n",
    "\n",
    "# 模型预测\n",
    "y_pred_train = lr.predict(x_train)\n",
    "y_pred_test  = lr.predict(x_test)\n",
    "\n",
    "model_name.append('RENN')\n",
    "evaluation_print(y_train, y_pred_train, y_test, y_pred_test)"
   ]
  },
  {
   "cell_type": "markdown",
   "metadata": {},
   "source": [
    "### NearMiss下采样"
   ]
  },
  {
   "cell_type": "code",
   "execution_count": 1098,
   "metadata": {},
   "outputs": [
    {
     "name": "stdout",
     "output_type": "stream",
     "text": [
      "训练集的分类报告：\n",
      "              precision    recall  f1-score   support\n",
      "\n",
      "           0       0.62      0.72      0.67      1987\n",
      "           1       0.67      0.56      0.61      1987\n",
      "\n",
      "    accuracy                           0.64      3974\n",
      "   macro avg       0.64      0.64      0.64      3974\n",
      "weighted avg       0.64      0.64      0.64      3974\n",
      "\n",
      "测试集的分类报告：\n",
      "              precision    recall  f1-score   support\n",
      "\n",
      "           0       0.93      0.71      0.81      6666\n",
      "           1       0.20      0.56      0.29       844\n",
      "\n",
      "    accuracy                           0.70      7510\n",
      "   macro avg       0.56      0.64      0.55      7510\n",
      "weighted avg       0.85      0.70      0.75      7510\n",
      "\n"
     ]
    },
    {
     "data": {
      "image/png": "[encoded data removed]",
      "text/plain": [
       "<Figure size 432x288 with 1 Axes>"
      ]
     },
     "metadata": {
      "needs_background": "light"
     },
     "output_type": "display_data"
    },
    {
     "name": "stdout",
     "output_type": "stream",
     "text": [
      "train_acc\t test_acc\t precision\t recall\t\t f1-score\t AUC\n",
      "0.6397\t\t0.6959\t\t0.1982\t\t0.5604\t\t0.2929\t\t0.6367\n"
     ]
    }
   ],
   "source": [
    "from imblearn.under_sampling import NearMiss \n",
    "nm = NearMiss()\n",
    "\n",
    "\n",
    "# 数据集分割7:3\n",
    "x_train, x_test, y_train, y_test = train_test_split(x, y, test_size=0.3, random_state=100)\n",
    "x_train, y_train = nm.fit_resample(x_train, y_train)\n",
    "\n",
    "# 模型拟合\n",
    "lr.fit(x_train, y_train)\n",
    "\n",
    "# 模型预测\n",
    "y_pred_train = lr.predict(x_train)\n",
    "y_pred_test  = lr.predict(x_test)\n",
    "\n",
    "model_name.append('NearMiss')\n",
    "evaluation_print(y_train, y_pred_train, y_test, y_pred_test)"
   ]
  },
  {
   "cell_type": "markdown",
   "metadata": {},
   "source": [
    "### SMOTEENN组合采样"
   ]
  },
  {
   "cell_type": "code",
   "execution_count": 1099,
   "metadata": {},
   "outputs": [
    {
     "name": "stdout",
     "output_type": "stream",
     "text": [
      "训练集的分类报告：\n",
      "              precision    recall  f1-score   support\n",
      "\n",
      "           0       0.99      1.00      1.00     11122\n",
      "           1       0.93      0.90      0.91       619\n",
      "\n",
      "    accuracy                           0.99     11741\n",
      "   macro avg       0.96      0.95      0.95     11741\n",
      "weighted avg       0.99      0.99      0.99     11741\n",
      "\n",
      "测试集的分类报告：\n",
      "              precision    recall  f1-score   support\n",
      "\n",
      "           0       0.89      0.99      0.94      6666\n",
      "           1       0.36      0.07      0.11       844\n",
      "\n",
      "    accuracy                           0.88      7510\n",
      "   macro avg       0.63      0.53      0.52      7510\n",
      "weighted avg       0.83      0.88      0.84      7510\n",
      "\n"
     ]
    },
    {
     "data": {
      "image/png": "[encoded data removed]",
      "text/plain": [
       "<Figure size 432x288 with 1 Axes>"
      ]
     },
     "metadata": {
      "needs_background": "light"
     },
     "output_type": "display_data"
    },
    {
     "name": "stdout",
     "output_type": "stream",
     "text": [
      "train_acc\t test_acc\t precision\t recall\t\t f1-score\t AUC\n",
      "0.9908\t\t0.8819\t\t0.3613\t\t0.0664\t\t0.1121\t\t0.5257\n"
     ]
    }
   ],
   "source": [
    "from imblearn.combine import SMOTEENN\n",
    "smoteen = SMOTEENN(random_state=42)\n",
    "\n",
    "\n",
    "# 数据集分割7:3\n",
    "x_train, x_test, y_train, y_test = train_test_split(x, y, test_size=0.3, random_state=100)\n",
    "x_train, y_train = smoteen.fit_resample(x_train, y_train)\n",
    "\n",
    "# 模型拟合\n",
    "lr.fit(x_train, y_train)\n",
    "\n",
    "# 模型预测\n",
    "y_pred_train = lr.predict(x_train)\n",
    "y_pred_test  = lr.predict(x_test)\n",
    "\n",
    "model_name.append('SMOTEENN')\n",
    "evaluation_print(y_train, y_pred_train, y_test, y_pred_test)"
   ]
  },
  {
   "cell_type": "markdown",
   "metadata": {},
   "source": [
    "### SMOTETomek组合采样"
   ]
  },
  {
   "cell_type": "code",
   "execution_count": 1100,
   "metadata": {},
   "outputs": [
    {
     "name": "stdout",
     "output_type": "stream",
     "text": [
      "训练集的分类报告：\n",
      "              precision    recall  f1-score   support\n",
      "\n",
      "           0       0.61      0.69      0.65     15536\n",
      "           1       0.65      0.56      0.60     15536\n",
      "\n",
      "    accuracy                           0.63     31072\n",
      "   macro avg       0.63      0.63      0.62     31072\n",
      "weighted avg       0.63      0.63      0.62     31072\n",
      "\n",
      "测试集的分类报告：\n",
      "              precision    recall  f1-score   support\n",
      "\n",
      "           0       0.93      0.70      0.80      6666\n",
      "           1       0.19      0.56      0.28       844\n",
      "\n",
      "    accuracy                           0.68      7510\n",
      "   macro avg       0.56      0.63      0.54      7510\n",
      "weighted avg       0.84      0.68      0.74      7510\n",
      "\n"
     ]
    },
    {
     "data": {
      "image/png": "[encoded data removed]",
      "text/plain": [
       "<Figure size 432x288 with 1 Axes>"
      ]
     },
     "metadata": {
      "needs_background": "light"
     },
     "output_type": "display_data"
    },
    {
     "name": "stdout",
     "output_type": "stream",
     "text": [
      "train_acc\t test_acc\t precision\t recall\t\t f1-score\t AUC\n",
      "0.6265\t\t0.6838\t\t0.1900\t\t0.5557\t\t0.2831\t\t0.6278\n"
     ]
    }
   ],
   "source": [
    "from imblearn.combine import SMOTETomek\n",
    "smotet = SMOTETomek(random_state=42)\n",
    "\n",
    "\n",
    "# 数据集分割7:3\n",
    "x_train, x_test, y_train, y_test = train_test_split(x, y, test_size=0.3, random_state=100)\n",
    "x_train, y_train = smotet.fit_resample(x_train, y_train)\n",
    "\n",
    "# 模型拟合\n",
    "lr.fit(x_train, y_train)\n",
    "\n",
    "# 模型预测\n",
    "y_pred_train = lr.predict(x_train)\n",
    "y_pred_test  = lr.predict(x_test)\n",
    "\n",
    "model_name.append('SMOTETomek')\n",
    "evaluation_print(y_train, y_pred_train, y_test, y_pred_test)"
   ]
  },
  {
   "cell_type": "markdown",
   "metadata": {},
   "source": [
    "## 最终模型"
   ]
  },
  {
   "cell_type": "code",
   "execution_count": 1101,
   "metadata": {},
   "outputs": [
    {
     "data": {
      "text/plain": [
       "11"
      ]
     },
     "execution_count": 1101,
     "metadata": {},
     "output_type": "execute_result"
    }
   ],
   "source": [
    "len(test_aucs)"
   ]
  },
  {
   "cell_type": "code",
   "execution_count": 1102,
   "metadata": {
    "scrolled": false
   },
   "outputs": [
    {
     "data": {
      "text/html": [
       "<div>\n",
       "<style scoped>\n",
       "    .dataframe tbody tr th:only-of-type {\n",
       "        vertical-align: middle;\n",
       "    }\n",
       "\n",
       "    .dataframe tbody tr th {\n",
       "        vertical-align: top;\n",
       "    }\n",
       "\n",
       "    .dataframe thead th {\n",
       "        text-align: right;\n",
       "    }\n",
       "</style>\n",
       "<table border=\"1\" class=\"dataframe\">\n",
       "  <thead>\n",
       "    <tr style=\"text-align: right;\">\n",
       "      <th></th>\n",
       "      <th>method</th>\n",
       "      <th>train_acc</th>\n",
       "      <th>test_acc</th>\n",
       "      <th>precision</th>\n",
       "      <th>recall</th>\n",
       "      <th>f1_score</th>\n",
       "      <th>AUC</th>\n",
       "    </tr>\n",
       "  </thead>\n",
       "  <tbody>\n",
       "    <tr>\n",
       "      <th>0</th>\n",
       "      <td>Original</td>\n",
       "      <td>0.886435</td>\n",
       "      <td>0.886684</td>\n",
       "      <td>0.266667</td>\n",
       "      <td>0.004739</td>\n",
       "      <td>0.009313</td>\n",
       "      <td>0.501545</td>\n",
       "    </tr>\n",
       "    <tr>\n",
       "      <th>1</th>\n",
       "      <td>AddVariable</td>\n",
       "      <td>0.886035</td>\n",
       "      <td>0.887084</td>\n",
       "      <td>0.433333</td>\n",
       "      <td>0.015403</td>\n",
       "      <td>0.029748</td>\n",
       "      <td>0.506426</td>\n",
       "    </tr>\n",
       "    <tr>\n",
       "      <th>2</th>\n",
       "      <td>Balanced</td>\n",
       "      <td>0.705473</td>\n",
       "      <td>0.713182</td>\n",
       "      <td>0.205221</td>\n",
       "      <td>0.540284</td>\n",
       "      <td>0.297456</td>\n",
       "      <td>0.637679</td>\n",
       "    </tr>\n",
       "    <tr>\n",
       "      <th>3</th>\n",
       "      <td>RandomUnderSampler</td>\n",
       "      <td>0.636890</td>\n",
       "      <td>0.707457</td>\n",
       "      <td>0.201588</td>\n",
       "      <td>0.541469</td>\n",
       "      <td>0.293796</td>\n",
       "      <td>0.634971</td>\n",
       "    </tr>\n",
       "    <tr>\n",
       "      <th>4</th>\n",
       "      <td>RandomOverSampler</td>\n",
       "      <td>0.636457</td>\n",
       "      <td>0.713182</td>\n",
       "      <td>0.205221</td>\n",
       "      <td>0.540284</td>\n",
       "      <td>0.297456</td>\n",
       "      <td>0.637679</td>\n",
       "    </tr>\n",
       "    <tr>\n",
       "      <th>5</th>\n",
       "      <td>SMOTE</td>\n",
       "      <td>0.626513</td>\n",
       "      <td>0.683755</td>\n",
       "      <td>0.189955</td>\n",
       "      <td>0.555687</td>\n",
       "      <td>0.283127</td>\n",
       "      <td>0.627829</td>\n",
       "    </tr>\n",
       "    <tr>\n",
       "      <th>6</th>\n",
       "      <td>ADASYN</td>\n",
       "      <td>0.594300</td>\n",
       "      <td>0.615712</td>\n",
       "      <td>0.164366</td>\n",
       "      <td>0.592417</td>\n",
       "      <td>0.257334</td>\n",
       "      <td>0.605539</td>\n",
       "    </tr>\n",
       "    <tr>\n",
       "      <th>7</th>\n",
       "      <td>BorderlineSMOTE</td>\n",
       "      <td>0.671022</td>\n",
       "      <td>0.615712</td>\n",
       "      <td>0.164366</td>\n",
       "      <td>0.592417</td>\n",
       "      <td>0.257334</td>\n",
       "      <td>0.605539</td>\n",
       "    </tr>\n",
       "    <tr>\n",
       "      <th>8</th>\n",
       "      <td>RENN</td>\n",
       "      <td>0.893524</td>\n",
       "      <td>0.827563</td>\n",
       "      <td>0.267765</td>\n",
       "      <td>0.308057</td>\n",
       "      <td>0.286501</td>\n",
       "      <td>0.600698</td>\n",
       "    </tr>\n",
       "    <tr>\n",
       "      <th>9</th>\n",
       "      <td>NearMiss</td>\n",
       "      <td>0.639658</td>\n",
       "      <td>0.695872</td>\n",
       "      <td>0.198240</td>\n",
       "      <td>0.560427</td>\n",
       "      <td>0.292879</td>\n",
       "      <td>0.636724</td>\n",
       "    </tr>\n",
       "    <tr>\n",
       "      <th>10</th>\n",
       "      <td>SMOTEENN</td>\n",
       "      <td>0.990801</td>\n",
       "      <td>0.881891</td>\n",
       "      <td>0.361290</td>\n",
       "      <td>0.066351</td>\n",
       "      <td>0.112112</td>\n",
       "      <td>0.525750</td>\n",
       "    </tr>\n",
       "    <tr>\n",
       "      <th>11</th>\n",
       "      <td>SMOTETomek</td>\n",
       "      <td>0.626513</td>\n",
       "      <td>0.683755</td>\n",
       "      <td>0.189955</td>\n",
       "      <td>0.555687</td>\n",
       "      <td>0.283127</td>\n",
       "      <td>0.627829</td>\n",
       "    </tr>\n",
       "  </tbody>\n",
       "</table>\n",
       "</div>"
      ],
      "text/plain": [
       "                method  train_acc  test_acc  precision    recall  f1_score  \\\n",
       "0             Original   0.886435  0.886684   0.266667  0.004739  0.009313   \n",
       "1          AddVariable   0.886035  0.887084   0.433333  0.015403  0.029748   \n",
       "2             Balanced   0.705473  0.713182   0.205221  0.540284  0.297456   \n",
       "3   RandomUnderSampler   0.636890  0.707457   0.201588  0.541469  0.293796   \n",
       "4    RandomOverSampler   0.636457  0.713182   0.205221  0.540284  0.297456   \n",
       "5                SMOTE   0.626513  0.683755   0.189955  0.555687  0.283127   \n",
       "6               ADASYN   0.594300  0.615712   0.164366  0.592417  0.257334   \n",
       "7      BorderlineSMOTE   0.671022  0.615712   0.164366  0.592417  0.257334   \n",
       "8                 RENN   0.893524  0.827563   0.267765  0.308057  0.286501   \n",
       "9             NearMiss   0.639658  0.695872   0.198240  0.560427  0.292879   \n",
       "10            SMOTEENN   0.990801  0.881891   0.361290  0.066351  0.112112   \n",
       "11          SMOTETomek   0.626513  0.683755   0.189955  0.555687  0.283127   \n",
       "\n",
       "         AUC  \n",
       "0   0.501545  \n",
       "1   0.506426  \n",
       "2   0.637679  \n",
       "3   0.634971  \n",
       "4   0.637679  \n",
       "5   0.627829  \n",
       "6   0.605539  \n",
       "7   0.605539  \n",
       "8   0.600698  \n",
       "9   0.636724  \n",
       "10  0.525750  \n",
       "11  0.627829  "
      ]
     },
     "execution_count": 1102,
     "metadata": {},
     "output_type": "execute_result"
    }
   ],
   "source": [
    "models_evaluation = pd.DataFrame({'method':model_name, 'train_acc':train_accs, 'test_acc':test_accs, 'precision':precisions,  'recall': recalls, 'f1_score':f1_scores, 'AUC':AUCs})\n",
    "models_evaluation"
   ]
  },
  {
   "cell_type": "code",
   "execution_count": 1103,
   "metadata": {},
   "outputs": [
    {
     "data": {
      "text/plain": [
       "Text(0.5, 6.800000000000068, 'method')"
      ]
     },
     "execution_count": 1103,
     "metadata": {},
     "output_type": "execute_result"
    },
    {
     "data": {
      "image/png": "[encoded data removed]",
      "text/plain": [
       "<Figure size 1296x720 with 6 Axes>"
      ]
     },
     "metadata": {
      "needs_background": "light"
     },
     "output_type": "display_data"
    }
   ],
   "source": [
    "plt.figure(figsize=(18, 10))\n",
    "colors = ['r','g', 'b', 'orange', 'purple', 'black']\n",
    "cols = models_evaluation.columns.values\n",
    "for i in range(6):\n",
    "    plt.subplot(2, 3, i+1)\n",
    "    plt.plot(models_evaluation[cols[0]], models_evaluation[cols[i+1]], colors[i])\n",
    "    plt.tick_params(labelsize=14)\n",
    "    plt.ylabel(cols[i+1], size=14)\n",
    "    plt.xticks(rotation=90)\n",
    "    plt.tight_layout(h_pad=1)\n",
    "plt.xlabel(cols[0], size=14)"
   ]
  },
  {
   "cell_type": "markdown",
   "metadata": {},
   "source": [
    "- 经过上面多种改善数据不平衡方法的尝试，大部分方法都对原模型在精确率、召回率、f1-score有了不同程度的提升\n",
    "- 综合下来，选择各方面都较出色的更改损失函数的类别权重的方法"
   ]
  },
  {
   "cell_type": "code",
   "execution_count": 1106,
   "metadata": {},
   "outputs": [
    {
     "data": {
      "text/plain": [
       "LogisticRegression(class_weight='balanced', random_state=7)"
      ]
     },
     "execution_count": 1106,
     "metadata": {},
     "output_type": "execute_result"
    }
   ],
   "source": [
    "lr = linear_model.LogisticRegression(random_state=7, class_weight='balanced')  \n",
    "# 数据集分割7:3\n",
    "x_train, x_test, y_train, y_test = train_test_split(x, y, test_size=0.3, random_state=100)\n",
    "\n",
    "# 模型拟合\n",
    "lr.fit(x_train, y_train)\n"
   ]
  },
  {
   "cell_type": "code",
   "execution_count": 1107,
   "metadata": {},
   "outputs": [
    {
     "name": "stdout",
     "output_type": "stream",
     "text": [
      "c1_1的系数：1.0895\t概率比值：2.9728\n",
      "job_clean_low的系数：0.2608\t概率比值：1.2979\n",
      "c1_2的系数：1.1283\t概率比值：3.0903\n",
      "age_clean_>65的系数：1.0840\t概率比值：2.9566\n",
      "marital_single的系数：0.2590\t概率比值：1.2956\n",
      "marital_married的系数：-0.1856\t概率比值：0.8306\n",
      "loan_yes的系数：-0.5073\t概率比值：0.6021\n",
      "returned_yes的系数：-0.7893\t概率比值：0.4542\n"
     ]
    }
   ],
   "source": [
    "# 输出模型拟合后各个变量的系数和概率比值\n",
    "for var_name, coef, rate in zip(var, lr.coef_[0], np.exp(lr.coef_[0])):\n",
    "    print('{}的系数：{:.4f}\\t概率比值：{:.4f}'.format(var_name, coef, rate))"
   ]
  },
  {
   "cell_type": "markdown",
   "metadata": {},
   "source": [
    "c1_2系数解读\n",
    "- c1_2系数为1.1283，c1_2对应的coupon_ind变量是0和1。\n",
    "- 那么我们可以做出如下假设：\n",
    "    - 当c1_1=0时，用户前一个月使用优惠券不是1次，目标用户使用优惠券的概率是1-p\n",
    "    - 当c1_1=1时，用户前一个月使用优惠券为1次，目标用户使用优惠券的概率是p\n",
    "- 我们计算的系数，就是对应到事件发生(p)与不发生(1-p)概率比值的log转换\n",
    "    - 结合公式，即为ln(p/1-p)就等于1.1283，也就是说p/1-p=exp(1.1283)=3.0905。\n",
    "- 所以我们可以说，在前一个月使用了2次优惠券的用户在本次活动中使用优惠券的概率是其他用户3倍。\n",
    "\n",
    "job_clean_low系数解读\n",
    "- 本案例建立的模型中，job_clean_low系数为0.2608，job_clean_low对应的coupon_ind变量是0和1。\n",
    "- 那么我们可以做出如下假设：\n",
    "    - 当job_clean_low=0时，用户不是低收入群体，目标用户使用优惠券的概率是1-p\n",
    "    - 当job_clean_low=1时，用户是低收入群体，目标用户使用优惠券的概率是p\n",
    "- 我们计算的系数，就是对应到事件发生(p)与不发生(1-p)概率比值的log转换\n",
    "    - 结合公式，即为ln(p/1-p)就等于0.2608，也就是说p/1-p=exp(0.2608)=1.2979。\n",
    "- 所以我们可以说，低收入用户的优惠券使用概率是非低收入用户的1.3倍。\n",
    "\n",
    "同理\n",
    "- 年龄大于65岁的用户使用优惠券的概率是其他用户的3倍\n",
    "- 单身用户使用优惠券概率是其他用户的1.3倍\n",
    "- 已婚用户使用优惠券的概率是其他用户的0.83倍\n",
    "- 使用信用卡付款的用户使用优惠券的概率是不使用信用卡用户的0.6倍\n",
    "- 有退货行为的用户使用优惠券的概率是没有过退货行为用户的0.5倍"
   ]
  },
  {
   "cell_type": "markdown",
   "metadata": {},
   "source": [
    "# 业务解读"
   ]
  },
  {
   "cell_type": "markdown",
   "metadata": {},
   "source": [
    "- 使用拼多多APP的用户年龄主要在在20-70之间\n",
    "- 小于35岁和大于60岁的用户更倾向于使用优惠券\n",
    "- 而在35~60岁间的用户更倾向于不使用优惠券\n",
    "- 小于35岁的用户更倾向于使用优惠券的原因是比较好理解的，因为年轻用户对APP的使用更为熟悉，更容易掌握优惠券的用法，而大于60岁的用户由于数量比较少，是否能直接得出他们更倾向于使用优惠券这一结论是不太靠谱的；\n",
    "- 而35岁到60岁之间的用户随着年龄增长用户量也随之减少，不倾向于使用优惠券的原因可能是不清楚APP推出的优惠券活动，或者是因为经济能力比较好而无需费心使用优惠券。"
   ]
  },
  {
   "cell_type": "markdown",
   "metadata": {},
   "source": [
    "- 用户过去6个月优惠券使用数量大部分少于0-10次"
   ]
  },
  {
   "cell_type": "markdown",
   "metadata": {},
   "source": [
    "- 用户过去1个月优惠券使用数量大部分少于2次"
   ]
  },
  {
   "cell_type": "markdown",
   "metadata": {},
   "source": [
    "- 在所有职业中，蓝领用户最多，其次是管理人员, 技术人员, 行政人员, 服务行业人员\n",
    "- 使用了优惠券的用户中，管理人员最多，其次是技术人员, 蓝领用户, 行政人员, 服务行业人员\n",
    "- 但是在各个职业群体中，优惠券使用率最高的是学生、退休人员、无业、管理人员、行政人员"
   ]
  },
  {
   "cell_type": "markdown",
   "metadata": {},
   "source": [
    "- 在所有用户中，已婚用户数量最多\n",
    "- 单身用户的优惠券使用率最高（14.6%）"
   ]
  },
  {
   "cell_type": "markdown",
   "metadata": {},
   "source": [
    "- 只有少数用户信用卡违约\n",
    "- 没有信用卡违约的用户的优惠券使用率为11.4%"
   ]
  },
  {
   "cell_type": "markdown",
   "metadata": {},
   "source": [
    "- 退货的用户较多\n",
    "- 未退货的用户使用优惠券使用率（16.1%）比退货的用户（7.5%）要高"
   ]
  },
  {
   "cell_type": "markdown",
   "metadata": {},
   "source": [
    "- 大部分用户不使用信用卡付款\n",
    "- 不使用信用卡付款的用户的优惠券使用率（12.2%）比使用信用卡付款（6.9%）的高"
   ]
  },
  {
   "cell_type": "markdown",
   "metadata": {},
   "source": [
    "- 前一个月使用了2次优惠券的用户在本次活动中使用优惠券的概率是其他用户3倍\n",
    "- 低收入用户的优惠券使用概率是非低收入用户的1.3倍。\n",
    "- 年龄大于65岁的用户使用优惠券的概率是其他用户的3倍\n",
    "- 单身用户使用优惠券概率是其他用户的1.3倍\n",
    "- 未婚用户使用优惠券的概率是已婚用户的0.83倍\n",
    "- 不使用信用卡付款的用户使用优惠券的概率是使用信用卡用户的0.6倍\n",
    "- 不退货的用户使用优惠券的概率是退货用户的0.5倍"
   ]
  },
  {
   "cell_type": "markdown",
   "metadata": {},
   "source": [
    "# 业务建议"
   ]
  },
  {
   "cell_type": "markdown",
   "metadata": {},
   "source": [
    "- 持续关注年轻人（小于35岁）和老年人（大于60岁）用户的使用优惠券情况，保持这部分群体的优惠券使用率\n",
    "- 低收入群体，包括学生、老人、无业人员往往更倾向于使用优惠券，可以向这部分人投放更多优惠券\n",
    "- 老年人、单身用户、不使用信用卡付款、没有过退货行为的用户比他们相反群体的用户的优惠券使用概率要高，可以向这部分人投放更多优惠券\n",
    "- 中高收入群体是APP的主要使用群体，要想办法提高他们的优惠券使用率"
   ]
  }
 ],
 "metadata": {
  "kernelspec": {
   "display_name": "Python 3",
   "language": "python",
   "name": "python3"
  },
  "language_info": {
   "codemirror_mode": {
    "name": "ipython",
    "version": 3
   },
   "file_extension": ".py",
   "mimetype": "text/x-python",
   "name": "python",
   "nbconvert_exporter": "python",
   "pygments_lexer": "ipython3",
   "version": "3.7.3"
  },
  "toc": {
   "base_numbering": 1,
   "nav_menu": {},
   "number_sections": true,
   "sideBar": true,
   "skip_h1_title": false,
   "title_cell": "Table of Contents",
   "title_sidebar": "Contents",
   "toc_cell": false,
   "toc_position": {
    "height": "calc(100% - 180px)",
    "left": "10px",
    "top": "150px",
    "width": "318px"
   },
   "toc_section_display": true,
   "toc_window_display": true
  }
 },
 "nbformat": 4,
 "nbformat_minor": 2
}
